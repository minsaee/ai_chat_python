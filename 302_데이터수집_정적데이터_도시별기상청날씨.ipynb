{
  "nbformat": 4,
  "nbformat_minor": 0,
  "metadata": {
    "colab": {
      "provenance": [],
      "authorship_tag": "ABX9TyNTPSzsOwjMJkKVnq60bY6K",
      "include_colab_link": true
    },
    "kernelspec": {
      "name": "python3",
      "display_name": "Python 3"
    },
    "language_info": {
      "name": "python"
    }
  },
  "cells": [
    {
      "cell_type": "markdown",
      "metadata": {
        "id": "view-in-github",
        "colab_type": "text"
      },
      "source": [
        "<a href=\"https://colab.research.google.com/github/minsaee/ai_chat_python/blob/master/302_%EB%8D%B0%EC%9D%B4%ED%84%B0%EC%88%98%EC%A7%91_%EC%A0%95%EC%A0%81%EB%8D%B0%EC%9D%B4%ED%84%B0_%EB%8F%84%EC%8B%9C%EB%B3%84%EA%B8%B0%EC%83%81%EC%B2%AD%EB%82%A0%EC%94%A8.ipynb\" target=\"_parent\"><img src=\"https://colab.research.google.com/assets/colab-badge.svg\" alt=\"Open In Colab\"/></a>"
      ]
    },
    {
      "cell_type": "code",
      "source": [
        "from google.colab import drive\n",
        "drive.mount('/content/drive')"
      ],
      "metadata": {
        "colab": {
          "base_uri": "https://localhost:8080/"
        },
        "id": "xa7Wfkzm2zuP",
        "outputId": "d4976cce-e201-4288-f147-5a2badf70457"
      },
      "execution_count": 207,
      "outputs": [
        {
          "output_type": "stream",
          "name": "stdout",
          "text": [
            "Drive already mounted at /content/drive; to attempt to forcibly remount, call drive.mount(\"/content/drive\", force_remount=True).\n"
          ]
        }
      ]
    },
    {
      "cell_type": "code",
      "source": [
        "%cd /content/drive/MyDrive/ai_chat_python"
      ],
      "metadata": {
        "colab": {
          "base_uri": "https://localhost:8080/"
        },
        "id": "0h2v9QV720ye",
        "outputId": "a169a8a4-235c-4820-db0c-561c62c08313"
      },
      "execution_count": 208,
      "outputs": [
        {
          "output_type": "stream",
          "name": "stdout",
          "text": [
            "/content/drive/MyDrive/ai_chat_python\n"
          ]
        }
      ]
    },
    {
      "cell_type": "code",
      "execution_count": 209,
      "metadata": {
        "id": "WKrLN_04xbfZ"
      },
      "outputs": [],
      "source": [
        "from bs4 import BeautifulSoup\n",
        "import requests"
      ]
    },
    {
      "cell_type": "code",
      "source": [
        "# url 가져오기\n",
        "\n",
        "url = 'https://www.weather.go.kr/w/obs-climate/land/city-obs.do'\n",
        "res = requests.get(url)\n",
        "print(res) # Response [200]"
      ],
      "metadata": {
        "colab": {
          "base_uri": "https://localhost:8080/"
        },
        "id": "g4sByM7dyKf4",
        "outputId": "7032908a-66a5-4038-efae-d5872b86b7fa"
      },
      "execution_count": 243,
      "outputs": [
        {
          "output_type": "stream",
          "name": "stdout",
          "text": [
            "<Response [200]>\n"
          ]
        }
      ]
    },
    {
      "cell_type": "code",
      "source": [
        "soup = BeautifulSoup(res.text, 'html.parser')\n",
        "# print(soup)\n",
        "print(type(soup)) # bs4.BeautifulSoup"
      ],
      "metadata": {
        "colab": {
          "base_uri": "https://localhost:8080/"
        },
        "id": "6kY-coVUyYHZ",
        "outputId": "db0427f9-94ea-40e8-88cf-ac4c7b259f1a"
      },
      "execution_count": 244,
      "outputs": [
        {
          "output_type": "stream",
          "name": "stdout",
          "text": [
            "<class 'bs4.BeautifulSoup'>\n"
          ]
        }
      ]
    },
    {
      "cell_type": "code",
      "source": [
        "result = []\n",
        "\n",
        "tbody_tag = soup.find('tbody') # tbody_tag = soup.select_one('tbody)\n",
        "# print(tbody_tag)\n",
        "# print(type(tbody_tag)) # bs4.element.Tag\n",
        "\n",
        "tr_rs_tag = tbody_tag.find_all('tr')\n",
        "# print(tr_rs_tag)\n",
        "# print(type(tr_rs_tag)) # bs4.element.ResultSet\n",
        "# print(len(tr_rs_tag)) # 97\n",
        "\n",
        "for tr_tag in tr_rs_tag:\n",
        "  td_rs_tag = tr_tag.find_all('td')\n",
        "  city = td_rs_tag[0].string     # 도시이름\n",
        "  cur_temp = td_rs_tag[5].text # 현재기온\n",
        "  sen_temp = td_rs_tag[7].string # 체감온도\n",
        "  result.append([city]+[cur_temp]+[sen_temp])"
      ],
      "metadata": {
        "id": "2btFVSiIy_yT"
      },
      "execution_count": 254,
      "outputs": []
    },
    {
      "cell_type": "code",
      "source": [
        "for element in result:\n",
        "  print(element)\n",
        "  break"
      ],
      "metadata": {
        "colab": {
          "base_uri": "https://localhost:8080/"
        },
        "id": "NDocAr8R1bpa",
        "outputId": "ec2681c3-df61-4725-ec3f-5b97f0caaadf"
      },
      "execution_count": 246,
      "outputs": [
        {
          "output_type": "stream",
          "name": "stdout",
          "text": [
            "['강릉', '6.7', '3.9']\n"
          ]
        }
      ]
    },
    {
      "cell_type": "code",
      "source": [
        "import datetime\n",
        "\n",
        "to_now = datetime.datetime.now()\n",
        "to_now = to_now.strftime('%Y-%m-%d %H:%M:%s')\n",
        "to_now"
      ],
      "metadata": {
        "colab": {
          "base_uri": "https://localhost:8080/",
          "height": 35
        },
        "id": "QymI9fVq1uIg",
        "outputId": "bfe3b905-b547-4cef-a096-5ab005d626fb"
      },
      "execution_count": 247,
      "outputs": [
        {
          "output_type": "execute_result",
          "data": {
            "text/plain": [
              "'2023-11-28 06:19:1701152379'"
            ],
            "application/vnd.google.colaboratory.intrinsic+json": {
              "type": "string"
            }
          },
          "metadata": {},
          "execution_count": 247
        }
      ]
    },
    {
      "cell_type": "code",
      "source": [
        "import csv\n",
        "# import copy\n",
        "\n",
        "fields = ['City', 'CurTemp', 'SenTemp']\n",
        "\n",
        "with open('./source/{}-weather.csv'.format(to_now), 'w', encoding='cp949') as f :\n",
        "  writer = csv.writer(f)\n",
        "  writer.writerow(fields)\n",
        "  writer.writerows(result)\n",
        "# del result[:]\n",
        "\n",
        "# writer.writerows(copy.deepcopy(result))"
      ],
      "metadata": {
        "id": "3uA8CzDB1-Yw"
      },
      "execution_count": 255,
      "outputs": []
    },
    {
      "cell_type": "code",
      "source": [
        "len(result)"
      ],
      "metadata": {
        "colab": {
          "base_uri": "https://localhost:8080/"
        },
        "id": "tQjbd_3mlO5p",
        "outputId": "ebd749ab-3432-4d10-9477-dc1b2fc0bc7e"
      },
      "execution_count": 256,
      "outputs": [
        {
          "output_type": "execute_result",
          "data": {
            "text/plain": [
              "97"
            ]
          },
          "metadata": {},
          "execution_count": 256
        }
      ]
    },
    {
      "cell_type": "code",
      "source": [
        "import csv\n",
        "\n",
        "with open('./source/{}-weather.csv'.format(to_now), 'r', encoding='cp949') as f:\n",
        "  reader = csv.reader(f)\n",
        "  for row in reader:\n",
        "    print(','.join(row))"
      ],
      "metadata": {
        "colab": {
          "base_uri": "https://localhost:8080/"
        },
        "id": "IPznQCRZ4qFP",
        "outputId": "dc09eebb-5699-44d4-d3b5-1f7dc9cc0a75"
      },
      "execution_count": 257,
      "outputs": [
        {
          "output_type": "stream",
          "name": "stdout",
          "text": [
            "City,CurTemp,SenTemp\n",
            "강릉,6.7,3.9\n",
            "강진군,9.3,7.3\n",
            "강화,1.9,-2.5\n",
            "거제,10.3,10.3\n",
            "거창,5.8,3.2\n",
            "경주시,9.1,5.6\n",
            "고산,11.2,11.2\n",
            "고창,6.9,4.0\n",
            "고창군,6.8,4.7\n",
            "고흥,11.1,11.1\n",
            "광양시,10.4,10.4\n",
            "광주,8.1,8.1\n",
            "구미,7.0,5.3\n",
            "군산,5.9,3.1\n",
            "금산,6.6,5.0\n",
            "김해시,11.3,11.3\n",
            "남원,6.6,3.8\n",
            "남해,10.2,10.2\n",
            "대관령,-1.8,-9.8\n",
            "대구,8.9,6.2\n",
            "대전,6.1,4.0\n",
            "동두천,2.2,-1.5\n",
            "동해,7.2,4.3\n",
            "목포,7.5,4.3\n",
            "문경,4.4,0.6\n",
            "밀양,10.4,10.4\n",
            "백령도,1.6,-3.1\n",
            "보령,4.0,2.2\n",
            "보성군,9.6,6.8\n",
            "보은,4.9,2.2\n",
            "봉화,4.0,0.4\n",
            "부산,12.1,12.1\n",
            "부안,7.1,6.5\n",
            "부여,6.1,3.4\n",
            "북강릉,6.4,3.8\n",
            "북부산,12.2,12.2\n",
            "북창원,10.3,10.3\n",
            "북춘천,3.8,0.4\n",
            "산청,7.8,4.6\n",
            "상주,6.2,3.4\n",
            "서귀포,12.6,12.6\n",
            "서산,3.5,2.1\n",
            "서울,3.4,-0.7\n",
            "서청주,4.4,1.0\n",
            "성산,11.4,11.4\n",
            "세종,6.0,3.8\n",
            "속초,5.3,2.0\n",
            "수원,3.0,0.2\n",
            "순창군,6.9,4.2\n",
            "순천,7.5,3.9\n",
            "안동,6.1,2.7\n",
            "양산시,11.5,11.5\n",
            "양평,3.9,0.3\n",
            "여수,10.3,10.3\n",
            "영광군,8.4,7.5\n",
            "영덕,7.5,3.8\n",
            "영월,4.2,1.0\n",
            "영주,3.7,-1.5\n",
            "영천,8.1,5.4\n",
            "완도,10.5,10.5\n",
            "울릉도,5.9,2.7\n",
            "울산,10.2,10.2\n",
            "울진,8.0,5.3\n",
            "원주,4.4,1.0\n",
            "의령군,9.9,7.0\n",
            "의성,7.3,4.2\n",
            "이천,5.1,2.3\n",
            "인제,3.1,1.8\n",
            "인천,2.1,-1.7\n",
            "임실,5.7,3.3\n",
            "장수,3.8,0.2\n",
            "장흥,9.3,7.7\n",
            "전주,7.0,4.1\n",
            "정선군,2.0,-1.3\n",
            "정읍,6.7,5.2\n",
            "제주,11.8,11.8\n",
            "제천,2.7,-1.2\n",
            "진도군,8.9,7.1\n",
            "진주,10.1,10.1\n",
            "창원,9.8,8.8\n",
            "천안,4.5,2.3\n",
            "철원,2.0,-0.8\n",
            "청송군,5.1,0.6\n",
            "청주,5.9,5.9\n",
            "추풍령,4.8,0.3\n",
            "춘천,4.8,2.0\n",
            "충주,4.0,0.7\n",
            "태백,-0.2,-2.6\n",
            "통영,10.5,10.5\n",
            "파주,2.7,-0.5\n",
            "포항,9.0,6.3\n",
            "함양군,6.8,3.4\n",
            "합천,9.0,7.2\n",
            "해남,9.4,7.1\n",
            "홍성,5.1,3.7\n",
            "홍천,3.8,0.8\n",
            "흑산도,9.2,6.7\n"
          ]
        }
      ]
    },
    {
      "cell_type": "code",
      "source": [
        "    # for row in result:\n",
        "      # writer.writerows(copy.deepcopy(result))"
      ],
      "metadata": {
        "id": "QKlAjEuxGoeb"
      },
      "execution_count": 217,
      "outputs": []
    },
    {
      "cell_type": "code",
      "source": [
        "%%writefile ./source/weather.py\n",
        "\n",
        "from bs4 import BeautifulSoup\n",
        "import requests\n",
        "import csv\n",
        "import datetime\n",
        "\n",
        "result = []\n",
        "# rowdata = []\n",
        "\n",
        "def weather_process():\n",
        "  url = 'https://www.weather.go.kr/w/obs-climate/land/city-obs.do'\n",
        "  res = requests.get(url)\n",
        "  soup = BeautifulSoup(res.text, 'html.parser')\n",
        "\n",
        "  tbody_tag = soup.find('tbody')\n",
        "  tr_rs_tag = tbody_tag.find_all('tr')\n",
        "\n",
        "  for tr_tag in tr_rs_tag:\n",
        "    td_rs_tag = tr_tag.find_all('td')\n",
        "    city = td_rs_tag[0].string\n",
        "    cur_temp = td_rs_tag[5].text\n",
        "    sen_temp = td_rs_tag[7].string\n",
        "    result.append([city]+[cur_temp]+[sen_temp])\n",
        "\n",
        "  # global rowdata\n",
        "  # rowdata = result.copy()\n",
        "\n",
        "def weather_save(to_now):\n",
        "  fields = ['City', 'CurTemp', 'SenTemp']\n",
        "\n",
        "  with open('./source/{}-weather.csv'.format(to_now), 'w', encoding='cp949') as f :\n",
        "    writer = csv.writer(f)\n",
        "    writer.writerow(fields)\n",
        "    writer.writerows(result)\n",
        "    # writer.writerows(rowdata)\n",
        "  # del result[:]\n",
        "\n",
        "  print('weather 데이터 저장 완료')\n",
        "\n",
        "\n",
        "def weather_load(to_now):\n",
        "  with open('./source/{}-weather.csv'.format(to_now), 'r', encoding='cp949') as f:\n",
        "    reader = csv.reader(f)\n",
        "\n",
        "    for row in reader:\n",
        "      print(','.join(row))\n",
        "\n",
        "\n",
        "if __name__=='__main__':\n",
        "  to_now = datetime.datetime.now()\n",
        "  to_now = to_now.strftime('%Y-%m-%d %H:%M:%s')\n",
        "  weather_process()\n",
        "  weather_save(to_now)\n",
        "  weather_load(to_now)\n"
      ],
      "metadata": {
        "colab": {
          "base_uri": "https://localhost:8080/"
        },
        "id": "TS1agapw8Zzt",
        "outputId": "28e9ee78-6d6f-494b-f24b-da51ec56aae8"
      },
      "execution_count": 218,
      "outputs": [
        {
          "output_type": "stream",
          "name": "stdout",
          "text": [
            "Overwriting ./source/weather.py\n"
          ]
        }
      ]
    },
    {
      "cell_type": "code",
      "source": [
        "!python ./source/weather.py"
      ],
      "metadata": {
        "colab": {
          "base_uri": "https://localhost:8080/"
        },
        "id": "3Vws5W_REKDT",
        "outputId": "c26bd1dd-7bca-46da-bc75-468e22e031cf"
      },
      "execution_count": 219,
      "outputs": [
        {
          "output_type": "stream",
          "name": "stdout",
          "text": [
            "weather 데이터 저장 완료\n",
            "City,CurTemp,SenTemp\n",
            "강릉,6.7,3.9\n",
            "강진군,9.3,7.3\n",
            "강화,1.9,-2.5\n",
            "거제,10.3,10.3\n",
            "거창,5.8,3.2\n",
            "경주시,9.1,5.6\n",
            "고산,11.2,11.2\n",
            "고창,6.9,4.0\n",
            "고창군,6.8,4.7\n",
            "고흥,11.1,11.1\n",
            "광양시,10.4,10.4\n",
            "광주,8.1,8.1\n",
            "구미,7.0,5.3\n",
            "군산,5.9,3.1\n",
            "금산,6.6,5.0\n",
            "김해시,11.3,11.3\n",
            "남원,6.6,3.8\n",
            "남해,10.2,10.2\n",
            "대관령,-1.8,-9.8\n",
            "대구,8.9,6.2\n",
            "대전,6.1,4.0\n",
            "동두천,2.2,-1.5\n",
            "동해,7.2,4.3\n",
            "목포,7.5,4.3\n",
            "문경,4.4,0.6\n",
            "밀양,10.4,10.4\n",
            "백령도,1.6,-3.1\n",
            "보령,4.0,2.2\n",
            "보성군,9.6,6.8\n",
            "보은,4.9,2.2\n",
            "봉화,4.0,0.4\n",
            "부산,12.1,12.1\n",
            "부안,7.1,6.5\n",
            "부여,6.1,3.4\n",
            "북강릉,6.4,3.8\n",
            "북부산,12.2,12.2\n",
            "북창원,10.3,10.3\n",
            "북춘천,3.8,0.4\n",
            "산청,7.8,4.6\n",
            "상주,6.2,3.4\n",
            "서귀포,12.6,12.6\n",
            "서산,3.5,2.1\n",
            "서울,3.4,-0.7\n",
            "서청주,4.4,1.0\n",
            "성산,11.4,11.4\n",
            "세종,6.0,3.8\n",
            "속초,5.3,2.0\n",
            "수원,3.0,0.2\n",
            "순창군,6.9,4.2\n",
            "순천,7.5,3.9\n",
            "안동,6.1,2.7\n",
            "양산시,11.5,11.5\n",
            "양평,3.9,0.3\n",
            "여수,10.3,10.3\n",
            "영광군,8.4,7.5\n",
            "영덕,7.5,3.8\n",
            "영월,4.2,1.0\n",
            "영주,3.7,-1.5\n",
            "영천,8.1,5.4\n",
            "완도,10.5,10.5\n",
            "울릉도,5.9,2.7\n",
            "울산,10.2,10.2\n",
            "울진,8.0,5.3\n",
            "원주,4.4,1.0\n",
            "의령군,9.9,7.0\n",
            "의성,7.3,4.2\n",
            "이천,5.1,2.3\n",
            "인제,3.1,1.8\n",
            "인천,2.1,-1.7\n",
            "임실,5.7,3.3\n",
            "장수,3.8,0.2\n",
            "장흥,9.3,7.7\n",
            "전주,7.0,4.1\n",
            "정선군,2.0,-1.3\n",
            "정읍,6.7,5.2\n",
            "제주,11.8,11.8\n",
            "제천,2.7,-1.2\n",
            "진도군,8.9,7.1\n",
            "진주,10.1,10.1\n",
            "창원,9.8,8.8\n",
            "천안,4.5,2.3\n",
            "철원,2.0,-0.8\n",
            "청송군,5.1,0.6\n",
            "청주,5.9,5.9\n",
            "추풍령,4.8,0.3\n",
            "춘천,4.8,2.0\n",
            "충주,4.0,0.7\n",
            "태백,-0.2,-2.6\n",
            "통영,10.5,10.5\n",
            "파주,2.7,-0.5\n",
            "포항,9.0,6.3\n",
            "함양군,6.8,3.4\n",
            "합천,9.0,7.2\n",
            "해남,9.4,7.1\n",
            "홍성,5.1,3.7\n",
            "홍천,3.8,0.8\n",
            "흑산도,9.2,6.7\n"
          ]
        }
      ]
    },
    {
      "cell_type": "markdown",
      "source": [
        "python에서는 재귀호출 횟수가 1000회로 한정되어 있어\n",
        "```\n",
        "import sys\n",
        "sys.setrecursionlimit(10000)\n",
        "```\n",
        "로 늘릴 수 있다. (colab은 시스템다운)"
      ],
      "metadata": {
        "id": "1-C5GVdbH4Oy"
      }
    }
  ]
}