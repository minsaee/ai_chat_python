{
  "nbformat": 4,
  "nbformat_minor": 0,
  "metadata": {
    "colab": {
      "provenance": [],
      "authorship_tag": "ABX9TyMfpTuIsOYSjpiKo4P+hXgA",
      "include_colab_link": true
    },
    "kernelspec": {
      "name": "python3",
      "display_name": "Python 3"
    },
    "language_info": {
      "name": "python"
    }
  },
  "cells": [
    {
      "cell_type": "markdown",
      "metadata": {
        "id": "view-in-github",
        "colab_type": "text"
      },
      "source": [
        "<a href=\"https://colab.research.google.com/github/minsaee/ai_chat_python/blob/master/605_%EA%B8%B0%EA%B3%84%ED%95%99%EC%8A%B5_%ED%9A%8C%EA%B7%80%EB%B6%84%EC%84%9D_%EC%84%B1%EB%8A%A5%ED%8F%89%EA%B0%80.ipynb\" target=\"_parent\"><img src=\"https://colab.research.google.com/assets/colab-badge.svg\" alt=\"Open In Colab\"/></a>"
      ]
    },
    {
      "cell_type": "markdown",
      "source": [
        "【모델 예측 성능평가】\n",
        "- 모델 예측 성능평가하는 학습모델이 실제값을 얼마나 정확하게 맞추었는지를  나타내는 것이다.\n",
        "- 머신러닝 모델은 여러가지 방법으로 예측 성능을 평가할 수 있다.\n",
        "- 이를 성능평가지표(Evaluation Metric)라 하며, 일반적으로 분석 알고리즘이 회귀분석인지 분류분석인지에 따라 여러 종류가 있다.\n",
        "-  회귀분석 성능평가 종류\n",
        "\n",
        "|종류\t|\t잔차 계산 |\t이상치 영향|\n",
        "|---|---|---|\n",
        "|MAE\t(Mean Absolute Error) |\tAbsolute Value|\tYes|\n",
        "|MSE\t(Mean Squared Error)\t|Square|\tNo|\n",
        "|RMSE\t(Root Mean Squared Error) |\tSquare|\tNo|\n",
        "|MAPE\t(Mean Absolute Percentage Error)\t| Absolute Value|\t Yes|\n",
        "|MPE\t(Mean Percentage Error)\t|N/A\t|Yes|"
      ],
      "metadata": {
        "id": "OXubaWDhQHOs"
      }
    },
    {
      "cell_type": "markdown",
      "source": [
        "### 1. 평균 절대 오차 (MAE : Mean Absolute Error)\n",
        "- 실제 값과 예측 값의 차이(Error)를 절대값으로 변환해 평균한다.\n",
        "- MAE는 에러에 절대값을 취하기 때문에 에러의 크기 그대로 반영된다.\n",
        "- 에러에 따른 손실이 선형적으로 올라갈 때 적합하다.\n",
        "- 0에 가까울수록 좋은 모델이라고 할 수 있다.\n",
        "- 이상치에 영향을 받는다.\n",
        "- 회귀평가를 위한 지표로 주로 쓰인다\n",
        "\n",
        " $$ MAE = \\frac{1}{n}\\sum_{i=1}^{n} |Y_i-\\hat{Y_i}|$$"
      ],
      "metadata": {
        "id": "V2Jn-IYPRvT_"
      }
    },
    {
      "cell_type": "code",
      "source": [
        "import numpy as np\n",
        "testVAI = np.array([1, 1.7, 1.5])\n",
        "predVAI = np.array([1.1, 2, 1.7])\n",
        "print(testVAI - predVAI)\n",
        "\n",
        "mae = sum(np.abs(testVAI-predVAI))/len(predVAI)\n",
        "print(mae)"
      ],
      "metadata": {
        "colab": {
          "base_uri": "https://localhost:8080/"
        },
        "id": "pxEx3YlhSUf3",
        "outputId": "a11986e3-acd8-488b-9f6d-eb3f8486b807"
      },
      "execution_count": 2,
      "outputs": [
        {
          "output_type": "stream",
          "name": "stdout",
          "text": [
            "[-0.1 -0.3 -0.2]\n",
            "0.20000000000000004\n"
          ]
        }
      ]
    },
    {
      "cell_type": "code",
      "source": [
        "# sklearn의 mean_absolute_error()로 계산하기.\n",
        "from sklearn.metrics import mean_absolute_error\n",
        "testVAI = np.array([1, 1.7, 1.5])\n",
        "predVAI = np.array([1.1, 2, 1.7])\n",
        "mean_absolute_error(testVAI, predVAI)"
      ],
      "metadata": {
        "colab": {
          "base_uri": "https://localhost:8080/"
        },
        "id": "6uzRkvOKS2MB",
        "outputId": "113b1d32-8112-40b7-cccd-5fcbc0f0e56e"
      },
      "execution_count": 7,
      "outputs": [
        {
          "output_type": "execute_result",
          "data": {
            "text/plain": [
              "0.20000000000000004"
            ]
          },
          "metadata": {},
          "execution_count": 7
        }
      ]
    },
    {
      "cell_type": "markdown",
      "source": [
        "### 2 평균 제곱 오차(MSE : Mean Squared Error)\n",
        "\n",
        "- 실제값과 예측값의 차이를 제곱해 평균한다.\n",
        "- 예측값과 실제값 차이의 면적의 평균과 같다.\n",
        "- 이상값(특이값)이 존재하면 수치가 많이 늘어난다.\n",
        "- MSE가 0에 가까울수록 추측한 값이 원본에 가까운 것이기 때문에 정확도가 높다고 할 수 있다.\n",
        "\n",
        "\n",
        " $$ MSE = \\frac{1}{n}\\sum_{i=1}^{n} (Y_i-\\hat{Y_i})^2$$"
      ],
      "metadata": {
        "id": "NfzuyaXpTV5i"
      }
    },
    {
      "cell_type": "code",
      "source": [
        "import numpy as np\n",
        "testVAI = np.array([1, 1.7, 1.5])\n",
        "predVAI = np.array([1.1, 2, 1.7])\n",
        "\n",
        "mse = sum((testVAI-predVAI)**2)/len(predVAI)\n",
        "print(mse)"
      ],
      "metadata": {
        "colab": {
          "base_uri": "https://localhost:8080/"
        },
        "id": "xgGPI5JsVJdG",
        "outputId": "bb170550-72dd-4391-e0e7-e6bf631a51e2"
      },
      "execution_count": 8,
      "outputs": [
        {
          "output_type": "stream",
          "name": "stdout",
          "text": [
            "0.04666666666666667\n"
          ]
        }
      ]
    },
    {
      "cell_type": "code",
      "source": [
        "# sklearn의 mean_squared_error()로 계산하기.\n",
        "from sklearn.metrics import mean_squared_error\n",
        "testVAI = np.array([1, 1.7, 1.5])\n",
        "predVAI = np.array([1.1, 2, 1.7])\n",
        "\n",
        "# squared : defult = True\n",
        "# True return MSE\n",
        "print(mean_squared_error(testVAI, predVAI))\n",
        "print(mean_squared_error(testVAI, predVAI, squared = True))"
      ],
      "metadata": {
        "colab": {
          "base_uri": "https://localhost:8080/"
        },
        "id": "_W9Ov92sTqWE",
        "outputId": "8ac9c530-0db3-4e14-f871-518aa5acfa1a"
      },
      "execution_count": 10,
      "outputs": [
        {
          "output_type": "stream",
          "name": "stdout",
          "text": [
            "0.04666666666666667\n",
            "0.04666666666666667\n"
          ]
        }
      ]
    },
    {
      "cell_type": "markdown",
      "source": [
        "### 3 루트 평균 제곱근 오차(RMSE)\n",
        "\n",
        "- 실제값과 예측값의 차이를 제곱해 평균한 것에 루트를 씌운다\n",
        "- 에러에 제곱을 하면 에러가 클수록 그에 따른 가중치가 높이 반영된다.\n",
        "- 이때, 손실이 기하급수적으로 증가하는 상황에서 실제 오류평균보다 값이 더 커지지 않도록 하기 위해 사용한다.\n",
        "\n",
        "\n",
        " $$ RMSE = \\sqrt{\\frac{1}{n}\\sum_{i=1}^{n} (Y_i-\\hat{Y_i})^2}$$"
      ],
      "metadata": {
        "id": "sc7hDL8kVeLu"
      }
    },
    {
      "cell_type": "code",
      "source": [
        "import numpy as np\n",
        "testVAI = np.array([1, 1.7, 1.5])\n",
        "predVAI = np.array([1.1, 2, 1.7])\n",
        "# np.sqrt : 제곱근\n",
        "rmse = np.sqrt(sum((testVAI-predVAI)**2)/len(predVAI))\n",
        "print(rmse)"
      ],
      "metadata": {
        "colab": {
          "base_uri": "https://localhost:8080/"
        },
        "id": "ZaeSPHJXVz4R",
        "outputId": "e911180a-3677-4e65-d37c-5b0a48ce7555"
      },
      "execution_count": 11,
      "outputs": [
        {
          "output_type": "stream",
          "name": "stdout",
          "text": [
            "0.21602468994692867\n"
          ]
        }
      ]
    },
    {
      "cell_type": "code",
      "source": [
        "# sklearn의 mean_squared_error()로 계산하기.\n",
        "from sklearn.metrics import mean_squared_error\n",
        "testVAI = np.array([1, 1.7, 1.5])\n",
        "predVAI = np.array([1.1, 2, 1.7])\n",
        "\n",
        "mean_squared_error(testVAI, predVAI, squared = False)"
      ],
      "metadata": {
        "colab": {
          "base_uri": "https://localhost:8080/"
        },
        "id": "qYM74EQlWOCe",
        "outputId": "761102f4-1132-4cc4-f1bc-3518ce99f774"
      },
      "execution_count": 12,
      "outputs": [
        {
          "output_type": "execute_result",
          "data": {
            "text/plain": [
              "0.21602468994692867"
            ]
          },
          "metadata": {},
          "execution_count": 12
        }
      ]
    },
    {
      "cell_type": "markdown",
      "source": [
        "### 4 평균 제곱 로그 오차 (MSLE : Mean Squared Log Error)\n",
        "\n",
        "- 실제값과 예측값의 차이를 제곱해 평균한 것에 로그를 적용한다.\n",
        "- RMSE와 같이 손실이 기하급수적으로 증가하는 상황에서 실제 오류평균보다 값이 더 커지지 않도록 해준다.\n",
        " $$ MSLE = \\log(\\frac{1}{n}\\sum_{i=1}^{n} (Y_i-\\hat{Y_i})^2)$$"
      ],
      "metadata": {
        "id": "27XbTBcaWlhY"
      }
    },
    {
      "cell_type": "markdown",
      "source": [
        "numpy와 sklearn의 구현값에 차이가 있음."
      ],
      "metadata": {
        "id": "N16f5JdVX7LB"
      }
    },
    {
      "cell_type": "code",
      "source": [
        "import numpy as np\n",
        "testVAI = np.array([1, 2, 3, 2, 3, 5, 4, 6, 5, 6, 7])\n",
        "predVAI = np.array([1, 1, 2, 2, 3, 4, 4, 5, 5, 7, 7])\n",
        "\n",
        "msle = np.log(sum((testVAI-predVAI)**2)/len(predVAI))\n",
        "print(msle)"
      ],
      "metadata": {
        "colab": {
          "base_uri": "https://localhost:8080/"
        },
        "id": "ie6vthZ6WwVN",
        "outputId": "8fcc39bb-c540-4de6-9d00-4350e6c4469e"
      },
      "execution_count": 20,
      "outputs": [
        {
          "output_type": "stream",
          "name": "stdout",
          "text": [
            "-0.7884573603642702\n"
          ]
        }
      ]
    },
    {
      "cell_type": "code",
      "source": [
        "# sklearn의 mean_squared_log_error()로 계산하기.\n",
        "from sklearn.metrics import mean_squared_log_error\n",
        "testVAI = np.array([1, 2, 3, 2, 3, 5, 4, 6, 5, 6, 7])\n",
        "predVAI = np.array([1, 1, 2, 2, 3, 4, 4, 5, 5, 7, 7])\n",
        "\n",
        "mean_squared_log_error(testVAI, predVAI)"
      ],
      "metadata": {
        "colab": {
          "base_uri": "https://localhost:8080/"
        },
        "id": "ZZ02HSH4XpO1",
        "outputId": "0539535b-d407-44de-a90d-b93063f9848a"
      },
      "execution_count": 21,
      "outputs": [
        {
          "output_type": "execute_result",
          "data": {
            "text/plain": [
              "0.029272467607503513"
            ]
          },
          "metadata": {},
          "execution_count": 21
        }
      ]
    }
  ]
}