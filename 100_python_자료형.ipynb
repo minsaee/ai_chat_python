{
  "nbformat": 4,
  "nbformat_minor": 0,
  "metadata": {
    "colab": {
      "provenance": [],
      "authorship_tag": "ABX9TyOW6J9WBz8OiWlTGD+Ckfig",
      "include_colab_link": true
    },
    "kernelspec": {
      "name": "python3",
      "display_name": "Python 3"
    },
    "language_info": {
      "name": "python"
    }
  },
  "cells": [
    {
      "cell_type": "markdown",
      "metadata": {
        "id": "view-in-github",
        "colab_type": "text"
      },
      "source": [
        "<a href=\"https://colab.research.google.com/github/minsaee/python_demo/blob/master/100_python_%EC%9E%90%EB%A3%8C%ED%98%95.ipynb\" target=\"_parent\"><img src=\"https://colab.research.google.com/assets/colab-badge.svg\" alt=\"Open In Colab\"/></a>"
      ]
    },
    {
      "cell_type": "markdown",
      "source": [
        "https://www.python.org/   \n",
        "https://docs.python.org/3/tutorial/index.html   \n",
        "https://peps.python.org/pep-0008/   \n",
        "https://wikidocs.net/book/1   \n",
        "https://dojang.io/course/view.php?id=7    \n"
      ],
      "metadata": {
        "id": "b5GnOfM80GAV"
      }
    },
    {
      "cell_type": "code",
      "source": [
        "# python version 확인\n",
        "!python --version"
      ],
      "metadata": {
        "colab": {
          "base_uri": "https://localhost:8080/"
        },
        "id": "TbCCWmgv0U67",
        "outputId": "b24ac8d1-4306-40d2-bdb2-159932886fdb"
      },
      "execution_count": null,
      "outputs": [
        {
          "output_type": "stream",
          "name": "stdout",
          "text": [
            "Python 3.10.12\n"
          ]
        }
      ]
    },
    {
      "cell_type": "code",
      "source": [
        "# python에서 추구하는 철학\n",
        "import this"
      ],
      "metadata": {
        "id": "VwoFqtj50eD6"
      },
      "execution_count": null,
      "outputs": []
    },
    {
      "cell_type": "code",
      "source": [
        "import keyword\n",
        "keyword.kwlist"
      ],
      "metadata": {
        "id": "O3tOmFqi2Lpb"
      },
      "execution_count": null,
      "outputs": []
    },
    {
      "cell_type": "code",
      "source": [
        "print(keyword.kwlist) #print() 출력해줌.\n",
        "print(len(keyword.kwlist)) #len(값) 값의 갯수를 구해줌. # 35개\n",
        "\n",
        "# 키워드는 식별자로 사용할 수 없다.\n",
        "#as = 3 -> SyntaxError: invalid syntax\n"
      ],
      "metadata": {
        "colab": {
          "base_uri": "https://localhost:8080/"
        },
        "id": "t7w8Z-ys2r_D",
        "outputId": "3b903732-401a-4282-fc38-52be640e5f39"
      },
      "execution_count": null,
      "outputs": [
        {
          "output_type": "stream",
          "name": "stdout",
          "text": [
            "['False', 'None', 'True', 'and', 'as', 'assert', 'async', 'await', 'break', 'class', 'continue', 'def', 'del', 'elif', 'else', 'except', 'finally', 'for', 'from', 'global', 'if', 'import', 'in', 'is', 'lambda', 'nonlocal', 'not', 'or', 'pass', 'raise', 'return', 'try', 'while', 'with', 'yield']\n",
            "35\n"
          ]
        }
      ]
    },
    {
      "cell_type": "code",
      "source": [
        "# 내장함수는 식별자로 사용할 수 있다. link https://docs.python.org/3/library/functions.html#func-list\n",
        "# 식별자로 사용하면 내장함수의 기능을 잃어버린다.\n",
        "\n",
        "#list((1,2,3)) -> TypeError: 'int' object is not callable\n",
        "#del list -> 식별자로 사용 된 list 변수 삭제\n",
        "\n",
        "list((1,2,3)) # 정상작동\n",
        "# 내장함수를 식별자로 사용하는 것은 비추천.\n"
      ],
      "metadata": {
        "colab": {
          "base_uri": "https://localhost:8080/"
        },
        "id": "ncFNlkwMUv-R",
        "outputId": "bcc30bde-0422-4f68-da90-ef8c4a1d5e9a"
      },
      "execution_count": null,
      "outputs": [
        {
          "output_type": "execute_result",
          "data": {
            "text/plain": [
              "[1, 2, 3]"
            ]
          },
          "metadata": {},
          "execution_count": 315
        }
      ]
    },
    {
      "cell_type": "code",
      "source": [
        "'Hello world'\n",
        "'Hello world' # 마지막 값만 출력"
      ],
      "metadata": {
        "colab": {
          "base_uri": "https://localhost:8080/",
          "height": 35
        },
        "id": "Bjy8AJ-23L57",
        "outputId": "55437de4-a1e4-4fac-94e8-1e9b3d1fcdf1"
      },
      "execution_count": null,
      "outputs": [
        {
          "output_type": "execute_result",
          "data": {
            "text/plain": [
              "'Hello world'"
            ],
            "application/vnd.google.colaboratory.intrinsic+json": {
              "type": "string"
            }
          },
          "metadata": {},
          "execution_count": 10
        }
      ]
    },
    {
      "cell_type": "code",
      "source": [
        "print('Hello world')\n",
        "print('Hello world') # 모두 출력"
      ],
      "metadata": {
        "colab": {
          "base_uri": "https://localhost:8080/"
        },
        "id": "QWeevOJq3cwf",
        "outputId": "d9b43147-7db1-4561-9b0b-34d4bcc18484"
      },
      "execution_count": null,
      "outputs": [
        {
          "output_type": "stream",
          "name": "stdout",
          "text": [
            "Hello world\n",
            "Hello world\n"
          ]
        }
      ]
    },
    {
      "cell_type": "code",
      "source": [
        "# ; (세미콜론) : 문장의 끝을 의미한다.\n",
        "# 하나의 문장이 끝나면 문장의 끝에 세미콜론을 입력한다.\n",
        "# 하지만 파이썬에서는 줄바꿈해서 입력하면 세미콜론 생략이 가능하다.\n",
        "print('hi'); print('hi') # 하나의 줄에서 표현 할 때는 ;으로 문장의 끝을 표시함."
      ],
      "metadata": {
        "colab": {
          "base_uri": "https://localhost:8080/"
        },
        "id": "B51TTqas3w1S",
        "outputId": "eb20afb7-f37f-4734-f30d-6b0ad2c429c2"
      },
      "execution_count": null,
      "outputs": [
        {
          "output_type": "stream",
          "name": "stdout",
          "text": [
            "hi\n",
            "hi\n"
          ]
        }
      ]
    },
    {
      "cell_type": "code",
      "source": [
        "# 변수(variable) : 값을 저장하는 메모리 공간\n",
        "# 파이썬에서는 데이터타입을 지정하지는 않는다.\n",
        "a = 10; b = 20; print(a); print(b)"
      ],
      "metadata": {
        "colab": {
          "base_uri": "https://localhost:8080/"
        },
        "id": "sLZ-iS1u4LHq",
        "outputId": "43b0f520-5a46-479a-d909-9c30c285a851"
      },
      "execution_count": null,
      "outputs": [
        {
          "output_type": "stream",
          "name": "stdout",
          "text": [
            "10\n",
            "20\n"
          ]
        }
      ]
    },
    {
      "cell_type": "code",
      "source": [
        "#한 문장을 여러라인에 거쳐서 입력해야 할 때 '\\' 사용\n",
        "if(a==11) and \\\n",
        "(b==20):\n",
        "  print('OK')\n",
        "else:\n",
        "  print('NO')"
      ],
      "metadata": {
        "colab": {
          "base_uri": "https://localhost:8080/"
        },
        "id": "CNTqQdAc4i2J",
        "outputId": "61f8ef5f-55af-4e42-d16c-069412eddf8b"
      },
      "execution_count": null,
      "outputs": [
        {
          "output_type": "stream",
          "name": "stdout",
          "text": [
            "NO\n"
          ]
        }
      ]
    },
    {
      "cell_type": "code",
      "source": [
        "start = end = 1 # 같은 값을 가지는 변수는 함께 선언 가능.\n",
        "print(start)\n",
        "print(end)"
      ],
      "metadata": {
        "colab": {
          "base_uri": "https://localhost:8080/"
        },
        "id": "FOwLuEjxNCtp",
        "outputId": "53cb22b0-8953-46d5-c25f-a60f9eeff73b"
      },
      "execution_count": null,
      "outputs": [
        {
          "output_type": "stream",
          "name": "stdout",
          "text": [
            "1\n",
            "1\n"
          ]
        }
      ]
    },
    {
      "cell_type": "code",
      "source": [
        "a = '3' + '4' # + 문자열 연결의 의미로 사용.\n",
        "print(a)"
      ],
      "metadata": {
        "colab": {
          "base_uri": "https://localhost:8080/"
        },
        "id": "gibrOBHGN0fT",
        "outputId": "3904aa43-bd51-4b64-84d2-2405d425dd39"
      },
      "execution_count": null,
      "outputs": [
        {
          "output_type": "stream",
          "name": "stdout",
          "text": [
            "34\n"
          ]
        }
      ]
    },
    {
      "cell_type": "code",
      "source": [
        "a = 1\n",
        "a = eval('3+4') #eval함수는 연산 가능.\n",
        "print(a)\n",
        "\n",
        "a = eval('a+3')\n",
        "print(a)\n",
        "\n",
        "a = eval('3' + '4') #홑따음표 구분으로 위와 동일한 의미로 +가 사용됨\n",
        "print(a)"
      ],
      "metadata": {
        "colab": {
          "base_uri": "https://localhost:8080/"
        },
        "id": "cZBNDpGwNl18",
        "outputId": "cd687c22-907e-442c-92ec-a8cb77b7ecbb"
      },
      "execution_count": null,
      "outputs": [
        {
          "output_type": "stream",
          "name": "stdout",
          "text": [
            "7\n",
            "10\n",
            "34\n"
          ]
        }
      ]
    },
    {
      "cell_type": "markdown",
      "source": [
        "## 자료형\n",
        "1. 데이터 저장방법에 따른 자료형의 분류  \n",
        "  직접(direct)형 : 직접 데이터를 표현하는 자료형 : int, float, complex      \n",
        "  시퀀스(sequence)형: 다른 데이터를 포함하는 자료형, 순서가 있는 집합 자료형 : list,str, tuple, bytes, bytearray,range    \n",
        "  매핑(Mapping)형 : 다른 데이터를 포함하는 자료형 : dict    \n",
        "  집합(Set)형 : 순서가 없고, 중복된 값도 없다. : set, frozenset  \n",
        "\n",
        "2. 변경 가능성에 따른 자료형 분류  \n",
        "  변경 가능형(Mutable) : 데이터의 값을 변경할 수 있다.  : list, dict, set  \n",
        "  변경 불가능형(Immutable) : 데이터의 값을 변경할 수 없다. : int, float, complex, str, tuple, frozenset\n",
        "\n",
        "3. 데이터 저장 개수에 따른 자료형의 분류   \n",
        "  리터널(Literal/Scalar)형 : 한 가지 객체만 저장한다. : int, bytes, str, float, complex  \n",
        "  컨테이널(Container)형 : 여러 가지 객체를 저장한다. : list, tuple, dict, set, fronzenset"
      ],
      "metadata": {
        "id": "rY7S_OUSPFzJ"
      }
    },
    {
      "cell_type": "markdown",
      "source": [
        "type( ) : 데이터 자료형 확인"
      ],
      "metadata": {
        "id": "9ChD8E0gQIKN"
      }
    },
    {
      "cell_type": "code",
      "source": [
        "type(5)"
      ],
      "metadata": {
        "colab": {
          "base_uri": "https://localhost:8080/"
        },
        "id": "j-1cSl1pQPzu",
        "outputId": "a37d7827-71ed-41f8-e748-5fb7cf3cd266"
      },
      "execution_count": null,
      "outputs": [
        {
          "output_type": "execute_result",
          "data": {
            "text/plain": [
              "int"
            ]
          },
          "metadata": {},
          "execution_count": 33
        }
      ]
    },
    {
      "cell_type": "code",
      "source": [
        "type(3.14)"
      ],
      "metadata": {
        "colab": {
          "base_uri": "https://localhost:8080/"
        },
        "id": "1arBo0fHQjLc",
        "outputId": "307ac5f5-5a4c-4cf9-ceb7-c9aa3c0bae81"
      },
      "execution_count": null,
      "outputs": [
        {
          "output_type": "execute_result",
          "data": {
            "text/plain": [
              "float"
            ]
          },
          "metadata": {},
          "execution_count": 34
        }
      ]
    },
    {
      "cell_type": "code",
      "source": [
        "type([1, 3, 5]) # 리스트 []"
      ],
      "metadata": {
        "colab": {
          "base_uri": "https://localhost:8080/"
        },
        "id": "5x8qVPnnQkoA",
        "outputId": "afed5c8b-137e-42bc-ee8a-1652fc3e090f"
      },
      "execution_count": null,
      "outputs": [
        {
          "output_type": "execute_result",
          "data": {
            "text/plain": [
              "list"
            ]
          },
          "metadata": {},
          "execution_count": 37
        }
      ]
    },
    {
      "cell_type": "code",
      "source": [
        "type((2, 6, 7)) # 튜플 ()"
      ],
      "metadata": {
        "colab": {
          "base_uri": "https://localhost:8080/"
        },
        "id": "UsbyD8LcQ8YI",
        "outputId": "343285c7-4378-410f-d7e9-3d9d531f8acd"
      },
      "execution_count": null,
      "outputs": [
        {
          "output_type": "execute_result",
          "data": {
            "text/plain": [
              "tuple"
            ]
          },
          "metadata": {},
          "execution_count": 44
        }
      ]
    },
    {
      "cell_type": "code",
      "source": [
        "a = 2, 6, 7\n",
        "type(a)"
      ],
      "metadata": {
        "colab": {
          "base_uri": "https://localhost:8080/"
        },
        "id": "lptFdURIRTID",
        "outputId": "39248f34-b421-4f32-d7f7-3c3ad091ef32"
      },
      "execution_count": null,
      "outputs": [
        {
          "output_type": "execute_result",
          "data": {
            "text/plain": [
              "tuple"
            ]
          },
          "metadata": {},
          "execution_count": 45
        }
      ]
    },
    {
      "cell_type": "code",
      "source": [
        "def call():\n",
        "  return 2,3,4; # 함수 정의\n",
        "\n",
        "print(call())\n",
        "print(type(call()))"
      ],
      "metadata": {
        "colab": {
          "base_uri": "https://localhost:8080/"
        },
        "id": "WmTHNHOlRVCb",
        "outputId": "abd663f7-efd5-4764-b0ad-f5fd506b8834"
      },
      "execution_count": null,
      "outputs": [
        {
          "output_type": "stream",
          "name": "stdout",
          "text": [
            "(2, 3, 4)\n",
            "<class 'tuple'>\n"
          ]
        }
      ]
    },
    {
      "cell_type": "code",
      "source": [
        "type({1, 2, 3}) # 집합 {}"
      ],
      "metadata": {
        "colab": {
          "base_uri": "https://localhost:8080/"
        },
        "id": "KbU88GX6SadK",
        "outputId": "eeb687a4-1602-4920-aef6-8c04252bdd82"
      },
      "execution_count": null,
      "outputs": [
        {
          "output_type": "execute_result",
          "data": {
            "text/plain": [
              "set"
            ]
          },
          "metadata": {},
          "execution_count": 51
        }
      ]
    },
    {
      "cell_type": "code",
      "source": [
        "type({a:3, b:4}) # 딕셔너리 { : , : }"
      ],
      "metadata": {
        "colab": {
          "base_uri": "https://localhost:8080/"
        },
        "id": "mtdXKdXASnqZ",
        "outputId": "2e7d74a4-0e39-4346-a0f2-6667b4460bcc"
      },
      "execution_count": null,
      "outputs": [
        {
          "output_type": "execute_result",
          "data": {
            "text/plain": [
              "dict"
            ]
          },
          "metadata": {},
          "execution_count": 52
        }
      ]
    },
    {
      "cell_type": "code",
      "source": [
        "type('python') # python은 문자와 문자열 구분이 없이 문자열로 처리함."
      ],
      "metadata": {
        "colab": {
          "base_uri": "https://localhost:8080/"
        },
        "id": "fA5XnrXwQwwz",
        "outputId": "1f5aba25-4033-4310-dd03-907cfd10e1be"
      },
      "execution_count": null,
      "outputs": [
        {
          "output_type": "execute_result",
          "data": {
            "text/plain": [
              "str"
            ]
          },
          "metadata": {},
          "execution_count": 55
        }
      ]
    },
    {
      "cell_type": "markdown",
      "source": [
        "dir( ) : 자료형의 내장함수를 검색 할 수 있다."
      ],
      "metadata": {
        "id": "pxZYlaf1TEBc"
      }
    },
    {
      "cell_type": "code",
      "source": [
        "print(dir(str))\n",
        "print(len(dir(str))) # 80개"
      ],
      "metadata": {
        "colab": {
          "base_uri": "https://localhost:8080/"
        },
        "id": "83PKvjudTmKf",
        "outputId": "bebb288e-b240-45b1-c188-02655b5385be"
      },
      "execution_count": null,
      "outputs": [
        {
          "output_type": "stream",
          "name": "stdout",
          "text": [
            "['__add__', '__class__', '__contains__', '__delattr__', '__dir__', '__doc__', '__eq__', '__format__', '__ge__', '__getattribute__', '__getitem__', '__getnewargs__', '__gt__', '__hash__', '__init__', '__init_subclass__', '__iter__', '__le__', '__len__', '__lt__', '__mod__', '__mul__', '__ne__', '__new__', '__reduce__', '__reduce_ex__', '__repr__', '__rmod__', '__rmul__', '__setattr__', '__sizeof__', '__str__', '__subclasshook__', 'capitalize', 'casefold', 'center', 'count', 'encode', 'endswith', 'expandtabs', 'find', 'format', 'format_map', 'index', 'isalnum', 'isalpha', 'isascii', 'isdecimal', 'isdigit', 'isidentifier', 'islower', 'isnumeric', 'isprintable', 'isspace', 'istitle', 'isupper', 'join', 'ljust', 'lower', 'lstrip', 'maketrans', 'partition', 'removeprefix', 'removesuffix', 'replace', 'rfind', 'rindex', 'rjust', 'rpartition', 'rsplit', 'rstrip', 'split', 'splitlines', 'startswith', 'strip', 'swapcase', 'title', 'translate', 'upper', 'zfill']\n",
            "80\n"
          ]
        }
      ]
    },
    {
      "cell_type": "code",
      "source": [
        "print(dir(list))\n",
        "print(len(dir(list))) # 47개"
      ],
      "metadata": {
        "colab": {
          "base_uri": "https://localhost:8080/"
        },
        "id": "qb7k5YTnT1DS",
        "outputId": "4f5e6572-594a-481b-b4b1-41276e901d71"
      },
      "execution_count": null,
      "outputs": [
        {
          "output_type": "stream",
          "name": "stdout",
          "text": [
            "['__add__', '__class__', '__class_getitem__', '__contains__', '__delattr__', '__delitem__', '__dir__', '__doc__', '__eq__', '__format__', '__ge__', '__getattribute__', '__getitem__', '__gt__', '__hash__', '__iadd__', '__imul__', '__init__', '__init_subclass__', '__iter__', '__le__', '__len__', '__lt__', '__mul__', '__ne__', '__new__', '__reduce__', '__reduce_ex__', '__repr__', '__reversed__', '__rmul__', '__setattr__', '__setitem__', '__sizeof__', '__str__', '__subclasshook__', 'append', 'clear', 'copy', 'count', 'extend', 'index', 'insert', 'pop', 'remove', 'reverse', 'sort']\n",
            "47\n"
          ]
        }
      ]
    },
    {
      "cell_type": "code",
      "source": [
        "a = [1, 2, 3]\n",
        "print(a.__dir__()) # built-in method < 함수로 호출 () 첨가\n",
        "print(len(a.__dir__()))"
      ],
      "metadata": {
        "colab": {
          "base_uri": "https://localhost:8080/"
        },
        "id": "Vf6v-jWDUKai",
        "outputId": "50e740d2-419f-4e54-a98f-0495d98a1e24"
      },
      "execution_count": null,
      "outputs": [
        {
          "output_type": "stream",
          "name": "stdout",
          "text": [
            "['__new__', '__repr__', '__hash__', '__getattribute__', '__lt__', '__le__', '__eq__', '__ne__', '__gt__', '__ge__', '__iter__', '__init__', '__len__', '__getitem__', '__setitem__', '__delitem__', '__add__', '__mul__', '__rmul__', '__contains__', '__iadd__', '__imul__', '__reversed__', '__sizeof__', 'clear', 'copy', 'append', 'insert', 'extend', 'pop', 'remove', 'index', 'count', 'reverse', 'sort', '__class_getitem__', '__doc__', '__str__', '__setattr__', '__delattr__', '__reduce_ex__', '__reduce__', '__subclasshook__', '__init_subclass__', '__format__', '__dir__', '__class__']\n",
            "47\n"
          ]
        }
      ]
    },
    {
      "cell_type": "markdown",
      "source": [
        "help( ) : 자료형에서 제공하는 메소드 사용법을 검색 할 수 있다."
      ],
      "metadata": {
        "id": "nVnoBb7sVHk8"
      }
    },
    {
      "cell_type": "code",
      "source": [
        "#help(str)\n",
        "help(str.index)"
      ],
      "metadata": {
        "colab": {
          "base_uri": "https://localhost:8080/"
        },
        "id": "O9DXVOj3VOfw",
        "outputId": "8e1051a6-2411-4eb7-b38d-2069335e4f7d"
      },
      "execution_count": null,
      "outputs": [
        {
          "output_type": "stream",
          "name": "stdout",
          "text": [
            "Help on method_descriptor:\n",
            "\n",
            "index(...)\n",
            "    S.index(sub[, start[, end]]) -> int\n",
            "    \n",
            "    Return the lowest index in S where substring sub is found,\n",
            "    such that sub is contained within S[start:end].  Optional\n",
            "    arguments start and end are interpreted as in slice notation.\n",
            "    \n",
            "    Raises ValueError when the substring is not found.\n",
            "\n"
          ]
        }
      ]
    },
    {
      "cell_type": "code",
      "source": [
        "'hello'.index('l') # 앞에서 부터 찾아줌 0,1,2..."
      ],
      "metadata": {
        "colab": {
          "base_uri": "https://localhost:8080/"
        },
        "id": "sc49ycRIWK6b",
        "outputId": "54662df9-77a5-47f7-a4aa-298c71765152"
      },
      "execution_count": null,
      "outputs": [
        {
          "output_type": "execute_result",
          "data": {
            "text/plain": [
              "2"
            ]
          },
          "metadata": {},
          "execution_count": 76
        }
      ]
    },
    {
      "cell_type": "markdown",
      "source": [
        "## Sequence 자료형\n",
        "- Sequence은 여러 객체를 저장할 수 있는 순서를 갖는 연속된 자료형이다.\n",
        "- 자료형 종류 : str, tuple, list\n",
        "- sequence형의 공통적인 연산\n",
        "  - 인덱싱(indexing)\n",
        "  - 슬라이싱(slicing)\n",
        "  - 연결하기\n",
        "  - 반복하기\n",
        "  - 멤버 검사\n",
        "  - 길이정보"
      ],
      "metadata": {
        "id": "kiJZRgWkaU1n"
      }
    },
    {
      "cell_type": "markdown",
      "source": [
        "문자열(str)\n",
        "\n",
        "문자열은 문자들을 표현하는 자료형으로 작은따옴표(')나 큰따옴표(\")로 묶는다.   \n",
        "문자열의 슬라이싱 : [인덱스 시작 : 인덱스 끝 : 스텝]  \n",
        "스텝의 default은 1의 값을 갖는다."
      ],
      "metadata": {
        "id": "O0He2as0aZ4Q"
      }
    },
    {
      "cell_type": "code",
      "source": [
        "a = 'Life is too short, You need python'\n",
        "print(a)\n",
        "\n",
        "a = \"Life is too short, You need python\"\n",
        "print(a)"
      ],
      "metadata": {
        "colab": {
          "base_uri": "https://localhost:8080/"
        },
        "id": "xbXrwsGTahHf",
        "outputId": "cc8eca82-6c7a-4c1a-b006-03ce79c8102f"
      },
      "execution_count": null,
      "outputs": [
        {
          "output_type": "stream",
          "name": "stdout",
          "text": [
            "Life is too short, You need python\n",
            "Life is too short, You need python\n"
          ]
        }
      ]
    },
    {
      "cell_type": "code",
      "source": [
        "a = \"Python's favorite food is perl\"\n",
        "print(a)\n",
        "print(id(a))\n",
        "\n",
        "a = '\"Python is very easy.\" he says.'\n",
        "print(a)\n",
        "print(id(a)) # id( ) : 메모리의 고유값을 나타냄.\n",
        "\n",
        "a = 'Python\\'s favorite food is perl' # 문자열로 출력하려하면 \\를 앞에 붙이기.\n",
        "print(a)\n",
        "\n",
        "a = '\\\"Python is very easy.\" he says.' # 쌍으로 이룰 때는 앞에 기호에만 있어도 유지됨.\n",
        "print(a)"
      ],
      "metadata": {
        "colab": {
          "base_uri": "https://localhost:8080/"
        },
        "id": "IQ3uUTKLa9Wn",
        "outputId": "89db8118-2ba9-4380-9f7d-8648bbef0b4a"
      },
      "execution_count": null,
      "outputs": [
        {
          "output_type": "stream",
          "name": "stdout",
          "text": [
            "Python's favorite food is perl\n",
            "136159286907392\n",
            "\"Python is very easy.\" he says.\n",
            "136159286906352\n",
            "Python's favorite food is perl\n",
            "\"Python is very easy.\" he says.\n"
          ]
        }
      ]
    },
    {
      "cell_type": "code",
      "source": [
        "b = \"\"\"\n",
        "Life is too short\n",
        "You need python\n",
        "\"\"\" # ''' 로도 사용 가능\n",
        "print(b)"
      ],
      "metadata": {
        "colab": {
          "base_uri": "https://localhost:8080/"
        },
        "id": "TUSBJQNkdkDX",
        "outputId": "2131b131-1719-4aef-c1e5-2bead84ab3ea"
      },
      "execution_count": null,
      "outputs": [
        {
          "output_type": "stream",
          "name": "stdout",
          "text": [
            "\n",
            "Life is too short\n",
            "You need python\n",
            "\n"
          ]
        }
      ]
    },
    {
      "cell_type": "code",
      "source": [
        "a = 'Life is too short'\n",
        "len(a) # 문자열의 길이 확인 (공백도 인식함.)"
      ],
      "metadata": {
        "colab": {
          "base_uri": "https://localhost:8080/"
        },
        "id": "CdFdIjUVd_6v",
        "outputId": "1d61cc29-ac3c-4686-924b-f10e3bf1d09b"
      },
      "execution_count": null,
      "outputs": [
        {
          "output_type": "execute_result",
          "data": {
            "text/plain": [
              "17"
            ]
          },
          "metadata": {},
          "execution_count": 111
        }
      ]
    },
    {
      "cell_type": "code",
      "source": [
        "s_val = 'hello python!'\n",
        "print(s_val)\n",
        "len(s_val)"
      ],
      "metadata": {
        "colab": {
          "base_uri": "https://localhost:8080/"
        },
        "id": "2Rh0lAXbeZCn",
        "outputId": "8f082e49-80e2-4d5b-832d-077ab65aa41c"
      },
      "execution_count": null,
      "outputs": [
        {
          "output_type": "stream",
          "name": "stdout",
          "text": [
            "hello python!\n"
          ]
        },
        {
          "output_type": "execute_result",
          "data": {
            "text/plain": [
              "13"
            ]
          },
          "metadata": {},
          "execution_count": 183
        }
      ]
    },
    {
      "cell_type": "code",
      "source": [
        "# indexing(인덱싱) : 하나만 가져오기\n",
        "s_val[1]"
      ],
      "metadata": {
        "colab": {
          "base_uri": "https://localhost:8080/",
          "height": 35
        },
        "id": "LoIVV9Daem0i",
        "outputId": "6f4a111d-fba0-4a59-fd7f-d14634d4e1f9"
      },
      "execution_count": null,
      "outputs": [
        {
          "output_type": "execute_result",
          "data": {
            "text/plain": [
              "'e'"
            ],
            "application/vnd.google.colaboratory.intrinsic+json": {
              "type": "string"
            }
          },
          "metadata": {},
          "execution_count": 120
        }
      ]
    },
    {
      "cell_type": "code",
      "source": [
        "# slicing(슬라이싱) [start:end:step] step생략가능(생략시 1씩 증가)\n",
        "                    # start이상 end미만 출력\n",
        "s_val[0:5]"
      ],
      "metadata": {
        "colab": {
          "base_uri": "https://localhost:8080/",
          "height": 35
        },
        "id": "euUpWjDke3Ns",
        "outputId": "38cdba1d-ff87-4be3-a9d8-94c545c0585d"
      },
      "execution_count": null,
      "outputs": [
        {
          "output_type": "execute_result",
          "data": {
            "text/plain": [
              "'hello'"
            ],
            "application/vnd.google.colaboratory.intrinsic+json": {
              "type": "string"
            }
          },
          "metadata": {},
          "execution_count": 129
        }
      ]
    },
    {
      "cell_type": "code",
      "source": [
        "s_val[1:2] # 1이상 2미만"
      ],
      "metadata": {
        "colab": {
          "base_uri": "https://localhost:8080/",
          "height": 35
        },
        "id": "5vbxxBEPgEC1",
        "outputId": "9c76de6d-56dd-4c40-bed2-8fd04fd15f26"
      },
      "execution_count": null,
      "outputs": [
        {
          "output_type": "execute_result",
          "data": {
            "text/plain": [
              "'e'"
            ],
            "application/vnd.google.colaboratory.intrinsic+json": {
              "type": "string"
            }
          },
          "metadata": {},
          "execution_count": 136
        }
      ]
    },
    {
      "cell_type": "code",
      "source": [
        "s_val[1:] # end 생략시 끝까지 출력"
      ],
      "metadata": {
        "colab": {
          "base_uri": "https://localhost:8080/",
          "height": 35
        },
        "id": "XUvIsQh0gbxz",
        "outputId": "e791e0e4-a9b2-4c99-c8b5-306c688f222d"
      },
      "execution_count": null,
      "outputs": [
        {
          "output_type": "execute_result",
          "data": {
            "text/plain": [
              "'ello python!'"
            ],
            "application/vnd.google.colaboratory.intrinsic+json": {
              "type": "string"
            }
          },
          "metadata": {},
          "execution_count": 140
        }
      ]
    },
    {
      "cell_type": "code",
      "source": [
        "s_val[:5] # start 생략시 end앞까지 출력"
      ],
      "metadata": {
        "colab": {
          "base_uri": "https://localhost:8080/",
          "height": 35
        },
        "id": "tR1vmO6ygqcF",
        "outputId": "8cbcfd6e-d6c2-47f2-c51b-026b54f73aac"
      },
      "execution_count": null,
      "outputs": [
        {
          "output_type": "execute_result",
          "data": {
            "text/plain": [
              "'hello'"
            ],
            "application/vnd.google.colaboratory.intrinsic+json": {
              "type": "string"
            }
          },
          "metadata": {},
          "execution_count": 143
        }
      ]
    },
    {
      "cell_type": "code",
      "source": [
        "# 변수의 모든 데이터를 가지고 옴\n",
        "print(s_val[:])\n",
        "print(s_val[0:])"
      ],
      "metadata": {
        "colab": {
          "base_uri": "https://localhost:8080/"
        },
        "id": "YOqnMlZAglSD",
        "outputId": "755da2f0-1f49-4343-ce83-f68cf0e30f68"
      },
      "execution_count": null,
      "outputs": [
        {
          "output_type": "stream",
          "name": "stdout",
          "text": [
            "hello python!\n",
            "hello python!\n"
          ]
        }
      ]
    },
    {
      "cell_type": "code",
      "source": [
        "s_val[-1] # 뒤에서 부터 '-1'"
      ],
      "metadata": {
        "colab": {
          "base_uri": "https://localhost:8080/",
          "height": 35
        },
        "id": "94NysL5Tg7NS",
        "outputId": "6ab0fcf5-36bf-4979-dc79-357d9da6057c"
      },
      "execution_count": null,
      "outputs": [
        {
          "output_type": "execute_result",
          "data": {
            "text/plain": [
              "'!'"
            ],
            "application/vnd.google.colaboratory.intrinsic+json": {
              "type": "string"
            }
          },
          "metadata": {},
          "execution_count": 149
        }
      ]
    },
    {
      "cell_type": "code",
      "source": [
        "s_val[::-1] # 역순으로 가져오기"
      ],
      "metadata": {
        "colab": {
          "base_uri": "https://localhost:8080/",
          "height": 35
        },
        "id": "AGbOpmF_hNlL",
        "outputId": "777ad945-0eff-4150-80b5-c47c7758ff9f"
      },
      "execution_count": null,
      "outputs": [
        {
          "output_type": "execute_result",
          "data": {
            "text/plain": [
              "'!nohtyp olleh'"
            ],
            "application/vnd.google.colaboratory.intrinsic+json": {
              "type": "string"
            }
          },
          "metadata": {},
          "execution_count": 172
        }
      ]
    },
    {
      "cell_type": "code",
      "source": [
        "s_val[13::-1] # 역순일시 start:end도 역순"
      ],
      "metadata": {
        "colab": {
          "base_uri": "https://localhost:8080/",
          "height": 35
        },
        "id": "SGn0MXD4h_ld",
        "outputId": "dce0ee7c-79a2-46de-8378-a963c42fef6e"
      },
      "execution_count": null,
      "outputs": [
        {
          "output_type": "execute_result",
          "data": {
            "text/plain": [
              "'!nohtyp olleh'"
            ],
            "application/vnd.google.colaboratory.intrinsic+json": {
              "type": "string"
            }
          },
          "metadata": {},
          "execution_count": 182
        }
      ]
    },
    {
      "cell_type": "markdown",
      "source": [
        "문자열 연결하기 : (+)연산자를 사용"
      ],
      "metadata": {
        "id": "VdaFf4fPicsb"
      }
    },
    {
      "cell_type": "code",
      "source": [
        "s_val2 = 'hello' + ' '+ 'python!'\n",
        "s_val2"
      ],
      "metadata": {
        "colab": {
          "base_uri": "https://localhost:8080/",
          "height": 35
        },
        "id": "p0GSPoOoi2BE",
        "outputId": "a334edaa-0e96-4481-8973-6cdc67cce6fc"
      },
      "execution_count": null,
      "outputs": [
        {
          "output_type": "execute_result",
          "data": {
            "text/plain": [
              "'hello python!'"
            ],
            "application/vnd.google.colaboratory.intrinsic+json": {
              "type": "string"
            }
          },
          "metadata": {},
          "execution_count": 188
        }
      ]
    },
    {
      "cell_type": "code",
      "source": [
        "# s_val2 = 'hello' + 2 #-> python에서는 다른 type끼리는 (+)연산자를 사용 할 수 없음.\n",
        "# TypeError: can only concatenate str (not \"int\") to str"
      ],
      "metadata": {
        "id": "iAS2chj3jKBF"
      },
      "execution_count": null,
      "outputs": []
    },
    {
      "cell_type": "markdown",
      "source": [
        "문자열 반복하기 : (*)연산자를 사용"
      ],
      "metadata": {
        "id": "z7ZXPfNJqYQ5"
      }
    },
    {
      "cell_type": "code",
      "source": [
        "s_val = 'win' * 3\n",
        "s_val"
      ],
      "metadata": {
        "colab": {
          "base_uri": "https://localhost:8080/",
          "height": 35
        },
        "id": "f57gTqdNqnv1",
        "outputId": "d35d098f-30d8-47b2-b7de-b15f39010140"
      },
      "execution_count": null,
      "outputs": [
        {
          "output_type": "execute_result",
          "data": {
            "text/plain": [
              "'winwinwin'"
            ],
            "application/vnd.google.colaboratory.intrinsic+json": {
              "type": "string"
            }
          },
          "metadata": {},
          "execution_count": 195
        }
      ]
    },
    {
      "cell_type": "code",
      "source": [
        "# s_val = 'win' * 'win'\n",
        "# TypeError: can't multiply sequence by non-int of type 'str'"
      ],
      "metadata": {
        "id": "QaAXOxriq1w-"
      },
      "execution_count": null,
      "outputs": []
    },
    {
      "cell_type": "markdown",
      "source": [
        "## 문자열을 변경 할 때 슬라이싱과 연결하기 사용"
      ],
      "metadata": {
        "id": "N0Ixqpfvq8V_"
      }
    },
    {
      "cell_type": "code",
      "source": [
        "s_val = 'hello python!'\n",
        "s_val"
      ],
      "metadata": {
        "colab": {
          "base_uri": "https://localhost:8080/",
          "height": 35
        },
        "id": "9sG9ttxxre4s",
        "outputId": "e0c83d26-2540-495a-dd31-5870a6620a58"
      },
      "execution_count": null,
      "outputs": [
        {
          "output_type": "execute_result",
          "data": {
            "text/plain": [
              "'hello python!'"
            ],
            "application/vnd.google.colaboratory.intrinsic+json": {
              "type": "string"
            }
          },
          "metadata": {},
          "execution_count": 203
        }
      ]
    },
    {
      "cell_type": "code",
      "source": [
        "s_check = 'H' + s_val[1:]\n",
        "s_check"
      ],
      "metadata": {
        "colab": {
          "base_uri": "https://localhost:8080/",
          "height": 35
        },
        "id": "C2xmwGcBrm2H",
        "outputId": "4a10dd62-5685-4b47-9e59-26c0aa2e349c"
      },
      "execution_count": null,
      "outputs": [
        {
          "output_type": "execute_result",
          "data": {
            "text/plain": [
              "'Hello python!'"
            ],
            "application/vnd.google.colaboratory.intrinsic+json": {
              "type": "string"
            }
          },
          "metadata": {},
          "execution_count": 204
        }
      ]
    },
    {
      "cell_type": "markdown",
      "source": [
        "## in연산자로 멤버 검사를 해서 부분 문자열의 존재 확인"
      ],
      "metadata": {
        "id": "Z0oh83WJr3qn"
      }
    },
    {
      "cell_type": "code",
      "source": [
        "s_val = 'red green blue'\n",
        "s_val"
      ],
      "metadata": {
        "colab": {
          "base_uri": "https://localhost:8080/",
          "height": 35
        },
        "id": "FqgajAQhsLUz",
        "outputId": "d89f96cb-ac32-4ddc-b56b-4dab36be8e1e"
      },
      "execution_count": null,
      "outputs": [
        {
          "output_type": "execute_result",
          "data": {
            "text/plain": [
              "'red green blue'"
            ],
            "application/vnd.google.colaboratory.intrinsic+json": {
              "type": "string"
            }
          },
          "metadata": {},
          "execution_count": 205
        }
      ]
    },
    {
      "cell_type": "code",
      "source": [
        "'green' in s_val #bool형식"
      ],
      "metadata": {
        "colab": {
          "base_uri": "https://localhost:8080/"
        },
        "id": "g3Tkus8dsRQX",
        "outputId": "084208cb-54d6-4fb2-844b-6b21269e3f60"
      },
      "execution_count": null,
      "outputs": [
        {
          "output_type": "execute_result",
          "data": {
            "text/plain": [
              "True"
            ]
          },
          "metadata": {},
          "execution_count": 208
        }
      ]
    },
    {
      "cell_type": "code",
      "source": [
        "'white' in s_val # 파이썬에서는 논리값 출력시 첫글자 대문자"
      ],
      "metadata": {
        "colab": {
          "base_uri": "https://localhost:8080/"
        },
        "id": "FvAL0tjXsfnV",
        "outputId": "262fc9a8-b09a-4992-c3ec-2cf45c217ee8"
      },
      "execution_count": null,
      "outputs": [
        {
          "output_type": "execute_result",
          "data": {
            "text/plain": [
              "False"
            ]
          },
          "metadata": {},
          "execution_count": 210
        }
      ]
    },
    {
      "cell_type": "markdown",
      "source": [
        "문자열 서식지정 : 어떤 문서 양식을 만들어 넣고 빈칸에 필요한 내용을 채워서 문서를 지정한다."
      ],
      "metadata": {
        "id": "xY-cGdKBssif"
      }
    },
    {
      "cell_type": "code",
      "source": [
        "s_val7 = 'python'\n",
        "s_val8 = 83.5\n",
        "\n",
        "print('%s 의 점수는 %.1f입니다.' % ( s_val7, s_val8)) # python1, 2방식\n",
        "print('{} 의 점수는 {}입니다.'.format(s_val7, s_val8)) # python3 방식\n",
        "print('{1} 의 점수는 {0}입니다.'.format(s_val8, s_val7))\n",
        "print('{subject} 의 점수는 {jumsu}입니다.'.format(jumsu=s_val8, subject=s_val7))\n",
        "print('{{0}} 의 점수는 {{1}}입니다.'.format(s_val7, s_val8)) # { }자체를 출력할때 {{}}을 한다.\n",
        "print('{{{0}}} 의 점수는 {{{1}}}입니다.'.format(s_val7, s_val8)) # {}자체와 값을 출력할때는 {{{}}}을 한다.\n",
        "\n",
        "print('{0:<10} 의 점수는 {1}입니다.'.format(s_val7, s_val8))  # 10자리 확보하고 남은 공간은 오른쪽을 여백으로 채운다.\n",
        "#print('{:<10} 의 점수는 {}입니다.'.format(s_val7, s_val8))\n",
        "\n",
        "print('{0:>10} 의 점수는 {1}입니다.'.format(s_val7, s_val8))  # 10자리 확보하고 남은 공간은 왼쪽을 여백으로 채운다.\n",
        "#print('{:>10} 의 점수는 {}입니다.'.format(s_val7, s_val8))\n",
        "\n",
        "print('{0:!^10} 의 점수는 {1}입니다.'.format(s_val7, s_val8)) # 10자리 확보하고 남은 공간은 !, 가운데 정렬로 채운다.\n",
        "#print('{:^10} 의 점수는 {}입니다.'.format(s_val7, s_val8))"
      ],
      "metadata": {
        "colab": {
          "base_uri": "https://localhost:8080/"
        },
        "id": "Kemvvfu9wkQI",
        "outputId": "0851934f-47c7-4632-9107-6dbdf58d2812"
      },
      "execution_count": null,
      "outputs": [
        {
          "output_type": "stream",
          "name": "stdout",
          "text": [
            "python 의 점수는 83.5입니다.\n",
            "python 의 점수는 83.5입니다.\n",
            "python 의 점수는 83.5입니다.\n",
            "python 의 점수는 83.5입니다.\n",
            "{0} 의 점수는 {1}입니다.\n",
            "{python} 의 점수는 {83.5}입니다.\n",
            "python     의 점수는 83.5입니다.\n",
            "    python 의 점수는 83.5입니다.\n",
            "!!python!! 의 점수는 83.5입니다.\n"
          ]
        }
      ]
    },
    {
      "cell_type": "markdown",
      "source": [
        "## 문자열에서 제공하는 메소드"
      ],
      "metadata": {
        "id": "S4mYVS7swoWn"
      }
    },
    {
      "cell_type": "code",
      "source": [
        "a = 'hobby'\n",
        "# a.count? : ? 상세 도움말 출력\n",
        "a.count('b') # 문자열 속 특정 문자의 개수 리턴"
      ],
      "metadata": {
        "colab": {
          "base_uri": "https://localhost:8080/"
        },
        "id": "kDwItXdh01mK",
        "outputId": "e7fe0d31-8a78-4501-80a3-d4d76b5503f1"
      },
      "execution_count": null,
      "outputs": [
        {
          "output_type": "execute_result",
          "data": {
            "text/plain": [
              "2"
            ]
          },
          "metadata": {},
          "execution_count": 238
        }
      ]
    },
    {
      "cell_type": "code",
      "source": [
        "len(a) #문자열의 모든 문자의 개수 리턴"
      ],
      "metadata": {
        "colab": {
          "base_uri": "https://localhost:8080/"
        },
        "id": "EtdvBH5g08SV",
        "outputId": "0cc1bb91-1c3e-44bc-c123-6814b2648a73"
      },
      "execution_count": null,
      "outputs": [
        {
          "output_type": "execute_result",
          "data": {
            "text/plain": [
              "5"
            ]
          },
          "metadata": {},
          "execution_count": 239
        }
      ]
    },
    {
      "cell_type": "code",
      "source": [
        "a.find('b')\n",
        "print(a.find('b')) # 'b'의 인덱스 리턴\n",
        "print(a.index('b'))"
      ],
      "metadata": {
        "colab": {
          "base_uri": "https://localhost:8080/"
        },
        "id": "9X6vuogI2JXh",
        "outputId": "52e8970e-3592-4032-c69b-b82dd430a4cb"
      },
      "execution_count": null,
      "outputs": [
        {
          "output_type": "stream",
          "name": "stdout",
          "text": [
            "2\n",
            "2\n"
          ]
        }
      ]
    },
    {
      "cell_type": "code",
      "source": [
        "print(a.find('c')) # 찾는 문자열이 없으면 -1 리턴\n",
        "# print(a.index('c')) 찾는 문자열이 없으면 오류 발생 (ValueError: substring not found)"
      ],
      "metadata": {
        "colab": {
          "base_uri": "https://localhost:8080/"
        },
        "id": "Cau5t4xB2chY",
        "outputId": "5b989ddc-e433-4ffd-ada7-486b249c54db"
      },
      "execution_count": null,
      "outputs": [
        {
          "output_type": "stream",
          "name": "stdout",
          "text": [
            "-1\n"
          ]
        }
      ]
    },
    {
      "cell_type": "code",
      "source": [
        "# 문자열의 각각의 (문자열) 사이에 삽입해준다.\n",
        "'goat'.join('FAKER') #'문자열'.join('문자열')"
      ],
      "metadata": {
        "colab": {
          "base_uri": "https://localhost:8080/",
          "height": 35
        },
        "id": "951V2bHd2wUT",
        "outputId": "f5065979-4a46-47a3-9509-efbfe98fafe9"
      },
      "execution_count": null,
      "outputs": [
        {
          "output_type": "execute_result",
          "data": {
            "text/plain": [
              "'FgoatAgoatKgoatEgoatR'"
            ],
            "application/vnd.google.colaboratory.intrinsic+json": {
              "type": "string"
            }
          },
          "metadata": {},
          "execution_count": 255
        }
      ]
    },
    {
      "cell_type": "code",
      "source": [
        "'*'.join(['red', 'blue', 'green'])"
      ],
      "metadata": {
        "colab": {
          "base_uri": "https://localhost:8080/",
          "height": 35
        },
        "id": "EfHHtP333o9U",
        "outputId": "96e1e892-44b1-4896-ccbc-c769299a52c4"
      },
      "execution_count": null,
      "outputs": [
        {
          "output_type": "execute_result",
          "data": {
            "text/plain": [
              "'red*blue*green'"
            ],
            "application/vnd.google.colaboratory.intrinsic+json": {
              "type": "string"
            }
          },
          "metadata": {},
          "execution_count": 250
        }
      ]
    },
    {
      "cell_type": "code",
      "source": [
        "a = 'hello'\n",
        "a.upper() # 데이터를 모두 대문자로 변경 후 출력"
      ],
      "metadata": {
        "colab": {
          "base_uri": "https://localhost:8080/",
          "height": 35
        },
        "id": "MSq4yNj84Ks0",
        "outputId": "4a305268-f648-4b88-cfbb-5e9fca895a7c"
      },
      "execution_count": null,
      "outputs": [
        {
          "output_type": "execute_result",
          "data": {
            "text/plain": [
              "'HELLO'"
            ],
            "application/vnd.google.colaboratory.intrinsic+json": {
              "type": "string"
            }
          },
          "metadata": {},
          "execution_count": 253
        }
      ]
    },
    {
      "cell_type": "code",
      "source": [
        "a = 'GODS'\n",
        "a.lower() # 데이터를 모두 소문자로 변경 후 출력"
      ],
      "metadata": {
        "colab": {
          "base_uri": "https://localhost:8080/",
          "height": 35
        },
        "id": "VkcCjulx4UWc",
        "outputId": "1e7bbb9f-9060-4fc6-8e99-a5895d21a1ab"
      },
      "execution_count": null,
      "outputs": [
        {
          "output_type": "execute_result",
          "data": {
            "text/plain": [
              "'gods'"
            ],
            "application/vnd.google.colaboratory.intrinsic+json": {
              "type": "string"
            }
          },
          "metadata": {},
          "execution_count": 254
        }
      ]
    },
    {
      "cell_type": "code",
      "source": [
        "a = '     hello   wo   r l d   '\n",
        "print(len(a)) # 26\n",
        "print(a)\n",
        "b = a.lstrip() # 'l' left 왼쪽 공백 제거\n",
        "print(len(b)) # 21\n",
        "print(b)"
      ],
      "metadata": {
        "colab": {
          "base_uri": "https://localhost:8080/"
        },
        "id": "AXP5Zo734ews",
        "outputId": "66b7e900-89aa-4332-f313-2e91f2889268"
      },
      "execution_count": null,
      "outputs": [
        {
          "output_type": "stream",
          "name": "stdout",
          "text": [
            "26\n",
            "     hello   wo   r l d   \n",
            "21\n",
            "hello   wo   r l d   \n"
          ]
        }
      ]
    },
    {
      "cell_type": "code",
      "source": [
        "a = '     hello   wo   r l d   '\n",
        "print(len(a)) # 26\n",
        "print(a)\n",
        "b = a.rstrip() # 'r' right 오른쪽 공백 제거\n",
        "print(len(b)) # 23\n",
        "print(b)\n"
      ],
      "metadata": {
        "colab": {
          "base_uri": "https://localhost:8080/"
        },
        "id": "bHszc55F42zz",
        "outputId": "075242c8-0109-4d61-ac80-11af393022c6"
      },
      "execution_count": null,
      "outputs": [
        {
          "output_type": "stream",
          "name": "stdout",
          "text": [
            "26\n",
            "     hello   wo   r l d   \n",
            "23\n",
            "     hello   wo   r l d\n"
          ]
        }
      ]
    },
    {
      "cell_type": "code",
      "source": [
        "a = '     hello   wo   r l d   '\n",
        "print(len(a)) # 26\n",
        "print(a)\n",
        "b = a.strip() # 양쪽 공백 제거\n",
        "print(len(b)) # 18\n",
        "print(b)\n",
        "\n",
        "# 가운데 스트립을 지우는 건 불가능 > 다른 방법 찾기\n"
      ],
      "metadata": {
        "colab": {
          "base_uri": "https://localhost:8080/"
        },
        "id": "2D2dmNQi5byM",
        "outputId": "ad9d9079-9487-4c32-afeb-53178f643a2c"
      },
      "execution_count": null,
      "outputs": [
        {
          "output_type": "stream",
          "name": "stdout",
          "text": [
            "26\n",
            "     hello   wo   r l d   \n",
            "18\n",
            "hello   wo   r l d\n"
          ]
        }
      ]
    },
    {
      "cell_type": "code",
      "source": [
        "a = 'Hello Python'\n",
        "print(a.replace('Python','파이썬')) #문자열 변경 ('old', 'new') old -> new"
      ],
      "metadata": {
        "colab": {
          "base_uri": "https://localhost:8080/"
        },
        "id": "2FL6vFcO5sZT",
        "outputId": "30d1a47f-94e3-443c-fff9-9d7ecf66f8c2"
      },
      "execution_count": null,
      "outputs": [
        {
          "output_type": "stream",
          "name": "stdout",
          "text": [
            "Hello 파이썬\n"
          ]
        }
      ]
    },
    {
      "cell_type": "code",
      "source": [
        "a = 'Red Green Blue'\n",
        "print(a.split()) #공백 기준으로 나누고 list type으로 출력\n",
        "\n",
        "a = 'Red Green Blue'\n",
        "print(a.split('e')) # 비어있는 값으로 나오기도 함."
      ],
      "metadata": {
        "colab": {
          "base_uri": "https://localhost:8080/"
        },
        "id": "xdJnGOb86aOO",
        "outputId": "5ac02368-d5a2-4fe5-a0b2-76c705cbee01"
      },
      "execution_count": null,
      "outputs": [
        {
          "output_type": "stream",
          "name": "stdout",
          "text": [
            "['Red', 'Green', 'Blue']\n",
            "['R', 'd Gr', '', 'n Blu', '']\n"
          ]
        }
      ]
    },
    {
      "cell_type": "markdown",
      "source": [
        "문제1)\n",
        "S='Somewhere on the rainbow'를 'Somewhere over the rainbow'로 변환하세요."
      ],
      "metadata": {
        "id": "ppTPRIY_68oL"
      }
    },
    {
      "cell_type": "code",
      "source": [
        "S='Somewhere on the rainbow'\n",
        "print(S.replace('on','over'))\n",
        "\n",
        "# 답지\n",
        "# print(dir(S)) -> 명령어 찾기\n",
        "# print(S.replace('on','over'))"
      ],
      "metadata": {
        "colab": {
          "base_uri": "https://localhost:8080/"
        },
        "id": "IgAeRtSh72J7",
        "outputId": "9d5c1bfb-56e8-432a-e5e8-703c41e1beb8"
      },
      "execution_count": null,
      "outputs": [
        {
          "output_type": "stream",
          "name": "stdout",
          "text": [
            "Somewhere over the rainbow\n"
          ]
        }
      ]
    },
    {
      "cell_type": "markdown",
      "source": [
        "문제2)\n",
        "s = '/usr/local/bin/python' 에서 각각의 디렉토리 경로명을 분리하여 출력하세요.\n",
        "\n",
        "[실행결과] ['', 'usr', 'local', 'bin', 'python']"
      ],
      "metadata": {
        "id": "hw78kQoE8EA9"
      }
    },
    {
      "cell_type": "code",
      "source": [
        "s = '/usr/local/bin/python'\n",
        "print(s.split('/'))\n",
        "\n",
        "# 답지\n",
        "# s '/usr/local/bin/python'\n",
        "# s.split('/') -> list 출력"
      ],
      "metadata": {
        "colab": {
          "base_uri": "https://localhost:8080/"
        },
        "id": "XqzyynPR7_I3",
        "outputId": "f3768ad7-e9d6-496b-9664-04b2e73cb86f"
      },
      "execution_count": null,
      "outputs": [
        {
          "output_type": "stream",
          "name": "stdout",
          "text": [
            "['', 'usr', 'local', 'bin', 'python']\n"
          ]
        }
      ]
    },
    {
      "cell_type": "markdown",
      "source": [
        "문제3)\n",
        "'spam ham'을 'ham spam'으로 치환하세요.\n",
        "\n",
        "※문자열의 split( )과 join( )메서드 그리고 리스트의 reverse( )메서드를 사용"
      ],
      "metadata": {
        "id": "rGT21Ncu7_k_"
      }
    },
    {
      "cell_type": "code",
      "source": [
        "c = 'spam ham'\n",
        "print(c.split())\n",
        "\n",
        "'spam'.join(['ham ', ''])\n",
        "\n",
        "# 답지\n",
        "# a = 'spam ham'  -> str은 reverse 할 수 없음. (error)\n",
        "# b = a.split()\n",
        "# print(b)\n",
        "# c = b.reverse()\n",
        "# print(c)  -> 출력값 None\n",
        "# c 변수 지정 하지 않고 바로 b.reverse() print(b)\n",
        "# c = ' '.join(b)\n",
        "# print(c)\n",
        "\n",
        "d = c.split()\n",
        "d.reverse()\n",
        "print(' '.join(d))"
      ],
      "metadata": {
        "colab": {
          "base_uri": "https://localhost:8080/"
        },
        "id": "W3JRGCsv8tXX",
        "outputId": "1658f2c7-e692-4f93-e744-48a28b71cbf1"
      },
      "execution_count": null,
      "outputs": [
        {
          "output_type": "stream",
          "name": "stdout",
          "text": [
            "['spam', 'ham']\n",
            "ham spam\n"
          ]
        }
      ]
    },
    {
      "cell_type": "code",
      "source": [
        "def process( ):\n",
        "  return 'data'\n",
        "\n",
        "print(process()) # return이 있으면 출력\n",
        "\n",
        "def display():\n",
        "  k='data'\n",
        "\n",
        "print(display()) # return이 없으면 None"
      ],
      "metadata": {
        "colab": {
          "base_uri": "https://localhost:8080/"
        },
        "id": "xxblqY23Sxv-",
        "outputId": "c4d7b30f-8650-4a04-bb7e-3ab697a4a740"
      },
      "execution_count": null,
      "outputs": [
        {
          "output_type": "stream",
          "name": "stdout",
          "text": [
            "data\n",
            "None\n"
          ]
        }
      ]
    },
    {
      "cell_type": "markdown",
      "source": [
        "문제4)    \n",
        "문자열이 주어져 있을 때 'spam'이 몇 번 나타나는지 구하시오.   \n",
        "단, 대소문자 구분하지 않음   \n",
        "s='spam Spam SpaM eGG Egg ham hAm'"
      ],
      "metadata": {
        "id": "pmG31w-dVsgp"
      }
    },
    {
      "cell_type": "code",
      "source": [
        "s='spam Spam SpaM eGG Egg ham hAm'\n",
        "s.lower() # type(s.lower()) -> str\n",
        "s.lower().count('spam') #type -> int"
      ],
      "metadata": {
        "colab": {
          "base_uri": "https://localhost:8080/"
        },
        "id": "X5-oACcCV8bH",
        "outputId": "f29695c8-f337-490b-fd89-d504717d91ea"
      },
      "execution_count": null,
      "outputs": [
        {
          "output_type": "execute_result",
          "data": {
            "text/plain": [
              "3"
            ]
          },
          "metadata": {},
          "execution_count": 30
        }
      ]
    },
    {
      "cell_type": "markdown",
      "source": [
        "문제5)   \n",
        "단어의 순서가 바뀐 문자열로 만들세요.   \n",
        "s = 'Sometimes I feel like a montherless child'\n",
        "\n",
        "[실행결과]\n",
        "'child motherless a like feel I Sometimes'   \n",
        "'dlihc sselrehtnom a ekil leef i semitemoS'   \n",
        "'SometimesIfeellikeamontherlesschild'   "
      ],
      "metadata": {
        "id": "l8zgHKtWWeNK"
      }
    },
    {
      "cell_type": "code",
      "source": [
        "# 단어의 순서 바꾸기\n",
        "s =  'Sometimes I feel like a montherless child'\n",
        "p = s.split()\n",
        "p.reverse()\n",
        "' '.join(p)"
      ],
      "metadata": {
        "colab": {
          "base_uri": "https://localhost:8080/",
          "height": 35
        },
        "id": "3UIThKq0XAUT",
        "outputId": "83c5aeaf-55df-4ee0-dae0-8ef3068e846b"
      },
      "execution_count": null,
      "outputs": [
        {
          "output_type": "execute_result",
          "data": {
            "text/plain": [
              "'child montherless a like feel I Sometimes'"
            ],
            "application/vnd.google.colaboratory.intrinsic+json": {
              "type": "string"
            }
          },
          "metadata": {},
          "execution_count": 31
        }
      ]
    },
    {
      "cell_type": "code",
      "source": [
        "# 문자열의 순서 뒤집기\n",
        "s =  'Sometimes I feel like a montherless child'\n",
        "len(s) # 41개\n",
        "s[::-1]"
      ],
      "metadata": {
        "colab": {
          "base_uri": "https://localhost:8080/",
          "height": 35
        },
        "id": "xJclE7z2XJGP",
        "outputId": "94ee2ce1-943c-4e8c-d2d9-5afd65818cf5"
      },
      "execution_count": null,
      "outputs": [
        {
          "output_type": "execute_result",
          "data": {
            "text/plain": [
              "'dlihc sselrehtnom a ekil leef I semitemoS'"
            ],
            "application/vnd.google.colaboratory.intrinsic+json": {
              "type": "string"
            }
          },
          "metadata": {},
          "execution_count": 37
        }
      ]
    },
    {
      "cell_type": "code",
      "source": [
        "# 공백의 없애기\n",
        "s = 'Sometimes I feel like a montherless child'\n",
        "p = s.split()\n",
        "''.join(p)"
      ],
      "metadata": {
        "colab": {
          "base_uri": "https://localhost:8080/",
          "height": 35
        },
        "id": "5xhG7bgmXnJn",
        "outputId": "f6152070-f43b-4304-e666-3f0ac36113ba"
      },
      "execution_count": null,
      "outputs": [
        {
          "output_type": "execute_result",
          "data": {
            "text/plain": [
              "'SometimesIfeellikeamontherlesschild'"
            ],
            "application/vnd.google.colaboratory.intrinsic+json": {
              "type": "string"
            }
          },
          "metadata": {},
          "execution_count": 42
        }
      ]
    },
    {
      "cell_type": "code",
      "source": [
        "s = 'Sometimes I feel like a montherless child'\n",
        "s.replace(' ','')"
      ],
      "metadata": {
        "colab": {
          "base_uri": "https://localhost:8080/",
          "height": 35
        },
        "id": "q9yD7CIJeUuB",
        "outputId": "ec6ef106-8268-4f54-9d65-adff29eed279"
      },
      "execution_count": null,
      "outputs": [
        {
          "output_type": "execute_result",
          "data": {
            "text/plain": [
              "'SometimesIfeellikeamontherlesschild'"
            ],
            "application/vnd.google.colaboratory.intrinsic+json": {
              "type": "string"
            }
          },
          "metadata": {},
          "execution_count": 46
        }
      ]
    },
    {
      "cell_type": "markdown",
      "source": [
        "## 리스트(list)\n",
        " - 시퀀스 (Sequence)자료형으로 데이터의 크기나 원소값을 변경할 수 있다.\n",
        " - 리스트는 [ ]대괄호로 표현한다."
      ],
      "metadata": {
        "id": "neF-WBXXYvxo"
      }
    },
    {
      "cell_type": "code",
      "source": [
        "a = []\n",
        "print(a)\n",
        "print(type(a))\n",
        "print(dir(a))"
      ],
      "metadata": {
        "colab": {
          "base_uri": "https://localhost:8080/"
        },
        "id": "mDEBFPIPZSsB",
        "outputId": "d8ad724a-9af6-4ed6-ff4b-5985beb6d10d"
      },
      "execution_count": null,
      "outputs": [
        {
          "output_type": "stream",
          "name": "stdout",
          "text": [
            "[]\n",
            "<class 'list'>\n",
            "['__add__', '__class__', '__class_getitem__', '__contains__', '__delattr__', '__delitem__', '__dir__', '__doc__', '__eq__', '__format__', '__ge__', '__getattribute__', '__getitem__', '__gt__', '__hash__', '__iadd__', '__imul__', '__init__', '__init_subclass__', '__iter__', '__le__', '__len__', '__lt__', '__mul__', '__ne__', '__new__', '__reduce__', '__reduce_ex__', '__repr__', '__reversed__', '__rmul__', '__setattr__', '__setitem__', '__sizeof__', '__str__', '__subclasshook__', 'append', 'clear', 'copy', 'count', 'extend', 'index', 'insert', 'pop', 'remove', 'reverse', 'sort']\n"
          ]
        }
      ]
    },
    {
      "cell_type": "markdown",
      "source": [
        "java\n",
        "\n",
        "```java\n",
        "class Test{\n",
        "   public static void main(String[ ] args){\n",
        "          int[] arr = new int[]{1,2,3}:\n",
        "     }\n",
        "}\n",
        "```"
      ],
      "metadata": {
        "id": "iUMaGfIXZ61n"
      }
    },
    {
      "cell_type": "markdown",
      "source": [
        "javascript\n",
        "\n",
        "```javascript\n",
        "  let color = ['red','green','blue']\n",
        "\n",
        "```"
      ],
      "metadata": {
        "id": "ZGyGKsTaaaYl"
      }
    },
    {
      "cell_type": "code",
      "source": [
        "a = [10, 20, 30]\n",
        "a"
      ],
      "metadata": {
        "colab": {
          "base_uri": "https://localhost:8080/"
        },
        "id": "3f2z_m3jaxMa",
        "outputId": "46a145ef-7c70-4973-9199-fab2e721cdc7"
      },
      "execution_count": null,
      "outputs": [
        {
          "output_type": "execute_result",
          "data": {
            "text/plain": [
              "[10, 20, 30]"
            ]
          },
          "metadata": {},
          "execution_count": 47
        }
      ]
    },
    {
      "cell_type": "code",
      "source": [
        "# indexing\n",
        "a[0]"
      ],
      "metadata": {
        "colab": {
          "base_uri": "https://localhost:8080/"
        },
        "id": "hjm3wjcYfOii",
        "outputId": "422ff916-af84-47d2-e898-0ff794ddb2b0"
      },
      "execution_count": null,
      "outputs": [
        {
          "output_type": "execute_result",
          "data": {
            "text/plain": [
              "10"
            ]
          },
          "metadata": {},
          "execution_count": 49
        }
      ]
    },
    {
      "cell_type": "code",
      "source": [
        "# slicing\n",
        "a[0:]"
      ],
      "metadata": {
        "colab": {
          "base_uri": "https://localhost:8080/"
        },
        "id": "PZ8EVeThfWRt",
        "outputId": "fbf0f6d6-3cef-46c6-a3ac-ff795f60fa53"
      },
      "execution_count": null,
      "outputs": [
        {
          "output_type": "execute_result",
          "data": {
            "text/plain": [
              "[30, 20, 10]"
            ]
          },
          "metadata": {},
          "execution_count": 57
        }
      ]
    },
    {
      "cell_type": "code",
      "source": [
        "a[::-1]"
      ],
      "metadata": {
        "colab": {
          "base_uri": "https://localhost:8080/"
        },
        "id": "NCYEyT32fbkF",
        "outputId": "b31d10f8-2848-4db8-ba68-85723dc724cb"
      },
      "execution_count": null,
      "outputs": [
        {
          "output_type": "execute_result",
          "data": {
            "text/plain": [
              "[30, 20, 10]"
            ]
          },
          "metadata": {},
          "execution_count": 58
        }
      ]
    },
    {
      "cell_type": "code",
      "source": [
        "a[-3:-1:1] # 수가 커지면 양수방향"
      ],
      "metadata": {
        "colab": {
          "base_uri": "https://localhost:8080/"
        },
        "id": "x837Soxpfsw9",
        "outputId": "c0793f03-7bc9-4a2b-8c24-d411503a4e3b"
      },
      "execution_count": null,
      "outputs": [
        {
          "output_type": "execute_result",
          "data": {
            "text/plain": [
              "[10, 20]"
            ]
          },
          "metadata": {},
          "execution_count": 65
        }
      ]
    },
    {
      "cell_type": "code",
      "source": [
        "a[-1:-3:-1] # 수가 작아지면 음수방향"
      ],
      "metadata": {
        "colab": {
          "base_uri": "https://localhost:8080/"
        },
        "id": "w_i9LwFxgTv9",
        "outputId": "cd13b983-8599-4b53-f802-69e9da02055c"
      },
      "execution_count": null,
      "outputs": [
        {
          "output_type": "execute_result",
          "data": {
            "text/plain": [
              "[30, 20]"
            ]
          },
          "metadata": {},
          "execution_count": 66
        }
      ]
    },
    {
      "cell_type": "code",
      "source": [
        "a = [5, 10, 15, 20, 25, 30]"
      ],
      "metadata": {
        "id": "jzovftLfgd0-"
      },
      "execution_count": null,
      "outputs": []
    },
    {
      "cell_type": "code",
      "source": [
        "a[:3]"
      ],
      "metadata": {
        "colab": {
          "base_uri": "https://localhost:8080/"
        },
        "id": "0AdWeEk2hm-v",
        "outputId": "54441323-0549-4165-b2ec-4d17744ac730"
      },
      "execution_count": null,
      "outputs": [
        {
          "output_type": "execute_result",
          "data": {
            "text/plain": [
              "[5, 10, 15]"
            ]
          },
          "metadata": {},
          "execution_count": 78
        }
      ]
    },
    {
      "cell_type": "code",
      "source": [
        "a[:3:2]"
      ],
      "metadata": {
        "colab": {
          "base_uri": "https://localhost:8080/"
        },
        "id": "uziB_O6RhHNk",
        "outputId": "39cd6b22-4144-4711-d1b2-67ccf9a2c9ad"
      },
      "execution_count": null,
      "outputs": [
        {
          "output_type": "execute_result",
          "data": {
            "text/plain": [
              "[5, 15]"
            ]
          },
          "metadata": {},
          "execution_count": 77
        }
      ]
    },
    {
      "cell_type": "markdown",
      "source": [
        "### list는 다양한 타입을 함께 포함할 수 있다."
      ],
      "metadata": {
        "id": "LzKZVG4lhj29"
      }
    },
    {
      "cell_type": "code",
      "source": [
        "a = [10,'python',80.5,False]\n",
        "a"
      ],
      "metadata": {
        "colab": {
          "base_uri": "https://localhost:8080/"
        },
        "id": "FyXV7RBtiHLn",
        "outputId": "6d5e0d88-de2d-4ad8-a85b-3d0dc87ab61a"
      },
      "execution_count": null,
      "outputs": [
        {
          "output_type": "execute_result",
          "data": {
            "text/plain": [
              "[10, 'python', 80.5, False]"
            ]
          },
          "metadata": {},
          "execution_count": 82
        }
      ]
    },
    {
      "cell_type": "code",
      "source": [
        "a = [[10,20,30],(1,2,3),{100,2000},{'x':5, 'y':8}] # [list, tuple, set, dict]\n",
        "a #{값} -> set {키:값} -> dict"
      ],
      "metadata": {
        "colab": {
          "base_uri": "https://localhost:8080/"
        },
        "id": "LKcLVhLaifKP",
        "outputId": "b2ee0ecf-db39-4c83-d371-efe8a67c9c9f"
      },
      "execution_count": null,
      "outputs": [
        {
          "output_type": "execute_result",
          "data": {
            "text/plain": [
              "[[10, 20, 30], (1, 2, 3), {100, 2000}, {'x': 5, 'y': 8}]"
            ]
          },
          "metadata": {},
          "execution_count": 87
        }
      ]
    },
    {
      "cell_type": "markdown",
      "source": [
        "### list는 (+)연산자를 사용하여 연결하기를 할 수 있다."
      ],
      "metadata": {
        "id": "KSlKzk4IjI0m"
      }
    },
    {
      "cell_type": "code",
      "source": [
        "a = [1,2]\n",
        "a + a"
      ],
      "metadata": {
        "colab": {
          "base_uri": "https://localhost:8080/"
        },
        "id": "SdhpNNkojOZ3",
        "outputId": "f9e593bc-9b01-49ea-9589-5f1a6ce2698e"
      },
      "execution_count": null,
      "outputs": [
        {
          "output_type": "execute_result",
          "data": {
            "text/plain": [
              "[1, 2, 1, 2]"
            ]
          },
          "metadata": {},
          "execution_count": 88
        }
      ]
    },
    {
      "cell_type": "code",
      "source": [
        "# a + 2 -> TypeError: can only concatenate list (not \"int\") to list\n",
        "\n",
        "a*5\n",
        "\n",
        "# a*a -> TypeError: can't multiply sequence by non-int of type 'list'"
      ],
      "metadata": {
        "colab": {
          "base_uri": "https://localhost:8080/"
        },
        "id": "rIFLO8gBjb00",
        "outputId": "de44b791-8ec3-4940-f8fb-77f6b4af9c93"
      },
      "execution_count": null,
      "outputs": [
        {
          "output_type": "execute_result",
          "data": {
            "text/plain": [
              "[1, 2, 1, 2, 1, 2, 1, 2, 1, 2]"
            ]
          },
          "metadata": {},
          "execution_count": 94
        }
      ]
    },
    {
      "cell_type": "markdown",
      "source": [
        "### list에서 특정 값이 있는지 멤버 검사를 할 수 있다."
      ],
      "metadata": {
        "id": "Yjq_fwhvj1G3"
      }
    },
    {
      "cell_type": "code",
      "source": [
        "print(3 in a)\n",
        "print(1 in a)"
      ],
      "metadata": {
        "colab": {
          "base_uri": "https://localhost:8080/"
        },
        "id": "qx1BG95ZkaXW",
        "outputId": "a96bd85f-8a3b-40eb-9f03-4d031706b953"
      },
      "execution_count": null,
      "outputs": [
        {
          "output_type": "stream",
          "name": "stdout",
          "text": [
            "False\n",
            "True\n"
          ]
        }
      ]
    },
    {
      "cell_type": "markdown",
      "source": [
        "### list는 mutable이므로 요소들을 변경할 수 있다.(가변성)"
      ],
      "metadata": {
        "id": "9LIrrLLOj9_P"
      }
    },
    {
      "cell_type": "code",
      "source": [
        "a = ['apple', 'banana', 100, 200]\n",
        "print(a)\n",
        "\n",
        "#a[0]=1\n",
        "#a[1]=2\n",
        "\n",
        "a[0:2] = [1,2] # 지정한 범위의 요소를 변경한다. (원소값변경)\n",
        "print(a)"
      ],
      "metadata": {
        "colab": {
          "base_uri": "https://localhost:8080/"
        },
        "id": "e1pZjESqkg2L",
        "outputId": "50c6211b-87f1-4e0a-ffc6-86073519bb74"
      },
      "execution_count": null,
      "outputs": [
        {
          "output_type": "stream",
          "name": "stdout",
          "text": [
            "['apple', 'banana', 100, 200]\n",
            "[1, 2, 100, 200]\n"
          ]
        }
      ]
    },
    {
      "cell_type": "code",
      "source": [
        "a = ['apple', 'banana', 100, 200]\n",
        "print(a)\n",
        "# a[0:2] = 50 -> TypeError: can only assign an iterable\n",
        "a[0:2] = [50] # 지정한 범위의 요소를 변경한다. (크기변경)\n",
        "print(a)\n"
      ],
      "metadata": {
        "colab": {
          "base_uri": "https://localhost:8080/"
        },
        "id": "8TIFBuYLlMAz",
        "outputId": "15a25337-fb56-4106-e2d5-44883f47bf30"
      },
      "execution_count": null,
      "outputs": [
        {
          "output_type": "stream",
          "name": "stdout",
          "text": [
            "['apple', 'banana', 100, 200]\n",
            "[50, 100, 200]\n"
          ]
        }
      ]
    },
    {
      "cell_type": "code",
      "source": [
        "# 크기변경은 증가 감소 모두 가능하다.\n",
        "a = ['apple', 'banana', 100, 200]\n",
        "print(a)\n",
        "a[0:2] = [10,20,30,40]\n",
        "print(a)"
      ],
      "metadata": {
        "colab": {
          "base_uri": "https://localhost:8080/"
        },
        "id": "6dQ_Vn96l6Yt",
        "outputId": "52ba7d12-a92a-4b39-83d7-627cf8d60dc0"
      },
      "execution_count": null,
      "outputs": [
        {
          "output_type": "stream",
          "name": "stdout",
          "text": [
            "['apple', 'banana', 100, 200]\n",
            "[10, 20, 30, 40, 100, 200]\n"
          ]
        }
      ]
    },
    {
      "cell_type": "code",
      "source": [
        "a = ['apple', 'banana', 100, 200]\n",
        "print(a)\n",
        "a[0:2]=[] # 지정한 범위의 요소를 변경한다. (삭제)\n",
        "print(a)"
      ],
      "metadata": {
        "colab": {
          "base_uri": "https://localhost:8080/"
        },
        "id": "8242IUGfmOVe",
        "outputId": "e729220d-8f77-4c82-993e-b58c8c60b0d1"
      },
      "execution_count": null,
      "outputs": [
        {
          "output_type": "stream",
          "name": "stdout",
          "text": [
            "['apple', 'banana', 100, 200]\n",
            "[100, 200]\n"
          ]
        }
      ]
    },
    {
      "cell_type": "code",
      "source": [
        "a = ['apple', 'banana', 100, 200]\n",
        "print(a)\n",
        "\n",
        "del a[0:2] # del 키워드를 이용해서 요소를 삭제할 수 있다.\n",
        "print(a)"
      ],
      "metadata": {
        "colab": {
          "base_uri": "https://localhost:8080/"
        },
        "id": "vyj6BRXmm9ej",
        "outputId": "07daa69c-1516-443c-db8a-1eb50da298c4"
      },
      "execution_count": null,
      "outputs": [
        {
          "output_type": "stream",
          "name": "stdout",
          "text": [
            "['apple', 'banana', 100, 200]\n",
            "[100, 200]\n"
          ]
        }
      ]
    },
    {
      "cell_type": "markdown",
      "source": [
        "### list에 요소를 추가할 수 있다."
      ],
      "metadata": {
        "id": "r8YX8WOWnYm5"
      }
    },
    {
      "cell_type": "code",
      "source": [
        "a = [3, 6, 9]\n",
        "print(a)\n",
        "\n",
        "a[3:3]=['red', 'blue', 'green'] # 슬라이싱\n",
        "print(a)"
      ],
      "metadata": {
        "colab": {
          "base_uri": "https://localhost:8080/"
        },
        "id": "R6iQUPYYnrDe",
        "outputId": "1ceed208-307f-4bec-ec8d-57c071542aaf"
      },
      "execution_count": null,
      "outputs": [
        {
          "output_type": "stream",
          "name": "stdout",
          "text": [
            "[3, 6, 9]\n",
            "[3, 6, 9, 'red', 'blue', 'green']\n"
          ]
        }
      ]
    },
    {
      "cell_type": "code",
      "source": [
        "a = [3, 6, 9]\n",
        "print(a)\n",
        "\n",
        "a[2]=['red', 'blue', 'green'] # 인덱싱\n",
        "print(a)"
      ],
      "metadata": {
        "colab": {
          "base_uri": "https://localhost:8080/"
        },
        "id": "0D5We28fomP2",
        "outputId": "067ee0f2-e5a2-443f-c407-a902be0e82f3"
      },
      "execution_count": null,
      "outputs": [
        {
          "output_type": "stream",
          "name": "stdout",
          "text": [
            "[3, 6, 9]\n",
            "[3, 6, ['red', 'blue', 'green']]\n"
          ]
        }
      ]
    },
    {
      "cell_type": "markdown",
      "source": [
        "### list에서 확장슬라이싱을 사용할 때는 왼쪽과 오른쪽 요소 개수가 같아야 한다."
      ],
      "metadata": {
        "id": "IU5183-nrqhK"
      }
    },
    {
      "cell_type": "code",
      "source": [
        "a = [2, 4, 6, 8]\n",
        "print(a)\n",
        "\n",
        "a[:] = [-1, -2, -3 ,-4]\n",
        "print(a)\n",
        "\n",
        "a[:] = [-1, -2]\n",
        "print(a)"
      ],
      "metadata": {
        "colab": {
          "base_uri": "https://localhost:8080/"
        },
        "id": "3M9Jxbvdrwel",
        "outputId": "09fd9f3f-13ba-429b-a130-9a363ea52d2e"
      },
      "execution_count": null,
      "outputs": [
        {
          "output_type": "stream",
          "name": "stdout",
          "text": [
            "[2, 4, 6, 8]\n",
            "[-1, -2, -3, -4]\n",
            "[-1, -2]\n"
          ]
        }
      ]
    },
    {
      "cell_type": "code",
      "source": [
        "a = [2, 4, 6, 8]\n",
        "print(a)\n",
        "\n",
        "a[::1] = [-1, -2, -3 ,-4]\n",
        "print(a)\n",
        "\n",
        "#a[::2] = [-1, -2, -3 ,-4]\n",
        "#print(a) ValueError: attempt to assign sequence of size 4 to extended slice of size 2\n",
        "\n",
        "\n"
      ],
      "metadata": {
        "colab": {
          "base_uri": "https://localhost:8080/"
        },
        "id": "_7OEueDksRPT",
        "outputId": "3d349570-73ee-48d9-ee3f-2353a338faad"
      },
      "execution_count": null,
      "outputs": [
        {
          "output_type": "stream",
          "name": "stdout",
          "text": [
            "[2, 4, 6, 8]\n",
            "[-1, -2, -3, -4]\n"
          ]
        }
      ]
    },
    {
      "cell_type": "code",
      "source": [
        "a = [2, 4, 6, 8]\n",
        "print(a)\n",
        "\n",
        "a[::2] = [-1, -2] #[2,6]이 저장된 자리에 [-1,-2]의 요소를 대체한다.\n",
        "print(a)"
      ],
      "metadata": {
        "colab": {
          "base_uri": "https://localhost:8080/"
        },
        "id": "rmECqE0Ps-5R",
        "outputId": "f992dcaf-aa8b-4e19-8756-3f718448195f"
      },
      "execution_count": null,
      "outputs": [
        {
          "output_type": "stream",
          "name": "stdout",
          "text": [
            "[2, 4, 6, 8]\n",
            "[-1, 4, -2, 8]\n"
          ]
        }
      ]
    },
    {
      "cell_type": "markdown",
      "source": [
        "### list는 한 변수에서 데이터를 각각 꺼내오는 언팩킹(unpacking)지원을 한다."
      ],
      "metadata": {
        "id": "gUzq_PPbtRFg"
      }
    },
    {
      "cell_type": "code",
      "source": [
        "fruits = ['apple', 'mango', 'grape','banana']\n",
        "#a = fruits[0] ... d = fruits[3] print(a,b,c,d) -> 번거로움\n",
        "\n",
        "[zero, one, two, three] = fruits # [ ](대괄호) 생략 가능\n",
        "print(zero, one, two,three)\n",
        "print(type(zero), type(one), type(two), type(three))\n"
      ],
      "metadata": {
        "colab": {
          "base_uri": "https://localhost:8080/"
        },
        "id": "xj5JUc3StzWS",
        "outputId": "4c41ee4d-bd65-4239-d39e-5aad5be6034a"
      },
      "execution_count": null,
      "outputs": [
        {
          "output_type": "stream",
          "name": "stdout",
          "text": [
            "apple mango grape banana\n",
            "<class 'str'> <class 'str'> <class 'str'> <class 'str'>\n"
          ]
        }
      ]
    },
    {
      "cell_type": "code",
      "source": [
        "fruits = ['apple', 'mango', 'grape','banana']\n",
        "print(fruits)\n",
        "x,   _,  _,_ = fruits\n",
        "print(x)"
      ],
      "metadata": {
        "colab": {
          "base_uri": "https://localhost:8080/"
        },
        "id": "4WYLojL9u1wA",
        "outputId": "5ef3d9ef-a393-461c-9b57-2a6d9eb37f65"
      },
      "execution_count": null,
      "outputs": [
        {
          "output_type": "stream",
          "name": "stdout",
          "text": [
            "['apple', 'mango', 'grape', 'banana']\n",
            "apple\n"
          ]
        }
      ]
    },
    {
      "cell_type": "code",
      "source": [
        "fruits = ['apple', 'mango', 'grape','banana']\n",
        "print(fruits)\n",
        "\n",
        "x,*y = fruits # (*)은 한번만 사용할 수 있다.\n",
        "print(x) # list -> str\n",
        "print(y) # list - > list\n",
        "print(type(x),type(y))"
      ],
      "metadata": {
        "colab": {
          "base_uri": "https://localhost:8080/"
        },
        "id": "IPAVi04vvyKQ",
        "outputId": "6392f666-786c-4638-d9bd-9b98c60f6bf3"
      },
      "execution_count": null,
      "outputs": [
        {
          "output_type": "stream",
          "name": "stdout",
          "text": [
            "['apple', 'mango', 'grape', 'banana']\n",
            "apple\n",
            "['mango', 'grape', 'banana']\n",
            "<class 'str'> <class 'list'>\n"
          ]
        }
      ]
    },
    {
      "cell_type": "code",
      "source": [
        "fruits = ['apple', 'mango', 'grape','banana']\n",
        "print(fruits)\n",
        "*x,y=fruits\n",
        "print(x)\n",
        "print(y)\n",
        "\n",
        "x,*y,z =fruits\n",
        "print(x)\n",
        "print(y)\n",
        "print(z)"
      ],
      "metadata": {
        "colab": {
          "base_uri": "https://localhost:8080/"
        },
        "id": "xYdO3b3qwlDb",
        "outputId": "e3ec30f4-0c21-4b7c-d2b7-a722f813e594"
      },
      "execution_count": null,
      "outputs": [
        {
          "output_type": "stream",
          "name": "stdout",
          "text": [
            "['apple', 'mango', 'grape', 'banana']\n",
            "['apple', 'mango', 'grape']\n",
            "banana\n",
            "apple\n",
            "['mango', 'grape']\n",
            "banana\n"
          ]
        }
      ]
    },
    {
      "cell_type": "code",
      "source": [
        "len(a) # function\n",
        "y.append(3) # method"
      ],
      "metadata": {
        "id": "WXkTtdLnw7X_"
      },
      "execution_count": null,
      "outputs": []
    },
    {
      "cell_type": "markdown",
      "source": [
        "### list에서 제공하는 메소드"
      ],
      "metadata": {
        "id": "gYku8QKtyPR3"
      }
    },
    {
      "cell_type": "code",
      "source": [
        "a = [1,2,3]\n",
        "print(type(a))\n",
        "print(dir(a))"
      ],
      "metadata": {
        "colab": {
          "base_uri": "https://localhost:8080/"
        },
        "id": "dpi521kLyRQB",
        "outputId": "f368a35f-a53e-49ec-d0c3-77eb4a8a3392"
      },
      "execution_count": null,
      "outputs": [
        {
          "output_type": "stream",
          "name": "stdout",
          "text": [
            "<class 'list'>\n",
            "['__add__', '__class__', '__class_getitem__', '__contains__', '__delattr__', '__delitem__', '__dir__', '__doc__', '__eq__', '__format__', '__ge__', '__getattribute__', '__getitem__', '__gt__', '__hash__', '__iadd__', '__imul__', '__init__', '__init_subclass__', '__iter__', '__le__', '__len__', '__lt__', '__mul__', '__ne__', '__new__', '__reduce__', '__reduce_ex__', '__repr__', '__reversed__', '__rmul__', '__setattr__', '__setitem__', '__sizeof__', '__str__', '__subclasshook__', 'append', 'clear', 'copy', 'count', 'extend', 'index', 'insert', 'pop', 'remove', 'reverse', 'sort']\n"
          ]
        }
      ]
    },
    {
      "cell_type": "code",
      "source": [
        "a = [1,2,3]\n",
        "a.append(4) # 요소 추가\n",
        "print(a)\n",
        "\n",
        "# a.append(5,6) print(a) -> TypeError: list.append() takes exactly one argument (2 given)"
      ],
      "metadata": {
        "colab": {
          "base_uri": "https://localhost:8080/"
        },
        "id": "D73L0HyJybQQ",
        "outputId": "7e02b71b-481b-4476-a71a-946a00a6031b"
      },
      "execution_count": null,
      "outputs": [
        {
          "output_type": "stream",
          "name": "stdout",
          "text": [
            "[1, 2, 3, 4]\n"
          ]
        }
      ]
    },
    {
      "cell_type": "code",
      "source": [
        "a = [1,2,3]\n",
        "a.reverse()\n",
        "print(a) # 치환 (역순)"
      ],
      "metadata": {
        "colab": {
          "base_uri": "https://localhost:8080/"
        },
        "id": "GxpSAYi1yo7z",
        "outputId": "70fe881e-e6d0-46c0-b904-a5042f22d273"
      },
      "execution_count": null,
      "outputs": [
        {
          "output_type": "stream",
          "name": "stdout",
          "text": [
            "[3, 2, 1]\n"
          ]
        }
      ]
    },
    {
      "cell_type": "code",
      "source": [
        "a = [1,2,3]\n",
        "#print(a.index(0)) # ValueError: 0 is not in list\n",
        "\n",
        "print(a.index(1)) # 1요소가 지정된 위치를 리턴\n",
        "#print(a.find(1)) # AttributeError: 'list' object has no attribute 'find'"
      ],
      "metadata": {
        "colab": {
          "base_uri": "https://localhost:8080/"
        },
        "id": "yvjq7w2RzMzP",
        "outputId": "c8e000d1-e751-4967-ce0a-edebf7230435"
      },
      "execution_count": null,
      "outputs": [
        {
          "output_type": "stream",
          "name": "stdout",
          "text": [
            "0\n"
          ]
        }
      ]
    },
    {
      "cell_type": "code",
      "source": [
        "a = [1,2,3]\n",
        "a.insert(1, 10) # 1인덱스에 10요소를 삽입\n",
        "print(a)"
      ],
      "metadata": {
        "colab": {
          "base_uri": "https://localhost:8080/"
        },
        "id": "SK9gi425zrIY",
        "outputId": "bc32e146-9975-46ee-fd4f-81e8063145af"
      },
      "execution_count": null,
      "outputs": [
        {
          "output_type": "stream",
          "name": "stdout",
          "text": [
            "[1, 10, 2, 3]\n"
          ]
        }
      ]
    },
    {
      "cell_type": "code",
      "source": [
        "a = [1,2,3]\n",
        "a.remove(3) # 3요소를 삭제\n",
        "print(a)\n",
        "b = a.remove(2) #remove(value) return값 None\n",
        "print(b)"
      ],
      "metadata": {
        "colab": {
          "base_uri": "https://localhost:8080/"
        },
        "id": "_4Jk5weO0Kcv",
        "outputId": "db9dda4f-57e8-46f9-e842-8c141c4375d6"
      },
      "execution_count": null,
      "outputs": [
        {
          "output_type": "stream",
          "name": "stdout",
          "text": [
            "[1, 2]\n",
            "None\n"
          ]
        }
      ]
    },
    {
      "cell_type": "code",
      "source": [
        "a = [1,2,3,3,3,3,3,3]\n",
        "a.remove(3) # 중복해서 있을 경우 첫번째 요소만 삭제\n",
        "print(a)"
      ],
      "metadata": {
        "colab": {
          "base_uri": "https://localhost:8080/"
        },
        "id": "eOEJcDpL0YaH",
        "outputId": "b10b006f-8735-4ffa-a84d-0ff3b47482df"
      },
      "execution_count": null,
      "outputs": [
        {
          "output_type": "stream",
          "name": "stdout",
          "text": [
            "[1, 2, 3, 3, 3, 3, 3]\n"
          ]
        }
      ]
    },
    {
      "cell_type": "code",
      "source": [
        "a = [1,2,3]\n",
        "a.pop(2) # 2인덱스의 요소를 list에서 꺼내옴\n",
        "print(a)\n",
        "b = a.pop(1) # pop(index) return값 있음\n",
        "print(b)"
      ],
      "metadata": {
        "colab": {
          "base_uri": "https://localhost:8080/"
        },
        "id": "zlKLidFk0vYs",
        "outputId": "ab31f65d-b0d9-47a7-c6a1-d7b7a0c1dfeb"
      },
      "execution_count": null,
      "outputs": [
        {
          "output_type": "stream",
          "name": "stdout",
          "text": [
            "[1, 2]\n",
            "2\n"
          ]
        }
      ]
    },
    {
      "cell_type": "code",
      "source": [
        "a = [1,1,2,3]\n",
        "print(a.count(1)) # 1요소의 개수를 리턴함."
      ],
      "metadata": {
        "colab": {
          "base_uri": "https://localhost:8080/"
        },
        "id": "qozQcEiN137_",
        "outputId": "83093efa-ee73-451d-dec9-bcf3f878f4e7"
      },
      "execution_count": null,
      "outputs": [
        {
          "output_type": "stream",
          "name": "stdout",
          "text": [
            "2\n"
          ]
        }
      ]
    },
    {
      "cell_type": "code",
      "source": [
        "a = [1,2,3]\n",
        "a.extend([4,5]) # list를 확장함 (+)연산자와는 다르고 (+=)와 같은 의미.\n",
        "print(a)\n",
        "b = a.extend([6,7]) #extend(iterable) return값 None\n",
        "print(b)"
      ],
      "metadata": {
        "colab": {
          "base_uri": "https://localhost:8080/"
        },
        "id": "OhOX80yf1-rf",
        "outputId": "7b97011e-d712-4d38-e3ad-ca8e10db1300"
      },
      "execution_count": null,
      "outputs": [
        {
          "output_type": "stream",
          "name": "stdout",
          "text": [
            "[1, 2, 3, 4, 5]\n",
            "None\n"
          ]
        }
      ]
    },
    {
      "cell_type": "code",
      "source": [
        "a = [1,2,3]\n",
        "a += [4,5]\n",
        "print (a)"
      ],
      "metadata": {
        "colab": {
          "base_uri": "https://localhost:8080/"
        },
        "id": "wyqas_rU54-O",
        "outputId": "f0b607c5-8c12-40b2-db80-89f95c0b1f70"
      },
      "execution_count": null,
      "outputs": [
        {
          "output_type": "stream",
          "name": "stdout",
          "text": [
            "[1, 2, 3, 4, 5]\n"
          ]
        }
      ]
    },
    {
      "cell_type": "markdown",
      "source": [
        "## Tuple(튜플)\n",
        " - 변경이 불가능(immutable)한 순서(sequence)가 있는 자료형이다.\n",
        " - 튜플은 ( )소괄호로 표현한다.\n"
      ],
      "metadata": {
        "id": "v5Dt0-IC6YMT"
      }
    },
    {
      "cell_type": "code",
      "source": [
        "t = ( )\n",
        "print(t)\n",
        "print(type(t))\n",
        "print(dir(t))"
      ],
      "metadata": {
        "colab": {
          "base_uri": "https://localhost:8080/"
        },
        "id": "vKJqcqAJ6lsH",
        "outputId": "56e9ddf6-97f2-41f5-fe68-98c72054dbb6"
      },
      "execution_count": null,
      "outputs": [
        {
          "output_type": "stream",
          "name": "stdout",
          "text": [
            "()\n",
            "<class 'tuple'>\n",
            "['__add__', '__class__', '__class_getitem__', '__contains__', '__delattr__', '__dir__', '__doc__', '__eq__', '__format__', '__ge__', '__getattribute__', '__getitem__', '__getnewargs__', '__gt__', '__hash__', '__init__', '__init_subclass__', '__iter__', '__le__', '__len__', '__lt__', '__mul__', '__ne__', '__new__', '__reduce__', '__reduce_ex__', '__repr__', '__rmul__', '__setattr__', '__sizeof__', '__str__', '__subclasshook__', 'count', 'index']\n"
          ]
        }
      ]
    },
    {
      "cell_type": "code",
      "source": [
        "t = (10,20,30) # tuple은 콤마(,)로 구분하여 사용한다.\n",
        "print(t)"
      ],
      "metadata": {
        "colab": {
          "base_uri": "https://localhost:8080/"
        },
        "id": "YIRZ2fZd6_w1",
        "outputId": "5054b4a9-21b2-4b2b-be80-fdc7e9155699"
      },
      "execution_count": null,
      "outputs": [
        {
          "output_type": "stream",
          "name": "stdout",
          "text": [
            "(10, 20, 30)\n"
          ]
        }
      ]
    },
    {
      "cell_type": "code",
      "source": [
        "t = 10,20,30 # tuple은 (  )괄호 생략이 가능하다.\n",
        "print(t)\n",
        "print(type(t))"
      ],
      "metadata": {
        "colab": {
          "base_uri": "https://localhost:8080/"
        },
        "id": "QNKB0dkI7NOJ",
        "outputId": "d6b424a0-a5bc-4954-99d9-ea3ef1e4ecfe"
      },
      "execution_count": null,
      "outputs": [
        {
          "output_type": "stream",
          "name": "stdout",
          "text": [
            "(10, 20, 30)\n",
            "<class 'tuple'>\n"
          ]
        }
      ]
    },
    {
      "cell_type": "code",
      "source": [
        "#t = (1) -> class 'int'\n",
        "t = (1,) #요소가 하나이면 콤마를 사용한다.\n",
        "print(t)\n",
        "print(type(t))\n",
        "\n",
        "# 괄호 생략은 가능하지만 콤마 생략은 불가능하다."
      ],
      "metadata": {
        "colab": {
          "base_uri": "https://localhost:8080/"
        },
        "id": "vj9QP_-K7pRc",
        "outputId": "d95d5b80-3d51-4548-b4d4-e1d7a2fee068"
      },
      "execution_count": null,
      "outputs": [
        {
          "output_type": "stream",
          "name": "stdout",
          "text": [
            "(1,)\n",
            "<class 'tuple'>\n"
          ]
        }
      ]
    },
    {
      "cell_type": "code",
      "source": [
        "# 다양한 데이터 타입의 값을 저장할 수 있다.\n",
        "t = (1, ('ko','en'),False) # (int tuple bool)\n",
        "print(t)"
      ],
      "metadata": {
        "colab": {
          "base_uri": "https://localhost:8080/"
        },
        "id": "2Pux9b038QvH",
        "outputId": "ec83f863-4346-4c78-f531-b47cec2be53c"
      },
      "execution_count": null,
      "outputs": [
        {
          "output_type": "stream",
          "name": "stdout",
          "text": [
            "(1, ('ko', 'en'), False)\n"
          ]
        }
      ]
    },
    {
      "cell_type": "code",
      "source": [
        " # (+)연산자로 연결하기가 가능하다.\n",
        "t = (1, 2, 3) + (4, 5)\n",
        "print(t)"
      ],
      "metadata": {
        "colab": {
          "base_uri": "https://localhost:8080/"
        },
        "id": "VV8KU1yD8sIg",
        "outputId": "cda5faa5-7afa-4371-abc6-aa415ba4816b"
      },
      "execution_count": null,
      "outputs": [
        {
          "output_type": "stream",
          "name": "stdout",
          "text": [
            "(1, 2, 3, 4, 5)\n"
          ]
        }
      ]
    },
    {
      "cell_type": "code",
      "source": [
        " # (*)연산자로 반복하기가 가능하다.\n",
        "t = (1,1,1) * 3\n",
        "print(t)"
      ],
      "metadata": {
        "colab": {
          "base_uri": "https://localhost:8080/"
        },
        "id": "0sW5oTg08_E_",
        "outputId": "4d1ae6fb-1aed-432f-f161-84d20eb1531d"
      },
      "execution_count": null,
      "outputs": [
        {
          "output_type": "stream",
          "name": "stdout",
          "text": [
            "(1, 1, 1, 1, 1, 1, 1, 1, 1)\n"
          ]
        }
      ]
    },
    {
      "cell_type": "code",
      "source": [
        "# in으로 멤버검사가 가능하다.\n",
        "t = (1,2,3)\n",
        "print(2 in t)\n",
        "print(4 in t)"
      ],
      "metadata": {
        "colab": {
          "base_uri": "https://localhost:8080/"
        },
        "id": "rrxrI6Na9Mrw",
        "outputId": "44d6cf70-99d6-4f4b-9b13-203528807fef"
      },
      "execution_count": null,
      "outputs": [
        {
          "output_type": "stream",
          "name": "stdout",
          "text": [
            "True\n",
            "False\n"
          ]
        }
      ]
    },
    {
      "cell_type": "code",
      "source": [
        "t = (5, 10 ,15 ,20 ,25 ,30)\n",
        "print(t)\n",
        "print(t[0]) # indexing\n",
        "#print(t[0,2,5]) -> TypeError: tuple indices must be integers or slices, not tuple\n",
        "\n",
        "print(t[0:5]) # slicing"
      ],
      "metadata": {
        "colab": {
          "base_uri": "https://localhost:8080/"
        },
        "id": "JedFMGEa9fPH",
        "outputId": "930790f4-6ebd-4e9e-9b10-b3d2e4cd1a60"
      },
      "execution_count": null,
      "outputs": [
        {
          "output_type": "stream",
          "name": "stdout",
          "text": [
            "(5, 10, 15, 20, 25, 30)\n",
            "5\n",
            "(5, 10, 15, 20, 25)\n"
          ]
        }
      ]
    },
    {
      "cell_type": "markdown",
      "source": [
        "### tuple에서 언패킹(unpacking)"
      ],
      "metadata": {
        "id": "8bXpkQPp_hJ0"
      }
    },
    {
      "cell_type": "code",
      "source": [
        "t = (10,15,20,25,30,35)\n",
        "x,y,*z = t\n",
        "print(x)\n",
        "print(y)\n",
        "print(z) # 나머지 -> class 'list'"
      ],
      "metadata": {
        "colab": {
          "base_uri": "https://localhost:8080/"
        },
        "id": "atApovT3_nEm",
        "outputId": "3e525baa-5683-4761-f3ae-5db1af366379"
      },
      "execution_count": null,
      "outputs": [
        {
          "output_type": "stream",
          "name": "stdout",
          "text": [
            "10\n",
            "15\n",
            "[20, 25, 30, 35]\n",
            "<class 'list'>\n"
          ]
        }
      ]
    },
    {
      "cell_type": "code",
      "source": [
        "x,*_,z = t # 안쓰는 부분은 (*_)로 처리 가능\n",
        "print(x)\n",
        "#print(y)\n",
        "print(z)"
      ],
      "metadata": {
        "colab": {
          "base_uri": "https://localhost:8080/"
        },
        "id": "aO-TBleOASLZ",
        "outputId": "df5479c0-6497-44a5-8033-ba7506285be7"
      },
      "execution_count": null,
      "outputs": [
        {
          "output_type": "stream",
          "name": "stdout",
          "text": [
            "10\n",
            "35\n"
          ]
        }
      ]
    },
    {
      "cell_type": "code",
      "source": [
        "t = (10,15), (20,25)\n",
        "x,y = t\n",
        "print(x)\n",
        "print(y)\n",
        "\n",
        "print('-------------')\n",
        "#x,y,m.n=t #ValueError: not enough values to unpack (expected 3, got 2)\n",
        "(x,y),(m,n)=t\n",
        "print(x)\n",
        "print(y)\n",
        "print(m)\n",
        "print(n)"
      ],
      "metadata": {
        "colab": {
          "base_uri": "https://localhost:8080/"
        },
        "id": "YgYKu7OnAwsW",
        "outputId": "d35f11c5-09ef-4270-8cf6-d8ca6b6e1e57"
      },
      "execution_count": null,
      "outputs": [
        {
          "output_type": "stream",
          "name": "stdout",
          "text": [
            "(10, 15)\n",
            "(20, 25)\n",
            "-------------\n",
            "10\n",
            "15\n",
            "20\n",
            "25\n"
          ]
        }
      ]
    },
    {
      "cell_type": "markdown",
      "source": [
        "### tuple 메소드(method) 제공\n",
        " - count, index 제공"
      ],
      "metadata": {
        "id": "fsw_kk4m93om"
      }
    },
    {
      "cell_type": "code",
      "source": [
        "t = (1,2,3,2,2,3)\n",
        "print(t.count(3)) # 3요소의 개수 리턴\n",
        "print(t.index(2)) # 2요소의 index를 리턴 (처음 검색된 요소)\n",
        "\n",
        "print(t.index(3,4)) # index(value, start) 4인덱스부터 3요소의 인덱스를 리턴"
      ],
      "metadata": {
        "colab": {
          "base_uri": "https://localhost:8080/"
        },
        "id": "5nCUfYLP-QBH",
        "outputId": "79cf5e00-54a9-4f91-d499-1701adc88313"
      },
      "execution_count": null,
      "outputs": [
        {
          "output_type": "stream",
          "name": "stdout",
          "text": [
            "2\n",
            "1\n",
            "5\n"
          ]
        }
      ]
    },
    {
      "cell_type": "markdown",
      "source": [
        "## tuple과 list 비교\n",
        " - 공통점\n",
        "   - 다양한 데이터 타입의 객체 저장 가능\n",
        "   - 순서가 유지되는 순서자료형(sequence)\n",
        " - 자료형\n",
        "   - tuple은 변경불가능(immutable)   \n",
        "   - list는 변경가능(mutable)"
      ],
      "metadata": {
        "id": "QKks8fDhB8eN"
      }
    },
    {
      "cell_type": "code",
      "source": [
        "t = (1, 2, 3)\n",
        "print(t)\n",
        "print(type(t))"
      ],
      "metadata": {
        "colab": {
          "base_uri": "https://localhost:8080/"
        },
        "id": "u9YmmMVbCeTP",
        "outputId": "645fffb4-b6d5-4aae-f9c7-e28ec3896ad0"
      },
      "execution_count": null,
      "outputs": [
        {
          "output_type": "stream",
          "name": "stdout",
          "text": [
            "(1, 2, 3)\n",
            "<class 'tuple'>\n"
          ]
        }
      ]
    },
    {
      "cell_type": "code",
      "source": [
        "s = list(t) # 함수를 이용해서 tuple을 list로 생성\n",
        "print(s)\n",
        "print(type(s))"
      ],
      "metadata": {
        "colab": {
          "base_uri": "https://localhost:8080/"
        },
        "id": "OF6mNh6zCqnd",
        "outputId": "fa98c6a6-7066-43d2-b2a1-ecbb1aa5c39c"
      },
      "execution_count": null,
      "outputs": [
        {
          "output_type": "stream",
          "name": "stdout",
          "text": [
            "[1, 2, 3]\n",
            "<class 'list'>\n"
          ]
        }
      ]
    },
    {
      "cell_type": "code",
      "source": [
        "p = tuple(s) # 함수를 이용해서 list를 tuple로 생성\n",
        "print(p)\n",
        "print(type(p))"
      ],
      "metadata": {
        "colab": {
          "base_uri": "https://localhost:8080/"
        },
        "id": "oA7aMPjnC7YV",
        "outputId": "d450acb5-65e4-46cb-dec2-89322b95cedc"
      },
      "execution_count": null,
      "outputs": [
        {
          "output_type": "stream",
          "name": "stdout",
          "text": [
            "(1, 2, 3)\n",
            "<class 'tuple'>\n"
          ]
        }
      ]
    },
    {
      "cell_type": "code",
      "source": [
        "t = (1,2,3) # 생성시 콤마뒤의 공백 유무에 상관없이 띄어처리함.\n",
        "v = str(t)\n",
        "print(v)\n",
        "print(type(v))\n",
        "print(len(v)) # ()와 띄어처리한 공백까지 str 형식으로 치환됨."
      ],
      "metadata": {
        "colab": {
          "base_uri": "https://localhost:8080/"
        },
        "id": "WMU38yehDGus",
        "outputId": "04601d5f-cf35-4988-914c-d5fedf941a51"
      },
      "execution_count": null,
      "outputs": [
        {
          "output_type": "stream",
          "name": "stdout",
          "text": [
            "(1, 2, 3)\n",
            "<class 'str'>\n",
            "9\n"
          ]
        }
      ]
    },
    {
      "cell_type": "code",
      "source": [
        "i = [1,2,3] # 생성시 콤마뒤의 공백 유무에 상관없이 띄어처리함.\n",
        "m = str(t)\n",
        "print(m)\n",
        "print(type(m))\n",
        "print(len(m)) # ()와 띄어처리한 공백까지 str 형식으로 치환됨."
      ],
      "metadata": {
        "colab": {
          "base_uri": "https://localhost:8080/"
        },
        "id": "jJIGWuUUXZjB",
        "outputId": "8d970ae8-7345-4604-f7d0-3bd820b0dba5"
      },
      "execution_count": null,
      "outputs": [
        {
          "output_type": "stream",
          "name": "stdout",
          "text": [
            "(1, 2, 3)\n",
            "<class 'str'>\n",
            "9\n"
          ]
        }
      ]
    },
    {
      "cell_type": "markdown",
      "source": [
        "## 집합(sets)\n",
        "  - 집합은 여러 값을 순서와 중복없이 모아 놓은 자료형\n",
        "  - python은 set과 frozenset 두가지 집합자료형을 제공\n",
        "  - set은 변경 가능한 자료형이고 frozenset은 변경 불가능한 자료형\n",
        "  - set은 { }중괄호로 사용할 수 없으나 set( )으로 표현"
      ],
      "metadata": {
        "id": "YpI8lOQLYFbP"
      }
    },
    {
      "cell_type": "code",
      "source": [
        "s = {} # [] = list(), () = tuple(), {} = dict{}\n",
        "print(s)\n",
        "print(type(s))"
      ],
      "metadata": {
        "colab": {
          "base_uri": "https://localhost:8080/"
        },
        "id": "3x2G6iQpY4Ko",
        "outputId": "74d97d17-7c97-4144-91e6-9e1099548637"
      },
      "execution_count": null,
      "outputs": [
        {
          "output_type": "stream",
          "name": "stdout",
          "text": [
            "{}\n",
            "<class 'dict'>\n"
          ]
        }
      ]
    },
    {
      "cell_type": "markdown",
      "source": [
        "### 집합(set)\n",
        " - 멤버십(원소와 집합사이의 귀속관계)검사, 시퀀스에서의 중복제거와 교집합,차집합 합집합등 수학연산 수행에 사용된다.\n",
        " - 순서가 유지가 안되므로 인덱싱과 슬라이싱을 사용할 수 없다.\n",
        " - 반복 가능(iterable)한 객체로 집합 객체를 생성할 수 있다."
      ],
      "metadata": {
        "id": "A_KcxKZla_Nw"
      }
    },
    {
      "cell_type": "code",
      "source": [
        "s = set() # set(iterable)\n",
        "print(s)\n",
        "print(type(s))"
      ],
      "metadata": {
        "colab": {
          "base_uri": "https://localhost:8080/"
        },
        "id": "DulIAebNZbG8",
        "outputId": "1dca093a-94cd-4fdd-e4a7-ac768e78a647"
      },
      "execution_count": null,
      "outputs": [
        {
          "output_type": "stream",
          "name": "stdout",
          "text": [
            "set()\n",
            "<class 'set'>\n"
          ]
        }
      ]
    },
    {
      "cell_type": "code",
      "source": [
        "set((3, 1, 5, -2, 1))  # 순서 유지가 않되고 중복없이 오름차순으로 정렬이 됨."
      ],
      "metadata": {
        "colab": {
          "base_uri": "https://localhost:8080/"
        },
        "id": "_5_iNE9OZq2o",
        "outputId": "90738246-eae5-40d8-dd47-3b1a214b741a"
      },
      "execution_count": null,
      "outputs": [
        {
          "output_type": "execute_result",
          "data": {
            "text/plain": [
              "{-2, 1, 3, 5}"
            ]
          },
          "metadata": {},
          "execution_count": 324
        }
      ]
    },
    {
      "cell_type": "code",
      "source": [
        "a = (3, 1, 5, -2, 1)\n",
        "b = set(a)\n",
        "print(b)"
      ],
      "metadata": {
        "colab": {
          "base_uri": "https://localhost:8080/"
        },
        "id": "dyUPhM3cb51I",
        "outputId": "9074401e-471d-4b7d-caa0-830b676a79b9"
      },
      "execution_count": null,
      "outputs": [
        {
          "output_type": "stream",
          "name": "stdout",
          "text": [
            "{1, 3, 5, -2}\n"
          ]
        }
      ]
    },
    {
      "cell_type": "code",
      "source": [
        "set('apple')"
      ],
      "metadata": {
        "colab": {
          "base_uri": "https://localhost:8080/"
        },
        "id": "IQOo3BEpc-bv",
        "outputId": "8a7e2a55-b292-44a0-87a0-726b0323bda0"
      },
      "execution_count": null,
      "outputs": [
        {
          "output_type": "execute_result",
          "data": {
            "text/plain": [
              "{'a', 'e', 'l', 'p'}"
            ]
          },
          "metadata": {},
          "execution_count": 454
        }
      ]
    },
    {
      "cell_type": "code",
      "source": [
        "set([3, 1, 5, -2, 1])"
      ],
      "metadata": {
        "colab": {
          "base_uri": "https://localhost:8080/"
        },
        "id": "M992upBxaJEo",
        "outputId": "800c26a6-4325-4c39-d78c-e124d4780436"
      },
      "execution_count": null,
      "outputs": [
        {
          "output_type": "execute_result",
          "data": {
            "text/plain": [
              "{-2, 1, 3, 5}"
            ]
          },
          "metadata": {},
          "execution_count": 325
        }
      ]
    },
    {
      "cell_type": "code",
      "source": [
        "a = [3, 1, 5, -2, 1]\n",
        "b = set(a) # deep copy : 메모리 생성\n",
        "print(b)\n",
        "\n",
        "a[0] = 2\n",
        "print(a)\n",
        "print(b) # 참조형 값이 변해도 set값은 변하지 않음."
      ],
      "metadata": {
        "colab": {
          "base_uri": "https://localhost:8080/"
        },
        "id": "uFmpKeDAcGAY",
        "outputId": "f7758316-1ee9-4002-f543-1bd89b718df3"
      },
      "execution_count": null,
      "outputs": [
        {
          "output_type": "stream",
          "name": "stdout",
          "text": [
            "{1, 3, 5, -2}\n",
            "[2, 1, 5, -2, 1]\n",
            "{1, 3, 5, -2}\n"
          ]
        }
      ]
    },
    {
      "cell_type": "code",
      "source": [
        "# set으로 생성할때는 변경 불가능한 데이터만 가능하다.\n",
        "k = [2,4]\n",
        "a = [3,1,k,1] # 주소는 변경이 가능하기 때문에 사용 불가능.\n",
        "print(a)\n",
        "#b = set(a) -> TypeError: unhashable type: 'list'"
      ],
      "metadata": {
        "colab": {
          "base_uri": "https://localhost:8080/"
        },
        "id": "eOnL_YNRdVKX",
        "outputId": "f272ffa2-f9ed-4840-8739-5677c89f712e"
      },
      "execution_count": null,
      "outputs": [
        {
          "output_type": "stream",
          "name": "stdout",
          "text": [
            "[3, 1, [2, 4], 1]\n"
          ]
        }
      ]
    },
    {
      "cell_type": "code",
      "source": [
        "b =set({'one':1,'two':2}) # dict자료형으로 set을 생성하면 키만 참조한다.\n",
        "print(b)\n",
        "print(type(b))"
      ],
      "metadata": {
        "colab": {
          "base_uri": "https://localhost:8080/"
        },
        "id": "Am0-tBC1fB6S",
        "outputId": "0fbc6c76-e0d1-45bc-f3ad-c4b7f0385dfc"
      },
      "execution_count": null,
      "outputs": [
        {
          "output_type": "stream",
          "name": "stdout",
          "text": [
            "{'two', 'one'}\n",
            "<class 'set'>\n"
          ]
        }
      ]
    },
    {
      "cell_type": "code",
      "source": [
        "b =set({'one','two','under','app'})\n",
        "print(b)\n",
        "print(type(b))"
      ],
      "metadata": {
        "colab": {
          "base_uri": "https://localhost:8080/"
        },
        "id": "4RNccX_jiZAV",
        "outputId": "af982e3e-e824-4004-c24b-48e0abf86c5a"
      },
      "execution_count": null,
      "outputs": [
        {
          "output_type": "stream",
          "name": "stdout",
          "text": [
            "{'under', 'two', 'app', 'one'}\n",
            "<class 'set'>\n"
          ]
        }
      ]
    },
    {
      "cell_type": "code",
      "source": [
        "print(dir(set()))"
      ],
      "metadata": {
        "colab": {
          "base_uri": "https://localhost:8080/"
        },
        "id": "B5_zFN5ZjQK2",
        "outputId": "6ebeb22a-414d-4679-fea6-0ac23378d326"
      },
      "execution_count": null,
      "outputs": [
        {
          "output_type": "stream",
          "name": "stdout",
          "text": [
            "['__and__', '__class__', '__class_getitem__', '__contains__', '__delattr__', '__dir__', '__doc__', '__eq__', '__format__', '__ge__', '__getattribute__', '__gt__', '__hash__', '__iand__', '__init__', '__init_subclass__', '__ior__', '__isub__', '__iter__', '__ixor__', '__le__', '__len__', '__lt__', '__ne__', '__new__', '__or__', '__rand__', '__reduce__', '__reduce_ex__', '__repr__', '__ror__', '__rsub__', '__rxor__', '__setattr__', '__sizeof__', '__str__', '__sub__', '__subclasshook__', '__xor__', 'add', 'clear', 'copy', 'difference', 'difference_update', 'discard', 'intersection', 'intersection_update', 'isdisjoint', 'issubset', 'issuperset', 'pop', 'remove', 'symmetric_difference', 'symmetric_difference_update', 'union', 'update']\n"
          ]
        }
      ]
    },
    {
      "cell_type": "code",
      "source": [
        "a = set((1,2,3,4,5))\n",
        "b = set((4,5,6,7))\n",
        "\n",
        "#합집합\n",
        "print(a.union(b)) # union\n",
        "print(a | b) # (|) 수직바\n",
        "\n",
        "#교집합\n",
        "print(a.intersection(b)) # intersection\n",
        "print(a & b) # (&)\n",
        "\n",
        "#차집합\n",
        "print(a.difference(b)) # difference\n",
        "print(a - b) # (-)"
      ],
      "metadata": {
        "colab": {
          "base_uri": "https://localhost:8080/"
        },
        "id": "Ss_v20oMjhd2",
        "outputId": "614fcd48-7602-4231-f55e-ebd4239b9cc1"
      },
      "execution_count": null,
      "outputs": [
        {
          "output_type": "stream",
          "name": "stdout",
          "text": [
            "{1, 2, 3, 4, 5, 6, 7}\n",
            "{1, 2, 3, 4, 5, 6, 7}\n",
            "{4, 5}\n",
            "{4, 5}\n",
            "{1, 2, 3}\n",
            "{1, 2, 3}\n"
          ]
        }
      ]
    },
    {
      "cell_type": "code",
      "source": [
        "a = set((1,2,3,))\n",
        "a.add(4) # add 요소 추가 -> 한개만\n",
        "print(a)"
      ],
      "metadata": {
        "colab": {
          "base_uri": "https://localhost:8080/"
        },
        "id": "aBVzacDbkL6t",
        "outputId": "b4827ef2-c6e0-47c0-db9c-8231feb932cf"
      },
      "execution_count": null,
      "outputs": [
        {
          "output_type": "stream",
          "name": "stdout",
          "text": [
            "{1, 2, 3, 4}\n"
          ]
        }
      ]
    },
    {
      "cell_type": "code",
      "source": [
        "a = set((1,2,3,))\n",
        "a.update([4,5,6]) # update 요소 추가 -> iterable\n",
        "print(a)"
      ],
      "metadata": {
        "colab": {
          "base_uri": "https://localhost:8080/"
        },
        "id": "oxvhNK2BkZHE",
        "outputId": "a1e46f5f-45c2-42cb-b777-0bacfb367f02"
      },
      "execution_count": null,
      "outputs": [
        {
          "output_type": "stream",
          "name": "stdout",
          "text": [
            "{1, 2, 3, 4, 5, 6}\n"
          ]
        }
      ]
    },
    {
      "cell_type": "code",
      "source": [
        "a = set((1,2,3,))\n",
        "a.remove(2) # remove 요소 삭제\n",
        "print(a)"
      ],
      "metadata": {
        "colab": {
          "base_uri": "https://localhost:8080/"
        },
        "id": "tKOpoGmxlG22",
        "outputId": "1f32ba7a-98f1-4ef0-c95b-f2b816f701ef"
      },
      "execution_count": null,
      "outputs": [
        {
          "output_type": "stream",
          "name": "stdout",
          "text": [
            "{1, 3}\n"
          ]
        }
      ]
    },
    {
      "cell_type": "markdown",
      "source": [
        "### frozenset\n",
        " - 요소를 변경하지 않는 범위에서 set객체와 동일하게 동작한다.\n",
        " - frozenset객체의 생성은 집합을 포함한 반복 가능한 자료형으로부터 가능하다.\n",
        " - frozenset은 frozenset( )으로 생성한다."
      ],
      "metadata": {
        "id": "PRRWiPSXlPRV"
      }
    },
    {
      "cell_type": "code",
      "source": [
        "f = frozenset()\n",
        "print(f)\n",
        "print(type(f))"
      ],
      "metadata": {
        "colab": {
          "base_uri": "https://localhost:8080/"
        },
        "id": "DqgKZ6l1mcMk",
        "outputId": "ae06c197-b9c3-4dfc-862c-2dcac743329e"
      },
      "execution_count": null,
      "outputs": [
        {
          "output_type": "stream",
          "name": "stdout",
          "text": [
            "frozenset()\n",
            "<class 'frozenset'>\n"
          ]
        }
      ]
    },
    {
      "cell_type": "code",
      "source": [
        "f = frozenset([1,2,3,4,5]) #frozenset(iterable) -> frozenset object\n",
        "print(f)"
      ],
      "metadata": {
        "colab": {
          "base_uri": "https://localhost:8080/"
        },
        "id": "RGYukvOzmwHc",
        "outputId": "7732457c-6230-4029-971c-410909fa8afb"
      },
      "execution_count": null,
      "outputs": [
        {
          "output_type": "stream",
          "name": "stdout",
          "text": [
            "frozenset({1, 2, 3, 4, 5})\n"
          ]
        }
      ]
    },
    {
      "cell_type": "code",
      "source": [
        "print(dir(f))"
      ],
      "metadata": {
        "colab": {
          "base_uri": "https://localhost:8080/"
        },
        "id": "eOq2Ugscm7os",
        "outputId": "9f29910b-a764-4817-83a9-6f703cb5b58c"
      },
      "execution_count": null,
      "outputs": [
        {
          "output_type": "stream",
          "name": "stdout",
          "text": [
            "['__and__', '__class__', '__class_getitem__', '__contains__', '__delattr__', '__dir__', '__doc__', '__eq__', '__format__', '__ge__', '__getattribute__', '__gt__', '__hash__', '__init__', '__init_subclass__', '__iter__', '__le__', '__len__', '__lt__', '__ne__', '__new__', '__or__', '__rand__', '__reduce__', '__reduce_ex__', '__repr__', '__ror__', '__rsub__', '__rxor__', '__setattr__', '__sizeof__', '__str__', '__sub__', '__subclasshook__', '__xor__', 'copy', 'difference', 'intersection', 'isdisjoint', 'issubset', 'issuperset', 'symmetric_difference', 'union']\n"
          ]
        }
      ]
    },
    {
      "cell_type": "markdown",
      "source": [
        "## dict\n",
        " - 특정키를 주면 이와 관련된 값을 돌려주는 내용 기반으로 검색하는 자료형이다.\n",
        " - 데이터의 저장 순서가 없다.\n",
        " - 내부적으로 해시 기법을 사용하기 때문에 검색 속도가 빠르다.\n",
        " - key-value형식으로 저장을 하기 때문에 key를 이용해서 value에 접근한다.\n",
        " - key 값은 중복을 허용하지 않는다."
      ],
      "metadata": {
        "id": "ahJEA30inHH9"
      }
    },
    {
      "cell_type": "code",
      "source": [
        "d = {}\n",
        "print(d)\n",
        "print(type(d))"
      ],
      "metadata": {
        "colab": {
          "base_uri": "https://localhost:8080/"
        },
        "id": "6gekhMl1ntLr",
        "outputId": "245b0edd-9278-4b8f-e745-7e1f31ec9f85"
      },
      "execution_count": null,
      "outputs": [
        {
          "output_type": "stream",
          "name": "stdout",
          "text": [
            "{}\n",
            "<class 'dict'>\n"
          ]
        }
      ]
    },
    {
      "cell_type": "code",
      "source": [
        "d = {'one':1,'two':2} #Key로 사용시 'one'\n",
        "print(d)\n",
        "print(d['one'])\n",
        "# print(d.one) -> AttributeError: 'dict' object has no attribute 'one'"
      ],
      "metadata": {
        "colab": {
          "base_uri": "https://localhost:8080/"
        },
        "id": "i9g7-iwJn9HI",
        "outputId": "23706ebe-480d-4fab-99ba-eb615c04e212"
      },
      "execution_count": null,
      "outputs": [
        {
          "output_type": "stream",
          "name": "stdout",
          "text": [
            "{'one': 1, 'two': 2}\n",
            "1\n"
          ]
        }
      ]
    },
    {
      "cell_type": "code",
      "source": [
        "print(dir(d))"
      ],
      "metadata": {
        "colab": {
          "base_uri": "https://localhost:8080/"
        },
        "id": "IEj4VXuwpNs8",
        "outputId": "e6294849-61a9-4eb4-d0ca-0174ad458045"
      },
      "execution_count": null,
      "outputs": [
        {
          "output_type": "stream",
          "name": "stdout",
          "text": [
            "['__class__', '__class_getitem__', '__contains__', '__delattr__', '__delitem__', '__dir__', '__doc__', '__eq__', '__format__', '__ge__', '__getattribute__', '__getitem__', '__gt__', '__hash__', '__init__', '__init_subclass__', '__ior__', '__iter__', '__le__', '__len__', '__lt__', '__ne__', '__new__', '__or__', '__reduce__', '__reduce_ex__', '__repr__', '__reversed__', '__ror__', '__setattr__', '__setitem__', '__sizeof__', '__str__', '__subclasshook__', 'clear', 'copy', 'fromkeys', 'get', 'items', 'keys', 'pop', 'popitem', 'setdefault', 'update', 'values']\n"
          ]
        }
      ]
    },
    {
      "cell_type": "code",
      "source": [
        "d = dict(one=1,two=2) #example:  dict(mapping)or(iterable) #'one' 사용안됨.\n",
        "print(d)\n",
        "print(d['one'])"
      ],
      "metadata": {
        "colab": {
          "base_uri": "https://localhost:8080/"
        },
        "id": "xDXF4Cw8pPa3",
        "outputId": "f129eefb-4856-47bf-caa2-2f7004acacfe"
      },
      "execution_count": null,
      "outputs": [
        {
          "output_type": "stream",
          "name": "stdout",
          "text": [
            "{'one': 1, 'two': 2}\n",
            "1\n"
          ]
        }
      ]
    },
    {
      "cell_type": "markdown",
      "source": [
        "zip( )함수를 이용해서 dict( )생성할 수 있다."
      ],
      "metadata": {
        "id": "mu46ZcSJqDy-"
      }
    },
    {
      "cell_type": "code",
      "source": [
        "keys = ['one','two','three']\n",
        "values = [1,2,3]\n",
        "a = zip(keys, values)\n",
        "print(a)\n",
        "d = dict(a)\n",
        "print(d)"
      ],
      "metadata": {
        "colab": {
          "base_uri": "https://localhost:8080/"
        },
        "id": "iL7h8nMHqJ5j",
        "outputId": "537d7197-1697-4807-e5a7-447b9e575bb5"
      },
      "execution_count": null,
      "outputs": [
        {
          "output_type": "stream",
          "name": "stdout",
          "text": [
            "<zip object at 0x7ef5f944de40>\n",
            "{'one': 1, 'two': 2, 'three': 3}\n"
          ]
        }
      ]
    },
    {
      "cell_type": "code",
      "source": [
        "keys = ['one','two','three']\n",
        "values = [1,2,3,4,5]\n",
        "#a = zip(keys, values)\n",
        "#print(a)\n",
        "d=dict(zip(keys, values)) # 안맞는 개수 탈락\n",
        "print(d)"
      ],
      "metadata": {
        "colab": {
          "base_uri": "https://localhost:8080/"
        },
        "id": "PFpXnIE3qxO3",
        "outputId": "a0d0d390-4402-4223-9b24-2314388d124b"
      },
      "execution_count": null,
      "outputs": [
        {
          "output_type": "stream",
          "name": "stdout",
          "text": [
            "{'one': 1, 'two': 2, 'three': 3}\n"
          ]
        }
      ]
    },
    {
      "cell_type": "code",
      "source": [
        "keys = ['one','two','three']\n",
        "values = [1,2]\n",
        "d=dict(zip(keys, values)) # 안맞는 개수 탈락\n",
        "print(d)"
      ],
      "metadata": {
        "colab": {
          "base_uri": "https://localhost:8080/"
        },
        "id": "bJz4t9XbrIcI",
        "outputId": "3b99f5d1-485c-4eee-827b-7141d8d480a9"
      },
      "execution_count": null,
      "outputs": [
        {
          "output_type": "stream",
          "name": "stdout",
          "text": [
            "{'one': 1, 'two': 2}\n"
          ]
        }
      ]
    },
    {
      "cell_type": "code",
      "source": [
        "#dict 메소드 제공\n",
        "print(dir({}))"
      ],
      "metadata": {
        "colab": {
          "base_uri": "https://localhost:8080/"
        },
        "id": "7HGnCvYDrhej",
        "outputId": "037c46c6-bdef-4301-83ff-062de1bfdfaa"
      },
      "execution_count": null,
      "outputs": [
        {
          "output_type": "stream",
          "name": "stdout",
          "text": [
            "['__class__', '__class_getitem__', '__contains__', '__delattr__', '__delitem__', '__dir__', '__doc__', '__eq__', '__format__', '__ge__', '__getattribute__', '__getitem__', '__gt__', '__hash__', '__init__', '__init_subclass__', '__ior__', '__iter__', '__le__', '__len__', '__lt__', '__ne__', '__new__', '__or__', '__reduce__', '__reduce_ex__', '__repr__', '__reversed__', '__ror__', '__setattr__', '__setitem__', '__sizeof__', '__str__', '__subclasshook__', 'clear', 'copy', 'fromkeys', 'get', 'items', 'keys', 'pop', 'popitem', 'setdefault', 'update', 'values']\n"
          ]
        }
      ]
    },
    {
      "cell_type": "code",
      "source": [
        "#키만 출력하기\n",
        "d = {'one':1,'two':2}\n",
        "print(d.keys())\n",
        "\n",
        "#따로 가져오기 for문\n",
        "for k in d.keys():\n",
        "  print(k)"
      ],
      "metadata": {
        "colab": {
          "base_uri": "https://localhost:8080/"
        },
        "id": "2Yr9dRf0sCok",
        "outputId": "0856d423-e646-47ee-b3be-bcb3e07b421e"
      },
      "execution_count": null,
      "outputs": [
        {
          "output_type": "stream",
          "name": "stdout",
          "text": [
            "dict_keys(['one', 'two'])\n",
            "one\n",
            "two\n"
          ]
        }
      ]
    },
    {
      "cell_type": "code",
      "source": [
        "#value만 출력하기\n",
        "d = {'one':1,'two':2}\n",
        "print(d.values())"
      ],
      "metadata": {
        "colab": {
          "base_uri": "https://localhost:8080/"
        },
        "id": "Tr5bkV3yspHc",
        "outputId": "c63bf4d2-bd61-40d1-f41a-968047697d78"
      },
      "execution_count": null,
      "outputs": [
        {
          "output_type": "stream",
          "name": "stdout",
          "text": [
            "dict_values([1, 2])\n"
          ]
        }
      ]
    },
    {
      "cell_type": "code",
      "source": [
        "d = {'one':1,'two':2}\n",
        "print(d.items())"
      ],
      "metadata": {
        "colab": {
          "base_uri": "https://localhost:8080/"
        },
        "id": "I1ZSp8kBsjq4",
        "outputId": "b4abbd8c-27c3-401c-c1e2-f631cbac1e65"
      },
      "execution_count": null,
      "outputs": [
        {
          "output_type": "stream",
          "name": "stdout",
          "text": [
            "dict_items([('one', 1), ('two', 2)])\n"
          ]
        }
      ]
    },
    {
      "cell_type": "code",
      "source": [
        "d = {'one':1,'two':2}\n",
        "print(d.get('one')) #d['one']\n",
        "print(d.get('three'))\n",
        "print(d.get('three', 0)) #get(key, default)"
      ],
      "metadata": {
        "colab": {
          "base_uri": "https://localhost:8080/"
        },
        "id": "st53eFY1s2wc",
        "outputId": "7c42b1c8-37d0-450c-e3cb-afa92ebcf62c"
      },
      "execution_count": null,
      "outputs": [
        {
          "output_type": "stream",
          "name": "stdout",
          "text": [
            "1\n",
            "None\n",
            "0\n"
          ]
        }
      ]
    },
    {
      "cell_type": "code",
      "source": [
        "d = {'one':1,'two':2}\n",
        "\n",
        "---\n",
        "\n",
        "\n",
        "print(d.clear())\n",
        "print(d)"
      ],
      "metadata": {
        "colab": {
          "base_uri": "https://localhost:8080/",
          "height": 147
        },
        "id": "gGXCvub0xUUT",
        "outputId": "1d0997e9-31fc-48d6-835c-08fc4adbf6bd"
      },
      "execution_count": null,
      "outputs": [
        {
          "output_type": "error",
          "ename": "SyntaxError",
          "evalue": "ignored",
          "traceback": [
            "\u001b[0;36m  File \u001b[0;32m\"<ipython-input-414-546a910aa4b1>\"\u001b[0;36m, line \u001b[0;32m3\u001b[0m\n\u001b[0;31m    ---\u001b[0m\n\u001b[0m       ^\u001b[0m\n\u001b[0;31mSyntaxError\u001b[0m\u001b[0;31m:\u001b[0m invalid syntax\n"
          ]
        }
      ]
    },
    {
      "cell_type": "markdown",
      "source": [
        "str  : immutable, sequence  \n",
        "list : mutable, sequence  \n",
        "tuple : immutable, sequence  \n",
        "set : mutable, non-sequence  \n",
        "frozenset : imutable, sequence  \n",
        "dict : mutable, non-sequence  \n",
        "\n",
        "indexing, slicing : str, list, tuple"
      ],
      "metadata": {
        "id": "Q1r1AGIOs-9N"
      }
    },
    {
      "cell_type": "markdown",
      "source": [
        "## boolean\n",
        " - True(참),False(거짓)"
      ],
      "metadata": {
        "id": "2xFtpxb4yGHm"
      }
    },
    {
      "cell_type": "code",
      "source": [
        "a = True\n",
        "print(a)\n",
        "print(type(a))\n",
        "print(dir(a))"
      ],
      "metadata": {
        "colab": {
          "base_uri": "https://localhost:8080/"
        },
        "id": "xV1mWNN9yLws",
        "outputId": "9bab98f0-702b-4d68-8f1e-21d8861118b8"
      },
      "execution_count": null,
      "outputs": [
        {
          "output_type": "stream",
          "name": "stdout",
          "text": [
            "True\n",
            "<class 'bool'>\n",
            "['__abs__', '__add__', '__and__', '__bool__', '__ceil__', '__class__', '__delattr__', '__dir__', '__divmod__', '__doc__', '__eq__', '__float__', '__floor__', '__floordiv__', '__format__', '__ge__', '__getattribute__', '__getnewargs__', '__gt__', '__hash__', '__index__', '__init__', '__init_subclass__', '__int__', '__invert__', '__le__', '__lshift__', '__lt__', '__mod__', '__mul__', '__ne__', '__neg__', '__new__', '__or__', '__pos__', '__pow__', '__radd__', '__rand__', '__rdivmod__', '__reduce__', '__reduce_ex__', '__repr__', '__rfloordiv__', '__rlshift__', '__rmod__', '__rmul__', '__ror__', '__round__', '__rpow__', '__rrshift__', '__rshift__', '__rsub__', '__rtruediv__', '__rxor__', '__setattr__', '__sizeof__', '__str__', '__sub__', '__subclasshook__', '__truediv__', '__trunc__', '__xor__', 'as_integer_ratio', 'bit_count', 'bit_length', 'conjugate', 'denominator', 'from_bytes', 'imag', 'numerator', 'real', 'to_bytes']\n"
          ]
        }
      ]
    },
    {
      "cell_type": "code",
      "source": [
        "#python은 existance로 판단하다.\n",
        "a=1\n",
        "print(bool(a))\n",
        "b=0\n",
        "print(bool(b)) # 존재론적으로 '0'은 없는 수\n",
        "\n",
        "c='ko'\n",
        "print(bool(c))\n",
        "d=''\n",
        "print(bool(d)) # 존재론적으로 ''는 없음\n",
        "\n",
        "e=(1,2)\n",
        "print(bool(e))\n",
        "f=()\n",
        "print(bool(f)) # 존재론적으로 ()는 없음"
      ],
      "metadata": {
        "colab": {
          "base_uri": "https://localhost:8080/"
        },
        "id": "zDXIUGqvyeqF",
        "outputId": "344cb867-9a7b-4733-8f13-26504fff9404"
      },
      "execution_count": null,
      "outputs": [
        {
          "output_type": "stream",
          "name": "stdout",
          "text": [
            "True\n",
            "False\n",
            "True\n",
            "False\n",
            "True\n",
            "False\n"
          ]
        }
      ]
    },
    {
      "cell_type": "markdown",
      "source": [
        "100 이하의 자연수 중에서 2의 배수이거나 3의 배수인 수의 개수를 구하세요.\n",
        "\n",
        "[실행결과]\n",
        "67"
      ],
      "metadata": {
        "id": "gJ7pkLvq0Eh6"
      }
    },
    {
      "cell_type": "code",
      "source": [
        "len(set(range(2, 101, 2)) | set(range(3, 101, 3)))"
      ],
      "metadata": {
        "id": "A22a8zu50kLu",
        "colab": {
          "base_uri": "https://localhost:8080/"
        },
        "outputId": "c7fc1892-3d5a-4e2d-c1dd-79e4b52f9c89"
      },
      "execution_count": 1,
      "outputs": [
        {
          "output_type": "execute_result",
          "data": {
            "text/plain": [
              "67"
            ]
          },
          "metadata": {},
          "execution_count": 1
        }
      ]
    },
    {
      "cell_type": "markdown",
      "source": [
        "전체집합을 U로 할때 U의 부분집합 A와 B에 대해서 연산의 결과를 구현하세요.\n",
        "\n",
        "U = {1, 2, 3, 4, 5, 6, 7, 8, 9, 10}  \n",
        "A = {1, 3, 5, 7, 9}  \n",
        "B = {1, 2, 3, 4, 5}  \n",
        "\n",
        "가) A∩Bc\n",
        "\n",
        "나) (A∪B)c\n",
        "\n",
        "[실행결과]\n",
        "가) {7, 9} 나) {6, 8, 10}"
      ],
      "metadata": {
        "id": "dji0V3Sg0GWp"
      }
    },
    {
      "cell_type": "code",
      "source": [
        "U = {1, 2, 3, 4, 5, 6, 7, 8, 9, 10}\n",
        "A = {1, 3, 5, 7, 9}\n",
        "B = {1, 2, 3, 4, 5}\n",
        "\n",
        "print((U&A)-B)\n",
        "print(U-(A|B))\n",
        "\n",
        "#print(A &(U - B))"
      ],
      "metadata": {
        "colab": {
          "base_uri": "https://localhost:8080/"
        },
        "id": "5b1LdF2c0k_G",
        "outputId": "129c9595-66d9-437a-ec5c-eb3f5b511bbf"
      },
      "execution_count": 8,
      "outputs": [
        {
          "output_type": "stream",
          "name": "stdout",
          "text": [
            "{9, 7}\n",
            "{8, 10, 6}\n"
          ]
        }
      ]
    },
    {
      "cell_type": "markdown",
      "source": [
        "주어진 문자열의 각 단어가 중복되지 않게 한 번씩만 출력이 되도록 구현하세요. (출력순서를 무관합니다.)  \n",
        "s = 'one two one two three four'\n",
        "\n",
        "[실행결과]\n",
        "['two', 'four', 'one', 'three']"
      ],
      "metadata": {
        "id": "D01PzdR30aGh"
      }
    },
    {
      "cell_type": "code",
      "source": [
        "s = 'one two one two three four'\n",
        "print(set(s.split()))\n",
        "#list(set(s.split())) 실행결과가 list이다."
      ],
      "metadata": {
        "colab": {
          "base_uri": "https://localhost:8080/"
        },
        "id": "eEFcHWz21qzn",
        "outputId": "47bfa5e5-6949-4b0a-d78d-dbacad600ef9"
      },
      "execution_count": 10,
      "outputs": [
        {
          "output_type": "stream",
          "name": "stdout",
          "text": [
            "{'three', 'four', 'two', 'one'}\n"
          ]
        }
      ]
    },
    {
      "cell_type": "markdown",
      "source": [
        "튜플에 저장된 데이터에서 마지막 요소 5개를 삭제한뒤 나머지를 튜플로 출력하세요.  \n",
        "data =1,2,3,4,5,6,7,8,9,10\n",
        "\n",
        "[실행결과]\n",
        "(1, 2, 3, 4, 5)"
      ],
      "metadata": {
        "id": "3MGUcSP70bLA"
      }
    },
    {
      "cell_type": "code",
      "source": [
        "data =1,2,3,4,5,6,7,8,9,10 # 소괄호 () 생략\n",
        "print(type(data))\n",
        "print(data[:5])\n",
        "\n",
        "# data = list(data)\n",
        "# del (data[-1:-6:-1]) '마지막 요소 5개를 삭제한뒤'의 과정\n",
        "# print(tuple(data))"
      ],
      "metadata": {
        "colab": {
          "base_uri": "https://localhost:8080/"
        },
        "id": "7kWfu5vL0lgG",
        "outputId": "0ba3c9b8-90b2-48ad-c544-eef0e4cff55e"
      },
      "execution_count": null,
      "outputs": [
        {
          "output_type": "stream",
          "name": "stdout",
          "text": [
            "<class 'tuple'>\n",
            "(1, 2, 3, 4, 5)\n"
          ]
        }
      ]
    },
    {
      "cell_type": "markdown",
      "source": [
        "a변수에 저장된 문자열에서 인덱스 홀수, b변수에 저장된 문자열에서 인덱스 짝수만을 가져오는 연결하는 프로그램을 구현하세요.  \n",
        "a='apple'  \n",
        "b='strawberry'\n",
        "\n",
        "[실행결과]\n",
        "plsrwer"
      ],
      "metadata": {
        "id": "flp8d8Wj0cOG"
      }
    },
    {
      "cell_type": "code",
      "source": [
        "a='apple'\n",
        "b='strawberry'\n",
        "\n",
        "print(a[1::2]) # index는 0부터 시작한다.\n",
        "print(b[0::2])\n",
        "print(a[1::2]+b[0::2])\n",
        "# print(a[1::2]+b[::2]) 0은 생략 가능하다."
      ],
      "metadata": {
        "colab": {
          "base_uri": "https://localhost:8080/"
        },
        "id": "dn_b6Xv50l1_",
        "outputId": "f0c56de7-9294-45b2-de6e-93cf5bc768a9"
      },
      "execution_count": null,
      "outputs": [
        {
          "output_type": "stream",
          "name": "stdout",
          "text": [
            "pl\n",
            "srwer\n",
            "plsrwer\n"
          ]
        }
      ]
    },
    {
      "cell_type": "markdown",
      "source": [
        "평균 점수 구하기\n",
        "홍길동 씨의 과목별 점수는 다음과 같다.   \n",
        "홍길동 씨의 평균 점수를 구해보자.  \n",
        "국어 : 80  \n",
        "영어 : 75  \n",
        "수학 : 55  "
      ],
      "metadata": {
        "id": "j-0th1jd9kWz"
      }
    },
    {
      "cell_type": "code",
      "source": [
        "ko = 80\n",
        "en = 75\n",
        "mat= 55\n",
        "\n",
        "aver = (ko+en+mat)/3\n",
        "print(aver)"
      ],
      "metadata": {
        "colab": {
          "base_uri": "https://localhost:8080/"
        },
        "id": "G6dodUFd92mH",
        "outputId": "7112568a-4ba3-4f56-a605-f54137bdc256"
      },
      "execution_count": null,
      "outputs": [
        {
          "output_type": "stream",
          "name": "stdout",
          "text": [
            "70.0\n"
          ]
        }
      ]
    },
    {
      "cell_type": "markdown",
      "source": [
        "자연수 13이 홀수인지, 짝수인지 판별할 수 있는 방법에 대해 말해보자."
      ],
      "metadata": {
        "id": "XQ6CPYr0-Nqw"
      }
    },
    {
      "cell_type": "code",
      "source": [
        "n = 13\n",
        "n%2 # 나머지가 1이면 홀수, 0이면 짝수"
      ],
      "metadata": {
        "colab": {
          "base_uri": "https://localhost:8080/"
        },
        "id": "3lNlnUHE-UQP",
        "outputId": "6aa4e052-f03e-4168-ead1-086f0c88537e"
      },
      "execution_count": null,
      "outputs": [
        {
          "output_type": "execute_result",
          "data": {
            "text/plain": [
              "1"
            ]
          },
          "metadata": {},
          "execution_count": 487
        }
      ]
    },
    {
      "cell_type": "markdown",
      "source": [
        "주민등록번호 나누기"
      ],
      "metadata": {
        "id": "ea0QJdCl_Hqh"
      }
    },
    {
      "cell_type": "code",
      "source": [
        "pin = \"881120-1068234\"\n",
        "yyyymmdd = pin[:6]\n",
        "num = pin[7:]\n",
        "print(yyyymmdd)\n",
        "print(num)"
      ],
      "metadata": {
        "colab": {
          "base_uri": "https://localhost:8080/"
        },
        "id": "SKJUCUnT_Rgt",
        "outputId": "af3e5147-4b23-4edd-94f8-5a5748146704"
      },
      "execution_count": null,
      "outputs": [
        {
          "output_type": "stream",
          "name": "stdout",
          "text": [
            "881120\n",
            "1068234\n"
          ]
        }
      ]
    },
    {
      "cell_type": "markdown",
      "source": [
        "주민등록번호 인덱싱"
      ],
      "metadata": {
        "id": "_AlhpXNc_vFm"
      }
    },
    {
      "cell_type": "code",
      "source": [
        "pin = '881120-1068234'\n",
        "print(pin[7]) #성별은 뒷자리 첫번째숫자 1,3->남 2,4->여"
      ],
      "metadata": {
        "colab": {
          "base_uri": "https://localhost:8080/"
        },
        "id": "bZBMvnk1_zvY",
        "outputId": "a5aa74ca-940b-4382-828c-346969d28146"
      },
      "execution_count": null,
      "outputs": [
        {
          "output_type": "stream",
          "name": "stdout",
          "text": [
            "1\n"
          ]
        }
      ]
    },
    {
      "cell_type": "markdown",
      "source": [
        "문자열 바꾸기  \n",
        "문자열의 replace 함수를 사용하여  \n",
        "a:b:c:d 문자열을 a#b#c#d로 바꿔 출력하기"
      ],
      "metadata": {
        "id": "qIBXxSaUACxJ"
      }
    },
    {
      "cell_type": "code",
      "source": [
        "a = \"a:b:c:d\"\n",
        "b = a.replace(':','#')\n",
        "print(b)"
      ],
      "metadata": {
        "colab": {
          "base_uri": "https://localhost:8080/"
        },
        "id": "uUx24tPiAFwB",
        "outputId": "99c05411-c81e-4d6c-b70e-7ccd5740ea7a"
      },
      "execution_count": null,
      "outputs": [
        {
          "output_type": "stream",
          "name": "stdout",
          "text": [
            "a#b#c#d\n"
          ]
        }
      ]
    },
    {
      "cell_type": "markdown",
      "source": [
        "리스트 역순 정렬하기  \n",
        "[1,3,5,4,2] 리스트를 [5,4,3,2,1]로 만들어 보자"
      ],
      "metadata": {
        "id": "hHIGWbH9BHvn"
      }
    },
    {
      "cell_type": "code",
      "source": [
        "a = [1,3,5,4,2]\n",
        "#print(dir(a))\n",
        "a.sort() # 오름차순으로 정렬하기\n",
        "a.reverse() # 역순으로 정렬하기\n",
        "print(a)"
      ],
      "metadata": {
        "id": "QTrZTTF3Csdd"
      },
      "execution_count": null,
      "outputs": []
    },
    {
      "cell_type": "markdown",
      "source": [
        "리스트를 문자열로 만들기  \n",
        "['Life', 'is', 'too', 'short']리스트를  \n",
        "Life is too short문자열로 만들어 출력하기"
      ],
      "metadata": {
        "id": "Hoow_4JsCy2X"
      }
    },
    {
      "cell_type": "code",
      "source": [
        "a = ['Life', 'is', 'too', 'short']\n",
        "result = ' '.join(['Life', 'is', 'too', 'short'])\n",
        "print(result)"
      ],
      "metadata": {
        "colab": {
          "base_uri": "https://localhost:8080/"
        },
        "id": "1pzJKNbKDF7w",
        "outputId": "a5983469-c272-468d-f5e4-03eb8c67ff7d"
      },
      "execution_count": null,
      "outputs": [
        {
          "output_type": "stream",
          "name": "stdout",
          "text": [
            "Life is too short\n"
          ]
        }
      ]
    },
    {
      "cell_type": "markdown",
      "source": [
        "튜플 더하기\n",
        "(1,2,3)튜플에 값 4를 추가하여 (1,2,3,4)로 만든 후 출력해 보자."
      ],
      "metadata": {
        "id": "U6uodiZ0DiII"
      }
    },
    {
      "cell_type": "code",
      "source": [
        "a = (1,2,3)\n",
        "a = a + (4,) # 튜플에서는 ()는 생략이 가능하나 ,는 생략이 불가능하다.\n",
        "print(a)"
      ],
      "metadata": {
        "colab": {
          "base_uri": "https://localhost:8080/"
        },
        "id": "wYZlA6tkDsms",
        "outputId": "52c42c2c-ca67-42a0-e4e5-5ae370c0ca58"
      },
      "execution_count": null,
      "outputs": [
        {
          "output_type": "stream",
          "name": "stdout",
          "text": [
            "(1, 2, 3, 4)\n"
          ]
        }
      ]
    },
    {
      "cell_type": "code",
      "source": [
        "a=dict()\n",
        "a\n",
        "{}\n",
        "#딕셔너리의 키는 변하지 않는 값만 사용이 가능하다\n",
        "\n",
        "a['name']='python'\n",
        "a[('a')]='python'\n",
        "#a[[1]]='python' -> TypeError: unhashable type: 'list' -> list는 변하는 값이라 사용안됨.\n",
        "a[250]='python'"
      ],
      "metadata": {
        "id": "jPdNAD0WElXU"
      },
      "execution_count": null,
      "outputs": []
    },
    {
      "cell_type": "markdown",
      "source": [
        "딕셔너리 값 추출하기  \n",
        "딕셔너리 a에서 'B'에 해당하는 값을 추출해보자."
      ],
      "metadata": {
        "id": "wCwDaNayFL82"
      }
    },
    {
      "cell_type": "code",
      "source": [
        "a = {'A':90, 'B':80, 'C':70}\n",
        "result = a.pop('B') # pop함수로 B키에 저장된 value 80을 꺼내옴.\n",
        "print(a)\n",
        "print(result)"
      ],
      "metadata": {
        "colab": {
          "base_uri": "https://localhost:8080/"
        },
        "id": "tCfiEL_eFTPQ",
        "outputId": "58ba9dd8-370d-423d-f0f8-3fc3fd036d15"
      },
      "execution_count": null,
      "outputs": [
        {
          "output_type": "stream",
          "name": "stdout",
          "text": [
            "{'A': 90, 'C': 70}\n",
            "80\n"
          ]
        }
      ]
    },
    {
      "cell_type": "markdown",
      "source": [
        "리스트에서 중복 제거하기  \n",
        "a 리스트에서 중복 숫자를 제거해 보자."
      ],
      "metadata": {
        "id": "b5meBSOzF25l"
      }
    },
    {
      "cell_type": "code",
      "source": [
        "a = [1,1,1,2,2,3,3,3,4,4,5]\n",
        "aSet = set(a)\n",
        "print(aSet)\n",
        "print(type(aSet))\n",
        "b = list(aSet)\n",
        "print(b)\n",
        "print(type(b))"
      ],
      "metadata": {
        "colab": {
          "base_uri": "https://localhost:8080/"
        },
        "id": "GGSzyeH7F7D8",
        "outputId": "9e6989f1-9ebe-42a0-b30d-6ff048186387"
      },
      "execution_count": null,
      "outputs": [
        {
          "output_type": "stream",
          "name": "stdout",
          "text": [
            "{1, 2, 3, 4, 5}\n",
            "<class 'set'>\n",
            "[1, 2, 3, 4, 5]\n",
            "<class 'list'>\n"
          ]
        }
      ]
    },
    {
      "cell_type": "code",
      "source": [
        "a = b = [1,2,3]\n",
        "a[1] = 4\n",
        "print(b) # 동일한 변수를 가리키고 있기때문에 b의 값도 변한다."
      ],
      "metadata": {
        "colab": {
          "base_uri": "https://localhost:8080/"
        },
        "id": "9xEGIUTlHVDe",
        "outputId": "4bf7ad66-b923-43c2-f9bc-a274654b7337"
      },
      "execution_count": null,
      "outputs": [
        {
          "output_type": "stream",
          "name": "stdout",
          "text": [
            "[1, 4, 3]\n"
          ]
        }
      ]
    }
  ]
}