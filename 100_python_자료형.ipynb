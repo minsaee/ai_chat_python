{
  "nbformat": 4,
  "nbformat_minor": 0,
  "metadata": {
    "colab": {
      "provenance": [],
      "authorship_tag": "ABX9TyN1vDYwAcEhcZbWyHkC5FkQ",
      "include_colab_link": true
    },
    "kernelspec": {
      "name": "python3",
      "display_name": "Python 3"
    },
    "language_info": {
      "name": "python"
    }
  },
  "cells": [
    {
      "cell_type": "markdown",
      "metadata": {
        "id": "view-in-github",
        "colab_type": "text"
      },
      "source": [
        "<a href=\"https://colab.research.google.com/github/minsaee/python_demo/blob/master/100_python_%EC%9E%90%EB%A3%8C%ED%98%95.ipynb\" target=\"_parent\"><img src=\"https://colab.research.google.com/assets/colab-badge.svg\" alt=\"Open In Colab\"/></a>"
      ]
    },
    {
      "cell_type": "markdown",
      "source": [
        "https://www.python.org/   \n",
        "https://docs.python.org/3/tutorial/index.html   \n",
        "https://peps.python.org/pep-0008/   \n",
        "https://wikidocs.net/book/1   \n",
        "https://dojang.io/course/view.php?id=7    \n"
      ],
      "metadata": {
        "id": "b5GnOfM80GAV"
      }
    },
    {
      "cell_type": "code",
      "source": [
        "# python version 확인\n",
        "!python --version"
      ],
      "metadata": {
        "colab": {
          "base_uri": "https://localhost:8080/"
        },
        "id": "TbCCWmgv0U67",
        "outputId": "b24ac8d1-4306-40d2-bdb2-159932886fdb"
      },
      "execution_count": 1,
      "outputs": [
        {
          "output_type": "stream",
          "name": "stdout",
          "text": [
            "Python 3.10.12\n"
          ]
        }
      ]
    },
    {
      "cell_type": "code",
      "source": [
        "# python에서 추구하는 철학\n",
        "import this"
      ],
      "metadata": {
        "id": "VwoFqtj50eD6"
      },
      "execution_count": null,
      "outputs": []
    },
    {
      "cell_type": "code",
      "source": [
        "import keyword\n",
        "keyword.kwlist"
      ],
      "metadata": {
        "id": "O3tOmFqi2Lpb"
      },
      "execution_count": null,
      "outputs": []
    },
    {
      "cell_type": "code",
      "source": [
        "print(keyword.kwlist) #print() 출력해줌.\n",
        "print(len(keyword.kwlist)) #len(값) 값의 갯수를 구해줌. # 35개"
      ],
      "metadata": {
        "colab": {
          "base_uri": "https://localhost:8080/"
        },
        "id": "t7w8Z-ys2r_D",
        "outputId": "3b903732-401a-4282-fc38-52be640e5f39"
      },
      "execution_count": 62,
      "outputs": [
        {
          "output_type": "stream",
          "name": "stdout",
          "text": [
            "['False', 'None', 'True', 'and', 'as', 'assert', 'async', 'await', 'break', 'class', 'continue', 'def', 'del', 'elif', 'else', 'except', 'finally', 'for', 'from', 'global', 'if', 'import', 'in', 'is', 'lambda', 'nonlocal', 'not', 'or', 'pass', 'raise', 'return', 'try', 'while', 'with', 'yield']\n",
            "35\n"
          ]
        }
      ]
    },
    {
      "cell_type": "code",
      "source": [
        "'Hello world'\n",
        "'Hello world' # 마지막 값만 출력"
      ],
      "metadata": {
        "colab": {
          "base_uri": "https://localhost:8080/",
          "height": 35
        },
        "id": "Bjy8AJ-23L57",
        "outputId": "55437de4-a1e4-4fac-94e8-1e9b3d1fcdf1"
      },
      "execution_count": 10,
      "outputs": [
        {
          "output_type": "execute_result",
          "data": {
            "text/plain": [
              "'Hello world'"
            ],
            "application/vnd.google.colaboratory.intrinsic+json": {
              "type": "string"
            }
          },
          "metadata": {},
          "execution_count": 10
        }
      ]
    },
    {
      "cell_type": "code",
      "source": [
        "print('Hello world')\n",
        "print('Hello world') # 모두 출력"
      ],
      "metadata": {
        "colab": {
          "base_uri": "https://localhost:8080/"
        },
        "id": "QWeevOJq3cwf",
        "outputId": "d9b43147-7db1-4561-9b0b-34d4bcc18484"
      },
      "execution_count": 11,
      "outputs": [
        {
          "output_type": "stream",
          "name": "stdout",
          "text": [
            "Hello world\n",
            "Hello world\n"
          ]
        }
      ]
    },
    {
      "cell_type": "code",
      "source": [
        "# ; (세미콜론) : 문장의 끝을 의미한다.\n",
        "# 하나의 문장이 끝나면 문장의 끝에 세미콜론을 입력한다.\n",
        "# 하지만 파이썬에서는 줄바꿈해서 입력하면 세미콜론 생략이 가능하다.\n",
        "print('hi'); print('hi') # 하나의 줄에서 표현 할 때는 ;으로 문장의 끝을 표시함."
      ],
      "metadata": {
        "colab": {
          "base_uri": "https://localhost:8080/"
        },
        "id": "B51TTqas3w1S",
        "outputId": "eb20afb7-f37f-4734-f30d-6b0ad2c429c2"
      },
      "execution_count": 12,
      "outputs": [
        {
          "output_type": "stream",
          "name": "stdout",
          "text": [
            "hi\n",
            "hi\n"
          ]
        }
      ]
    },
    {
      "cell_type": "code",
      "source": [
        "# 변수(variable) : 값을 저장하는 메모리 공간\n",
        "# 파이썬에서는 데이터타입을 지정하지는 않는다.\n",
        "a = 10; b = 20; print(a); print(b)"
      ],
      "metadata": {
        "colab": {
          "base_uri": "https://localhost:8080/"
        },
        "id": "sLZ-iS1u4LHq",
        "outputId": "43b0f520-5a46-479a-d909-9c30c285a851"
      },
      "execution_count": 13,
      "outputs": [
        {
          "output_type": "stream",
          "name": "stdout",
          "text": [
            "10\n",
            "20\n"
          ]
        }
      ]
    },
    {
      "cell_type": "code",
      "source": [
        "#한 문장을 여러라인에 거쳐서 입력해야 할 때 '\\' 사용\n",
        "if(a==11) and \\\n",
        "(b==20):\n",
        "  print('OK')\n",
        "else:\n",
        "  print('NO')"
      ],
      "metadata": {
        "colab": {
          "base_uri": "https://localhost:8080/"
        },
        "id": "CNTqQdAc4i2J",
        "outputId": "61f8ef5f-55af-4e42-d16c-069412eddf8b"
      },
      "execution_count": 24,
      "outputs": [
        {
          "output_type": "stream",
          "name": "stdout",
          "text": [
            "NO\n"
          ]
        }
      ]
    },
    {
      "cell_type": "code",
      "source": [
        "start = end = 1 # 같은 값을 가지는 변수는 함께 선언 가능.\n",
        "print(start)\n",
        "print(end)"
      ],
      "metadata": {
        "colab": {
          "base_uri": "https://localhost:8080/"
        },
        "id": "FOwLuEjxNCtp",
        "outputId": "53cb22b0-8953-46d5-c25f-a60f9eeff73b"
      },
      "execution_count": 25,
      "outputs": [
        {
          "output_type": "stream",
          "name": "stdout",
          "text": [
            "1\n",
            "1\n"
          ]
        }
      ]
    },
    {
      "cell_type": "code",
      "source": [
        "a = '3' + '4' # + 문자열 연결의 의미로 사용.\n",
        "print(a)"
      ],
      "metadata": {
        "colab": {
          "base_uri": "https://localhost:8080/"
        },
        "id": "gibrOBHGN0fT",
        "outputId": "3904aa43-bd51-4b64-84d2-2405d425dd39"
      },
      "execution_count": 29,
      "outputs": [
        {
          "output_type": "stream",
          "name": "stdout",
          "text": [
            "34\n"
          ]
        }
      ]
    },
    {
      "cell_type": "code",
      "source": [
        "a = 1\n",
        "a = eval('3+4') #eval함수는 연산 가능.\n",
        "print(a)\n",
        "\n",
        "a = eval('a+3')\n",
        "print(a)\n",
        "\n",
        "a = eval('3' + '4') #홑따음표 구분으로 위와 동일한 의미로 +가 사용됨\n",
        "print(a)"
      ],
      "metadata": {
        "colab": {
          "base_uri": "https://localhost:8080/"
        },
        "id": "cZBNDpGwNl18",
        "outputId": "cd687c22-907e-442c-92ec-a8cb77b7ecbb"
      },
      "execution_count": 32,
      "outputs": [
        {
          "output_type": "stream",
          "name": "stdout",
          "text": [
            "7\n",
            "10\n",
            "34\n"
          ]
        }
      ]
    },
    {
      "cell_type": "markdown",
      "source": [
        "## 자료형\n",
        "1. 데이터 저장방법에 따른 자료형의 분류  \n",
        "  직접(direct)형 : 직접 데이터를 표현하는 자료형 : int, float, complex      \n",
        "  시퀀스(sequence)형: 다른 데이터를 포함하는 자료형, 순서가 있는 집합 자료형 : list,str, tuple, bytes, bytearray,range    \n",
        "  매핑(Mapping)형 : 다른 데이터를 포함하는 자료형 : dict    \n",
        "  집합(Set)형 : 순서가 없고, 중복된 값도 없다. : set, frozenset  \n",
        "\n",
        "2. 변경 가능성에 따른 자료형 분류  \n",
        "  변경 가능형(Mutable) : 데이터의 값을 변경할 수 있다.  : list, dict, set  \n",
        "  변경 불가능형(Immutable) : 데이터의 값을 변경할 수 없다. : int, float, complex, str, tuple, frozenset\n",
        "\n",
        "3. 데이터 저장 개수에 따른 자료형의 분류   \n",
        "  리터널(Literal/Scalar)형 : 한 가지 객체만 저장한다. : int, bytes, str, float, complex  \n",
        "  컨테이널(Container)형 : 여러 가지 객체를 저장한다. : list, tuple, dict, set, fronzenset"
      ],
      "metadata": {
        "id": "rY7S_OUSPFzJ"
      }
    },
    {
      "cell_type": "markdown",
      "source": [
        "type( ) : 데이터 자료형 확인"
      ],
      "metadata": {
        "id": "9ChD8E0gQIKN"
      }
    },
    {
      "cell_type": "code",
      "source": [
        "type(5)"
      ],
      "metadata": {
        "colab": {
          "base_uri": "https://localhost:8080/"
        },
        "id": "j-1cSl1pQPzu",
        "outputId": "a37d7827-71ed-41f8-e748-5fb7cf3cd266"
      },
      "execution_count": 33,
      "outputs": [
        {
          "output_type": "execute_result",
          "data": {
            "text/plain": [
              "int"
            ]
          },
          "metadata": {},
          "execution_count": 33
        }
      ]
    },
    {
      "cell_type": "code",
      "source": [
        "type(3.14)"
      ],
      "metadata": {
        "colab": {
          "base_uri": "https://localhost:8080/"
        },
        "id": "1arBo0fHQjLc",
        "outputId": "307ac5f5-5a4c-4cf9-ceb7-c9aa3c0bae81"
      },
      "execution_count": 34,
      "outputs": [
        {
          "output_type": "execute_result",
          "data": {
            "text/plain": [
              "float"
            ]
          },
          "metadata": {},
          "execution_count": 34
        }
      ]
    },
    {
      "cell_type": "code",
      "source": [
        "type([1, 3, 5]) # 리스트 []"
      ],
      "metadata": {
        "colab": {
          "base_uri": "https://localhost:8080/"
        },
        "id": "5x8qVPnnQkoA",
        "outputId": "afed5c8b-137e-42bc-ee8a-1652fc3e090f"
      },
      "execution_count": 37,
      "outputs": [
        {
          "output_type": "execute_result",
          "data": {
            "text/plain": [
              "list"
            ]
          },
          "metadata": {},
          "execution_count": 37
        }
      ]
    },
    {
      "cell_type": "code",
      "source": [
        "type((2, 6, 7)) # 튜플 ()"
      ],
      "metadata": {
        "colab": {
          "base_uri": "https://localhost:8080/"
        },
        "id": "UsbyD8LcQ8YI",
        "outputId": "343285c7-4378-410f-d7e9-3d9d531f8acd"
      },
      "execution_count": 44,
      "outputs": [
        {
          "output_type": "execute_result",
          "data": {
            "text/plain": [
              "tuple"
            ]
          },
          "metadata": {},
          "execution_count": 44
        }
      ]
    },
    {
      "cell_type": "code",
      "source": [
        "a = 2, 6, 7\n",
        "type(a)"
      ],
      "metadata": {
        "colab": {
          "base_uri": "https://localhost:8080/"
        },
        "id": "lptFdURIRTID",
        "outputId": "39248f34-b421-4f32-d7f7-3c3ad091ef32"
      },
      "execution_count": 45,
      "outputs": [
        {
          "output_type": "execute_result",
          "data": {
            "text/plain": [
              "tuple"
            ]
          },
          "metadata": {},
          "execution_count": 45
        }
      ]
    },
    {
      "cell_type": "code",
      "source": [
        "def call():\n",
        "  return 2,3,4; # 함수 정의\n",
        "\n",
        "print(call())\n",
        "print(type(call()))"
      ],
      "metadata": {
        "colab": {
          "base_uri": "https://localhost:8080/"
        },
        "id": "WmTHNHOlRVCb",
        "outputId": "abd663f7-efd5-4764-b0ad-f5fd506b8834"
      },
      "execution_count": 49,
      "outputs": [
        {
          "output_type": "stream",
          "name": "stdout",
          "text": [
            "(2, 3, 4)\n",
            "<class 'tuple'>\n"
          ]
        }
      ]
    },
    {
      "cell_type": "code",
      "source": [
        "type({1, 2, 3}) # 집합 {}"
      ],
      "metadata": {
        "colab": {
          "base_uri": "https://localhost:8080/"
        },
        "id": "KbU88GX6SadK",
        "outputId": "eeb687a4-1602-4920-aef6-8c04252bdd82"
      },
      "execution_count": 51,
      "outputs": [
        {
          "output_type": "execute_result",
          "data": {
            "text/plain": [
              "set"
            ]
          },
          "metadata": {},
          "execution_count": 51
        }
      ]
    },
    {
      "cell_type": "code",
      "source": [
        "type({a:3, b:4}) # 딕셔너리 { : , : }"
      ],
      "metadata": {
        "colab": {
          "base_uri": "https://localhost:8080/"
        },
        "id": "mtdXKdXASnqZ",
        "outputId": "2e7d74a4-0e39-4346-a0f2-6667b4460bcc"
      },
      "execution_count": 52,
      "outputs": [
        {
          "output_type": "execute_result",
          "data": {
            "text/plain": [
              "dict"
            ]
          },
          "metadata": {},
          "execution_count": 52
        }
      ]
    },
    {
      "cell_type": "code",
      "source": [
        "type('python') # python은 문자와 문자열 구분이 없이 문자열로 처리함."
      ],
      "metadata": {
        "colab": {
          "base_uri": "https://localhost:8080/"
        },
        "id": "fA5XnrXwQwwz",
        "outputId": "1f5aba25-4033-4310-dd03-907cfd10e1be"
      },
      "execution_count": 55,
      "outputs": [
        {
          "output_type": "execute_result",
          "data": {
            "text/plain": [
              "str"
            ]
          },
          "metadata": {},
          "execution_count": 55
        }
      ]
    },
    {
      "cell_type": "markdown",
      "source": [
        "dir( ) : 자료형의 내장함수를 검색 할 수 있다."
      ],
      "metadata": {
        "id": "pxZYlaf1TEBc"
      }
    },
    {
      "cell_type": "code",
      "source": [
        "print(dir(str))\n",
        "print(len(dir(str))) # 80개"
      ],
      "metadata": {
        "colab": {
          "base_uri": "https://localhost:8080/"
        },
        "id": "83PKvjudTmKf",
        "outputId": "bebb288e-b240-45b1-c188-02655b5385be"
      },
      "execution_count": 60,
      "outputs": [
        {
          "output_type": "stream",
          "name": "stdout",
          "text": [
            "['__add__', '__class__', '__contains__', '__delattr__', '__dir__', '__doc__', '__eq__', '__format__', '__ge__', '__getattribute__', '__getitem__', '__getnewargs__', '__gt__', '__hash__', '__init__', '__init_subclass__', '__iter__', '__le__', '__len__', '__lt__', '__mod__', '__mul__', '__ne__', '__new__', '__reduce__', '__reduce_ex__', '__repr__', '__rmod__', '__rmul__', '__setattr__', '__sizeof__', '__str__', '__subclasshook__', 'capitalize', 'casefold', 'center', 'count', 'encode', 'endswith', 'expandtabs', 'find', 'format', 'format_map', 'index', 'isalnum', 'isalpha', 'isascii', 'isdecimal', 'isdigit', 'isidentifier', 'islower', 'isnumeric', 'isprintable', 'isspace', 'istitle', 'isupper', 'join', 'ljust', 'lower', 'lstrip', 'maketrans', 'partition', 'removeprefix', 'removesuffix', 'replace', 'rfind', 'rindex', 'rjust', 'rpartition', 'rsplit', 'rstrip', 'split', 'splitlines', 'startswith', 'strip', 'swapcase', 'title', 'translate', 'upper', 'zfill']\n",
            "80\n"
          ]
        }
      ]
    },
    {
      "cell_type": "code",
      "source": [
        "print(dir(list))\n",
        "print(len(dir(list))) # 47개"
      ],
      "metadata": {
        "colab": {
          "base_uri": "https://localhost:8080/"
        },
        "id": "qb7k5YTnT1DS",
        "outputId": "4f5e6572-594a-481b-b4b1-41276e901d71"
      },
      "execution_count": 61,
      "outputs": [
        {
          "output_type": "stream",
          "name": "stdout",
          "text": [
            "['__add__', '__class__', '__class_getitem__', '__contains__', '__delattr__', '__delitem__', '__dir__', '__doc__', '__eq__', '__format__', '__ge__', '__getattribute__', '__getitem__', '__gt__', '__hash__', '__iadd__', '__imul__', '__init__', '__init_subclass__', '__iter__', '__le__', '__len__', '__lt__', '__mul__', '__ne__', '__new__', '__reduce__', '__reduce_ex__', '__repr__', '__reversed__', '__rmul__', '__setattr__', '__setitem__', '__sizeof__', '__str__', '__subclasshook__', 'append', 'clear', 'copy', 'count', 'extend', 'index', 'insert', 'pop', 'remove', 'reverse', 'sort']\n",
            "47\n"
          ]
        }
      ]
    },
    {
      "cell_type": "code",
      "source": [
        "a = [1, 2, 3]\n",
        "print(a.__dir__()) # built-in method < 함수로 호출 () 첨가\n",
        "print(len(a.__dir__()))"
      ],
      "metadata": {
        "colab": {
          "base_uri": "https://localhost:8080/"
        },
        "id": "Vf6v-jWDUKai",
        "outputId": "50e740d2-419f-4e54-a98f-0495d98a1e24"
      },
      "execution_count": 70,
      "outputs": [
        {
          "output_type": "stream",
          "name": "stdout",
          "text": [
            "['__new__', '__repr__', '__hash__', '__getattribute__', '__lt__', '__le__', '__eq__', '__ne__', '__gt__', '__ge__', '__iter__', '__init__', '__len__', '__getitem__', '__setitem__', '__delitem__', '__add__', '__mul__', '__rmul__', '__contains__', '__iadd__', '__imul__', '__reversed__', '__sizeof__', 'clear', 'copy', 'append', 'insert', 'extend', 'pop', 'remove', 'index', 'count', 'reverse', 'sort', '__class_getitem__', '__doc__', '__str__', '__setattr__', '__delattr__', '__reduce_ex__', '__reduce__', '__subclasshook__', '__init_subclass__', '__format__', '__dir__', '__class__']\n",
            "47\n"
          ]
        }
      ]
    },
    {
      "cell_type": "markdown",
      "source": [
        "help( ) : 자료형에서 제공하는 메소드 사용법을 검색 할 수 있다."
      ],
      "metadata": {
        "id": "nVnoBb7sVHk8"
      }
    },
    {
      "cell_type": "code",
      "source": [
        "#help(str)\n",
        "help(str.index)"
      ],
      "metadata": {
        "colab": {
          "base_uri": "https://localhost:8080/"
        },
        "id": "O9DXVOj3VOfw",
        "outputId": "8e1051a6-2411-4eb7-b38d-2069335e4f7d"
      },
      "execution_count": 75,
      "outputs": [
        {
          "output_type": "stream",
          "name": "stdout",
          "text": [
            "Help on method_descriptor:\n",
            "\n",
            "index(...)\n",
            "    S.index(sub[, start[, end]]) -> int\n",
            "    \n",
            "    Return the lowest index in S where substring sub is found,\n",
            "    such that sub is contained within S[start:end].  Optional\n",
            "    arguments start and end are interpreted as in slice notation.\n",
            "    \n",
            "    Raises ValueError when the substring is not found.\n",
            "\n"
          ]
        }
      ]
    },
    {
      "cell_type": "code",
      "source": [
        "'hello'.index('l') # 앞에서 부터 찾아줌 0,1,2..."
      ],
      "metadata": {
        "colab": {
          "base_uri": "https://localhost:8080/"
        },
        "id": "sc49ycRIWK6b",
        "outputId": "54662df9-77a5-47f7-a4aa-298c71765152"
      },
      "execution_count": 76,
      "outputs": [
        {
          "output_type": "execute_result",
          "data": {
            "text/plain": [
              "2"
            ]
          },
          "metadata": {},
          "execution_count": 76
        }
      ]
    },
    {
      "cell_type": "markdown",
      "source": [
        "## Sequence 자료형\n",
        "- Sequence은 여러 객체를 저장할 수 있는 순서를 갖는 연속된 자료형이다.\n",
        "- 자료형 종류 : str, tuple, list\n",
        "- sequence형의 공통적인 연산\n",
        "  - 인덱싱(indexing)\n",
        "  - 슬라이싱(slicing)\n",
        "  - 연결하기\n",
        "  - 반복하기\n",
        "  - 멤버 검사\n",
        "  - 길이정보"
      ],
      "metadata": {
        "id": "kiJZRgWkaU1n"
      }
    },
    {
      "cell_type": "markdown",
      "source": [
        "문자열(str)\n",
        "\n",
        "문자열은 문자들을 표현하는 자료형으로 작은따옴표(')나 큰따옴표(\")로 묶는다.   \n",
        "문자열의 슬라이싱 : [인덱스 시작 : 인덱스 끝 : 스텝]  \n",
        "스텝의 default은 1의 값을 갖는다."
      ],
      "metadata": {
        "id": "O0He2as0aZ4Q"
      }
    },
    {
      "cell_type": "code",
      "source": [
        "a = 'Life is too short, You need python'\n",
        "print(a)\n",
        "\n",
        "a = \"Life is too short, You need python\"\n",
        "print(a)"
      ],
      "metadata": {
        "colab": {
          "base_uri": "https://localhost:8080/"
        },
        "id": "xbXrwsGTahHf",
        "outputId": "cc8eca82-6c7a-4c1a-b006-03ce79c8102f"
      },
      "execution_count": 79,
      "outputs": [
        {
          "output_type": "stream",
          "name": "stdout",
          "text": [
            "Life is too short, You need python\n",
            "Life is too short, You need python\n"
          ]
        }
      ]
    },
    {
      "cell_type": "code",
      "source": [
        "a = \"Python's favorite food is perl\"\n",
        "print(a)\n",
        "print(id(a))\n",
        "\n",
        "a = '\"Python is very easy.\" he says.'\n",
        "print(a)\n",
        "print(id(a)) # id( ) : 메모리의 고유값을 나타냄.\n",
        "\n",
        "a = 'Python\\'s favorite food is perl' # 문자열로 출력하려하면 \\를 앞에 붙이기.\n",
        "print(a)\n",
        "\n",
        "a = '\\\"Python is very easy.\" he says.' # 쌍으로 이룰 때는 앞에 기호에만 있어도 유지됨.\n",
        "print(a)"
      ],
      "metadata": {
        "colab": {
          "base_uri": "https://localhost:8080/"
        },
        "id": "IQ3uUTKLa9Wn",
        "outputId": "89db8118-2ba9-4380-9f7d-8648bbef0b4a"
      },
      "execution_count": 89,
      "outputs": [
        {
          "output_type": "stream",
          "name": "stdout",
          "text": [
            "Python's favorite food is perl\n",
            "136159286907392\n",
            "\"Python is very easy.\" he says.\n",
            "136159286906352\n",
            "Python's favorite food is perl\n",
            "\"Python is very easy.\" he says.\n"
          ]
        }
      ]
    },
    {
      "cell_type": "code",
      "source": [
        "b = \"\"\"\n",
        "Life is too short\n",
        "You need python\n",
        "\"\"\" # ''' 로도 사용 가능\n",
        "print(b)"
      ],
      "metadata": {
        "colab": {
          "base_uri": "https://localhost:8080/"
        },
        "id": "TUSBJQNkdkDX",
        "outputId": "2131b131-1719-4aef-c1e5-2bead84ab3ea"
      },
      "execution_count": 109,
      "outputs": [
        {
          "output_type": "stream",
          "name": "stdout",
          "text": [
            "\n",
            "Life is too short\n",
            "You need python\n",
            "\n"
          ]
        }
      ]
    },
    {
      "cell_type": "code",
      "source": [
        "a = 'Life is too short'\n",
        "len(a) # 문자열의 길이 확인 (공백도 인식함.)"
      ],
      "metadata": {
        "colab": {
          "base_uri": "https://localhost:8080/"
        },
        "id": "CdFdIjUVd_6v",
        "outputId": "1d61cc29-ac3c-4686-924b-f10e3bf1d09b"
      },
      "execution_count": 111,
      "outputs": [
        {
          "output_type": "execute_result",
          "data": {
            "text/plain": [
              "17"
            ]
          },
          "metadata": {},
          "execution_count": 111
        }
      ]
    },
    {
      "cell_type": "code",
      "source": [
        "s_val = 'hello python!'\n",
        "print(s_val)\n",
        "len(s_val)"
      ],
      "metadata": {
        "colab": {
          "base_uri": "https://localhost:8080/"
        },
        "id": "2Rh0lAXbeZCn",
        "outputId": "8f082e49-80e2-4d5b-832d-077ab65aa41c"
      },
      "execution_count": 183,
      "outputs": [
        {
          "output_type": "stream",
          "name": "stdout",
          "text": [
            "hello python!\n"
          ]
        },
        {
          "output_type": "execute_result",
          "data": {
            "text/plain": [
              "13"
            ]
          },
          "metadata": {},
          "execution_count": 183
        }
      ]
    },
    {
      "cell_type": "code",
      "source": [
        "# indexing(인덱싱) : 하나만 가져오기\n",
        "s_val[1]"
      ],
      "metadata": {
        "colab": {
          "base_uri": "https://localhost:8080/",
          "height": 35
        },
        "id": "LoIVV9Daem0i",
        "outputId": "6f4a111d-fba0-4a59-fd7f-d14634d4e1f9"
      },
      "execution_count": 120,
      "outputs": [
        {
          "output_type": "execute_result",
          "data": {
            "text/plain": [
              "'e'"
            ],
            "application/vnd.google.colaboratory.intrinsic+json": {
              "type": "string"
            }
          },
          "metadata": {},
          "execution_count": 120
        }
      ]
    },
    {
      "cell_type": "code",
      "source": [
        "# slicing(슬라이싱) [start:end:step] step생략가능(생략시 1씩 증가)\n",
        "                    # start이상 end미만 출력\n",
        "s_val[0:5]"
      ],
      "metadata": {
        "colab": {
          "base_uri": "https://localhost:8080/",
          "height": 35
        },
        "id": "euUpWjDke3Ns",
        "outputId": "38cdba1d-ff87-4be3-a9d8-94c545c0585d"
      },
      "execution_count": 129,
      "outputs": [
        {
          "output_type": "execute_result",
          "data": {
            "text/plain": [
              "'hello'"
            ],
            "application/vnd.google.colaboratory.intrinsic+json": {
              "type": "string"
            }
          },
          "metadata": {},
          "execution_count": 129
        }
      ]
    },
    {
      "cell_type": "code",
      "source": [
        "s_val[1:2] # 1이상 2미만"
      ],
      "metadata": {
        "colab": {
          "base_uri": "https://localhost:8080/",
          "height": 35
        },
        "id": "5vbxxBEPgEC1",
        "outputId": "9c76de6d-56dd-4c40-bed2-8fd04fd15f26"
      },
      "execution_count": 136,
      "outputs": [
        {
          "output_type": "execute_result",
          "data": {
            "text/plain": [
              "'e'"
            ],
            "application/vnd.google.colaboratory.intrinsic+json": {
              "type": "string"
            }
          },
          "metadata": {},
          "execution_count": 136
        }
      ]
    },
    {
      "cell_type": "code",
      "source": [
        "s_val[1:] # end 생략시 끝까지 출력"
      ],
      "metadata": {
        "colab": {
          "base_uri": "https://localhost:8080/",
          "height": 35
        },
        "id": "XUvIsQh0gbxz",
        "outputId": "e791e0e4-a9b2-4c99-c8b5-306c688f222d"
      },
      "execution_count": 140,
      "outputs": [
        {
          "output_type": "execute_result",
          "data": {
            "text/plain": [
              "'ello python!'"
            ],
            "application/vnd.google.colaboratory.intrinsic+json": {
              "type": "string"
            }
          },
          "metadata": {},
          "execution_count": 140
        }
      ]
    },
    {
      "cell_type": "code",
      "source": [
        "s_val[:5] # start 생략시 end앞까지 출력"
      ],
      "metadata": {
        "colab": {
          "base_uri": "https://localhost:8080/",
          "height": 35
        },
        "id": "tR1vmO6ygqcF",
        "outputId": "8cbcfd6e-d6c2-47f2-c51b-026b54f73aac"
      },
      "execution_count": 143,
      "outputs": [
        {
          "output_type": "execute_result",
          "data": {
            "text/plain": [
              "'hello'"
            ],
            "application/vnd.google.colaboratory.intrinsic+json": {
              "type": "string"
            }
          },
          "metadata": {},
          "execution_count": 143
        }
      ]
    },
    {
      "cell_type": "code",
      "source": [
        "# 변수의 모든 데이터를 가지고 옴\n",
        "print(s_val[:])\n",
        "print(s_val[0:])"
      ],
      "metadata": {
        "colab": {
          "base_uri": "https://localhost:8080/"
        },
        "id": "YOqnMlZAglSD",
        "outputId": "755da2f0-1f49-4343-ce83-f68cf0e30f68"
      },
      "execution_count": 145,
      "outputs": [
        {
          "output_type": "stream",
          "name": "stdout",
          "text": [
            "hello python!\n",
            "hello python!\n"
          ]
        }
      ]
    },
    {
      "cell_type": "code",
      "source": [
        "s_val[-1] # 뒤에서 부터 '-1'"
      ],
      "metadata": {
        "colab": {
          "base_uri": "https://localhost:8080/",
          "height": 35
        },
        "id": "94NysL5Tg7NS",
        "outputId": "6ab0fcf5-36bf-4979-dc79-357d9da6057c"
      },
      "execution_count": 149,
      "outputs": [
        {
          "output_type": "execute_result",
          "data": {
            "text/plain": [
              "'!'"
            ],
            "application/vnd.google.colaboratory.intrinsic+json": {
              "type": "string"
            }
          },
          "metadata": {},
          "execution_count": 149
        }
      ]
    },
    {
      "cell_type": "code",
      "source": [
        "s_val[::-1] # 역순으로 가져오기"
      ],
      "metadata": {
        "colab": {
          "base_uri": "https://localhost:8080/",
          "height": 35
        },
        "id": "AGbOpmF_hNlL",
        "outputId": "777ad945-0eff-4150-80b5-c47c7758ff9f"
      },
      "execution_count": 172,
      "outputs": [
        {
          "output_type": "execute_result",
          "data": {
            "text/plain": [
              "'!nohtyp olleh'"
            ],
            "application/vnd.google.colaboratory.intrinsic+json": {
              "type": "string"
            }
          },
          "metadata": {},
          "execution_count": 172
        }
      ]
    },
    {
      "cell_type": "code",
      "source": [
        "s_val[13::-1] # 역순일시 start:end도 역순"
      ],
      "metadata": {
        "colab": {
          "base_uri": "https://localhost:8080/",
          "height": 35
        },
        "id": "SGn0MXD4h_ld",
        "outputId": "dce0ee7c-79a2-46de-8378-a963c42fef6e"
      },
      "execution_count": 182,
      "outputs": [
        {
          "output_type": "execute_result",
          "data": {
            "text/plain": [
              "'!nohtyp olleh'"
            ],
            "application/vnd.google.colaboratory.intrinsic+json": {
              "type": "string"
            }
          },
          "metadata": {},
          "execution_count": 182
        }
      ]
    },
    {
      "cell_type": "markdown",
      "source": [
        "문자열 연결하기 : (+)연산자를 사용"
      ],
      "metadata": {
        "id": "VdaFf4fPicsb"
      }
    },
    {
      "cell_type": "code",
      "source": [
        "s_val2 = 'hello' + ' '+ 'python!'\n",
        "s_val2"
      ],
      "metadata": {
        "colab": {
          "base_uri": "https://localhost:8080/",
          "height": 35
        },
        "id": "p0GSPoOoi2BE",
        "outputId": "a334edaa-0e96-4481-8973-6cdc67cce6fc"
      },
      "execution_count": 188,
      "outputs": [
        {
          "output_type": "execute_result",
          "data": {
            "text/plain": [
              "'hello python!'"
            ],
            "application/vnd.google.colaboratory.intrinsic+json": {
              "type": "string"
            }
          },
          "metadata": {},
          "execution_count": 188
        }
      ]
    },
    {
      "cell_type": "code",
      "source": [
        "# s_val2 = 'hello' + 2 #-> python에서는 다른 type끼리는 (+)연산자를 사용 할 수 없음.\n",
        "# TypeError: can only concatenate str (not \"int\") to str"
      ],
      "metadata": {
        "id": "iAS2chj3jKBF"
      },
      "execution_count": 192,
      "outputs": []
    },
    {
      "cell_type": "markdown",
      "source": [
        "문자열 반복하기 : (*)연산자를 사용"
      ],
      "metadata": {
        "id": "z7ZXPfNJqYQ5"
      }
    },
    {
      "cell_type": "code",
      "source": [
        "s_val = 'win' * 3\n",
        "s_val"
      ],
      "metadata": {
        "colab": {
          "base_uri": "https://localhost:8080/",
          "height": 35
        },
        "id": "f57gTqdNqnv1",
        "outputId": "d35d098f-30d8-47b2-b7de-b15f39010140"
      },
      "execution_count": 195,
      "outputs": [
        {
          "output_type": "execute_result",
          "data": {
            "text/plain": [
              "'winwinwin'"
            ],
            "application/vnd.google.colaboratory.intrinsic+json": {
              "type": "string"
            }
          },
          "metadata": {},
          "execution_count": 195
        }
      ]
    },
    {
      "cell_type": "code",
      "source": [
        "# s_val = 'win' * 'win'\n",
        "# TypeError: can't multiply sequence by non-int of type 'str'"
      ],
      "metadata": {
        "id": "QaAXOxriq1w-"
      },
      "execution_count": 198,
      "outputs": []
    },
    {
      "cell_type": "markdown",
      "source": [
        "## 문자열을 변경 할 때 슬라이싱과 연결하기 사용"
      ],
      "metadata": {
        "id": "N0Ixqpfvq8V_"
      }
    },
    {
      "cell_type": "code",
      "source": [
        "s_val = 'hello python!'\n",
        "s_val"
      ],
      "metadata": {
        "colab": {
          "base_uri": "https://localhost:8080/",
          "height": 35
        },
        "id": "9sG9ttxxre4s",
        "outputId": "e0c83d26-2540-495a-dd31-5870a6620a58"
      },
      "execution_count": 203,
      "outputs": [
        {
          "output_type": "execute_result",
          "data": {
            "text/plain": [
              "'hello python!'"
            ],
            "application/vnd.google.colaboratory.intrinsic+json": {
              "type": "string"
            }
          },
          "metadata": {},
          "execution_count": 203
        }
      ]
    },
    {
      "cell_type": "code",
      "source": [
        "s_check = 'H' + s_val[1:]\n",
        "s_check"
      ],
      "metadata": {
        "colab": {
          "base_uri": "https://localhost:8080/",
          "height": 35
        },
        "id": "C2xmwGcBrm2H",
        "outputId": "4a10dd62-5685-4b47-9e59-26c0aa2e349c"
      },
      "execution_count": 204,
      "outputs": [
        {
          "output_type": "execute_result",
          "data": {
            "text/plain": [
              "'Hello python!'"
            ],
            "application/vnd.google.colaboratory.intrinsic+json": {
              "type": "string"
            }
          },
          "metadata": {},
          "execution_count": 204
        }
      ]
    },
    {
      "cell_type": "markdown",
      "source": [
        "## in연산자로 멤버 검사를 해서 부분 문자열의 존재 확인"
      ],
      "metadata": {
        "id": "Z0oh83WJr3qn"
      }
    },
    {
      "cell_type": "code",
      "source": [
        "s_val = 'red green blue'\n",
        "s_val"
      ],
      "metadata": {
        "colab": {
          "base_uri": "https://localhost:8080/",
          "height": 35
        },
        "id": "FqgajAQhsLUz",
        "outputId": "d89f96cb-ac32-4ddc-b56b-4dab36be8e1e"
      },
      "execution_count": 205,
      "outputs": [
        {
          "output_type": "execute_result",
          "data": {
            "text/plain": [
              "'red green blue'"
            ],
            "application/vnd.google.colaboratory.intrinsic+json": {
              "type": "string"
            }
          },
          "metadata": {},
          "execution_count": 205
        }
      ]
    },
    {
      "cell_type": "code",
      "source": [
        "'green' in s_val #bool형식"
      ],
      "metadata": {
        "colab": {
          "base_uri": "https://localhost:8080/"
        },
        "id": "g3Tkus8dsRQX",
        "outputId": "084208cb-54d6-4fb2-844b-6b21269e3f60"
      },
      "execution_count": 208,
      "outputs": [
        {
          "output_type": "execute_result",
          "data": {
            "text/plain": [
              "True"
            ]
          },
          "metadata": {},
          "execution_count": 208
        }
      ]
    },
    {
      "cell_type": "code",
      "source": [
        "'white' in s_val # 파이썬에서는 논리값 출력시 첫글자 대문자"
      ],
      "metadata": {
        "colab": {
          "base_uri": "https://localhost:8080/"
        },
        "id": "FvAL0tjXsfnV",
        "outputId": "262fc9a8-b09a-4992-c3ec-2cf45c217ee8"
      },
      "execution_count": 210,
      "outputs": [
        {
          "output_type": "execute_result",
          "data": {
            "text/plain": [
              "False"
            ]
          },
          "metadata": {},
          "execution_count": 210
        }
      ]
    },
    {
      "cell_type": "markdown",
      "source": [
        "문자열 서식지정 : 어떤 문서 양식을 만들어 넣고 빈칸에 필요한 내용을 채워서 문서를 지정한다."
      ],
      "metadata": {
        "id": "xY-cGdKBssif"
      }
    },
    {
      "cell_type": "code",
      "source": [
        "s_val7 = 'python'\n",
        "s_val8 = 83.5\n",
        "\n",
        "print('%s 의 점수는 %.1f입니다.' % ( s_val7, s_val8)) # python1, 2방식\n",
        "print('{} 의 점수는 {}입니다.'.format(s_val7, s_val8)) # python3 방식\n",
        "print('{1} 의 점수는 {0}입니다.'.format(s_val8, s_val7))\n",
        "print('{subject} 의 점수는 {jumsu}입니다.'.format(jumsu=s_val8, subject=s_val7))\n",
        "print('{{0}} 의 점수는 {{1}}입니다.'.format(s_val7, s_val8)) # { }자체를 출력할때 {{}}을 한다.\n",
        "print('{{{0}}} 의 점수는 {{{1}}}입니다.'.format(s_val7, s_val8)) # {}자체와 값을 출력할때는 {{{}}}을 한다.\n",
        "\n",
        "print('{0:<10} 의 점수는 {1}입니다.'.format(s_val7, s_val8))  # 10자리 확보하고 남은 공간은 오른쪽을 여백으로 채운다.\n",
        "#print('{:<10} 의 점수는 {}입니다.'.format(s_val7, s_val8))\n",
        "\n",
        "print('{0:>10} 의 점수는 {1}입니다.'.format(s_val7, s_val8))  # 10자리 확보하고 남은 공간은 왼쪽을 여백으로 채운다.\n",
        "#print('{:>10} 의 점수는 {}입니다.'.format(s_val7, s_val8))\n",
        "\n",
        "print('{0:!^10} 의 점수는 {1}입니다.'.format(s_val7, s_val8)) # 10자리 확보하고 남은 공간은 !, 가운데 정렬로 채운다.\n",
        "#print('{:^10} 의 점수는 {}입니다.'.format(s_val7, s_val8))"
      ],
      "metadata": {
        "colab": {
          "base_uri": "https://localhost:8080/"
        },
        "id": "Kemvvfu9wkQI",
        "outputId": "0851934f-47c7-4632-9107-6dbdf58d2812"
      },
      "execution_count": 216,
      "outputs": [
        {
          "output_type": "stream",
          "name": "stdout",
          "text": [
            "python 의 점수는 83.5입니다.\n",
            "python 의 점수는 83.5입니다.\n",
            "python 의 점수는 83.5입니다.\n",
            "python 의 점수는 83.5입니다.\n",
            "{0} 의 점수는 {1}입니다.\n",
            "{python} 의 점수는 {83.5}입니다.\n",
            "python     의 점수는 83.5입니다.\n",
            "    python 의 점수는 83.5입니다.\n",
            "!!python!! 의 점수는 83.5입니다.\n"
          ]
        }
      ]
    },
    {
      "cell_type": "markdown",
      "source": [
        "## 문자열에서 제공하는 메소드"
      ],
      "metadata": {
        "id": "S4mYVS7swoWn"
      }
    },
    {
      "cell_type": "code",
      "source": [
        "a = 'hobby'\n",
        "# a.count? : ? 상세 도움말 출력\n",
        "a.count('b') # 문자열 속 특정 문자의 개수 리턴"
      ],
      "metadata": {
        "colab": {
          "base_uri": "https://localhost:8080/"
        },
        "id": "kDwItXdh01mK",
        "outputId": "e7fe0d31-8a78-4501-80a3-d4d76b5503f1"
      },
      "execution_count": 238,
      "outputs": [
        {
          "output_type": "execute_result",
          "data": {
            "text/plain": [
              "2"
            ]
          },
          "metadata": {},
          "execution_count": 238
        }
      ]
    },
    {
      "cell_type": "code",
      "source": [
        "len(a) #문자열의 모든 문자의 개수 리턴"
      ],
      "metadata": {
        "colab": {
          "base_uri": "https://localhost:8080/"
        },
        "id": "EtdvBH5g08SV",
        "outputId": "0cc1bb91-1c3e-44bc-c123-6814b2648a73"
      },
      "execution_count": 239,
      "outputs": [
        {
          "output_type": "execute_result",
          "data": {
            "text/plain": [
              "5"
            ]
          },
          "metadata": {},
          "execution_count": 239
        }
      ]
    },
    {
      "cell_type": "code",
      "source": [
        "a.find('b')\n",
        "print(a.find('b')) # 'b'의 인덱스 리턴\n",
        "print(a.index('b'))"
      ],
      "metadata": {
        "colab": {
          "base_uri": "https://localhost:8080/"
        },
        "id": "9X6vuogI2JXh",
        "outputId": "52e8970e-3592-4032-c69b-b82dd430a4cb"
      },
      "execution_count": 240,
      "outputs": [
        {
          "output_type": "stream",
          "name": "stdout",
          "text": [
            "2\n",
            "2\n"
          ]
        }
      ]
    },
    {
      "cell_type": "code",
      "source": [
        "print(a.find('c')) # 찾는 문자열이 없으면 -1 리턴\n",
        "# print(a.index('c')) 찾는 문자열이 없으면 오류 발생 (ValueError: substring not found)"
      ],
      "metadata": {
        "colab": {
          "base_uri": "https://localhost:8080/"
        },
        "id": "Cau5t4xB2chY",
        "outputId": "5b989ddc-e433-4ffd-ada7-486b249c54db"
      },
      "execution_count": 242,
      "outputs": [
        {
          "output_type": "stream",
          "name": "stdout",
          "text": [
            "-1\n"
          ]
        }
      ]
    },
    {
      "cell_type": "code",
      "source": [
        "# 문자열의 각각의 (문자열) 사이에 삽입해준다.\n",
        "'goat'.join('FAKER') #'문자열'.join('문자열')"
      ],
      "metadata": {
        "colab": {
          "base_uri": "https://localhost:8080/",
          "height": 35
        },
        "id": "951V2bHd2wUT",
        "outputId": "f5065979-4a46-47a3-9509-efbfe98fafe9"
      },
      "execution_count": 255,
      "outputs": [
        {
          "output_type": "execute_result",
          "data": {
            "text/plain": [
              "'FgoatAgoatKgoatEgoatR'"
            ],
            "application/vnd.google.colaboratory.intrinsic+json": {
              "type": "string"
            }
          },
          "metadata": {},
          "execution_count": 255
        }
      ]
    },
    {
      "cell_type": "code",
      "source": [
        "'*'.join(['red', 'blue', 'green'])"
      ],
      "metadata": {
        "colab": {
          "base_uri": "https://localhost:8080/",
          "height": 35
        },
        "id": "EfHHtP333o9U",
        "outputId": "96e1e892-44b1-4896-ccbc-c769299a52c4"
      },
      "execution_count": 250,
      "outputs": [
        {
          "output_type": "execute_result",
          "data": {
            "text/plain": [
              "'red*blue*green'"
            ],
            "application/vnd.google.colaboratory.intrinsic+json": {
              "type": "string"
            }
          },
          "metadata": {},
          "execution_count": 250
        }
      ]
    },
    {
      "cell_type": "code",
      "source": [
        "a = 'hello'\n",
        "a.upper() # 데이터를 모두 대문자로 변경 후 출력"
      ],
      "metadata": {
        "colab": {
          "base_uri": "https://localhost:8080/",
          "height": 35
        },
        "id": "MSq4yNj84Ks0",
        "outputId": "4a305268-f648-4b88-cfbb-5e9fca895a7c"
      },
      "execution_count": 253,
      "outputs": [
        {
          "output_type": "execute_result",
          "data": {
            "text/plain": [
              "'HELLO'"
            ],
            "application/vnd.google.colaboratory.intrinsic+json": {
              "type": "string"
            }
          },
          "metadata": {},
          "execution_count": 253
        }
      ]
    },
    {
      "cell_type": "code",
      "source": [
        "a = 'GODS'\n",
        "a.lower() # 데이터를 모두 소문자로 변경 후 출력"
      ],
      "metadata": {
        "colab": {
          "base_uri": "https://localhost:8080/",
          "height": 35
        },
        "id": "VkcCjulx4UWc",
        "outputId": "1e7bbb9f-9060-4fc6-8e99-a5895d21a1ab"
      },
      "execution_count": 254,
      "outputs": [
        {
          "output_type": "execute_result",
          "data": {
            "text/plain": [
              "'gods'"
            ],
            "application/vnd.google.colaboratory.intrinsic+json": {
              "type": "string"
            }
          },
          "metadata": {},
          "execution_count": 254
        }
      ]
    },
    {
      "cell_type": "code",
      "source": [
        "a = '     hello   wo   r l d   '\n",
        "print(len(a)) # 26\n",
        "print(a)\n",
        "b = a.lstrip() # 'l' left 왼쪽 공백 제거\n",
        "print(len(b)) # 21\n",
        "print(b)"
      ],
      "metadata": {
        "colab": {
          "base_uri": "https://localhost:8080/"
        },
        "id": "AXP5Zo734ews",
        "outputId": "66b7e900-89aa-4332-f313-2e91f2889268"
      },
      "execution_count": 259,
      "outputs": [
        {
          "output_type": "stream",
          "name": "stdout",
          "text": [
            "26\n",
            "     hello   wo   r l d   \n",
            "21\n",
            "hello   wo   r l d   \n"
          ]
        }
      ]
    },
    {
      "cell_type": "code",
      "source": [
        "a = '     hello   wo   r l d   '\n",
        "print(len(a)) # 26\n",
        "print(a)\n",
        "b = a.rstrip() # 'r' right 오른쪽 공백 제거\n",
        "print(len(b)) # 23\n",
        "print(b)\n"
      ],
      "metadata": {
        "colab": {
          "base_uri": "https://localhost:8080/"
        },
        "id": "bHszc55F42zz",
        "outputId": "075242c8-0109-4d61-ac80-11af393022c6"
      },
      "execution_count": 260,
      "outputs": [
        {
          "output_type": "stream",
          "name": "stdout",
          "text": [
            "26\n",
            "     hello   wo   r l d   \n",
            "23\n",
            "     hello   wo   r l d\n"
          ]
        }
      ]
    },
    {
      "cell_type": "code",
      "source": [
        "a = '     hello   wo   r l d   '\n",
        "print(len(a)) # 26\n",
        "print(a)\n",
        "b = a.strip() # 양쪽 공백 제거\n",
        "print(len(b)) # 18\n",
        "print(b)\n",
        "\n",
        "# 가운데 스트립을 지우는 건 불가능 > 다른 방법 찾기\n"
      ],
      "metadata": {
        "colab": {
          "base_uri": "https://localhost:8080/"
        },
        "id": "2D2dmNQi5byM",
        "outputId": "ad9d9079-9487-4c32-afeb-53178f643a2c"
      },
      "execution_count": 262,
      "outputs": [
        {
          "output_type": "stream",
          "name": "stdout",
          "text": [
            "26\n",
            "     hello   wo   r l d   \n",
            "18\n",
            "hello   wo   r l d\n"
          ]
        }
      ]
    },
    {
      "cell_type": "code",
      "source": [
        "a = 'Hello Python'\n",
        "print(a.replace('Python','파이썬')) #문자열 변경 ('old', 'new') old -> new"
      ],
      "metadata": {
        "colab": {
          "base_uri": "https://localhost:8080/"
        },
        "id": "2FL6vFcO5sZT",
        "outputId": "30d1a47f-94e3-443c-fff9-9d7ecf66f8c2"
      },
      "execution_count": 264,
      "outputs": [
        {
          "output_type": "stream",
          "name": "stdout",
          "text": [
            "Hello 파이썬\n"
          ]
        }
      ]
    },
    {
      "cell_type": "code",
      "source": [
        "a = 'Red Green Blue'\n",
        "print(a.split()) #공백 기준으로 나누고 list type으로 출력\n",
        "\n",
        "a = 'Red Green Blue'\n",
        "print(a.split('e')) # 비어있는 값으로 나오기도 함."
      ],
      "metadata": {
        "colab": {
          "base_uri": "https://localhost:8080/"
        },
        "id": "xdJnGOb86aOO",
        "outputId": "5ac02368-d5a2-4fe5-a0b2-76c705cbee01"
      },
      "execution_count": 270,
      "outputs": [
        {
          "output_type": "stream",
          "name": "stdout",
          "text": [
            "['Red', 'Green', 'Blue']\n",
            "['R', 'd Gr', '', 'n Blu', '']\n"
          ]
        }
      ]
    },
    {
      "cell_type": "markdown",
      "source": [
        "문제1)\n",
        "S='Somewhere on the rainbow'를 'Somewhere over the rainbow'로 변환하세요."
      ],
      "metadata": {
        "id": "ppTPRIY_68oL"
      }
    },
    {
      "cell_type": "code",
      "source": [
        "S='Somewhere on the rainbow'\n",
        "print(S.replace('on','over'))"
      ],
      "metadata": {
        "colab": {
          "base_uri": "https://localhost:8080/"
        },
        "id": "IgAeRtSh72J7",
        "outputId": "a01e72f7-915d-4b4a-b25d-b2fc81db8a12"
      },
      "execution_count": 277,
      "outputs": [
        {
          "output_type": "stream",
          "name": "stdout",
          "text": [
            "Somewhere over the rainbow\n"
          ]
        }
      ]
    },
    {
      "cell_type": "markdown",
      "source": [
        "문제2)\n",
        "s = '/usr/local/bin/python' 에서 각각의 디렉토리 경로명을 분리하여 출력하세요.\n",
        "\n",
        "[실행결과] ['', 'usr', 'local', 'bin', 'python']"
      ],
      "metadata": {
        "id": "hw78kQoE8EA9"
      }
    },
    {
      "cell_type": "code",
      "source": [
        "s = '/usr/local/bin/python'\n",
        "print(s.split('/'))"
      ],
      "metadata": {
        "colab": {
          "base_uri": "https://localhost:8080/"
        },
        "id": "XqzyynPR7_I3",
        "outputId": "f3768ad7-e9d6-496b-9664-04b2e73cb86f"
      },
      "execution_count": 274,
      "outputs": [
        {
          "output_type": "stream",
          "name": "stdout",
          "text": [
            "['', 'usr', 'local', 'bin', 'python']\n"
          ]
        }
      ]
    },
    {
      "cell_type": "markdown",
      "source": [
        "문제3)\n",
        "'spam ham'을 'ham spam'으로 치환하세요.\n",
        "\n",
        "※문자열의 split( )과 join( )메서드 그리고 리스트의 reverse( )메서드를 사용"
      ],
      "metadata": {
        "id": "rGT21Ncu7_k_"
      }
    },
    {
      "cell_type": "code",
      "source": [
        "c = 'spam ham'\n",
        "print(c.split())\n",
        "\n",
        "'spam'.join(['ham ', ''])\n"
      ],
      "metadata": {
        "colab": {
          "base_uri": "https://localhost:8080/",
          "height": 54
        },
        "id": "W3JRGCsv8tXX",
        "outputId": "1c8f64cc-ca63-4c44-8ef8-c9677d0f3e2c"
      },
      "execution_count": 282,
      "outputs": [
        {
          "output_type": "stream",
          "name": "stdout",
          "text": [
            "['spam', 'ham']\n"
          ]
        },
        {
          "output_type": "execute_result",
          "data": {
            "text/plain": [
              "'ham spam'"
            ],
            "application/vnd.google.colaboratory.intrinsic+json": {
              "type": "string"
            }
          },
          "metadata": {},
          "execution_count": 282
        }
      ]
    },
    {
      "cell_type": "code",
      "source": [
        "#단어의 순서 바꾸기\n",
        "# 문자열의 순서 뒤집기\n",
        "# 공백의 없애기"
      ],
      "metadata": {
        "id": "u3wKV_2K8BmX"
      },
      "execution_count": null,
      "outputs": []
    }
  ]
}