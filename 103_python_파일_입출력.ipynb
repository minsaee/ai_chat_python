{
  "nbformat": 4,
  "nbformat_minor": 0,
  "metadata": {
    "colab": {
      "provenance": [],
      "authorship_tag": "ABX9TyM/ukJNTZJFeCPRlXHauCV5",
      "include_colab_link": true
    },
    "kernelspec": {
      "name": "python3",
      "display_name": "Python 3"
    },
    "language_info": {
      "name": "python"
    }
  },
  "cells": [
    {
      "cell_type": "markdown",
      "metadata": {
        "id": "view-in-github",
        "colab_type": "text"
      },
      "source": [
        "<a href=\"https://colab.research.google.com/github/minsaee/ai_chat_python/blob/master/103_python_%ED%8C%8C%EC%9D%BC_%EC%9E%85%EC%B6%9C%EB%A0%A5.ipynb\" target=\"_parent\"><img src=\"https://colab.research.google.com/assets/colab-badge.svg\" alt=\"Open In Colab\"/></a>"
      ]
    },
    {
      "cell_type": "code",
      "execution_count": 3,
      "metadata": {
        "colab": {
          "base_uri": "https://localhost:8080/"
        },
        "id": "7l3I4OUjcisJ",
        "outputId": "d07ca602-14e3-4658-b1c3-58680583487f"
      },
      "outputs": [
        {
          "output_type": "stream",
          "name": "stdout",
          "text": [
            "Drive already mounted at /content/drive; to attempt to forcibly remount, call drive.mount(\"/content/drive\", force_remount=True).\n"
          ]
        }
      ],
      "source": [
        "# Google Drive를 Colab에 연결해서 데이터 로딩하기\n",
        "from google.colab import drive\n",
        "drive.mount('/content/drive')"
      ]
    },
    {
      "cell_type": "code",
      "source": [
        "# 경로변경\n",
        "%cd /content/drive/MyDrive/ai_chat_python"
      ],
      "metadata": {
        "colab": {
          "base_uri": "https://localhost:8080/"
        },
        "id": "n-DpttOSdeB4",
        "outputId": "2c14835d-b80f-424d-cd1f-6f5ac38dff14"
      },
      "execution_count": 4,
      "outputs": [
        {
          "output_type": "stream",
          "name": "stdout",
          "text": [
            "/content/drive/MyDrive/ai_chat_python\n"
          ]
        }
      ]
    },
    {
      "cell_type": "markdown",
      "source": [
        "## 파일 입출력\n",
        "open('파일경로', '파일열기모드')\n",
        " - w : 쓰기모드 - 파일에 내용을 쓸 때 사용\n",
        " - r : 읽기모드 - 파일에 내용을 읽을 때 사용\n",
        " - a : 추가모드 - 파일에 내용을 추가할 때 사용"
      ],
      "metadata": {
        "id": "mUWXuQFDdzkA"
      }
    },
    {
      "cell_type": "code",
      "source": [
        "fwrite = open('source/sample.txt', 'w') # 파일 열고 쓰기\n",
        "for i in range(5):\n",
        "  data = '{}번째 줄입니다.\\n'.format(i)\n",
        "  fwrite.write(data)\n",
        "fwrite.close() # 파일 닫기"
      ],
      "metadata": {
        "id": "DQOJGLaZeZnA"
      },
      "execution_count": 9,
      "outputs": []
    },
    {
      "cell_type": "code",
      "source": [
        "fread = open('source/sample.txt', 'r') # 파일 열고 읽기\n",
        "line = fread.read() # read()는 파일의 모든 데이터를 읽어온다.\n",
        "print(line)\n",
        "print(type(line))\n",
        "fread.close() # 파일 닫기"
      ],
      "metadata": {
        "colab": {
          "base_uri": "https://localhost:8080/"
        },
        "id": "QEazsuSeyvso",
        "outputId": "665832ef-1007-4c4a-c71d-3ad740786665"
      },
      "execution_count": 15,
      "outputs": [
        {
          "output_type": "stream",
          "name": "stdout",
          "text": [
            "0번째 줄입니다.\n",
            "1번째 줄입니다.\n",
            "2번째 줄입니다.\n",
            "3번째 줄입니다.\n",
            "4번째 줄입니다.\n",
            "\n",
            "<class 'str'>\n"
          ]
        }
      ]
    },
    {
      "cell_type": "code",
      "source": [
        "fread = open('source/sample.txt', 'r')\n",
        "while True:\n",
        "  line = fread.readline() # readline()은 파일에서 한라인씩 읽어옴\n",
        "  if not line:            # 파일에서 더 이상 읽어올 내용이 없으면\n",
        "    break\n",
        "  print(line)\n",
        "  print(type(line))\n",
        "fread.close()"
      ],
      "metadata": {
        "colab": {
          "base_uri": "https://localhost:8080/"
        },
        "id": "j4Nv0OIF0kEj",
        "outputId": "d0564ba7-a0f5-4fa6-aa11-5e94354d7087"
      },
      "execution_count": 32,
      "outputs": [
        {
          "output_type": "stream",
          "name": "stdout",
          "text": [
            "0번째 줄입니다.\n",
            "\n",
            "<class 'str'>\n",
            "1번째 줄입니다.\n",
            "\n",
            "<class 'str'>\n",
            "2번째 줄입니다.\n",
            "\n",
            "<class 'str'>\n",
            "3번째 줄입니다.\n",
            "\n",
            "<class 'str'>\n",
            "4번째 줄입니다.\n",
            "\n",
            "<class 'str'>\n"
          ]
        }
      ]
    },
    {
      "cell_type": "code",
      "source": [
        "fread = open('source/sample.txt', 'r') #sample.txt파일을 읽기로 연결한다.\n",
        "line = fread.readlines() # readlines()은 파일에서 한라인씩 읽어와서 list에 저장한후 리턴한다.\n",
        "print(line)\n",
        "print(type(line))\n",
        "fread.close()"
      ],
      "metadata": {
        "colab": {
          "base_uri": "https://localhost:8080/"
        },
        "id": "757RsIuE2kr8",
        "outputId": "7ef314b1-1d58-47ce-e242-3382fbe1a5a0"
      },
      "execution_count": 34,
      "outputs": [
        {
          "output_type": "stream",
          "name": "stdout",
          "text": [
            "['0번째 줄입니다.\\n', '1번째 줄입니다.\\n', '2번째 줄입니다.\\n', '3번째 줄입니다.\\n', '4번째 줄입니다.\\n']\n",
            "<class 'list'>\n"
          ]
        }
      ]
    },
    {
      "cell_type": "code",
      "source": [
        "# 기존 파일에 새로운 데이터를 추가 할 때는 모드의 값을 'a'로 설정한다.\n",
        "fwrite = open('source/sample.txt', 'a') # 파일을 열고 내용을 추가한다.\n",
        "for i in range(11,21):\n",
        "  data = '{}번째 줄입니다.\\n'.format(i)\n",
        "  fwrite.write(data)\n",
        "fwrite.close() # 파일 닫기"
      ],
      "metadata": {
        "id": "KQ72n2SJ27Oe"
      },
      "execution_count": 71,
      "outputs": []
    },
    {
      "cell_type": "code",
      "source": [
        "fread = open('source/sample.txt', 'r') #sample.txt파일을 읽기로 연결한다.\n",
        "line = fread.readlines() # readlines()은 파일에서 한라인씩 읽어와서 list에 저장한후 리턴한다.\n",
        "print(line)\n",
        "print(type(line))\n",
        "fread.close()"
      ],
      "metadata": {
        "colab": {
          "base_uri": "https://localhost:8080/"
        },
        "id": "ZJ09IqRK3Dpo",
        "outputId": "cbab9ea8-5a6c-40d0-aa40-d37a1ba999ed"
      },
      "execution_count": 72,
      "outputs": [
        {
          "output_type": "stream",
          "name": "stdout",
          "text": [
            "['1번째 줄입니다.\\n', '2번째 줄입니다.\\n', '3번째 줄입니다.\\n', '4번째 줄입니다.\\n', '5번째 줄입니다.\\n', '6번째 줄입니다.\\n', '7번째 줄입니다.\\n', '8번째 줄입니다.\\n', '9번째 줄입니다.\\n', '10번째 줄입니다.\\n', '11번째 줄입니다.\\n', '12번째 줄입니다.\\n', '13번째 줄입니다.\\n', '14번째 줄입니다.\\n', '15번째 줄입니다.\\n', '16번째 줄입니다.\\n', '17번째 줄입니다.\\n', '18번째 줄입니다.\\n', '19번째 줄입니다.\\n', '20번째 줄입니다.\\n']\n",
            "<class 'list'>\n"
          ]
        }
      ]
    },
    {
      "cell_type": "markdown",
      "source": [
        "### with문과 함께 사용\n",
        " - with문과 함께 파일을 사용하면 읽기,쓰기 할 때 close()를 안해도 된다."
      ],
      "metadata": {
        "id": "ZYmyT-9Y3ux3"
      }
    },
    {
      "cell_type": "code",
      "source": [
        "with open('source/sample.txt', 'w') as f:\n",
        "  for i in range(1, 11):\n",
        "    data = '{}번째 줄입니다.\\n'.format(i)\n",
        "    f.write(data)"
      ],
      "metadata": {
        "id": "Rshu64TN35JH"
      },
      "execution_count": 37,
      "outputs": []
    },
    {
      "cell_type": "code",
      "source": [
        "with open('source/sample.txt', 'r') as f:\n",
        "  while True:\n",
        "    line = f.readline()\n",
        "    if not line:\n",
        "      break\n",
        "    print(line, end='')"
      ],
      "metadata": {
        "colab": {
          "base_uri": "https://localhost:8080/"
        },
        "id": "d3w4xTth4a8K",
        "outputId": "cb004461-a30c-4548-97a5-6cbffb926955"
      },
      "execution_count": 46,
      "outputs": [
        {
          "output_type": "stream",
          "name": "stdout",
          "text": [
            "1번째 줄입니다.\n",
            "2번째 줄입니다.\n",
            "3번째 줄입니다.\n",
            "4번째 줄입니다.\n",
            "5번째 줄입니다.\n",
            "6번째 줄입니다.\n",
            "7번째 줄입니다.\n",
            "8번째 줄입니다.\n",
            "9번째 줄입니다.\n",
            "10번째 줄입니다.\n"
          ]
        }
      ]
    },
    {
      "cell_type": "code",
      "source": [
        "with open('source/test.txt', 'w') as f:\n",
        "  f.writelines(['apple','banana','lemon'])"
      ],
      "metadata": {
        "id": "VQvL--WR5eTZ"
      },
      "execution_count": 60,
      "outputs": []
    },
    {
      "cell_type": "code",
      "source": [
        "with open('source/test.txt', 'r') as f:\n",
        "  # print(f.readlines()) # ['applebananalemon']\n",
        "  print(f.read()) # applebananalemon"
      ],
      "metadata": {
        "colab": {
          "base_uri": "https://localhost:8080/"
        },
        "id": "4PcmLtrm-2md",
        "outputId": "5a7d5d91-7e05-492f-862b-9ac6220d065a"
      },
      "execution_count": 65,
      "outputs": [
        {
          "output_type": "stream",
          "name": "stdout",
          "text": [
            "applebananalemon\n"
          ]
        }
      ]
    },
    {
      "cell_type": "code",
      "source": [
        "with open('source/test.txt', 'w') as f:\n",
        "  f.writelines('_'.join(['apple','banana','lemon']))"
      ],
      "metadata": {
        "id": "3LRdDQ-J7GHQ"
      },
      "execution_count": 66,
      "outputs": []
    },
    {
      "cell_type": "code",
      "source": [
        "with open('source/test.txt', 'r') as f:\n",
        "  # print(f.readlines()) # ['apple_banana_lemon']\n",
        "  print(f.read()) # apple_banana_lemon"
      ],
      "metadata": {
        "colab": {
          "base_uri": "https://localhost:8080/"
        },
        "id": "ghGXk-AR_Xs0",
        "outputId": "2110be59-279e-435c-8945-a8e06396c2da"
      },
      "execution_count": 70,
      "outputs": [
        {
          "output_type": "stream",
          "name": "stdout",
          "text": [
            "apple_banana_lemon\n"
          ]
        }
      ]
    },
    {
      "cell_type": "code",
      "source": [
        "# with open('source/test.txt', 'w') as f:\n",
        "#  f.writelines(['apple', 1, True]) # wirte 할 때는 여러개의 자료형을 쓸 수 없다.\n",
        "# TypeError: write() argument must be str, not int"
      ],
      "metadata": {
        "id": "d7UnC2tU7jCW"
      },
      "execution_count": 52,
      "outputs": []
    },
    {
      "cell_type": "markdown",
      "source": [
        "```\n",
        "fread = open('source/sample.txt', 'r')\n",
        "line = fread.readlines()\n",
        "print(line)\n",
        "print(type(line))\n",
        "fread.close()\n",
        "```\n",
        "\n",
        "[출력결과]   \n",
        "['1번째 줄입니다.\\n', '2번째 줄입니다.\\n', '3번째 줄입니다.\\n', '4번째 줄입니다.\\n', '5번째 줄입니다.\\n', '6번째 줄입니다.\\n', '7번째 줄입니다.\\n', '8번째 줄입니다.\\n', '9번째 줄입니다.\\n', '10번째 줄입니다.\\n', '11번째 줄입니다.\\n', '12번째 줄입니다.\\n', '13번째 줄입니다.\\n', '14번째 줄입니다.\\n', '15번째 줄입니다.\\n', '16번째 줄입니다.\\n', '17번째 줄입니다.\\n', '18번째 줄입니다.\\n', '19번째 줄입니다.\\n', '20번째 줄입니다.\\n']"
      ],
      "metadata": {
        "id": "wr6aSf2BARy0"
      }
    },
    {
      "cell_type": "markdown",
      "source": [
        "위의 실행 결과처럼 출력을 했을 때 줄바꿈**\"\\n\"**이 들어가 있다.  \n",
        "이를 해결하는 방법으로 **pickle**을 import해서 사용 가능하다."
      ],
      "metadata": {
        "id": "VXxc4T_MAi3k"
      }
    },
    {
      "cell_type": "code",
      "source": [
        "import pickle"
      ],
      "metadata": {
        "id": "ijrT_3YSA9R7"
      },
      "execution_count": 74,
      "outputs": []
    },
    {
      "cell_type": "code",
      "source": [
        "# 리스트 저장\n",
        "# byte로 write는 'wb'\n",
        "# dump(저장할 데이터, 파일)\n",
        "\n",
        "with open('source/data.txt','wb') as f:\n",
        "  pickle.dump(['apple','banana','lemon'], f) # 입력결과 -> € •        ]”(Œ apple”Œ banana”Œ lemon”e."
      ],
      "metadata": {
        "id": "iLof5KhiA_5h"
      },
      "execution_count": 90,
      "outputs": []
    },
    {
      "cell_type": "code",
      "source": [
        "# 리스트로 읽어오기\n",
        "# byte로 read는 'rb'\n",
        "# load(저장한 데이터, 파일)\n",
        "\n",
        "with open('source/data.txt', 'rb') as f:\n",
        "  print(pickle.load(f)) # 출력결과 -> ['apple', 'banana', 'lemon']"
      ],
      "metadata": {
        "colab": {
          "base_uri": "https://localhost:8080/"
        },
        "id": "nH31i4fDBy-P",
        "outputId": "5f18db30-ed0b-4c2f-c8fd-0bb7f899b33c"
      },
      "execution_count": 92,
      "outputs": [
        {
          "output_type": "stream",
          "name": "stdout",
          "text": [
            "['apple', 'banana', 'lemon']\n"
          ]
        }
      ]
    },
    {
      "cell_type": "code",
      "source": [
        "# 딕셔너리도 똑같다.\n",
        "\n",
        "with open('source/num.txt', 'wb') as f:\n",
        "  pickle.dump({'one':2, 'two':5}, f) # 입력결과 -> € •        }”(Œ one”K Œ two”K u."
      ],
      "metadata": {
        "id": "eQtm-U_IChQC"
      },
      "execution_count": 83,
      "outputs": []
    },
    {
      "cell_type": "code",
      "source": [
        "with open('source/num.txt', 'rb') as f:\n",
        "   param = pickle.load(f)\n",
        "   print(param) # 출력결과 -> {'one': 2, 'two': 5}\n",
        "   print(type(param))"
      ],
      "metadata": {
        "colab": {
          "base_uri": "https://localhost:8080/"
        },
        "id": "61e63Y3SCsfi",
        "outputId": "7933fa85-ea77-477c-89fb-f7ee6147807f"
      },
      "execution_count": 88,
      "outputs": [
        {
          "output_type": "stream",
          "name": "stdout",
          "text": [
            "{'one': 2, 'two': 5}\n",
            "<class 'dict'>\n"
          ]
        }
      ]
    },
    {
      "cell_type": "markdown",
      "source": [
        "jumsu.txt 파일의 내용을 읽어와서 오름차순으로 정렬을 한 후 출력하는 프로그램을 구현하세요."
      ],
      "metadata": {
        "id": "om3DgGbSDmn6"
      }
    },
    {
      "cell_type": "code",
      "source": [
        "with open('source/jumsu.txt', 'r') as f :\n",
        "  line = f.read()\n",
        "  data = line.split(',')\n",
        "  print(line)\n",
        "  for i, v in enumerate(data):\n",
        "    data[i] = int(v)\n",
        "\n",
        "  # data.sort()\n",
        "  # print(data)\n",
        "  sorted(data)\n",
        "  print(sorted(data))\n"
      ],
      "metadata": {
        "colab": {
          "base_uri": "https://localhost:8080/"
        },
        "id": "1KhpqmfXEWFt",
        "outputId": "df9222bb-70de-4e40-dd5a-5e8105da8a8d"
      },
      "execution_count": 116,
      "outputs": [
        {
          "output_type": "stream",
          "name": "stdout",
          "text": [
            "10,50,60,80,30\n",
            "[10, 30, 50, 60, 80]\n"
          ]
        }
      ]
    },
    {
      "cell_type": "code",
      "source": [
        "with open('source/jumsu.txt', 'r') as f :\n",
        "  line = f.read()\n",
        "\n",
        "data = line.split(',')\n",
        "\n",
        "hap = 0\n",
        "for i, v in enumerate(data):\n",
        "    data[i] = int(v)\n",
        "    hap += data[i]\n",
        "\n",
        "print(sorted(data))\n",
        "print('합계:', hap)\n",
        "print('평균:', hap/len(data))"
      ],
      "metadata": {
        "colab": {
          "base_uri": "https://localhost:8080/"
        },
        "id": "aJK9iY_gJ1cC",
        "outputId": "84753234-7fae-472e-833f-c3cc750feca6"
      },
      "execution_count": 117,
      "outputs": [
        {
          "output_type": "stream",
          "name": "stdout",
          "text": [
            "[10, 30, 50, 60, 80]\n",
            "합계: 230\n",
            "평균: 46.0\n"
          ]
        }
      ]
    },
    {
      "cell_type": "markdown",
      "source": [
        "built-in sorted()와 list의 .sort()비교"
      ],
      "metadata": {
        "id": "mchcOy4DNtg0"
      }
    },
    {
      "cell_type": "code",
      "source": [
        "k = ['d','a']\n",
        "print(k.sort())\n",
        "k"
      ],
      "metadata": {
        "colab": {
          "base_uri": "https://localhost:8080/"
        },
        "id": "ZRMPStmRN02c",
        "outputId": "217d2b27-bc56-43f2-b311-78a47923f905"
      },
      "execution_count": 119,
      "outputs": [
        {
          "output_type": "stream",
          "name": "stdout",
          "text": [
            "None\n"
          ]
        },
        {
          "output_type": "execute_result",
          "data": {
            "text/plain": [
              "['a', 'd']"
            ]
          },
          "metadata": {},
          "execution_count": 119
        }
      ]
    },
    {
      "cell_type": "code",
      "source": [
        "k = ['d', 'a']\n",
        "print(sorted(k))\n",
        "k"
      ],
      "metadata": {
        "colab": {
          "base_uri": "https://localhost:8080/"
        },
        "id": "6j4qDlPAN6G1",
        "outputId": "0d92d3a6-f61e-494b-aa6d-069bab83f032"
      },
      "execution_count": 120,
      "outputs": [
        {
          "output_type": "stream",
          "name": "stdout",
          "text": [
            "['a', 'd']\n"
          ]
        },
        {
          "output_type": "execute_result",
          "data": {
            "text/plain": [
              "['d', 'a']"
            ]
          },
          "metadata": {},
          "execution_count": 120
        }
      ]
    },
    {
      "cell_type": "markdown",
      "source": [
        "[문제1]\n",
        "score.txt 파일의 점수 정보를 읽어 들여서 각 학생의 점수 총합을 콘솔창에 출력하는 입출력 프로그램을 구현하시오.\n",
        "\n",
        "[출력결과]  \n",
        "kim의 점수 합계 :146  \n",
        "hong의 점수 합계 :243  \n",
        "park의 점수 합계 :240  "
      ],
      "metadata": {
        "id": "BvX-qFnOReDR"
      }
    },
    {
      "cell_type": "code",
      "source": [
        "with open('source/score.txt', 'r') as f:\n",
        "  for line in f:\n",
        "    #print(line, end=\"\")\n",
        "    total = 0\n",
        "    # strip() 양쪽 공백 제거, split('/') 구분자를 이용한 문자열 분리, unpacking을 함.\n",
        "    name, kor, mat, eng = line.strip().split('/')\n",
        "    # total = sum(int(kor),int(mat),int(eng))\n",
        "    total = int(kor)+int(mat)+int(eng)\n",
        "    print(\"{:>6}의 점수 합계:{:<5}\".format(name, total))\n",
        ""
      ],
      "metadata": {
        "colab": {
          "base_uri": "https://localhost:8080/"
        },
        "id": "JcWipv5BRljC",
        "outputId": "3e7a2a8e-149b-40d4-e9d1-397762dea41e"
      },
      "execution_count": 144,
      "outputs": [
        {
          "output_type": "stream",
          "name": "stdout",
          "text": [
            "   kim의 점수 합계:146  \n",
            "  hong의 점수 합계:243  \n",
            "  park의 점수 합계:240  \n"
          ]
        }
      ]
    },
    {
      "cell_type": "markdown",
      "source": [
        "[문제2]\n",
        "data_.txt 파일에는 PRODUCT 테이블의 컬럼 이름들이 저장되어있다.  \n",
        "이 컬럼 이름들을 camel case 명명표기법으로 바꾸어 출력하는 프로그램을 구현하세요.\n",
        "\n",
        "[출력결과]  \n",
        "prodNo  \n",
        "prodName  \n",
        "price  \n",
        "amount  \n",
        "maker  \n",
        "regDate  "
      ],
      "metadata": {
        "id": "-S5tPej4UpZJ"
      }
    },
    {
      "cell_type": "code",
      "source": [
        "with open('source/data_.txt', 'r') as f:\n",
        "  for line in f:\n",
        "    #print(line)\n",
        "    data = line.strip().lower().split('_')\n",
        "    #print(data)\n",
        "    res = data[0] # 0번째 index 가져오기\n",
        "    for i, v in enumerate(data):\n",
        "      if i != 0:\n",
        "        res += v.title()\n",
        "        # .title() 띄어쓰기 기준으로 각 단어의 첫글자는 대문자로, 나머지는 소문자로 변환한다.\n",
        "    print(res)"
      ],
      "metadata": {
        "colab": {
          "base_uri": "https://localhost:8080/"
        },
        "id": "UlxxwD_BT9UD",
        "outputId": "8fec24e8-5bd2-4181-cb2c-9ea8738fd0ba"
      },
      "execution_count": 12,
      "outputs": [
        {
          "output_type": "stream",
          "name": "stdout",
          "text": [
            "prodNo\n",
            "prodName\n",
            "price\n",
            "amount\n",
            "maker\n",
            "regDate\n"
          ]
        }
      ]
    },
    {
      "cell_type": "code",
      "source": [
        "with open('source/data_.txt', 'r') as f:\n",
        "  for line in f:\n",
        "    data = line.strip().split('_')\n",
        "\n",
        "    res = ''\n",
        "    for i, v in enumerate(data):\n",
        "      if i != 0:\n",
        "        res += v.title()\n",
        "      else:\n",
        "        res += v.lower()\n",
        "    print(res)"
      ],
      "metadata": {
        "colab": {
          "base_uri": "https://localhost:8080/"
        },
        "id": "J8TauCZUXOvr",
        "outputId": "15a53457-b45b-4153-d15c-947f82f5f727"
      },
      "execution_count": 19,
      "outputs": [
        {
          "output_type": "stream",
          "name": "stdout",
          "text": [
            "prodNo\n",
            "prodName\n",
            "price\n",
            "amount\n",
            "maker\n",
            "regDate\n"
          ]
        }
      ]
    },
    {
      "cell_type": "markdown",
      "source": [
        "[문제3]\n",
        "input.txt 파일에는 팝송 가사가 들어있다. 이 파일에서 검색하고자 하는 문자열이 포함되어있는 라인의 번호와 가사를 출력하는 프로그램을 구현하세요. 만약에 'you'가 포함된 문장을 출력한다면 대소문자 구분없이 찾도록 한다.\n",
        "\n",
        "[출력결과]   \n",
        "5 line : It exists to give You comfort   \n",
        "6 line : It is there to keep you warm   \n",
        "9 line : When You are most alone   \n",
        "10 line : The memory of love will bring you home   \n",
        "14 line : It invites you to come closer  \n",
        "15 line : It wants to show you more   \n",
        "17 line : And even if you lose yourself   \n",
        "20 line : will see you through   \n",
        "39 line : My memories of love will be of you   "
      ],
      "metadata": {
        "id": "3ZNe5SQSakp1"
      }
    },
    {
      "cell_type": "code",
      "source": [
        "with open('source/input.txt','r') as f:\n",
        "  for i, v in enumerate(f):\n",
        "    if v.lower().find('you') != -1:\n",
        "      print(\"{} line : {}\".format(i+1, v),end='')"
      ],
      "metadata": {
        "colab": {
          "base_uri": "https://localhost:8080/"
        },
        "id": "vOBx4w1qbLit",
        "outputId": "fe4fa28e-d285-4e55-d797-fac9168c2e21"
      },
      "execution_count": 28,
      "outputs": [
        {
          "output_type": "stream",
          "name": "stdout",
          "text": [
            "5 line : It exists to give You comfort\n",
            "6 line : It is there to keep you warm\n",
            "9 line : When You are most alone\n",
            "10 line : The memory of love will bring you home\n",
            "14 line : It invites you to come closer\n",
            "15 line : It wants to show you more\n",
            "17 line : And even if you lose yourself\n",
            "20 line : will see you through\n",
            "39 line : My memories of love will be of you"
          ]
        }
      ]
    },
    {
      "cell_type": "code",
      "source": [
        "with open('source/input.txt','r') as f:\n",
        "  search = input('search:').lower()\n",
        "  for i, v in enumerate(f):\n",
        "    if v.lower().find(search) != -1:\n",
        "      print(\"{} line : {}\".format(i+1, v),end='')"
      ],
      "metadata": {
        "colab": {
          "base_uri": "https://localhost:8080/"
        },
        "id": "gyyeH8EpdML_",
        "outputId": "e0b85601-509a-4d38-8178-141078394806"
      },
      "execution_count": 32,
      "outputs": [
        {
          "output_type": "stream",
          "name": "stdout",
          "text": [
            "search:love\n",
            "3 line : Perhaps love is like a resting place\n",
            "10 line : The memory of love will bring you home\n",
            "12 line : Perhaps love is like a window\n",
            "19 line : The memory of love\n",
            "22 line : Oh love to some is like a cloud\n",
            "27 line : And some say love is holding on\n",
            "29 line : And some say love is everything\n",
            "32 line : Perhaps love is like the ocean\n",
            "39 line : My memories of love will be of you"
          ]
        }
      ]
    }
  ]
}