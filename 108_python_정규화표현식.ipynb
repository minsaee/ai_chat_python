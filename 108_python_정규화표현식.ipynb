{
  "nbformat": 4,
  "nbformat_minor": 0,
  "metadata": {
    "colab": {
      "provenance": [],
      "authorship_tag": "ABX9TyO4wzZ3xTnIIJor2a2TPjAk",
      "include_colab_link": true
    },
    "kernelspec": {
      "name": "python3",
      "display_name": "Python 3"
    },
    "language_info": {
      "name": "python"
    }
  },
  "cells": [
    {
      "cell_type": "markdown",
      "metadata": {
        "id": "view-in-github",
        "colab_type": "text"
      },
      "source": [
        "<a href=\"https://colab.research.google.com/github/minsaee/ai_chat_python/blob/master/108_python_%EC%A0%95%EA%B7%9C%ED%99%94%ED%91%9C%ED%98%84%EC%8B%9D.ipynb\" target=\"_parent\"><img src=\"https://colab.research.google.com/assets/colab-badge.svg\" alt=\"Open In Colab\"/></a>"
      ]
    },
    {
      "cell_type": "markdown",
      "source": [
        "# 정규 표현식(Regular Expression)\n",
        "---\n",
        "\n",
        "## 정규식\n",
        " - 복잡한 문자열을 처리할 때 사용하는 기법으로, 파이썬만의 고유 문법이 아니라 문자열을 처리하는 모든 곳에서 사용된다.   \n",
        " - 일반적인 문자(a~z)와 메타문자(meta characters)라고 부르는 특수한 문자를 조합해서 특정 문자열 패턴을 작성하기 위한 언어이다.\n",
        " - 메타문자 : 원래 그 문자가 가진 뜻이 아닌 특별한 용도로 사용되는 문자이다. 정규 표현식에서 사용되는 문자 . ^ $ * + ? {} [] \\ | ()\n",
        " - 공식문서 : https://docs.python.org/3/howto/regex.html"
      ],
      "metadata": {
        "id": "o8fmNi4GkODl"
      }
    },
    {
      "cell_type": "markdown",
      "source": [
        "## 파이썬에서 정규 표현식을 지원하는 re모듈\n",
        " - re.compile을 이용하여 정규 표현식을 컴파일한다."
      ],
      "metadata": {
        "id": "MggqadFpk54r"
      }
    },
    {
      "cell_type": "markdown",
      "source": [
        "## 정규식을 이용한 문자열 검색\n",
        "  -  컴파일된 패턴(정규식을 컴파일한 결과) 객체를 이용하여 문자열 검색을 수행하는 4가지 메소드\n",
        "\n",
        "|메소드|목적|\n",
        "|---|---|\n",
        "|match( )|문자열의 처음부터 정규식과 매치되는지 조사한다.|\n",
        "|search( )|문자열 전체를 검색하여 정규식과 매치되는지 조사한다.|\n",
        "|findall( )|정규식과 매치되는 모든 문자열(substring)을 리스트로 리턴한다.|\n",
        "|finditer( )|정규식과 매치되는 모든 문자열(substring)을 반복 가능한 객체로 리턴한다.|"
      ],
      "metadata": {
        "id": "WXRjFYh4lHGb"
      }
    },
    {
      "cell_type": "markdown",
      "source": [
        "## match( )메서드와 search( )메서드를 수행한  결과로 리턴한 match객체의 메서드들\n",
        " - group( ) : 매치된 문자열을 리턴한다.\n",
        " - start( ) : 매치된 문자열의 시작 위치를 리턴한다.\n",
        " - end( ) : 매치된 문자열의 끝 위치를 리턴한다.\n",
        " - span( ) :매치된 문자열의 (시작 ,끝)에 해당되는 튜플을 리턴한다."
      ],
      "metadata": {
        "id": "QWcJpKuAmyN0"
      }
    },
    {
      "cell_type": "markdown",
      "source": [
        "## 정규 표현식 문자"
      ],
      "metadata": {
        "id": "ENmhp_Y7leEy"
      }
    },
    {
      "cell_type": "code",
      "source": [
        "import re\n",
        "\n",
        "print(dir(re))"
      ],
      "metadata": {
        "colab": {
          "base_uri": "https://localhost:8080/"
        },
        "id": "f0AHpVXolggT",
        "outputId": "010be5c8-128d-4c3a-da39-f5ab293ded59"
      },
      "execution_count": 2,
      "outputs": [
        {
          "output_type": "stream",
          "name": "stdout",
          "text": [
            "['A', 'ASCII', 'DEBUG', 'DOTALL', 'I', 'IGNORECASE', 'L', 'LOCALE', 'M', 'MULTILINE', 'Match', 'Pattern', 'RegexFlag', 'S', 'Scanner', 'T', 'TEMPLATE', 'U', 'UNICODE', 'VERBOSE', 'X', '_MAXCACHE', '__all__', '__builtins__', '__cached__', '__doc__', '__file__', '__loader__', '__name__', '__package__', '__spec__', '__version__', '_cache', '_compile', '_compile_repl', '_expand', '_locale', '_pickle', '_special_chars_map', '_subx', 'compile', 'copyreg', 'enum', 'error', 'escape', 'findall', 'finditer', 'fullmatch', 'functools', 'match', 'purge', 'search', 'split', 'sre_compile', 'sre_parse', 'sub', 'subn', 'template']\n"
          ]
        }
      ]
    },
    {
      "cell_type": "markdown",
      "source": [
        "### 점(.) 기호\n",
        " - 한 개의 임의의 문자를 나타낸다."
      ],
      "metadata": {
        "id": "75t1wDbbl1P6"
      }
    },
    {
      "cell_type": "code",
      "source": [
        "r = re.compile('a.c') # a와 c사이에 임의의 문자가 오면 된다."
      ],
      "metadata": {
        "id": "Ix2-sMuTl9lI"
      },
      "execution_count": 5,
      "outputs": []
    },
    {
      "cell_type": "code",
      "source": [
        "m = r.search('abc')\n",
        "\n",
        "print(m)\n",
        "print(dir(m))\n",
        "print(m.group())\n",
        "print(m.start())\n",
        "print(m.end())\n",
        "print(m.span())"
      ],
      "metadata": {
        "colab": {
          "base_uri": "https://localhost:8080/"
        },
        "id": "g1PRrIkAmOEY",
        "outputId": "abacc00c-cdd7-4650-c0d8-c0ed20c60fa9"
      },
      "execution_count": 17,
      "outputs": [
        {
          "output_type": "stream",
          "name": "stdout",
          "text": [
            "<re.Match object; span=(0, 3), match='abc'>\n",
            "['__class__', '__class_getitem__', '__copy__', '__deepcopy__', '__delattr__', '__dir__', '__doc__', '__eq__', '__format__', '__ge__', '__getattribute__', '__getitem__', '__gt__', '__hash__', '__init__', '__init_subclass__', '__le__', '__lt__', '__module__', '__ne__', '__new__', '__reduce__', '__reduce_ex__', '__repr__', '__setattr__', '__sizeof__', '__str__', '__subclasshook__', 'end', 'endpos', 'expand', 'group', 'groupdict', 'groups', 'lastgroup', 'lastindex', 'pos', 're', 'regs', 'span', 'start', 'string']\n",
            "abc\n",
            "0\n",
            "3\n",
            "(0, 3)\n"
          ]
        }
      ]
    },
    {
      "cell_type": "code",
      "source": [
        "m = r.search('abcadc', pos = 3)\n",
        "\n",
        "print(m)\n",
        "print(dir(m))\n",
        "print(m.group())\n",
        "print(m.start())\n",
        "print(m.end())\n",
        "print(m.span())"
      ],
      "metadata": {
        "colab": {
          "base_uri": "https://localhost:8080/"
        },
        "id": "LZJJylN0nnsj",
        "outputId": "9e8756c8-f49e-4489-ac8f-d170793f9fc3"
      },
      "execution_count": 33,
      "outputs": [
        {
          "output_type": "stream",
          "name": "stdout",
          "text": [
            "<re.Match object; span=(3, 6), match='adc'>\n",
            "['__class__', '__class_getitem__', '__copy__', '__deepcopy__', '__delattr__', '__dir__', '__doc__', '__eq__', '__format__', '__ge__', '__getattribute__', '__getitem__', '__gt__', '__hash__', '__init__', '__init_subclass__', '__le__', '__lt__', '__module__', '__ne__', '__new__', '__reduce__', '__reduce_ex__', '__repr__', '__setattr__', '__sizeof__', '__str__', '__subclasshook__', 'end', 'endpos', 'expand', 'group', 'groupdict', 'groups', 'lastgroup', 'lastindex', 'pos', 're', 'regs', 'span', 'start', 'string']\n",
            "adc\n",
            "3\n",
            "6\n",
            "(3, 6)\n"
          ]
        }
      ]
    },
    {
      "cell_type": "code",
      "source": [
        "m = r.search('abcadc', pos = 5)\n",
        "# 정규식과 일치하는 데이터가 없으면 None을 리턴한다.\n",
        "print(m) # -> None\n",
        "print(dir(m))\n",
        "# print(m.group()) # AttributeError: 'NoneType' object has no attribute 'group'\n",
        "# print(m.start())\n",
        "# print(m.end())\n",
        "# print(m.span())"
      ],
      "metadata": {
        "colab": {
          "base_uri": "https://localhost:8080/"
        },
        "id": "OnwLOze3oJcp",
        "outputId": "faa7e4cc-69de-40f9-e7e5-3160e8849547"
      },
      "execution_count": 34,
      "outputs": [
        {
          "output_type": "stream",
          "name": "stdout",
          "text": [
            "None\n",
            "['__bool__', '__class__', '__delattr__', '__dir__', '__doc__', '__eq__', '__format__', '__ge__', '__getattribute__', '__gt__', '__hash__', '__init__', '__init_subclass__', '__le__', '__lt__', '__ne__', '__new__', '__reduce__', '__reduce_ex__', '__repr__', '__setattr__', '__sizeof__', '__str__', '__subclasshook__']\n"
          ]
        }
      ]
    },
    {
      "cell_type": "markdown",
      "source": [
        "### 물음표(?)기호\n",
        " - ?앞의 문자가 존재할 수도 있고 존재하지 않을 수도 있는 경우\n",
        " - ? : {0,1}를 의미한다."
      ],
      "metadata": {
        "id": "eFiOoIXUovLw"
      }
    },
    {
      "cell_type": "code",
      "source": [
        "r = re.compile('ab?c') # b가 생략되거나 한 번 나옴."
      ],
      "metadata": {
        "id": "o7578nlWo8u_"
      },
      "execution_count": 39,
      "outputs": []
    },
    {
      "cell_type": "code",
      "source": [
        "m = r.search('test abc data')\n",
        "# 일치하지 않으면 None을 리턴한다. (b가 반복되거나, 다른 문자가 있는경우)\n",
        "print(m)\n",
        "print(m.group())\n",
        "print(m.start())\n",
        "print(m.end())\n",
        "print(m.span())"
      ],
      "metadata": {
        "colab": {
          "base_uri": "https://localhost:8080/"
        },
        "id": "J3XbmOxbpGKw",
        "outputId": "b64ea3f7-e055-4a2e-ee70-dc611b712149"
      },
      "execution_count": 61,
      "outputs": [
        {
          "output_type": "stream",
          "name": "stdout",
          "text": [
            "<re.Match object; span=(5, 8), match='abc'>\n",
            "abc\n",
            "5\n",
            "8\n",
            "(5, 8)\n"
          ]
        }
      ]
    },
    {
      "cell_type": "markdown",
      "source": [
        "### 별표(*)기호\n",
        " - *기호 앞의 문자가 0개 이상일 경우를 나타낸다.\n",
        " - \\* : {0,  }을 의미한다.\n"
      ],
      "metadata": {
        "id": "nRlWsBcoqCiR"
      }
    },
    {
      "cell_type": "code",
      "source": [
        "r = re.compile('ab*c')"
      ],
      "metadata": {
        "id": "J4Oold3AqK_i"
      },
      "execution_count": 53,
      "outputs": []
    },
    {
      "cell_type": "code",
      "source": [
        "m = r.search('abbbbbbbbbbbbc')\n",
        "# 일치하지 않으면 None을 리턴한다. (c앞의 b가 아닌 문자가 있는경우)\n",
        "print(m)\n",
        "print(m.group())\n",
        "print(m.start())\n",
        "print(m.end())\n",
        "print(m.span())"
      ],
      "metadata": {
        "colab": {
          "base_uri": "https://localhost:8080/"
        },
        "id": "YZBU5SQ8qc8v",
        "outputId": "3e0ee23f-0193-43d9-92b6-961301d31044"
      },
      "execution_count": 57,
      "outputs": [
        {
          "output_type": "stream",
          "name": "stdout",
          "text": [
            "<re.Match object; span=(0, 14), match='abbbbbbbbbbbbc'>\n",
            "abbbbbbbbbbbbc\n",
            "0\n",
            "14\n",
            "(0, 14)\n"
          ]
        }
      ]
    },
    {
      "cell_type": "markdown",
      "source": [
        "### 더하기(+) 기호\n",
        " - +기호 앞의 문자가 1개 이상일 경우를 나타낸다.\n",
        " - \\+ : {1, }"
      ],
      "metadata": {
        "id": "cfvJECnGrCWX"
      }
    },
    {
      "cell_type": "code",
      "source": [
        "r = re.compile('ab+c')"
      ],
      "metadata": {
        "id": "GOoDWQrorRxY"
      },
      "execution_count": 62,
      "outputs": []
    },
    {
      "cell_type": "code",
      "source": [
        "m = r.search('abbbc')\n",
        "# 일치하지 않으면 None을 리턴한다. (c앞의 b가 없거나 다른 문자가 있는 경우)\n",
        "print(m)\n",
        "print(m.group())\n",
        "print(m.start())\n",
        "print(m.end())\n",
        "print(m.span())"
      ],
      "metadata": {
        "colab": {
          "base_uri": "https://localhost:8080/"
        },
        "id": "E7dEYwJurV4R",
        "outputId": "47b3827c-c20c-4a6f-96f0-4bad7b44fe01"
      },
      "execution_count": 70,
      "outputs": [
        {
          "output_type": "stream",
          "name": "stdout",
          "text": [
            "<re.Match object; span=(0, 5), match='abbbc'>\n",
            "abbbc\n",
            "0\n",
            "5\n",
            "(0, 5)\n"
          ]
        }
      ]
    },
    {
      "cell_type": "markdown",
      "source": [
        "### 꺾새(^)기호\n",
        " - 시작되는 글자를 지정"
      ],
      "metadata": {
        "id": "AWl7-6DHvnR4"
      }
    },
    {
      "cell_type": "code",
      "source": [
        "r = re.compile('^a')"
      ],
      "metadata": {
        "id": "EehrKhilvvnK"
      },
      "execution_count": 80,
      "outputs": []
    },
    {
      "cell_type": "code",
      "source": [
        "m = r.search('abcd')\n",
        "# 일치하지 않으면 None을 리턴한다. (a로 시작하지 않는 경우)\n",
        "print(m)\n",
        "print(m.group())\n",
        "print(m.start())\n",
        "print(m.end())\n",
        "print(m.span())"
      ],
      "metadata": {
        "colab": {
          "base_uri": "https://localhost:8080/"
        },
        "id": "drQFJkb3vx-O",
        "outputId": "2aed9acd-ed57-43c0-cb46-03f0e22ba10b"
      },
      "execution_count": 78,
      "outputs": [
        {
          "output_type": "stream",
          "name": "stdout",
          "text": [
            "<re.Match object; span=(0, 1), match='a'>\n",
            "a\n",
            "0\n",
            "1\n",
            "(0, 1)\n"
          ]
        }
      ]
    },
    {
      "cell_type": "markdown",
      "source": [
        "### 중괄호{숫자}기호\n",
        " - 문자에 해당 기호를 붙이면, 해당 문자를 숫자만큼 반복한다."
      ],
      "metadata": {
        "id": "OaCMbrmmwIxh"
      }
    },
    {
      "cell_type": "code",
      "source": [
        "r = re.compile('ab{2}c')"
      ],
      "metadata": {
        "id": "fWGQvURIwRjo"
      },
      "execution_count": 82,
      "outputs": []
    },
    {
      "cell_type": "code",
      "source": [
        "m = r.search('abbc')\n",
        "# 일치하지 않으면 None을 리턴한다. (정해진 숫자만큼 반복되지 않는 경우, 다른 문자가 오는 경우)\n",
        "print(m)\n",
        "print(m.group())\n",
        "print(m.start())\n",
        "print(m.end())\n",
        "print(m.span())"
      ],
      "metadata": {
        "colab": {
          "base_uri": "https://localhost:8080/"
        },
        "id": "yhN-ZkqCwaGN",
        "outputId": "f4be4c24-bf6c-4e73-c73f-f53626d6154c"
      },
      "execution_count": 86,
      "outputs": [
        {
          "output_type": "stream",
          "name": "stdout",
          "text": [
            "<re.Match object; span=(0, 4), match='abbc'>\n",
            "abbc\n",
            "0\n",
            "4\n",
            "(0, 4)\n"
          ]
        }
      ]
    },
    {
      "cell_type": "markdown",
      "source": [
        "### {숫자1, 숫자2} 기호\n",
        " - 문자에 해당 기호를 붙이면, 해당 문자를 숫자1 이상 숫자2 이하만큼 반복한다."
      ],
      "metadata": {
        "id": "K2CzieeGwxy3"
      }
    },
    {
      "cell_type": "code",
      "source": [
        "r = re.compile('ab{1,3}c')"
      ],
      "metadata": {
        "id": "P75LmWfrw5J9"
      },
      "execution_count": 110,
      "outputs": []
    },
    {
      "cell_type": "code",
      "source": [
        "m = r.search('abc')\n",
        "# 일치하지 않으면 None을 리턴한다. (정해진 숫자만큼 반복되지 않는 경우, 다른 문자가 오는 경우)\n",
        "print(m)\n",
        "print(m.group())\n",
        "print(m.start())\n",
        "print(m.end())\n",
        "print(m.span())"
      ],
      "metadata": {
        "colab": {
          "base_uri": "https://localhost:8080/"
        },
        "id": "ZLHZMm6CxDxE",
        "outputId": "5471298b-f59f-4ccc-b822-3f8d656c0c6c"
      },
      "execution_count": 109,
      "outputs": [
        {
          "output_type": "stream",
          "name": "stdout",
          "text": [
            "<re.Match object; span=(0, 3), match='abc'>\n",
            "abc\n",
            "0\n",
            "3\n",
            "(0, 3)\n"
          ]
        }
      ]
    },
    {
      "cell_type": "code",
      "source": [
        "m = r.search('test abc abbc abbbc')\n",
        "print(m)"
      ],
      "metadata": {
        "colab": {
          "base_uri": "https://localhost:8080/"
        },
        "id": "3OaKkmW3xO9s",
        "outputId": "1374680d-c405-4c1b-dfab-2f1ad4bb745e"
      },
      "execution_count": 113,
      "outputs": [
        {
          "output_type": "stream",
          "name": "stdout",
          "text": [
            "<re.Match object; span=(5, 8), match='abc'>\n"
          ]
        }
      ]
    },
    {
      "cell_type": "code",
      "source": [
        "# match는 첫 인덱스부터 검사를 한다. -> 중간부터 오는 경우 찾지 못함 : None\n",
        "\n",
        "m = r.match('test abc abbc abbbc')\n",
        "print(m)"
      ],
      "metadata": {
        "colab": {
          "base_uri": "https://localhost:8080/"
        },
        "id": "eseq5MJex9tt",
        "outputId": "31733f77-8309-4556-f394-5bd4de77daa6"
      },
      "execution_count": 122,
      "outputs": [
        {
          "output_type": "stream",
          "name": "stdout",
          "text": [
            "None\n"
          ]
        }
      ]
    },
    {
      "cell_type": "code",
      "source": [
        "m = r.match('abc abbc abbbc')\n",
        "print(m)"
      ],
      "metadata": {
        "colab": {
          "base_uri": "https://localhost:8080/"
        },
        "id": "vJsR71G-yFXN",
        "outputId": "c2f460c0-9056-4ab4-af73-5cb8e2e2ddd4"
      },
      "execution_count": 123,
      "outputs": [
        {
          "output_type": "stream",
          "name": "stdout",
          "text": [
            "<re.Match object; span=(0, 3), match='abc'>\n"
          ]
        }
      ]
    },
    {
      "cell_type": "code",
      "source": [
        "#  정규화표현식에 있는 모든 데이터를 불러와야 할 경우 -> findall\n",
        "\n",
        "m = r.findall('test abc abbc abbbc') # list로 return\n",
        "print(m)\n",
        "print(type(m))"
      ],
      "metadata": {
        "colab": {
          "base_uri": "https://localhost:8080/"
        },
        "id": "CFJZU66QyVlr",
        "outputId": "4a6a0e5d-f13f-4a38-c64f-91145616b7b1"
      },
      "execution_count": 126,
      "outputs": [
        {
          "output_type": "stream",
          "name": "stdout",
          "text": [
            "['abc', 'abbc', 'abbbc']\n",
            "<class 'list'>\n"
          ]
        }
      ]
    },
    {
      "cell_type": "code",
      "source": [
        "m = r.finditer('test abc abbc abbbc') # callable_iterator로 return\n",
        "print(m)\n",
        "print(type(m))\n",
        "# print(list(m))\n",
        "for i in m:\n",
        "  print(i)\n",
        "  print(i.group())\n",
        "  print(i.start())\n",
        "  print(i.end())\n",
        "  print(i.span())"
      ],
      "metadata": {
        "colab": {
          "base_uri": "https://localhost:8080/"
        },
        "id": "QSD18s_4ywxA",
        "outputId": "506f88f2-4006-4d87-b6c4-21df4cef9301"
      },
      "execution_count": 139,
      "outputs": [
        {
          "output_type": "stream",
          "name": "stdout",
          "text": [
            "<callable_iterator object at 0x7aa4eaf3b4c0>\n",
            "<class 'callable_iterator'>\n",
            "<re.Match object; span=(5, 8), match='abc'>\n",
            "abc\n",
            "5\n",
            "8\n",
            "(5, 8)\n",
            "<re.Match object; span=(9, 13), match='abbc'>\n",
            "abbc\n",
            "9\n",
            "13\n",
            "(9, 13)\n",
            "<re.Match object; span=(14, 19), match='abbbc'>\n",
            "abbbc\n",
            "14\n",
            "19\n",
            "(14, 19)\n"
          ]
        }
      ]
    },
    {
      "cell_type": "markdown",
      "source": [
        "### {숫자, }기호\n",
        " - 문자에 해당 기호를 붙이면 숫자 이상만큼 반복한다."
      ],
      "metadata": {
        "id": "J4ZVTepJz2Kw"
      }
    },
    {
      "cell_type": "code",
      "source": [
        "r = re.compile('ab{1,}c')"
      ],
      "metadata": {
        "id": "EItis4SCz8UP"
      },
      "execution_count": 141,
      "outputs": []
    },
    {
      "cell_type": "code",
      "source": [
        "m = r.search('abbbbbbbbbbc')\n",
        "# 일치하지 않으면 None을 리턴한다. (정해진 숫자보다 적게 반복된 경우, 다른 문자가 오는 경우)\n",
        "print(m)\n",
        "print(m.group())\n",
        "print(m.start())\n",
        "print(m.end())\n",
        "print(m.span())"
      ],
      "metadata": {
        "colab": {
          "base_uri": "https://localhost:8080/"
        },
        "id": "WwICYOqv0Bk9",
        "outputId": "db425ee3-95a9-48bf-b14e-9bd9a2539e75"
      },
      "execution_count": 144,
      "outputs": [
        {
          "output_type": "stream",
          "name": "stdout",
          "text": [
            "<re.Match object; span=(0, 12), match='abbbbbbbbbbc'>\n",
            "abbbbbbbbbbc\n",
            "0\n",
            "12\n",
            "(0, 12)\n"
          ]
        }
      ]
    },
    {
      "cell_type": "markdown",
      "source": [
        "### 대괄호 [] 기호\n",
        " - []안에 문자들을 넣으면 그 문자들 중 한개의 문자와 매치라는 의미를 가진다.\n",
        " - []안에서 범위를 지정하는 것도 가능하다."
      ],
      "metadata": {
        "id": "ySfNpasT0Znn"
      }
    },
    {
      "cell_type": "code",
      "source": [
        "r = re.compile('[abc]')"
      ],
      "metadata": {
        "id": "xlRFSkjf0nd8"
      },
      "execution_count": 159,
      "outputs": []
    },
    {
      "cell_type": "code",
      "source": [
        "m = r.search('korea')\n",
        "# 일치하지 않으면 None을 리턴한다. (문자가 없는 경우)\n",
        "print(m)\n",
        "print(m.group())\n",
        "print(m.start())\n",
        "print(m.end())\n",
        "print(m.span())"
      ],
      "metadata": {
        "colab": {
          "base_uri": "https://localhost:8080/"
        },
        "id": "RpcgtS7v0rGd",
        "outputId": "747a9c94-e260-46c5-fd8e-0e569e465d89"
      },
      "execution_count": 160,
      "outputs": [
        {
          "output_type": "stream",
          "name": "stdout",
          "text": [
            "<re.Match object; span=(4, 5), match='a'>\n",
            "a\n",
            "4\n",
            "5\n",
            "(4, 5)\n"
          ]
        }
      ]
    },
    {
      "cell_type": "code",
      "source": [
        "r = re.compile('[a-z]') # 범위 지정 (대,소문자 구분)"
      ],
      "metadata": {
        "id": "_QXX9uBn1Qbl"
      },
      "execution_count": 161,
      "outputs": []
    },
    {
      "cell_type": "code",
      "source": [
        "m = r.search('13942aa')\n",
        "\n",
        "print(m)\n",
        "print(m.group())\n",
        "print(m.start())\n",
        "print(m.end())\n",
        "print(m.span())"
      ],
      "metadata": {
        "colab": {
          "base_uri": "https://localhost:8080/"
        },
        "id": "-rL7RJLS1Tqk",
        "outputId": "2725b4d6-28e9-4fe6-de63-b88a429ad260"
      },
      "execution_count": 167,
      "outputs": [
        {
          "output_type": "stream",
          "name": "stdout",
          "text": [
            "<re.Match object; span=(5, 6), match='a'>\n",
            "a\n",
            "5\n",
            "6\n",
            "(5, 6)\n"
          ]
        }
      ]
    },
    {
      "cell_type": "code",
      "source": [
        "r = re.compile('[a-z]+')\n",
        "\n",
        "m = r.findall('li2fe is to short3')\n",
        "print(m)"
      ],
      "metadata": {
        "colab": {
          "base_uri": "https://localhost:8080/"
        },
        "id": "uK3kFl1L1jYn",
        "outputId": "2c42ff89-445e-482e-9f3b-71ae06f04f3a"
      },
      "execution_count": 171,
      "outputs": [
        {
          "output_type": "stream",
          "name": "stdout",
          "text": [
            "['li', 'fe', 'is', 'to', 'short']\n"
          ]
        }
      ]
    },
    {
      "cell_type": "markdown",
      "source": [
        "### [^문자] 기호\n",
        " - ^ 기호 뒤에 붙은 문자들을 제외한 모든 문자와 매치하는 역할을 한다."
      ],
      "metadata": {
        "id": "eU8cO9m02TgR"
      }
    },
    {
      "cell_type": "code",
      "source": [
        "r = re.compile('[^abc]')"
      ],
      "metadata": {
        "id": "zw9568dz2cse"
      },
      "execution_count": 182,
      "outputs": []
    },
    {
      "cell_type": "code",
      "source": [
        "m = r.search('test')\n",
        "# 일치하지 않으면 None을 리턴한다. (모든 문자가 제외 되는 경우)\n",
        "print(m)\n",
        "print(m.group())\n",
        "print(m.start())\n",
        "print(m.end())\n",
        "print(m.span())"
      ],
      "metadata": {
        "colab": {
          "base_uri": "https://localhost:8080/"
        },
        "id": "TswJaXJl2hJb",
        "outputId": "2c254cb9-df2c-4217-8adc-6bb2b0e31e63"
      },
      "execution_count": 177,
      "outputs": [
        {
          "output_type": "stream",
          "name": "stdout",
          "text": [
            "<re.Match object; span=(0, 1), match='t'>\n",
            "t\n",
            "0\n",
            "1\n",
            "(0, 1)\n"
          ]
        }
      ]
    },
    {
      "cell_type": "code",
      "source": [
        "m = r.findall('li2fe is to short3')\n",
        "print(m)"
      ],
      "metadata": {
        "colab": {
          "base_uri": "https://localhost:8080/"
        },
        "id": "Jb-FPEaV2yQv",
        "outputId": "5d87ffcd-33fe-4cb6-904a-e783984c2b25"
      },
      "execution_count": 183,
      "outputs": [
        {
          "output_type": "stream",
          "name": "stdout",
          "text": [
            "['l', 'i', '2', 'f', 'e', ' ', 'i', 's', ' ', 't', 'o', ' ', 's', 'h', 'o', 'r', 't', '3']\n"
          ]
        }
      ]
    },
    {
      "cell_type": "markdown",
      "source": [
        "## 정규 표현식 옵션\n",
        "---\n",
        "### DOTALL : 줄바꿈 문자를 포함하여 모든 문자와 매치할 수 있도록 한다."
      ],
      "metadata": {
        "id": "50mYsnX63JV3"
      }
    },
    {
      "cell_type": "code",
      "source": [
        "# r = re.compile('a.b', re.DOTALL)\n",
        "r = re.compile('a.b', re.S) # DOTALL의 약어"
      ],
      "metadata": {
        "id": "hDQrl1NH3ROu"
      },
      "execution_count": 190,
      "outputs": []
    },
    {
      "cell_type": "code",
      "source": [
        "m = r.search('a\\nb')\n",
        "# 일치하지 않으면 None을 리턴한다.\n",
        "print(m)\n",
        "print(m.group())\n",
        "print(m.start())\n",
        "print(m.end())\n",
        "print(m.span())"
      ],
      "metadata": {
        "colab": {
          "base_uri": "https://localhost:8080/"
        },
        "id": "bJ9glFM53buz",
        "outputId": "edbfbdb8-36dd-465a-acf8-a92e7ce708f8"
      },
      "execution_count": 191,
      "outputs": [
        {
          "output_type": "stream",
          "name": "stdout",
          "text": [
            "<re.Match object; span=(0, 3), match='a\\nb'>\n",
            "a\n",
            "b\n",
            "0\n",
            "3\n",
            "(0, 3)\n"
          ]
        }
      ]
    },
    {
      "cell_type": "markdown",
      "source": [
        "### IGNORECASE : 대소문자에 관계없이 매치할 수 있도록 한다."
      ],
      "metadata": {
        "id": "K45pvtiq4T5-"
      }
    },
    {
      "cell_type": "code",
      "source": [
        "# r = re.compile('[a-z]', re.IGNORECASE)\n",
        "r = re.compile('[a-z]', re.I) # IGNORECASE의 약어"
      ],
      "metadata": {
        "id": "Jm7VetXU4f69"
      },
      "execution_count": 198,
      "outputs": []
    },
    {
      "cell_type": "code",
      "source": [
        "m = r.search('Life is to')\n",
        "# 일치하지 않으면 None을 리턴한다.\n",
        "print(m)\n",
        "print(m.group())\n",
        "print(m.start())\n",
        "print(m.end())\n",
        "print(m.span())"
      ],
      "metadata": {
        "colab": {
          "base_uri": "https://localhost:8080/"
        },
        "id": "D-4uKaXs4j1j",
        "outputId": "87543522-60c2-4a15-ddfe-9dd7fe47eea9"
      },
      "execution_count": 199,
      "outputs": [
        {
          "output_type": "stream",
          "name": "stdout",
          "text": [
            "<re.Match object; span=(0, 1), match='L'>\n",
            "L\n",
            "0\n",
            "1\n",
            "(0, 1)\n"
          ]
        }
      ]
    },
    {
      "cell_type": "markdown",
      "source": [
        "### MULTILINE : 여러 라인에서 매치되는 데이터를 가져올 때 사용한다."
      ],
      "metadata": {
        "id": "9FQ8KYbO45z0"
      }
    },
    {
      "cell_type": "markdown",
      "source": [
        " - \\d : 숫자 [0-9]  \n",
        " - \\D : 숫자가 아닌[^0-9]\n",
        " - \\s : 공백 [\\t\\n\\r\\f]\n",
        " - \\S : 공백이아닌 [^\\t\\n\\r\\f]\n",
        " - \\w : [a-z A-Z 0-9 _]\n",
        " - \\W : \\w가 아닌 [^a-z A-Z 0-9 _]"
      ],
      "metadata": {
        "id": "nGV6Qe2S9uZt"
      }
    },
    {
      "cell_type": "code",
      "source": [
        "# r = re.compile('^python\\s\\w+', re.MULTILINE)\n",
        "r = re.compile('^python\\s\\w+', re.M) # MULTILINE의 약어"
      ],
      "metadata": {
        "id": "l7HhUfE65IIa"
      },
      "execution_count": 208,
      "outputs": []
    },
    {
      "cell_type": "code",
      "source": [
        "m = r.findall('''python one\n",
        "life is too short\n",
        "python two\n",
        "you need python\n",
        "python _\n",
        "python 9\n",
        "python three''')\n",
        "# 일치하지 않으면 None을 리턴한다.\n",
        "print(m)"
      ],
      "metadata": {
        "colab": {
          "base_uri": "https://localhost:8080/"
        },
        "id": "lP1gsHyQ5SXz",
        "outputId": "e39223ab-e7b0-4bb0-944d-89a024f456de"
      },
      "execution_count": 210,
      "outputs": [
        {
          "output_type": "stream",
          "name": "stdout",
          "text": [
            "['python one', 'python two', 'python _', 'python 9', 'python three']\n"
          ]
        }
      ]
    },
    {
      "cell_type": "markdown",
      "source": [
        "### re.split()\n",
        " - 입력된 정규 표현식을 기준으로 문자열들을 분리하여 리스트로 리턴한다.\n",
        " - 자연어 처리에 있이서 많이 사용되는 정규 표현식 함수중 하나이다."
      ],
      "metadata": {
        "id": "vatSnaVT_N_J"
      }
    },
    {
      "cell_type": "code",
      "source": [
        "text = '사과 딸기 수박 메론 바나나'\n",
        "re.split(' ', text)"
      ],
      "metadata": {
        "colab": {
          "base_uri": "https://localhost:8080/"
        },
        "id": "oRafO_g0_j4g",
        "outputId": "55ba65d2-498c-43fc-c828-d37bf1774a3a"
      },
      "execution_count": 212,
      "outputs": [
        {
          "output_type": "execute_result",
          "data": {
            "text/plain": [
              "['사과', '딸기', '수박', '메론', '바나나']"
            ]
          },
          "metadata": {},
          "execution_count": 212
        }
      ]
    },
    {
      "cell_type": "code",
      "source": [
        "text = '''사과\n",
        "딸기\n",
        "수박\n",
        "메론\n",
        "바나나'''\n",
        "re.split('\\n', text)"
      ],
      "metadata": {
        "colab": {
          "base_uri": "https://localhost:8080/"
        },
        "id": "vArtBhuG_1Uh",
        "outputId": "7024fa52-258c-40b0-82ae-7b17e9f5333d"
      },
      "execution_count": 217,
      "outputs": [
        {
          "output_type": "execute_result",
          "data": {
            "text/plain": [
              "['사과', '딸기', '수박', '메론', '바나나']"
            ]
          },
          "metadata": {},
          "execution_count": 217
        }
      ]
    },
    {
      "cell_type": "code",
      "source": [
        "text = '사과+딸기++수박+++메론++++바나나'\n",
        "re.split('\\+{1,}', text)"
      ],
      "metadata": {
        "colab": {
          "base_uri": "https://localhost:8080/"
        },
        "id": "6m5PCdAvAAXx",
        "outputId": "e7a72f93-c4b1-4098-dbed-6d9ed00c2ccd"
      },
      "execution_count": 223,
      "outputs": [
        {
          "output_type": "execute_result",
          "data": {
            "text/plain": [
              "['사과', '딸기', '수박', '메론', '바나나']"
            ]
          },
          "metadata": {},
          "execution_count": 223
        }
      ]
    },
    {
      "cell_type": "code",
      "source": [
        "text = '''\n",
        "이름 : 호날두\n",
        "전화번호 : 010-1234-5678\n",
        "나이 : 80\n",
        "성별 : 남\n",
        "'''\n",
        "# r = re.compile('[0-9]+')\n",
        "# r.findall(text)\n",
        "\n",
        "re.findall('[0-9]+', text)"
      ],
      "metadata": {
        "colab": {
          "base_uri": "https://localhost:8080/"
        },
        "id": "YxSgCZzXAiox",
        "outputId": "fc82d2c0-4962-4602-974e-ea3479e84663"
      },
      "execution_count": 242,
      "outputs": [
        {
          "output_type": "execute_result",
          "data": {
            "text/plain": [
              "['010', '1234', '5678', '80']"
            ]
          },
          "metadata": {},
          "execution_count": 242
        }
      ]
    },
    {
      "cell_type": "code",
      "source": [
        "print(re.split('[0-9]+', text))\n",
        "print(re.split(r'([0-9]+)', text))"
      ],
      "metadata": {
        "colab": {
          "base_uri": "https://localhost:8080/"
        },
        "id": "g54CQ5yeBoLt",
        "outputId": "db95adff-6125-48f6-c738-f06c07853e4a"
      },
      "execution_count": 246,
      "outputs": [
        {
          "output_type": "stream",
          "name": "stdout",
          "text": [
            "['\\n이름 : 호날두\\n전화번호 : ', '-', '-', '\\n나이 : ', '\\n성별 : 남\\n']\n",
            "['\\n이름 : 호날두\\n전화번호 : ', '010', '-', '1234', '-', '5678', '\\n나이 : ', '80', '\\n성별 : 남\\n']\n"
          ]
        }
      ]
    },
    {
      "cell_type": "markdown",
      "source": [
        "### 전방탐색\n",
        " - ?= 긍정적 전방탐색\n",
        " - ?! 부정적 전방탐색"
      ],
      "metadata": {
        "id": "Pc4oHCT3Cm6g"
      }
    },
    {
      "cell_type": "code",
      "source": [
        "p = re.compile('.*[.](?=bar$|cf$)') # $ -> 끝을 의미"
      ],
      "metadata": {
        "id": "aS1Pl1raCt2Q"
      },
      "execution_count": 256,
      "outputs": []
    },
    {
      "cell_type": "code",
      "source": [
        "file = ['too.bar','autoexec.bat','sendmail.cf', 'sample.bar.jpg', 'test.bar.bar']\n",
        "\n",
        "for item in file:\n",
        "  m = p.search(item)\n",
        "  print(m)\n",
        "\n",
        "  if m :\n",
        "    print(m.group(), m.start(), m.end(), m.span())"
      ],
      "metadata": {
        "colab": {
          "base_uri": "https://localhost:8080/"
        },
        "id": "xOJ07-uMC4Dn",
        "outputId": "ff7c3987-dd13-439e-ea45-5a7e10240603"
      },
      "execution_count": 259,
      "outputs": [
        {
          "output_type": "stream",
          "name": "stdout",
          "text": [
            "<re.Match object; span=(0, 4), match='too.'>\n",
            "too. 0 4 (0, 4)\n",
            "None\n",
            "<re.Match object; span=(0, 9), match='sendmail.'>\n",
            "sendmail. 0 9 (0, 9)\n",
            "None\n",
            "<re.Match object; span=(0, 9), match='test.bar.'>\n",
            "test.bar. 0 9 (0, 9)\n"
          ]
        }
      ]
    },
    {
      "cell_type": "markdown",
      "source": [
        "### subn()\n",
        " - 정규표현식 문자열이 있으면 대체 문자열로 변경 후 튜플로 리턴한다."
      ],
      "metadata": {
        "id": "3A4QF0yvE9_b"
      }
    },
    {
      "cell_type": "code",
      "source": [
        "p = re.compile('(blue|white|red)')"
      ],
      "metadata": {
        "id": "EXBQSMYrFF3v"
      },
      "execution_count": 269,
      "outputs": []
    },
    {
      "cell_type": "code",
      "source": [
        "m = p.subn('color', 'blue socks and red socks') # subn('대체문자', '대상문자')\n",
        "print(m)"
      ],
      "metadata": {
        "colab": {
          "base_uri": "https://localhost:8080/"
        },
        "id": "nnG4OICIFLJv",
        "outputId": "d3831a19-be96-413b-b2f8-7b02d867cfef"
      },
      "execution_count": 270,
      "outputs": [
        {
          "output_type": "stream",
          "name": "stdout",
          "text": [
            "('color socks and color socks', 2)\n"
          ]
        }
      ]
    }
  ]
}