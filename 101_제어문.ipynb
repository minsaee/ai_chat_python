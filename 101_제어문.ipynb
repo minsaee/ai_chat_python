{
  "nbformat": 4,
  "nbformat_minor": 0,
  "metadata": {
    "colab": {
      "provenance": [],
      "authorship_tag": "ABX9TyONFQjT/7pnzVdRr1dP0fdE",
      "include_colab_link": true
    },
    "kernelspec": {
      "name": "python3",
      "display_name": "Python 3"
    },
    "language_info": {
      "name": "python"
    }
  },
  "cells": [
    {
      "cell_type": "markdown",
      "metadata": {
        "id": "view-in-github",
        "colab_type": "text"
      },
      "source": [
        "<a href=\"https://colab.research.google.com/github/minsaee/python_demo/blob/master/101_%EC%A0%9C%EC%96%B4%EB%AC%B8.ipynb\" target=\"_parent\"><img src=\"https://colab.research.google.com/assets/colab-badge.svg\" alt=\"Open In Colab\"/></a>"
      ]
    },
    {
      "cell_type": "markdown",
      "source": [
        "# 비교연산자\n",
        " - <       >       <=      >=      ==      !=\n",
        " - 결과는 논리값(bool) : True,False"
      ],
      "metadata": {
        "id": "nf8zw5Y-dYiN"
      }
    },
    {
      "cell_type": "code",
      "source": [
        "print(3 < 2) # False\n",
        "print(3 > 2) # True\n",
        "print(3 <= 2) # False\n",
        "print(3 >= 2) # True\n",
        "print(3 == 2) # False\n",
        "print(3 != 2) # True"
      ],
      "metadata": {
        "colab": {
          "base_uri": "https://localhost:8080/"
        },
        "id": "Z3L_U6vidlSq",
        "outputId": "845001c6-5ee7-4b36-fd99-e98caf662e21"
      },
      "execution_count": null,
      "outputs": [
        {
          "output_type": "stream",
          "name": "stdout",
          "text": [
            "False\n",
            "True\n",
            "False\n",
            "True\n",
            "False\n",
            "True\n"
          ]
        }
      ]
    },
    {
      "cell_type": "markdown",
      "source": [
        "#논리연산자\n",
        " - &       |       ^       \n",
        " - and, or, not"
      ],
      "metadata": {
        "id": "ffH2Tk6keATp"
      }
    },
    {
      "cell_type": "code",
      "source": [
        "print(True & True) # True 'and'\n",
        "print(True | False) # True 'or'\n",
        "# [^A-Z]: 영어 대문자가 아닌 것들\n",
        "# [^Ss]: 대문자 S 또는 소문자 s가 아닌 것들\n",
        "# [^e^]: 소문자 e 또는 기호 ^가 아닌 것들\n",
        "# [a^b]: a^b\n",
        "# 주의할 것은 대괄호 맨 앞에 위치한 ^만 not의 역할이며, 이후에 등장하는 ^는 기호 그대로를 뜻한다.\n",
        "print(not True)"
      ],
      "metadata": {
        "colab": {
          "base_uri": "https://localhost:8080/"
        },
        "id": "x1n8J4QleK8a",
        "outputId": "d1583dcd-5ae7-4f94-cdca-a6e61a687397"
      },
      "execution_count": null,
      "outputs": [
        {
          "output_type": "stream",
          "name": "stdout",
          "text": [
            "True\n",
            "True\n",
            "False\n"
          ]
        }
      ]
    },
    {
      "cell_type": "markdown",
      "source": [
        "# existance\n",
        " - python에서 조건은 존재론적이다. -> truthy,falsey"
      ],
      "metadata": {
        "id": "TgMsd0Y9eqTC"
      }
    },
    {
      "cell_type": "code",
      "source": [
        "a = 0.0 # None , {}, [], ()\n",
        "        # a = int(), float(), list(), tuple(), str(), set(), fronzenset()\n",
        "if a:\n",
        "  print('Yes')\n",
        "else :\n",
        "  print('No') # 없는 값으로 판단함 -> falsey"
      ],
      "metadata": {
        "colab": {
          "base_uri": "https://localhost:8080/"
        },
        "id": "7YPZqnYSf8ND",
        "outputId": "67a9ce5c-180f-49bd-b216-b759ba16888b"
      },
      "execution_count": null,
      "outputs": [
        {
          "output_type": "stream",
          "name": "stdout",
          "text": [
            "No\n"
          ]
        }
      ]
    },
    {
      "cell_type": "code",
      "source": [
        "3<2 or 3<4"
      ],
      "metadata": {
        "colab": {
          "base_uri": "https://localhost:8080/"
        },
        "id": "KtW-oUh6itE_",
        "outputId": "3fdfb865-a753-4dda-b4bc-b585a7fbcc24"
      },
      "execution_count": null,
      "outputs": [
        {
          "output_type": "execute_result",
          "data": {
            "text/plain": [
              "True"
            ]
          },
          "metadata": {},
          "execution_count": 50
        }
      ]
    },
    {
      "cell_type": "code",
      "source": [
        "# 좌변우변중 먼저오는 True값 출력\n",
        "3 or 4 # True or True"
      ],
      "metadata": {
        "colab": {
          "base_uri": "https://localhost:8080/"
        },
        "id": "3hXKNTKvoeNU",
        "outputId": "d9238f1e-106d-4815-a2fd-013afc4fd467"
      },
      "execution_count": null,
      "outputs": [
        {
          "output_type": "execute_result",
          "data": {
            "text/plain": [
              "3"
            ]
          },
          "metadata": {},
          "execution_count": 51
        }
      ]
    },
    {
      "cell_type": "code",
      "source": [
        "3 or 0 # True or False"
      ],
      "metadata": {
        "colab": {
          "base_uri": "https://localhost:8080/"
        },
        "id": "25Piw05LoglZ",
        "outputId": "46a30a84-2cb4-47b6-aeda-ace0fed08966"
      },
      "execution_count": null,
      "outputs": [
        {
          "output_type": "execute_result",
          "data": {
            "text/plain": [
              "3"
            ]
          },
          "metadata": {},
          "execution_count": 52
        }
      ]
    },
    {
      "cell_type": "code",
      "source": [
        "0 or 3 # False or True"
      ],
      "metadata": {
        "colab": {
          "base_uri": "https://localhost:8080/"
        },
        "id": "ORzkIZKvoie4",
        "outputId": "4c7744cd-268d-4dc8-d606-5bce1626f80d"
      },
      "execution_count": null,
      "outputs": [
        {
          "output_type": "execute_result",
          "data": {
            "text/plain": [
              "3"
            ]
          },
          "metadata": {},
          "execution_count": 53
        }
      ]
    },
    {
      "cell_type": "code",
      "source": [
        "# 좌변우변중 나중에오는 True값 출력\n",
        "3 and 4 # True and True"
      ],
      "metadata": {
        "colab": {
          "base_uri": "https://localhost:8080/"
        },
        "id": "bXQ4_PNXjmga",
        "outputId": "5b7bbf7b-82bf-4dfb-f936-77d7e65aff73"
      },
      "execution_count": null,
      "outputs": [
        {
          "output_type": "execute_result",
          "data": {
            "text/plain": [
              "4"
            ]
          },
          "metadata": {},
          "execution_count": 42
        }
      ]
    },
    {
      "cell_type": "code",
      "source": [
        "3 and 0 # True and False"
      ],
      "metadata": {
        "colab": {
          "base_uri": "https://localhost:8080/"
        },
        "id": "Oq5UXWqpj4di",
        "outputId": "c71fd985-2458-4b2d-f556-dbdd51ffd575"
      },
      "execution_count": null,
      "outputs": [
        {
          "output_type": "execute_result",
          "data": {
            "text/plain": [
              "0"
            ]
          },
          "metadata": {},
          "execution_count": 44
        }
      ]
    },
    {
      "cell_type": "code",
      "source": [
        "0 and 3 # False and True"
      ],
      "metadata": {
        "colab": {
          "base_uri": "https://localhost:8080/"
        },
        "id": "JyepJSjmkYzR",
        "outputId": "a60f342e-4ce3-4887-b39e-a1435643c5e8"
      },
      "execution_count": null,
      "outputs": [
        {
          "output_type": "execute_result",
          "data": {
            "text/plain": [
              "0"
            ]
          },
          "metadata": {},
          "execution_count": 46
        }
      ]
    },
    {
      "cell_type": "markdown",
      "source": [
        "# 제어문(statement controller)\n",
        " - 문장의 흐름을 제어해준다.\n",
        " - 조건문, 반복문,\n",
        " - 조건문\n",
        "  - if ~ else\n",
        " - 반복문\n",
        "  - for ~ in\n",
        "  - while\n",
        " - break, continue (중지, 계속)"
      ],
      "metadata": {
        "id": "mJfCoI7Gpm8R"
      }
    },
    {
      "cell_type": "markdown",
      "source": [
        "```\n",
        "if 조건식 :   \n",
        "   수행할 문장   \n",
        "else :\n",
        "   수행할 문장\n",
        "```"
      ],
      "metadata": {
        "id": "Jcifo-SwrOEP"
      }
    },
    {
      "cell_type": "code",
      "source": [
        "# if ~ else 조건문\n",
        "a = 2\n",
        "if a>5 :\n",
        "  print('Ok')\n",
        "else :\n",
        "  print('Fail')"
      ],
      "metadata": {
        "colab": {
          "base_uri": "https://localhost:8080/"
        },
        "id": "nLjmu9q6qsaa",
        "outputId": "e6cce2b6-1790-4e0b-bea8-4f50b0e78d0e"
      },
      "execution_count": null,
      "outputs": [
        {
          "output_type": "stream",
          "name": "stdout",
          "text": [
            "Fail\n"
          ]
        }
      ]
    },
    {
      "cell_type": "code",
      "source": [
        "# 간단한 홀수,짝수 조건문 (단 0일때는 안됨.)\n",
        "a = 3\n",
        "if a%2==0 :\n",
        "  print('even')\n",
        "else :\n",
        "  print('odd')"
      ],
      "metadata": {
        "colab": {
          "base_uri": "https://localhost:8080/"
        },
        "id": "6W7bN3G3rqkV",
        "outputId": "d6ad5748-e764-4cd1-c59f-2eccfdd090ba"
      },
      "execution_count": null,
      "outputs": [
        {
          "output_type": "stream",
          "name": "stdout",
          "text": [
            "odd\n"
          ]
        }
      ]
    },
    {
      "cell_type": "code",
      "source": [
        "name = '호날두'\n",
        "if name :\n",
        "  print(name)"
      ],
      "metadata": {
        "colab": {
          "base_uri": "https://localhost:8080/"
        },
        "id": "Zq1-51Flsc7g",
        "outputId": "e8766b7c-a287-4428-9169-736c7f4565f3"
      },
      "execution_count": null,
      "outputs": [
        {
          "output_type": "stream",
          "name": "stdout",
          "text": [
            "호날두\n"
          ]
        }
      ]
    },
    {
      "cell_type": "code",
      "source": [
        "#if 조건문에는 문장을 사용할 수 없다.\n",
        "#if a=4:\n",
        "#print(a) SyntaxError: invalid syntax. Maybe you meant '==' or ':=' instead of '='?"
      ],
      "metadata": {
        "id": "nW3fmIteswxo"
      },
      "execution_count": null,
      "outputs": []
    },
    {
      "cell_type": "code",
      "source": [
        "# 다중 if 조건문\n",
        "\n",
        "# 80이상이면 '상' 80미만 60이상이면 '중' 60미만이면 '하'\n",
        "a = 78\n",
        "if a>=80 :\n",
        "  print('상')\n",
        "elif a>=60 : # else if -> elif\n",
        "  print('중')\n",
        "else :\n",
        "  print('하')"
      ],
      "metadata": {
        "colab": {
          "base_uri": "https://localhost:8080/"
        },
        "id": "Urt0rUXHtTKp",
        "outputId": "eeb80cd8-8f59-48e1-cbfc-77e9dd7c8bfc"
      },
      "execution_count": null,
      "outputs": [
        {
          "output_type": "stream",
          "name": "stdout",
          "text": [
            "중\n"
          ]
        }
      ]
    },
    {
      "cell_type": "code",
      "source": [
        "a = 85\n",
        "if a>=80 :\n",
        "  print('상')\n",
        "else:\n",
        "  if a>=60:\n",
        "    print('중')\n",
        "  else:\n",
        "    print('하')"
      ],
      "metadata": {
        "colab": {
          "base_uri": "https://localhost:8080/"
        },
        "id": "tfS0zwCMuka8",
        "outputId": "f6401a95-eb0b-4b2d-a5dd-fa9033a06fe5"
      },
      "execution_count": null,
      "outputs": [
        {
          "output_type": "stream",
          "name": "stdout",
          "text": [
            "상\n"
          ]
        }
      ]
    },
    {
      "cell_type": "code",
      "source": [
        "a = 59\n",
        "if a>=60:\n",
        "  if a >= 80:\n",
        "    print('상')\n",
        "  else :\n",
        "    print('중')\n",
        "else :\n",
        "  print('하')"
      ],
      "metadata": {
        "colab": {
          "base_uri": "https://localhost:8080/"
        },
        "id": "O5uLHxuzvJXj",
        "outputId": "aa8050a9-622f-4ade-bdb3-21ed9b9c5966"
      },
      "execution_count": null,
      "outputs": [
        {
          "output_type": "stream",
          "name": "stdout",
          "text": [
            "하\n"
          ]
        }
      ]
    },
    {
      "cell_type": "code",
      "source": [
        "a = 77\n",
        "if 60>a:\n",
        "  print('하')\n",
        "elif 80>a:\n",
        "  print('중')\n",
        "else :\n",
        "  print('상')"
      ],
      "metadata": {
        "colab": {
          "base_uri": "https://localhost:8080/"
        },
        "id": "Slp9Bvxiv8Gi",
        "outputId": "d61b93d6-d3d8-4920-c466-b89ffb215a45"
      },
      "execution_count": null,
      "outputs": [
        {
          "output_type": "stream",
          "name": "stdout",
          "text": [
            "중\n"
          ]
        }
      ]
    },
    {
      "cell_type": "code",
      "source": [
        "member = True\n",
        "grade = 'A' # 'S' 50, 'A' 30\n",
        "point = 0\n",
        "\n",
        "if member :\n",
        "  #pass 수행할 문장을 넘어갈 때\n",
        "  if grade == 'S':\n",
        "     point = 50\n",
        "  else :\n",
        "    point = 30\n",
        "\n",
        "else:\n",
        "  point = 0\n",
        "\n",
        "print(point)"
      ],
      "metadata": {
        "colab": {
          "base_uri": "https://localhost:8080/"
        },
        "id": "n4-mWcziwPtH",
        "outputId": "06cbe6d1-2339-4d80-9643-d08faacdde7a"
      },
      "execution_count": null,
      "outputs": [
        {
          "output_type": "stream",
          "name": "stdout",
          "text": [
            "30\n"
          ]
        }
      ]
    },
    {
      "cell_type": "code",
      "source": [
        "age = int(input('나이 : '))\n",
        "gender = input('성별[남,여] : ')\n",
        "\n",
        "if gender=='남':\n",
        "  if age >19 :\n",
        "    print('성인 남성입니다.')\n",
        "  else :\n",
        "    print('청소년 남성입니다.')\n",
        "elif gender == '여':\n",
        "  if age >19:\n",
        "    print('성인 여성입니다.')\n",
        "  else :\n",
        "    print('청소년 여성입니다.')\n",
        "else:\n",
        "  print('성별을 다시 입력해 주세요[남, 여]')\n"
      ],
      "metadata": {
        "colab": {
          "base_uri": "https://localhost:8080/"
        },
        "id": "TX-3bW1b0wDe",
        "outputId": "365de0cc-3d3c-42c9-8324-51160d242180"
      },
      "execution_count": null,
      "outputs": [
        {
          "output_type": "stream",
          "name": "stdout",
          "text": [
            "나이 : 456\n",
            "성별[남,여] : 45\n",
            "성별을 다시 입력해 주세요[남, 여]\n"
          ]
        }
      ]
    },
    {
      "cell_type": "markdown",
      "source": [
        "* 퀴즈\n",
        "1. 놀이기구에 키가 140cm이상이고,\n",
        "  나이가 8세 이상인 사람만 탑승한다고 가정합니다.\n",
        "2. 먼저 키(height)와 나이(age)를 입력받으세요.\n",
        "3. 조건문 if~else를 사용하여 2개의 조건이 모두 참일 경우\n",
        "  \"놀이기구에 탑승할 수 있습니다.\"를 출력하세요.\n",
        "4. 위 조건이 거짓일 경우 \"놀이기구에 탑승할 수 없습니다.\"\n",
        "    를 출력하세요.\n",
        "5. 조건식과는 별개로 \"오늘 하루 즐거운 시간되세요!\"\n",
        "   를 출력하세요.\n",
        "'''"
      ],
      "metadata": {
        "id": "JaRpljNJ2lql"
      }
    },
    {
      "cell_type": "code",
      "source": [
        "height = int(input('키를 입력하시오.'))\n",
        "age = int(input('나이를 입력하시오.'))\n",
        "\n",
        "if height >= 140 :\n",
        "  if age >= 8:\n",
        "    print(\"놀이기구에 탑승할 수 \"'\\033[91m' + \"있습니다.\" + \"\\033[0m\" \"\\n오늘 하루 즐거운 시간되세요!\")\n",
        "  else :\n",
        "    print(\"놀이기구에 탑승할 수 \"'\\033[91m' + \"없습니다.\" + \"\\033[0m\" \"\\n오늘 하루 즐거운 시간되세요!\")\n",
        "else :\n",
        "  print(\"놀이기구에 탑승할 수 \"'\\033[91m' + \"없습니다.\" + \"\\033[0m\" \"\\n오늘 하루 즐거운 시간되세요!\")\n",
        "\n",
        "#if height>=140 and >=8 : # and로 조건을 묶어서 사용할 수 있다.\n",
        "#  print(\"놀이기구에 탑승할 수 있습니다.\")\n",
        "#else :\n",
        "#  print(\"놀이기구에 탑승할 수 없습니다.\")\n",
        "\n",
        "#print(\"오늘 하루 즐거운 시간되세요!\")"
      ],
      "metadata": {
        "colab": {
          "base_uri": "https://localhost:8080/"
        },
        "id": "XXabhNPv274j",
        "outputId": "b0e920a8-ddf2-4817-a4b5-bcf7410ab9a0"
      },
      "execution_count": null,
      "outputs": [
        {
          "output_type": "stream",
          "name": "stdout",
          "text": [
            "키를 입력하시오.140\n",
            "나이를 입력하시오.5\n",
            "놀이기구에 탑승할 수 \u001b[91m없습니다.\u001b[0m\n",
            "오늘 하루 즐거운 시간되세요!\n"
          ]
        }
      ]
    },
    {
      "cell_type": "markdown",
      "source": [
        "'''\n",
        "[조건]\n",
        "1. 18세 미만은 이 영화를 볼 수 없다\n",
        "2. 18세 이상 59세 이하의 손님은 8000원\n",
        "3. 60세 이상의 손님은 5000원\n",
        "4. 포인트카드를 가지고 있고 지금까지 5편의 영화를 본 손님은 5000원\n",
        "\n",
        "18세 미만이면 '티켓을 팔 수 없다'를 기술한 부분이다.\n",
        "60세 이상이거나 포인트가 있고 5편 관람한 할인 대상자는 '티켓은 5000원입니다.\n",
        "그외는 '티켓은 8000원입니다'로 출력하는 프로그램을 구현하시오.\n",
        "\n",
        "[테스트1]\n",
        "age=35\n",
        "point_card =True\n",
        "count=5\n",
        "\n",
        "출력결과 : 티켓은 5000원입니다\n",
        "\n",
        "[테스트2]\n",
        "age=17\n",
        "point_card =True\n",
        "count=5\n",
        "\n",
        "출력결과 : 티켓을 판매할 수 없습니다\n",
        "\n",
        "[테스트3]\n",
        "age=35\n",
        "point_card =True\n",
        "count=3\n",
        "\n",
        "출력결과: 티켓은 8000원입니다\n",
        "'''"
      ],
      "metadata": {
        "id": "HuVlkOsI6oUN"
      }
    },
    {
      "cell_type": "code",
      "source": [
        "age = int(input(\"나이를 입력하시오.\"))\n",
        "point_card = input(\"포인트 카드가 있습니까? [있으면 1, 없으면 0]\")\n",
        "\n",
        "if age>18:\n",
        "  point_card = 1\n",
        "  count = int(input(\"지금까지 관람한 영화의 개수를 입력하시오.\"))\n",
        "  if count >= 5 :\n",
        "    print(\"티켓은 5000원입니다.\")\n",
        "  else :\n",
        "    print(\"티켓은 8000원입니다.\")\n",
        "else :\n",
        "  print(\"티켓을 팔 수 없다.\")\n"
      ],
      "metadata": {
        "colab": {
          "base_uri": "https://localhost:8080/"
        },
        "id": "vceEcAAP7Udn",
        "outputId": "e503d62a-fd0f-4887-eefe-fba334b864b6"
      },
      "execution_count": null,
      "outputs": [
        {
          "output_type": "stream",
          "name": "stdout",
          "text": [
            "나이를 입력하시오.19\n",
            "포인트 카드가 있습니까? [있으면 1, 없으면 0]0\n",
            "지금까지 관람한 영화의 개수를 입력하시오.5\n",
            "티켓은 5000원입니다.\n"
          ]
        }
      ]
    },
    {
      "cell_type": "code",
      "source": [
        "age = int(input(\"나이 : \"))\n",
        "point_card = input(\"포인트카드여부\")\n",
        "count = int(input('영화 관람 횟수 : '))\n",
        "\n",
        "if age<18 :\n",
        "  print(\"티켓을 판매할 수 없습니다\")\n",
        "elif age >= 60 or (point_card and count>=5):\n",
        "  print(\"티켓은 5000원입니다\")\n",
        "else:\n",
        "  print(\"티켓은 8000원입니다\")"
      ],
      "metadata": {
        "colab": {
          "base_uri": "https://localhost:8080/"
        },
        "id": "6UkVHY_l91Gz",
        "outputId": "fe1de3b6-5b8c-458a-9b2b-53c4a6d60ce7"
      },
      "execution_count": null,
      "outputs": [
        {
          "output_type": "stream",
          "name": "stdout",
          "text": [
            "나이 : 20\n",
            "포인트카드여부\n",
            "영화 관람 횟수 : 5\n",
            "티켓은 8000원입니다\n"
          ]
        }
      ]
    },
    {
      "cell_type": "code",
      "source": [
        "# 윤년 : 연도를 4로 나누어 떨어지고 100으로 나누어 떨어지면 안되거나\n",
        "#               400으로 나누어 떨어지면 된다.\n",
        "\n",
        "\n",
        "year = int(input('year:'))\n",
        "month = int(input('month:'))\n",
        "end_day_31 = [1,3,5,7,8,10,12]\n",
        "end_day_30 = [4,6,9,11]\n",
        "day = 28\n",
        "check = ''\n",
        "\n",
        "\n",
        "if not (month >= 1 and month <= 12):\n",
        "  print('월은 1부터 12까지만 입력해주세요')\n",
        "else :\n",
        "  if (year%4==0 and year%100!=0) or year%400==0 :\n",
        "    #print('{}년도는 윤년'.format(year))\n",
        "    check='윤년'\n",
        "    if month ==2:\n",
        "      day = 29\n",
        "    #print('{}년도 {}월은 윤년, 마지막일 {}일입니다.'.format(year,month,day))\n",
        "  else :\n",
        "    #print('{}년도는 평년'.format(year))\n",
        "    check='평년'\n",
        "    if month==2:\n",
        "      day = 28\n",
        "      #print('{}년도 {}월은 평년, 마지막일 {}일입니다.'.format(year,month,day))\n",
        "  print('{}년도 {}월은 {}, 마지막일 {}일입니다.'.format(year,month,check,day))"
      ],
      "metadata": {
        "colab": {
          "base_uri": "https://localhost:8080/"
        },
        "id": "mvgDQ4nTC-Ly",
        "outputId": "c591c8f3-fe13-483d-f30b-3acf16096ae8"
      },
      "execution_count": null,
      "outputs": [
        {
          "output_type": "stream",
          "name": "stdout",
          "text": [
            "year:13413\n",
            "month:12\n",
            "13413년도 12월은 평년, 마지막일 28일입니다.\n"
          ]
        }
      ]
    },
    {
      "cell_type": "code",
      "source": [
        "#import sys\n",
        "#if not (month >= 1 and month <= 12):\n",
        "#  print('월은 1부터 12까지만 입력해주세요')\n",
        "#else: sys.exit()\n",
        "#if month ==4 or month==6 or month==9 or month==11:\n",
        "#if month in end_day_30:\n",
        "#  day = 30\n",
        "#else :\n",
        "#  day = 31\n",
        "\n",
        "#if (year%4==0 and year%100!=0) or year%400==0 :\n",
        "  #print('{}년도는 윤년'.format(year))\n",
        "#  check='윤년'\n",
        "#  if month ==2:\n",
        "#    day = 29\n",
        "#  print('{}년도 {}월은 윤년, 마지막일 {}일입니다.'.format(year,month,day))\n",
        "#else :\n",
        "  #print('{}년도는 평년'.format(year))\n",
        "#  check='평년'\n",
        "#  if month==2:\n",
        "#    day = 28\n",
        "#  print('{}년도 {}월은 평년, 마지막일 {}일입니다.'.format(year,month,day))"
      ],
      "metadata": {
        "id": "JYiP3HNgGdK8"
      },
      "execution_count": null,
      "outputs": []
    },
    {
      "cell_type": "markdown",
      "source": [
        "## 반복문 : while\n",
        " - 반복문에서 else는 반복문이 완벽하게 끝났을 때 실행된다.\n",
        " - 대부분의 프로그래밍 언어는 while과 for를 지원한다.\n",
        "---\n",
        "else\n",
        " - if ~ else\n",
        " - try ~ except ~ else ~ finally\n",
        " - while ~ else\n",
        "\n",
        "```\n",
        "while 조건식 :  \n",
        "   수행할 문장\n",
        "else:\n",
        "   수행할 문장\n",
        "```"
      ],
      "metadata": {
        "id": "gUUQB5yMNE3t"
      }
    },
    {
      "cell_type": "code",
      "source": [
        "# while 반복문이 완벽하게 실행되면 end 출력하기.\n",
        "a = 10\n",
        "while a>5 :\n",
        "  a -= 1 # a = a-1 축약\n",
        "  print(a)\n",
        "else:\n",
        "  print('end')"
      ],
      "metadata": {
        "colab": {
          "base_uri": "https://localhost:8080/"
        },
        "id": "4l-JnXBzNKad",
        "outputId": "0475be61-251a-471c-f351-44d34476caf6"
      },
      "execution_count": null,
      "outputs": [
        {
          "output_type": "stream",
          "name": "stdout",
          "text": [
            "9\n",
            "8\n",
            "7\n",
            "6\n",
            "5\n",
            "end\n"
          ]
        }
      ]
    },
    {
      "cell_type": "code",
      "source": [
        "# while 반복문을 break를 이용하여 강제적으로 빠져나오기.\n",
        "a = 10\n",
        "while a>5 :\n",
        "  a -= 1 # a = a-1 축약\n",
        "  print(a)\n",
        "  if a == 5 :\n",
        "    break # 반복문 강제 탈출\n",
        "else:\n",
        "  print('end')"
      ],
      "metadata": {
        "colab": {
          "base_uri": "https://localhost:8080/"
        },
        "id": "OLLqkFSFhg1M",
        "outputId": "462906a1-64a7-4d51-f9b5-71fb17d44bdc"
      },
      "execution_count": null,
      "outputs": [
        {
          "output_type": "stream",
          "name": "stdout",
          "text": [
            "9\n",
            "8\n",
            "7\n",
            "6\n",
            "5\n"
          ]
        }
      ]
    },
    {
      "cell_type": "code",
      "source": [
        "# continue는 다음 루프(조건식)로 넘어간다.\n",
        "# 반복문을 중단하지 않으므로 else 조건문이 실행된다.\n",
        "a = 10\n",
        "while a>5 :\n",
        "  a -= 1\n",
        "  if a == 6 :\n",
        "    continue # 생략\n",
        "  print(a)\n",
        "else :\n",
        "  print('end')"
      ],
      "metadata": {
        "colab": {
          "base_uri": "https://localhost:8080/"
        },
        "id": "nxA4I-kwiLp6",
        "outputId": "2ae84afd-e15f-440f-cef9-f6524f0c24bb"
      },
      "execution_count": null,
      "outputs": [
        {
          "output_type": "stream",
          "name": "stdout",
          "text": [
            "9\n",
            "8\n",
            "7\n",
            "5\n",
            "end\n"
          ]
        }
      ]
    },
    {
      "cell_type": "code",
      "source": [
        "# 1부터 10까지 출력하는 프로그램\n",
        "a = 1\n",
        "while a <= 10 :\n",
        "  print(a)\n",
        "  a += 1         # a = a + 1\n",
        "# a++ SyntaxError: invalid syntax"
      ],
      "metadata": {
        "colab": {
          "base_uri": "https://localhost:8080/"
        },
        "id": "siwIIKz2lB0k",
        "outputId": "bbaa105b-ec3f-4bb8-d40d-5d3e7be53e5d"
      },
      "execution_count": null,
      "outputs": [
        {
          "output_type": "stream",
          "name": "stdout",
          "text": [
            "1\n",
            "2\n",
            "3\n",
            "4\n",
            "5\n",
            "6\n",
            "7\n",
            "8\n",
            "9\n",
            "10\n"
          ]
        }
      ]
    },
    {
      "cell_type": "code",
      "source": [
        "# 1부터 10까지 출력하고 합계를 구하는 프로그램\n",
        "a = 1\n",
        "sum = 0\n",
        "while a <= 10 :\n",
        "  sum = sum + a\n",
        "  print(a)\n",
        "  a += 1\n",
        "\n",
        "print('sum={}'.format(sum))"
      ],
      "metadata": {
        "colab": {
          "base_uri": "https://localhost:8080/"
        },
        "id": "V8ELZBlEl88a",
        "outputId": "04dbc51c-6ac8-429e-8343-cd857f9ae6bb"
      },
      "execution_count": null,
      "outputs": [
        {
          "output_type": "stream",
          "name": "stdout",
          "text": [
            "1\n",
            "2\n",
            "3\n",
            "4\n",
            "5\n",
            "6\n",
            "7\n",
            "8\n",
            "9\n",
            "10\n",
            "sum=55\n"
          ]
        }
      ]
    },
    {
      "cell_type": "code",
      "source": [
        "# 1부터 10까지 짝수, 홀수 합계를 구하는 프로그램\n",
        "a = 1\n",
        "even = 0  # 짝수\n",
        "odd = 0   # 홀수\n",
        "while a <= 10 :\n",
        "  if a % 2 == 1: # 홀수?\n",
        "    odd += a  #odd = odd + a\n",
        "  else :\n",
        "    even += a #even = even + a\n",
        "  a += 1\n",
        "\n",
        "print('짝수={}'.format(even))\n",
        "print('홀수={}'.format(odd))"
      ],
      "metadata": {
        "colab": {
          "base_uri": "https://localhost:8080/"
        },
        "id": "RBoecPQNnBAq",
        "outputId": "9c38791a-4626-4d62-cad6-55d276a89da4"
      },
      "execution_count": null,
      "outputs": [
        {
          "output_type": "stream",
          "name": "stdout",
          "text": [
            "짝수=30\n",
            "홀수=25\n"
          ]
        }
      ]
    },
    {
      "cell_type": "markdown",
      "source": [
        "## 반복문 : for\n",
        "\n",
        "```python\n",
        "for 변수 in iterable :\n",
        "    실행구문\n",
        "```\n",
        "\n",
        "for 반복문과 함께 사용되는 함수\n",
        "\n",
        "```python\n",
        "for 변수 in range(시작번호, 마지막번호, 증감값):\n",
        "    실행구문\n",
        "\n",
        "for 변수 in enumerate(sequence, start):\n",
        "    실행구문\n",
        "\n",
        "for 변수 in zip(data1,data2,...):\n",
        "    실행구문\n",
        "```"
      ],
      "metadata": {
        "id": "u5yHgZm8sF4X"
      }
    },
    {
      "cell_type": "markdown",
      "source": [
        "#### range"
      ],
      "metadata": {
        "id": "a0HQBgtPuZy8"
      }
    },
    {
      "cell_type": "code",
      "source": [
        "# range(end)\n",
        "for i in range(5): # 0부터 5미만의 값이 1씩 증가해서 생성\n",
        "  print(i)"
      ],
      "metadata": {
        "colab": {
          "base_uri": "https://localhost:8080/"
        },
        "id": "VW7ghIbCucqO",
        "outputId": "74e20142-9cbd-4ad2-81f8-ba12097e7484"
      },
      "execution_count": null,
      "outputs": [
        {
          "output_type": "stream",
          "name": "stdout",
          "text": [
            "0\n",
            "1\n",
            "2\n",
            "3\n",
            "4\n"
          ]
        }
      ]
    },
    {
      "cell_type": "code",
      "source": [
        "# range(start,end)\n",
        "for i in range(1,5): # 1부터 5미만의 값이 1씩 증가해서 생성\n",
        "  print(i)"
      ],
      "metadata": {
        "colab": {
          "base_uri": "https://localhost:8080/"
        },
        "id": "37gTWVE_vMT2",
        "outputId": "7f048a5e-8d6e-4779-fd51-d6d4ea50c48e"
      },
      "execution_count": null,
      "outputs": [
        {
          "output_type": "stream",
          "name": "stdout",
          "text": [
            "1\n",
            "2\n",
            "3\n",
            "4\n"
          ]
        }
      ]
    },
    {
      "cell_type": "code",
      "source": [
        "# range(start,end,step)\n",
        "for i in range(1,5,2): # 1부터 5미만의 값이 2씩 증가해서 생성\n",
        "  print(i)"
      ],
      "metadata": {
        "colab": {
          "base_uri": "https://localhost:8080/"
        },
        "id": "ozcCI0_HvZyO",
        "outputId": "f6a685bf-9f5c-4d65-ff3a-518859062962"
      },
      "execution_count": null,
      "outputs": [
        {
          "output_type": "stream",
          "name": "stdout",
          "text": [
            "1\n",
            "3\n"
          ]
        }
      ]
    },
    {
      "cell_type": "markdown",
      "source": [
        "#### enumerate 함수\n",
        " - enumerate()함수는 인덱스와 객체를 동시에 저장할 수 있는 특징을 가진 for문을 좀더 효율적으로 사용하기 위한 함수이다.\n",
        " - enumerate()함수는 순서자료형(list, tuple, str)을 입력으로 받아 인덱스를 포함하는 enumerate 객체를 리턴한다.\n",
        " - enumerate([순서자료형], [시작값=0])의 형식을 가지며 순서자료형은 반복자가 가능한 객체가 입력도고 시작값은 입력시 해당수 부터 증가하며, 생략했을 경우 기본값은 0 이다."
      ],
      "metadata": {
        "id": "gMI3n4j1wStF"
      }
    },
    {
      "cell_type": "code",
      "source": [
        "for k in enumerate(['apple','python','microsoft']):\n",
        "  print(k)"
      ],
      "metadata": {
        "colab": {
          "base_uri": "https://localhost:8080/"
        },
        "id": "ajOuVKCswdcW",
        "outputId": "325b595a-71fd-46e7-e957-6f5f976e6bbc"
      },
      "execution_count": null,
      "outputs": [
        {
          "output_type": "stream",
          "name": "stdout",
          "text": [
            "(0, 'apple')\n",
            "(1, 'python')\n",
            "(2, 'microsoft')\n"
          ]
        }
      ]
    },
    {
      "cell_type": "code",
      "source": [
        "for k,v in enumerate(['apple','python','microsoft']):\n",
        "  print(k,v)"
      ],
      "metadata": {
        "colab": {
          "base_uri": "https://localhost:8080/"
        },
        "id": "fvQz-qsSw1Qi",
        "outputId": "7bcffe28-b0a9-45ed-fca2-c16fdea9a065"
      },
      "execution_count": null,
      "outputs": [
        {
          "output_type": "stream",
          "name": "stdout",
          "text": [
            "0 apple\n",
            "1 python\n",
            "2 microsoft\n"
          ]
        }
      ]
    },
    {
      "cell_type": "code",
      "source": [
        "for k,v in enumerate(['apple','python','microsoft'],1):\n",
        "  print(k,v)"
      ],
      "metadata": {
        "colab": {
          "base_uri": "https://localhost:8080/"
        },
        "id": "F4s9751zw_tO",
        "outputId": "456650ec-e19a-4b20-8b0d-4b4f01267529"
      },
      "execution_count": null,
      "outputs": [
        {
          "output_type": "stream",
          "name": "stdout",
          "text": [
            "1 apple\n",
            "2 python\n",
            "3 microsoft\n"
          ]
        }
      ]
    },
    {
      "cell_type": "code",
      "source": [
        "a = {'one':10, 'two':20}\n",
        "for k in enumerate(a):\n",
        "  print(k)"
      ],
      "metadata": {
        "colab": {
          "base_uri": "https://localhost:8080/"
        },
        "id": "1TdY0neUxLpe",
        "outputId": "8827a296-b6af-47a6-a5c1-b0cfe7794db7"
      },
      "execution_count": null,
      "outputs": [
        {
          "output_type": "stream",
          "name": "stdout",
          "text": [
            "(0, 'one')\n",
            "(1, 'two')\n"
          ]
        }
      ]
    },
    {
      "cell_type": "code",
      "source": [
        "a = {'one':10, 'two':20}\n",
        "for k,v in enumerate(a):\n",
        "  print(k,a[v])"
      ],
      "metadata": {
        "colab": {
          "base_uri": "https://localhost:8080/"
        },
        "id": "E6BT4jMXxeCW",
        "outputId": "06b64bea-14ae-429a-d86f-8dc7bdde0e78"
      },
      "execution_count": null,
      "outputs": [
        {
          "output_type": "stream",
          "name": "stdout",
          "text": [
            "0 10\n",
            "1 20\n"
          ]
        }
      ]
    },
    {
      "cell_type": "code",
      "source": [
        "for k in enumerate({10,20,30}):\n",
        "  print(k)"
      ],
      "metadata": {
        "colab": {
          "base_uri": "https://localhost:8080/"
        },
        "id": "zU5cfwrcxzB4",
        "outputId": "fb16cb28-e7f6-427b-88ac-50dd557ec2ea"
      },
      "execution_count": null,
      "outputs": [
        {
          "output_type": "stream",
          "name": "stdout",
          "text": [
            "(0, 10)\n",
            "(1, 20)\n",
            "(2, 30)\n"
          ]
        }
      ]
    },
    {
      "cell_type": "code",
      "source": [
        "for k,v in enumerate({10,20,30}):\n",
        "  print(k,v)"
      ],
      "metadata": {
        "colab": {
          "base_uri": "https://localhost:8080/"
        },
        "id": "8d11-fyzx9e2",
        "outputId": "9f88f5c6-9c12-4f4e-f772-fdde5e729f07"
      },
      "execution_count": null,
      "outputs": [
        {
          "output_type": "stream",
          "name": "stdout",
          "text": [
            "0 10\n",
            "1 20\n",
            "2 30\n"
          ]
        }
      ]
    },
    {
      "cell_type": "markdown",
      "source": [
        "#### zip\n",
        "- 매개인자로 여러 목록을 받아 각 목록의 요소를 튜플에 담아 목록에 저장한다."
      ],
      "metadata": {
        "id": "6h-MDgNPyXTd"
      }
    },
    {
      "cell_type": "code",
      "source": [
        "a = [1,2,3,4,5]\n",
        "b = ['a','b','c','d','e']\n",
        "\n",
        "for x in zip(a,b):\n",
        "  print(x)"
      ],
      "metadata": {
        "colab": {
          "base_uri": "https://localhost:8080/"
        },
        "id": "h3Ctwm_NyfBu",
        "outputId": "4b6ecb0d-89b5-4ca1-ba8f-6e6108e8bf8a"
      },
      "execution_count": null,
      "outputs": [
        {
          "output_type": "stream",
          "name": "stdout",
          "text": [
            "(1, 'a')\n",
            "(2, 'b')\n",
            "(3, 'c')\n",
            "(4, 'd')\n",
            "(5, 'e')\n"
          ]
        }
      ]
    },
    {
      "cell_type": "code",
      "source": [
        "a = []\n",
        "for x in range(2,10):\n",
        "  a.append(x)\n",
        "\n",
        "print(a)"
      ],
      "metadata": {
        "colab": {
          "base_uri": "https://localhost:8080/"
        },
        "id": "KgIyMpA4zBIO",
        "outputId": "72dc93d8-90f9-4acc-9c98-d72363b4cf08"
      },
      "execution_count": null,
      "outputs": [
        {
          "output_type": "stream",
          "name": "stdout",
          "text": [
            "[2, 3, 4, 5, 6, 7, 8, 9]\n"
          ]
        }
      ]
    },
    {
      "cell_type": "code",
      "source": [
        "# 구구단 만들기\n",
        "a = []\n",
        "for x in range(1,10):\n",
        "  for y in range(2,10):\n",
        "    print('{} X {} = {}'.format(y,x, x*y), end='\\t')\n",
        "  print()"
      ],
      "metadata": {
        "colab": {
          "base_uri": "https://localhost:8080/"
        },
        "id": "rxW88uzk0aks",
        "outputId": "eca4cf1f-d07c-4182-db67-0717a6dd40cd"
      },
      "execution_count": null,
      "outputs": [
        {
          "output_type": "stream",
          "name": "stdout",
          "text": [
            "2 X 1 = 2\t3 X 1 = 3\t4 X 1 = 4\t5 X 1 = 5\t6 X 1 = 6\t7 X 1 = 7\t8 X 1 = 8\t9 X 1 = 9\t\n",
            "2 X 2 = 4\t3 X 2 = 6\t4 X 2 = 8\t5 X 2 = 10\t6 X 2 = 12\t7 X 2 = 14\t8 X 2 = 16\t9 X 2 = 18\t\n",
            "2 X 3 = 6\t3 X 3 = 9\t4 X 3 = 12\t5 X 3 = 15\t6 X 3 = 18\t7 X 3 = 21\t8 X 3 = 24\t9 X 3 = 27\t\n",
            "2 X 4 = 8\t3 X 4 = 12\t4 X 4 = 16\t5 X 4 = 20\t6 X 4 = 24\t7 X 4 = 28\t8 X 4 = 32\t9 X 4 = 36\t\n",
            "2 X 5 = 10\t3 X 5 = 15\t4 X 5 = 20\t5 X 5 = 25\t6 X 5 = 30\t7 X 5 = 35\t8 X 5 = 40\t9 X 5 = 45\t\n",
            "2 X 6 = 12\t3 X 6 = 18\t4 X 6 = 24\t5 X 6 = 30\t6 X 6 = 36\t7 X 6 = 42\t8 X 6 = 48\t9 X 6 = 54\t\n",
            "2 X 7 = 14\t3 X 7 = 21\t4 X 7 = 28\t5 X 7 = 35\t6 X 7 = 42\t7 X 7 = 49\t8 X 7 = 56\t9 X 7 = 63\t\n",
            "2 X 8 = 16\t3 X 8 = 24\t4 X 8 = 32\t5 X 8 = 40\t6 X 8 = 48\t7 X 8 = 56\t8 X 8 = 64\t9 X 8 = 72\t\n",
            "2 X 9 = 18\t3 X 9 = 27\t4 X 9 = 36\t5 X 9 = 45\t6 X 9 = 54\t7 X 9 = 63\t8 X 9 = 72\t9 X 9 = 81\t\n"
          ]
        }
      ]
    },
    {
      "cell_type": "code",
      "source": [
        "a = []\n",
        "for x in range(1,10):\n",
        "  for y in range(2,10):\n",
        "    #print('{} X {} = {}'.format(y,x, x*y), end='\\t')\n",
        "    a.append('{} X {} = {}'.format(y,x, x*y))\n",
        "    a.append('\\t')\n",
        "  a.append('\\n')\n",
        "\n",
        "print(a)"
      ],
      "metadata": {
        "colab": {
          "base_uri": "https://localhost:8080/"
        },
        "id": "Go1PhfXd5a6j",
        "outputId": "35969a1b-5892-4cd6-c7e5-2ad697790bfe"
      },
      "execution_count": null,
      "outputs": [
        {
          "output_type": "stream",
          "name": "stdout",
          "text": [
            "['2 X 1 = 2', '\\t', '3 X 1 = 3', '\\t', '4 X 1 = 4', '\\t', '5 X 1 = 5', '\\t', '6 X 1 = 6', '\\t', '7 X 1 = 7', '\\t', '8 X 1 = 8', '\\t', '9 X 1 = 9', '\\t', '\\n', '2 X 2 = 4', '\\t', '3 X 2 = 6', '\\t', '4 X 2 = 8', '\\t', '5 X 2 = 10', '\\t', '6 X 2 = 12', '\\t', '7 X 2 = 14', '\\t', '8 X 2 = 16', '\\t', '9 X 2 = 18', '\\t', '\\n', '2 X 3 = 6', '\\t', '3 X 3 = 9', '\\t', '4 X 3 = 12', '\\t', '5 X 3 = 15', '\\t', '6 X 3 = 18', '\\t', '7 X 3 = 21', '\\t', '8 X 3 = 24', '\\t', '9 X 3 = 27', '\\t', '\\n', '2 X 4 = 8', '\\t', '3 X 4 = 12', '\\t', '4 X 4 = 16', '\\t', '5 X 4 = 20', '\\t', '6 X 4 = 24', '\\t', '7 X 4 = 28', '\\t', '8 X 4 = 32', '\\t', '9 X 4 = 36', '\\t', '\\n', '2 X 5 = 10', '\\t', '3 X 5 = 15', '\\t', '4 X 5 = 20', '\\t', '5 X 5 = 25', '\\t', '6 X 5 = 30', '\\t', '7 X 5 = 35', '\\t', '8 X 5 = 40', '\\t', '9 X 5 = 45', '\\t', '\\n', '2 X 6 = 12', '\\t', '3 X 6 = 18', '\\t', '4 X 6 = 24', '\\t', '5 X 6 = 30', '\\t', '6 X 6 = 36', '\\t', '7 X 6 = 42', '\\t', '8 X 6 = 48', '\\t', '9 X 6 = 54', '\\t', '\\n', '2 X 7 = 14', '\\t', '3 X 7 = 21', '\\t', '4 X 7 = 28', '\\t', '5 X 7 = 35', '\\t', '6 X 7 = 42', '\\t', '7 X 7 = 49', '\\t', '8 X 7 = 56', '\\t', '9 X 7 = 63', '\\t', '\\n', '2 X 8 = 16', '\\t', '3 X 8 = 24', '\\t', '4 X 8 = 32', '\\t', '5 X 8 = 40', '\\t', '6 X 8 = 48', '\\t', '7 X 8 = 56', '\\t', '8 X 8 = 64', '\\t', '9 X 8 = 72', '\\t', '\\n', '2 X 9 = 18', '\\t', '3 X 9 = 27', '\\t', '4 X 9 = 36', '\\t', '5 X 9 = 45', '\\t', '6 X 9 = 54', '\\t', '7 X 9 = 63', '\\t', '8 X 9 = 72', '\\t', '9 X 9 = 81', '\\t', '\\n']\n"
          ]
        }
      ]
    },
    {
      "cell_type": "markdown",
      "source": [
        "## comprehension\n",
        "- comprehensionn이란 iterable한 오브젝트를 생성하기 위한 방법 중 하나이다.\n",
        " - List comprehension(LC)\n",
        " - Set comprehension(SC)\n",
        " - Dict comprehension(DC)"
      ],
      "metadata": {
        "id": "5XBFn7vQ6pgr"
      }
    },
    {
      "cell_type": "markdown",
      "source": [
        "### List comprehension\n",
        "- List 정의시 값을 정하지 않고 호출시 리스트 내의 값들이 처리되도록 구성\n",
        "- A = [표현식 for 항목 in 반복가능객체(iterable)]\n",
        "- A = [표현식 for 항목 in 반복가능객체(iterable) if 논리식]\n",
        "- A = [표현식 for 항목1 in 반복가능객체(iterable)1 for 항목2 in 반복가능객체(iterable)2]"
      ],
      "metadata": {
        "id": "-OmVZIei6gS7"
      }
    },
    {
      "cell_type": "code",
      "source": [
        "s = []\n",
        "for x in range(10):\n",
        "  s.append(x**2)\n",
        "print(s)"
      ],
      "metadata": {
        "colab": {
          "base_uri": "https://localhost:8080/"
        },
        "id": "wzKLty-Q6lgS",
        "outputId": "f6c1cac9-160d-46d1-d526-484c95278641"
      },
      "execution_count": null,
      "outputs": [
        {
          "output_type": "stream",
          "name": "stdout",
          "text": [
            "[0, 1, 4, 9, 16, 25, 36, 49, 64, 81]\n"
          ]
        }
      ]
    },
    {
      "cell_type": "code",
      "source": [
        "s = [x**2 for x in range(10)]\n",
        "print(s)"
      ],
      "metadata": {
        "colab": {
          "base_uri": "https://localhost:8080/"
        },
        "id": "1WZN0r2b8ClC",
        "outputId": "d3c40fd7-ca9e-4809-b6fd-6d7f9f4db629"
      },
      "execution_count": null,
      "outputs": [
        {
          "output_type": "stream",
          "name": "stdout",
          "text": [
            "[0, 1, 4, 9, 16, 25, 36, 49, 64, 81]\n"
          ]
        }
      ]
    },
    {
      "cell_type": "code",
      "source": [
        "s = []\n",
        "for x in range(10):\n",
        "  if x%2 == 0:\n",
        "    s.append(x**2)\n",
        "print(s)"
      ],
      "metadata": {
        "colab": {
          "base_uri": "https://localhost:8080/"
        },
        "id": "DsycOpIu8-ca",
        "outputId": "3f777087-e1ed-4e9b-8e26-81567bf168fe"
      },
      "execution_count": null,
      "outputs": [
        {
          "output_type": "stream",
          "name": "stdout",
          "text": [
            "[0, 4, 16, 36, 64]\n"
          ]
        }
      ]
    },
    {
      "cell_type": "code",
      "source": [
        "s = [x**2 for x in range(10) if x%2 == 0]\n",
        "print(s)"
      ],
      "metadata": {
        "colab": {
          "base_uri": "https://localhost:8080/"
        },
        "id": "AsUwTkKo8b0L",
        "outputId": "d4b09b0d-8ce0-40e2-c395-cec5b1c7c498"
      },
      "execution_count": null,
      "outputs": [
        {
          "output_type": "stream",
          "name": "stdout",
          "text": [
            "[0, 4, 16, 36, 64]\n"
          ]
        }
      ]
    },
    {
      "cell_type": "code",
      "source": [
        "s = []\n",
        "for i in range(1,3):\n",
        "  for j in range(4,8):\n",
        "    print('{}{}'.format(i,j))\n",
        "    s.append((i,j))\n",
        "print(s)"
      ],
      "metadata": {
        "colab": {
          "base_uri": "https://localhost:8080/"
        },
        "id": "StS_JSd39IYK",
        "outputId": "08b7a9c8-08e2-4c16-89c2-5842eece9bde"
      },
      "execution_count": null,
      "outputs": [
        {
          "output_type": "stream",
          "name": "stdout",
          "text": [
            "14\n",
            "15\n",
            "16\n",
            "17\n",
            "24\n",
            "25\n",
            "26\n",
            "27\n",
            "[(1, 4), (1, 5), (1, 6), (1, 7), (2, 4), (2, 5), (2, 6), (2, 7)]\n"
          ]
        }
      ]
    },
    {
      "cell_type": "code",
      "source": [
        "s = [ (i,j) for i in range(1,3) for j in range(4,8) ]\n",
        "print(s)"
      ],
      "metadata": {
        "colab": {
          "base_uri": "https://localhost:8080/"
        },
        "id": "OjZj4uaa97LL",
        "outputId": "f7622759-5b4b-42d5-d06d-915d0982ba25"
      },
      "execution_count": null,
      "outputs": [
        {
          "output_type": "stream",
          "name": "stdout",
          "text": [
            "[(1, 4), (1, 5), (1, 6), (1, 7), (2, 4), (2, 5), (2, 6), (2, 7)]\n"
          ]
        }
      ]
    },
    {
      "cell_type": "markdown",
      "source": [
        "총판매금액을 구하는 프로그램(list comprehension을 사용)  \n",
        "cnt = [1, 1, 2, 1]  \n",
        "prod = [500, 1000, 400, 600]"
      ],
      "metadata": {
        "id": "Qkdm23sq-rRX"
      }
    },
    {
      "cell_type": "code",
      "source": [
        "s = []\n",
        "cnt = [1, 1, 2, 1]\n",
        "prod = [500, 1000, 400, 600]\n",
        "\n",
        "for i,j in zip(cnt,prod):\n",
        "  s.append(i*j)\n",
        "\n",
        "print(sum(s))"
      ],
      "metadata": {
        "colab": {
          "base_uri": "https://localhost:8080/"
        },
        "id": "KGb-_Ps--c8i",
        "outputId": "ba41b678-2aa7-4231-cc98-7fcbf20ebac8"
      },
      "execution_count": null,
      "outputs": [
        {
          "output_type": "stream",
          "name": "stdout",
          "text": [
            "2900\n"
          ]
        }
      ]
    },
    {
      "cell_type": "code",
      "source": [
        "cnt = [1, 1, 2, 1]\n",
        "prod = [500, 1000, 400, 600]\n",
        "\n",
        "s = sum([i*j for i,j in zip(cnt,prod)])\n",
        "print(s)"
      ],
      "metadata": {
        "colab": {
          "base_uri": "https://localhost:8080/"
        },
        "id": "6n9_MX8Z_7mH",
        "outputId": "703337ce-b2a3-45eb-a2ea-0b4a0325259a"
      },
      "execution_count": null,
      "outputs": [
        {
          "output_type": "stream",
          "name": "stdout",
          "text": [
            "2900\n"
          ]
        }
      ]
    },
    {
      "cell_type": "markdown",
      "source": [
        "'e'가 포함되어 있는 과일들만 추출해서 대문자로 출력하는 프로그램을 구현하세요.   \n",
        "fruits = ['apple', 'banana', 'cherry', 'grape', 'kiwi', 'tomato']\n",
        "\n",
        "[출력결과]\n",
        "['APPLE', 'CHERRY', 'GRAPE']"
      ],
      "metadata": {
        "id": "sxPF2iFjArnZ"
      }
    },
    {
      "cell_type": "code",
      "source": [
        "# e가 포함되어 있는 과일 추출\n",
        "# 대문자로 출력\n",
        "\n",
        "fruits = ['apple', 'banana', 'cherry', 'grape', 'kiwi', 'tomato']\n",
        "\n",
        "e_li=[]\n",
        "for word in fruits:\n",
        "  if 'e' in word:\n",
        "    e_li.append(word.upper())\n",
        "print(e_li)"
      ],
      "metadata": {
        "colab": {
          "base_uri": "https://localhost:8080/"
        },
        "id": "j8dg-8M5Ax2i",
        "outputId": "54972341-f774-41aa-8856-37713979c588"
      },
      "execution_count": null,
      "outputs": [
        {
          "output_type": "stream",
          "name": "stdout",
          "text": [
            "['APPLE', 'CHERRY', 'GRAPE']\n"
          ]
        }
      ]
    },
    {
      "cell_type": "code",
      "source": [
        "fruits = ['apple', 'banana', 'cherry', 'grape', 'kiwi', 'tomato']\n",
        "\n",
        "s = [word.upper() for word in fruits if 'e' in word] # in word.lower() <- 대소문자 섞인 리스트일시 소문자로 치환 필요.\n",
        "print(s)\n"
      ],
      "metadata": {
        "colab": {
          "base_uri": "https://localhost:8080/"
        },
        "id": "ne6xLK0yB-2k",
        "outputId": "157ef38b-2b6d-48c5-e511-14a0dd9a184e"
      },
      "execution_count": null,
      "outputs": [
        {
          "output_type": "stream",
          "name": "stdout",
          "text": [
            "['APPLE', 'CHERRY', 'GRAPE']\n"
          ]
        }
      ]
    }
  ]
}