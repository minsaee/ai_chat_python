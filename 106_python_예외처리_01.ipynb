{
  "nbformat": 4,
  "nbformat_minor": 0,
  "metadata": {
    "colab": {
      "provenance": [],
      "authorship_tag": "ABX9TyOphAty3axoC3UhwCDbjmPq",
      "include_colab_link": true
    },
    "kernelspec": {
      "name": "python3",
      "display_name": "Python 3"
    },
    "language_info": {
      "name": "python"
    }
  },
  "cells": [
    {
      "cell_type": "markdown",
      "metadata": {
        "id": "view-in-github",
        "colab_type": "text"
      },
      "source": [
        "<a href=\"https://colab.research.google.com/github/minsaee/ai_chat_python/blob/master/106_python_%EC%98%88%EC%99%B8%EC%B2%98%EB%A6%AC_01.ipynb\" target=\"_parent\"><img src=\"https://colab.research.google.com/assets/colab-badge.svg\" alt=\"Open In Colab\"/></a>"
      ]
    },
    {
      "cell_type": "markdown",
      "source": [
        "# 예외처리\n",
        "---\n",
        "# 예외(exception)\n",
        " - 코드르 실행하는 중에 발생하는 오류\n",
        " - 오류가 발생하는 이유는 프로그램이 잘못 동작하는 것을 막기 위함이다."
      ],
      "metadata": {
        "id": "117Z3zCdeDNv"
      }
    },
    {
      "cell_type": "code",
      "execution_count": 2,
      "metadata": {
        "id": "voRkzv6Hd5DI"
      },
      "outputs": [],
      "source": [
        "# a = 10 / 0 # ZeroDivisionError: division by zero"
      ]
    },
    {
      "cell_type": "markdown",
      "source": [
        "## 예외처리\n",
        " - 예외처리는 에러가 발생하되 실행을 중단하지 않고 계속 실행하게 해주는 방법이다.\n",
        " - 예외처리 구조\n",
        " ```\n",
        "try:\n",
        "    실행할 코드(예외가 발생될 가능성이 있는)\n",
        "excrpt:\n",
        "    오류가 발생했을 때 처리하는 코드\n",
        "else:\n",
        "    오류가 없을 때 처리하는 코드\n",
        "finally:\n",
        "    무조건 처리하는 코드\n",
        " ```   \n",
        " - 파이썬에서는 선언할 때 오류를 일일이 체크하지 않고, 사용할 때 에러가 발생하면 디버깅을 한다.\n",
        " - EAFP\n",
        "   - 허락보다는 용서를 구하기가 쉽다.(Easier to ask for forgiveness than permission)\n",
        "   - https://docs.python.org/3/glossary.html\n",
        "\n",
        " - except 뒤에 에러 이름을 넣으면, 해당하는 에러가 발생했을 때만 except를 발생시킨다.\n",
        " -built-in Exceptions 예외 계층도 https://docs.python.org/3/library/exceptions.html#exception-hierarchy"
      ],
      "metadata": {
        "id": "5Mcb3SBrgLPS"
      }
    },
    {
      "cell_type": "code",
      "source": [
        "# try블록이 정상적으로 실행되지 않으면 else블록은 실행되지 않는다.\n",
        "# try 실행 -> except 실행 -> finally 실행\n",
        "\n",
        "# try블록이 정상적으로 실행이 되면 except블록은 실행되지 않는다.\n",
        "# try 실행 -> else 실행 -> finally 실행\n",
        "\n",
        "try:\n",
        "  a = int(3)\n",
        "  b = int(5)\n",
        "  c = int(4)\n",
        "except:\n",
        "  print('숫자가 아닙니다.') # 오류코드가 있을시\n",
        "else:\n",
        "  print('{}와 {}와 {}의 합: {}'.format(a,b,c, a+b+c)) # 오류코드가 없을시\n",
        "finally:\n",
        "  print('program end')"
      ],
      "metadata": {
        "colab": {
          "base_uri": "https://localhost:8080/"
        },
        "id": "3SSS8JR8jko3",
        "outputId": "db020f82-a0cc-413c-c7e4-9008c536d46b"
      },
      "execution_count": 10,
      "outputs": [
        {
          "output_type": "stream",
          "name": "stdout",
          "text": [
            "3와 5와 4의 합: 12\n",
            "program end\n"
          ]
        }
      ]
    },
    {
      "cell_type": "markdown",
      "source": [
        "## 다중 except\n",
        " - 다중 except 선언이 가능하다.\n",
        " - except뒤에 오는 as는 try블록에서 발생한 이름을 받아온다.\n",
        " - 다중 except 구조\n",
        "```\n",
        "try:\n",
        "  실행할 코드\n",
        "except 예외 as 변수:\n",
        "  예외가 발생했을 때 처리하는 코드\n",
        "except 예외 as 변수:\n",
        "  예외가 발생했을 때 처리하는 코드\n",
        "except:\n",
        "  예외가 발생했을 때 처리하는 코드\n",
        "```"
      ],
      "metadata": {
        "id": "b8nRQ0uxlYzp"
      }
    },
    {
      "cell_type": "code",
      "source": [
        "y = [10,20,30]\n",
        "\n",
        "try:\n",
        "  index, x = map(int, input('인덱스와 나눌 숫자를 입력하세요:').split()) # map(lambda x : x+1, [1,2])\n",
        "  print(y[index] / x)\n",
        "except ZeroDivisionError as e:\n",
        "  print('0으로는 나눌 수 없습니다.', e)\n",
        "except  IndexError as e:\n",
        "  print('잘못된 인덱스입니다.', e)\n",
        "except Exception as e:\n",
        "  print('error', e)\n",
        "else:\n",
        "  print('end')\n",
        "finally:\n",
        "  print('program end')"
      ],
      "metadata": {
        "colab": {
          "base_uri": "https://localhost:8080/"
        },
        "id": "k_2wfnXsliYL",
        "outputId": "3e4be50d-ec84-4f17-ba82-3231506a19e2"
      },
      "execution_count": 30,
      "outputs": [
        {
          "output_type": "stream",
          "name": "stdout",
          "text": [
            "인덱스와 나눌 숫자를 입력하세요:3 3\n",
            "잘못된 인덱스입니다. list index out of range\n",
            "program end\n"
          ]
        }
      ]
    },
    {
      "cell_type": "markdown",
      "source": [
        "## 강제로 오류 발생시키기\n",
        " - raise"
      ],
      "metadata": {
        "id": "nntch50Vrv1n"
      }
    },
    {
      "cell_type": "code",
      "source": [
        "\n",
        "try:\n",
        "  x = int(input('3의 배수 입력:'))\n",
        "  if x % 3 != 0:\n",
        "    raise Exception('3의 배수가 아닙니다.') # 오류 발생\n",
        "  print('3의',x//3,'배 입니다.')\n",
        "except Exception as e:\n",
        "  print(e)"
      ],
      "metadata": {
        "colab": {
          "base_uri": "https://localhost:8080/"
        },
        "id": "Cp5ZKQqnr6ZE",
        "outputId": "d6cfb097-7577-4240-8c12-078038e6d126"
      },
      "execution_count": 47,
      "outputs": [
        {
          "output_type": "stream",
          "name": "stdout",
          "text": [
            "3의 배수 입력:27\n",
            "3의 9 배 입니다.\n"
          ]
        }
      ]
    },
    {
      "cell_type": "code",
      "source": [
        "# class Bird:\n",
        "#   def fly(self):\n",
        "#     raise NotImplementedError\n",
        "\n",
        "# b = Bird()\n",
        "# b.fly()"
      ],
      "metadata": {
        "id": "J2fEKks_tljr"
      },
      "execution_count": 63,
      "outputs": []
    },
    {
      "cell_type": "code",
      "source": [
        "class BIrd:\n",
        "  def fly(self):\n",
        "    raise NotImplementedError # 구현부가 없는 추상method -> method overriding 사용을 강제함\n",
        "\n",
        "class Eagle(Bird):\n",
        "  def fly(self): # 강제적으로 overriding 사용\n",
        "    print('vert fast')\n",
        "\n",
        "  def display(self):\n",
        "    print('display')\n",
        "\n",
        "eagle = Eagle()\n",
        "eagle.fly()"
      ],
      "metadata": {
        "colab": {
          "base_uri": "https://localhost:8080/"
        },
        "id": "Uzsl62t4uMns",
        "outputId": "64f71c89-6f28-41a3-8821-8c0ddf2576e1"
      },
      "execution_count": 56,
      "outputs": [
        {
          "output_type": "stream",
          "name": "stdout",
          "text": [
            "vert fast\n"
          ]
        }
      ]
    },
    {
      "cell_type": "code",
      "source": [
        "from abc import abstractmethod\n",
        "\n",
        "class Bird:\n",
        "  @abstractmethod # 추상메소드\n",
        "  def fly(self):\n",
        "    pass\n",
        "\n",
        "\n",
        "class Eagle(Bird):\n",
        "  def display(self):\n",
        "    print('display')\n",
        "\n",
        "  def fly(self): # overriding\n",
        "    print('very fast')\n",
        "\n",
        "eagle = Eagle()\n",
        "eagle.fly()"
      ],
      "metadata": {
        "colab": {
          "base_uri": "https://localhost:8080/"
        },
        "id": "nT2EiRhMvz1e",
        "outputId": "86b315c1-b1ad-45cc-9049-140a283abcbc"
      },
      "execution_count": 62,
      "outputs": [
        {
          "output_type": "stream",
          "name": "stdout",
          "text": [
            "very fast\n"
          ]
        }
      ]
    },
    {
      "cell_type": "markdown",
      "source": [
        "## 사용자 정의 예외 클래스 만들기"
      ],
      "metadata": {
        "id": "9m0_MtO0xWRL"
      }
    },
    {
      "cell_type": "code",
      "source": [
        "class UserClass(Exception):\n",
        "\n",
        "  def __str__(self):\n",
        "    return '허용하지 않는 데이터입니다.'"
      ],
      "metadata": {
        "id": "owTku9s7xf8N"
      },
      "execution_count": 64,
      "outputs": []
    },
    {
      "cell_type": "code",
      "source": [
        "try:\n",
        "  x = int(input('숫자입력:'))\n",
        "  if x<1:\n",
        "    raise UserClass\n",
        "  print(x)\n",
        "\n",
        "except UserClass as e:\n",
        "  print(e)\n"
      ],
      "metadata": {
        "colab": {
          "base_uri": "https://localhost:8080/"
        },
        "id": "cPNktKusx0w1",
        "outputId": "950412a2-f787-42b0-9148-6f2e0f3f46d4"
      },
      "execution_count": 72,
      "outputs": [
        {
          "output_type": "stream",
          "name": "stdout",
          "text": [
            "숫자입력:123\n",
            "123\n"
          ]
        }
      ]
    },
    {
      "cell_type": "code",
      "source": [
        "class InvalidException(Exception):\n",
        "\n",
        "  def __init__(self):\n",
        "    super().__init__('입력값에 오류가 있습니다.')"
      ],
      "metadata": {
        "id": "Ld92Zwnz7zUe"
      },
      "execution_count": 73,
      "outputs": []
    },
    {
      "cell_type": "code",
      "source": [
        "class Calculator:\n",
        "\n",
        "  @staticmethod\n",
        "  def getSum(data):\n",
        "    total= 0.0\n",
        "\n",
        "    try:\n",
        "      if(data < 2 or data > 5):\n",
        "        raise InvalidException\n",
        "      else:\n",
        "        for i in range(1, data + 1):\n",
        "          total += i\n",
        "    except InvalidException as e:\n",
        "        print(e, '2 이상이거나 5 이하여야 합니다.')\n",
        "    return total\n",
        "\n",
        "if __name__ == '__main__':\n",
        "  data = int(input('숫자입력:'))\n",
        "  res = Calculator.getSum(data)\n",
        "  print(\"결괏값:\", res)\n"
      ],
      "metadata": {
        "colab": {
          "base_uri": "https://localhost:8080/"
        },
        "id": "w0YADN7E7z89",
        "outputId": "50fbae33-437a-4dc5-d6cb-c041cf285f5f"
      },
      "execution_count": 74,
      "outputs": [
        {
          "output_type": "stream",
          "name": "stdout",
          "text": [
            "숫자입력:3\n",
            "결괏값: 6.0\n"
          ]
        }
      ]
    }
  ]
}