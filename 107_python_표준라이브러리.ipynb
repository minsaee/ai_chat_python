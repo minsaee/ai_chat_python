{
  "nbformat": 4,
  "nbformat_minor": 0,
  "metadata": {
    "colab": {
      "provenance": [],
      "authorship_tag": "ABX9TyOIWRsajNwLWbaw4gGckDui",
      "include_colab_link": true
    },
    "kernelspec": {
      "name": "python3",
      "display_name": "Python 3"
    },
    "language_info": {
      "name": "python"
    }
  },
  "cells": [
    {
      "cell_type": "markdown",
      "metadata": {
        "id": "view-in-github",
        "colab_type": "text"
      },
      "source": [
        "<a href=\"https://colab.research.google.com/github/minsaee/ai_chat_python/blob/master/107_python_%ED%91%9C%EC%A4%80%EB%9D%BC%EC%9D%B4%EB%B8%8C%EB%9F%AC%EB%A6%AC.ipynb\" target=\"_parent\"><img src=\"https://colab.research.google.com/assets/colab-badge.svg\" alt=\"Open In Colab\"/></a>"
      ]
    },
    {
      "cell_type": "code",
      "execution_count": 2,
      "metadata": {
        "colab": {
          "base_uri": "https://localhost:8080/"
        },
        "id": "POfCJDaJ7g3o",
        "outputId": "280f06b2-66d8-40fc-f2c5-9f1e4639db27"
      },
      "outputs": [
        {
          "output_type": "stream",
          "name": "stdout",
          "text": [
            "['MAXYEAR', 'MINYEAR', '__all__', '__builtins__', '__cached__', '__doc__', '__file__', '__loader__', '__name__', '__package__', '__spec__', 'date', 'datetime', 'datetime_CAPI', 'sys', 'time', 'timedelta', 'timezone', 'tzinfo']\n"
          ]
        }
      ],
      "source": [
        "import datetime\n",
        "\n",
        "print(dir(datetime))"
      ]
    },
    {
      "cell_type": "code",
      "source": [
        "day1 = datetime.date(2023, 11, 19)\n",
        "day2 = datetime.date(2023, 11, 22)\n",
        "\n",
        "print(type(day1))\n",
        "\n",
        "diff = day2 - day1\n",
        "print(type(diff))\n",
        "print(dir(diff))\n",
        "\n",
        "print(diff.days) # 일 차잇값을 리턴\n",
        "\n",
        "# 0 = monday ~ 6 = sunday\n",
        "print(day1.weekday())\n",
        "\n",
        "# 1 = monday ~ 7 = sunday\n",
        "print(day1.isoweekday())"
      ],
      "metadata": {
        "colab": {
          "base_uri": "https://localhost:8080/"
        },
        "id": "dbAiopYU8Uel",
        "outputId": "e0f95474-b22c-4dae-de01-7bc47404374d"
      },
      "execution_count": 12,
      "outputs": [
        {
          "output_type": "stream",
          "name": "stdout",
          "text": [
            "<class 'datetime.date'>\n",
            "<class 'datetime.timedelta'>\n",
            "['__abs__', '__add__', '__bool__', '__class__', '__delattr__', '__dir__', '__divmod__', '__doc__', '__eq__', '__floordiv__', '__format__', '__ge__', '__getattribute__', '__gt__', '__hash__', '__init__', '__init_subclass__', '__le__', '__lt__', '__mod__', '__mul__', '__ne__', '__neg__', '__new__', '__pos__', '__radd__', '__rdivmod__', '__reduce__', '__reduce_ex__', '__repr__', '__rfloordiv__', '__rmod__', '__rmul__', '__rsub__', '__rtruediv__', '__setattr__', '__sizeof__', '__str__', '__sub__', '__subclasshook__', '__truediv__', 'days', 'max', 'microseconds', 'min', 'resolution', 'seconds', 'total_seconds']\n",
            "3\n",
            "6\n",
            "7\n"
          ]
        }
      ]
    },
    {
      "cell_type": "code",
      "source": [
        "# https://docs.python.org/3/library/time.html\n",
        "\n",
        "import time\n",
        "\n",
        "print(time)\n",
        "print(dir(time))\n",
        "print(time.time()) # 1970년1월1일0시0분0초 기준\n",
        "print(time.strftime('%x', time.localtime()))\n",
        "print(time.strftime('%c', time.localtime()))"
      ],
      "metadata": {
        "colab": {
          "base_uri": "https://localhost:8080/"
        },
        "id": "bvU0GtKX9l3-",
        "outputId": "f12b0881-ca65-4a13-bbbb-e9e2f9e7f286"
      },
      "execution_count": 26,
      "outputs": [
        {
          "output_type": "stream",
          "name": "stdout",
          "text": [
            "<module 'time' (built-in)>\n",
            "['CLOCK_BOOTTIME', 'CLOCK_MONOTONIC', 'CLOCK_MONOTONIC_RAW', 'CLOCK_PROCESS_CPUTIME_ID', 'CLOCK_REALTIME', 'CLOCK_TAI', 'CLOCK_THREAD_CPUTIME_ID', '_STRUCT_TM_ITEMS', '__doc__', '__loader__', '__name__', '__package__', '__spec__', 'altzone', 'asctime', 'clock_getres', 'clock_gettime', 'clock_gettime_ns', 'clock_settime', 'clock_settime_ns', 'ctime', 'daylight', 'get_clock_info', 'gmtime', 'localtime', 'mktime', 'monotonic', 'monotonic_ns', 'perf_counter', 'perf_counter_ns', 'process_time', 'process_time_ns', 'pthread_getcpuclockid', 'sleep', 'strftime', 'strptime', 'struct_time', 'thread_time', 'thread_time_ns', 'time', 'time_ns', 'timezone', 'tzname', 'tzset']\n",
            "1700622103.1678433\n",
            "11/22/23\n",
            "Wed Nov 22 03:01:43 2023\n"
          ]
        }
      ]
    },
    {
      "cell_type": "code",
      "source": [
        "import time\n",
        "\n",
        "for i in range(5):\n",
        "  print(i)\n",
        "  time.sleep(1) # 처리결과에 대기상태를 줌. time.sleep(sec)"
      ],
      "metadata": {
        "colab": {
          "base_uri": "https://localhost:8080/"
        },
        "id": "Ez1fHXjW_IS2",
        "outputId": "45729e8c-f73c-4797-f615-aec52ce68723"
      },
      "execution_count": 27,
      "outputs": [
        {
          "output_type": "stream",
          "name": "stdout",
          "text": [
            "0\n",
            "1\n",
            "2\n",
            "3\n",
            "4\n"
          ]
        }
      ]
    },
    {
      "cell_type": "code",
      "source": [
        "import math\n",
        "\n",
        "print(dir(math))\n",
        "print(math.gcd(60, 100 ,80)) # 최대공약수 (greatest common divisor)\n",
        "print(math.lcm(60, 100, 80)) # 최소공배수 (least common multiple)"
      ],
      "metadata": {
        "colab": {
          "base_uri": "https://localhost:8080/"
        },
        "id": "XdFz1kPE_nC_",
        "outputId": "14f6a6be-7624-49c2-eb35-7a996aa1be50"
      },
      "execution_count": 30,
      "outputs": [
        {
          "output_type": "stream",
          "name": "stdout",
          "text": [
            "['__doc__', '__loader__', '__name__', '__package__', '__spec__', 'acos', 'acosh', 'asin', 'asinh', 'atan', 'atan2', 'atanh', 'ceil', 'comb', 'copysign', 'cos', 'cosh', 'degrees', 'dist', 'e', 'erf', 'erfc', 'exp', 'expm1', 'fabs', 'factorial', 'floor', 'fmod', 'frexp', 'fsum', 'gamma', 'gcd', 'hypot', 'inf', 'isclose', 'isfinite', 'isinf', 'isnan', 'isqrt', 'lcm', 'ldexp', 'lgamma', 'log', 'log10', 'log1p', 'log2', 'modf', 'nan', 'nextafter', 'perm', 'pi', 'pow', 'prod', 'radians', 'remainder', 'sin', 'sinh', 'sqrt', 'tan', 'tanh', 'tau', 'trunc', 'ulp']\n",
            "20\n",
            "1200\n"
          ]
        }
      ]
    },
    {
      "cell_type": "code",
      "source": [
        "import random\n",
        "\n",
        "print(dir(random))\n",
        "\n",
        "print(random.random()) # 0에서부터 1미만의 난수 표기 [0, 1)\n",
        "print(random.randint(1, 10)) # 1부터 10이하의 난수 표기 including both end points [1. 10]\n",
        "\n",
        "data = [10,20,30,40,50]\n",
        "print(random.choice(data)) # data의 값 중 하나의 임의의 값 표기\n",
        "print(random.sample(data, 3)) # data의 값 중 정해진 개수만큼 임의의 값 표기\n"
      ],
      "metadata": {
        "colab": {
          "base_uri": "https://localhost:8080/"
        },
        "id": "2Yurl8K9AevT",
        "outputId": "34539726-1582-4743-b3da-1b698a11b7cf"
      },
      "execution_count": 49,
      "outputs": [
        {
          "output_type": "stream",
          "name": "stdout",
          "text": [
            "['BPF', 'LOG4', 'NV_MAGICCONST', 'RECIP_BPF', 'Random', 'SG_MAGICCONST', 'SystemRandom', 'TWOPI', '_ONE', '_Sequence', '_Set', '__all__', '__builtins__', '__cached__', '__doc__', '__file__', '__loader__', '__name__', '__package__', '__spec__', '_accumulate', '_acos', '_bisect', '_ceil', '_cos', '_e', '_exp', '_floor', '_index', '_inst', '_isfinite', '_log', '_os', '_pi', '_random', '_repeat', '_sha512', '_sin', '_sqrt', '_test', '_test_generator', '_urandom', '_warn', 'betavariate', 'choice', 'choices', 'expovariate', 'gammavariate', 'gauss', 'getrandbits', 'getstate', 'lognormvariate', 'normalvariate', 'paretovariate', 'randbytes', 'randint', 'random', 'randrange', 'sample', 'seed', 'setstate', 'shuffle', 'triangular', 'uniform', 'vonmisesvariate', 'weibullvariate']\n",
            "0.6237256520655301\n",
            "2\n",
            "10\n",
            "[50, 40, 10]\n"
          ]
        }
      ]
    },
    {
      "cell_type": "code",
      "source": [
        "import itertools\n",
        "\n",
        "print(dir(itertools))\n",
        "\n",
        "students = ['호날두', '메시', '야야투레', '제라드', '김병지']\n",
        "snacks = ['사탕', '초콜릿', '젤리']\n",
        "\n",
        "# zip과 zip_longest\n",
        "# 객체들을 묶어준다.\n",
        "# zip은 짧은 객체만큼만 묶어준다.\n",
        "# zip_longest는 긴 객체의 길이만큼 묶어준다. (객체가 안맞으면 None으로 맞춰줌.)\n",
        "# -> fillvalue를 이용해서 짧은 객체에 모자란 값을 지정해줄 수 있다.\n",
        "\n",
        "\n",
        "for i in zip(students, snacks):\n",
        "  print(i)\n",
        "\n",
        "result = itertools.zip_longest(students, snacks)\n",
        "print(result)\n",
        "print(list(result))\n",
        "\n",
        "result = itertools.zip_longest(students, snacks, fillvalue='새우깡')\n",
        "print(result)\n",
        "print(list(result))\n",
        "\n",
        "print(list(itertools.permutations([1,2,3], 2)))\n",
        "\n",
        "print(list(itertools.combinations([1,2,3], 2)))"
      ],
      "metadata": {
        "colab": {
          "base_uri": "https://localhost:8080/"
        },
        "id": "-807BW7SGC09",
        "outputId": "b9b8d6bd-fd15-4bd9-fe64-2565c382bb9d"
      },
      "execution_count": 63,
      "outputs": [
        {
          "output_type": "stream",
          "name": "stdout",
          "text": [
            "['__doc__', '__loader__', '__name__', '__package__', '__spec__', '_grouper', '_tee', '_tee_dataobject', 'accumulate', 'chain', 'combinations', 'combinations_with_replacement', 'compress', 'count', 'cycle', 'dropwhile', 'filterfalse', 'groupby', 'islice', 'pairwise', 'permutations', 'product', 'repeat', 'starmap', 'takewhile', 'tee', 'zip_longest']\n",
            "('호날두', '사탕')\n",
            "('메시', '초콜릿')\n",
            "('야야투레', '젤리')\n",
            "<itertools.zip_longest object at 0x79e08796db70>\n",
            "[('호날두', '사탕'), ('메시', '초콜릿'), ('야야투레', '젤리'), ('제라드', None), ('김병지', None)]\n",
            "<itertools.zip_longest object at 0x79e0879ad3f0>\n",
            "[('호날두', '사탕'), ('메시', '초콜릿'), ('야야투레', '젤리'), ('제라드', '새우깡'), ('김병지', '새우깡')]\n",
            "[(1, 2), (1, 3), (2, 1), (2, 3), (3, 1), (3, 2)]\n",
            "[(1, 2), (1, 3), (2, 3)]\n"
          ]
        }
      ]
    },
    {
      "cell_type": "code",
      "source": [
        "import functools\n",
        "\n",
        "print(dir(functools))\n",
        "data = [1, 2, 3, 4, 5]\n",
        "print(functools.reduce(lambda x, y : x + y, data))"
      ],
      "metadata": {
        "colab": {
          "base_uri": "https://localhost:8080/"
        },
        "id": "Bh-7mxiEIQfG",
        "outputId": "d19fa54b-ed35-4737-bf5c-12f68b7a8429"
      },
      "execution_count": 67,
      "outputs": [
        {
          "output_type": "stream",
          "name": "stdout",
          "text": [
            "['GenericAlias', 'RLock', 'WRAPPER_ASSIGNMENTS', 'WRAPPER_UPDATES', '_CacheInfo', '_HashedSeq', '_NOT_FOUND', '__all__', '__builtins__', '__cached__', '__doc__', '__file__', '__loader__', '__name__', '__package__', '__spec__', '_c3_merge', '_c3_mro', '_compose_mro', '_convert', '_find_impl', '_ge_from_gt', '_ge_from_le', '_ge_from_lt', '_gt_from_ge', '_gt_from_le', '_gt_from_lt', '_initial_missing', '_le_from_ge', '_le_from_gt', '_le_from_lt', '_lru_cache_wrapper', '_lt_from_ge', '_lt_from_gt', '_lt_from_le', '_make_key', '_unwrap_partial', 'cache', 'cached_property', 'cmp_to_key', 'get_cache_token', 'lru_cache', 'namedtuple', 'partial', 'partialmethod', 'recursive_repr', 'reduce', 'singledispatch', 'singledispatchmethod', 'total_ordering', 'update_wrapper', 'wraps']\n",
            "15\n"
          ]
        }
      ]
    },
    {
      "cell_type": "code",
      "source": [
        "from operator import itemgetter\n",
        "\n",
        "print(dir(itemgetter))\n",
        "\n",
        "students = [('jane', 22, 'A'), ('dave', 32, 'C'), ('sally', 17, 'B')]\n",
        "result = sorted(students) # 2번째 자리에 key속성을 지정하지 않으면 앞에 값으로 오름차순으로 정렬이 된다.\n",
        "print(result)\n",
        "\n",
        "result = sorted(students, key = itemgetter(2)) # index값을 기준으로 오름차순으로 정렬이 된다.\n",
        "print(result)\n",
        "\n",
        "# reverse = False : default value\n",
        "result = sorted(students, key = itemgetter(2), reverse = True) # 내림차순으로 정렬이 된다.\n",
        "print(result)"
      ],
      "metadata": {
        "colab": {
          "base_uri": "https://localhost:8080/"
        },
        "id": "mqqX0lmlJ-_W",
        "outputId": "b8a0c437-f259-4762-dd21-608cd09481fc"
      },
      "execution_count": 85,
      "outputs": [
        {
          "output_type": "stream",
          "name": "stdout",
          "text": [
            "['__call__', '__class__', '__delattr__', '__dir__', '__doc__', '__eq__', '__format__', '__ge__', '__getattribute__', '__gt__', '__hash__', '__init__', '__init_subclass__', '__le__', '__lt__', '__module__', '__ne__', '__new__', '__reduce__', '__reduce_ex__', '__repr__', '__setattr__', '__sizeof__', '__str__', '__subclasshook__']\n",
            "[('dave', 32, 'C'), ('jane', 22, 'A'), ('sally', 17, 'B')]\n",
            "[('jane', 22, 'A'), ('sally', 17, 'B'), ('dave', 32, 'C')]\n",
            "[('dave', 32, 'C'), ('sally', 17, 'B'), ('jane', 22, 'A')]\n"
          ]
        }
      ]
    },
    {
      "cell_type": "markdown",
      "source": [
        "## json\n",
        "- dumps와 loads\n",
        "  - dumps(data) : dict(list, tuple...) -> str\n",
        "  - loads(data) :  str -> dict(list, tuple...)\n",
        "- dump와 load\n",
        "  - dump(data, file) : dict(list, tuple...) -> file\n",
        "  - load(file) : file -> dict(list, tuple...)"
      ],
      "metadata": {
        "id": "YP1JnGyajny-"
      }
    },
    {
      "cell_type": "code",
      "source": [
        "# https://www.json.org/json-ko.html\n",
        "\n",
        "import json\n",
        "\n",
        "print(dir(json))\n",
        "\n",
        "d = {'name':'호날두', 'birth':'0525', 'age':30} # dict\n",
        "json_data = json.dumps(d) #dict -> str\n",
        "print(type(json_data)) # str\n",
        "print(json_data)\n",
        "\n",
        "n = json.loads(json_data) # str -> dict\n",
        "print(type(n)) # dict\n",
        "print(n)\n",
        "\n",
        "\n",
        "m = [10, 20, 30, 40, 50] # list\n",
        "json_m = json.dumps(m) # list -> str\n",
        "print(type(json_m)) # str\n",
        "print(json_m)\n",
        "\n",
        "ml = json.loads(json_m) # str -> list\n",
        "print(type(ml)) # list\n",
        "print(ml)"
      ],
      "metadata": {
        "colab": {
          "base_uri": "https://localhost:8080/"
        },
        "id": "ihaXNlfFMTWx",
        "outputId": "1e2f741d-1fa8-4d2d-ad5f-30b7cdddb8ac"
      },
      "execution_count": 102,
      "outputs": [
        {
          "output_type": "stream",
          "name": "stdout",
          "text": [
            "['JSONDecodeError', 'JSONDecoder', 'JSONEncoder', '__all__', '__author__', '__builtins__', '__cached__', '__doc__', '__file__', '__loader__', '__name__', '__package__', '__path__', '__spec__', '__version__', '_default_decoder', '_default_encoder', 'codecs', 'decoder', 'detect_encoding', 'dump', 'dumps', 'encoder', 'load', 'loads', 'scanner']\n",
            "<class 'str'>\n",
            "{\"name\": \"\\ud638\\ub0a0\\ub450\", \"birth\": \"0525\", \"age\": 30}\n",
            "<class 'dict'>\n",
            "{'name': '호날두', 'birth': '0525', 'age': 30}\n",
            "<class 'str'>\n",
            "[10, 20, 30, 40, 50]\n",
            "<class 'list'>\n",
            "[10, 20, 30, 40, 50]\n"
          ]
        }
      ]
    },
    {
      "cell_type": "code",
      "source": [
        "from google.colab import drive\n",
        "drive.mount('/content/drive')"
      ],
      "metadata": {
        "colab": {
          "base_uri": "https://localhost:8080/"
        },
        "id": "1PZyyhBxhjJB",
        "outputId": "8f871967-80a6-4ee1-d4ec-726532236054"
      },
      "execution_count": 103,
      "outputs": [
        {
          "output_type": "stream",
          "name": "stdout",
          "text": [
            "Mounted at /content/drive\n"
          ]
        }
      ]
    },
    {
      "cell_type": "code",
      "source": [
        "%cd /content/drive/My Drive/ai_chat_python"
      ],
      "metadata": {
        "colab": {
          "base_uri": "https://localhost:8080/"
        },
        "id": "oOkonfUYhqYD",
        "outputId": "81bcd12d-324d-470d-d77d-c163da1e9967"
      },
      "execution_count": 104,
      "outputs": [
        {
          "output_type": "stream",
          "name": "stdout",
          "text": [
            "/content/drive/My Drive/ai_chat_python\n"
          ]
        }
      ]
    },
    {
      "cell_type": "code",
      "source": [
        "import json\n",
        "\n",
        "d = {'name':'호날두', 'birth':'0525', 'age':30} # dict\n",
        "m = [10, 20, 30, 40, 50]\n",
        "with open('./source/jsondata.json','w') as f:\n",
        "# json_data = json.dump(d, f) # dict -> file에 저장\n",
        "  json_data = json.dump(m, f) # list -> file에 저장\n",
        "\n",
        "\n",
        "with open('./source/jsondata.json', 'r') as f:\n",
        "  k = json.load(f) # file -> dict(list) 로 읽어옴\n",
        "  print(k)\n",
        "  print(type(k))"
      ],
      "metadata": {
        "colab": {
          "base_uri": "https://localhost:8080/"
        },
        "id": "sN63AWW6iCvd",
        "outputId": "c9aa68de-5b93-4003-d43d-a13aa6680bbe"
      },
      "execution_count": 109,
      "outputs": [
        {
          "output_type": "stream",
          "name": "stdout",
          "text": [
            "[10, 20, 30, 40, 50]\n",
            "<class 'list'>\n"
          ]
        }
      ]
    }
  ]
}