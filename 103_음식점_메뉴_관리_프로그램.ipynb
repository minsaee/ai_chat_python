{
  "nbformat": 4,
  "nbformat_minor": 0,
  "metadata": {
    "colab": {
      "provenance": [],
      "authorship_tag": "ABX9TyOlHnOLos1/PyrtUmk1ZWbd",
      "include_colab_link": true
    },
    "kernelspec": {
      "name": "python3",
      "display_name": "Python 3"
    },
    "language_info": {
      "name": "python"
    }
  },
  "cells": [
    {
      "cell_type": "markdown",
      "metadata": {
        "id": "view-in-github",
        "colab_type": "text"
      },
      "source": [
        "<a href=\"https://colab.research.google.com/github/minsaee/ai_chat_python/blob/master/103_%EC%9D%8C%EC%8B%9D%EC%A0%90_%EB%A9%94%EB%89%B4_%EA%B4%80%EB%A6%AC_%ED%94%84%EB%A1%9C%EA%B7%B8%EB%9E%A8.ipynb\" target=\"_parent\"><img src=\"https://colab.research.google.com/assets/colab-badge.svg\" alt=\"Open In Colab\"/></a>"
      ]
    },
    {
      "cell_type": "code",
      "execution_count": 1,
      "metadata": {
        "colab": {
          "base_uri": "https://localhost:8080/"
        },
        "id": "wCgI1zDbLXMY",
        "outputId": "d680033b-b701-4aeb-c396-f1aa2cdf7650"
      },
      "outputs": [
        {
          "output_type": "stream",
          "name": "stdout",
          "text": [
            "\n",
            "======음식점 메뉴 관리 프로그램======\n",
            "1. 신규 메뉴 등록\n",
            "2. 메뉴판 전체 보기\n",
            "3. 프로그램 종료\n",
            "> 1\n",
            "메뉴명: 3\n",
            "가격: 3\n",
            "신규 메뉴 3(이)가 등록되었습니다.\n",
            "{'3': '3'}\n",
            "\n",
            "======음식점 메뉴 관리 프로그램======\n",
            "1. 신규 메뉴 등록\n",
            "2. 메뉴판 전체 보기\n",
            "3. 프로그램 종료\n",
            "> 2\n",
            "\n",
            "==========메뉴판==========\n",
            "3 : 3원\n",
            "----------------------------------\n",
            "1. 수정 | 2. 삭제 | 3. 나가기\n",
            "> 2\n",
            "삭제할 메뉴의 이름을 입력하세요: 3\n",
            "3이(가) 삭제되었습니다.\n",
            "\n",
            "======음식점 메뉴 관리 프로그램======\n",
            "1. 신규 메뉴 등록\n",
            "2. 메뉴판 전체 보기\n",
            "3. 프로그램 종료\n",
            "> 2\n",
            "\n",
            "==========메뉴판==========\n",
            "----------------------------------\n",
            "1. 수정 | 2. 삭제 | 3. 나가기\n",
            "> 3\n",
            "\n",
            "======음식점 메뉴 관리 프로그램======\n",
            "1. 신규 메뉴 등록\n",
            "2. 메뉴판 전체 보기\n",
            "3. 프로그램 종료\n",
            "> 3\n",
            "프로그램을 종료합니다.\n"
          ]
        }
      ],
      "source": [
        "foods = {}\n",
        "\n",
        "while True:\n",
        "    print(\"\\n======음식점 메뉴 관리 프로그램======\")\n",
        "    print(\"1. 신규 메뉴 등록\")\n",
        "    print(\"2. 메뉴판 전체 보기\")\n",
        "    print(\"3. 프로그램 종료\")\n",
        "    num = int(input(\"> \"))\n",
        "\n",
        "    if num == 1:\n",
        "        # 1. 메뉴명을 입력받아 해당메뉴가 사전에 키로 존재한다면\n",
        "        #    \"이미 등록된 메뉴입니다\"를 출력하세요\n",
        "        # 2. 사전에 존재하지 않는 메뉴(key)라면 가격을 입력받아\n",
        "        #    key:value쌍으로 맵핑하여 사전에 저장하세요.\n",
        "        f_name = input(\"메뉴명: \")\n",
        "\n",
        "        if f_name not in foods:\n",
        "            price = input(\"가격: \")\n",
        "            foods[f_name] = price\n",
        "            print(\"신규 메뉴 %s(이)가 등록되었습니다.\" % f_name)\n",
        "        else:\n",
        "            print(\"이미 등록된 메뉴입니다.\")\n",
        "\n",
        "        print(foods)\n",
        "\n",
        "    elif num == 2:\n",
        "        # 1. 모든 키를 뽑아내서 리스트로 만드세요.\n",
        "        # 2. 해당 리스트를 반복문으로 순회하여 메뉴와 가격을 출력하세요.\n",
        "        #  ex) 출력 예시: \"김치찌개 : 7000원\"\n",
        "        menulist = foods.keys()\n",
        "\n",
        "        print(\"\\n==========메뉴판==========\")\n",
        "        for m in menulist:\n",
        "            print(\"%s : %s원\" % (m, foods[m]))\n",
        "        print(\"----------------------------------\")\n",
        "        print(\"1. 수정 | 2. 삭제 | 3. 나가기\")\n",
        "        select = int(input(\"> \"))\n",
        "\n",
        "        if select == 1:\n",
        "            name = input(\"가격을 변경할 메뉴의 이름을 입력하세요: \")\n",
        "\n",
        "            # 사전에 해당 메뉴가 존재하는지 확인\n",
        "            if name in foods:\n",
        "                newprice = input(\"변경할 가격 입력: \")\n",
        "                # 해당 메뉴이름의 가격 데이터 newprice로 수정\n",
        "                foods[name] = newprice\n",
        "                print(\"%s의 가격이 %s원으로 변경되었습니다.\" % (name, newprice))\n",
        "            else :\n",
        "                print(\"%s(은)는 등록된 메뉴가 아닙니다.\" % name)\n",
        "        elif select == 2:\n",
        "            name = input(\"삭제할 메뉴의 이름을 입력하세요: \")\n",
        "\n",
        "            # 사전에 해당 메뉴가 존재하는지 확인\n",
        "            if name in foods:\n",
        "                # 해당 메뉴 데이터 삭제\n",
        "                del(foods[name])\n",
        "                print(\"%s이(가) 삭제되었습니다.\" % name)\n",
        "            else:\n",
        "                print(\"%s(은)는 등록된 메뉴가 아닙니다.\" % name)\n",
        "        elif select == 3:\n",
        "            continue\n",
        "\n",
        "    elif num == 3:\n",
        "        print(\"프로그램을 종료합니다.\")\n",
        "        break"
      ]
    }
  ]
}