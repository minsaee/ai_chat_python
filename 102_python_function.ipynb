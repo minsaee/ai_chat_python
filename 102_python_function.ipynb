{
  "nbformat": 4,
  "nbformat_minor": 0,
  "metadata": {
    "colab": {
      "provenance": [],
      "authorship_tag": "ABX9TyONq2mzNp+LP/HW8a6YxRAg",
      "include_colab_link": true
    },
    "kernelspec": {
      "name": "python3",
      "display_name": "Python 3"
    },
    "language_info": {
      "name": "python"
    }
  },
  "cells": [
    {
      "cell_type": "markdown",
      "metadata": {
        "id": "view-in-github",
        "colab_type": "text"
      },
      "source": [
        "<a href=\"https://colab.research.google.com/github/minsaee/python_demo/blob/master/102_python_function.ipynb\" target=\"_parent\"><img src=\"https://colab.research.google.com/assets/colab-badge.svg\" alt=\"Open In Colab\"/></a>"
      ]
    },
    {
      "cell_type": "markdown",
      "source": [
        "## 함수(function)\n",
        "- 함수: 특정 목적을 가진 코드의 집합이며 독립적으로 호출도리 수 있는 기능이다.\n",
        "- 함수이름\n",
        "  - 인자 (parameter)\n",
        "    - 정의 할 때\n",
        "  - 인수 (argument)\n",
        "    - 호출 할 때\n",
        "\n",
        "- 함수 구조\n",
        "```\n",
        "   def 함수이름(parameter_1, prameter_2):\n",
        "        수행할 문장\n",
        "        return 결과값\n",
        "```\n",
        "\n",
        "- 함수 호출\n",
        "```\n",
        "   함수이름(argument_1,argumnet_2)\n",
        "```"
      ],
      "metadata": {
        "id": "Ce-QSVLpqzdB"
      }
    },
    {
      "cell_type": "code",
      "source": [
        "# 함수를 정의할 때 수행할 문장을 구현하지 않으면 error\n",
        "def proc():\n",
        "  pass # 수행할 문장을 생략할 때 사용"
      ],
      "metadata": {
        "id": "e_Smh-egsVGc"
      },
      "execution_count": 2,
      "outputs": []
    },
    {
      "cell_type": "code",
      "source": [
        "print(proc()) # 함수 실행결과를 반환한다.\n",
        "proc()"
      ],
      "metadata": {
        "colab": {
          "base_uri": "https://localhost:8080/"
        },
        "id": "RgF07t4csmZR",
        "outputId": "6626100b-4a72-4235-e659-e77aefde4db6"
      },
      "execution_count": 7,
      "outputs": [
        {
          "output_type": "stream",
          "name": "stdout",
          "text": [
            "None\n"
          ]
        }
      ]
    },
    {
      "cell_type": "code",
      "source": [
        "print(proc) # 함수식을 반환한다.\n",
        "proc"
      ],
      "metadata": {
        "colab": {
          "base_uri": "https://localhost:8080/"
        },
        "id": "lLf5BI9xtHIJ",
        "outputId": "c556c5eb-842a-417e-e6f3-8fcca1414fae"
      },
      "execution_count": 6,
      "outputs": [
        {
          "output_type": "stream",
          "name": "stdout",
          "text": [
            "<function proc at 0x79c4ea3c7490>\n"
          ]
        },
        {
          "output_type": "execute_result",
          "data": {
            "text/plain": [
              "<function __main__.proc()>"
            ]
          },
          "metadata": {},
          "execution_count": 6
        }
      ]
    },
    {
      "cell_type": "code",
      "source": [
        "# 함수는 변수에 저장할 수 있다.\n",
        "# 함수를 변수의 값으로 사용할 수 있다.\n",
        "a = proc\n",
        "print(a())\n",
        "\n",
        "a = proc()\n",
        "print(a)"
      ],
      "metadata": {
        "colab": {
          "base_uri": "https://localhost:8080/"
        },
        "id": "FYsOgVsNtnQL",
        "outputId": "aee35c8d-a9ec-400e-9ad8-1e166e9bb5db"
      },
      "execution_count": 14,
      "outputs": [
        {
          "output_type": "stream",
          "name": "stdout",
          "text": [
            "None\n",
            "None\n"
          ]
        }
      ]
    },
    {
      "cell_type": "markdown",
      "source": [
        "## callable\n",
        " - 이름 뒤에( )를 붙이는 것을 call(호출)이라고 한다.\n",
        " - 이름 뒤에( )를 붙일 수 있는 것을 callable이라고 한다.\n",
        " - 함수는 사용할 때 이름 뒤에 괄호를 붙인다.\n",
        " - python에서의 callable  \n",
        "  (1) function  \n",
        "  (2) class(init이 정의되었을 경우)  \n",
        "  (3) object(call이 정의되었을 경우)\n"
      ],
      "metadata": {
        "id": "NBLAHreJwXvJ"
      }
    },
    {
      "cell_type": "code",
      "source": [
        "k = 1\n",
        "# k() TypeError: 'int' object is not callable"
      ],
      "metadata": {
        "id": "k3-Q7IAnxOTr"
      },
      "execution_count": 16,
      "outputs": []
    },
    {
      "cell_type": "code",
      "source": [
        "#callable 함수는 built-in 함수\n",
        "callable(k) # ()붙일수 있는것과 없는것을 논리값으로 출력"
      ],
      "metadata": {
        "colab": {
          "base_uri": "https://localhost:8080/"
        },
        "id": "S6rlv0b_yK9O",
        "outputId": "95f7a91c-0238-43da-805a-ae97a15eefc0"
      },
      "execution_count": 24,
      "outputs": [
        {
          "output_type": "execute_result",
          "data": {
            "text/plain": [
              "False"
            ]
          },
          "metadata": {},
          "execution_count": 24
        }
      ]
    },
    {
      "cell_type": "code",
      "source": [
        "def prn():\n",
        "  return 1\n",
        "\n",
        "print(callable(prn))\n",
        "prn()"
      ],
      "metadata": {
        "colab": {
          "base_uri": "https://localhost:8080/"
        },
        "id": "THYafB-RxqU4",
        "outputId": "e4be6be8-4fe8-4438-cca4-0cb7f437b8f4"
      },
      "execution_count": 27,
      "outputs": [
        {
          "output_type": "stream",
          "name": "stdout",
          "text": [
            "True\n"
          ]
        },
        {
          "output_type": "execute_result",
          "data": {
            "text/plain": [
              "1"
            ]
          },
          "metadata": {},
          "execution_count": 27
        }
      ]
    },
    {
      "cell_type": "code",
      "source": [
        "# parameter(인자)와 리턴값이 있는 함수 정의\n",
        "# 리턴은 함수에서 하나만 있어야한다.\n",
        "\n",
        "def max(x,y):\n",
        "  if x >= y:\n",
        "    res = x\n",
        "  else:\n",
        "    res = y\n",
        "  return res\n",
        "\n",
        "max(111,1111)"
      ],
      "metadata": {
        "colab": {
          "base_uri": "https://localhost:8080/"
        },
        "id": "oYuUL0TByxD_",
        "outputId": "2592545d-c6ef-44ed-c591-6c0d9bf896bf"
      },
      "execution_count": 32,
      "outputs": [
        {
          "output_type": "execute_result",
          "data": {
            "text/plain": [
              "1111"
            ]
          },
          "metadata": {},
          "execution_count": 32
        }
      ]
    },
    {
      "cell_type": "code",
      "source": [
        "# 문법상 리턴값을 여러개 넣을 수 있는 경우\n",
        "# 조건 만족후 빠져나올때는 가능하다.\n",
        "\n",
        "\n",
        "def max(x,y):\n",
        "  if x >= y:\n",
        "    return x\n",
        "  else:\n",
        "    return y\n",
        "\n",
        "max(111,1111)"
      ],
      "metadata": {
        "colab": {
          "base_uri": "https://localhost:8080/"
        },
        "id": "zAyIj41uzpo_",
        "outputId": "641b6eb6-8e90-4c4e-a029-4d8f8337a502"
      },
      "execution_count": 37,
      "outputs": [
        {
          "output_type": "execute_result",
          "data": {
            "text/plain": [
              "1111"
            ]
          },
          "metadata": {},
          "execution_count": 37
        }
      ]
    },
    {
      "cell_type": "code",
      "source": [
        "# parameter(인자)가 있고 리턴값이 없는 함수 정의\n",
        "# 리턴값을 명시하지 않을 경우 None값이 출력됨.\n",
        "def max(x,y):\n",
        "  if x >= y:\n",
        "    print(x)\n",
        "  else:\n",
        "    print(y)\n",
        "\n",
        "print(max(111,1111))\n",
        "max(111,1111)"
      ],
      "metadata": {
        "colab": {
          "base_uri": "https://localhost:8080/"
        },
        "id": "t4fWBZFa0w-h",
        "outputId": "1561150c-2195-4a85-f860-2d3f13c47de8"
      },
      "execution_count": 51,
      "outputs": [
        {
          "output_type": "stream",
          "name": "stdout",
          "text": [
            "1111\n",
            "None\n",
            "1111\n"
          ]
        }
      ]
    },
    {
      "cell_type": "code",
      "source": [
        "# parameter(인자)와 리턴값이 없는 함수 정의\n",
        "\n",
        "def max():\n",
        "  x = 10\n",
        "  y = 5\n",
        "  if x >= y:\n",
        "    print(x)\n",
        "  else:\n",
        "    print(y)\n",
        "\n",
        "max()\n",
        "print(max())"
      ],
      "metadata": {
        "colab": {
          "base_uri": "https://localhost:8080/"
        },
        "id": "RaNnoiVD2vSd",
        "outputId": "4cd840bf-1cd7-4a94-81c4-42b2666ff7d3"
      },
      "execution_count": 59,
      "outputs": [
        {
          "output_type": "stream",
          "name": "stdout",
          "text": [
            "10\n",
            "10\n",
            "None\n"
          ]
        }
      ]
    },
    {
      "cell_type": "code",
      "source": [
        "# parameter(인자)가 없고 리턴값이 있는 함수 정의\n",
        "\n",
        "def max():\n",
        "  x = 10\n",
        "  y = 5\n",
        "  if x >= y:\n",
        "    res = x\n",
        "  else:\n",
        "    res = y\n",
        "  return res\n",
        "\n",
        "print(max())"
      ],
      "metadata": {
        "colab": {
          "base_uri": "https://localhost:8080/"
        },
        "id": "Zu-mTp5i2EKG",
        "outputId": "fb271951-e338-4836-899b-79f51add7f0a"
      },
      "execution_count": 58,
      "outputs": [
        {
          "output_type": "stream",
          "name": "stdout",
          "text": [
            "10\n"
          ]
        }
      ]
    },
    {
      "cell_type": "markdown",
      "source": [
        "## parameter와 argument\n",
        "1. positional\n",
        "2. keyword\n",
        "3. positional & keyword\n",
        "4. positional only\n",
        "5. keyword only\n",
        "6. 가변 positional\n",
        "7. 가변 keyword"
      ],
      "metadata": {
        "id": "CFQX9aPs3XyM"
      }
    },
    {
      "cell_type": "markdown",
      "source": [
        "1. positional\n",
        " - 함수 호출 : 선언할 때 parameter의 순서와 호출할 때 argument의 입력순서를 그대로 매칭한다."
      ],
      "metadata": {
        "id": "2uUoy2kF35x2"
      }
    },
    {
      "cell_type": "code",
      "source": [
        "def proc(a,b):\n",
        "  return a,b\n",
        "\n",
        "print(proc(2,4))\n",
        "proc(2,4)"
      ],
      "metadata": {
        "colab": {
          "base_uri": "https://localhost:8080/"
        },
        "id": "pDhf9EVC4I1t",
        "outputId": "d88b4582-64b5-47e5-aee0-291edc03cd31"
      },
      "execution_count": 67,
      "outputs": [
        {
          "output_type": "stream",
          "name": "stdout",
          "text": [
            "(2, 4)\n"
          ]
        },
        {
          "output_type": "execute_result",
          "data": {
            "text/plain": [
              "(2, 4)"
            ]
          },
          "metadata": {},
          "execution_count": 67
        }
      ]
    },
    {
      "cell_type": "markdown",
      "source": [
        "2. keyword\n",
        " - keyword 방식을 이용하면 순서와 상관없이 parameter의 이름에 따라 값이 대입된다."
      ],
      "metadata": {
        "id": "7c4YiMM9402v"
      }
    },
    {
      "cell_type": "code",
      "source": [
        "proc(b=4,a=2) # 호출값의 순서를 인자의 이름을 이용해서 정할 수 있다."
      ],
      "metadata": {
        "colab": {
          "base_uri": "https://localhost:8080/"
        },
        "id": "zwlEkSMX49MN",
        "outputId": "7ba0d188-a495-4060-90fc-76df7d1e4112"
      },
      "execution_count": 70,
      "outputs": [
        {
          "output_type": "execute_result",
          "data": {
            "text/plain": [
              "(2, 4)"
            ]
          },
          "metadata": {},
          "execution_count": 70
        }
      ]
    },
    {
      "cell_type": "markdown",
      "source": [
        "3. positional & keyword"
      ],
      "metadata": {
        "id": "Jm95C0uR5lXz"
      }
    },
    {
      "cell_type": "code",
      "source": [
        "def proc(a,b,c):\n",
        "  return a,b,c\n",
        "\n",
        "print(proc(5, c=3, b=2))\n",
        "proc (2, c=5, b=3)\n",
        "\n",
        "# 한번 keyword 방식을 사용하면, 그 다음부터는 keyword 방법만 사용할 수 있다.\n",
        "# positional값은 keyword 앞에만 올 수 있다.\n",
        "# proc(b=3, 2, c=5) # SyntaxError: positional argument follows keyword argument"
      ],
      "metadata": {
        "colab": {
          "base_uri": "https://localhost:8080/"
        },
        "id": "B6znpvg15r41",
        "outputId": "f25c740b-ea89-41c9-9c99-47f1e18fdae6"
      },
      "execution_count": 76,
      "outputs": [
        {
          "output_type": "stream",
          "name": "stdout",
          "text": [
            "(5, 2, 3)\n"
          ]
        },
        {
          "output_type": "execute_result",
          "data": {
            "text/plain": [
              "(2, 3, 5)"
            ]
          },
          "metadata": {},
          "execution_count": 76
        }
      ]
    },
    {
      "cell_type": "code",
      "source": [
        "# python 버전 확인\n",
        "!python -V"
      ],
      "metadata": {
        "colab": {
          "base_uri": "https://localhost:8080/"
        },
        "id": "4YL9M-e96j2N",
        "outputId": "74cbd2da-323d-42aa-bfb2-aa365c8e0fb3"
      },
      "execution_count": 79,
      "outputs": [
        {
          "output_type": "stream",
          "name": "stdout",
          "text": [
            "Python 3.10.12\n"
          ]
        }
      ]
    },
    {
      "cell_type": "markdown",
      "source": [
        "4. positional only\n",
        " - positional only는 함수를 사용할 때 positional방식으로만 parameter를 쓸 수 있도록 강제하는 방법이다.\n",
        " - / 의 앞에 오는 parameter들은 positional방식으로 입력할 수 있지만, keyword방식으로는 입력할 수 없다.\n",
        "  - Python 3.8 version부터 지원한다.\n",
        "  - 이전 버전에서는 사전 정의도니 positional only 함수는 있지만, 사용자가 만들 수는 없었다."
      ],
      "metadata": {
        "id": "KhegLuNL6ssL"
      }
    },
    {
      "cell_type": "code",
      "source": [
        "def proc(a, b, c, /):\n",
        "  return a, b, c\n",
        "\n",
        "print(proc(4,5,6))\n",
        "proc(4,5,6)\n",
        "#proc(4, c=6, b=5) #TypeError: proc() got some positional-only arguments passed as keyword arguments: 'b, c'"
      ],
      "metadata": {
        "colab": {
          "base_uri": "https://localhost:8080/"
        },
        "id": "a8uaYo1F61Bt",
        "outputId": "1490f326-4560-4809-b23f-1e678737853a"
      },
      "execution_count": 89,
      "outputs": [
        {
          "output_type": "stream",
          "name": "stdout",
          "text": [
            "(4, 5, 6)\n"
          ]
        },
        {
          "output_type": "execute_result",
          "data": {
            "text/plain": [
              "(4, 5, 6)"
            ]
          },
          "metadata": {},
          "execution_count": 89
        }
      ]
    },
    {
      "cell_type": "code",
      "source": [
        "# / 의 앞에 오는 parameter만 제한한다.\n",
        "def proc(a,b,/,c,d):\n",
        "  return a,b,c,d\n",
        "\n",
        "print(proc(4,5,d=6,c=7))\n",
        "print(proc(4,5,6,7))\n",
        "proc(4,5,6,7)"
      ],
      "metadata": {
        "colab": {
          "base_uri": "https://localhost:8080/"
        },
        "id": "VYh131uZ-2Vz",
        "outputId": "c66607f9-0925-4d8d-9273-9ab108dc01e6"
      },
      "execution_count": 102,
      "outputs": [
        {
          "output_type": "stream",
          "name": "stdout",
          "text": [
            "(4, 5, 7, 6)\n",
            "(4, 5, 6, 7)\n"
          ]
        },
        {
          "output_type": "execute_result",
          "data": {
            "text/plain": [
              "(4, 5, 6, 7)"
            ]
          },
          "metadata": {},
          "execution_count": 102
        }
      ]
    },
    {
      "cell_type": "markdown",
      "source": [
        "5. keyword only\n",
        " - keyword only방식은 keyword방식으로만 입력하도록 강제하는 방법이다.\n",
        " - '*' 이후로는 keyword 방식만 가능하다."
      ],
      "metadata": {
        "id": "Wy2O3wJz_Xlc"
      }
    },
    {
      "cell_type": "code",
      "source": [
        "def proc(*,a,b,c,d):\n",
        "  return a,b,c,d\n",
        "\n",
        "print(proc(a=3,c=4,d=5,b=6))\n",
        "proc(a=3,c=4,d=5,b=6)\n",
        "\n",
        "# proc(3,4,a=5,b=6)\n",
        "# TypeError: proc() takes 0 positional arguments but 2 positional arguments (and 2 keyword-only arguments) were given"
      ],
      "metadata": {
        "colab": {
          "base_uri": "https://localhost:8080/"
        },
        "id": "ZcFaxbwD_nQT",
        "outputId": "f8e331ed-03c7-4d1b-c794-279f4e748938"
      },
      "execution_count": 98,
      "outputs": [
        {
          "output_type": "stream",
          "name": "stdout",
          "text": [
            "(3, 6, 4, 5)\n"
          ]
        },
        {
          "output_type": "execute_result",
          "data": {
            "text/plain": [
              "(3, 6, 4, 5)"
            ]
          },
          "metadata": {},
          "execution_count": 98
        }
      ]
    },
    {
      "cell_type": "code",
      "source": [
        "# '*'의 앞에 오는 parameter는 제한하지 않는다.\n",
        "def proc(a,b,*,c,d):\n",
        "  return a,b,c,d\n",
        "\n",
        "print(proc(3,4,d=6,c=5))\n",
        "proc(3,4,d=6,c=5)"
      ],
      "metadata": {
        "colab": {
          "base_uri": "https://localhost:8080/"
        },
        "id": "j8BebJTHAOSr",
        "outputId": "2d97e00b-b15e-4533-b030-018fe5585cda"
      },
      "execution_count": 101,
      "outputs": [
        {
          "output_type": "stream",
          "name": "stdout",
          "text": [
            "(3, 4, 5, 6)\n"
          ]
        },
        {
          "output_type": "execute_result",
          "data": {
            "text/plain": [
              "(3, 4, 5, 6)"
            ]
          },
          "metadata": {},
          "execution_count": 101
        }
      ]
    },
    {
      "cell_type": "markdown",
      "source": [
        "6. 가변 positional\n",
        " - 가변 positional은 인자의 이름에 '*'를 붙인다.\n",
        " - positional 방식으로 입력한 인수의 개수에 상관없이 모두 받아온다.\n",
        " - 한 번만 사용할 수 있다."
      ],
      "metadata": {
        "id": "0IJ0z4bpAnrk"
      }
    },
    {
      "cell_type": "code",
      "source": [
        "def proc(*a):\n",
        "  print(type(a))\n",
        "  return a\n",
        "\n",
        "print(proc(1,2,3))"
      ],
      "metadata": {
        "colab": {
          "base_uri": "https://localhost:8080/"
        },
        "id": "ofd03H2GBL3E",
        "outputId": "031cdc83-7cfb-4fa1-a1a1-16e84f33930f"
      },
      "execution_count": 111,
      "outputs": [
        {
          "output_type": "stream",
          "name": "stdout",
          "text": [
            "<class 'tuple'>\n",
            "(1, 2, 3)\n"
          ]
        }
      ]
    },
    {
      "cell_type": "markdown",
      "source": [
        "7. 가변 keyword\n",
        " - 가변 keyword는 인자의 이름에 '**'를 붙인다.\n",
        " - keyword 방식으로 입력한 인수의 개수에 상관없이 모두 받아온다.\n",
        " - 한 번만 사용할 수 있다."
      ],
      "metadata": {
        "id": "ThQGwWYXCEVD"
      }
    },
    {
      "cell_type": "code",
      "source": [
        "def proc(**a):\n",
        "  print(type(a))\n",
        "  return a\n",
        "\n",
        "print(proc(x=2, y=3, z=[3+6]))"
      ],
      "metadata": {
        "colab": {
          "base_uri": "https://localhost:8080/"
        },
        "id": "rgig6ObwCQJL",
        "outputId": "c6b7eb7a-a50f-4674-c262-10d86778e67c"
      },
      "execution_count": 122,
      "outputs": [
        {
          "output_type": "stream",
          "name": "stdout",
          "text": [
            "<class 'dict'>\n",
            "{'x': 2, 'y': 3, 'z': [9]}\n"
          ]
        }
      ]
    },
    {
      "cell_type": "code",
      "source": [
        "# 두개의 값을 구하는 함수 만들기\n",
        "\n",
        "def plus(x,y):\n",
        "  result = x + y\n",
        "  return result\n",
        "\n",
        "print(plus(3,6))"
      ],
      "metadata": {
        "colab": {
          "base_uri": "https://localhost:8080/"
        },
        "id": "AZiFo4V9D94C",
        "outputId": "d5cb7d82-9977-49af-f9d9-39c928b036b8"
      },
      "execution_count": 125,
      "outputs": [
        {
          "output_type": "stream",
          "name": "stdout",
          "text": [
            "9\n"
          ]
        }
      ]
    },
    {
      "cell_type": "markdown",
      "source": [
        "## overloading\n",
        " - 함수의 이름은 같은데, parameter 개수 또는 parameter타입이 달라야 한다.\n",
        " - python은 overloading을 지원하지 않는다."
      ],
      "metadata": {
        "id": "4KJBf8BuFnuV"
      }
    },
    {
      "cell_type": "code",
      "source": [
        "def add(a):\n",
        "  return a + 1\n",
        "\n",
        "add(10)"
      ],
      "metadata": {
        "colab": {
          "base_uri": "https://localhost:8080/"
        },
        "id": "E_-G-V1rGByZ",
        "outputId": "825dd3f4-7bb5-495b-f3fc-4b431ec4e499"
      },
      "execution_count": 132,
      "outputs": [
        {
          "output_type": "execute_result",
          "data": {
            "text/plain": [
              "11"
            ]
          },
          "metadata": {},
          "execution_count": 132
        }
      ]
    },
    {
      "cell_type": "code",
      "source": [
        "def add(a, b):\n",
        "  return a + b\n",
        "\n",
        "add(3,5)"
      ],
      "metadata": {
        "colab": {
          "base_uri": "https://localhost:8080/"
        },
        "id": "nyTvPofXGJ46",
        "outputId": "fd15f4ab-a251-45e2-c67d-7a0b518cd8fa"
      },
      "execution_count": 133,
      "outputs": [
        {
          "output_type": "execute_result",
          "data": {
            "text/plain": [
              "8"
            ]
          },
          "metadata": {},
          "execution_count": 133
        }
      ]
    },
    {
      "cell_type": "code",
      "source": [
        "# add(3)\n",
        "# TypeError: add() missing 1 required positional argument: 'b'\n",
        "# 같은 이름의 식별자를 사용하면 이전 함수는 지워진다."
      ],
      "metadata": {
        "id": "8RRY8ohoGZWx"
      },
      "execution_count": 135,
      "outputs": []
    },
    {
      "cell_type": "code",
      "source": [
        "# 내장함수로 값 더하기\n",
        "\n",
        "sum([1,2,3])"
      ],
      "metadata": {
        "colab": {
          "base_uri": "https://localhost:8080/"
        },
        "id": "VyzHeRqvG2-X",
        "outputId": "1b993e49-bf45-405c-dc64-f7d3d61c71d6"
      },
      "execution_count": 140,
      "outputs": [
        {
          "output_type": "execute_result",
          "data": {
            "text/plain": [
              "6"
            ]
          },
          "metadata": {},
          "execution_count": 140
        }
      ]
    },
    {
      "cell_type": "code",
      "source": [
        "print(dir(add))"
      ],
      "metadata": {
        "colab": {
          "base_uri": "https://localhost:8080/"
        },
        "id": "L_KkECzQH0Ka",
        "outputId": "4f49eae2-422b-4190-d4fb-b5a9c01322dd"
      },
      "execution_count": 141,
      "outputs": [
        {
          "output_type": "stream",
          "name": "stdout",
          "text": [
            "['__annotations__', '__builtins__', '__call__', '__class__', '__closure__', '__code__', '__defaults__', '__delattr__', '__dict__', '__dir__', '__doc__', '__eq__', '__format__', '__ge__', '__get__', '__getattribute__', '__globals__', '__gt__', '__hash__', '__init__', '__init_subclass__', '__kwdefaults__', '__le__', '__lt__', '__module__', '__name__', '__ne__', '__new__', '__qualname__', '__reduce__', '__reduce_ex__', '__repr__', '__setattr__', '__sizeof__', '__str__', '__subclasshook__']\n"
          ]
        }
      ]
    },
    {
      "cell_type": "code",
      "source": [
        "# .__name__ 은 함수 이름을 출력해준다.\n",
        "print(add.__name__)\n",
        "\n",
        "# 함수에 다른 함수를 재할당하더라도 __name__은 원래 함수이름을 출력해준다.\n",
        "bdd = add\n",
        "print(type(bdd))\n",
        "bdd.__name__"
      ],
      "metadata": {
        "colab": {
          "base_uri": "https://localhost:8080/",
          "height": 72
        },
        "id": "uQEfLShlH7_3",
        "outputId": "c3c4ff97-186e-456e-bf36-728298f606b4"
      },
      "execution_count": 155,
      "outputs": [
        {
          "output_type": "stream",
          "name": "stdout",
          "text": [
            "add\n",
            "<class 'function'>\n"
          ]
        },
        {
          "output_type": "execute_result",
          "data": {
            "text/plain": [
              "'add'"
            ],
            "application/vnd.google.colaboratory.intrinsic+json": {
              "type": "string"
            }
          },
          "metadata": {},
          "execution_count": 155
        }
      ]
    },
    {
      "cell_type": "markdown",
      "source": [
        "정수 5개의 argument를 받는 함수를 정의해서 합계와 평균을 계산하는 프로그램을 구현하세요."
      ],
      "metadata": {
        "id": "7S9uFcmHISuT"
      }
    },
    {
      "cell_type": "code",
      "source": [
        "def exam(a, b, c, d, e):\n",
        "  hap = a+b+c+d+e\n",
        "  aver = hap/5\n",
        "  print('합계:{}'.format(hap))\n",
        "  print('평균:{}'.format(aver))\n",
        "\n",
        "exam(30,30,30,30,30)"
      ],
      "metadata": {
        "colab": {
          "base_uri": "https://localhost:8080/"
        },
        "id": "4XQPGJyKMces",
        "outputId": "ca90a98a-05c4-4093-8c28-de8b166b53fa"
      },
      "execution_count": 158,
      "outputs": [
        {
          "output_type": "stream",
          "name": "stdout",
          "text": [
            "합계:150\n",
            "평균:30.0\n"
          ]
        }
      ]
    },
    {
      "cell_type": "markdown",
      "source": [
        "str데이터 타입의 argumnet를 받는 display 함수를 정의하고 문자열의 개수를 리턴하는 프로그램을 구현하세요."
      ],
      "metadata": {
        "id": "nfIgAlaMMbUc"
      }
    },
    {
      "cell_type": "code",
      "source": [
        "def display(k):\n",
        "  return len(k)\n",
        "\n",
        "display('apple')"
      ],
      "metadata": {
        "colab": {
          "base_uri": "https://localhost:8080/"
        },
        "id": "VDbEI_NCMdIn",
        "outputId": "6cb7a2dd-d2ac-478c-aadf-d9ee793633bd"
      },
      "execution_count": 164,
      "outputs": [
        {
          "output_type": "execute_result",
          "data": {
            "text/plain": [
              "5"
            ]
          },
          "metadata": {},
          "execution_count": 164
        }
      ]
    },
    {
      "cell_type": "markdown",
      "source": [
        "str데이터 타입의 argument를 받는 display함수를 정의하고 특정 인덱스에 문자를 리턴하는 프로그램을 구현하세요.\n"
      ],
      "metadata": {
        "id": "0-vD3DH-N5SX"
      }
    },
    {
      "cell_type": "code",
      "source": [
        "# 찾는 문자가 없을 경우 : .index() -> 오류 발생 .find() -> -1을 리턴\n",
        "def display(f,i):\n",
        "  return f.index(i)\n",
        "\n",
        "# display('apple','f') # ValueError: substring not found\n",
        "\n",
        "def display(v,i):\n",
        "  return v.find(i)\n",
        "\n",
        "display('apple','f')"
      ],
      "metadata": {
        "colab": {
          "base_uri": "https://localhost:8080/"
        },
        "id": "CgVltslqOLV4",
        "outputId": "b625bedc-ac3e-4a41-86e6-acceaff22fda"
      },
      "execution_count": 169,
      "outputs": [
        {
          "output_type": "execute_result",
          "data": {
            "text/plain": [
              "-1"
            ]
          },
          "metadata": {},
          "execution_count": 169
        }
      ]
    },
    {
      "cell_type": "markdown",
      "source": [
        "특정년도의 윤년, 평년을 구해서 윤년이면 True, 평년이면 False로 리턴하는 프로그램을 구현하세요."
      ],
      "metadata": {
        "id": "vFRSWGQzPCJ6"
      }
    },
    {
      "cell_type": "code",
      "source": [
        "def isLeapYear(year):\n",
        "  if (year % 4 == 0 and year % 100 != 0) or year % 400 == 0 :\n",
        "    return True\n",
        "  else:\n",
        "    return False\n",
        "\n",
        "year = 2016\n",
        "if isLeapYear(year):\n",
        "  print('{}년도는 {}입니다.'.format(year, '윤년'))\n",
        "else :\n",
        "  print('{}년도는 {}입니다.'.format(year, '평년'))"
      ],
      "metadata": {
        "colab": {
          "base_uri": "https://localhost:8080/"
        },
        "id": "q8gecF3_PF7n",
        "outputId": "e7177105-e236-4c43-a77e-d19ef484271f"
      },
      "execution_count": 176,
      "outputs": [
        {
          "output_type": "stream",
          "name": "stdout",
          "text": [
            "2016년도는 윤년입니다.\n"
          ]
        }
      ]
    },
    {
      "cell_type": "code",
      "source": [
        "def resultYear(b):\n",
        "  if b :\n",
        "    print('{}년도는 {}입니다.'.format(year, '윤년'))\n",
        "  else:\n",
        "    print('{}년도는 {}입니다.'.format(year, '평년'))"
      ],
      "metadata": {
        "id": "V5xz8iSIQZpv"
      },
      "execution_count": 180,
      "outputs": []
    },
    {
      "cell_type": "code",
      "source": [
        "year = 2016\n",
        "checkYear = isLeapYear(year)\n",
        "resultYear(checkYear)"
      ],
      "metadata": {
        "colab": {
          "base_uri": "https://localhost:8080/"
        },
        "id": "adFVo-F-Q4Tl",
        "outputId": "f47d59d2-cd21-44ab-e23b-928d0767a90b"
      },
      "execution_count": 182,
      "outputs": [
        {
          "output_type": "stream",
          "name": "stdout",
          "text": [
            "2016년도는 윤년입니다.\n"
          ]
        }
      ]
    },
    {
      "cell_type": "code",
      "source": [
        "year = 2017\n",
        "checkYear = isLeapYear(year)\n",
        "resultYear(checkYear)"
      ],
      "metadata": {
        "colab": {
          "base_uri": "https://localhost:8080/"
        },
        "id": "4WdnWHfURcZz",
        "outputId": "aa321fe0-5107-44d7-ff7c-e839dafac210"
      },
      "execution_count": 183,
      "outputs": [
        {
          "output_type": "stream",
          "name": "stdout",
          "text": [
            "2017년도는 평년입니다.\n"
          ]
        }
      ]
    },
    {
      "cell_type": "markdown",
      "source": [
        "2개의 요소가 저장된 list데이터 타입의 reverse해서 결과를 리턴하는 함수를 구현하세요."
      ],
      "metadata": {
        "id": "RvPGylS8SHcW"
      }
    },
    {
      "cell_type": "code",
      "source": [
        "def swap(data):\n",
        "  a, b = data # unpacking\n",
        "  return [b,a] # list type\n",
        "  print(a,b)\n",
        "\n",
        "print(swap([1,3]))\n",
        "swap([1,3])\n"
      ],
      "metadata": {
        "colab": {
          "base_uri": "https://localhost:8080/"
        },
        "id": "EkZ-5HXlSUVu",
        "outputId": "b24533b3-6aa1-4c49-96af-2a59a83801ac"
      },
      "execution_count": 190,
      "outputs": [
        {
          "output_type": "stream",
          "name": "stdout",
          "text": [
            "[3, 1]\n"
          ]
        },
        {
          "output_type": "execute_result",
          "data": {
            "text/plain": [
              "[3, 1]"
            ]
          },
          "metadata": {},
          "execution_count": 190
        }
      ]
    },
    {
      "cell_type": "code",
      "source": [
        "def swap(data):\n",
        "  return reversed(data) # built-in\n",
        "\n",
        "list(swap([1,3]))\n",
        "\n",
        "# swap([1,3])\n",
        "# <list_reverseiterator at 0x79c4d4586a10>"
      ],
      "metadata": {
        "colab": {
          "base_uri": "https://localhost:8080/"
        },
        "id": "ABGpWS9uT6zQ",
        "outputId": "bff59cb3-89ac-4840-9f6b-4a16892bfa2d"
      },
      "execution_count": 194,
      "outputs": [
        {
          "output_type": "execute_result",
          "data": {
            "text/plain": [
              "[3, 1]"
            ]
          },
          "metadata": {},
          "execution_count": 194
        }
      ]
    },
    {
      "cell_type": "code",
      "source": [
        "for k in swap([1,3]):\n",
        "  print(k, end=' ')"
      ],
      "metadata": {
        "colab": {
          "base_uri": "https://localhost:8080/"
        },
        "id": "M8Iis1-NUJrS",
        "outputId": "936325f8-57db-40f0-ac5d-95f33d64e6be"
      },
      "execution_count": 195,
      "outputs": [
        {
          "output_type": "stream",
          "name": "stdout",
          "text": [
            "3 1 "
          ]
        }
      ]
    },
    {
      "cell_type": "code",
      "source": [
        "def swap(data):\n",
        "  data.reverse()\n",
        "  return data\n",
        "\n",
        "# def swap(data):\n",
        "#  return [ i for i in reversed(data)]\n",
        "\n",
        "\n",
        "swap([1,2,3,4,5])"
      ],
      "metadata": {
        "colab": {
          "base_uri": "https://localhost:8080/"
        },
        "id": "xaDjZ84YUvyK",
        "outputId": "4952fbf3-a68b-4038-c4a2-3368825951c4"
      },
      "execution_count": 201,
      "outputs": [
        {
          "output_type": "execute_result",
          "data": {
            "text/plain": [
              "[5, 4, 3, 2, 1]"
            ]
          },
          "metadata": {},
          "execution_count": 201
        }
      ]
    },
    {
      "cell_type": "code",
      "source": [
        "# 처리된 값이 변경 될 때 원래의 값이 변경 되지 않게 하는 경우\n",
        "# reversed() 내장함수 이용\n",
        "\n",
        "\n",
        "def swap(data):\n",
        " return [ i for i in reversed(data)]\n",
        "\n",
        "a = [1,3,4,5,6]\n",
        "print(swap(a))\n",
        "print('변경 후:',a)\n"
      ],
      "metadata": {
        "colab": {
          "base_uri": "https://localhost:8080/"
        },
        "id": "EyyWVjRjV-VP",
        "outputId": "54ab384e-07a7-4390-8b10-01e51e6dde23"
      },
      "execution_count": 212,
      "outputs": [
        {
          "output_type": "stream",
          "name": "stdout",
          "text": [
            "[6, 5, 4, 3, 1]\n",
            "변경 후: [1, 3, 4, 5, 6]\n"
          ]
        }
      ]
    },
    {
      "cell_type": "code",
      "source": [
        "# 처리된 값이 변경 될 때 원래의 값이 변경 되게 하는 경우\n",
        "# .reverse() 사용\n",
        "\n",
        "def swap(data):\n",
        "  data.reverse()\n",
        "  return data\n",
        "\n",
        "a = [1,3,4,5,6]\n",
        "print(swap(a))\n",
        "print('변경 후:',a)"
      ],
      "metadata": {
        "colab": {
          "base_uri": "https://localhost:8080/"
        },
        "id": "YYkoZr_bWSsN",
        "outputId": "e165575c-f198-4bc6-ee11-c92d939fb0ef"
      },
      "execution_count": 211,
      "outputs": [
        {
          "output_type": "stream",
          "name": "stdout",
          "text": [
            "[6, 5, 4, 3, 1]\n",
            "변경 후: [6, 5, 4, 3, 1]\n"
          ]
        }
      ]
    },
    {
      "cell_type": "markdown",
      "source": [
        "대문자는 소문자로, 소문자는 대문자로 나머지는 그대로해서 반환하는 프로그램을 구현하세요."
      ],
      "metadata": {
        "id": "shtQP33Booxx"
      }
    },
    {
      "cell_type": "code",
      "source": [
        "# ord(c)\n",
        "# Given a string representing one Unicode character, return an integer representing the Unicode code point of that character.\n",
        "# This is the inverse of chr().\n",
        "chr(97)\n",
        "ord('a')\n",
        "\n",
        "print(ord('a')-32)\n",
        "print(chr(65))"
      ],
      "metadata": {
        "colab": {
          "base_uri": "https://localhost:8080/"
        },
        "id": "8ZmAFliwrbTY",
        "outputId": "9e441779-b887-4240-c8f0-277816d9db8b"
      },
      "execution_count": 250,
      "outputs": [
        {
          "output_type": "stream",
          "name": "stdout",
          "text": [
            "65\n",
            "A\n"
          ]
        }
      ]
    },
    {
      "cell_type": "code",
      "source": [
        "print(int(True))\n",
        "print(int(False))"
      ],
      "metadata": {
        "colab": {
          "base_uri": "https://localhost:8080/"
        },
        "id": "plR80FUmvAj-",
        "outputId": "2893158e-965e-4b41-f26c-1f76ec721b58"
      },
      "execution_count": 257,
      "outputs": [
        {
          "output_type": "stream",
          "name": "stdout",
          "text": [
            "1\n",
            "0\n"
          ]
        }
      ]
    },
    {
      "cell_type": "code",
      "source": [
        "\n",
        "\n",
        "def process( arg ):\n",
        "  data = [] # 리스트를 지정\n",
        "  i = -1\n",
        "  while i < len(arg)-1:\n",
        "    i += 1 # 먼저 증가를 시켜야 함.\n",
        "    if type(arg[i]) != str:\n",
        "    #if (type(arg[i]) == bool) or (type(arg[i])==int):\n",
        "      data.append(arg[i])\n",
        "      continue\n",
        "\n",
        "    if arg[i] >= 'A' and arg[i] <= 'Z': # str()이 대문자일 경우로 한정.\n",
        "      data.append(chr(ord(arg[i]) + 32)) # 추가(문자(숫자[i] 계산))\n",
        "    elif arg[i] >='a' and arg[i] <= 'z':\n",
        "      data.append(chr(ord(arg[i]) - 32))\n",
        "    else:\n",
        "      data.append(arg[i])\n",
        "  return data\n",
        "\n",
        "print(process(['p','y','T',1,'_',True]))"
      ],
      "metadata": {
        "colab": {
          "base_uri": "https://localhost:8080/"
        },
        "id": "O2JDCfkbowsI",
        "outputId": "0a195689-b525-4b67-a773-f84ba8b08e7e"
      },
      "execution_count": 323,
      "outputs": [
        {
          "output_type": "stream",
          "name": "stdout",
          "text": [
            "['P', 'Y', 't', 1, '_', True]\n"
          ]
        }
      ]
    },
    {
      "cell_type": "code",
      "source": [
        "a = [1,2,3]\n",
        "for i in a:\n",
        "  if i%2==0:\n",
        "    continue\n",
        "  print(i)"
      ],
      "metadata": {
        "colab": {
          "base_uri": "https://localhost:8080/"
        },
        "id": "aJXB6iZw4Ltv",
        "outputId": "e7e3a347-81be-47a9-a6e3-cbbed904c9d6"
      },
      "execution_count": 292,
      "outputs": [
        {
          "output_type": "stream",
          "name": "stdout",
          "text": [
            "1\n",
            "3\n"
          ]
        }
      ]
    },
    {
      "cell_type": "code",
      "source": [
        "# 내부함수 이용하기\n",
        "# isupper upper islower lower\n",
        "\n",
        "def process( arg ):\n",
        "  data = []\n",
        "  i = -1\n",
        "  while i < len(arg)-1:\n",
        "    i += 1\n",
        "    if type(arg[i]) != str:\n",
        "      data.append(arg[i])\n",
        "      continue\n",
        "    if arg[i].isupper():\n",
        "      data.append(arg[i].lower())\n",
        "    elif arg[i].islower():\n",
        "      data.append(arg[i].upper())\n",
        "    else:\n",
        "      data.append(arg[i])\n",
        "  return data\n",
        "\n",
        "print(process(['a','A','_',2,False]))"
      ],
      "metadata": {
        "colab": {
          "base_uri": "https://localhost:8080/"
        },
        "id": "jXb-v7si8KZq",
        "outputId": "a62a1f55-3cc3-45ae-8d53-3e65bdd3fe48"
      },
      "execution_count": 321,
      "outputs": [
        {
          "output_type": "stream",
          "name": "stdout",
          "text": [
            "['A', 'a', '_', 2, False]\n"
          ]
        }
      ]
    },
    {
      "cell_type": "markdown",
      "source": [
        "데이터에서 'a'는' '_'로, 's'는 '@'로 변경해서 리턴하는 프로그램을 구현하세요."
      ],
      "metadata": {
        "id": "0M7_6383EahY"
      }
    },
    {
      "cell_type": "code",
      "source": [
        "def passToken(arg):\n",
        "  data = []\n",
        "  for item in arg:\n",
        "    if item == 'a':\n",
        "      data.append('_')\n",
        "    elif item == 's':\n",
        "      data.append('@')\n",
        "    else:\n",
        "      data.append(item)\n",
        "  return ''.join(data) # 컨테이너값(list나 tuple)을 str로 묶을 때\n",
        "\n",
        "passToken('address') # _ddre@@"
      ],
      "metadata": {
        "colab": {
          "base_uri": "https://localhost:8080/",
          "height": 35
        },
        "id": "4AxA-g8KIR-a",
        "outputId": "abc2afde-50fc-4d73-b6c2-713f1bd3e530"
      },
      "execution_count": 333,
      "outputs": [
        {
          "output_type": "execute_result",
          "data": {
            "text/plain": [
              "'_ddre@@'"
            ],
            "application/vnd.google.colaboratory.intrinsic+json": {
              "type": "string"
            }
          },
          "metadata": {},
          "execution_count": 333
        }
      ]
    },
    {
      "cell_type": "markdown",
      "source": [
        "python은 외부에서 함수내부로 접근할 수 없다."
      ],
      "metadata": {
        "id": "8RkwZtRtEimJ"
      }
    },
    {
      "cell_type": "code",
      "source": [
        "# 함수내부에 할당 되어 있는 변수는 외부로 호출할 수 없다.\n",
        "def proc():\n",
        "  z = 1"
      ],
      "metadata": {
        "id": "Vg5OEdl_Gx0N"
      },
      "execution_count": 336,
      "outputs": []
    },
    {
      "cell_type": "markdown",
      "source": [
        "함수내부에서 외부에 접근할 수 있다."
      ],
      "metadata": {
        "id": "ZZ9oTnVtI9i4"
      }
    },
    {
      "cell_type": "code",
      "source": [
        "c = 10 # 전역변수\n",
        "def display():\n",
        "  print(c)\n",
        "\n",
        "display()"
      ],
      "metadata": {
        "colab": {
          "base_uri": "https://localhost:8080/"
        },
        "id": "5R6axReGIqON",
        "outputId": "5e2115fa-65e6-497f-bc5e-551a9000d594"
      },
      "execution_count": 342,
      "outputs": [
        {
          "output_type": "stream",
          "name": "stdout",
          "text": [
            "10\n"
          ]
        }
      ]
    },
    {
      "cell_type": "code",
      "source": [
        "# 외부의 변수를 참조할 수 있지만, 변경은 할 수 없다.\n",
        "t = 3\n",
        "def prn():\n",
        "  t = t+1\n",
        "  print(t)\n",
        "\n",
        "# prn()\n",
        "# UnboundLocalError: local variable 't' referenced before assignment"
      ],
      "metadata": {
        "id": "z0BsBPALIzFq"
      },
      "execution_count": 345,
      "outputs": []
    },
    {
      "cell_type": "code",
      "source": [
        "t = 3\n",
        "def prn():\n",
        "  global t # 내부와 외부의 객체를 동기화(syns)시켜준다.\n",
        "           # 사용하기는 편하지만 흐름을 파악하기 힘들기 때문에 남용하지 않는다.\n",
        "  t = t+1\n",
        "  print(t)\n",
        "\n",
        "prn()\n",
        "print(t) # 외부의 자원도 변경이 되어서 출력 된다."
      ],
      "metadata": {
        "colab": {
          "base_uri": "https://localhost:8080/"
        },
        "id": "uDqzqwWSJz-w",
        "outputId": "1520e8d6-bb3a-4555-c007-b9ba72530d7c"
      },
      "execution_count": 350,
      "outputs": [
        {
          "output_type": "stream",
          "name": "stdout",
          "text": [
            "4\n",
            "4\n"
          ]
        }
      ]
    },
    {
      "cell_type": "code",
      "source": [
        "k = 1\n",
        "\n",
        "def outer():\n",
        "  m = 1\n",
        "  def inner():\n",
        "    global k\n",
        "    k = k + 1\n",
        "    nonlocal m # 외부 함수의 자원을 내부 함수에서 참조할 때는 nonlocal을 사용한다.\n",
        "    m = m + 1\n",
        "    return k, m\n",
        "  return inner()\n",
        "\n",
        "outer()\n"
      ],
      "metadata": {
        "colab": {
          "base_uri": "https://localhost:8080/"
        },
        "id": "Gw6rmjFpKvUr",
        "outputId": "9b676d24-9f87-4f88-d1d2-9a40721654d9"
      },
      "execution_count": 364,
      "outputs": [
        {
          "output_type": "execute_result",
          "data": {
            "text/plain": [
              "(2, 2)"
            ]
          },
          "metadata": {},
          "execution_count": 364
        }
      ]
    },
    {
      "cell_type": "markdown",
      "source": [
        "## lambda\n",
        " - python에서는 익명함수를 정의할 때 lambda키워드를 사용한다.\n",
        " - 간결하게 함수를 표현하거나 def를 정의할 수 없는 경우에 사용한다."
      ],
      "metadata": {
        "id": "FTAnWyuoM1XI"
      }
    },
    {
      "cell_type": "code",
      "source": [
        "def add(a,b):\n",
        "  return a + b\n",
        "\n",
        "\n",
        "add = lambda a, b : a+b\n",
        "add(3,4)"
      ],
      "metadata": {
        "colab": {
          "base_uri": "https://localhost:8080/"
        },
        "id": "wNMyqjuTMPBQ",
        "outputId": "1be27d31-1f8a-41c1-9181-419678d1aea2"
      },
      "execution_count": 374,
      "outputs": [
        {
          "output_type": "execute_result",
          "data": {
            "text/plain": [
              "7"
            ]
          },
          "metadata": {},
          "execution_count": 374
        }
      ]
    }
  ]
}