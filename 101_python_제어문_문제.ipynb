{
  "cells": [
    {
      "cell_type": "markdown",
      "metadata": {
        "id": "view-in-github",
        "colab_type": "text"
      },
      "source": [
        "<a href=\"https://colab.research.google.com/github/minsaee/python_demo/blob/master/101_python_%EC%A0%9C%EC%96%B4%EB%AC%B8_%EB%AC%B8%EC%A0%9C.ipynb\" target=\"_parent\"><img src=\"https://colab.research.google.com/assets/colab-badge.svg\" alt=\"Open In Colab\"/></a>"
      ]
    },
    {
      "cell_type": "markdown",
      "source": [
        "제어문이나 comprehension을 이용한 문제풀이\n"
      ],
      "metadata": {
        "id": "aVpqxYxswLir"
      }
    },
    {
      "cell_type": "markdown",
      "metadata": {
        "id": "438hfkOuVD93"
      },
      "source": [
        "[문제1]  \n",
        "리스트에 저장된 문자열 중에서 길이가 5인 것들만 리스트 형태로 출력하도록 구현하세요.  \n",
        "\n",
        "a= ['alpha', 'bravo', 'charlie', 'delta', 'echo', 'foxtrot', 'golf', 'hotel', 'india']  \n",
        "\n",
        "[출력결과]     \n",
        "['alpha', 'bravo', 'delta', 'hotel', 'india']"
      ]
    },
    {
      "cell_type": "code",
      "execution_count": 42,
      "metadata": {
        "id": "4ILZWoRGVFLN",
        "colab": {
          "base_uri": "https://localhost:8080/"
        },
        "outputId": "759aca07-da15-4383-e044-5cc456331eba"
      },
      "outputs": [
        {
          "output_type": "stream",
          "name": "stdout",
          "text": [
            "range(0, 9)\n",
            "True\n",
            "['alpha', 'bravo', 'delta', 'hotel', 'india']\n"
          ]
        }
      ],
      "source": [
        "# 길이가 5인 문자열 추출\n",
        "# 리스트형태로 출력\n",
        "\n",
        "a= ['alpha', 'bravo', 'charlie', 'delta', 'echo', 'foxtrot', 'golf', 'hotel', 'india']\n",
        "\n",
        "len_fi = []\n",
        "for len_five in range(len(a)):\n",
        "  if len(a[len_five]) == 5:\n",
        "    len_fi.append(a[len_five])\n",
        "print(len_fi)"
      ]
    },
    {
      "cell_type": "code",
      "source": [
        "a= ['alpha', 'bravo', 'charlie', 'delta', 'echo', 'foxtrot', 'golf', 'hotel', 'india']\n",
        "\n",
        "len_fi = [a[len_five] for len_five in range(len(a)) if len(a[len_five]) == 5]\n",
        "print((len_fi))"
      ],
      "metadata": {
        "colab": {
          "base_uri": "https://localhost:8080/"
        },
        "id": "8ZXNiOcKHuGj",
        "outputId": "1a0876f4-552f-42d5-9ffc-044889181bb5"
      },
      "execution_count": 18,
      "outputs": [
        {
          "output_type": "stream",
          "name": "stdout",
          "text": [
            "['alpha', 'bravo', 'delta', 'hotel', 'india']\n"
          ]
        }
      ]
    },
    {
      "cell_type": "markdown",
      "metadata": {
        "id": "mtUiaSGqWbGl"
      },
      "source": [
        "[문제2]    \n",
        "가로 크기를 저장한 리스트를 활용해서 가로 크기가 불규칙한  리스트를 생성하도록 프로그램을 구현하세요.\n",
        "\n",
        "a = [3, 1,3, 2, 5]  \n",
        "\n",
        "\n",
        "[출력결과]  \n",
        "[[0, 0, 0], [0], [0, 0, 0], [0, 0], [0, 0, 0, 0, 0]]\n"
      ]
    },
    {
      "cell_type": "code",
      "execution_count": 31,
      "metadata": {
        "id": "e5C8bcTHZtBg",
        "colab": {
          "base_uri": "https://localhost:8080/"
        },
        "outputId": "dd6b9ee4-47d1-45a4-9f22-0d2a7aa54a18"
      },
      "outputs": [
        {
          "output_type": "stream",
          "name": "stdout",
          "text": [
            "[[0, 0, 0], [0], [0, 0, 0], [0, 0], [0, 0, 0, 0, 0]]\n"
          ]
        }
      ],
      "source": [
        "# 가로크기를 저장한 리스트 활용\n",
        "# 가로크기가 불규칙한 리스트 생성\n",
        "\n",
        "a = [3, 1, 3, 2, 5]    # 가로 크기를 저장한 리스트\n",
        "b = []    # 빈 리스트 생성 > 바깥쪽 리스트\n",
        "\n",
        "for i in a:      # 가로 크기를 저장한 리스트로 반복\n",
        "    line = []    # 안쪽 리스트로 사용할 빈 리스트 생성\n",
        "    for j in range(i):    # 리스트 a에 저장된 가로 크기만큼 반복\n",
        "        line.append(0)\n",
        "    b.append(line)        # 리스트 b에 안쪽 리스트를 추가\n",
        "\n",
        "print(b)"
      ]
    },
    {
      "cell_type": "code",
      "source": [
        "a = [3, 1, 3, 2, 5]\n",
        "line = []\n",
        "b = [line.append(0) for i in a for j in range(i)]\n",
        "print(b)"
      ],
      "metadata": {
        "colab": {
          "base_uri": "https://localhost:8080/"
        },
        "id": "RhEgTuFZIxZk",
        "outputId": "ef37ee01-758b-4a61-effc-33370d732ef7"
      },
      "execution_count": 38,
      "outputs": [
        {
          "output_type": "stream",
          "name": "stdout",
          "text": [
            "[None, None, None, None, None, None, None, None, None, None, None, None, None, None]\n"
          ]
        }
      ]
    },
    {
      "cell_type": "markdown",
      "metadata": {
        "id": "2F8ZK_7gaxW6"
      },
      "source": [
        "[문제3]    \n",
        "포트폴리오의 총 비용을 계산하는 프로그램을 구현하세요.   \n",
        "\n",
        "portfolio = [{'name':'AA', 'shares':100, 'price':32.20},   \n",
        "{'name':'IBM', 'shares':50, 'price':91.10},    \n",
        "{'name':'CAT', 'shares':150, 'price':83.44},  \n",
        "{'name':'MSFT', 'shares':200, 'price':51.23},  \n",
        "{'name':'GE', 'shares':95, 'price':40.37},  \n",
        "{'name':'MSFT', 'shares':50, 'price':65.10},  \n",
        "{'name':'IBM', 'shares':100, 'price':70.44} ]       \n",
        "\n",
        "[출력결과]  \n",
        "44671.15"
      ]
    },
    {
      "cell_type": "code",
      "execution_count": 61,
      "metadata": {
        "id": "KBQoUcyrP_Ak",
        "colab": {
          "base_uri": "https://localhost:8080/"
        },
        "outputId": "f711387a-d53d-4eef-fe44-cebdf62c92ff"
      },
      "outputs": [
        {
          "output_type": "stream",
          "name": "stdout",
          "text": [
            "0 {'name': 'AA', 'shares': 100, 'price': 32.2}\n",
            "1 {'name': 'IBM', 'shares': 50, 'price': 91.1}\n",
            "2 {'name': 'CAT', 'shares': 150, 'price': 83.44}\n",
            "3 {'name': 'MSFT', 'shares': 200, 'price': 51.23}\n",
            "4 {'name': 'GE', 'shares': 95, 'price': 40.37}\n",
            "5 {'name': 'MSFT', 'shares': 50, 'price': 65.1}\n",
            "6 {'name': 'IBM', 'shares': 100, 'price': 70.44}\n"
          ]
        }
      ],
      "source": [
        "# 포트폴리오의 총 비용 구하기\n",
        "portfolio = [{'name':'AA', 'shares':100, 'price':32.20},\n",
        "{'name':'IBM', 'shares':50, 'price':91.10},\n",
        "{'name':'CAT', 'shares':150, 'price':83.44},\n",
        "{'name':'MSFT', 'shares':200, 'price':51.23},\n",
        "{'name':'GE', 'shares':95, 'price':40.37},\n",
        "{'name':'MSFT', 'shares':50, 'price':65.10},\n",
        "{'name':'IBM', 'shares':100, 'price':70.44} ]\n",
        "\n",
        "#name -> 7개 ( shares * price ) + all\n",
        "\n",
        "for n,s in enumerate(portfolio):\n",
        "  print(n,s)\n",
        "\n",
        "s = []\n",
        "cnt = ['shares']\n",
        "prod = ['price']"
      ]
    },
    {
      "cell_type": "markdown",
      "metadata": {
        "id": "Q1Pm1J20SbnA"
      },
      "source": [
        "[문제4]  \n",
        "포트폴리오에서 100주 이상 보유한 종목의 리스트를 출력하는 프로그램을 구현하세요.    \n",
        "portfolio = [{'name':'AA', 'shares':100, 'price':32.20},{'name':'IBM', 'shares':50, 'price':91.10},{'name':'CAT', 'shares':150, 'price':83.44},{'name':'MSFT', 'shares':200, 'price':51.23},{'name':'GE', 'shares':95, 'price':40.37},{'name':'MSFT', 'shares':50, 'price':65.10},{'name':'IBM', 'shares':100, 'price':70.44} ]  \n",
        "\n",
        "\n",
        "[출력결과]    \n",
        "[{'name': 'AA', 'shares': 100, 'price': 32.2},\n",
        " {'name': 'CAT', 'shares': 150, 'price': 83.44},\n",
        " {'name': 'MSFT', 'shares': 200, 'price': 51.23},\n",
        " {'name': 'IBM', 'shares': 100, 'price': 70.44}]\n"
      ]
    },
    {
      "cell_type": "code",
      "execution_count": null,
      "metadata": {
        "id": "zgRx1dz1Xt24"
      },
      "outputs": [],
      "source": [
        "\n"
      ]
    },
    {
      "cell_type": "markdown",
      "metadata": {
        "id": "W3L9WsjHTX0N"
      },
      "source": [
        "[문제5]\n",
        "\n",
        "보유한 MSFT와 IBM주식 전체 리스트를 출력하는 프로그램을 구현하세요.  \n",
        "\n",
        "portfolio = [{'name':'AA', 'shares':100, 'price':32.20},{'name':'IBM', 'shares':50, 'price':91.10},{'name':'CAT', 'shares':150, 'price':83.44},{'name':'MSFT', 'shares':200, 'price':51.23},{'name':'GE', 'shares':95, 'price':40.37},{'name':'MSFT', 'shares':50, 'price':65.10},{'name':'IBM', 'shares':100, 'price':70.44} ]  \n",
        "\n",
        "[출력결과]   \n",
        "[{'name': 'IBM', 'price': 91.1, 'shares': 50},\n",
        " {'name': 'MSFT', 'price': 51.23, 'shares': 200},\n",
        " {'name': 'MSFT', 'price': 65.1, 'shares': 50},\n",
        " {'name': 'IBM', 'price': 70.44, 'shares': 100}]  \n",
        "\n"
      ]
    },
    {
      "cell_type": "code",
      "execution_count": null,
      "metadata": {
        "id": "OEHa-H5VXgno"
      },
      "outputs": [],
      "source": []
    },
    {
      "cell_type": "markdown",
      "metadata": {
        "id": "KSu5MhEpUiM1"
      },
      "source": [
        "[문제6]\n",
        "보유 종목 중 가격이 10,000달러가 넘는 것의 리스트를 구현하는 프로그램을 구현하세요.  \n",
        "portfolio = [{'name':'AA', 'shares':100, 'price':32.20},{'name':'IBM', 'shares':50, 'price':91.10},{'name':'CAT', 'shares':150, 'price':83.44},{'name':'MSFT', 'shares':200, 'price':51.23},{'name':'GE', 'shares':95, 'price':40.37},{'name':'MSFT', 'shares':50, 'price':65.10},{'name':'IBM', 'shares':100, 'price':70.44} ]\n",
        "\n",
        "[출력결과]    \n",
        "[{'name': 'CAT', 'price': 83.44, 'shares': 150},\n",
        " {'name': 'MSFT', 'price': 51.23, 'shares': 200}]"
      ]
    },
    {
      "cell_type": "code",
      "execution_count": null,
      "metadata": {
        "id": "g-97ukatXTS2"
      },
      "outputs": [],
      "source": []
    },
    {
      "cell_type": "markdown",
      "metadata": {
        "id": "gDmxNuK2VyPP"
      },
      "source": [
        "[문제7]   \n",
        "portfolio에서 얻은 name과 shares를 가지고 튜플의 리스트 (name, shares)를 만드는 프로그램을 구현하세요.  \n",
        "portfolio = [{'name':'AA', 'shares':100, 'price':32.20},{'name':'IBM', 'shares':50, 'price':91.10},{'name':'CAT', 'shares':150, 'price':83.44},{'name':'MSFT', 'shares':200, 'price':51.23},{'name':'GE', 'shares':95, 'price':40.37},{'name':'MSFT', 'shares':50, 'price':65.10},{'name':'IBM', 'shares':100, 'price':70.44} ]\n",
        "\n",
        "[출력결과]   \n",
        "[('AA', 100),\n",
        " ('IBM', 50),\n",
        " ('CAT', 150),\n",
        " ('MSFT', 200),\n",
        " ('GE', 95),\n",
        " ('MSFT', 50),\n",
        " ('IBM', 100)]\n",
        "\n"
      ]
    },
    {
      "cell_type": "code",
      "execution_count": null,
      "metadata": {
        "id": "PD5uTxW1V3nR"
      },
      "outputs": [],
      "source": []
    },
    {
      "cell_type": "markdown",
      "metadata": {
        "id": "Lce-bQUJYAJM"
      },
      "source": [
        "[문제8]  \n",
        "\n",
        "리스트에서 int만 추출하는 프로그램을 구현하세요.  \n",
        "oldlist = [1, 2, 'A', False, 3]\n",
        "\n",
        "[출력결과]   \n",
        "[1, 4, 9]  \n"
      ]
    },
    {
      "cell_type": "code",
      "execution_count": null,
      "metadata": {
        "id": "Di_8PIoRYSam"
      },
      "outputs": [],
      "source": []
    },
    {
      "cell_type": "markdown",
      "metadata": {
        "id": "MU7MlaAuck1t"
      },
      "source": [
        "[문제9]   \n",
        "1부터 10까지의 홀수, 짝수로 출력하는 프로그램을 구현하세요.\n",
        "\n",
        "[출력결과]   \n",
        "{1: '홀수',\n",
        " 2: '짝수',\n",
        " 3: '홀수',\n",
        " 4: '짝수',\n",
        " 5: '홀수',\n",
        " 6: '짝수',\n",
        " 7: '홀수',\n",
        " 8: '짝수',\n",
        " 9: '홀수',\n",
        " 10: '짝수'}\n"
      ]
    },
    {
      "cell_type": "code",
      "execution_count": null,
      "metadata": {
        "id": "09TxSQWigSvk"
      },
      "outputs": [],
      "source": []
    },
    {
      "cell_type": "code",
      "execution_count": null,
      "metadata": {
        "id": "KaP7EKbqjPMq"
      },
      "outputs": [],
      "source": []
    }
  ],
  "metadata": {
    "colab": {
      "provenance": [],
      "include_colab_link": true
    },
    "kernelspec": {
      "display_name": "Python 3",
      "language": "python",
      "name": "python3"
    },
    "language_info": {
      "codemirror_mode": {
        "name": "ipython",
        "version": 3
      },
      "file_extension": ".py",
      "mimetype": "text/x-python",
      "name": "python",
      "nbconvert_exporter": "python",
      "pygments_lexer": "ipython3",
      "version": "3.8.8"
    }
  },
  "nbformat": 4,
  "nbformat_minor": 0
}