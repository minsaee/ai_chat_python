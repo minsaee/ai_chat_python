{
  "nbformat": 4,
  "nbformat_minor": 0,
  "metadata": {
    "colab": {
      "provenance": [],
      "authorship_tag": "ABX9TyOnhLAn1omD9qsYF5OdVx1k",
      "include_colab_link": true
    },
    "kernelspec": {
      "name": "python3",
      "display_name": "Python 3"
    },
    "language_info": {
      "name": "python"
    }
  },
  "cells": [
    {
      "cell_type": "markdown",
      "metadata": {
        "id": "view-in-github",
        "colab_type": "text"
      },
      "source": [
        "<a href=\"https://colab.research.google.com/github/minsaee/ai_chat_python/blob/master/606_%EA%B8%B0%EA%B3%84%ED%95%99%EC%8A%B5_%EA%B2%BD%EC%82%AC%ED%95%98%EA%B0%95%EB%B2%95_%ED%9A%8C%EA%B7%80%ED%8F%89%EA%B0%80%EC%A7%80%ED%91%9C.ipynb\" target=\"_parent\"><img src=\"https://colab.research.google.com/assets/colab-badge.svg\" alt=\"Open In Colab\"/></a>"
      ]
    },
    {
      "cell_type": "code",
      "execution_count": 1,
      "metadata": {
        "id": "pEeioOozas81"
      },
      "outputs": [],
      "source": [
        "import numpy as np\n",
        "import matplotlib.pyplot as plt\n",
        "import pandas as pd\n",
        "import seaborn as sns"
      ]
    },
    {
      "cell_type": "code",
      "source": [
        "# 난수 만들기.\n",
        "\n",
        "# 0에서 1사이의 균일분포 만들기.\n",
        "data = np.random.rand(10)\n",
        "print(data)\n",
        "\n",
        "# 가우시안 : 표준 정규분포 만들기 (평균:0, 표준편차:1)\n",
        "data = np.random.randn(10)\n",
        "print(data)\n",
        "\n",
        "# 균일 분포의 정수 난수\n",
        "data = np.random.randint(10)\n",
        "print(data)"
      ],
      "metadata": {
        "colab": {
          "base_uri": "https://localhost:8080/"
        },
        "id": "OIIejBzgbKAY",
        "outputId": "648e9d28-a15a-4f45-8c08-3d08f2bdd54b"
      },
      "execution_count": 7,
      "outputs": [
        {
          "output_type": "stream",
          "name": "stdout",
          "text": [
            "[0.5018739  0.78769994 0.80115332 0.65511677 0.17661391 0.03499468\n",
            " 0.95775926 0.63208482 0.91716006 0.54024411]\n",
            "[-0.32246798  0.12599438 -0.17307226 -1.06882215 -1.05495994 -0.68714767\n",
            "  1.27959832 -0.38428785 -1.67759103 -0.28278343]\n",
            "4\n"
          ]
        }
      ]
    },
    {
      "cell_type": "code",
      "source": [
        "# 데이터 순서 바꾸기\n",
        "print('np.random.shuffle') # 배열의 요소 변경\n",
        "data = np.arange(10)\n",
        "print(data)\n",
        "\n",
        "item = np.random.shuffle(data) # 배열의 요소를 변경하여 기존 변수에 저장한다.\n",
        "print(item) # return값 None\n",
        "print(data)\n",
        "\n",
        "print('-----------------')\n",
        "\n",
        "print('np.random.permutation') # 배열의 요소 변경\n",
        "item = np.random.permutation(data) # 배열의 요소를 변경하여 새 변수에 저장한다.\n",
        "print(item)\n",
        "print(data) # 기존 변수는 그대로다."
      ],
      "metadata": {
        "colab": {
          "base_uri": "https://localhost:8080/"
        },
        "id": "5scMT3BWcKA0",
        "outputId": "b2b4255f-a115-4a43-be56-03715b92d31a"
      },
      "execution_count": 12,
      "outputs": [
        {
          "output_type": "stream",
          "name": "stdout",
          "text": [
            "np.random.shuffle\n",
            "[0 1 2 3 4 5 6 7 8 9]\n",
            "None\n",
            "[0 2 6 7 5 8 1 9 3 4]\n",
            "-----------------\n",
            "np.random.permutation\n",
            "[3 4 8 5 1 6 7 0 2 9]\n",
            "[0 2 6 7 5 8 1 9 3 4]\n"
          ]
        }
      ]
    },
    {
      "cell_type": "code",
      "source": [
        "# 데이터 샘플링\n",
        "# np.random.choice(a, size=None, replace=True, p=None)\n",
        "# a : 배열 -> 배열, 정수 -> arange(a)배열\n",
        "# replace = True -> 복원추출(중복O), False -> 비복원추출(중복X)\n",
        "# p : 배열, 각 데이터가 선택될 수 있는 확률\n",
        "\n",
        "print(np.random.choice(5,5,replace=False))\n",
        "\n",
        "data = np.arange(10)\n",
        "print(np.random.choice(data,5))"
      ],
      "metadata": {
        "colab": {
          "base_uri": "https://localhost:8080/"
        },
        "id": "UC-CQL3ycnYP",
        "outputId": "23f8a1c4-aeb9-45ec-b1af-727e528b4cc0"
      },
      "execution_count": 25,
      "outputs": [
        {
          "output_type": "stream",
          "name": "stdout",
          "text": [
            "[4 0 2 1 3]\n",
            "[4 4 8 3 4]\n"
          ]
        }
      ]
    },
    {
      "cell_type": "markdown",
      "source": [
        "#### 추세선(Trend Line)\n",
        "- 추세선(Trend Line)은 데이터의 추세를 그래픽으로 표시하고 예측 문제를 분석하는데 사용된다.\n",
        "- 이러한 분석을 회귀분석(예측을 위해 사용하는 통계분석의 한가지)이라고 하며,\n",
        "회귀분석을 사용하여 실제 데이터가 존재하지 않는 범위의 값을 예측할 수 있다.\n",
        "- 추세선을 사용할 수 있는 차트 : 누적형이 아닌 2차원 영역형, 가로 막대형, 세로 막대형, 꺾은선형, 주식형,분산형, 거품형\n",
        "- 추세선을 사용할 수 없는 차트 : 3차원, 누적형, 방사형, 원형, 표면형, 도넛형"
      ],
      "metadata": {
        "id": "Ar1DcKXEeYV1"
      }
    },
    {
      "cell_type": "code",
      "source": [
        "X = 2*np.random.rand(100,1)\n",
        "y = 6+4*X+np.random.randn(100,1)\n",
        "\n",
        "plt.scatter(X,y)\n",
        "pd_X = pd.DataFrame(X, columns=['X'])\n",
        "pd_y = pd.DataFrame(y, columns=['y'])\n",
        "pd_df = pd.concat([pd_X, pd_y],axis =1) # 문자열 합치기\n",
        "pd_df.head(2)\n",
        "\n",
        "sns.regplot(x='X',y='y',data=pd_df, color='b', ci=None)\n",
        "sns.regplot(x='X',y='y',data=pd_df, line_kws={'color':'red'}, scatter_kws={'color':'blue'},ci=None) # ci : 신뢰구간"
      ],
      "metadata": {
        "colab": {
          "base_uri": "https://localhost:8080/",
          "height": 467
        },
        "id": "vSvIEj0lelCy",
        "outputId": "30a270a9-656a-4b2b-f3e8-fc143f31ac89"
      },
      "execution_count": 35,
      "outputs": [
        {
          "output_type": "execute_result",
          "data": {
            "text/plain": [
              "<Axes: xlabel='X', ylabel='y'>"
            ]
          },
          "metadata": {},
          "execution_count": 35
        },
        {
          "output_type": "display_data",
          "data": {
            "text/plain": [
              "<Figure size 640x480 with 1 Axes>"
            ],
            "image/png": "[encoded data removed]"
          },
          "metadata": {}
        }
      ]
    },
    {
      "cell_type": "markdown",
      "source": [
        "###경사 하강법(gradient_descent_steps)_MSE(평균제곱오차계산식)"
      ],
      "metadata": {
        "id": "9W73I1eNf6UO"
      }
    },
    {
      "cell_type": "code",
      "source": [
        "def get_weight_updates(w, b, X, y, learning_rate=0.01, l1=0.2, l2=0.7): # w,b하이퍼 파라미터 돌리면서 성능이 최대가 될 때\n",
        "  N = len(y)\n",
        "\n",
        "  # w,b와 동일한 크기를 가진 0값으로 초기화하기.\n",
        "  w_update = np.zeros_like(w)\n",
        "  b_update = np.zeros_like(b)\n",
        "\n",
        "  # 예측 배열 계산하고 실제값의 차이 계산하기.\n",
        "  # y_pred = wX+b\n",
        "  y_pred = np.dot(X,w.T)+b # (4,1)(1,1) = (4,1) 행렬곱을 위해 전치(T) -> (1,1)(1,4)\n",
        "  diff = y - y_pred # 바이시스 = 1 웨이트 값은 편미분\n",
        "\n",
        "  # b_update를 dot행렬 연산으로 구하기 위해 모두 1값을 가진 행렬 생성\n",
        "  b_factors = np.ones((N,1))\n",
        "\n",
        "  # w와 b를 업데이트 계산\n",
        "  w_update = -(2/N)*learning_rate*learning_rate*(np.dot(X.T,diff)) # (4,1)->(1,4) 웨이트\n",
        "  b_update = -(2/N)*learning_rate**np.dot(b_factors.T,diff) # (4,1)->(1,4) 바이시스\n",
        "  return w_update, b_update\n",
        "\n",
        "# 하이퍼 파라미터를 웨이트값으로 구하는 부분 식 러닝레이트 =? 알파?\n",
        "# learningwate는 보폭 이동할 때\n",
        "# J(w,b)=1/2*(y-y^)**2"
      ],
      "metadata": {
        "id": "O6ALAjLNf_Oq"
      },
      "execution_count": 45,
      "outputs": []
    },
    {
      "cell_type": "code",
      "source": [
        "# 입력 인자 epochs로 주어진 횟수만큼 반복적으로 w와b를 업데이트하기.\n",
        "def gradient_descent_steps(X,y,epochs=2): # 2번 실행\n",
        "  # w와b를 0으로 초기화하기.\n",
        "  w = np.zeros((1,1))\n",
        "  b = np.zeros((1,1))\n",
        "\n",
        "  for ind in range(epochs):\n",
        "    w_update,b_update = get_weight_updates(w, b, X, y, learning_rate=0.1)\n",
        "    w = w - w_update\n",
        "    b = b - b_update\n",
        "    return w,b"
      ],
      "metadata": {
        "id": "1edkCMt5lLLT"
      },
      "execution_count": 44,
      "outputs": []
    },
    {
      "cell_type": "code",
      "source": [
        "# 실제 y값과 예측된 y값을 인자로 받아서 MSE(평균표준오차)구현하기.\n",
        "# 경사하강법의 예측오류 계산하기.\n",
        "\n",
        "def get_cost(y,y_pred):\n",
        "  N = len(y)\n",
        "  cost = np.sum(np.square(y-y_pred))/N\n",
        "  return cost\n",
        "\n",
        "X = 2*np.random.rand(100,1)\n",
        "y = 6+4*X+np.random.randn(100,1) # y = wX+b\n",
        "print(X.shape)\n",
        "print(y.shape)\n",
        "\n",
        "w,b = gradient_descent_steps(X,y,epochs=1000)\n",
        "print('w:{0:.3f}b:{1:.3f}'.format(w[0,0],b[0,0]))\n",
        "\n",
        "y_pred = w[0,0]*X+b\n",
        "print('Grident Descent Total Cost:{0:.4f}'.format(get_cost(y,y_pred)))"
      ],
      "metadata": {
        "colab": {
          "base_uri": "https://localhost:8080/"
        },
        "id": "pDFJrbAnl5uV",
        "outputId": "3bb13481-395c-404c-f700-3748ebe2d6a3"
      },
      "execution_count": 53,
      "outputs": [
        {
          "output_type": "stream",
          "name": "stdout",
          "text": [
            "(100, 1)\n",
            "(100, 1)\n",
            "w:0.235b:2.010\n",
            "Grident Descent Total Cost:66.4511\n"
          ]
        }
      ]
    },
    {
      "cell_type": "code",
      "source": [
        "plt.scatter(X,y)\n",
        "plt.scatter(X,y_pred)"
      ],
      "metadata": {
        "colab": {
          "base_uri": "https://localhost:8080/",
          "height": 448
        },
        "id": "_RGAnG_Mns1v",
        "outputId": "fa06d7b9-3b7b-4e44-ed3f-2e1d35ba07bc"
      },
      "execution_count": 55,
      "outputs": [
        {
          "output_type": "execute_result",
          "data": {
            "text/plain": [
              "<matplotlib.collections.PathCollection at 0x7d47fada8460>"
            ]
          },
          "metadata": {},
          "execution_count": 55
        },
        {
          "output_type": "display_data",
          "data": {
            "text/plain": [
              "<Figure size 640x480 with 1 Axes>"
            ],
            "image/png": "[encoded data removed]"
          },
          "metadata": {}
        }
      ]
    }
  ]
}