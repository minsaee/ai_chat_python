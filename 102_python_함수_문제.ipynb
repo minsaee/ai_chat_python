{
  "cells": [
    {
      "cell_type": "markdown",
      "metadata": {
        "id": "view-in-github",
        "colab_type": "text"
      },
      "source": [
        "<a href=\"https://colab.research.google.com/github/minsaee/python_demo/blob/master/102_python_%ED%95%A8%EC%88%98_%EB%AC%B8%EC%A0%9C.ipynb\" target=\"_parent\"><img src=\"https://colab.research.google.com/assets/colab-badge.svg\" alt=\"Open In Colab\"/></a>"
      ]
    },
    {
      "cell_type": "markdown",
      "metadata": {
        "id": "Pdk6hVG-KlgB"
      },
      "source": [
        "[문제1]  \n",
        "문자열 하나를 입력받아 인터넷 주소를 반환하는 make_url 함수를 정의하세요.    \n",
        "make_url(\"naver\")  \n",
        "\n",
        "[출력결과]    \n",
        "www.naver.com  \n"
      ]
    },
    {
      "cell_type": "code",
      "execution_count": 2,
      "metadata": {
        "id": "82SjWq29KotV",
        "colab": {
          "base_uri": "https://localhost:8080/"
        },
        "outputId": "e447c586-eaae-404a-e6b6-489335edd22f"
      },
      "outputs": [
        {
          "output_type": "stream",
          "name": "stdout",
          "text": [
            "www.naver.com\n"
          ]
        }
      ],
      "source": [
        "def make_url(string):\n",
        "  url = \"www.\" + string + \".com\"\n",
        "  return url\n",
        "\n",
        "print(make_url(\"naver\"))"
      ]
    },
    {
      "cell_type": "markdown",
      "metadata": {
        "id": "0Hpvz59zK7GY"
      },
      "source": [
        "[문제2]   \n",
        "문자열을 입력받아 각 문자들로 구성된 리스트로 반환하는 make_list 함수를 정의하세요.  \n",
        "make_list(\"abcd\")  \n",
        "\n",
        "[출력결과]\n",
        "\n",
        "['a', 'b', 'c', 'd']\n"
      ]
    },
    {
      "cell_type": "code",
      "source": [
        "def make_list(string):\n",
        "  my_list = []\n",
        "  for data in string:\n",
        "    my_list.append(data)\n",
        "  return my_list\n",
        "\n",
        "print(make_list(\"abcd\"))"
      ],
      "metadata": {
        "colab": {
          "base_uri": "https://localhost:8080/"
        },
        "id": "Um7Vj3UyQdw7",
        "outputId": "bf00d7d1-ada0-4307-d32c-a8a601b1a64c"
      },
      "execution_count": 5,
      "outputs": [
        {
          "output_type": "stream",
          "name": "stdout",
          "text": [
            "['a', 'b', 'c', 'd']\n"
          ]
        }
      ]
    },
    {
      "cell_type": "markdown",
      "metadata": {
        "id": "zpuh9jmZJE3j"
      },
      "source": [
        "[문제3]   \n",
        "숫자로 구성된 하나의 리스트를 입력받아, 짝수들을 추출하여 리스트로 반환하는 pickup_even 함수를 구현하세요.   \n",
        "\n",
        "pickup_even([3, 4, 5, 6, 7, 8])\n",
        "\n",
        "[출력결과]   \n",
        "[4, 6, 8]"
      ]
    },
    {
      "cell_type": "code",
      "execution_count": 10,
      "metadata": {
        "id": "Bsdi_UeaHmqm",
        "colab": {
          "base_uri": "https://localhost:8080/"
        },
        "outputId": "d7608fb5-a3de-42fc-ebbb-716d15ed5bb4"
      },
      "outputs": [
        {
          "output_type": "stream",
          "name": "stdout",
          "text": [
            "[4, 6, 8]\n"
          ]
        }
      ],
      "source": [
        "def pickup_even(numbers):\n",
        "  result = []\n",
        "  for number in numbers:\n",
        "    if number %2 == 0:\n",
        "      result.append(number)\n",
        "  return result\n",
        "\n",
        "print(pickup_even([3,4,5,6,7,8]))"
      ]
    },
    {
      "cell_type": "markdown",
      "metadata": {
        "id": "NwIxbKhCJyfU"
      },
      "source": [
        "[문제4]  \n",
        "콤마가 포함된 문자열 숫자를 입력받아 정수로 변환하는 convert_int 함수를 정의하세요.\n",
        "\n",
        "convert_int(\"1,234,567\")\n",
        "\n",
        "[출력결과]   \n",
        "1234567"
      ]
    },
    {
      "cell_type": "code",
      "execution_count": 11,
      "metadata": {
        "id": "XFGgUAodJ25O",
        "colab": {
          "base_uri": "https://localhost:8080/"
        },
        "outputId": "25cd73c5-c67e-4888-c07f-c998331b45d3"
      },
      "outputs": [
        {
          "output_type": "stream",
          "name": "stdout",
          "text": [
            "1234567\n"
          ]
        }
      ],
      "source": [
        "def convert_int(string):\n",
        "  s = string.replace(',',\"\")\n",
        "  return int(s)\n",
        "\n",
        "print(convert_int(\"1,234,567\"))"
      ]
    },
    {
      "cell_type": "markdown",
      "metadata": {
        "id": "sKQ00chuKEan"
      },
      "source": [
        "[문제4]  \n",
        "세 개의 숫자를 입력받아 가장 큰수를 출력하는 print_max 함수를 정의하라. 단 if 문을 사용해서 수를 비교하세요.   \n",
        "max(10, 2, 5)\n",
        "\n",
        "[출력결과]  \n",
        "10"
      ]
    },
    {
      "cell_type": "code",
      "execution_count": 13,
      "metadata": {
        "id": "YQXYyjVhJ5I_",
        "colab": {
          "base_uri": "https://localhost:8080/"
        },
        "outputId": "19756470-58ba-42fe-f341-44bc2af331e1"
      },
      "outputs": [
        {
          "output_type": "stream",
          "name": "stdout",
          "text": [
            "10\n"
          ]
        }
      ],
      "source": [
        "def print_max(x, y, z):\n",
        "  max = 0\n",
        "  if x > max :\n",
        "    max = x\n",
        "  if y > max :\n",
        "    max = y\n",
        "  if z > max:\n",
        "    max = z\n",
        "  return max\n",
        "\n",
        "print(print_max(10,2,5))"
      ]
    },
    {
      "cell_type": "markdown",
      "metadata": {
        "id": "UpTGTnKYMnnF"
      },
      "source": [
        "[문제5]    \n",
        "2 와 5의 배수가 아닌 갯수와 합계를 구하는 함수를 구현하세요.    \n",
        "\n",
        "resultr(1, 3, 5, 8, 9, 11, 15, 19, 18, 20, 30, 33, 31)  \n",
        "\n",
        "[출력결과]    \n",
        "2 와 5의 배수가 아닌 갯수 : 7    \n",
        "2 와 5의 배수가 아닌 합계 : 107   \n",
        "\n",
        "==============================================  \n",
        "result(5,2,7,9,10,8,6)     \n",
        "\n",
        "[출력결과]    \n",
        "2 와 5의 배수가 아닌 갯수 :  2\n",
        "2 와 5의 배수가 아닌 합계 :  16\n",
        "\n"
      ]
    },
    {
      "cell_type": "code",
      "source": [
        "def resultr(*data):\n",
        "  cnt = 0\n",
        "  total = 0\n",
        "\n",
        "  for i in data:\n",
        "    if i % 2 !=0 and i % 5 != 0:\n",
        "      cnt += 1\n",
        "      total += i\n",
        "\n",
        "  print(\"2와 5의 배수가 아닌 개수 : \", cnt)\n",
        "  print(\"2와 5의 배수가 아닌 수의 합 :\", total)\n",
        "\n",
        "print(resultr(1,3,5,8,9,11,15,19,18,20,30,33,31))"
      ],
      "metadata": {
        "id": "nN1nLJxNpL_L",
        "colab": {
          "base_uri": "https://localhost:8080/"
        },
        "outputId": "af3120b8-2592-4cd8-e52b-bd42a1cc209d"
      },
      "execution_count": 16,
      "outputs": [
        {
          "output_type": "stream",
          "name": "stdout",
          "text": [
            "2와 5의 배수가 아닌 개수 :  7\n",
            "2와 5의 배수가 아닌 수의 합 : 107\n",
            "None\n"
          ]
        }
      ]
    }
  ],
  "metadata": {
    "colab": {
      "provenance": [],
      "include_colab_link": true
    },
    "kernelspec": {
      "display_name": "Python 3",
      "language": "python",
      "name": "python3"
    },
    "language_info": {
      "codemirror_mode": {
        "name": "ipython",
        "version": 3
      },
      "file_extension": ".py",
      "mimetype": "text/x-python",
      "name": "python",
      "nbconvert_exporter": "python",
      "pygments_lexer": "ipython3",
      "version": "3.8.8"
    }
  },
  "nbformat": 4,
  "nbformat_minor": 0
}