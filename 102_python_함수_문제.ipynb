{
  "cells": [
    {
      "cell_type": "markdown",
      "metadata": {
        "id": "view-in-github",
        "colab_type": "text"
      },
      "source": [
        "<a href=\"https://colab.research.google.com/github/minsaee/python_demo/blob/master/102_python_%ED%95%A8%EC%88%98_%EB%AC%B8%EC%A0%9C.ipynb\" target=\"_parent\"><img src=\"https://colab.research.google.com/assets/colab-badge.svg\" alt=\"Open In Colab\"/></a>"
      ]
    },
    {
      "cell_type": "markdown",
      "metadata": {
        "id": "Pdk6hVG-KlgB"
      },
      "source": [
        "[문제1]  \n",
        "문자열 하나를 입력받아 인터넷 주소를 반환하는 make_url 함수를 정의하세요.    \n",
        "make_url(\"naver\")  \n",
        "\n",
        "[출력결과]    \n",
        "www.naver.com  \n"
      ]
    },
    {
      "cell_type": "code",
      "execution_count": 1,
      "metadata": {
        "id": "82SjWq29KotV"
      },
      "outputs": [],
      "source": []
    },
    {
      "cell_type": "markdown",
      "metadata": {
        "id": "0Hpvz59zK7GY"
      },
      "source": [
        "[문제2]   \n",
        "문자열을 입력받아 각 문자들로 구성된 리스트로 반환하는 make_list 함수를 정의하세요.  \n",
        "make_list(\"abcd\")  \n",
        "\n",
        "[출력결과]\n",
        "\n",
        "['a', 'b', 'c', 'd']\n"
      ]
    },
    {
      "cell_type": "markdown",
      "metadata": {
        "id": "zpuh9jmZJE3j"
      },
      "source": [
        "[문제3]   \n",
        "숫자로 구성된 하나의 리스트를 입력받아, 짝수들을 추출하여 리스트로 반환하는 pickup_even 함수를 구현하세요.   \n",
        "\n",
        "pickup_even([3, 4, 5, 6, 7, 8])\n",
        "\n",
        "[출력결과]   \n",
        "[4, 6, 8]"
      ]
    },
    {
      "cell_type": "code",
      "execution_count": null,
      "metadata": {
        "id": "Bsdi_UeaHmqm"
      },
      "outputs": [],
      "source": []
    },
    {
      "cell_type": "markdown",
      "metadata": {
        "id": "NwIxbKhCJyfU"
      },
      "source": [
        "[문제4]  \n",
        "콤마가 포함된 문자열 숫자를 입력받아 정수로 변환하는 convert_int 함수를 정의하세요.\n",
        "\n",
        "convert_int(\"1,234,567\")\n",
        "\n",
        "[출력결과]   \n",
        "1234567"
      ]
    },
    {
      "cell_type": "code",
      "execution_count": null,
      "metadata": {
        "id": "XFGgUAodJ25O"
      },
      "outputs": [],
      "source": [
        "\n"
      ]
    },
    {
      "cell_type": "markdown",
      "metadata": {
        "id": "sKQ00chuKEan"
      },
      "source": [
        "[문제4]  \n",
        "세 개의 숫자를 입력받아 가장 큰수를 출력하는 print_max 함수를 정의하라. 단 if 문을 사용해서 수를 비교하세요.   \n",
        "max(10, 2, 5)\n",
        "\n",
        "[출력결과]  \n",
        "10"
      ]
    },
    {
      "cell_type": "code",
      "execution_count": null,
      "metadata": {
        "id": "YQXYyjVhJ5I_"
      },
      "outputs": [],
      "source": []
    },
    {
      "cell_type": "markdown",
      "metadata": {
        "id": "UpTGTnKYMnnF"
      },
      "source": [
        "[문제5]    \n",
        "2 와 5의 배수가 아닌 갯수와 합계를 구하는 함수를 구현하세요.    \n",
        "\n",
        "resultr(1, 3, 5, 8, 9, 11, 15, 19, 18, 20, 30, 33, 31)  \n",
        "\n",
        "[출력결과]    \n",
        "2 와 5의 배수가 아닌 갯수 : 7    \n",
        "2 와 5의 배수가 아닌 합계 : 107   \n",
        "\n",
        "==============================================  \n",
        "result(5,2,7,9,10,8,6)     \n",
        "\n",
        "[출력결과]    \n",
        "2 와 5의 배수가 아닌 갯수 :  2\n",
        "2 와 5의 배수가 아닌 합계 :  16\n",
        "\n"
      ]
    },
    {
      "cell_type": "code",
      "source": [],
      "metadata": {
        "id": "nN1nLJxNpL_L"
      },
      "execution_count": 32,
      "outputs": []
    }
  ],
  "metadata": {
    "colab": {
      "provenance": [],
      "include_colab_link": true
    },
    "kernelspec": {
      "display_name": "Python 3",
      "language": "python",
      "name": "python3"
    },
    "language_info": {
      "codemirror_mode": {
        "name": "ipython",
        "version": 3
      },
      "file_extension": ".py",
      "mimetype": "text/x-python",
      "name": "python",
      "nbconvert_exporter": "python",
      "pygments_lexer": "ipython3",
      "version": "3.8.8"
    }
  },
  "nbformat": 4,
  "nbformat_minor": 0
}