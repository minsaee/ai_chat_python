{
  "nbformat": 4,
  "nbformat_minor": 0,
  "metadata": {
    "colab": {
      "provenance": [],
      "authorship_tag": "ABX9TyNjWxsB+iNk28RnRNN8mV9b",
      "include_colab_link": true
    },
    "kernelspec": {
      "name": "python3",
      "display_name": "Python 3"
    },
    "language_info": {
      "name": "python"
    }
  },
  "cells": [
    {
      "cell_type": "markdown",
      "metadata": {
        "id": "view-in-github",
        "colab_type": "text"
      },
      "source": [
        "<a href=\"https://colab.research.google.com/github/minsaee/ai_chat_python/blob/master/409_email_sending.ipynb\" target=\"_parent\"><img src=\"https://colab.research.google.com/assets/colab-badge.svg\" alt=\"Open In Colab\"/></a>"
      ]
    },
    {
      "cell_type": "code",
      "execution_count": 1,
      "metadata": {
        "colab": {
          "base_uri": "https://localhost:8080/"
        },
        "id": "6vF9356568BC",
        "outputId": "3992253a-dd9f-4049-b66d-c945bf7168d8"
      },
      "outputs": [
        {
          "output_type": "stream",
          "name": "stdout",
          "text": [
            "Mounted at /content/drive\n",
            "/content/drive/MyDrive/ai_chat_python\n"
          ]
        }
      ],
      "source": [
        "from google.colab import drive\n",
        "drive.mount('/content/drive')\n",
        "\n",
        "%cd '/content/drive/MyDrive/ai_chat_python'"
      ]
    },
    {
      "cell_type": "markdown",
      "source": [
        "## 이메일 전송 자동화 프로젝트\n",
        " - 참조사이트\n",
        "   - https://docs.python.org/ko/3/library/smtplib.html\n",
        "   - https://docs.python.org/ko/3/library/email.html"
      ],
      "metadata": {
        "id": "Ig4WQIg17Djh"
      }
    },
    {
      "cell_type": "markdown",
      "source": [
        "이메일 전송 흐름"
      ],
      "metadata": {
        "id": "nqJrkmwU7IT0"
      }
    },
    {
      "cell_type": "code",
      "source": [
        "import smtplib\n",
        "\n",
        "smtp_info = dict({\n",
        "    'smtp_server':'smtp.naver.com',\n",
        "    'smtp_user_id':'id',\n",
        "    'smtp_user_pwd':'pwd',\n",
        "    'smtp_port':587\n",
        "})\n",
        "\n",
        "def send_email(smtp_info, msg):\n",
        "  with smtplib.SMTP(smtp_info['smtp_server'], smtp_info['smtp_port']) as server:\n",
        "\n",
        "    # TLS 보안 연결하기.\n",
        "    server.starttls()\n",
        "\n",
        "    # 로그인 하기.\n",
        "    server.login(smtp_info['smtp_user_id'], smtp_info['smtp_user_pwd'])\n",
        "\n",
        "    # 이메일 전송하기.\n",
        "    # .as_string() 메소드를 사용하여 문자열로 바꾼다.\n",
        "    response = server.sendmail(msg['from'], msg['to'], msg.as_string())\n",
        "\n",
        "    # 이메일이 정상적으로 전송됐으면\n",
        "    if not response :\n",
        "      print('이메일을 성공적으로 보냈습니다.')\n",
        "\n",
        "    else:\n",
        "      print(response)\n"
      ],
      "metadata": {
        "id": "0yxOLyDx8IQz"
      },
      "execution_count": 3,
      "outputs": []
    },
    {
      "cell_type": "markdown",
      "source": [
        "### 메일 내용 작성 및 파일 첨부하기"
      ],
      "metadata": {
        "id": "waCU_M7c_Vvw"
      }
    },
    {
      "cell_type": "code",
      "source": [
        "import os\n",
        "# 이메일 메시지에 다양한 형식을 중첩하여 담기 위한 객체\n",
        "from email.mime.multipart import MIMEMultipart\n",
        "\n",
        "# 이메일 메시지를 이진 데이터로 바꿔주는 인코더\n",
        "from email import encoders\n",
        "\n",
        "# 텍스트 형식\n",
        "from email.mime.text import MIMEText\n",
        "# 이미지 형식\n",
        "from email.mime.image import MIMEImage\n",
        "# 오디오 형식\n",
        "from email.mime.audio import MIMEAudio\n",
        "\n",
        "# 위의 모든 객체들을 생성할 수 있는 기본 객체\n",
        "# MIMEBase(_maintype, _subtype)\n",
        "# MIMEBase(<메인 타입>, <서브 타입>)\n",
        "from email.mime.base import MIMEBase\n",
        "\n",
        "msg_dict = {\n",
        "    'text' : {'maintype' : 'text', 'subtype' :'plain', 'filename' : 'res/email_sending/test.txt'}, # 텍스트 첨부파일\n",
        "    'image' : {'maintype' : 'image', 'subtype' :'jpg', 'filename' : 'res/email_sending/test.jpg' }, # 이미지 첨부파일\n",
        "    'audio' : {'maintype' : 'audio', 'subtype' :'mp3', 'filename' : 'res/email_sending/test.mp3' }, # 오디오 첨부파일\n",
        "    'video' : {'maintype' : 'video', 'subtype' :'mp4', 'filename' : 'res/email_sending/test.mp4' }, # 비디오 첨부파일\n",
        "    'application' : {'maintype' : 'application', 'subtype' : 'octect-stream', 'filename' : 'res/email_sending/test.pdf'} # 그 외 첨부파일\n",
        "} # application으로 보통 처리한다.\n",
        "\n",
        "def make_multimsg(msg_dict):\n",
        "    multi = MIMEMultipart(_subtype='mixed')\n",
        "\n",
        "    for key, value in msg_dict.items():\n",
        "        # 각 타입에 적절한 MIMExxx() 함수를 호출하여 msg 객체를 생성한다.\n",
        "        if key == 'text':\n",
        "            with open(value['filename'], encoding='utf-8') as fp:\n",
        "                msg = MIMEText(fp.read(), _subtype=value['subtype'])\n",
        "        elif key == 'image':\n",
        "            with open(value['filename'], 'rb') as fp:\n",
        "                msg = MIMEImage(fp.read(), _subtype=value['subtype'])\n",
        "        elif key == 'audio':\n",
        "            with open(value['filename'], 'rb') as fp:\n",
        "                msg = MIMEAudio(fp.read(), _subtype=value['subtype'])\n",
        "        else:\n",
        "            with open(value['filename'], 'rb') as fp:\n",
        "                msg = MIMEBase(value['maintype'], _subtype=value['subtype'])\n",
        "                msg.set_payload(fp.read())\n",
        "                encoders.encode_base64(msg)\n",
        "        # 파일 이름을 첨부파일 제목으로 추가\n",
        "        msg.add_header('Content-Disposition', 'attachment',\n",
        "                       filename=os.path.basename(value['filename']))\n",
        "        # 첨부파일 추가\n",
        "        multi.attach(msg)\n",
        "\n",
        "    return multi"
      ],
      "metadata": {
        "id": "cw8YUgC__awh"
      },
      "execution_count": 5,
      "outputs": []
    },
    {
      "cell_type": "markdown",
      "source": [
        "## 이메일 전송 함수 만들기."
      ],
      "metadata": {
        "id": "wBwRxRNEGidN"
      }
    },
    {
      "cell_type": "code",
      "source": [
        "import os\n",
        "import smtplib\n",
        "\n",
        "# 이메일 메시지에 다양한 형식을 중첩하여 담기 위한 객체\n",
        "from email.mime.multipart import MIMEMultipart\n",
        "\n",
        "# 이메일 메시지를 이진 데이터로 바꿔주는 인코더\n",
        "from email import encoders\n",
        "\n",
        "# 텍스트 형식\n",
        "from email.mime.text import MIMEText\n",
        "# 이미지 형식\n",
        "from email.mime.image import MIMEImage\n",
        "# 오디오 형식\n",
        "from email.mime.audio import MIMEAudio\n",
        "\n",
        "# 위의 모든 객체들을 생성할 수 있는 기본 객체\n",
        "# MIMEBase(_maintype, _subtype)\n",
        "# MIMEBase(<메인 타입>, <서브 타입>)\n",
        "from email.mime.base import MIMEBase\n",
        "\n",
        "\n",
        "def send_email(smtp_info, msg):\n",
        "  with smtplib.SMTP(smtp_info['smtp_server'], smtp_info['smtp_port']) as server:\n",
        "\n",
        "    # TLS 보안 연결하기.\n",
        "    server.starttls()\n",
        "\n",
        "    # 로그인 하기.\n",
        "    server.login(smtp_info['smtp_user_id'], smtp_info['smtp_user_pwd'])\n",
        "\n",
        "    # 이메일 전송하기.\n",
        "    # .as_string() 메소드를 사용하여 문자열로 바꾼다.\n",
        "    response = server.sendmail(msg['from'], msg['to'], msg.as_string())\n",
        "\n",
        "    # 이메일이 정상적으로 전송됐으면\n",
        "    if not response :\n",
        "      print('이메일을 성공적으로 보냈습니다.')\n",
        "\n",
        "    else:\n",
        "      print(response)\n",
        "\n",
        "def make_multimsg(msg_dict):\n",
        "    multi = MIMEMultipart(_subtype='mixed')\n",
        "\n",
        "    for key, value in msg_dict.items():\n",
        "        # 각 타입에 적절한 MIMExxx() 함수를 호출하여 msg 객체를 생성한다.\n",
        "        if key == 'text':\n",
        "            with open(value['filename'], encoding='utf-8') as fp:\n",
        "                msg = MIMEText(fp.read(), _subtype=value['subtype'])\n",
        "        elif key == 'image':\n",
        "            with open(value['filename'], 'rb') as fp:\n",
        "                msg = MIMEImage(fp.read(), _subtype=value['subtype'])\n",
        "        elif key == 'audio':\n",
        "            with open(value['filename'], 'rb') as fp:\n",
        "                msg = MIMEAudio(fp.read(), _subtype=value['subtype'])\n",
        "        else:\n",
        "            with open(value['filename'], 'rb') as fp:\n",
        "                msg = MIMEBase(value['maintype'], _subtype=value['subtype'])\n",
        "                msg.set_payload(fp.read())\n",
        "                encoders.encode_base64(msg)\n",
        "        # 파일 이름을 첨부파일 제목으로 추가\n",
        "        msg.add_header('Content-Disposition', 'attachment',\n",
        "                       filename=os.path.basename(value['filename']))\n",
        "        # 첨부파일 추가\n",
        "        multi.attach(msg)\n",
        "\n",
        "    return multi"
      ],
      "metadata": {
        "id": "ItUbf3RNGlRn"
      },
      "execution_count": 9,
      "outputs": []
    },
    {
      "cell_type": "markdown",
      "source": [
        "텍스트로만 구성된 이메일 보내기."
      ],
      "metadata": {
        "id": "7wYAsovTHIMA"
      }
    },
    {
      "cell_type": "code",
      "source": [
        "smtp_info = dict({\n",
        "    'smtp_server':'smtp.naver.com',\n",
        "    'smtp_user_id':'id',\n",
        "    'smtp_user_pwd':'pwd',\n",
        "    'smtp_port':587\n",
        "})\n",
        "\n",
        "# 메일 내용 작성하기.\n",
        "title = '기본 메일 테스트를 보냅니다.'\n",
        "content = '람쥐가 노래를 한다.'\n",
        "sender = smtp_info['smtp_user_id'] # 송신자(sender)계정\n",
        "reciver = 'id'         # 수신자(reciver)계정\n",
        "\n",
        "msg = MIMEText(_text = content, _charset='utf-8') # 메일내용\n",
        "\n",
        "msg['Subject'] = title # 제목\n",
        "msg['From'] = sender   # 송신자\n",
        "msg['To'] = reciver    # 수신자\n",
        "\n",
        "send_email(smtp_info, msg)"
      ],
      "metadata": {
        "colab": {
          "base_uri": "https://localhost:8080/"
        },
        "id": "W5ypcjMtHKxJ",
        "outputId": "a8fdf7f3-622b-43cc-e68a-7332cf343d92"
      },
      "execution_count": 17,
      "outputs": [
        {
          "output_type": "stream",
          "name": "stdout",
          "text": [
            "이메일을 성공적으로 보냈습니다.\n"
          ]
        }
      ]
    },
    {
      "cell_type": "markdown",
      "source": [
        "### 텍스트와 다양한 종류의 파일이 첨부된 이메일 보내기"
      ],
      "metadata": {
        "id": "3sL0-QulTEa6"
      }
    },
    {
      "cell_type": "code",
      "source": [
        "smtp_info = dict({\n",
        "    'smtp_server':'smtp.naver.com',\n",
        "    'smtp_user_id':'id',\n",
        "    'smtp_user_pwd':'pwd',\n",
        "    'smtp_port':587\n",
        "})\n",
        "\n",
        "msg_dict = {\n",
        "    'text' : {'maintype' : 'text', 'subtype' :'plain', 'filename' : 'res/email_sending/test.txt'}, # 텍스트 첨부파일\n",
        "    'image' : {'maintype' : 'image', 'subtype' :'jpg', 'filename' : 'res/email_sending/test.jpg' }, # 이미지 첨부파일\n",
        "    'audio' : {'maintype' : 'audio', 'subtype' :'mp3', 'filename' : 'res/email_sending/test.mp3' }, # 오디오 첨부파일\n",
        "    'video' : {'maintype' : 'video', 'subtype' :'mp4', 'filename' : 'res/email_sending/test.mp4' }, # 비디오 첨부파일\n",
        "    'application' : {'maintype' : 'application', 'subtype' : 'octect-stream', 'filename' : 'res/email_sending/test.pdf'} # 그 외 첨부파일\n",
        "} # application으로 보통 처리한다.\n",
        "\n",
        "#####################\n",
        "# 메일 내용 작성\n",
        "#####################\n",
        "title = \"첨부파일이 있는 이메일입니다.\"\n",
        "content = \"메일 내용입니다.\"\n",
        "sender = smtp_info['smtp_user_id'] # 송신자(sender) 메일 계정\n",
        "receiver = \"id\"\n",
        "\n",
        "# 메일 내용\n",
        "msg = MIMEText(_text = content, _charset = \"utf-8\")\n",
        "\n",
        "# 첨부파일 추가\n",
        "multi = make_multimsg(msg_dict)\n",
        "multi['Subject'] = title\n",
        "multi['From'] = sender\n",
        "multi['To'] = receiver\n",
        "multi.attach(msg)\n",
        "\n",
        "# 첨부파일이 추가된 이메일 전송\n",
        "send_email(smtp_info, multi )"
      ],
      "metadata": {
        "colab": {
          "base_uri": "https://localhost:8080/"
        },
        "id": "-j1LHeF-THyJ",
        "outputId": "b85de8b2-dc8d-44b7-d957-66107b955249"
      },
      "execution_count": 21,
      "outputs": [
        {
          "output_type": "stream",
          "name": "stdout",
          "text": [
            "이메일을 성공적으로 보냈습니다.\n"
          ]
        }
      ]
    }
  ]
}