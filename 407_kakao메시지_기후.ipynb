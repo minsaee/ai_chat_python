{
  "nbformat": 4,
  "nbformat_minor": 0,
  "metadata": {
    "colab": {
      "provenance": [],
      "authorship_tag": "ABX9TyPZWyR0mL6q/lwNgpX6T0eD",
      "include_colab_link": true
    },
    "kernelspec": {
      "name": "python3",
      "display_name": "Python 3"
    },
    "language_info": {
      "name": "python"
    }
  },
  "cells": [
    {
      "cell_type": "markdown",
      "metadata": {
        "id": "view-in-github",
        "colab_type": "text"
      },
      "source": [
        "<a href=\"https://colab.research.google.com/github/minsaee/ai_chat_python/blob/master/407_kakao%EB%A9%94%EC%8B%9C%EC%A7%80_%EA%B8%B0%ED%9B%84.ipynb\" target=\"_parent\"><img src=\"https://colab.research.google.com/assets/colab-badge.svg\" alt=\"Open In Colab\"/></a>"
      ]
    },
    {
      "cell_type": "code",
      "execution_count": 1,
      "metadata": {
        "colab": {
          "base_uri": "https://localhost:8080/"
        },
        "id": "ADor7wzIFdaf",
        "outputId": "c511efd9-adab-4038-db3a-469757059890"
      },
      "outputs": [
        {
          "output_type": "stream",
          "name": "stdout",
          "text": [
            "Mounted at /content/drive\n",
            "/content/drive/MyDrive/ai_chat_python\n"
          ]
        }
      ],
      "source": [
        "from google.colab import drive\n",
        "drive.mount('/content/drive')\n",
        "\n",
        "%cd '/content/drive/MyDrive/ai_chat_python'"
      ]
    },
    {
      "cell_type": "code",
      "source": [
        "from bs4 import BeautifulSoup\n",
        "import requests\n",
        "\n",
        "# result dict으로 받기.\n",
        "result = {}\n",
        "\n",
        "# url 설정하기.\n",
        "url = 'https://www.weather.go.kr/w/obs-climate/land/city-obs.do'\n",
        "res = requests.get(url)\n",
        "print(res) # Response [200]\n",
        "\n",
        "soup = BeautifulSoup(res.text, 'html.parser')\n",
        "\n",
        "# 현재 시간 설정하기.\n",
        "# id에서 value를 가져온다.\n",
        "datetm = soup.select_one('#select-tm').get('value')\n",
        "# print(datetm)\n",
        "result['datetm'] = datetm\n",
        "\n",
        "tbody_tag = soup.find('tbody')\n",
        "tr_rs_tag = tbody_tag.find_all('tr')\n",
        "\n",
        "for tr_tag in tr_rs_tag:\n",
        "  td_rs_tag = tr_tag.find_all('td')\n",
        "\n",
        "  city = td_rs_tag[0].string     # 도시이름\n",
        "  if city == '서울':\n",
        "    cur_temp = td_rs_tag[5].text # 현재기온\n",
        "    sen_temp = td_rs_tag[7].string # 체감온도\n",
        "    result['city']=city\n",
        "    result['cur_temp']= cur_temp\n",
        "    result['sen_temp']= sen_temp\n",
        "    break\n",
        "\n",
        "print(result)\n",
        "\n",
        "import json\n",
        "import datetime\n",
        "import kakao_utils\n",
        "\n",
        "# 토큰 가져오기.\n",
        "KAKAO_TOKEN_FILENAME = './res/kakao_message/kakao_token.json'\n",
        "\n",
        "# REST API KEY 가져오기.\n",
        "KAKAO_APP_KEY = 'REST API Key'\n",
        "\n",
        "# 토큰 업데이트하기.\n",
        "tokens = kakao_utils.update_tokens(KAKAO_APP_KEY, KAKAO_TOKEN_FILENAME)\n",
        "\n",
        "# 날씨 정보 만들기.\n",
        "text = f\"\"\"\\\n",
        "\\ 날짜 정보 ({result['datetm']})\n",
        "도시 : {result['city']}\n",
        "현재온도 : {result['cur_temp']}\n",
        "체감온도 {result['sen_temp']}\n",
        "\"\"\"\n",
        "\n",
        "# 텍스트 템플릿 형식 만들기\n",
        "weather_url=\"https://www.weather.go.kr/w/obs-climate/land/city-obs.do?tm=2023.12.6.12:00&type=t99&mode=0&reg=100&auto_man=m&stn=108\"\n",
        "template = {\n",
        "        'object_type' : 'text',\n",
        "        'text': text,\n",
        "        'link':{\n",
        "            'web_url':weather_url,\n",
        "            'mobile_web_url':weather_url\n",
        "        },\n",
        "        \"button_title\":\"날씨 상세보기\"\n",
        "}\n",
        "\n",
        "\n",
        "# 나에게 카카오톡 메시지 보내기 요청 (text type)\n",
        "res = kakao_utils.send_message(KAKAO_TOKEN_FILENAME, template)\n",
        "\n",
        "if res.json().get('result_code') == 0:\n",
        "  print('날씨 및 미세먼지 정보를 성공적으로 보냈습니다.')\n",
        "else:\n",
        "  print('날씨 및 미세먼지 정보를 보내지못했습니다. 오류메시지:', res.json())"
      ],
      "metadata": {
        "id": "KyokuuQ9F4TB"
      },
      "execution_count": null,
      "outputs": []
    }
  ]
}