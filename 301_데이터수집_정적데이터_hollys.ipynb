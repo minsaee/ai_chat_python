{
  "nbformat": 4,
  "nbformat_minor": 0,
  "metadata": {
    "colab": {
      "provenance": [],
      "authorship_tag": "ABX9TyPF3nxOP0eN1aGnTLNQ4sEh",
      "include_colab_link": true
    },
    "kernelspec": {
      "name": "python3",
      "display_name": "Python 3"
    },
    "language_info": {
      "name": "python"
    }
  },
  "cells": [
    {
      "cell_type": "markdown",
      "metadata": {
        "id": "view-in-github",
        "colab_type": "text"
      },
      "source": [
        "<a href=\"https://colab.research.google.com/github/minsaee/ai_chat_python/blob/master/301_%EB%8D%B0%EC%9D%B4%ED%84%B0%EC%88%98%EC%A7%91_%EC%A0%95%EC%A0%81%EB%8D%B0%EC%9D%B4%ED%84%B0_hollys.ipynb\" target=\"_parent\"><img src=\"https://colab.research.google.com/assets/colab-badge.svg\" alt=\"Open In Colab\"/></a>"
      ]
    },
    {
      "cell_type": "code",
      "execution_count": 1,
      "metadata": {
        "id": "xu2wfUgs89ZJ"
      },
      "outputs": [],
      "source": [
        "import requests\n",
        "# import bs4\n",
        "from bs4 import BeautifulSoup"
      ]
    },
    {
      "cell_type": "code",
      "source": [
        "url = 'https://www.hollys.co.kr/store/korea/korStore2.do'\n",
        "\n",
        "res = requests.get(url)\n",
        "print(res)\n",
        "\n",
        "soup = BeautifulSoup(res.text, 'html.parser')\n",
        "# print(soup)\n",
        "# print(type(soup)) # bs4.BeautifulSoup\n",
        "# print(dir(soup))"
      ],
      "metadata": {
        "colab": {
          "base_uri": "https://localhost:8080/"
        },
        "id": "Jn3QM2Pb9M0Q",
        "outputId": "60e4c819-7388-48be-9134-a6639bad4418"
      },
      "execution_count": 10,
      "outputs": [
        {
          "output_type": "stream",
          "name": "stdout",
          "text": [
            "<Response [200]>\n"
          ]
        }
      ]
    },
    {
      "cell_type": "code",
      "source": [
        "# find를 이용해서 가져오기.\n",
        "\n",
        "tag_body = soup.find('tbody')\n",
        "# print(tag_body) # bs4.element.Tag\n",
        "\n",
        "tag_tr = tag_body.find_all('tr')\n",
        "# print(tag_tr) # bs4.element.ResultSet"
      ],
      "metadata": {
        "id": "Mg1aKIaa9ptm"
      },
      "execution_count": 25,
      "outputs": []
    },
    {
      "cell_type": "code",
      "source": [
        "# select를 이용해서 가져오기.\n",
        "\n",
        "tag_table = soup.select_one('table.tb_store tbody') # #contents > div.content > fieldset > fieldset > div.tableType01 > table\n",
        "# print(tag_table) # bs4.element.Tag\n",
        "\n",
        "tag_tr_list = tag_table.select('tr')\n",
        "# print(tag_tr_list) # bs4.element.ResultSet"
      ],
      "metadata": {
        "id": "-5qpS5-4_9wp"
      },
      "execution_count": 27,
      "outputs": []
    }
  ]
}