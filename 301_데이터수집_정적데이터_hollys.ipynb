{
  "nbformat": 4,
  "nbformat_minor": 0,
  "metadata": {
    "colab": {
      "provenance": [],
      "authorship_tag": "ABX9TyNOw81eHvWoQH6ZnUJ7Yv5q",
      "include_colab_link": true
    },
    "kernelspec": {
      "name": "python3",
      "display_name": "Python 3"
    },
    "language_info": {
      "name": "python"
    }
  },
  "cells": [
    {
      "cell_type": "markdown",
      "metadata": {
        "id": "view-in-github",
        "colab_type": "text"
      },
      "source": [
        "<a href=\"https://colab.research.google.com/github/minsaee/ai_chat_python/blob/master/301_%EB%8D%B0%EC%9D%B4%ED%84%B0%EC%88%98%EC%A7%91_%EC%A0%95%EC%A0%81%EB%8D%B0%EC%9D%B4%ED%84%B0_hollys.ipynb\" target=\"_parent\"><img src=\"https://colab.research.google.com/assets/colab-badge.svg\" alt=\"Open In Colab\"/></a>"
      ]
    },
    {
      "cell_type": "code",
      "execution_count": 21,
      "metadata": {
        "id": "xu2wfUgs89ZJ"
      },
      "outputs": [],
      "source": [
        "import requests\n",
        "# import bs4\n",
        "from bs4 import BeautifulSoup"
      ]
    },
    {
      "cell_type": "code",
      "source": [
        "url = 'https://www.hollys.co.kr/store/korea/korStore2.do'\n",
        "\n",
        "res = requests.get(url)\n",
        "print(res)\n",
        "\n",
        "soup = BeautifulSoup(res.text, 'html.parser')\n",
        "# print(soup)\n",
        "# print(type(soup)) # bs4.BeautifulSoup\n",
        "# print(dir(soup))"
      ],
      "metadata": {
        "colab": {
          "base_uri": "https://localhost:8080/"
        },
        "id": "Jn3QM2Pb9M0Q",
        "outputId": "f4654342-484f-41c5-f187-87c9c196b9e9"
      },
      "execution_count": 22,
      "outputs": [
        {
          "output_type": "stream",
          "name": "stdout",
          "text": [
            "<Response [200]>\n"
          ]
        }
      ]
    },
    {
      "cell_type": "code",
      "source": [
        "# find를 이용해서 가져오기.\n",
        "\n",
        "tag_body = soup.find('tbody')\n",
        "# print(tag_body) # bs4.element.Tag\n",
        "\n",
        "tag_tr = tag_body.find_all('tr')\n",
        "# print(tag_tr) # bs4.element.ResultSet"
      ],
      "metadata": {
        "id": "Mg1aKIaa9ptm"
      },
      "execution_count": 23,
      "outputs": []
    },
    {
      "cell_type": "code",
      "source": [
        "# select를 이용해서 가져오기.\n",
        "\n",
        "tag_table = soup.select_one('table.tb_store tbody') # #contents > div.content > fieldset > fieldset > div.tableType01 > table\n",
        "# print(tag_table) # bs4.element.Tag\n",
        "\n",
        "tag_tr_list = tag_table.select('tr')\n",
        "# print(tag_tr_list) # bs4.element.ResultSet"
      ],
      "metadata": {
        "id": "-5qpS5-4_9wp"
      },
      "execution_count": 24,
      "outputs": []
    },
    {
      "cell_type": "code",
      "source": [
        "len(tag_tr_list)"
      ],
      "metadata": {
        "colab": {
          "base_uri": "https://localhost:8080/"
        },
        "id": "8RMHyFjDWVoB",
        "outputId": "9e562767-f505-4116-e0f6-3e7bdc1505fb"
      },
      "execution_count": 25,
      "outputs": [
        {
          "output_type": "execute_result",
          "data": {
            "text/plain": [
              "10"
            ]
          },
          "metadata": {},
          "execution_count": 25
        }
      ]
    },
    {
      "cell_type": "code",
      "source": [
        "for store in tag_tr_list:\n",
        "  td_area = store.find('td')\n",
        "  print(td_area.text)\n",
        "  # break"
      ],
      "metadata": {
        "colab": {
          "base_uri": "https://localhost:8080/"
        },
        "id": "3mOOxJ03Za-o",
        "outputId": "6516028a-0524-45f5-ca21-5b94dc30f84a"
      },
      "execution_count": 26,
      "outputs": [
        {
          "output_type": "stream",
          "name": "stdout",
          "text": [
            "서울 중랑구\n",
            "경기 성남시 분당구\n",
            "서울 광진구\n",
            "경기 오산시\n",
            "서울 양천구\n",
            "경기 오산시\n",
            "서울 용산구\n",
            "서울 강서구\n",
            "부산 사상구\n",
            "강원 춘천시\n"
          ]
        }
      ]
    },
    {
      "cell_type": "code",
      "source": [
        "for store in tag_tr_list:\n",
        "  td_list = store.find_all('td')\n",
        "  # store_id = store[0].text\n",
        "  print(td_list[0].text)"
      ],
      "metadata": {
        "colab": {
          "base_uri": "https://localhost:8080/"
        },
        "id": "NmBobRLtW38k",
        "outputId": "3f7d6c3e-7650-4e33-a1a1-f5186d901e73"
      },
      "execution_count": 27,
      "outputs": [
        {
          "output_type": "stream",
          "name": "stdout",
          "text": [
            "서울 중랑구\n",
            "경기 성남시 분당구\n",
            "서울 광진구\n",
            "경기 오산시\n",
            "서울 양천구\n",
            "경기 오산시\n",
            "서울 용산구\n",
            "서울 강서구\n",
            "부산 사상구\n",
            "강원 춘천시\n"
          ]
        }
      ]
    },
    {
      "cell_type": "code",
      "source": [
        "for store in tag_tr_list:\n",
        "  td_area = store.select_one('.noline.center_t')\n",
        "  print(td_area.text)"
      ],
      "metadata": {
        "colab": {
          "base_uri": "https://localhost:8080/"
        },
        "id": "aLEG7jKpYUHB",
        "outputId": "842023db-a79d-4543-9d9d-9bc94bb74c15"
      },
      "execution_count": 28,
      "outputs": [
        {
          "output_type": "stream",
          "name": "stdout",
          "text": [
            "서울 중랑구\n",
            "경기 성남시 분당구\n",
            "서울 광진구\n",
            "경기 오산시\n",
            "서울 양천구\n",
            "경기 오산시\n",
            "서울 용산구\n",
            "서울 강서구\n",
            "부산 사상구\n",
            "강원 춘천시\n"
          ]
        }
      ]
    },
    {
      "cell_type": "code",
      "source": [
        "for store in tag_tr_list:\n",
        "  td_list = store.select('td')\n",
        "  print(td_list[0].text, td_list[1].text, td_list[2].text, td_list[3].text, td_list[5].text)"
      ],
      "metadata": {
        "colab": {
          "base_uri": "https://localhost:8080/"
        },
        "id": "SzjF2NiUZJqA",
        "outputId": "55f6f441-6519-4323-8222-e6f114c3058a"
      },
      "execution_count": 29,
      "outputs": [
        {
          "output_type": "stream",
          "name": "stdout",
          "text": [
            "서울 중랑구 중랑역점 영업중 서울특별시 중랑구 망우로 210 (상봉동) . 02.6085.7858\n",
            "경기 성남시 분당구 분당서울대병원점 영업중 경기도 성남시 분당구 구미로173번길 82 (구미동, 분당서울대학교병원) 본관 1동 031-8039-6020\n",
            "서울 광진구 강변역점 영업중 서울 광진구 구의강변로 64, 구의아크로리버 1층 구의동 589-10 070-7802-0303\n",
            "경기 오산시 오산궐동점 오픈예정 경기도 오산시 궐리사길 34, 1층 031-374-7999\n",
            "서울 양천구 서서울공원점 영업중 서울특별시 양천구 남부순환로58길 37 신월동 205-36 070-4277-6756\n",
            "경기 오산시 오산역점 영업중 경기도 오산시 오산로 195 (오산동, 명신예식홀) . 031-8042-7719\n",
            "서울 용산구 용산아이파크몰점 영업중 서울특별시 용산구 한강대로23길 55 (한강로3가, 용산역) 4층 02-2012-0473\n",
            "서울 강서구 등촌역점 영업중 서울특별시 강서구 등촌로 229 (등촌동)  02-2655-2290\n",
            "부산 사상구 부산서부터미널점 영업중 부산광역시 사상구 사상로 201 (괘법동, 서부시외버스터미널) . 051-323-0305\n",
            "강원 춘천시 춘천강원대점 영업중 강원특별자치도 춘천시 서부대성로 229 (효자동) . 033-253-0425\n"
          ]
        }
      ]
    },
    {
      "cell_type": "code",
      "source": [
        "result = []\n",
        "\n",
        "for store in tag_tr_list:\n",
        "  td_area = store.select_one('.noline.center_t')\n",
        "  td_point = store.select_one('td:nth-child(2)')\n",
        "  td_open = store.select_one('td.center_t.tdp0')\n",
        "  td_addr = store.select_one('td:nth-child(4)')\n",
        "  td_tel = store.select_one('td:nth-child(6)')\n",
        "  result.append([td_area.text]+[td_point.text]+[td_open.text]+[td_addr.text]+[td_tel.text])\n",
        "  print(td_area.text, td_point.text, td_open.text, td_addr.text, td_tel.text)"
      ],
      "metadata": {
        "colab": {
          "base_uri": "https://localhost:8080/"
        },
        "id": "vz7XpS2paZJA",
        "outputId": "4c8bc0b9-b584-4bbf-8472-22dc844a591e"
      },
      "execution_count": 30,
      "outputs": [
        {
          "output_type": "stream",
          "name": "stdout",
          "text": [
            "서울 중랑구 중랑역점 영업중 서울특별시 중랑구 망우로 210 (상봉동) . 02.6085.7858\n",
            "경기 성남시 분당구 분당서울대병원점 영업중 경기도 성남시 분당구 구미로173번길 82 (구미동, 분당서울대학교병원) 본관 1동 031-8039-6020\n",
            "서울 광진구 강변역점 영업중 서울 광진구 구의강변로 64, 구의아크로리버 1층 구의동 589-10 070-7802-0303\n",
            "경기 오산시 오산궐동점 오픈예정 경기도 오산시 궐리사길 34, 1층 031-374-7999\n",
            "서울 양천구 서서울공원점 영업중 서울특별시 양천구 남부순환로58길 37 신월동 205-36 070-4277-6756\n",
            "경기 오산시 오산역점 영업중 경기도 오산시 오산로 195 (오산동, 명신예식홀) . 031-8042-7719\n",
            "서울 용산구 용산아이파크몰점 영업중 서울특별시 용산구 한강대로23길 55 (한강로3가, 용산역) 4층 02-2012-0473\n",
            "서울 강서구 등촌역점 영업중 서울특별시 강서구 등촌로 229 (등촌동)  02-2655-2290\n",
            "부산 사상구 부산서부터미널점 영업중 부산광역시 사상구 사상로 201 (괘법동, 서부시외버스터미널) . 051-323-0305\n",
            "강원 춘천시 춘천강원대점 영업중 강원특별자치도 춘천시 서부대성로 229 (효자동) . 033-253-0425\n"
          ]
        }
      ]
    },
    {
      "cell_type": "markdown",
      "source": [
        "### 드라이브 연결"
      ],
      "metadata": {
        "id": "woKCn8GIc8jf"
      }
    },
    {
      "cell_type": "code",
      "source": [
        "from google.colab import drive\n",
        "drive.mount('/content/drive')"
      ],
      "metadata": {
        "colab": {
          "base_uri": "https://localhost:8080/"
        },
        "id": "xneVxlJQbFZg",
        "outputId": "bf465320-fdaa-4709-c424-784db07586ac"
      },
      "execution_count": 31,
      "outputs": [
        {
          "output_type": "stream",
          "name": "stdout",
          "text": [
            "Drive already mounted at /content/drive; to attempt to forcibly remount, call drive.mount(\"/content/drive\", force_remount=True).\n"
          ]
        }
      ]
    },
    {
      "cell_type": "code",
      "source": [
        "%cd /content/drive/MyDrive/ai_chat_python"
      ],
      "metadata": {
        "colab": {
          "base_uri": "https://localhost:8080/"
        },
        "id": "LhuP9hKqc_gK",
        "outputId": "5ffa252a-51a6-47a1-89b9-1d3bbc9911c5"
      },
      "execution_count": 32,
      "outputs": [
        {
          "output_type": "stream",
          "name": "stdout",
          "text": [
            "/content/drive/MyDrive/ai_chat_python\n"
          ]
        }
      ]
    },
    {
      "cell_type": "code",
      "source": [
        "!pwd"
      ],
      "metadata": {
        "colab": {
          "base_uri": "https://localhost:8080/"
        },
        "id": "lnuwUk-vdGaR",
        "outputId": "1ee93441-6616-412e-e46c-9727959f4108"
      },
      "execution_count": 33,
      "outputs": [
        {
          "output_type": "stream",
          "name": "stdout",
          "text": [
            "/content/drive/MyDrive/ai_chat_python\n"
          ]
        }
      ]
    },
    {
      "cell_type": "markdown",
      "source": [
        "### 파일 저장"
      ],
      "metadata": {
        "id": "DKlZeSjSdg0L"
      }
    },
    {
      "cell_type": "code",
      "source": [
        "import csv\n",
        "\n",
        "fields = ['store_area', ' store_point', 'store_open', 'stroe_addr', 'store_tel']\n",
        "\n",
        "with open('./source/hollys.csv', 'w') as f:\n",
        "  write = csv.writer(f)\n",
        "  write.writerow(fields)\n",
        "  write.writerows(result)"
      ],
      "metadata": {
        "id": "fDDqbbBhdieS"
      },
      "execution_count": 34,
      "outputs": []
    },
    {
      "cell_type": "markdown",
      "source": [
        "### 파일 읽기"
      ],
      "metadata": {
        "id": "TtCVf5nBgTD-"
      }
    },
    {
      "cell_type": "code",
      "source": [
        "import csv\n",
        "\n",
        "with open('./source/hollys.csv', 'r') as f:\n",
        "  reader = csv.reader(f)\n",
        "  for row in reader:\n",
        "    for cell in row:\n",
        "      print(cell, end = ',')\n",
        "    print(end='\\n')"
      ],
      "metadata": {
        "colab": {
          "base_uri": "https://localhost:8080/"
        },
        "id": "kf0WdYfPgUMp",
        "outputId": "ce429e14-931c-4b70-aa82-134027a70c53"
      },
      "execution_count": 35,
      "outputs": [
        {
          "output_type": "stream",
          "name": "stdout",
          "text": [
            "store_area, store_point,store_open,stroe_addr,store_tel,\n",
            "서울 중랑구,중랑역점,영업중,서울특별시 중랑구 망우로 210 (상봉동) .,02.6085.7858,\n",
            "경기 성남시 분당구,분당서울대병원점,영업중,경기도 성남시 분당구 구미로173번길 82 (구미동, 분당서울대학교병원) 본관 1동,031-8039-6020,\n",
            "서울 광진구,강변역점,영업중,서울 광진구 구의강변로 64, 구의아크로리버 1층 구의동 589-10,070-7802-0303,\n",
            "경기 오산시,오산궐동점,오픈예정,경기도 오산시 궐리사길 34, 1층,031-374-7999,\n",
            "서울 양천구,서서울공원점,영업중,서울특별시 양천구 남부순환로58길 37 신월동 205-36,070-4277-6756,\n",
            "경기 오산시,오산역점,영업중,경기도 오산시 오산로 195 (오산동, 명신예식홀) .,031-8042-7719,\n",
            "서울 용산구,용산아이파크몰점,영업중,서울특별시 용산구 한강대로23길 55 (한강로3가, 용산역) 4층,02-2012-0473,\n",
            "서울 강서구,등촌역점,영업중,서울특별시 강서구 등촌로 229 (등촌동) ,02-2655-2290,\n",
            "부산 사상구,부산서부터미널점,영업중,부산광역시 사상구 사상로 201 (괘법동, 서부시외버스터미널) .,051-323-0305,\n",
            "강원 춘천시,춘천강원대점,영업중,강원특별자치도 춘천시 서부대성로 229 (효자동) .,033-253-0425,\n"
          ]
        }
      ]
    },
    {
      "cell_type": "code",
      "source": [
        "import csv\n",
        "\n",
        "with open('./source/hollys.csv', 'r') as f:\n",
        "  reader = csv.reader(f)\n",
        "  for row in reader:\n",
        "    # print(row)\n",
        "    # print(type(row))\n",
        "    print('.'.join(row))"
      ],
      "metadata": {
        "colab": {
          "base_uri": "https://localhost:8080/"
        },
        "id": "MzYbGr3bk3wW",
        "outputId": "524bc4c1-e6b6-4b7d-ac14-ab34c28068a8"
      },
      "execution_count": 36,
      "outputs": [
        {
          "output_type": "stream",
          "name": "stdout",
          "text": [
            "store_area. store_point.store_open.stroe_addr.store_tel\n",
            "서울 중랑구.중랑역점.영업중.서울특별시 중랑구 망우로 210 (상봉동) ..02.6085.7858\n",
            "경기 성남시 분당구.분당서울대병원점.영업중.경기도 성남시 분당구 구미로173번길 82 (구미동, 분당서울대학교병원) 본관 1동.031-8039-6020\n",
            "서울 광진구.강변역점.영업중.서울 광진구 구의강변로 64, 구의아크로리버 1층 구의동 589-10.070-7802-0303\n",
            "경기 오산시.오산궐동점.오픈예정.경기도 오산시 궐리사길 34, 1층.031-374-7999\n",
            "서울 양천구.서서울공원점.영업중.서울특별시 양천구 남부순환로58길 37 신월동 205-36.070-4277-6756\n",
            "경기 오산시.오산역점.영업중.경기도 오산시 오산로 195 (오산동, 명신예식홀) ..031-8042-7719\n",
            "서울 용산구.용산아이파크몰점.영업중.서울특별시 용산구 한강대로23길 55 (한강로3가, 용산역) 4층.02-2012-0473\n",
            "서울 강서구.등촌역점.영업중.서울특별시 강서구 등촌로 229 (등촌동) .02-2655-2290\n",
            "부산 사상구.부산서부터미널점.영업중.부산광역시 사상구 사상로 201 (괘법동, 서부시외버스터미널) ..051-323-0305\n",
            "강원 춘천시.춘천강원대점.영업중.강원특별자치도 춘천시 서부대성로 229 (효자동) ..033-253-0425\n"
          ]
        }
      ]
    },
    {
      "cell_type": "code",
      "source": [
        "import datetime\n",
        "\n",
        "# 현재시각\n",
        "now = datetime.datetime.today()\n",
        "print(now)\n",
        "print(dir(now))\n",
        "\n",
        "print(now.year, now.month, now.day, now.hour, now.minute, now.second)"
      ],
      "metadata": {
        "colab": {
          "base_uri": "https://localhost:8080/"
        },
        "id": "anxkI39jloku",
        "outputId": "7ef546ad-fdc6-4dd2-d283-795032be7953"
      },
      "execution_count": 37,
      "outputs": [
        {
          "output_type": "stream",
          "name": "stdout",
          "text": [
            "2023-11-28 05:47:44.032173\n",
            "['__add__', '__class__', '__delattr__', '__dir__', '__doc__', '__eq__', '__format__', '__ge__', '__getattribute__', '__gt__', '__hash__', '__init__', '__init_subclass__', '__le__', '__lt__', '__ne__', '__new__', '__radd__', '__reduce__', '__reduce_ex__', '__repr__', '__rsub__', '__setattr__', '__sizeof__', '__str__', '__sub__', '__subclasshook__', 'astimezone', 'combine', 'ctime', 'date', 'day', 'dst', 'fold', 'fromisocalendar', 'fromisoformat', 'fromordinal', 'fromtimestamp', 'hour', 'isocalendar', 'isoformat', 'isoweekday', 'max', 'microsecond', 'min', 'minute', 'month', 'now', 'replace', 'resolution', 'second', 'strftime', 'strptime', 'time', 'timestamp', 'timetuple', 'timetz', 'today', 'toordinal', 'tzinfo', 'tzname', 'utcfromtimestamp', 'utcnow', 'utcoffset', 'utctimetuple', 'weekday', 'year']\n",
            "2023 11 28 5 47 44\n"
          ]
        }
      ]
    },
    {
      "cell_type": "markdown",
      "source": [
        "### 파일 작성하여 크롤링하기"
      ],
      "metadata": {
        "id": "OdqebWflluck"
      }
    },
    {
      "cell_type": "code",
      "source": [
        "%%writefile ./source/hollys_collector.py\n",
        "\n",
        "from bs4 import BeautifulSoup\n",
        "import requests\n",
        "import csv\n",
        "import datetime\n",
        "\n",
        "result = []\n",
        "rowdata = []\n",
        "\n",
        "def hollys_process():\n",
        "\n",
        "  url = 'https://www.hollys.co.kr/store/korea/korStore2.do'\n",
        "  res = requests.get(url)\n",
        "  soup = BeautifulSoup(res.text, 'html.parser')\n",
        "\n",
        "  tag_table = soup.select_one('table.tb_store tbody')\n",
        "  tag_tr_list = tag_table.select('tr')\n",
        "\n",
        "  for store in tag_tr_list:\n",
        "    td_area = store.select_one('td.noline.center_t').text\n",
        "    td_point = store.select_one('td:nth-child(2)').text\n",
        "    td_open = store.select_one('td.center_t.tdp0').text\n",
        "    td_addr = store.select_one('td:nth-child(4)').text\n",
        "    td_tel = store.select_one('td:nth-child(6)').text\n",
        "    result.append([td_area]+[td_point]+[td_open]+[td_addr]+[td_tel])\n",
        "\n",
        "  global rowdata\n",
        "  rowdata = result.copy()\n",
        "\n",
        "def hollys_save(filename):\n",
        "  fields = ['store_area', ' store_point', 'store_open', 'stroe_addr', 'store_tel']\n",
        "\n",
        "  with open('./source/'+filename, 'w') as f:\n",
        "    write = csv.writer(f)\n",
        "    write.writerow(fields)\n",
        "    write.writerows(rowdata)\n",
        "\n",
        "  print('hollys 데이터 저장 완료')\n",
        "  del result[:]\n",
        "\n",
        "\n",
        "def hollys_load(filename):\n",
        "  with open('./source/'+filename, 'r') as f:\n",
        "    reader = csv.reader(f)\n",
        "\n",
        "    for row in reader:\n",
        "      print('.'.join(row))\n",
        "\n",
        "if __name__=='__main__':\n",
        "  hollys_process()\n",
        "\n",
        "  to_now = datetime.datetime.now()\n",
        "  to_now = to_now.strftime('%Y-%m-%d %H:%M:%s')\n",
        "  # filename = '%s-hollys.csv' % (to_now)\n",
        "  filename = '{}-hollys.csv'.format(to_now)\n",
        "  hollys_save(filename)\n",
        "\n",
        "  hollys_load(filename)"
      ],
      "metadata": {
        "colab": {
          "base_uri": "https://localhost:8080/"
        },
        "id": "KuknSeArmbLQ",
        "outputId": "31ba89ec-8d8b-40d0-acee-7b39eac7d666"
      },
      "execution_count": 38,
      "outputs": [
        {
          "output_type": "stream",
          "name": "stdout",
          "text": [
            "Overwriting ./source/hollys_collector.py\n"
          ]
        }
      ]
    },
    {
      "cell_type": "code",
      "source": [
        "!pwd"
      ],
      "metadata": {
        "colab": {
          "base_uri": "https://localhost:8080/"
        },
        "id": "AdWTzOXRuJPb",
        "outputId": "0344598a-a25e-4be7-dc88-bc06c1e892e2"
      },
      "execution_count": 39,
      "outputs": [
        {
          "output_type": "stream",
          "name": "stdout",
          "text": [
            "/content/drive/MyDrive/ai_chat_python\n"
          ]
        }
      ]
    },
    {
      "cell_type": "code",
      "source": [
        "!python ./source/hollys_collector.py"
      ],
      "metadata": {
        "colab": {
          "base_uri": "https://localhost:8080/"
        },
        "id": "CJky20h5uOIS",
        "outputId": "21430193-5376-4f7d-d4e9-af22559e3b49"
      },
      "execution_count": 40,
      "outputs": [
        {
          "output_type": "stream",
          "name": "stdout",
          "text": [
            "hollys 데이터 저장 완료\n",
            "store_area. store_point.store_open.stroe_addr.store_tel\n",
            "서울 중랑구.중랑역점.영업중.서울특별시 중랑구 망우로 210 (상봉동) ..02.6085.7858\n",
            "경기 성남시 분당구.분당서울대병원점.영업중.경기도 성남시 분당구 구미로173번길 82 (구미동, 분당서울대학교병원) 본관 1동.031-8039-6020\n",
            "서울 광진구.강변역점.영업중.서울 광진구 구의강변로 64, 구의아크로리버 1층 구의동 589-10.070-7802-0303\n",
            "경기 오산시.오산궐동점.오픈예정.경기도 오산시 궐리사길 34, 1층.031-374-7999\n",
            "서울 양천구.서서울공원점.영업중.서울특별시 양천구 남부순환로58길 37 신월동 205-36.070-4277-6756\n",
            "경기 오산시.오산역점.영업중.경기도 오산시 오산로 195 (오산동, 명신예식홀) ..031-8042-7719\n",
            "서울 용산구.용산아이파크몰점.영업중.서울특별시 용산구 한강대로23길 55 (한강로3가, 용산역) 4층.02-2012-0473\n",
            "서울 강서구.등촌역점.영업중.서울특별시 강서구 등촌로 229 (등촌동) .02-2655-2290\n",
            "부산 사상구.부산서부터미널점.영업중.부산광역시 사상구 사상로 201 (괘법동, 서부시외버스터미널) ..051-323-0305\n",
            "강원 춘천시.춘천강원대점.영업중.강원특별자치도 춘천시 서부대성로 229 (효자동) ..033-253-0425\n"
          ]
        }
      ]
    }
  ]
}