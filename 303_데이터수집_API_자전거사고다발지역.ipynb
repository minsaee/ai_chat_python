{
  "nbformat": 4,
  "nbformat_minor": 0,
  "metadata": {
    "colab": {
      "provenance": [],
      "authorship_tag": "ABX9TyO60QPFiYl/qX69qpDsaJFm",
      "include_colab_link": true
    },
    "kernelspec": {
      "name": "python3",
      "display_name": "Python 3"
    },
    "language_info": {
      "name": "python"
    }
  },
  "cells": [
    {
      "cell_type": "markdown",
      "metadata": {
        "id": "view-in-github",
        "colab_type": "text"
      },
      "source": [
        "<a href=\"https://colab.research.google.com/github/minsaee/ai_chat_python/blob/master/303_%EB%8D%B0%EC%9D%B4%ED%84%B0%EC%88%98%EC%A7%91_API_%EC%9E%90%EC%A0%84%EA%B1%B0%EC%82%AC%EA%B3%A0%EB%8B%A4%EB%B0%9C%EC%A7%80%EC%97%AD.ipynb\" target=\"_parent\"><img src=\"https://colab.research.google.com/assets/colab-badge.svg\" alt=\"Open In Colab\"/></a>"
      ]
    },
    {
      "cell_type": "markdown",
      "source": [
        "# API에서 json 데이터 읽어오기"
      ],
      "metadata": {
        "id": "8KTA9RhEDimk"
      }
    },
    {
      "cell_type": "markdown",
      "source": [
        "### 공공데이터 포털\n",
        "- https://www.data.go.kr/index.do\n",
        "- https://www.data.go.kr/data/15056681/openapi.do\n",
        "- 도로교통공단_자전거사고다발지역정보서비스"
      ],
      "metadata": {
        "id": "8U0aBJGgoPPJ"
      }
    },
    {
      "cell_type": "markdown",
      "source": [
        "### 구글 드라이브 연동"
      ],
      "metadata": {
        "id": "oKEn-IzdsJdX"
      }
    },
    {
      "cell_type": "code",
      "source": [
        "from google.colab import drive\n",
        "drive.mount('/content/drive')"
      ],
      "metadata": {
        "colab": {
          "base_uri": "https://localhost:8080/"
        },
        "id": "9KHrNHgOsNWC",
        "outputId": "481416ca-f43c-4c58-c192-62ad8e138927"
      },
      "execution_count": null,
      "outputs": [
        {
          "output_type": "stream",
          "name": "stdout",
          "text": [
            "Mounted at /content/drive\n"
          ]
        }
      ]
    },
    {
      "cell_type": "code",
      "source": [
        "%cd /content/drive/MyDrive/ai_chat_python"
      ],
      "metadata": {
        "colab": {
          "base_uri": "https://localhost:8080/"
        },
        "id": "SDBLgukGsmeX",
        "outputId": "b856ac5a-e907-416c-cfda-7c8dc0f916e8"
      },
      "execution_count": null,
      "outputs": [
        {
          "output_type": "stream",
          "name": "stdout",
          "text": [
            "/content/drive/MyDrive/ai_chat_python\n"
          ]
        }
      ]
    },
    {
      "cell_type": "markdown",
      "source": [
        "# XXXXXXXXXXXXX key 값 github에 노출 XXXXXXXXXXXX"
      ],
      "metadata": {
        "id": "eEjrcnVfu8b3"
      }
    },
    {
      "cell_type": "code",
      "source": [
        "import requests"
      ],
      "metadata": {
        "id": "50fmaY8MvMGH"
      },
      "execution_count": null,
      "outputs": []
    },
    {
      "cell_type": "code",
      "source": [
        "url = 'http://apis.data.go.kr/B552061/frequentzoneBicycle/getRestFrequentzoneBicycle'\n",
        "key = '키'\n",
        "url += '?ServiceKey='+ key +'&searchYearCd=2021&siDo=11&guGun=110&type=json&numOfRows=10&pageNo=1'\n",
        "\n",
        "response = requests.get(url)\n",
        "print(response) # <Response [200]>"
      ],
      "metadata": {
        "colab": {
          "base_uri": "https://localhost:8080/"
        },
        "id": "RHe9OYs0tboe",
        "outputId": "109c91a1-293e-4e67-b11f-5f8636a5ade4"
      },
      "execution_count": null,
      "outputs": [
        {
          "output_type": "stream",
          "name": "stdout",
          "text": [
            "<Response [200]>\n"
          ]
        }
      ]
    },
    {
      "cell_type": "code",
      "source": [
        "print(dir(response))\n",
        "print(type(response)) # requests.models.Response\n",
        "print(response.json)  # <bound method Response.json of <Response [200]>>"
      ],
      "metadata": {
        "colab": {
          "base_uri": "https://localhost:8080/"
        },
        "id": "3ypk0Lg6v35d",
        "outputId": "828bb5ba-9f36-4843-fa90-2efd5097c00c"
      },
      "execution_count": null,
      "outputs": [
        {
          "output_type": "stream",
          "name": "stdout",
          "text": [
            "['__attrs__', '__bool__', '__class__', '__delattr__', '__dict__', '__dir__', '__doc__', '__enter__', '__eq__', '__exit__', '__format__', '__ge__', '__getattribute__', '__getstate__', '__gt__', '__hash__', '__init__', '__init_subclass__', '__iter__', '__le__', '__lt__', '__module__', '__ne__', '__new__', '__nonzero__', '__reduce__', '__reduce_ex__', '__repr__', '__setattr__', '__setstate__', '__sizeof__', '__str__', '__subclasshook__', '__weakref__', '_content', '_content_consumed', '_next', 'apparent_encoding', 'close', 'connection', 'content', 'cookies', 'elapsed', 'encoding', 'headers', 'history', 'is_permanent_redirect', 'is_redirect', 'iter_content', 'iter_lines', 'json', 'links', 'next', 'ok', 'raise_for_status', 'raw', 'reason', 'request', 'status_code', 'text', 'url']\n",
            "<class 'requests.models.Response'>\n",
            "<bound method Response.json of <Response [200]>>\n"
          ]
        }
      ]
    },
    {
      "cell_type": "code",
      "source": [
        "print(response.text)"
      ],
      "metadata": {
        "colab": {
          "base_uri": "https://localhost:8080/"
        },
        "id": "qhTDSprGwZfm",
        "outputId": "8938ec58-2c12-497a-ec9b-eb6d9e96d782"
      },
      "execution_count": null,
      "outputs": [
        {
          "output_type": "stream",
          "name": "stdout",
          "text": [
            "{\"resultCode\":\"00\",\"resultMsg\":\"NORMAL_CODE\",\"items\":{\"item\":[{\"afos_fid\":6806238,\"afos_id\":\"2022083\",\"bjd_cd\":\"1111010700\",\"spot_cd\":\"11110001\",\"sido_sgg_nm\":\"서울특별시 종로구1\",\"spot_nm\":\"서울특별시 종로구 적선동(적선현대빌딩 부근)\",\"occrrnc_cnt\":5,\"caslt_cnt\":5,\"dth_dnv_cnt\":0,\"se_dnv_cnt\":1,\"sl_dnv_cnt\":2,\"wnd_dnv_cnt\":2,\"geom_json\":\"{\\\"type\\\":\\\"Polygon\\\",\\\"coordinates\\\":[[[126.97466371,37.57536392],[126.97462919,37.57508612],[126.97452695,37.574819],[126.97436092,37.57457282],[126.97413749,37.57435704],[126.97386523,37.57417996],[126.97355462,37.57404837],[126.97321758,37.57396734],[126.97286708,37.57393998],[126.97251657,37.57396734],[126.97217954,37.57404837],[126.97186892,37.57417996],[126.97159667,37.57435704],[126.97137323,37.57457282],[126.97120721,37.574819],[126.97110497,37.57508612],[126.97107045,37.57536392],[126.97110497,37.57564171],[126.97120721,37.57590883],[126.97137323,37.576155],[126.97159667,37.57637077],[126.97186892,37.57654786],[126.97217954,37.57667944],[126.97251657,37.57676047],[126.97286708,37.57678783],[126.97321758,37.57676047],[126.97355462,37.57667944],[126.97386523,37.57654786],[126.97413749,37.57637077],[126.97436092,37.576155],[126.97452695,37.57590883],[126.97462919,37.57564171],[126.97466371,37.57536392]]]}\",\"lo_crd\":\"126.972867077854\",\"la_crd\":\"37.575363915713\"},{\"afos_fid\":6806239,\"afos_id\":\"2022083\",\"bjd_cd\":\"1111015700\",\"spot_cd\":\"11110002\",\"sido_sgg_nm\":\"서울특별시 종로구2\",\"spot_nm\":\"서울특별시 종로구 인의동(종로4가사거리 부근)\",\"occrrnc_cnt\":4,\"caslt_cnt\":4,\"dth_dnv_cnt\":0,\"se_dnv_cnt\":1,\"sl_dnv_cnt\":0,\"wnd_dnv_cnt\":3,\"geom_json\":\"{\\\"type\\\":\\\"Polygon\\\",\\\"coordinates\\\":[[[126.99939223,37.57083711],[126.99935771,37.5705593],[126.99925547,37.57029217],[126.99908945,37.57004597],[126.99886601,37.56983018],[126.99859376,37.56965308],[126.99828314,37.56952149],[126.99794611,37.56944045],[126.9975956,37.56941309],[126.9972451,37.56944045],[126.99690806,37.56952149],[126.99659745,37.56965308],[126.99632519,37.56983018],[126.99610176,37.57004597],[126.99593573,37.57029217],[126.99583349,37.5705593],[126.99579897,37.57083711],[126.99583349,37.57111492],[126.99593573,37.57138206],[126.99610176,37.57162825],[126.99632519,37.57184403],[126.99659745,37.57202112],[126.99690806,37.57215271],[126.9972451,37.57223375],[126.9975956,37.57226111],[126.99794611,37.57223375],[126.99828314,37.57215271],[126.99859376,37.57202112],[126.99886601,37.57184403],[126.99908945,37.57162825],[126.99925547,37.57138206],[126.99935771,37.57111492],[126.99939223,37.57083711]]]}\",\"lo_crd\":\"126.997595602156\",\"la_crd\":\"37.570837112544\"},{\"afos_fid\":6805883,\"afos_id\":\"2022083\",\"bjd_cd\":\"1111012300\",\"spot_cd\":\"11110003\",\"sido_sgg_nm\":\"서울특별시 종로구3\",\"spot_nm\":\"서울특별시 종로구 서린동(종로구청입구교차로 부근)\",\"occrrnc_cnt\":4,\"caslt_cnt\":4,\"dth_dnv_cnt\":0,\"se_dnv_cnt\":0,\"sl_dnv_cnt\":4,\"wnd_dnv_cnt\":0,\"geom_json\":\"{\\\"type\\\":\\\"Polygon\\\",\\\"coordinates\\\":[[[126.98089454,37.56987425],[126.98086002,37.56959644],[126.98075778,37.5693293],[126.98059176,37.5690831],[126.98036832,37.56886731],[126.98009607,37.56869021],[126.97978545,37.56855861],[126.97944842,37.56847758],[126.97909791,37.56845021],[126.97874741,37.56847758],[126.97841037,37.56855861],[126.97809976,37.56869021],[126.9778275,37.56886731],[126.97760407,37.5690831],[126.97743804,37.5693293],[126.9773358,37.56959644],[126.97730128,37.56987425],[126.9773358,37.57015207],[126.97743804,37.5704192],[126.97760407,37.5706654],[126.9778275,37.57088119],[126.97809976,37.57105828],[126.97841037,37.57118987],[126.97874741,37.57127091],[126.97909791,37.57129827],[126.97944842,37.57127091],[126.97978545,37.57118987],[126.98009607,37.57105828],[126.98036832,37.57088119],[126.98059176,37.5706654],[126.98075778,37.5704192],[126.98086002,37.57015207],[126.98089454,37.56987425]]]}\",\"lo_crd\":\"126.979097913739\",\"la_crd\":\"37.569874254294\"}]},\"totalCount\":3,\"numOfRows\":3,\"pageNo\":1}\n"
          ]
        }
      ]
    },
    {
      "cell_type": "code",
      "source": [
        "# queryParams dict\n",
        "\n",
        "url = 'http://apis.data.go.kr/B552061/frequentzoneBicycle/getRestFrequentzoneBicycle'\n",
        "key = '키'\n",
        "queryParams = {'serviceKey': key,\n",
        "              'searchYearCd': 2017,\n",
        "              'siDo' : 11,\n",
        "              'guGun' : 200,\n",
        "              'type': 'json',\n",
        "              'numOfRows':10,\n",
        "              'pageNo':1\n",
        "              }\n",
        "\n",
        "\n",
        "response = requests.get(url, queryParams)\n",
        "print(response) # <Response [200]>\n",
        "print(dir(response))\n",
        "print(type(response)) # requests.models.Response\n",
        "print(response.json)  # <bound method Response.json of <Response [200]>>"
      ],
      "metadata": {
        "colab": {
          "base_uri": "https://localhost:8080/"
        },
        "id": "7Aj6_KbIxg1F",
        "outputId": "f1da3acc-60f6-444d-c573-349694e6b2ea"
      },
      "execution_count": null,
      "outputs": [
        {
          "output_type": "stream",
          "name": "stdout",
          "text": [
            "<Response [200]>\n",
            "['__attrs__', '__bool__', '__class__', '__delattr__', '__dict__', '__dir__', '__doc__', '__enter__', '__eq__', '__exit__', '__format__', '__ge__', '__getattribute__', '__getstate__', '__gt__', '__hash__', '__init__', '__init_subclass__', '__iter__', '__le__', '__lt__', '__module__', '__ne__', '__new__', '__nonzero__', '__reduce__', '__reduce_ex__', '__repr__', '__setattr__', '__setstate__', '__sizeof__', '__str__', '__subclasshook__', '__weakref__', '_content', '_content_consumed', '_next', 'apparent_encoding', 'close', 'connection', 'content', 'cookies', 'elapsed', 'encoding', 'headers', 'history', 'is_permanent_redirect', 'is_redirect', 'iter_content', 'iter_lines', 'json', 'links', 'next', 'ok', 'raise_for_status', 'raw', 'reason', 'request', 'status_code', 'text', 'url']\n",
            "<class 'requests.models.Response'>\n",
            "<bound method Response.json of <Response [200]>>\n"
          ]
        }
      ]
    },
    {
      "cell_type": "code",
      "source": [
        "print(type(response.json())) #dict\n",
        "response.json()"
      ],
      "metadata": {
        "colab": {
          "base_uri": "https://localhost:8080/"
        },
        "id": "05vtDKj7zR-U",
        "outputId": "16a0e12b-7720-4c3e-e75d-52e7e75229a8"
      },
      "execution_count": null,
      "outputs": [
        {
          "output_type": "stream",
          "name": "stdout",
          "text": [
            "<class 'dict'>\n"
          ]
        },
        {
          "output_type": "execute_result",
          "data": {
            "text/plain": [
              "{'resultCode': '00',\n",
              " 'resultMsg': 'NORMAL_CODE',\n",
              " 'items': {'item': [{'afos_fid': 6806238,\n",
              "    'afos_id': '2022083',\n",
              "    'bjd_cd': '1111010700',\n",
              "    'spot_cd': '11110001',\n",
              "    'sido_sgg_nm': '서울특별시 종로구1',\n",
              "    'spot_nm': '서울특별시 종로구 적선동(적선현대빌딩 부근)',\n",
              "    'occrrnc_cnt': 5,\n",
              "    'caslt_cnt': 5,\n",
              "    'dth_dnv_cnt': 0,\n",
              "    'se_dnv_cnt': 1,\n",
              "    'sl_dnv_cnt': 2,\n",
              "    'wnd_dnv_cnt': 2,\n",
              "    'geom_json': '{\"type\":\"Polygon\",\"coordinates\":[[[126.97466371,37.57536392],[126.97462919,37.57508612],[126.97452695,37.574819],[126.97436092,37.57457282],[126.97413749,37.57435704],[126.97386523,37.57417996],[126.97355462,37.57404837],[126.97321758,37.57396734],[126.97286708,37.57393998],[126.97251657,37.57396734],[126.97217954,37.57404837],[126.97186892,37.57417996],[126.97159667,37.57435704],[126.97137323,37.57457282],[126.97120721,37.574819],[126.97110497,37.57508612],[126.97107045,37.57536392],[126.97110497,37.57564171],[126.97120721,37.57590883],[126.97137323,37.576155],[126.97159667,37.57637077],[126.97186892,37.57654786],[126.97217954,37.57667944],[126.97251657,37.57676047],[126.97286708,37.57678783],[126.97321758,37.57676047],[126.97355462,37.57667944],[126.97386523,37.57654786],[126.97413749,37.57637077],[126.97436092,37.576155],[126.97452695,37.57590883],[126.97462919,37.57564171],[126.97466371,37.57536392]]]}',\n",
              "    'lo_crd': '126.972867077854',\n",
              "    'la_crd': '37.575363915713'},\n",
              "   {'afos_fid': 6806239,\n",
              "    'afos_id': '2022083',\n",
              "    'bjd_cd': '1111015700',\n",
              "    'spot_cd': '11110002',\n",
              "    'sido_sgg_nm': '서울특별시 종로구2',\n",
              "    'spot_nm': '서울특별시 종로구 인의동(종로4가사거리 부근)',\n",
              "    'occrrnc_cnt': 4,\n",
              "    'caslt_cnt': 4,\n",
              "    'dth_dnv_cnt': 0,\n",
              "    'se_dnv_cnt': 1,\n",
              "    'sl_dnv_cnt': 0,\n",
              "    'wnd_dnv_cnt': 3,\n",
              "    'geom_json': '{\"type\":\"Polygon\",\"coordinates\":[[[126.99939223,37.57083711],[126.99935771,37.5705593],[126.99925547,37.57029217],[126.99908945,37.57004597],[126.99886601,37.56983018],[126.99859376,37.56965308],[126.99828314,37.56952149],[126.99794611,37.56944045],[126.9975956,37.56941309],[126.9972451,37.56944045],[126.99690806,37.56952149],[126.99659745,37.56965308],[126.99632519,37.56983018],[126.99610176,37.57004597],[126.99593573,37.57029217],[126.99583349,37.5705593],[126.99579897,37.57083711],[126.99583349,37.57111492],[126.99593573,37.57138206],[126.99610176,37.57162825],[126.99632519,37.57184403],[126.99659745,37.57202112],[126.99690806,37.57215271],[126.9972451,37.57223375],[126.9975956,37.57226111],[126.99794611,37.57223375],[126.99828314,37.57215271],[126.99859376,37.57202112],[126.99886601,37.57184403],[126.99908945,37.57162825],[126.99925547,37.57138206],[126.99935771,37.57111492],[126.99939223,37.57083711]]]}',\n",
              "    'lo_crd': '126.997595602156',\n",
              "    'la_crd': '37.570837112544'},\n",
              "   {'afos_fid': 6805883,\n",
              "    'afos_id': '2022083',\n",
              "    'bjd_cd': '1111012300',\n",
              "    'spot_cd': '11110003',\n",
              "    'sido_sgg_nm': '서울특별시 종로구3',\n",
              "    'spot_nm': '서울특별시 종로구 서린동(종로구청입구교차로 부근)',\n",
              "    'occrrnc_cnt': 4,\n",
              "    'caslt_cnt': 4,\n",
              "    'dth_dnv_cnt': 0,\n",
              "    'se_dnv_cnt': 0,\n",
              "    'sl_dnv_cnt': 4,\n",
              "    'wnd_dnv_cnt': 0,\n",
              "    'geom_json': '{\"type\":\"Polygon\",\"coordinates\":[[[126.98089454,37.56987425],[126.98086002,37.56959644],[126.98075778,37.5693293],[126.98059176,37.5690831],[126.98036832,37.56886731],[126.98009607,37.56869021],[126.97978545,37.56855861],[126.97944842,37.56847758],[126.97909791,37.56845021],[126.97874741,37.56847758],[126.97841037,37.56855861],[126.97809976,37.56869021],[126.9778275,37.56886731],[126.97760407,37.5690831],[126.97743804,37.5693293],[126.9773358,37.56959644],[126.97730128,37.56987425],[126.9773358,37.57015207],[126.97743804,37.5704192],[126.97760407,37.5706654],[126.9778275,37.57088119],[126.97809976,37.57105828],[126.97841037,37.57118987],[126.97874741,37.57127091],[126.97909791,37.57129827],[126.97944842,37.57127091],[126.97978545,37.57118987],[126.98009607,37.57105828],[126.98036832,37.57088119],[126.98059176,37.5706654],[126.98075778,37.5704192],[126.98086002,37.57015207],[126.98089454,37.56987425]]]}',\n",
              "    'lo_crd': '126.979097913739',\n",
              "    'la_crd': '37.569874254294'}]},\n",
              " 'totalCount': 3,\n",
              " 'numOfRows': 3,\n",
              " 'pageNo': 1}"
            ]
          },
          "metadata": {},
          "execution_count": 52
        }
      ]
    },
    {
      "cell_type": "code",
      "source": [
        "# items 접근해서 데이터 가져오기.\n",
        "\n",
        "w_data = response.json()['items']['item']\n",
        "print(type(w_data)) # list\n",
        "print(len(w_data)) # 개수\n",
        "for row in range(len(w_data)):\n",
        "  print('주소:', w_data[row]['spot_nm'])\n",
        "  print('경도:', w_data[row]['lo_crd'])\n",
        "  print('위도:', w_data[row]['la_crd'])"
      ],
      "metadata": {
        "colab": {
          "base_uri": "https://localhost:8080/"
        },
        "id": "HI-g-LCz0TOP",
        "outputId": "939a30a4-26ae-4bb0-dcab-9e9227c100f6"
      },
      "execution_count": null,
      "outputs": [
        {
          "output_type": "stream",
          "name": "stdout",
          "text": [
            "<class 'list'>\n",
            "3\n",
            "주소: 서울특별시 종로구 적선동(적선현대빌딩 부근)\n",
            "경도: 126.972867077854\n",
            "위도: 37.575363915713\n",
            "주소: 서울특별시 종로구 인의동(종로4가사거리 부근)\n",
            "경도: 126.997595602156\n",
            "위도: 37.570837112544\n",
            "주소: 서울특별시 종로구 서린동(종로구청입구교차로 부근)\n",
            "경도: 126.979097913739\n",
            "위도: 37.569874254294\n"
          ]
        }
      ]
    },
    {
      "cell_type": "code",
      "source": [
        "result = []\n",
        "data = response.json()\n",
        "w_data = data['items']['item']\n",
        "for row in range(len(w_data)):\n",
        "  line = {}\n",
        "  line['spot_nm'] = w_data[row]['spot_nm']\n",
        "  line['lo_crd'] = w_data[row]['lo_crd']\n",
        "  line['la_crd'] = w_data[row]['la_crd']\n",
        "  result.append(line)"
      ],
      "metadata": {
        "id": "0CqUZ8QP5uvJ"
      },
      "execution_count": null,
      "outputs": []
    },
    {
      "cell_type": "code",
      "source": [
        "result"
      ],
      "metadata": {
        "colab": {
          "base_uri": "https://localhost:8080/"
        },
        "id": "zHbJTjAQ6u0N",
        "outputId": "5078baed-3435-46c9-c5fd-33c94e6d678f"
      },
      "execution_count": null,
      "outputs": [
        {
          "output_type": "execute_result",
          "data": {
            "text/plain": [
              "[{'spot_nm': '서울특별시 종로구 적선동(적선현대빌딩 부근)',\n",
              "  'lo_crd': '126.972867077854',\n",
              "  'la_crd': '37.575363915713'},\n",
              " {'spot_nm': '서울특별시 종로구 인의동(종로4가사거리 부근)',\n",
              "  'lo_crd': '126.997595602156',\n",
              "  'la_crd': '37.570837112544'},\n",
              " {'spot_nm': '서울특별시 종로구 서린동(종로구청입구교차로 부근)',\n",
              "  'lo_crd': '126.979097913739',\n",
              "  'la_crd': '37.569874254294'}]"
            ]
          },
          "metadata": {},
          "execution_count": 69
        }
      ]
    },
    {
      "cell_type": "code",
      "source": [
        "import json\n",
        "\n",
        "print(dir(json))\n",
        "# dump - file\n",
        "# dumps - data"
      ],
      "metadata": {
        "colab": {
          "base_uri": "https://localhost:8080/"
        },
        "id": "ITK4rAZB7VTO",
        "outputId": "f3a2b09b-18b3-44e0-c734-f84dd5f77009"
      },
      "execution_count": null,
      "outputs": [
        {
          "output_type": "stream",
          "name": "stdout",
          "text": [
            "['JSONDecodeError', 'JSONDecoder', 'JSONEncoder', '__all__', '__author__', '__builtins__', '__cached__', '__doc__', '__file__', '__loader__', '__name__', '__package__', '__path__', '__spec__', '__version__', '_default_decoder', '_default_encoder', 'codecs', 'decoder', 'detect_encoding', 'dump', 'dumps', 'encoder', 'load', 'loads', 'scanner']\n"
          ]
        }
      ]
    },
    {
      "cell_type": "code",
      "source": [
        "# ensure_ascii=False -> 유니코드로 변환되는 작업 방지\n",
        "# indent = \"\\t\" -> 들여쓰기를 탭으로 설정\n",
        "\n",
        "with open('./source/cycle.json', 'w', encoding='utf-8') as f:\n",
        "  json.dump(result, f, indent = '\\t', ensure_ascii=False) # dump(obj, fp)"
      ],
      "metadata": {
        "id": "G45awt3T685F"
      },
      "execution_count": null,
      "outputs": []
    },
    {
      "cell_type": "code",
      "source": [
        "with open('./source/cycle.json', 'r', encoding='utf-8') as f:\n",
        "  data = json.load(f)\n",
        "  print(data)"
      ],
      "metadata": {
        "colab": {
          "base_uri": "https://localhost:8080/"
        },
        "id": "tkctrTd08Qoy",
        "outputId": "967516de-e629-4213-b3c2-548bd6b249ff"
      },
      "execution_count": null,
      "outputs": [
        {
          "output_type": "stream",
          "name": "stdout",
          "text": [
            "[{'spot_nm': '서울특별시 종로구 적선동(적선현대빌딩 부근)', 'lo_crd': '126.972867077854', 'la_crd': '37.575363915713'}, {'spot_nm': '서울특별시 종로구 인의동(종로4가사거리 부근)', 'lo_crd': '126.997595602156', 'la_crd': '37.570837112544'}, {'spot_nm': '서울특별시 종로구 서린동(종로구청입구교차로 부근)', 'lo_crd': '126.979097913739', 'la_crd': '37.569874254294'}]\n"
          ]
        }
      ]
    },
    {
      "cell_type": "markdown",
      "source": [
        "dump - 파일로 저장하기  \n",
        "dumps - 데이터로 저장하기  \n",
        "\n",
        "---\n",
        "load - 파일 내용 읽어오기  \n",
        "loads - 변수에 있는 내용 읽어오기  "
      ],
      "metadata": {
        "id": "TTHJhXmY8-qZ"
      }
    },
    {
      "cell_type": "code",
      "source": [
        "json_str = '[1,2,3,4]'\n",
        "print(type(json_str))\n",
        "data = json.loads(json_str)\n",
        "print(type(data))\n",
        "json_data = json.dumps(data)\n",
        "print(type(json_data))\n",
        "json_data"
      ],
      "metadata": {
        "colab": {
          "base_uri": "https://localhost:8080/",
          "height": 90
        },
        "id": "kTJ8VEJZ9THK",
        "outputId": "c8b1ff61-b39c-4d50-bb1a-dbf0b14e9e5c"
      },
      "execution_count": null,
      "outputs": [
        {
          "output_type": "stream",
          "name": "stdout",
          "text": [
            "<class 'str'>\n",
            "<class 'list'>\n",
            "<class 'str'>\n"
          ]
        },
        {
          "output_type": "execute_result",
          "data": {
            "text/plain": [
              "'[1, 2, 3, 4]'"
            ],
            "application/vnd.google.colaboratory.intrinsic+json": {
              "type": "string"
            }
          },
          "metadata": {},
          "execution_count": 93
        }
      ]
    },
    {
      "cell_type": "code",
      "source": [
        "json_str = '{\"a\":1, \"b\":2, \"c\":3}' # 따옴표의 위치를 바꾸면 에러가 남. (json)\n",
        "print(type(json_str))\n",
        "data = json.loads(json_str)\n",
        "print(type(data))\n",
        "json_data = json.dumps(data)\n",
        "print(type(json_data))\n",
        "json_data"
      ],
      "metadata": {
        "id": "ubkVP2ZA95Jo"
      },
      "execution_count": null,
      "outputs": []
    },
    {
      "cell_type": "code",
      "source": [
        "json_str = '''\n",
        "{\n",
        "  \"name\":\"홍길동\",\n",
        "  \"age\":30\n",
        "}\n",
        "'''\n",
        "print(type(json_str))\n",
        "data = json.loads(json_str)\n",
        "print(type(data))\n",
        "print(data)\n",
        "json_data = json.dumps(data)\n",
        "print(type(json_data))\n",
        "json_data"
      ],
      "metadata": {
        "colab": {
          "base_uri": "https://localhost:8080/",
          "height": 109
        },
        "id": "EjuiZBSN-f6j",
        "outputId": "b0dc9937-7a69-4223-82e9-15b9cbdeb9a3"
      },
      "execution_count": null,
      "outputs": [
        {
          "output_type": "stream",
          "name": "stdout",
          "text": [
            "<class 'str'>\n",
            "<class 'dict'>\n",
            "{'name': '홍길동', 'age': 30}\n",
            "<class 'str'>\n"
          ]
        },
        {
          "output_type": "execute_result",
          "data": {
            "text/plain": [
              "'{\"name\": \"\\\\ud64d\\\\uae38\\\\ub3d9\", \"age\": 30}'"
            ],
            "application/vnd.google.colaboratory.intrinsic+json": {
              "type": "string"
            }
          },
          "metadata": {},
          "execution_count": 96
        }
      ]
    },
    {
      "cell_type": "code",
      "source": [
        "json.dumps(data, ensure_ascii=False)"
      ],
      "metadata": {
        "colab": {
          "base_uri": "https://localhost:8080/",
          "height": 35
        },
        "id": "HeCLrlfcAAi5",
        "outputId": "9d8fb610-98f2-47ca-da5c-5af331985d4f"
      },
      "execution_count": null,
      "outputs": [
        {
          "output_type": "execute_result",
          "data": {
            "text/plain": [
              "'{\"name\": \"홍길동\", \"age\": 30}'"
            ],
            "application/vnd.google.colaboratory.intrinsic+json": {
              "type": "string"
            }
          },
          "metadata": {},
          "execution_count": 97
        }
      ]
    }
  ]
}