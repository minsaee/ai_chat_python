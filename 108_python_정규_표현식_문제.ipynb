{
  "cells": [
    {
      "cell_type": "markdown",
      "metadata": {
        "id": "view-in-github",
        "colab_type": "text"
      },
      "source": [
        "<a href=\"https://colab.research.google.com/github/minsaee/ai_chat_python/blob/master/108_python_%EC%A0%95%EA%B7%9C_%ED%91%9C%ED%98%84%EC%8B%9D_%EB%AC%B8%EC%A0%9C.ipynb\" target=\"_parent\"><img src=\"https://colab.research.google.com/assets/colab-badge.svg\" alt=\"Open In Colab\"/></a>"
      ]
    },
    {
      "cell_type": "code",
      "execution_count": 68,
      "id": "cd94fe96",
      "metadata": {
        "id": "cd94fe96"
      },
      "outputs": [],
      "source": [
        "import os\n",
        "import re"
      ]
    },
    {
      "cell_type": "markdown",
      "id": "d23ba8b6",
      "metadata": {
        "id": "d23ba8b6"
      },
      "source": [
        "문제1] 이름과 년도을 출력하도록 구현\n",
        "\n",
        "['(이동민, 2019)', '(최재영, 2019)', '(Lion, 2018)']"
      ]
    },
    {
      "cell_type": "code",
      "execution_count": null,
      "id": "5975cac2",
      "metadata": {
        "id": "5975cac2"
      },
      "outputs": [],
      "source": [
        "example1 = '이동민 교수님은 다음과 같이 설명했습니다(이동민, 2019). 그런데 다른 교수님은 이 문제에 대해서 다른 견해를 가지고 있었습니다(최재영, 2019). 또 다른 견해도 있었습니다(Lion, 2018)'"
      ]
    },
    {
      "cell_type": "code",
      "execution_count": null,
      "id": "bcaecd81",
      "metadata": {
        "colab": {
          "base_uri": "https://localhost:8080/"
        },
        "id": "bcaecd81",
        "outputId": "202983b6-ad4f-4d4e-a9a5-b89fc5b101ec"
      },
      "outputs": [
        {
          "output_type": "execute_result",
          "data": {
            "text/plain": [
              "['(이동민, 2019)', '(최재영, 2019)', '(Lion, 2018)']"
            ]
          },
          "metadata": {},
          "execution_count": 21
        }
      ],
      "source": [
        "# re.findall('정규표현식', 대상문자)\n",
        "\n",
        "re.findall('\\([가-힣a-zA-Z]+,\\s+\\d{4}\\)', example1) # 공백의 변수에는 \\s+를 사용한다."
      ]
    },
    {
      "cell_type": "markdown",
      "id": "ab5a0599",
      "metadata": {
        "id": "ab5a0599"
      },
      "source": [
        "문제2] 년도만 추출해 리스트로 반환\n",
        "\n",
        "['91년', '97년', '2021년']\n"
      ]
    },
    {
      "cell_type": "code",
      "execution_count": null,
      "id": "34a7ab24",
      "metadata": {
        "id": "34a7ab24"
      },
      "outputs": [],
      "source": [
        "example2 = '저는 91년에 태어났습니다. 97년에는 IMF가 있었습니다. 지금은 2021년입니다.'"
      ]
    },
    {
      "cell_type": "code",
      "execution_count": null,
      "id": "61d0606c",
      "metadata": {
        "colab": {
          "base_uri": "https://localhost:8080/"
        },
        "id": "61d0606c",
        "outputId": "fe279845-06de-406d-f5d8-ba9a3d269b10"
      },
      "outputs": [
        {
          "output_type": "execute_result",
          "data": {
            "text/plain": [
              "['91년', '97년', '2021년']"
            ]
          },
          "metadata": {},
          "execution_count": 28
        }
      ],
      "source": [
        "re.findall('\\d{2,4}년', example2) # \\d+로 해도 출력 결과 이상없음."
      ]
    },
    {
      "cell_type": "markdown",
      "id": "8058c206",
      "metadata": {
        "id": "8058c206"
      },
      "source": [
        "문제3] '.' or '!' or '?'을 나누도록 구현\n",
        "\n",
        "['I have a lovely dog, really',  \n",
        " ' I am not telling a lie',  \n",
        " ' What a pretty dog',  \n",
        " ' I love this dog',  \n",
        " '']  \n"
      ]
    },
    {
      "cell_type": "code",
      "execution_count": null,
      "id": "12221f0d",
      "metadata": {
        "id": "12221f0d"
      },
      "outputs": [],
      "source": [
        "example3 = 'I have a lovely dog, really. I am not telling a lie. What a pretty dog! I love this dog.'"
      ]
    },
    {
      "cell_type": "code",
      "execution_count": null,
      "id": "4e064aa2",
      "metadata": {
        "colab": {
          "base_uri": "https://localhost:8080/"
        },
        "id": "4e064aa2",
        "outputId": "c0100e7e-9765-4d86-b394-24d2ac65185d"
      },
      "outputs": [
        {
          "output_type": "execute_result",
          "data": {
            "text/plain": [
              "['I have a lovely dog, really',\n",
              " ' I am not telling a lie',\n",
              " ' What a pretty dog',\n",
              " ' I love this dog',\n",
              " '']"
            ]
          },
          "metadata": {},
          "execution_count": 31
        }
      ],
      "source": [
        "re.split('[.!?]', example3) # []는 or의 의미를 갖는다."
      ]
    },
    {
      "cell_type": "markdown",
      "id": "b0705efa",
      "metadata": {
        "id": "b0705efa"
      },
      "source": [
        "문제4] ':'와 ';'을 변경\n",
        "\n",
        "['a', '3']  \n",
        "[' b', '4']  \n",
        "[' c', '5']  "
      ]
    },
    {
      "cell_type": "code",
      "execution_count": null,
      "id": "953ef541",
      "metadata": {
        "id": "953ef541"
      },
      "outputs": [],
      "source": [
        "example4 = 'a:3; b:4; c:5'"
      ]
    },
    {
      "cell_type": "code",
      "source": [
        "for i in re.split(';',example4):\n",
        "  #print(type(i))\n",
        "  print(re.split(':',i))"
      ],
      "metadata": {
        "colab": {
          "base_uri": "https://localhost:8080/"
        },
        "id": "JoKJkP0QOXPc",
        "outputId": "1dd43521-64c9-45c2-9bf4-275bcde5f555"
      },
      "id": "JoKJkP0QOXPc",
      "execution_count": null,
      "outputs": [
        {
          "output_type": "stream",
          "name": "stdout",
          "text": [
            "['a', '3']\n",
            "[' b', '4']\n",
            "[' c', '5']\n"
          ]
        }
      ]
    },
    {
      "cell_type": "markdown",
      "id": "40e6ba33",
      "metadata": {
        "id": "40e6ba33"
      },
      "source": [
        "문제5] 'dog'을 'cat'으로 변경  \n",
        "\n",
        "'I have a lovely cat, really. I am not telling a lie. What a pretty cat! I love this cat.'"
      ]
    },
    {
      "cell_type": "code",
      "execution_count": null,
      "id": "f934d569",
      "metadata": {
        "id": "f934d569"
      },
      "outputs": [],
      "source": [
        "example5 = 'I have a lovely dog, really. I am not telling a lie. What a pretty dog! I love this dog.'"
      ]
    },
    {
      "cell_type": "code",
      "execution_count": null,
      "id": "bba43652",
      "metadata": {
        "colab": {
          "base_uri": "https://localhost:8080/",
          "height": 35
        },
        "id": "bba43652",
        "outputId": "3414ecc1-3869-4586-a387-87f7052ef281"
      },
      "outputs": [
        {
          "output_type": "execute_result",
          "data": {
            "text/plain": [
              "'I have a lovely cat, really. I am not telling a lie. What a pretty cat! I love this cat.'"
            ],
            "application/vnd.google.colaboratory.intrinsic+json": {
              "type": "string"
            }
          },
          "metadata": {},
          "execution_count": 44
        }
      ],
      "source": [
        "# sub와 subn은 사용하는 방법은 똑같지만 sub -> str, subn ->tuple로 리턴한다.\n",
        "\n",
        "re.sub('dog', 'cat', example5)"
      ]
    },
    {
      "cell_type": "markdown",
      "id": "b6976b40",
      "metadata": {
        "id": "b6976b40"
      },
      "source": [
        "문제6] 문장에서 '\\n'을 없애도록 추출\n",
        "\n",
        "'I am home now. I am with my cat.'"
      ]
    },
    {
      "cell_type": "code",
      "execution_count": null,
      "id": "e8e2381d",
      "metadata": {
        "id": "e8e2381d"
      },
      "outputs": [],
      "source": [
        "example6 = 'I am home now. \\n\\n\\nI am with my cat.\\n\\n'"
      ]
    },
    {
      "cell_type": "code",
      "execution_count": null,
      "id": "e5c9eba0",
      "metadata": {
        "colab": {
          "base_uri": "https://localhost:8080/",
          "height": 35
        },
        "id": "e5c9eba0",
        "outputId": "636a0686-9525-4e67-a4cc-ff1447a524cf"
      },
      "outputs": [
        {
          "output_type": "execute_result",
          "data": {
            "text/plain": [
              "'I am home now. I am with my cat.'"
            ],
            "application/vnd.google.colaboratory.intrinsic+json": {
              "type": "string"
            }
          },
          "metadata": {},
          "execution_count": 3
        }
      ],
      "source": [
        "re.sub('\\n', '', example6)"
      ]
    },
    {
      "cell_type": "markdown",
      "id": "c4139758",
      "metadata": {
        "id": "c4139758"
      },
      "source": [
        "문제7] 문장에서 'ly'로 끝나는 단어만 추출\n",
        "\n",
        "['lovely', 'really']"
      ]
    },
    {
      "cell_type": "code",
      "execution_count": null,
      "id": "36f678fa",
      "metadata": {
        "id": "36f678fa"
      },
      "outputs": [],
      "source": [
        "example7 = 'I have a lovely dog, really. I am not telling a lie'"
      ]
    },
    {
      "cell_type": "code",
      "execution_count": null,
      "id": "e8aef821",
      "metadata": {
        "colab": {
          "base_uri": "https://localhost:8080/"
        },
        "id": "e8aef821",
        "outputId": "b66238d9-2c3f-40bc-ee31-3fc88ec771e7"
      },
      "outputs": [
        {
          "output_type": "execute_result",
          "data": {
            "text/plain": [
              "['lovely', 'really']"
            ]
          },
          "metadata": {},
          "execution_count": 7
        }
      ],
      "source": [
        "re.findall('\\w+ly', example7)"
      ]
    },
    {
      "cell_type": "markdown",
      "id": "d3b53486",
      "metadata": {
        "id": "d3b53486"
      },
      "source": [
        "==============================================================  \n",
        "드라마 프렌즈 대사 파일로 저장하기   \n",
        "\n",
        "https://fangj.github.io/friends/ 에서 101 Monica Gets A Roommate을 선택후 모든 데이터를 friend101.txt로 저장\n",
        "\n",
        " - 블로그 링크 : https://nayoungs.tistory.com/51"
      ]
    },
    {
      "cell_type": "code",
      "source": [
        "from google.colab import drive\n",
        "drive.mount('/content/drive')"
      ],
      "metadata": {
        "colab": {
          "base_uri": "https://localhost:8080/"
        },
        "id": "2FnclxSjSd2L",
        "outputId": "6bd11c09-5c6d-4cc0-861b-54053d6b64b2"
      },
      "id": "2FnclxSjSd2L",
      "execution_count": null,
      "outputs": [
        {
          "output_type": "stream",
          "name": "stdout",
          "text": [
            "Mounted at /content/drive\n"
          ]
        }
      ]
    },
    {
      "cell_type": "code",
      "source": [
        "%cd /content/drive/MyDrive/ai_chat_python"
      ],
      "metadata": {
        "colab": {
          "base_uri": "https://localhost:8080/"
        },
        "id": "_Rn0jcJWSf4G",
        "outputId": "02d18a83-c07e-4d8b-a655-0f7c08715f01"
      },
      "id": "_Rn0jcJWSf4G",
      "execution_count": null,
      "outputs": [
        {
          "output_type": "stream",
          "name": "stdout",
          "text": [
            "/content/drive/MyDrive/ai_chat_python\n"
          ]
        }
      ]
    },
    {
      "cell_type": "code",
      "execution_count": null,
      "id": "b5c895b9",
      "metadata": {
        "colab": {
          "base_uri": "https://localhost:8080/"
        },
        "id": "b5c895b9",
        "outputId": "9f508df6-ea4e-4375-e6eb-ba50f0be3bb0"
      },
      "outputs": [
        {
          "output_type": "stream",
          "name": "stdout",
          "text": [
            "The One Where Monica Gets a New Roommate (The Pilot-The Uncut Version)\n",
            "\n",
            "Written by: Marta Kauffman &\n"
          ]
        }
      ],
      "source": [
        "with open('./source/friends101.txt', 'r', encoding='utf-8') as f:\n",
        "  friends = f.read()\n",
        "\n",
        "  print(friends[:100])"
      ]
    },
    {
      "cell_type": "markdown",
      "id": "419b328b",
      "metadata": {
        "id": "419b328b"
      },
      "source": [
        "문제8] Monica의 대사에서 상위 3개만  출력  \n",
        "\n",
        "\n",
        "[\"Monica: There's nothing to tell! He's just some guy I work with!\",\n",
        " \"Monica: Okay, everybody relax. This is not even a date. It's just two people going out to dinner and- not having sex.\",\n",
        " \"Monica: And they weren't looking at you before?!\"]"
      ]
    },
    {
      "cell_type": "code",
      "execution_count": null,
      "id": "6aac75eb",
      "metadata": {
        "id": "6aac75eb",
        "colab": {
          "base_uri": "https://localhost:8080/"
        },
        "outputId": "17b33eb2-613b-46c4-8848-48edef490a9a"
      },
      "outputs": [
        {
          "output_type": "execute_result",
          "data": {
            "text/plain": [
              "[\"Monica: There's nothing to tell! He's just some guy I work with!\",\n",
              " \"Monica: Okay, everybody relax. This is not even a date. It's just two people going out to dinner and- not having sex.\",\n",
              " \"Monica: And they weren't looking at you before?!\"]"
            ]
          },
          "metadata": {},
          "execution_count": 20
        }
      ],
      "source": [
        "re.findall('Monica:.+', friends)[:3]"
      ]
    },
    {
      "cell_type": "markdown",
      "id": "a870c1aa",
      "metadata": {
        "id": "a870c1aa"
      },
      "source": [
        "문제9] 등장인물 모으기\n",
        "\n",
        "['All', 'Ross', 'Monica', 'Rachel', 'Customer', 'Chandler', 'Note', 'Scene', 'Paul', 'Phoebe', 'Waitress', 'Joey', 'Frannie']"
      ]
    },
    {
      "cell_type": "code",
      "execution_count": null,
      "id": "8a40d207",
      "metadata": {
        "id": "8a40d207",
        "colab": {
          "base_uri": "https://localhost:8080/"
        },
        "outputId": "40981df2-0e00-4cf4-cf12-cccbd9dc6a53"
      },
      "outputs": [
        {
          "output_type": "stream",
          "name": "stdout",
          "text": [
            "['Paul', 'Chandler', 'Waitress', 'All', 'Frannie', 'Joey', 'Ross', 'Phoebe', 'Rachel', 'Monica', 'Note', 'Scene', 'Customer']\n"
          ]
        }
      ],
      "source": [
        "# 중복되지 않은 고윳값만 가져오기 set이용\n",
        "# 리스트로 변경후 [:-1]로 ':'의 앞까지만 가져온다.\n",
        "\n",
        "print([x[:-1] for x in list(set(re.findall('[A-Z][a-z]+:', friends)))])\n"
      ]
    },
    {
      "cell_type": "markdown",
      "id": "2e06f054",
      "metadata": {
        "id": "2e06f054"
      },
      "source": [
        "문제10] 프렌즈 대본 대사에서 지문만 상위 6개 출력    \n",
        "\n",
        "\n",
        "\n",
        "\n",
        "['(The Pilot-The Uncut Version)',\n",
        " '(Note: The previously unseen parts of this episode are shown in blue text.)',\n",
        " '(They all stare, bemused.)',\n",
        " '(mortified)',\n",
        " '(explaining to the others)',\n",
        " '(to Ross)']"
      ]
    },
    {
      "cell_type": "code",
      "execution_count": null,
      "id": "65a46e65",
      "metadata": {
        "id": "65a46e65",
        "colab": {
          "base_uri": "https://localhost:8080/"
        },
        "outputId": "195f13cf-752d-49dc-e166-504473c406ec"
      },
      "outputs": [
        {
          "output_type": "stream",
          "name": "stdout",
          "text": [
            "['(The Pilot-The Uncut Version)', '(Note: The previously unseen parts of this episode are shown in blue text.)', '(They all stare, bemused.)', '(mortified)', '(explaining to the others)', '(to Ross)']\n"
          ]
        }
      ],
      "source": [
        "print(re.findall(r'\\([A-Za-z].+[a-z|\\.]\\)', friends)[:6])"
      ]
    },
    {
      "cell_type": "markdown",
      "id": "1b985d6c",
      "metadata": {
        "id": "1b985d6c"
      },
      "source": [
        "문제11]   would가 들어간 문장만 추출  \n",
        "\n",
        "\n",
        "[\"Rachel: Ooh, I was kinda hoping that wouldn't be an issue... [Scene: Monica's Apartment, everyone is there and watching a Spanish Soap on TV and are trying to figure out what is going on.]\\n\",\n",
        " \"Chandler: I would have to say that is an 'L'-shaped bracket.\\n\",\n",
        " 'Monica: Why?! Why? Why, why would anybody do something like that?\\n',\n",
        " 'Rachel: You would be too if you found John and David boots on sale, fifty percent off!\\n',\n",
        " 'Ross: Oh. Listen, do you think- and try not to let my intense vulnerability become any kind of a factor here- but do you think it would be okay if I asked you out? Sometime? Maybe?\\n',\n",
        " \"Joey: Oh, you wouldn't know a great butt if it came up and bit ya.\\n\"]\n"
      ]
    },
    {
      "cell_type": "code",
      "execution_count": null,
      "id": "6e84d910",
      "metadata": {
        "id": "6e84d910",
        "colab": {
          "base_uri": "https://localhost:8080/"
        },
        "outputId": "323ff7e3-35f1-4fd0-ee6a-c14e98cfa096"
      },
      "outputs": [
        {
          "output_type": "stream",
          "name": "stdout",
          "text": [
            "[\"Rachel: Ooh, I was kinda hoping that wouldn't be an issue... [Scene: Monica's Apartment, everyone is there and watching a Spanish Soap on TV and are trying to figure out what is going on.]\\n\", \"Chandler: I would have to say that is an 'L'-shaped bracket.\\n\", 'Monica: Why?! Why? Why, why would anybody do something like that?\\n', 'Rachel: You would be too if you found John and David boots on sale, fifty percent off!\\n', 'Ross: Oh. Listen, do you think- and try not to let my intense vulnerability become any kind of a factor here- but do you think it would be okay if I asked you out? Sometime? Maybe?\\n', \"Joey: Oh, you wouldn't know a great butt if it came up and bit ya.\\n\"]\n"
          ]
        }
      ],
      "source": [
        "with open('./source/friends101.txt', 'r', encoding='utf-8') as f:\n",
        "  sentences = f.readlines()\n",
        "\n",
        "would = [i for i in sentences if re.match(r'[A-Z][a-z]+:', i) and re.search('would', i)]\n",
        "print(would)"
      ]
    },
    {
      "cell_type": "markdown",
      "id": "0481a754",
      "metadata": {
        "id": "0481a754"
      },
      "source": [
        "문제12] words리스트에 저장된 여러 단어중 'a'로 시작하는 단어만 출력  \n",
        "\n",
        "apple  \n",
        "arise  \n",
        "above  "
      ]
    },
    {
      "cell_type": "code",
      "execution_count": null,
      "id": "f971e583",
      "metadata": {
        "id": "f971e583"
      },
      "outputs": [],
      "source": [
        "words = ['apple', 'cat', 'brave', 'drama', 'arise', 'blow', 'coat', 'above']"
      ]
    },
    {
      "cell_type": "code",
      "execution_count": null,
      "id": "e4213798",
      "metadata": {
        "id": "e4213798",
        "colab": {
          "base_uri": "https://localhost:8080/"
        },
        "outputId": "f715b9ef-2b3c-4ea1-cbc8-9378d0924db3"
      },
      "outputs": [
        {
          "output_type": "stream",
          "name": "stdout",
          "text": [
            "apple\n",
            "arise\n",
            "above\n"
          ]
        }
      ],
      "source": [
        "# \\D -> [^0-9]\n",
        "\n",
        "for i in words:\n",
        "  m = re.match('a\\D+', i)\n",
        "  if m:\n",
        "    print(m.group())"
      ]
    },
    {
      "cell_type": "markdown",
      "id": "14c345ee",
      "metadata": {
        "id": "14c345ee"
      },
      "source": [
        "문제13] data에 저장된 데이터에서 email만 추출\n",
        "\n",
        "\n",
        "['greatking@naver.com', 'travel@daum.net', 'apple@gmail.com', 'life@abc.co.kr']\n"
      ]
    },
    {
      "cell_type": "code",
      "execution_count": null,
      "id": "e5d68305",
      "metadata": {
        "id": "e5d68305"
      },
      "outputs": [],
      "source": [
        "data = '제 이메일 주소는 greatking@naver.com입니다. 오늘 저는 travel@daum.net 라는 주소로 메일을 보내려고 합니다. 저는 apple@gmail.com, life@abc.co.kr 라는 메일도 사용하고 있습니다.'\n"
      ]
    },
    {
      "cell_type": "code",
      "execution_count": null,
      "id": "790b30d9",
      "metadata": {
        "id": "790b30d9",
        "colab": {
          "base_uri": "https://localhost:8080/"
        },
        "outputId": "9fec73f9-0d71-4af1-995d-c1fa951e118b"
      },
      "outputs": [
        {
          "output_type": "execute_result",
          "data": {
            "text/plain": [
              "['greatking@naver.com', 'travel@daum.net', 'apple@gmail.com', 'life@abc.co.kr']"
            ]
          },
          "metadata": {},
          "execution_count": 52
        }
      ],
      "source": [
        "re.findall('[a-z]+@[a-z.]+', data)"
      ]
    },
    {
      "cell_type": "markdown",
      "id": "4be36ec1",
      "metadata": {
        "id": "4be36ec1"
      },
      "source": [
        "문제14] 숫자에서  천단위를 제거\n",
        "\n",
        "\n",
        "['123강남', 151767.0, 11093.0, 27394.0]"
      ]
    },
    {
      "cell_type": "code",
      "execution_count": null,
      "id": "82cb78c3",
      "metadata": {
        "id": "82cb78c3"
      },
      "outputs": [],
      "source": [
        "data = ['123강남', '151,767', '11,093', '27,394']\n"
      ]
    },
    {
      "cell_type": "code",
      "source": [
        "k = []\n",
        "\n",
        "for j in data:\n",
        "  if re.search('[a-z가-힣]', j):\n",
        "    k.append(j)\n",
        "  else:\n",
        "    k.append(str(float(re.sub(',', '', j))))\n",
        "\n",
        "print(k)"
      ],
      "metadata": {
        "colab": {
          "base_uri": "https://localhost:8080/"
        },
        "id": "h3kiLNxpuLGK",
        "outputId": "f73b01a5-ab52-455d-d088-30fa51b39a9e"
      },
      "id": "h3kiLNxpuLGK",
      "execution_count": null,
      "outputs": [
        {
          "output_type": "stream",
          "name": "stdout",
          "text": [
            "['123강남', '151767.0', '11093.0', '27394.0']\n"
          ]
        }
      ]
    },
    {
      "cell_type": "markdown",
      "source": [
        "문제14] 이메일 형식 체크  \n",
        "  <조건>   \n",
        "  1 min@daum.net  \n",
        "  2 min@seoul.go.kr"
      ],
      "metadata": {
        "id": "o8eOBxxYv0Ox"
      },
      "id": "o8eOBxxYv0Ox"
    },
    {
      "cell_type": "code",
      "source": [
        "email = input('이메일:')\n",
        "r = re.compile('^[a-zA-Z][\\w]*@[a-z]+.[a-zA-Z0-9]+[.[a-zA-Z]{2,3}]?$')\n",
        "m = re.search(r, email)\n",
        "print(m)"
      ],
      "metadata": {
        "colab": {
          "base_uri": "https://localhost:8080/"
        },
        "id": "pgzaVw_ZvzmZ",
        "outputId": "9de1ca49-cfef-41e1-e6fa-199f3b57a826"
      },
      "id": "pgzaVw_ZvzmZ",
      "execution_count": null,
      "outputs": [
        {
          "output_type": "stream",
          "name": "stdout",
          "text": [
            "이메일:asd@n.com\n",
            "<re.Match object; span=(0, 9), match='asd@n.com'>\n"
          ]
        }
      ]
    },
    {
      "cell_type": "markdown",
      "source": [
        "문제15] 아이디 정규 표현식 <조건>\n",
        " 1. 전체 길이 5~8자\n",
        " 2. 영문자로 시작\n",
        " 3. 숫자가 2개이상 포함되어 있어야함\n",
        " 4. 2자이상의 반복문자가 연속 2번 있으면 안됨."
      ],
      "metadata": {
        "id": "3iAj154wGRBV"
      },
      "id": "3iAj154wGRBV"
    },
    {
      "cell_type": "code",
      "source": [
        "# {5,8}$ 전체길이 5~8자\n",
        "# '^[a-zA-z]' 영문자로 시작 -> 전체길이중 1자리 차지 -> {4,7}$ 전체길이를 하나 줄여준다.\n",
        "# (?=.*\\d+.*\\d+) 숫자가 2개이상 포함되어 있어야함.\n",
        "# (?=.*\\d+)만 있거나 (?=.*\\d{2,})와 같은 표현으로는 위의 조건을 만족하지 못함.\n",
        "# (?!.*(\\w{2})\\1) 2자 이상의 반복문자가 연속 2번 있으면 안됨."
      ],
      "metadata": {
        "id": "u_9WxYkNGddV"
      },
      "id": "u_9WxYkNGddV",
      "execution_count": null,
      "outputs": []
    },
    {
      "cell_type": "code",
      "source": [
        "# Test\n",
        "\n",
        "id = 'kdk3a3'\n",
        "r = re.compile(r'^(?=.*\\d+)(?=.*\\d+.*\\d+)(?!.*(\\w{2})\\1)[a-zA-z][a-zA-Z0-9]{4,7}$')\n",
        "m = re.search(r, id)\n",
        "print(m)"
      ],
      "metadata": {
        "colab": {
          "base_uri": "https://localhost:8080/"
        },
        "id": "KwDlwS6OFbA1",
        "outputId": "7cc30d11-acdc-4049-abf0-5b9c9ba7630c"
      },
      "id": "KwDlwS6OFbA1",
      "execution_count": 103,
      "outputs": [
        {
          "output_type": "stream",
          "name": "stdout",
          "text": [
            "<re.Match object; span=(0, 6), match='kdk3a3'>\n"
          ]
        }
      ]
    },
    {
      "cell_type": "code",
      "source": [
        "id = input('아이디:')\n",
        "r = re.compile(r'^(?=.*\\d+.*\\d+)(?!.*(\\w{2})\\1)[a-zA-z].{4,7}$')\n",
        "m = re.search(r, id)\n",
        "print(m)\n",
        "\n",
        "if m:\n",
        "  print('ok')\n",
        "else:\n",
        "  print('다시 입력하시오.')"
      ],
      "metadata": {
        "colab": {
          "base_uri": "https://localhost:8080/"
        },
        "id": "ZzMWzwvAIUUq",
        "outputId": "e661b42e-750c-4b8a-e74f-defc3269495f"
      },
      "id": "ZzMWzwvAIUUq",
      "execution_count": 102,
      "outputs": [
        {
          "output_type": "stream",
          "name": "stdout",
          "text": [
            "아이디:asas12\n",
            "None\n",
            "다시 입력하시오.\n"
          ]
        }
      ]
    }
  ],
  "metadata": {
    "kernelspec": {
      "display_name": "Python 3",
      "language": "python",
      "name": "python3"
    },
    "language_info": {
      "codemirror_mode": {
        "name": "ipython",
        "version": 3
      },
      "file_extension": ".py",
      "mimetype": "text/x-python",
      "name": "python",
      "nbconvert_exporter": "python",
      "pygments_lexer": "ipython3",
      "version": "3.8.8"
    },
    "colab": {
      "provenance": [],
      "include_colab_link": true
    }
  },
  "nbformat": 4,
  "nbformat_minor": 5
}