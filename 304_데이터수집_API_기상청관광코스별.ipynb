{
  "nbformat": 4,
  "nbformat_minor": 0,
  "metadata": {
    "colab": {
      "provenance": [],
      "authorship_tag": "ABX9TyO2WuxNwqk9zop6m9bvf2AN",
      "include_colab_link": true
    },
    "kernelspec": {
      "name": "python3",
      "display_name": "Python 3"
    },
    "language_info": {
      "name": "python"
    }
  },
  "cells": [
    {
      "cell_type": "markdown",
      "metadata": {
        "id": "view-in-github",
        "colab_type": "text"
      },
      "source": [
        "<a href=\"https://colab.research.google.com/github/minsaee/ai_chat_python/blob/master/304_%EB%8D%B0%EC%9D%B4%ED%84%B0%EC%88%98%EC%A7%91_API_%EA%B8%B0%EC%83%81%EC%B2%AD%EA%B4%80%EA%B4%91%EC%BD%94%EC%8A%A4%EB%B3%84.ipynb\" target=\"_parent\"><img src=\"https://colab.research.google.com/assets/colab-badge.svg\" alt=\"Open In Colab\"/></a>"
      ]
    },
    {
      "cell_type": "markdown",
      "source": [
        "# API에서 xml 받아온 데이터 처리"
      ],
      "metadata": {
        "id": "11vYwbi-NRgI"
      }
    },
    {
      "cell_type": "markdown",
      "source": [
        "##공공데이터 포털  \n",
        "\n",
        "https://www.data.go.kr/index.do  \n",
        "https://www.data.go.kr/data/15056912/openapi.do  \n",
        "기상청 관광코스별  "
      ],
      "metadata": {
        "id": "Gfi0XFFvFM-R"
      }
    },
    {
      "cell_type": "code",
      "source": [
        "from google.colab import drive\n",
        "drive.mount('/content/drive')\n",
        "\n",
        "%cd /content/drive/MyDrive/ai_chat_python"
      ],
      "metadata": {
        "colab": {
          "base_uri": "https://localhost:8080/"
        },
        "id": "kJY5l_vLFs6X",
        "outputId": "c608cc72-dd82-4e4d-d0cb-cb316a3eb4f2"
      },
      "execution_count": 1,
      "outputs": [
        {
          "output_type": "stream",
          "name": "stdout",
          "text": [
            "Mounted at /content/drive\n",
            "/content/drive/MyDrive/ai_chat_python\n"
          ]
        }
      ]
    },
    {
      "cell_type": "code",
      "source": [
        "! pip install xmltodict"
      ],
      "metadata": {
        "colab": {
          "base_uri": "https://localhost:8080/"
        },
        "id": "anOhM3LBggxY",
        "outputId": "9c034489-fa4d-4468-dc96-3067de503c30"
      },
      "execution_count": 5,
      "outputs": [
        {
          "output_type": "stream",
          "name": "stdout",
          "text": [
            "Collecting xmltodict\n",
            "  Downloading xmltodict-0.13.0-py2.py3-none-any.whl (10.0 kB)\n",
            "Installing collected packages: xmltodict\n",
            "Successfully installed xmltodict-0.13.0\n"
          ]
        }
      ]
    },
    {
      "cell_type": "code",
      "source": [
        "import requests\n",
        "import xmltodict\n",
        "import json"
      ],
      "metadata": {
        "id": "7qEqGVq-F4eG"
      },
      "execution_count": 6,
      "outputs": []
    },
    {
      "cell_type": "markdown",
      "source": [
        "# XXXXXXXXXXXXX key 값 github에 노출 XXXXXXXXXXXX"
      ],
      "metadata": {
        "id": "edbuSsVsKG87"
      }
    },
    {
      "cell_type": "code",
      "source": [
        "url = 'http://apis.data.go.kr/1360000/TourStnInfoService1/getTourStnVilageFcst1'\n",
        "key = '키'\n",
        "url += '?ServiceKey=' + key + '&pageNo=1&numOfRows=10&dataType=xml&CURRENT_DATE=2019122001&HOUR=24&COURSE_ID=1'\n",
        "\n",
        "# dataType = xml\n",
        "\n",
        "response = requests.get(url)\n",
        "print(response) # <Response [200]>\n",
        "print(dir(response))\n",
        "print(type(response)) # requests.models.Response\n",
        "print(response.text)  # <?xml version=\"1.0\" encoding=\"UTF-8\"?>"
      ],
      "metadata": {
        "colab": {
          "base_uri": "https://localhost:8080/"
        },
        "id": "jLMyesGlF8cu",
        "outputId": "46e2ef98-a6b2-410e-8b6d-2e0d23f22c7f"
      },
      "execution_count": 7,
      "outputs": [
        {
          "output_type": "stream",
          "name": "stdout",
          "text": [
            "<Response [200]>\n",
            "['__attrs__', '__bool__', '__class__', '__delattr__', '__dict__', '__dir__', '__doc__', '__enter__', '__eq__', '__exit__', '__format__', '__ge__', '__getattribute__', '__getstate__', '__gt__', '__hash__', '__init__', '__init_subclass__', '__iter__', '__le__', '__lt__', '__module__', '__ne__', '__new__', '__nonzero__', '__reduce__', '__reduce_ex__', '__repr__', '__setattr__', '__setstate__', '__sizeof__', '__str__', '__subclasshook__', '__weakref__', '_content', '_content_consumed', '_next', 'apparent_encoding', 'close', 'connection', 'content', 'cookies', 'elapsed', 'encoding', 'headers', 'history', 'is_permanent_redirect', 'is_redirect', 'iter_content', 'iter_lines', 'json', 'links', 'next', 'ok', 'raise_for_status', 'raw', 'reason', 'request', 'status_code', 'text', 'url']\n",
            "<class 'requests.models.Response'>\n",
            "<?xml version=\"1.0\" encoding=\"UTF-8\"?>\r\n",
            "<response><header><resultCode>00</resultCode><resultMsg>NORMAL_SERVICE</resultMsg></header><body><dataType>XML</dataType><items><item><tm>2019-12-22 00:00</tm><thema>문화/예술</thema><courseId>1</courseId><courseAreaId>4700000000</courseAreaId><courseAreaName>경상북도</courseAreaName><courseName>남호고택에서의 하룻밤</courseName><spotAreaId>102</spotAreaId><spotAreaName>봉화</spotAreaName><spotName>(봉화)춘양목 송이마을</spotName><th3>-1</th3><wd>333</wd><ws>0</ws><sky>3</sky><rhm>80</rhm><pop>20</pop></item><item><tm>2019-12-22 00:00</tm><thema>종교/역사/전통</thema><courseId>1</courseId><courseAreaId>4700000000</courseAreaId><courseAreaName>경상북도</courseAreaName><courseName>남호고택에서의 하룻밤</courseName><spotAreaId>104</spotAreaId><spotAreaName>봉화</spotAreaName><spotName>(봉화)계서당(성이성 생가)</spotName><th3>0</th3><wd>347</wd><ws>0</ws><sky>3</sky><rhm>80</rhm><pop>20</pop></item><item><tm>2019-12-22 00:00</tm><thema>자연/힐링</thema><courseId>1</courseId><courseAreaId>4700000000</courseAreaId><courseAreaName>경상북도</courseAreaName><courseName>남호고택에서의 하룻밤</courseName><spotAreaId>104</spotAreaId><spotAreaName>봉화</spotAreaName><spotName>(봉화)계서당(성이성 생가)</spotName><th3>0</th3><wd>347</wd><ws>0</ws><sky>3</sky><rhm>80</rhm><pop>20</pop></item><item><tm>2019-12-22 00:00</tm><thema>체험/학습/산업</thema><courseId>1</courseId><courseAreaId>4700000000</courseAreaId><courseAreaName>경상북도</courseAreaName><courseName>남호고택에서의 하룻밤</courseName><spotAreaId>104</spotAreaId><spotAreaName>봉화</spotAreaName><spotName>(봉화)계서당(성이성 생가)</spotName><th3>0</th3><wd>347</wd><ws>0</ws><sky>3</sky><rhm>80</rhm><pop>20</pop></item><item><tm>2019-12-22 00:00</tm><thema>문화/예술</thema><courseId>1</courseId><courseAreaId>4700000000</courseAreaId><courseAreaName>경상북도</courseAreaName><courseName>남호고택에서의 하룻밤</courseName><spotAreaId>103</spotAreaId><spotAreaName>봉화</spotAreaName><spotName>(봉화)지림사</spotName><th3>0</th3><wd>360</wd><ws>0</ws><sky>3</sky><rhm>80</rhm><pop>20</pop></item><item><tm>2019-12-22 00:00</tm><thema>종교/역사/전통</thema><courseId>1</courseId><courseAreaId>4700000000</courseAreaId><courseAreaName>경상북도</courseAreaName><courseName>남호고택에서의 하룻밤</courseName><spotAreaId>103</spotAreaId><spotAreaName>봉화</spotAreaName><spotName>(봉화)지림사</spotName><th3>0</th3><wd>360</wd><ws>0</ws><sky>3</sky><rhm>80</rhm><pop>20</pop></item><item><tm>2019-12-22 00:00</tm><thema>자연/힐링</thema><courseId>1</courseId><courseAreaId>4700000000</courseAreaId><courseAreaName>경상북도</courseAreaName><courseName>남호고택에서의 하룻밤</courseName><spotAreaId>103</spotAreaId><spotAreaName>봉화</spotAreaName><spotName>(봉화)지림사</spotName><th3>0</th3><wd>360</wd><ws>0</ws><sky>3</sky><rhm>80</rhm><pop>20</pop></item><item><tm>2019-12-22 00:00</tm><thema>체험/학습/산업</thema><courseId>1</courseId><courseAreaId>4700000000</courseAreaId><courseAreaName>경상북도</courseAreaName><courseName>남호고택에서의 하룻밤</courseName><spotAreaId>103</spotAreaId><spotAreaName>봉화</spotAreaName><spotName>(봉화)지림사</spotName><th3>0</th3><wd>360</wd><ws>0</ws><sky>3</sky><rhm>80</rhm><pop>20</pop></item><item><tm>2019-12-22 00:00</tm><thema>문화/예술</thema><courseId>1</courseId><courseAreaId>4700000000</courseAreaId><courseAreaName>경상북도</courseAreaName><courseName>남호고택에서의 하룻밤</courseName><spotAreaId>104</spotAreaId><spotAreaName>봉화</spotAreaName><spotName>(봉화)계서당(성이성 생가)</spotName><th3>0</th3><wd>347</wd><ws>0</ws><sky>3</sky><rhm>80</rhm><pop>20</pop></item><item><tm>2019-12-22 00:00</tm><thema>종교/역사/전통</thema><courseId>1</courseId><courseAreaId>4700000000</courseAreaId><courseAreaName>경상북도</courseAreaName><courseName>남호고택에서의 하룻밤</courseName><spotAreaId>102</spotAreaId><spotAreaName>봉화</spotAreaName><spotName>(봉화)춘양목 송이마을</spotName><th3>-1</th3><wd>333</wd><ws>0</ws><sky>3</sky><rhm>80</rhm><pop>20</pop></item></items><numOfRows>10</numOfRows><pageNo>1</pageNo><totalCount>256</totalCount></body></response>\r\n",
            "\n"
          ]
        }
      ]
    },
    {
      "cell_type": "code",
      "source": [
        "if response.status_code == 200:\n",
        "  xd = xmltodict.parse(response.text)\n",
        "  print(type(xd)) # dict\n",
        "  print(xd)"
      ],
      "metadata": {
        "colab": {
          "base_uri": "https://localhost:8080/"
        },
        "id": "f38a8-XThLFA",
        "outputId": "b01d0654-a6f4-4122-faee-0571106225c8"
      },
      "execution_count": 9,
      "outputs": [
        {
          "output_type": "stream",
          "name": "stdout",
          "text": [
            "<class 'dict'>\n",
            "{'response': {'header': {'resultCode': '00', 'resultMsg': 'NORMAL_SERVICE'}, 'body': {'dataType': 'XML', 'items': {'item': [{'tm': '2019-12-22 00:00', 'thema': '문화/예술', 'courseId': '1', 'courseAreaId': '4700000000', 'courseAreaName': '경상북도', 'courseName': '남호고택에서의 하룻밤', 'spotAreaId': '102', 'spotAreaName': '봉화', 'spotName': '(봉화)춘양목 송이마을', 'th3': '-1', 'wd': '333', 'ws': '0', 'sky': '3', 'rhm': '80', 'pop': '20'}, {'tm': '2019-12-22 00:00', 'thema': '종교/역사/전통', 'courseId': '1', 'courseAreaId': '4700000000', 'courseAreaName': '경상북도', 'courseName': '남호고택에서의 하룻밤', 'spotAreaId': '104', 'spotAreaName': '봉화', 'spotName': '(봉화)계서당(성이성 생가)', 'th3': '0', 'wd': '347', 'ws': '0', 'sky': '3', 'rhm': '80', 'pop': '20'}, {'tm': '2019-12-22 00:00', 'thema': '자연/힐링', 'courseId': '1', 'courseAreaId': '4700000000', 'courseAreaName': '경상북도', 'courseName': '남호고택에서의 하룻밤', 'spotAreaId': '104', 'spotAreaName': '봉화', 'spotName': '(봉화)계서당(성이성 생가)', 'th3': '0', 'wd': '347', 'ws': '0', 'sky': '3', 'rhm': '80', 'pop': '20'}, {'tm': '2019-12-22 00:00', 'thema': '체험/학습/산업', 'courseId': '1', 'courseAreaId': '4700000000', 'courseAreaName': '경상북도', 'courseName': '남호고택에서의 하룻밤', 'spotAreaId': '104', 'spotAreaName': '봉화', 'spotName': '(봉화)계서당(성이성 생가)', 'th3': '0', 'wd': '347', 'ws': '0', 'sky': '3', 'rhm': '80', 'pop': '20'}, {'tm': '2019-12-22 00:00', 'thema': '문화/예술', 'courseId': '1', 'courseAreaId': '4700000000', 'courseAreaName': '경상북도', 'courseName': '남호고택에서의 하룻밤', 'spotAreaId': '103', 'spotAreaName': '봉화', 'spotName': '(봉화)지림사', 'th3': '0', 'wd': '360', 'ws': '0', 'sky': '3', 'rhm': '80', 'pop': '20'}, {'tm': '2019-12-22 00:00', 'thema': '종교/역사/전통', 'courseId': '1', 'courseAreaId': '4700000000', 'courseAreaName': '경상북도', 'courseName': '남호고택에서의 하룻밤', 'spotAreaId': '103', 'spotAreaName': '봉화', 'spotName': '(봉화)지림사', 'th3': '0', 'wd': '360', 'ws': '0', 'sky': '3', 'rhm': '80', 'pop': '20'}, {'tm': '2019-12-22 00:00', 'thema': '자연/힐링', 'courseId': '1', 'courseAreaId': '4700000000', 'courseAreaName': '경상북도', 'courseName': '남호고택에서의 하룻밤', 'spotAreaId': '103', 'spotAreaName': '봉화', 'spotName': '(봉화)지림사', 'th3': '0', 'wd': '360', 'ws': '0', 'sky': '3', 'rhm': '80', 'pop': '20'}, {'tm': '2019-12-22 00:00', 'thema': '체험/학습/산업', 'courseId': '1', 'courseAreaId': '4700000000', 'courseAreaName': '경상북도', 'courseName': '남호고택에서의 하룻밤', 'spotAreaId': '103', 'spotAreaName': '봉화', 'spotName': '(봉화)지림사', 'th3': '0', 'wd': '360', 'ws': '0', 'sky': '3', 'rhm': '80', 'pop': '20'}, {'tm': '2019-12-22 00:00', 'thema': '문화/예술', 'courseId': '1', 'courseAreaId': '4700000000', 'courseAreaName': '경상북도', 'courseName': '남호고택에서의 하룻밤', 'spotAreaId': '104', 'spotAreaName': '봉화', 'spotName': '(봉화)계서당(성이성 생가)', 'th3': '0', 'wd': '347', 'ws': '0', 'sky': '3', 'rhm': '80', 'pop': '20'}, {'tm': '2019-12-22 00:00', 'thema': '종교/역사/전통', 'courseId': '1', 'courseAreaId': '4700000000', 'courseAreaName': '경상북도', 'courseName': '남호고택에서의 하룻밤', 'spotAreaId': '102', 'spotAreaName': '봉화', 'spotName': '(봉화)춘양목 송이마을', 'th3': '-1', 'wd': '333', 'ws': '0', 'sky': '3', 'rhm': '80', 'pop': '20'}]}, 'numOfRows': '10', 'pageNo': '1', 'totalCount': '256'}}}\n"
          ]
        }
      ]
    },
    {
      "cell_type": "code",
      "source": [
        "# item 접근\n",
        "\n",
        "w_data = xd['response']['body']['items']['item']\n",
        "print(type(w_data)) # list\n",
        "print(w_data)"
      ],
      "metadata": {
        "colab": {
          "base_uri": "https://localhost:8080/"
        },
        "id": "wLlDD9Oph5A3",
        "outputId": "6829cd4a-25d6-44ac-9284-8a979803ed84"
      },
      "execution_count": 12,
      "outputs": [
        {
          "output_type": "stream",
          "name": "stdout",
          "text": [
            "<class 'list'>\n",
            "[{'tm': '2019-12-22 00:00', 'thema': '문화/예술', 'courseId': '1', 'courseAreaId': '4700000000', 'courseAreaName': '경상북도', 'courseName': '남호고택에서의 하룻밤', 'spotAreaId': '102', 'spotAreaName': '봉화', 'spotName': '(봉화)춘양목 송이마을', 'th3': '-1', 'wd': '333', 'ws': '0', 'sky': '3', 'rhm': '80', 'pop': '20'}, {'tm': '2019-12-22 00:00', 'thema': '종교/역사/전통', 'courseId': '1', 'courseAreaId': '4700000000', 'courseAreaName': '경상북도', 'courseName': '남호고택에서의 하룻밤', 'spotAreaId': '104', 'spotAreaName': '봉화', 'spotName': '(봉화)계서당(성이성 생가)', 'th3': '0', 'wd': '347', 'ws': '0', 'sky': '3', 'rhm': '80', 'pop': '20'}, {'tm': '2019-12-22 00:00', 'thema': '자연/힐링', 'courseId': '1', 'courseAreaId': '4700000000', 'courseAreaName': '경상북도', 'courseName': '남호고택에서의 하룻밤', 'spotAreaId': '104', 'spotAreaName': '봉화', 'spotName': '(봉화)계서당(성이성 생가)', 'th3': '0', 'wd': '347', 'ws': '0', 'sky': '3', 'rhm': '80', 'pop': '20'}, {'tm': '2019-12-22 00:00', 'thema': '체험/학습/산업', 'courseId': '1', 'courseAreaId': '4700000000', 'courseAreaName': '경상북도', 'courseName': '남호고택에서의 하룻밤', 'spotAreaId': '104', 'spotAreaName': '봉화', 'spotName': '(봉화)계서당(성이성 생가)', 'th3': '0', 'wd': '347', 'ws': '0', 'sky': '3', 'rhm': '80', 'pop': '20'}, {'tm': '2019-12-22 00:00', 'thema': '문화/예술', 'courseId': '1', 'courseAreaId': '4700000000', 'courseAreaName': '경상북도', 'courseName': '남호고택에서의 하룻밤', 'spotAreaId': '103', 'spotAreaName': '봉화', 'spotName': '(봉화)지림사', 'th3': '0', 'wd': '360', 'ws': '0', 'sky': '3', 'rhm': '80', 'pop': '20'}, {'tm': '2019-12-22 00:00', 'thema': '종교/역사/전통', 'courseId': '1', 'courseAreaId': '4700000000', 'courseAreaName': '경상북도', 'courseName': '남호고택에서의 하룻밤', 'spotAreaId': '103', 'spotAreaName': '봉화', 'spotName': '(봉화)지림사', 'th3': '0', 'wd': '360', 'ws': '0', 'sky': '3', 'rhm': '80', 'pop': '20'}, {'tm': '2019-12-22 00:00', 'thema': '자연/힐링', 'courseId': '1', 'courseAreaId': '4700000000', 'courseAreaName': '경상북도', 'courseName': '남호고택에서의 하룻밤', 'spotAreaId': '103', 'spotAreaName': '봉화', 'spotName': '(봉화)지림사', 'th3': '0', 'wd': '360', 'ws': '0', 'sky': '3', 'rhm': '80', 'pop': '20'}, {'tm': '2019-12-22 00:00', 'thema': '체험/학습/산업', 'courseId': '1', 'courseAreaId': '4700000000', 'courseAreaName': '경상북도', 'courseName': '남호고택에서의 하룻밤', 'spotAreaId': '103', 'spotAreaName': '봉화', 'spotName': '(봉화)지림사', 'th3': '0', 'wd': '360', 'ws': '0', 'sky': '3', 'rhm': '80', 'pop': '20'}, {'tm': '2019-12-22 00:00', 'thema': '문화/예술', 'courseId': '1', 'courseAreaId': '4700000000', 'courseAreaName': '경상북도', 'courseName': '남호고택에서의 하룻밤', 'spotAreaId': '104', 'spotAreaName': '봉화', 'spotName': '(봉화)계서당(성이성 생가)', 'th3': '0', 'wd': '347', 'ws': '0', 'sky': '3', 'rhm': '80', 'pop': '20'}, {'tm': '2019-12-22 00:00', 'thema': '종교/역사/전통', 'courseId': '1', 'courseAreaId': '4700000000', 'courseAreaName': '경상북도', 'courseName': '남호고택에서의 하룻밤', 'spotAreaId': '102', 'spotAreaName': '봉화', 'spotName': '(봉화)춘양목 송이마을', 'th3': '-1', 'wd': '333', 'ws': '0', 'sky': '3', 'rhm': '80', 'pop': '20'}]\n"
          ]
        }
      ]
    },
    {
      "cell_type": "code",
      "source": [
        "# 기상상태 출력\n",
        "dict_key = {'1':'맑음','2':'구름','3':'흐림','4':'비','5':'소나기','6':'비눈','7':'눈비','8':'눈'}\n",
        "key_sky = w_data[0]['sky']\n",
        "print('기상상태 :', dict_key[key_sky])"
      ],
      "metadata": {
        "colab": {
          "base_uri": "https://localhost:8080/"
        },
        "id": "s9_VfVv7iZhw",
        "outputId": "201f5453-12f4-4edb-c40b-093e482fd773"
      },
      "execution_count": 17,
      "outputs": [
        {
          "output_type": "stream",
          "name": "stdout",
          "text": [
            "기상상태 : 흐림\n"
          ]
        }
      ]
    },
    {
      "cell_type": "code",
      "source": [
        "for i in range(len(w_data)):\n",
        "  key_sky = w_data[i]['sky']\n",
        "  print('관광지명 :', w_data[i]['spotName'])\n",
        "  print('시간 :', w_data[i]['tm'])\n",
        "  print('기온 :', w_data[i]['th3'])\n",
        "  print('강수확률 :', w_data[i]['pop'])\n",
        "  print('기상상태 :', dict_key[key_sky])\n",
        "\n",
        "\n",
        "\n",
        "# 총 item 개수 출력\n",
        "\n",
        "totalCount = xd['response']['body']['totalCount']\n",
        "print('totalCount', totalCount)"
      ],
      "metadata": {
        "colab": {
          "base_uri": "https://localhost:8080/"
        },
        "id": "iOZW_cMIjc34",
        "outputId": "4fa41f7f-3e5a-4997-fb76-f1bc95513bc1"
      },
      "execution_count": 23,
      "outputs": [
        {
          "output_type": "stream",
          "name": "stdout",
          "text": [
            "관광지명 : (봉화)춘양목 송이마을\n",
            "시간 : 2019-12-22 00:00\n",
            "기온 : -1\n",
            "강수확률 : 20\n",
            "기상상태 : 흐림\n",
            "관광지명 : (봉화)계서당(성이성 생가)\n",
            "시간 : 2019-12-22 00:00\n",
            "기온 : 0\n",
            "강수확률 : 20\n",
            "기상상태 : 흐림\n",
            "관광지명 : (봉화)계서당(성이성 생가)\n",
            "시간 : 2019-12-22 00:00\n",
            "기온 : 0\n",
            "강수확률 : 20\n",
            "기상상태 : 흐림\n",
            "관광지명 : (봉화)계서당(성이성 생가)\n",
            "시간 : 2019-12-22 00:00\n",
            "기온 : 0\n",
            "강수확률 : 20\n",
            "기상상태 : 흐림\n",
            "관광지명 : (봉화)지림사\n",
            "시간 : 2019-12-22 00:00\n",
            "기온 : 0\n",
            "강수확률 : 20\n",
            "기상상태 : 흐림\n",
            "관광지명 : (봉화)지림사\n",
            "시간 : 2019-12-22 00:00\n",
            "기온 : 0\n",
            "강수확률 : 20\n",
            "기상상태 : 흐림\n",
            "관광지명 : (봉화)지림사\n",
            "시간 : 2019-12-22 00:00\n",
            "기온 : 0\n",
            "강수확률 : 20\n",
            "기상상태 : 흐림\n",
            "관광지명 : (봉화)지림사\n",
            "시간 : 2019-12-22 00:00\n",
            "기온 : 0\n",
            "강수확률 : 20\n",
            "기상상태 : 흐림\n",
            "관광지명 : (봉화)계서당(성이성 생가)\n",
            "시간 : 2019-12-22 00:00\n",
            "기온 : 0\n",
            "강수확률 : 20\n",
            "기상상태 : 흐림\n",
            "관광지명 : (봉화)춘양목 송이마을\n",
            "시간 : 2019-12-22 00:00\n",
            "기온 : -1\n",
            "강수확률 : 20\n",
            "기상상태 : 흐림\n",
            "totalCount 256\n"
          ]
        }
      ]
    }
  ]
}