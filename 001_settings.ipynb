{
  "nbformat": 4,
  "nbformat_minor": 0,
  "metadata": {
    "colab": {
      "provenance": [],
      "authorship_tag": "ABX9TyOCKns9lyRpM16vTfyfGF2W",
      "include_colab_link": true
    },
    "kernelspec": {
      "name": "python3",
      "display_name": "Python 3"
    },
    "language_info": {
      "name": "python"
    }
  },
  "cells": [
    {
      "cell_type": "markdown",
      "metadata": {
        "id": "view-in-github",
        "colab_type": "text"
      },
      "source": [
        "<a href=\"https://colab.research.google.com/github/minsaee/python_demo/blob/master/001_settings.ipynb\" target=\"_parent\"><img src=\"https://colab.research.google.com/assets/colab-badge.svg\" alt=\"Open In Colab\"/></a>"
      ]
    },
    {
      "cell_type": "markdown",
      "source": [
        "Ctrl + Enter : 실행"
      ],
      "metadata": {
        "id": "nHWcTbd9KyLG"
      }
    },
    {
      "cell_type": "markdown",
      "source": [
        "Shift + Enter : 실행 후 다음 라인 이동"
      ],
      "metadata": {
        "id": "z5KRV9o6QEGD"
      }
    },
    {
      "cell_type": "markdown",
      "source": [
        "Art + Enter : 실행 후 새로운 라인 추가"
      ],
      "metadata": {
        "id": "jTX0GgLlQOjT"
      }
    },
    {
      "cell_type": "code",
      "source": [
        "1+1"
      ],
      "metadata": {
        "id": "8EQlL90pQMi7"
      },
      "execution_count": null,
      "outputs": []
    },
    {
      "cell_type": "code",
      "source": [
        "print('Hello')"
      ],
      "metadata": {
        "id": "y2nUOXTGQdQT"
      },
      "execution_count": null,
      "outputs": []
    },
    {
      "cell_type": "code",
      "source": [
        "#현재위치\n",
        "!pwd"
      ],
      "metadata": {
        "colab": {
          "base_uri": "https://localhost:8080/"
        },
        "id": "LND9wT_ZQwN8",
        "outputId": "5e350749-73a3-439f-8e67-cde667c698af"
      },
      "execution_count": null,
      "outputs": [
        {
          "output_type": "stream",
          "name": "stdout",
          "text": [
            "/content\n"
          ]
        }
      ]
    },
    {
      "cell_type": "markdown",
      "source": [
        "# 1. 구글 코랩 환경"
      ],
      "metadata": {
        "id": "s8PD2uplUsvy"
      }
    },
    {
      "cell_type": "code",
      "source": [
        "#os 확인\n",
        "!cat /etc/issue.net"
      ],
      "metadata": {
        "id": "TLMK1LGVUiw5"
      },
      "execution_count": null,
      "outputs": []
    },
    {
      "cell_type": "code",
      "source": [
        "# 현재 설치된 운영체제 (64bit)\n",
        "!uname -i"
      ],
      "metadata": {
        "id": "xMO8YzJ0UhGq"
      },
      "execution_count": null,
      "outputs": []
    },
    {
      "cell_type": "code",
      "source": [
        "# cpu\n",
        "!head /proc/cpuinfo"
      ],
      "metadata": {
        "id": "B1AgDVJ-VelN"
      },
      "execution_count": null,
      "outputs": []
    },
    {
      "cell_type": "code",
      "source": [
        "# memory\n",
        "!head /proc/meminfo"
      ],
      "metadata": {
        "id": "IgsbTJUGV_zM"
      },
      "execution_count": null,
      "outputs": []
    },
    {
      "cell_type": "markdown",
      "source": [
        "# 2. 구급 코랩 드라이버 연동"
      ],
      "metadata": {
        "id": "Pngh-2l5Wo05"
      }
    },
    {
      "cell_type": "code",
      "source": [
        "!pwd"
      ],
      "metadata": {
        "colab": {
          "base_uri": "https://localhost:8080/"
        },
        "id": "PPLHp5L6Wnrl",
        "outputId": "39d1742a-6ecf-461b-a3fc-1ac80a236341"
      },
      "execution_count": null,
      "outputs": [
        {
          "output_type": "stream",
          "name": "stdout",
          "text": [
            "/content\n"
          ]
        }
      ]
    },
    {
      "cell_type": "code",
      "source": [
        "# 구글 드라이버 연동\n",
        "from google.colab import drive\n",
        "drive.mount('/content/drive')"
      ],
      "metadata": {
        "colab": {
          "base_uri": "https://localhost:8080/"
        },
        "id": "0gBRT1RqW0fp",
        "outputId": "d0bb5bc4-c849-499d-98d3-64dd1d90b4fd"
      },
      "execution_count": null,
      "outputs": [
        {
          "output_type": "stream",
          "name": "stdout",
          "text": [
            "Mounted at /content/drive\n"
          ]
        }
      ]
    },
    {
      "cell_type": "code",
      "source": [
        "%cd /content/drive/MyDrive/ai_chat_python"
      ],
      "metadata": {
        "colab": {
          "base_uri": "https://localhost:8080/"
        },
        "id": "1WZx6C1OXHIG",
        "outputId": "926bd552-3abd-4dc8-fb34-bf541639e0a5"
      },
      "execution_count": null,
      "outputs": [
        {
          "output_type": "stream",
          "name": "stdout",
          "text": [
            "/content/drive/MyDrive/ai_chat_python\n"
          ]
        }
      ]
    },
    {
      "cell_type": "code",
      "source": [
        "!ls"
      ],
      "metadata": {
        "colab": {
          "base_uri": "https://localhost:8080/"
        },
        "id": "XilmqdF9X5Xt",
        "outputId": "31750fc6-c5d3-4511-ab26-f2336717349e"
      },
      "execution_count": null,
      "outputs": [
        {
          "output_type": "stream",
          "name": "stdout",
          "text": [
            "001_환경설정.ipynb  asset\n"
          ]
        }
      ]
    },
    {
      "cell_type": "markdown",
      "source": [
        "# 3. 구글 드라이브 이미지 colab markdown에 넣기"
      ],
      "metadata": {
        "id": "YgP3jMQ2YvPi"
      }
    },
    {
      "cell_type": "code",
      "source": [
        "# 이미지주소를 복사 : 이미지 단축메뉴에서 링크 > 공유복사\n",
        "url = \"https://drive.google.com/file/d/1EZAyM9yM6i2m0mWZ2YoQWk_OQhcTW41f/view?usp=drive_link\"\n",
        "\n",
        "path = \"https://drive.google.com/uc?export=download&id=\"+url.split('/')[-2]\n",
        "size =\"width=\\\"\\\" \"+\"height=\\\"\\\" \"\n",
        "tag = \"<img src='\"+path+\"' \"+size+\"/><br/>\"\n",
        "print(\" > Path : \", path)\n",
        "print('\\n', \"> Tag : \", tag)"
      ],
      "metadata": {
        "id": "t40swBl9YH0I"
      },
      "execution_count": null,
      "outputs": []
    },
    {
      "cell_type": "markdown",
      "source": [
        "<img src='https://drive.google.com/uc?export=download&id=1EZAyM9yM6i2m0mWZ2YoQWk_OQhcTW41f' width=\"\" height=\"\" /><br/>"
      ],
      "metadata": {
        "id": "wUbNtywfectR"
      }
    },
    {
      "cell_type": "code",
      "source": [
        "path='https://drive.google.com/uc?export=download&id='+url.split('/')[-2]\n",
        "size=\"width=\\\"\\\" \"+\"height =\\\"\\\" \"\n",
        "tag=\"<img src='\"+path+\"' \"+size+\"/><br>\"\n",
        "print(\" ▶️ Path : \", path)\n",
        "print('\\n',\"▶️ Tag : \", tag)"
      ],
      "metadata": {
        "id": "bMH1sND7fphH"
      },
      "execution_count": null,
      "outputs": []
    },
    {
      "cell_type": "markdown",
      "source": [
        "# 4. python 버전확인"
      ],
      "metadata": {
        "id": "ITayKSEmeEwA"
      }
    },
    {
      "cell_type": "code",
      "source": [
        "#python --version\n",
        "!python -V"
      ],
      "metadata": {
        "colab": {
          "base_uri": "https://localhost:8080/"
        },
        "id": "tRR0-i5geHmZ",
        "outputId": "5e3765e0-f8f5-4d24-d8ed-e4c4476d3c7e"
      },
      "execution_count": null,
      "outputs": [
        {
          "output_type": "stream",
          "name": "stdout",
          "text": [
            "Python 3.10.12\n"
          ]
        }
      ]
    },
    {
      "cell_type": "markdown",
      "source": [
        "# 5. pip로 설치된 라이브러리 확인"
      ],
      "metadata": {
        "id": "7FNQ1CF0jSse"
      }
    },
    {
      "cell_type": "code",
      "source": [
        "#!pip freeze"
      ],
      "metadata": {
        "id": "iSTOhQizjR5F"
      },
      "execution_count": null,
      "outputs": []
    },
    {
      "cell_type": "markdown",
      "source": [
        "# 6. 판다스 라이브러리 탑재"
      ],
      "metadata": {
        "id": "6TkNZRbLkfvm"
      }
    },
    {
      "cell_type": "code",
      "source": [
        "import pandas as pd"
      ],
      "metadata": {
        "id": "ZRyK2Oz2jvWN"
      },
      "execution_count": null,
      "outputs": []
    },
    {
      "cell_type": "code",
      "source": [
        "# 설치된 모든 라이브러리 확인\n",
        "pd.show_versions()"
      ],
      "metadata": {
        "id": "nG2EgCi8kqeo"
      },
      "execution_count": null,
      "outputs": []
    },
    {
      "cell_type": "markdown",
      "source": [
        "# 7. 구글 코랩에서 그래프 한글 문제 해결\n"
      ],
      "metadata": {
        "id": "CzCrDu7BlPlH"
      }
    },
    {
      "cell_type": "code",
      "source": [
        "!sudo apt-get install -y fonts-nanum\n",
        "!sudo fc-cache -fv\n",
        "!rm ~/.cache/matplotlib -rf"
      ],
      "metadata": {
        "id": "4TPWcHv0lS3o"
      },
      "execution_count": null,
      "outputs": []
    },
    {
      "cell_type": "markdown",
      "source": [
        "## 런타임 > 런타임 다시 시작 후 아래 소스 실행"
      ],
      "metadata": {
        "id": "MbT0uxxilu7g"
      }
    },
    {
      "cell_type": "code",
      "source": [
        "import numpy as np\n",
        "import pandas as pd\n",
        "import matplotlib as mp\n",
        "import matplotlib.pyplot as plt\n",
        "import seaborn as sns\n",
        "\n",
        "plt.rc('font', family='NanumBarunGothic')\n",
        "\n",
        "# grid는 격자무늬를 표시한다.\n",
        "plt.title('한글')\n",
        "plt.grid()\n",
        "plt.xlabel('x축')\n",
        "plt.ylabel('y축', rotation=0)\n",
        "#x축 눈금\n",
        "plt.xticks([1,2,3], rotation=20)\n",
        "#y축 눈금\n",
        "plt.yticks(ticks=[2,3,4], labels=['A','B','C'])\n",
        "\n",
        "plt.ylim(0,5)\n",
        "plt.plot([1,2,3])"
      ],
      "metadata": {
        "id": "weWpzp5JlyuQ"
      },
      "execution_count": null,
      "outputs": []
    }
  ]
}