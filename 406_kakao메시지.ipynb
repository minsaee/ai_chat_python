{
  "nbformat": 4,
  "nbformat_minor": 0,
  "metadata": {
    "colab": {
      "provenance": [],
      "authorship_tag": "ABX9TyNL6TeMVL+E5l+aTLIybyGL",
      "include_colab_link": true
    },
    "kernelspec": {
      "name": "python3",
      "display_name": "Python 3"
    },
    "language_info": {
      "name": "python"
    }
  },
  "cells": [
    {
      "cell_type": "markdown",
      "metadata": {
        "id": "view-in-github",
        "colab_type": "text"
      },
      "source": [
        "<a href=\"https://colab.research.google.com/github/minsaee/ai_chat_python/blob/master/406_kakao%EB%A9%94%EC%8B%9C%EC%A7%80.ipynb\" target=\"_parent\"><img src=\"https://colab.research.google.com/assets/colab-badge.svg\" alt=\"Open In Colab\"/></a>"
      ]
    },
    {
      "cell_type": "markdown",
      "source": [
        "#기본설정"
      ],
      "metadata": {
        "id": "_37l-m9EpNry"
      }
    },
    {
      "cell_type": "code",
      "execution_count": 1,
      "metadata": {
        "colab": {
          "base_uri": "https://localhost:8080/"
        },
        "id": "yrGFqAUZjE_9",
        "outputId": "5a00576b-b237-4c31-9108-4ab4a9ba0661"
      },
      "outputs": [
        {
          "output_type": "stream",
          "name": "stdout",
          "text": [
            "Mounted at /content/drive\n",
            "/content/drive/MyDrive/ai_chat_python\n"
          ]
        }
      ],
      "source": [
        "from google.colab import drive\n",
        "drive.mount('/content/drive')\n",
        "\n",
        "%cd '/content/drive/MyDrive/ai_chat_python'"
      ]
    },
    {
      "cell_type": "code",
      "source": [
        "import requests\n",
        "\n",
        "url = 'https://kauth.kakao.com/oauth/token'\n",
        "data = {\n",
        "    'grant_type':'authorization_code',\n",
        "    'client_id':'REST API Key',\n",
        "    'redirect_uri' : 'https://localhost.com',\n",
        "    'code':'code'\n",
        "}\n",
        "\n",
        "\n",
        "response = requests.post(url, data = data)\n",
        "\n",
        "if response.status_code != 200:\n",
        "  print('error! because', response.json())\n",
        "else:\n",
        "  tokens = response.json()\n",
        "  print(tokens)"
      ],
      "metadata": {
        "id": "pFZhXw4ipL86"
      },
      "execution_count": null,
      "outputs": []
    },
    {
      "cell_type": "markdown",
      "source": [
        "#토큰 관리하기"
      ],
      "metadata": {
        "id": "1hobKgZjx_Wh"
      }
    },
    {
      "cell_type": "code",
      "source": [
        "import json\n",
        "import requests\n",
        "import datetime\n",
        "import os\n",
        "\n",
        "# 카카오 토큰을 저장할 파일명\n",
        "KAKAO_TOKEN_FILENAME = \"./res/kakao_message/kakao_token.json\"\n",
        "\n",
        "# 저장하는 함수\n",
        "def save_tokens(filename, tokens):\n",
        "    with open(filename, \"w\") as fp:\n",
        "        json.dump(tokens, fp)\n",
        "\n",
        "# 읽어오는 함수\n",
        "def load_tokens(filename):\n",
        "    with open(filename) as fp:\n",
        "        tokens = json.load(fp)\n",
        "\n",
        "    return tokens\n",
        "\n",
        "# refresh_token으로 access_token 갱신하는 함수\n",
        "def update_tokens(app_key, filename) :\n",
        "    tokens = load_tokens(filename)\n",
        "\n",
        "    url = \"https://kauth.kakao.com/oauth/token\"\n",
        "    data = {\n",
        "        \"grant_type\" : \"refresh_token\",\n",
        "        \"client_id\" : app_key,\n",
        "        \"refresh_token\" : tokens['refresh_token']\n",
        "    }\n",
        "    response = requests.post(url, data=data)\n",
        "\n",
        "    # 요청에 실패했다면,\n",
        "    if response.status_code != 200:\n",
        "        print(\"error! because \", response.json())\n",
        "        tokens = None\n",
        "    else: # 성공했다면,\n",
        "        print(response.json())\n",
        "        # 기존 파일 백업\n",
        "        now = datetime.datetime.now().strftime(\"%Y%m%d_%H%M%S\")\n",
        "        backup_filename = filename+\".\"+ now\n",
        "        os.rename(filename, backup_filename)\n",
        "        # 갱신된 토큰 저장\n",
        "        tokens['access_token'] = response.json()['access_token']\n",
        "        save_tokens(filename, tokens)\n",
        "\n",
        "    return tokens\n",
        "\n",
        "# 토큰 저장\n",
        "save_tokens(KAKAO_TOKEN_FILENAME, tokens)\n",
        "\n",
        "# 토큰 업데이트 -> 토큰 저장 필수!\n",
        "#KAKAO_APP_KEY = \"<REST_API 앱키를 입력하세요>\"\n",
        "#tokens = update_tokens(KAKAO_APP_KEY, KAKAO_TOKEN_FILENAME)\n",
        "#save_tokens(KAKAO_TOKEN_FILENAME, tokens)"
      ],
      "metadata": {
        "id": "yNi-WMt_x9cv"
      },
      "execution_count": 45,
      "outputs": []
    },
    {
      "cell_type": "markdown",
      "source": [
        "# 구현하기"
      ],
      "metadata": {
        "id": "am_RDMlV0Ks4"
      }
    },
    {
      "cell_type": "markdown",
      "source": [
        "텍스트 메시지 템플릿을 사용하여 카카오톡 메시지 보내기.  \n",
        "https://developers.kakao.com/docs/latest/ko/message/rest-api#default-template-msg"
      ],
      "metadata": {
        "id": "v4T_YLV50nPW"
      }
    },
    {
      "cell_type": "code",
      "source": [
        "import json\n",
        "import requests\n",
        "\n",
        "# 저장된 토큰 정보를 읽어오기.\n",
        "tokens = load_tokens(KAKAO_TOKEN_FILENAME)\n",
        "\n",
        "# 텍스트 메시지 보내기 url 설정하기.\n",
        "url = 'https://kapi.kakao.com/v2/api/talk/memo/default/send'\n",
        "\n",
        "# request parameter 설정하기.\n",
        "headers = {\n",
        "    'Authorization': 'Bearer '+tokens['access_token']\n",
        "}\n",
        "\n",
        "data = {\n",
        "    'template_object' : json.dumps({\n",
        "        'object_type' : 'text',\n",
        "        'text': 'Hello, World!',\n",
        "        'link':{\n",
        "            'web_url':'https://www.naver.com',\n",
        "            'mobile_web_url':'https://m.naver.com'\n",
        "        }\n",
        "    })\n",
        "}\n",
        "\n",
        "# 나에게 카카오톡 메시지 보내기 요청 (type = text)\n",
        "response = requests.post(url, headers= headers, data=data)\n",
        "print(response.status_code)\n",
        "\n",
        "if response.status_code != 200:\n",
        "  print('error! because', response.json())\n",
        "else:\n",
        "  print('메시지를 성공적으로 보냈습니다.')"
      ],
      "metadata": {
        "colab": {
          "base_uri": "https://localhost:8080/"
        },
        "id": "hwh3GkrY0Lgx",
        "outputId": "4ed489bf-b396-4b5e-c0cc-c80d869f5dd6"
      },
      "execution_count": 47,
      "outputs": [
        {
          "output_type": "stream",
          "name": "stdout",
          "text": [
            "200\n",
            "메시지를 성공적으로 보냈습니다.\n"
          ]
        }
      ]
    },
    {
      "cell_type": "code",
      "source": [
        "import json\n",
        "import requests\n",
        "\n",
        "# 저장된 토큰 정보를 읽어오기.\n",
        "tokens = load_tokens(KAKAO_TOKEN_FILENAME)\n",
        "\n",
        "# 리스트 메시지 보내기 url 설정하기.\n",
        "url = 'https://kapi.kakao.com/v2/api/talk/memo/default/send'\n",
        "\n",
        "# request parameter 설정하기.\n",
        "headers = {\n",
        "    'Authorization': 'Bearer '+tokens['access_token']\n",
        "}\n",
        "\n",
        "template = {\n",
        "    \"object_type\" : \"list\",\n",
        "    \"header_title\" : \"초밥 사진\",\n",
        "    \"header_link\" : {\n",
        "        \"web_url\" : \"https://www.naver.com\",\n",
        "        \"mobile_web_url\" : \"https://www.naver.com\"\n",
        "    },\n",
        "    \"contents\" : [\n",
        "        {\n",
        "            \"title\" : \"1. 광어초밥\",\n",
        "            \"description\" : \"광어는 맛있다\",\n",
        "            \"image_url\" : \"https://search1.kakaocdn.net/argon/0x200_85_hr/8x5qcdbcQwi\",\n",
        "            \"image_width\" : 50, \"image_height\" : 50,\n",
        "            \"link\" : {\n",
        "                \"web_url\" : \"https://www.naver.com\",\n",
        "                \"mobile_web_url\" : \"https://www.naver.com\"\n",
        "            }\n",
        "        },\n",
        "        {\n",
        "            \"title\" : \"2. 참치초밥\",\n",
        "            \"description\" : \"참치는 맛있다\",\n",
        "            \"image_url\" : \"https://search2.kakaocdn.net/argon/0x200_85_hr/IjIToH1S7J1\",\n",
        "            \"image_width\" : 50, \"image_height\" : 50,\n",
        "            \"link\" : {\n",
        "                \"web_url\" : \"https://www.naver.com\",\n",
        "                \"mobile_web_url\" : \"https://www.naver.com\"\n",
        "            }\n",
        "        }\n",
        "\n",
        "    ],\n",
        "    \"buttons\" : [\n",
        "        {\n",
        "            \"title\" : \"웹으로 이동\",\n",
        "            \"link\" : {\n",
        "                \"web_url\" : \"https://www.naver.com\",\n",
        "                \"mobile_web_url\" : \"https://www.naver.com\"\n",
        "            }\n",
        "        }\n",
        "    ]\n",
        "\n",
        "}\n",
        "\n",
        "data = {\n",
        "    'template_object' : json.dumps(template)\n",
        "}\n",
        "\n",
        "# 나에게 카카오톡 메시지 보내기 요청 (type = list)\n",
        "response = requests.post(url, headers= headers, data=data)\n",
        "print(response.status_code)\n",
        "\n",
        "if response.status_code != 200:\n",
        "  print('error! because', response.json())\n",
        "else:\n",
        "  print('메시지를 성공적으로 보냈습니다.')"
      ],
      "metadata": {
        "colab": {
          "base_uri": "https://localhost:8080/"
        },
        "id": "fkaZ_ycb6QCH",
        "outputId": "152bb2c1-2d88-44da-d8a6-67b8bd77aa03"
      },
      "execution_count": 53,
      "outputs": [
        {
          "output_type": "stream",
          "name": "stdout",
          "text": [
            "200\n",
            "메시지를 성공적으로 보냈습니다.\n"
          ]
        }
      ]
    },
    {
      "cell_type": "code",
      "source": [
        "%%writefile kakao_utils.py\n",
        "\n",
        "import json\n",
        "import os\n",
        "import datetime\n",
        "import requests\n",
        "\n",
        "# 저장하는 함수\n",
        "def save_tokens(filename, tokens):\n",
        "    with open(filename, \"w\") as fp:\n",
        "        json.dump(tokens, fp)\n",
        "\n",
        "# 읽어오는 함수\n",
        "def load_tokens(filename):\n",
        "    with open(filename) as fp:\n",
        "        tokens = json.load(fp)\n",
        "\n",
        "    return tokens\n",
        "\n",
        "# refresh_token으로 access_token 갱신하는 함수\n",
        "def update_tokens(app_key, filename) :\n",
        "    tokens = load_tokens(filename)\n",
        "\n",
        "    url = \"https://kauth.kakao.com/oauth/token\"\n",
        "    data = {\n",
        "        \"grant_type\" : \"refresh_token\",\n",
        "        \"client_id\"  : app_key,\n",
        "        \"refresh_token\" : tokens['refresh_token']\n",
        "    }\n",
        "    response = requests.post(url, data=data)\n",
        "\n",
        "    # 요청에 실패했다면,\n",
        "    if response.status_code != 200:\n",
        "        print(\"error! because \",  response.json())\n",
        "        tokens = None\n",
        "    else: # 성공했다면,\n",
        "        print(response.json())\n",
        "        # 기존 파일 백업\n",
        "        now = datetime.datetime.now().strftime(\"%Y%m%d_%H%M%S\")\n",
        "        backup_filename = filename+\".\"+ now\n",
        "        os.rename(filename, backup_filename)\n",
        "        # 갱신된 토큰 저장\n",
        "        tokens['access_token'] = response.json()['access_token']\n",
        "        save_tokens(filename, tokens)\n",
        "\n",
        "    return tokens\n",
        "\n",
        "# 메시지 전송 함수\n",
        "def send_message(filename, template):\n",
        "    tokens = load_tokens(filename)\n",
        "\n",
        "    headers = {\n",
        "        \"Authorization\": \"Bearer \" + tokens['access_token']\n",
        "    }\n",
        "\n",
        "    # JSON 형식 -> 문자열 변환\n",
        "    payload = {\n",
        "        \"template_object\" : json.dumps(template)\n",
        "    }\n",
        "\n",
        "    # 카카오톡 보내기\n",
        "    url = \"https://kapi.kakao.com/v2/api/talk/memo/default/send\"\n",
        "    res = requests.post(url, data=payload, headers=headers)\n",
        "\n",
        "    return res"
      ],
      "metadata": {
        "colab": {
          "base_uri": "https://localhost:8080/"
        },
        "id": "tDFmYzsFAyNc",
        "outputId": "c6c19d81-e795-4790-e07f-05ffbe6fd1c1"
      },
      "execution_count": 54,
      "outputs": [
        {
          "output_type": "stream",
          "name": "stdout",
          "text": [
            "Writing kakao_utils.py\n"
          ]
        }
      ]
    },
    {
      "cell_type": "code",
      "source": [
        "import json\n",
        "import requests\n",
        "import kakao_utils\n",
        "\n",
        "# 토큰 가져오기.\n",
        "KAKAO_TOKEN_FILENAME = 'res/kakao_message/kakao_token.json'\n",
        "\n",
        "# REST API KEY 가져오기.\n",
        "KAKAO_APP_KEY = 'REST API Key'\n",
        "\n",
        "# 토큰 업데이트하기.\n",
        "tokens = kakao_utils.update_tokens(KAKAO_APP_KEY, KAKAO_TOKEN_FILENAME)\n",
        "\n",
        "# 토큰 저장하기.\n",
        "save_tokens(KAKAO_TOKEN_FILENAME, tokens)\n",
        "\n",
        "# 텍스트 템플릿 만들기.\n",
        "template = {\n",
        "        'object_type' : 'text',\n",
        "        'text': 'Hello, World!',\n",
        "        'link':{\n",
        "            'web_url':'https://www.naver.com',\n",
        "            'mobile_web_url':'https://m.naver.com'\n",
        "        }\n",
        "}\n",
        "\n",
        "\n",
        "# 나에게 카카오톡 메시지 보내기 요청 (text type)\n",
        "response = kakao_utils.send_message(KAKAO_TOKEN_FILENAME, template)\n",
        "print(response.status_code)\n",
        "\n",
        "if response.status_code != 200:\n",
        "  print('error! because', response.json())\n",
        "else:\n",
        "  print('메시지를 성공적으로 보냈습니다.')"
      ],
      "metadata": {
        "id": "9oDk8EirByu7"
      },
      "execution_count": null,
      "outputs": []
    }
  ]
}