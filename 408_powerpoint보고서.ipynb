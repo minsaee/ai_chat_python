{
  "nbformat": 4,
  "nbformat_minor": 0,
  "metadata": {
    "colab": {
      "provenance": [],
      "collapsed_sections": [
        "qS38ZAQ9oEfP"
      ],
      "authorship_tag": "ABX9TyMpreEMiv0Md/uIGyq6o+gF",
      "include_colab_link": true
    },
    "kernelspec": {
      "name": "python3",
      "display_name": "Python 3"
    },
    "language_info": {
      "name": "python"
    }
  },
  "cells": [
    {
      "cell_type": "markdown",
      "metadata": {
        "id": "view-in-github",
        "colab_type": "text"
      },
      "source": [
        "<a href=\"https://colab.research.google.com/github/minsaee/ai_chat_python/blob/master/408_powerpoint%EB%B3%B4%EA%B3%A0%EC%84%9C.ipynb\" target=\"_parent\"><img src=\"https://colab.research.google.com/assets/colab-badge.svg\" alt=\"Open In Colab\"/></a>"
      ]
    },
    {
      "cell_type": "markdown",
      "source": [
        "## 기본설정"
      ],
      "metadata": {
        "id": "qS38ZAQ9oEfP"
      }
    },
    {
      "cell_type": "code",
      "execution_count": 1,
      "metadata": {
        "colab": {
          "base_uri": "https://localhost:8080/"
        },
        "id": "su4PE9lUn49G",
        "outputId": "df0c8594-f1db-4652-f095-f018f8e3abe2"
      },
      "outputs": [
        {
          "output_type": "stream",
          "name": "stdout",
          "text": [
            "Mounted at /content/drive\n",
            "/content/drive/MyDrive/ai_chat_python\n"
          ]
        }
      ],
      "source": [
        "from google.colab import drive\n",
        "drive.mount('/content/drive')\n",
        "\n",
        "%cd '/content/drive/MyDrive/ai_chat_python'"
      ]
    },
    {
      "cell_type": "markdown",
      "source": [
        "## 보고서 자동화 프로젝트\n",
        " - 참고 사이트\n",
        "   - https://python-pptx.readthedocs.io/en/latest/user/quickstart.html"
      ],
      "metadata": {
        "id": "s6p1ZuTKoMSp"
      }
    },
    {
      "cell_type": "code",
      "source": [
        "# pptx 인스톨하기.\n",
        "\n",
        "!pip install python-pptx"
      ],
      "metadata": {
        "colab": {
          "base_uri": "https://localhost:8080/"
        },
        "id": "7z-JgPz9o8Qu",
        "outputId": "f09352d7-c409-4707-80d8-3c8bd9057804"
      },
      "execution_count": 2,
      "outputs": [
        {
          "output_type": "stream",
          "name": "stdout",
          "text": [
            "Collecting python-pptx\n",
            "  Downloading python_pptx-0.6.23-py3-none-any.whl (471 kB)\n",
            "\u001b[2K     \u001b[90m━━━━━━━━━━━━━━━━━━━━━━━━━━━━━━━━━━━━━━━━\u001b[0m \u001b[32m471.6/471.6 kB\u001b[0m \u001b[31m7.6 MB/s\u001b[0m eta \u001b[36m0:00:00\u001b[0m\n",
            "\u001b[?25hRequirement already satisfied: lxml>=3.1.0 in /usr/local/lib/python3.10/dist-packages (from python-pptx) (4.9.3)\n",
            "Requirement already satisfied: Pillow>=3.3.2 in /usr/local/lib/python3.10/dist-packages (from python-pptx) (9.4.0)\n",
            "Collecting XlsxWriter>=0.5.7 (from python-pptx)\n",
            "  Downloading XlsxWriter-3.1.9-py3-none-any.whl (154 kB)\n",
            "\u001b[2K     \u001b[90m━━━━━━━━━━━━━━━━━━━━━━━━━━━━━━━━━━━━━━━━\u001b[0m \u001b[32m154.8/154.8 kB\u001b[0m \u001b[31m16.2 MB/s\u001b[0m eta \u001b[36m0:00:00\u001b[0m\n",
            "\u001b[?25hInstalling collected packages: XlsxWriter, python-pptx\n",
            "Successfully installed XlsxWriter-3.1.9 python-pptx-0.6.23\n"
          ]
        }
      ]
    },
    {
      "cell_type": "markdown",
      "source": [
        "### 모든 레이아웃 적용해보기."
      ],
      "metadata": {
        "id": "nhyFtwHepV-O"
      }
    },
    {
      "cell_type": "code",
      "source": [
        "from pptx import Presentation # 프레젠테이션 라이브러리\n",
        "from pptx.util import Inches  # 사진, 표 등을 그리기 위해 필요한 인치값"
      ],
      "metadata": {
        "id": "HzV4YpYZoz0C"
      },
      "execution_count": 5,
      "outputs": []
    },
    {
      "cell_type": "code",
      "source": [
        "pre = Presentation() # 파워포인트 객체 선언\n",
        "\n",
        "for i in range(0,11):\n",
        "  title_slide_layout = pre.slide_layouts[i] # 슬라이드 종류 선택\n",
        "  slide = pre.slides.add_slide(title_slide_layout)\n",
        "\n",
        "pre.save('add all slides.pptx')"
      ],
      "metadata": {
        "id": "3Q-XM-sWpb3m"
      },
      "execution_count": 7,
      "outputs": []
    },
    {
      "cell_type": "markdown",
      "source": [
        "### 레이아웃별 Placeholder 속성 확인하기\n",
        " - Placeholder : 공간을 확보하고 나중에 값을 넣음."
      ],
      "metadata": {
        "id": "ulsJrghJrKRu"
      }
    },
    {
      "cell_type": "code",
      "source": [
        "prs = Presentation()\n",
        "for i in range(0,11):\n",
        "  print('-----[%d]-----'% (i))\n",
        "  slide = prs.slides.add_slide(prs.slide_layouts[i])\n",
        "  for shape in slide.placeholders:\n",
        "    print('{} {}'.format(shape.placeholder_format.idx, shape.name))"
      ],
      "metadata": {
        "colab": {
          "base_uri": "https://localhost:8080/"
        },
        "id": "wgUMpM4trOJL",
        "outputId": "df7cc14e-d17f-4e63-e5d7-5a0a14c51d69"
      },
      "execution_count": 9,
      "outputs": [
        {
          "output_type": "stream",
          "name": "stdout",
          "text": [
            "-----[0]-----\n",
            "0 Title 1\n",
            "1 Subtitle 2\n",
            "-----[1]-----\n",
            "0 Title 1\n",
            "1 Content Placeholder 2\n",
            "-----[2]-----\n",
            "0 Title 1\n",
            "1 Text Placeholder 2\n",
            "-----[3]-----\n",
            "0 Title 1\n",
            "1 Content Placeholder 2\n",
            "2 Content Placeholder 3\n",
            "-----[4]-----\n",
            "0 Title 1\n",
            "1 Text Placeholder 2\n",
            "2 Content Placeholder 3\n",
            "3 Text Placeholder 4\n",
            "4 Content Placeholder 5\n",
            "-----[5]-----\n",
            "0 Title 1\n",
            "-----[6]-----\n",
            "-----[7]-----\n",
            "0 Title 1\n",
            "1 Content Placeholder 2\n",
            "2 Text Placeholder 3\n",
            "-----[8]-----\n",
            "0 Title 1\n",
            "1 Picture Placeholder 2\n",
            "2 Text Placeholder 3\n",
            "-----[9]-----\n",
            "0 Title 1\n",
            "1 Vertical Text Placeholder 2\n",
            "-----[10]-----\n",
            "0 Vertical Title 1\n",
            "1 Vertical Text Placeholder 2\n"
          ]
        }
      ]
    },
    {
      "cell_type": "markdown",
      "source": [
        "### 제목 슬라이드"
      ],
      "metadata": {
        "id": "bc33IivMsbLt"
      }
    },
    {
      "cell_type": "code",
      "source": [
        "# 파워포인트 객체 선언\n",
        "prs = Presentation()"
      ],
      "metadata": {
        "id": "OWI_s8IcscFe"
      },
      "execution_count": 18,
      "outputs": []
    },
    {
      "cell_type": "code",
      "source": [
        "title_slide_layout = prs.slide_layouts[0]        # 제목 슬라이드\n",
        "slide = prs.slides.add_slide(title_slide_layout) # 슬라이드 추가\n",
        "\n",
        "title = slide.placeholders[0] # 제목에 접근\n",
        "title.text = 'Hello, World!'  # 제목에 값 추가\n",
        "\n",
        "subtitle = slide.placeholders[1] # 부제목에 접근\n",
        "subtitle.text = 'python-pptx'    # 부제목에 값 추가\n",
        "\n",
        "prs.save('test.pptx')"
      ],
      "metadata": {
        "id": "Y6Bqnj6bsvtI"
      },
      "execution_count": 19,
      "outputs": []
    },
    {
      "cell_type": "markdown",
      "source": [
        "### 제목과 내용 슬라이드"
      ],
      "metadata": {
        "id": "aAYAV5OAuQP9"
      }
    },
    {
      "cell_type": "code",
      "source": [
        "bullet_slide_layout = prs.slide_layouts[1]        # 제목과 내용 슬라이드\n",
        "slide = prs.slides.add_slide(bullet_slide_layout) # 기존에 있던 슬라이드 추가\n",
        "\n",
        "# 제목\n",
        "title_shape = slide.placeholders[0]\n",
        "title_shape.text = 'Adding a Bullet Slide'\n",
        "\n",
        "# 내용\n",
        "body_shape = slide.placeholders[1]\n",
        "tf = body_shape.text_frame\n",
        "tf.text = 'Find the bullet slide layout'\n",
        "\n",
        "# 단락 추가하기.\n",
        "p = tf.add_paragraph()\n",
        "p.text = 'Use _TextFrame.text for frist bullet'\n",
        "p.level = 1 # 들여쓰기 레벨\n",
        "\n",
        "# 단락 추가하기.\n",
        "p = tf.add_paragraph()\n",
        "p.text = 'Use _TextFrame.tf.add_paragraph() for subsequent bullet'\n",
        "p.level = 2 # 들여쓰기 레벨\n",
        "\n",
        "prs.save('test.pptx')"
      ],
      "metadata": {
        "id": "Jg1_O1meuTG-"
      },
      "execution_count": 20,
      "outputs": []
    },
    {
      "cell_type": "markdown",
      "source": [
        "### 사진 슬라이드 layouts[6]"
      ],
      "metadata": {
        "id": "nYZFedSowKhM"
      }
    },
    {
      "cell_type": "code",
      "source": [
        "img_path = './res/powerpoint_handling/Moscow.jpg'\n",
        "\n",
        "blank_slide_layout = prs.slide_layouts[6] # 제목/내용이 없는 빈 슬라이드\n",
        "slide = prs.slides.add_slide(blank_slide_layout)\n",
        "\n",
        "# 왼쪽 위 1인치\n",
        "left = top = Inches(1)\n",
        "\n",
        "# 가로,세로 1인치\n",
        "width = height = Inches(1)\n",
        "\n",
        "# 사진 지정하기.\n",
        "# 지정하지 않을 경우 원본 사이즈로 출력됨.\n",
        "pic = slide.shapes.add_picture(img_path, left, top, width = width, height = height)\n",
        "\n",
        "\n",
        "left = Inches(3)\n",
        "width = Inches(5.5)\n",
        "height = Inches(4)\n",
        "pic = slide.shapes.add_picture(img_path, left, top, width = width, height = height)\n",
        "\n",
        "prs.save('test.pptx')"
      ],
      "metadata": {
        "id": "lWWktCs-wSjn"
      },
      "execution_count": 21,
      "outputs": []
    },
    {
      "cell_type": "markdown",
      "source": [
        "### 표만들기 layouts[5]"
      ],
      "metadata": {
        "id": "uNxzgRXt2Ejj"
      }
    },
    {
      "cell_type": "code",
      "source": [
        "title_only_slide_layout = prs.slide_layouts[5]\n",
        "slide = prs.slides.add_slide(title_only_slide_layout)\n",
        "\n",
        "shapes = slide.shapes\n",
        "\n",
        "title_shape = slide.placeholders[0]\n",
        "title_shape.text = 'Adding a Table'\n",
        "\n",
        "# 행과 열 2개씩 주기.\n",
        "rows = cols = 2\n",
        "\n",
        "# 위치와 크기 설정하기.\n",
        "left = top = Inches(2.0)\n",
        "width = Inches(6.0)\n",
        "height = Inches(0.8)\n",
        "\n",
        "table = shapes.add_table(rows, cols, left, top, width, height).table\n",
        "\n",
        "# set columns widths\n",
        "table.columns[0].width = Inches(2.0)\n",
        "table.columns[1].width = Inches(4.0)\n",
        "\n",
        "table.cell(0, 0).text = 'Foo'\n",
        "table.cell(0, 1).text = 'Bar'\n",
        "table.cell(1, 0).text = 'Baz'\n",
        "table.cell(1, 1).text = 'Qux'\n",
        "\n",
        "prs.save('test.pptx')"
      ],
      "metadata": {
        "id": "Nxv0HnmZ2Fi9"
      },
      "execution_count": 22,
      "outputs": []
    }
  ]
}