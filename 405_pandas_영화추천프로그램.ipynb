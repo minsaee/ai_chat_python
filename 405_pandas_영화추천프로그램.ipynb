{
  "nbformat": 4,
  "nbformat_minor": 0,
  "metadata": {
    "colab": {
      "provenance": [],
      "authorship_tag": "ABX9TyNiY6J1OIJzqNETvD2GeaUI",
      "include_colab_link": true
    },
    "kernelspec": {
      "name": "python3",
      "display_name": "Python 3"
    },
    "language_info": {
      "name": "python"
    }
  },
  "cells": [
    {
      "cell_type": "markdown",
      "metadata": {
        "id": "view-in-github",
        "colab_type": "text"
      },
      "source": [
        "<a href=\"https://colab.research.google.com/github/minsaee/ai_chat_python/blob/master/405_pandas_%EC%98%81%ED%99%94%EC%B6%94%EC%B2%9C%ED%94%84%EB%A1%9C%EA%B7%B8%EB%9E%A8.ipynb\" target=\"_parent\"><img src=\"https://colab.research.google.com/assets/colab-badge.svg\" alt=\"Open In Colab\"/></a>"
      ]
    },
    {
      "cell_type": "code",
      "source": [
        "# 구글 드라이브 연동\n",
        "from google.colab import drive\n",
        "drive.mount('/content/drive')\n",
        "\n",
        "%cd /content/drive/MyDrive/ai_chat_python"
      ],
      "metadata": {
        "colab": {
          "base_uri": "https://localhost:8080/"
        },
        "id": "q9sQGqfp033M",
        "outputId": "feb1421d-d611-4be1-b572-d2fd589e5529"
      },
      "execution_count": 1,
      "outputs": [
        {
          "output_type": "stream",
          "name": "stdout",
          "text": [
            "Drive already mounted at /content/drive; to attempt to forcibly remount, call drive.mount(\"/content/drive\", force_remount=True).\n",
            "/content/drive/MyDrive/ai_chat_python\n"
          ]
        }
      ]
    },
    {
      "cell_type": "code",
      "execution_count": 7,
      "metadata": {
        "colab": {
          "base_uri": "https://localhost:8080/"
        },
        "id": "Gevc_Oto0zYf",
        "outputId": "cacb0a4b-bdee-400a-bbe1-647a1f42a5e1"
      },
      "outputs": [
        {
          "output_type": "stream",
          "name": "stdout",
          "text": [
            "Overwriting movie_system.py\n"
          ]
        }
      ],
      "source": [
        "%%writefile movie_system.py\n",
        "\n",
        "import numpy as np\n",
        "import pandas as pd\n",
        "import matplotlib as mp\n",
        "import matplotlib.pyplot as plt\n",
        "import seaborn as sns\n",
        "import missingno as msno\n",
        "\n",
        "# 파일로딩\n",
        "def data_load():\n",
        "  movies = pd.read_csv('./source/m1/movies.dat', delimiter = '::',header =None, engine ='python', encoding='ISO-8859-1',\n",
        "                       names=['MovieID','Title','Genres'])\n",
        "  users = pd.read_csv('./source/m1/users.dat', sep ='::' , engine ='python' ,header = None,\n",
        "                      names=['UserID','Gender','Age','Occupation','Zip-code'])\n",
        "  ratings = pd.read_csv('./source/m1/ratings.dat', sep = '::', engine ='python' ,header = None,\n",
        "                        names=['UserID','MovieID','Rating','Timestamp'])\n",
        "  return movies, users, ratings\n",
        "\n",
        "# merge\n",
        "def data_merge(movies, users, ratings):\n",
        "  data = ratings.merge(users).merge(movies)\n",
        "  recommendation_data = data[['UserID','MovieID','Rating']]\n",
        "  return recommendation_data\n",
        "\n",
        "# pivot, corr\n",
        "def data_pivot_corr(recommendation_data):\n",
        "  recommendation_pivot = recommendation_data.pivot(index ='UserID',columns='MovieID',values='Rating')\n",
        "  recommendation_pivot.fillna(0, inplace =True)\n",
        "  return recommendation_pivot\n",
        "\n",
        "def nearest_user(small_test_corr, user_id, n):\n",
        "  return small_test_corr.loc[user_id].sort_values(ascending = False)[1: n+1]\n",
        "\n",
        "def movie_seen(user_id):\n",
        "  return recommendation_pivot.loc[user_id][recommendation_pivot.loc[user_id]>0]\n",
        "\n",
        "def recommend_movie(small_test_corr, movies, user_id, n):\n",
        "  small_test_corr = recommendation_pivot.T.iloc[:500,:500].corr() # 500개 제한\n",
        "  user_list = nearest_user(small_test_corr, user_id, n).index\n",
        "  user_mv_list = recommendation_data[(recommendation_data.UserID.isin(user_list))&(recommendation_data.Rating==5)]\n",
        "  user7_mv_list = movie_seen(user_id)\n",
        "  unseen_list = set(user_mv_list['MovieID']) - set(user7_mv_list.index)\n",
        "  return movies[movies['MovieID'].isin(unseen_list)].reset_index(drop=True)\n",
        "\n",
        "if __name__ == '__main__':\n",
        "  movies, users, ratings = data_load()\n",
        "  recommendation_data = data_merge(movies, users, ratings)\n",
        "  recommendation_pivot = data_pivot_corr(recommendation_data)\n",
        "  userid = int(input('UserID 입력:'))\n",
        "  movie_receive = recommend_movie(recommendation_pivot, movies, userid, 2)\n",
        "  print(len(movie_receive))\n",
        "  print(movie_receive)"
      ]
    },
    {
      "cell_type": "code",
      "source": [
        "!pwd"
      ],
      "metadata": {
        "colab": {
          "base_uri": "https://localhost:8080/"
        },
        "id": "21Gw0y2j07P7",
        "outputId": "b950b1b2-f3f0-4c55-f4f2-5f35dd511095"
      },
      "execution_count": 8,
      "outputs": [
        {
          "output_type": "stream",
          "name": "stdout",
          "text": [
            "/content/drive/MyDrive/ai_chat_python\n"
          ]
        }
      ]
    },
    {
      "cell_type": "code",
      "source": [
        "!python movie_system.py"
      ],
      "metadata": {
        "colab": {
          "base_uri": "https://localhost:8080/"
        },
        "id": "C4Ko1-sR_GHQ",
        "outputId": "e57a1645-5902-4a54-be50-b13e96be471a"
      },
      "execution_count": 10,
      "outputs": [
        {
          "output_type": "stream",
          "name": "stdout",
          "text": [
            "UserID 입력:4\n",
            "15\n",
            "    MovieID                                      Title                           Genres\n",
            "0       733                           Rock, The (1996)        Action|Adventure|Thriller\n",
            "1      1079                Fish Called Wanda, A (1988)                           Comedy\n",
            "2      1136     Monty Python and the Holy Grail (1974)                           Comedy\n",
            "3      1197                 Princess Bride, The (1987)  Action|Adventure|Comedy|Romance\n",
            "4      1259                         Stand by Me (1986)           Adventure|Comedy|Drama\n",
            "5      1266                          Unforgiven (1992)                          Western\n",
            "6      1286                   Somewhere in Time (1980)                    Drama|Romance\n",
            "7      1304  Butch Cassidy and the Sundance Kid (1969)            Action|Comedy|Western\n",
            "8      1378                          Young Guns (1988)            Action|Comedy|Western\n",
            "9      1615                           Edge, The (1997)               Adventure|Thriller\n",
            "10     2167                               Blade (1998)          Action|Adventure|Horror\n",
            "11     2355                       Bug's Life, A (1998)      Animation|Children's|Comedy\n",
            "12     3552                          Caddyshack (1980)                           Comedy\n",
            "13     3671                     Blazing Saddles (1974)                   Comedy|Western\n",
            "14     3916                 Remember the Titans (2000)                            Drama\n"
          ]
        }
      ]
    }
  ]
}