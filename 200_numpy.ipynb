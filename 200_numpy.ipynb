{
  "nbformat": 4,
  "nbformat_minor": 0,
  "metadata": {
    "colab": {
      "provenance": [],
      "authorship_tag": "ABX9TyOW6paqRhBAieE7vZHlNI6l",
      "include_colab_link": true
    },
    "kernelspec": {
      "name": "python3",
      "display_name": "Python 3"
    },
    "language_info": {
      "name": "python"
    }
  },
  "cells": [
    {
      "cell_type": "markdown",
      "metadata": {
        "id": "view-in-github",
        "colab_type": "text"
      },
      "source": [
        "<a href=\"https://colab.research.google.com/github/minsaee/ai_chat_python/blob/master/200_numpy.ipynb\" target=\"_parent\"><img src=\"https://colab.research.google.com/assets/colab-badge.svg\" alt=\"Open In Colab\"/></a>"
      ]
    },
    {
      "cell_type": "markdown",
      "source": [
        "# Numpy\n",
        "- NumPy는 Numerical Python의 줄임말로, 파이썬에서 산술 계산을 위한 가장 필수 패키지중 하나이다.\n",
        "- 과학 계산을 위한 대부분의 패키지는 NumPy의 배열 객체를 데이터 교환을 위한 공통 언어처럼 사용한다.\n",
        "- 효율적인 다차원 배열인 ndarray(n dimensional array)는 빠른 배열 계산과 유연한 브로드캐스팅 기능을 제공한다.\n",
        "- 반복문을 작성할 필요 없이 전체 데이터 배열을 빠르게 계산할 수 있는 표준 수학 함수이다.\n",
        "- 배열 데이터를 디스크에 쓰거나 읽을 수 있는 도구와 메모리에 적재된 파일을 다루는 도구이다.\n",
        "- 선형대수, 난수 생성기등에 사용된다.\n",
        "- C, C++, 포트란으로 작성한 코드를 연결할 수 있는 C API가 제공된다.\n",
        "\n",
        "\n",
        "공식문서 https://numpy.org/doc/stable/  \n",
        "numpy 100 문제 https://github.com/rougier/numpy-100"
      ],
      "metadata": {
        "id": "Q1DjkuZxP1aX"
      }
    },
    {
      "cell_type": "markdown",
      "source": [
        "## 1. 데이터 생성"
      ],
      "metadata": {
        "id": "bquldDXPR7zG"
      }
    },
    {
      "cell_type": "code",
      "source": [
        "# !pip install numpy\n",
        "\n",
        "import numpy as np"
      ],
      "metadata": {
        "id": "7CdDYv4zR4Ka"
      },
      "execution_count": 252,
      "outputs": []
    },
    {
      "cell_type": "markdown",
      "source": [
        "np.zeros()"
      ],
      "metadata": {
        "id": "7ogeBf8ATxUO"
      }
    },
    {
      "cell_type": "code",
      "source": [
        "a = np.zeros(2)  # 1차원 배열 생성 = 벡터\n",
        "a # array([0., 0.])\n",
        "print(a)\n",
        "print(dir(a))"
      ],
      "metadata": {
        "colab": {
          "base_uri": "https://localhost:8080/"
        },
        "id": "8CW-TOZ7SQ8z",
        "outputId": "b2589ca0-17d2-479a-d0d1-2229a4e334af"
      },
      "execution_count": null,
      "outputs": [
        {
          "output_type": "stream",
          "name": "stdout",
          "text": [
            "[0. 0.]\n",
            "['T', '__abs__', '__add__', '__and__', '__array__', '__array_finalize__', '__array_function__', '__array_interface__', '__array_prepare__', '__array_priority__', '__array_struct__', '__array_ufunc__', '__array_wrap__', '__bool__', '__class__', '__class_getitem__', '__complex__', '__contains__', '__copy__', '__deepcopy__', '__delattr__', '__delitem__', '__dir__', '__divmod__', '__dlpack__', '__dlpack_device__', '__doc__', '__eq__', '__float__', '__floordiv__', '__format__', '__ge__', '__getattribute__', '__getitem__', '__gt__', '__hash__', '__iadd__', '__iand__', '__ifloordiv__', '__ilshift__', '__imatmul__', '__imod__', '__imul__', '__index__', '__init__', '__init_subclass__', '__int__', '__invert__', '__ior__', '__ipow__', '__irshift__', '__isub__', '__iter__', '__itruediv__', '__ixor__', '__le__', '__len__', '__lshift__', '__lt__', '__matmul__', '__mod__', '__mul__', '__ne__', '__neg__', '__new__', '__or__', '__pos__', '__pow__', '__radd__', '__rand__', '__rdivmod__', '__reduce__', '__reduce_ex__', '__repr__', '__rfloordiv__', '__rlshift__', '__rmatmul__', '__rmod__', '__rmul__', '__ror__', '__rpow__', '__rrshift__', '__rshift__', '__rsub__', '__rtruediv__', '__rxor__', '__setattr__', '__setitem__', '__setstate__', '__sizeof__', '__str__', '__sub__', '__subclasshook__', '__truediv__', '__xor__', 'all', 'any', 'argmax', 'argmin', 'argpartition', 'argsort', 'astype', 'base', 'byteswap', 'choose', 'clip', 'compress', 'conj', 'conjugate', 'copy', 'ctypes', 'cumprod', 'cumsum', 'data', 'diagonal', 'dot', 'dtype', 'dump', 'dumps', 'fill', 'flags', 'flat', 'flatten', 'getfield', 'imag', 'item', 'itemset', 'itemsize', 'max', 'mean', 'min', 'nbytes', 'ndim', 'newbyteorder', 'nonzero', 'partition', 'prod', 'ptp', 'put', 'ravel', 'real', 'repeat', 'reshape', 'resize', 'round', 'searchsorted', 'setfield', 'setflags', 'shape', 'size', 'sort', 'squeeze', 'std', 'strides', 'sum', 'swapaxes', 'take', 'tobytes', 'tofile', 'tolist', 'tostring', 'trace', 'transpose', 'var', 'view']\n"
          ]
        }
      ]
    },
    {
      "cell_type": "code",
      "source": [
        "print(a.__repr__)\n",
        "print(a.__str__)\n",
        "print(type(a))\n",
        "print(a.shape)"
      ],
      "metadata": {
        "colab": {
          "base_uri": "https://localhost:8080/"
        },
        "id": "KXWREZU-Sh4f",
        "outputId": "a4478d15-3146-46c4-aef2-cea3bb2f2e7e"
      },
      "execution_count": null,
      "outputs": [
        {
          "output_type": "stream",
          "name": "stdout",
          "text": [
            "<method-wrapper '__repr__' of numpy.ndarray object at 0x7ff9841181b0>\n",
            "<method-wrapper '__str__' of numpy.ndarray object at 0x7ff9841181b0>\n",
            "<class 'numpy.ndarray'>\n",
            "(2,)\n"
          ]
        }
      ]
    },
    {
      "cell_type": "markdown",
      "source": [
        "np.array()"
      ],
      "metadata": {
        "id": "uqtS9e8nT4y4"
      }
    },
    {
      "cell_type": "code",
      "source": [
        "a = np.array([1, 2]) # 벡터 생성\n",
        "a # array([1, 2])\n",
        "print(a)"
      ],
      "metadata": {
        "colab": {
          "base_uri": "https://localhost:8080/"
        },
        "id": "OO1wSXz9T6zI",
        "outputId": "be9e7016-b1ae-4e01-dede-c754ae84e512"
      },
      "execution_count": null,
      "outputs": [
        {
          "output_type": "stream",
          "name": "stdout",
          "text": [
            "[1 2]\n"
          ]
        }
      ]
    },
    {
      "cell_type": "code",
      "source": [
        "# 2차원 배열 = 행렬\n",
        "\n",
        "b = np.array([[1, 2],[3, 4]]) # 2행 2열\n",
        "b # array([[1, 2],\n",
        "  #       [3, 4]])\n",
        "print(b)\n",
        "print(dir(b))"
      ],
      "metadata": {
        "colab": {
          "base_uri": "https://localhost:8080/"
        },
        "id": "bsJr_akHUSZ1",
        "outputId": "72707d7a-cbd6-400c-f940-2da188767bc5"
      },
      "execution_count": null,
      "outputs": [
        {
          "output_type": "stream",
          "name": "stdout",
          "text": [
            "[[1 2]\n",
            " [3 4]]\n",
            "['T', '__abs__', '__add__', '__and__', '__array__', '__array_finalize__', '__array_function__', '__array_interface__', '__array_prepare__', '__array_priority__', '__array_struct__', '__array_ufunc__', '__array_wrap__', '__bool__', '__class__', '__class_getitem__', '__complex__', '__contains__', '__copy__', '__deepcopy__', '__delattr__', '__delitem__', '__dir__', '__divmod__', '__dlpack__', '__dlpack_device__', '__doc__', '__eq__', '__float__', '__floordiv__', '__format__', '__ge__', '__getattribute__', '__getitem__', '__gt__', '__hash__', '__iadd__', '__iand__', '__ifloordiv__', '__ilshift__', '__imatmul__', '__imod__', '__imul__', '__index__', '__init__', '__init_subclass__', '__int__', '__invert__', '__ior__', '__ipow__', '__irshift__', '__isub__', '__iter__', '__itruediv__', '__ixor__', '__le__', '__len__', '__lshift__', '__lt__', '__matmul__', '__mod__', '__mul__', '__ne__', '__neg__', '__new__', '__or__', '__pos__', '__pow__', '__radd__', '__rand__', '__rdivmod__', '__reduce__', '__reduce_ex__', '__repr__', '__rfloordiv__', '__rlshift__', '__rmatmul__', '__rmod__', '__rmul__', '__ror__', '__rpow__', '__rrshift__', '__rshift__', '__rsub__', '__rtruediv__', '__rxor__', '__setattr__', '__setitem__', '__setstate__', '__sizeof__', '__str__', '__sub__', '__subclasshook__', '__truediv__', '__xor__', 'all', 'any', 'argmax', 'argmin', 'argpartition', 'argsort', 'astype', 'base', 'byteswap', 'choose', 'clip', 'compress', 'conj', 'conjugate', 'copy', 'ctypes', 'cumprod', 'cumsum', 'data', 'diagonal', 'dot', 'dtype', 'dump', 'dumps', 'fill', 'flags', 'flat', 'flatten', 'getfield', 'imag', 'item', 'itemset', 'itemsize', 'max', 'mean', 'min', 'nbytes', 'ndim', 'newbyteorder', 'nonzero', 'partition', 'prod', 'ptp', 'put', 'ravel', 'real', 'repeat', 'reshape', 'resize', 'round', 'searchsorted', 'setfield', 'setflags', 'shape', 'size', 'sort', 'squeeze', 'std', 'strides', 'sum', 'swapaxes', 'take', 'tobytes', 'tofile', 'tolist', 'tostring', 'trace', 'transpose', 'var', 'view']\n"
          ]
        }
      ]
    },
    {
      "cell_type": "code",
      "source": [
        "print(a.__repr__)\n",
        "print(a.__str__)\n",
        "print(type(b))\n",
        "print(b.shape)"
      ],
      "metadata": {
        "colab": {
          "base_uri": "https://localhost:8080/"
        },
        "id": "MjjQBxiyUywQ",
        "outputId": "6c5e274d-7a8b-4d6e-a840-173a4836420f"
      },
      "execution_count": null,
      "outputs": [
        {
          "output_type": "stream",
          "name": "stdout",
          "text": [
            "<method-wrapper '__repr__' of numpy.ndarray object at 0x7ff999f6a310>\n",
            "<method-wrapper '__str__' of numpy.ndarray object at 0x7ff999f6a310>\n",
            "<class 'numpy.ndarray'>\n",
            "(2, 2)\n"
          ]
        }
      ]
    },
    {
      "cell_type": "code",
      "source": [
        "# 3차원 배열 이상 = 텐서(tensor)\n",
        "\n",
        "c = np.array([[[1, 2],[3, 4]],[[5, 6],[7, 8]]]) # 2층(면, 공간), 2행, 2열\n",
        "c # array([[[1, 2],\n",
        "  #         [3, 4]],\n",
        "  #       -  공 간  -\n",
        "  #        [[5, 6],\n",
        "  #         [7, 8]]])\n",
        "\n",
        "print(c)\n",
        "print(dir(c))"
      ],
      "metadata": {
        "colab": {
          "base_uri": "https://localhost:8080/"
        },
        "id": "eBaFnUTNVFfv",
        "outputId": "32fb40f8-c75d-4223-d39f-94ddc271b597"
      },
      "execution_count": null,
      "outputs": [
        {
          "output_type": "stream",
          "name": "stdout",
          "text": [
            "[[[1 2]\n",
            "  [3 4]]\n",
            "\n",
            " [[5 6]\n",
            "  [7 8]]]\n",
            "['T', '__abs__', '__add__', '__and__', '__array__', '__array_finalize__', '__array_function__', '__array_interface__', '__array_prepare__', '__array_priority__', '__array_struct__', '__array_ufunc__', '__array_wrap__', '__bool__', '__class__', '__class_getitem__', '__complex__', '__contains__', '__copy__', '__deepcopy__', '__delattr__', '__delitem__', '__dir__', '__divmod__', '__dlpack__', '__dlpack_device__', '__doc__', '__eq__', '__float__', '__floordiv__', '__format__', '__ge__', '__getattribute__', '__getitem__', '__gt__', '__hash__', '__iadd__', '__iand__', '__ifloordiv__', '__ilshift__', '__imatmul__', '__imod__', '__imul__', '__index__', '__init__', '__init_subclass__', '__int__', '__invert__', '__ior__', '__ipow__', '__irshift__', '__isub__', '__iter__', '__itruediv__', '__ixor__', '__le__', '__len__', '__lshift__', '__lt__', '__matmul__', '__mod__', '__mul__', '__ne__', '__neg__', '__new__', '__or__', '__pos__', '__pow__', '__radd__', '__rand__', '__rdivmod__', '__reduce__', '__reduce_ex__', '__repr__', '__rfloordiv__', '__rlshift__', '__rmatmul__', '__rmod__', '__rmul__', '__ror__', '__rpow__', '__rrshift__', '__rshift__', '__rsub__', '__rtruediv__', '__rxor__', '__setattr__', '__setitem__', '__setstate__', '__sizeof__', '__str__', '__sub__', '__subclasshook__', '__truediv__', '__xor__', 'all', 'any', 'argmax', 'argmin', 'argpartition', 'argsort', 'astype', 'base', 'byteswap', 'choose', 'clip', 'compress', 'conj', 'conjugate', 'copy', 'ctypes', 'cumprod', 'cumsum', 'data', 'diagonal', 'dot', 'dtype', 'dump', 'dumps', 'fill', 'flags', 'flat', 'flatten', 'getfield', 'imag', 'item', 'itemset', 'itemsize', 'max', 'mean', 'min', 'nbytes', 'ndim', 'newbyteorder', 'nonzero', 'partition', 'prod', 'ptp', 'put', 'ravel', 'real', 'repeat', 'reshape', 'resize', 'round', 'searchsorted', 'setfield', 'setflags', 'shape', 'size', 'sort', 'squeeze', 'std', 'strides', 'sum', 'swapaxes', 'take', 'tobytes', 'tofile', 'tolist', 'tostring', 'trace', 'transpose', 'var', 'view']\n"
          ]
        }
      ]
    },
    {
      "cell_type": "code",
      "source": [
        "print(c.__repr__)\n",
        "print(c.__str__)\n",
        "print(type(c))\n",
        "print(c.shape)"
      ],
      "metadata": {
        "colab": {
          "base_uri": "https://localhost:8080/"
        },
        "id": "YuuguE64WOCd",
        "outputId": "28dca829-5a7a-44fb-e54a-ca4497fc033d"
      },
      "execution_count": null,
      "outputs": [
        {
          "output_type": "stream",
          "name": "stdout",
          "text": [
            "<method-wrapper '__repr__' of numpy.ndarray object at 0x7ff98424b270>\n",
            "<method-wrapper '__str__' of numpy.ndarray object at 0x7ff98424b270>\n",
            "<class 'numpy.ndarray'>\n",
            "(2, 2, 2)\n"
          ]
        }
      ]
    },
    {
      "cell_type": "code",
      "source": [
        "a = np.array([1, 2, 3])\n",
        "print(a)\n",
        "print(a[0]) # 특정 index 가져오기.\n",
        "print(a[0:2]) # 슬라이싱 가져오기."
      ],
      "metadata": {
        "colab": {
          "base_uri": "https://localhost:8080/"
        },
        "id": "-o2jFx7ZWhdG",
        "outputId": "cdff2975-dd71-4393-ea11-a8a3138d8c0e"
      },
      "execution_count": null,
      "outputs": [
        {
          "output_type": "stream",
          "name": "stdout",
          "text": [
            "[1 2 3]\n",
            "1\n",
            "[1 2]\n"
          ]
        }
      ]
    },
    {
      "cell_type": "markdown",
      "source": [
        "균질성 (Homogeneity)\n",
        " - 물리학에서 균질성은 어떤 물질 또는 시스템의 모든 지점에서 불규칙성이 없이 일정한 속성을 가지는 성질을 말한다."
      ],
      "metadata": {
        "id": "g0imgZINXVIk"
      }
    },
    {
      "cell_type": "code",
      "source": [
        "# str 값이 하나라도 있으면 전체가 str로 변한다.\n",
        "# array는 같은 type만 사용이 가능하다.\n",
        "# 배열은 계산을 목적으로 하기에 일반적으로 str은 사용하지 않는다.\n",
        "# numpy는 homogeneous\n",
        "\n",
        "a = np.array([1, '2', 3])\n",
        "print(a)\n",
        "print(a[0])"
      ],
      "metadata": {
        "colab": {
          "base_uri": "https://localhost:8080/"
        },
        "id": "LuRC4cRPWwzX",
        "outputId": "183fdf73-3230-49ed-ebb6-3dbd609b9b96"
      },
      "execution_count": null,
      "outputs": [
        {
          "output_type": "stream",
          "name": "stdout",
          "text": [
            "['1' '2' '3']\n",
            "1\n"
          ]
        }
      ]
    },
    {
      "cell_type": "code",
      "source": [
        "a = np.array(['a', 1, True])\n",
        "print(a)\n",
        "print(a[1])"
      ],
      "metadata": {
        "colab": {
          "base_uri": "https://localhost:8080/"
        },
        "id": "_w6MoUgZXgUX",
        "outputId": "55c34937-f751-4232-d767-eec3c02503be"
      },
      "execution_count": null,
      "outputs": [
        {
          "output_type": "stream",
          "name": "stdout",
          "text": [
            "['a' '1' 'True']\n",
            "1\n"
          ]
        }
      ]
    },
    {
      "cell_type": "code",
      "source": [
        "# 논리값\n",
        "# False = 0 , True = 1\n",
        "\n",
        "a = np.array([0, False, 1, True])\n",
        "print(a)\n",
        "print(a[3])"
      ],
      "metadata": {
        "colab": {
          "base_uri": "https://localhost:8080/"
        },
        "id": "X4shf4itXEGl",
        "outputId": "138165be-57a9-4906-ff57-9e89a7c5fc2c"
      },
      "execution_count": null,
      "outputs": [
        {
          "output_type": "stream",
          "name": "stdout",
          "text": [
            "[0 0 1 1]\n",
            "1\n"
          ]
        }
      ]
    },
    {
      "cell_type": "markdown",
      "source": [
        "np. zeros\n",
        " - tuple로 인자를 넣으면 그대로 모양을 만든다.\n",
        " - (2,3) : 2행 3열의 행렬을 만든다.\n",
        " - zeros는 기본값으로 0.으로 값을 모두 채운다.\n",
        "  - np.zeros((2, 3))\n",
        "  - np.zeros([2, 3])"
      ],
      "metadata": {
        "id": "cyR2ZnVdYJNg"
      }
    },
    {
      "cell_type": "code",
      "source": [
        "a = np.zeros((2,3))\n",
        "a # array([[0., 0., 0.],\n",
        "  #       [0., 0., 0.]])\n",
        "\n",
        "print(a)\n",
        "print(a.shape)\n",
        "print(type(a))\n",
        "\n",
        "# np.zeros([2,3])의 결괏값도 동일하다."
      ],
      "metadata": {
        "colab": {
          "base_uri": "https://localhost:8080/"
        },
        "id": "UjplogKfYj01",
        "outputId": "348a8120-7327-49d6-a15c-800e062ef34e"
      },
      "execution_count": null,
      "outputs": [
        {
          "output_type": "stream",
          "name": "stdout",
          "text": [
            "[[0. 0. 0.]\n",
            " [0. 0. 0.]]\n",
            "(2, 3)\n",
            "<class 'numpy.ndarray'>\n"
          ]
        }
      ]
    },
    {
      "cell_type": "markdown",
      "source": [
        "### np.eye\n",
        " - eye는 단위행렬\n",
        " - 숫자만 사용할 수 있다."
      ],
      "metadata": {
        "id": "tgLlulB3q0gf"
      }
    },
    {
      "cell_type": "code",
      "source": [
        "# eye는 행과 열의 크기를 지정할 수 있다.\n",
        "\n",
        "a = np.eye(3)\n",
        "a # array([[1., 0., 0.],\n",
        "  #        [0., 1., 0.],\n",
        "  #        [0., 0., 1.]])\n",
        "print(a)\n",
        "print(a.shape)"
      ],
      "metadata": {
        "colab": {
          "base_uri": "https://localhost:8080/"
        },
        "id": "hdAXbSoBq33C",
        "outputId": "e9b9f80a-ae75-45c6-bdad-37db3d3d8a56"
      },
      "execution_count": null,
      "outputs": [
        {
          "output_type": "stream",
          "name": "stdout",
          "text": [
            "[[1. 0. 0.]\n",
            " [0. 1. 0.]\n",
            " [0. 0. 1.]]\n",
            "(3, 3)\n"
          ]
        }
      ]
    },
    {
      "cell_type": "code",
      "source": [
        "a = np.eye(3,2) # 3행 2열의 행렬 생성\n",
        "a"
      ],
      "metadata": {
        "colab": {
          "base_uri": "https://localhost:8080/"
        },
        "id": "LSRwiBfNrczQ",
        "outputId": "320ae183-0f3a-45e9-ae47-c33ec4031fd2"
      },
      "execution_count": null,
      "outputs": [
        {
          "output_type": "execute_result",
          "data": {
            "text/plain": [
              "array([[1., 0.],\n",
              "       [0., 1.],\n",
              "       [0., 0.]])"
            ]
          },
          "metadata": {},
          "execution_count": 56
        }
      ]
    },
    {
      "cell_type": "code",
      "source": [
        "# k에 index를 지정하면 1이 시작되는 위치를 지정할 수 있다.\n",
        "\n",
        "a = np.eye(3,4, k=1)\n",
        "a"
      ],
      "metadata": {
        "colab": {
          "base_uri": "https://localhost:8080/"
        },
        "id": "yAfbzQf7r4W_",
        "outputId": "16191862-076d-4318-d976-6e5c1c664c5a"
      },
      "execution_count": null,
      "outputs": [
        {
          "output_type": "execute_result",
          "data": {
            "text/plain": [
              "array([[0., 1., 0., 0.],\n",
              "       [0., 0., 1., 0.],\n",
              "       [0., 0., 0., 1.]])"
            ]
          },
          "metadata": {},
          "execution_count": 63
        }
      ]
    },
    {
      "cell_type": "markdown",
      "source": [
        "### np.identity\n",
        " - 단위행렬(identity matrix)\n",
        " - 크기 한 개만 지정해서 생성할 수 있다."
      ],
      "metadata": {
        "id": "2IXMgFGzsjcq"
      }
    },
    {
      "cell_type": "code",
      "source": [
        "a = np.identity(3)\n",
        "a"
      ],
      "metadata": {
        "colab": {
          "base_uri": "https://localhost:8080/"
        },
        "id": "q1WZc2DVstNi",
        "outputId": "1d6c8eb7-3f90-4488-f2e2-0832286c721a"
      },
      "execution_count": null,
      "outputs": [
        {
          "output_type": "execute_result",
          "data": {
            "text/plain": [
              "array([[1., 0., 0.],\n",
              "       [0., 1., 0.],\n",
              "       [0., 0., 1.]])"
            ]
          },
          "metadata": {},
          "execution_count": 66
        }
      ]
    },
    {
      "cell_type": "markdown",
      "source": [
        "### np.full\n",
        " - 지정한 크기의 배열을 생성하고 채울 값을 지정한다."
      ],
      "metadata": {
        "id": "L1-DBVPAtFzz"
      }
    },
    {
      "cell_type": "code",
      "source": [
        "# np.full(shape, fill_value)\n",
        "\n",
        "a = np.full((3,3), 1) # 2행 2열의 행렬을 생성하고 1로 초기화 한다.\n",
        "a"
      ],
      "metadata": {
        "colab": {
          "base_uri": "https://localhost:8080/"
        },
        "id": "BWQ6XPJTtOhv",
        "outputId": "6714ce13-df15-4c7c-8979-012f797b10ee"
      },
      "execution_count": null,
      "outputs": [
        {
          "output_type": "execute_result",
          "data": {
            "text/plain": [
              "array([[1, 1, 1],\n",
              "       [1, 1, 1],\n",
              "       [1, 1, 1]])"
            ]
          },
          "metadata": {},
          "execution_count": 72
        }
      ]
    },
    {
      "cell_type": "code",
      "source": [
        "a = np.full((2,2), [1,2]) # 2행 2열의 행렬을 생성하고 각 행마다 1, 2로 초기화 한다.\n",
        "a"
      ],
      "metadata": {
        "colab": {
          "base_uri": "https://localhost:8080/"
        },
        "id": "iNwxJ-NUtoar",
        "outputId": "0f18640c-b343-4a38-92f9-bdec22ffd7bd"
      },
      "execution_count": null,
      "outputs": [
        {
          "output_type": "execute_result",
          "data": {
            "text/plain": [
              "array([[1, 2],\n",
              "       [1, 2]])"
            ]
          },
          "metadata": {},
          "execution_count": 75
        }
      ]
    },
    {
      "cell_type": "code",
      "source": [
        "a = np.full((2,2), [[1,2],[3,4]]) # 2행 2열의 행렬을 생성하고 각 셀마다 1, 2, 3, 4로 초기화 한다.\n",
        "a"
      ],
      "metadata": {
        "colab": {
          "base_uri": "https://localhost:8080/"
        },
        "id": "iSsan921tvnC",
        "outputId": "8a67a9d6-b771-45ad-b3fa-0b67dbb2925e"
      },
      "execution_count": null,
      "outputs": [
        {
          "output_type": "execute_result",
          "data": {
            "text/plain": [
              "array([[1, 2],\n",
              "       [3, 4]])"
            ]
          },
          "metadata": {},
          "execution_count": 76
        }
      ]
    },
    {
      "cell_type": "markdown",
      "source": [
        "### np.empty\n",
        " - 배열을 생성하고 초기화를 지정하지 않는다.\n",
        " - 메모리에 있는 값이나 이전에 사용했던 값들로 채워진다."
      ],
      "metadata": {
        "id": "21S9r8iBuLKI"
      }
    },
    {
      "cell_type": "code",
      "source": [
        "a = np.empty(3)\n",
        "a # array([0. , 0.5, 1. ])"
      ],
      "metadata": {
        "colab": {
          "base_uri": "https://localhost:8080/"
        },
        "id": "EWdWGtzxuSNl",
        "outputId": "46dda6be-ad11-454f-ec4d-ed10b0cb0eee"
      },
      "execution_count": null,
      "outputs": [
        {
          "output_type": "execute_result",
          "data": {
            "text/plain": [
              "array([0. , 0.5, 1. ])"
            ]
          },
          "metadata": {},
          "execution_count": 10
        }
      ]
    },
    {
      "cell_type": "code",
      "source": [
        "a = np.empty((2,3)) # 2행 3열의 배열 생성\n",
        "a # array([[4.71016714e-310, 6.79542510e-310, 6.79542512e-310],\n",
        "  #        [6.79542512e-310, 6.79544394e-310, 3.16202013e-322]])"
      ],
      "metadata": {
        "colab": {
          "base_uri": "https://localhost:8080/"
        },
        "id": "NNoWLg7FvP4t",
        "outputId": "16288f5c-d549-44a7-d93b-7b063bbed1c9"
      },
      "execution_count": null,
      "outputs": [
        {
          "output_type": "execute_result",
          "data": {
            "text/plain": [
              "array([[4.71016714e-310, 6.79542510e-310, 6.79542512e-310],\n",
              "       [6.79542512e-310, 6.79544394e-310, 3.16202013e-322]])"
            ]
          },
          "metadata": {},
          "execution_count": 12
        }
      ]
    },
    {
      "cell_type": "markdown",
      "source": [
        "### np.ones\n",
        " - 배열의 모든 값을 1로 채운다."
      ],
      "metadata": {
        "id": "hGQUMVf5vys5"
      }
    },
    {
      "cell_type": "code",
      "source": [
        "a = np.ones((2,2))\n",
        "a"
      ],
      "metadata": {
        "colab": {
          "base_uri": "https://localhost:8080/"
        },
        "id": "Yb5dynZ7vstu",
        "outputId": "30838a48-47f6-41c7-bc34-48858df0b109"
      },
      "execution_count": null,
      "outputs": [
        {
          "output_type": "execute_result",
          "data": {
            "text/plain": [
              "array([[1., 1.],\n",
              "       [1., 1.]])"
            ]
          },
          "metadata": {},
          "execution_count": 14
        }
      ]
    },
    {
      "cell_type": "markdown",
      "source": [
        "### _like\n",
        " - _like가 붙으면 shape가 같게 만들어진다.\n",
        " - 연산하기 위해서 shape을 맞춰야 하는 경우가 있다.\n",
        " - eye_like는 제공하지 않는다."
      ],
      "metadata": {
        "id": "38hVQGXhwOeC"
      }
    },
    {
      "cell_type": "code",
      "source": [
        "a = np.array([[1,2,3],[4,5,6]]) # 2행 3열의 배열 생성\n",
        "a"
      ],
      "metadata": {
        "colab": {
          "base_uri": "https://localhost:8080/"
        },
        "id": "4KqBgyvfwYG6",
        "outputId": "8dc0dba4-4c2e-402c-e614-8e8768f7a3b5"
      },
      "execution_count": null,
      "outputs": [
        {
          "output_type": "execute_result",
          "data": {
            "text/plain": [
              "array([[1, 2, 3],\n",
              "       [4, 5, 6]])"
            ]
          },
          "metadata": {},
          "execution_count": 16
        }
      ]
    },
    {
      "cell_type": "code",
      "source": [
        "b = np.ones_like(a) # a배열(2행 3열)의 shape을 복사 -> 생성\n",
        "b"
      ],
      "metadata": {
        "colab": {
          "base_uri": "https://localhost:8080/"
        },
        "id": "u9Kp2ukOwpYN",
        "outputId": "4f449585-6884-4b58-c924-ed27ce638763"
      },
      "execution_count": null,
      "outputs": [
        {
          "output_type": "execute_result",
          "data": {
            "text/plain": [
              "array([[1, 1, 1],\n",
              "       [1, 1, 1]])"
            ]
          },
          "metadata": {},
          "execution_count": 20
        }
      ]
    },
    {
      "cell_type": "code",
      "source": [
        "# array의 shape이 같아야 계산이 가능하다.\n",
        "\n",
        "c = a + b\n",
        "c"
      ],
      "metadata": {
        "colab": {
          "base_uri": "https://localhost:8080/"
        },
        "id": "Nc_ABcUaxX0x",
        "outputId": "a80bd067-5428-43c5-ceb4-e5d6b1a61d1d"
      },
      "execution_count": null,
      "outputs": [
        {
          "output_type": "execute_result",
          "data": {
            "text/plain": [
              "array([[2, 3, 4],\n",
              "       [5, 6, 7]])"
            ]
          },
          "metadata": {},
          "execution_count": 25
        }
      ]
    },
    {
      "cell_type": "markdown",
      "source": [
        "### linspace\n",
        " - 일정한 간격으로 값을 생성한다.\n",
        " - linspace(start,end, num, endpoint = True or False)\n",
        " ---\n",
        " - num은 생략 가능하다.\n",
        " - num을 생략하면 default value는 50이다.\n",
        " ---\n",
        " - endpoint가 True이면 포함, False면 탈락\n",
        " - endpoint는 생략 가능하다.\n",
        " - endpoint를 생략하면 True로 계산한다."
      ],
      "metadata": {
        "id": "jtQZXZ0HxxCO"
      }
    },
    {
      "cell_type": "code",
      "source": [
        "# 0부터 49까지 50개가 생성된다면,세 번째 num인자 값이 생략되어 있으므로\n",
        "# start와 end 계산해서 default가 50이 생성된다.\n",
        "\n",
        "a = np.linspace(0, 49) # linspace(0, 49) # num의 default value 50\n",
        "a"
      ],
      "metadata": {
        "colab": {
          "base_uri": "https://localhost:8080/"
        },
        "id": "Owgf3utSykXi",
        "outputId": "850cc63b-c056-476b-bc25-e179a8668946"
      },
      "execution_count": null,
      "outputs": [
        {
          "output_type": "execute_result",
          "data": {
            "text/plain": [
              "array([ 0.,  1.,  2.,  3.,  4.,  5.,  6.,  7.,  8.,  9., 10., 11., 12.,\n",
              "       13., 14., 15., 16., 17., 18., 19., 20., 21., 22., 23., 24., 25.,\n",
              "       26., 27., 28., 29., 30., 31., 32., 33., 34., 35., 36., 37., 38.,\n",
              "       39., 40., 41., 42., 43., 44., 45., 46., 47., 48., 49.])"
            ]
          },
          "metadata": {},
          "execution_count": 27
        }
      ]
    },
    {
      "cell_type": "code",
      "source": [
        "a = np.linspace(0, 5)\n",
        "a # 0부터 5사이에 있는 값을 50(default value)개 생성함."
      ],
      "metadata": {
        "colab": {
          "base_uri": "https://localhost:8080/"
        },
        "id": "TSUSaBOPy5HW",
        "outputId": "e68d9a59-8ddc-4dfe-d5f4-c0017e1cb869"
      },
      "execution_count": null,
      "outputs": [
        {
          "output_type": "execute_result",
          "data": {
            "text/plain": [
              "array([0.        , 0.10204082, 0.20408163, 0.30612245, 0.40816327,\n",
              "       0.51020408, 0.6122449 , 0.71428571, 0.81632653, 0.91836735,\n",
              "       1.02040816, 1.12244898, 1.2244898 , 1.32653061, 1.42857143,\n",
              "       1.53061224, 1.63265306, 1.73469388, 1.83673469, 1.93877551,\n",
              "       2.04081633, 2.14285714, 2.24489796, 2.34693878, 2.44897959,\n",
              "       2.55102041, 2.65306122, 2.75510204, 2.85714286, 2.95918367,\n",
              "       3.06122449, 3.16326531, 3.26530612, 3.36734694, 3.46938776,\n",
              "       3.57142857, 3.67346939, 3.7755102 , 3.87755102, 3.97959184,\n",
              "       4.08163265, 4.18367347, 4.28571429, 4.3877551 , 4.48979592,\n",
              "       4.59183673, 4.69387755, 4.79591837, 4.89795918, 5.        ])"
            ]
          },
          "metadata": {},
          "execution_count": 35
        }
      ]
    },
    {
      "cell_type": "code",
      "source": [
        "a = np.linspace(0, 5, endpoint=False)\n",
        "a # endpoint 탈락"
      ],
      "metadata": {
        "colab": {
          "base_uri": "https://localhost:8080/"
        },
        "id": "gaVW1iCwzqx5",
        "outputId": "cdd0d137-c588-46a0-8d38-5d418d7a2b70"
      },
      "execution_count": null,
      "outputs": [
        {
          "output_type": "execute_result",
          "data": {
            "text/plain": [
              "array([0. , 0.1, 0.2, 0.3, 0.4, 0.5, 0.6, 0.7, 0.8, 0.9, 1. , 1.1, 1.2,\n",
              "       1.3, 1.4, 1.5, 1.6, 1.7, 1.8, 1.9, 2. , 2.1, 2.2, 2.3, 2.4, 2.5,\n",
              "       2.6, 2.7, 2.8, 2.9, 3. , 3.1, 3.2, 3.3, 3.4, 3.5, 3.6, 3.7, 3.8,\n",
              "       3.9, 4. , 4.1, 4.2, 4.3, 4.4, 4.5, 4.6, 4.7, 4.8, 4.9])"
            ]
          },
          "metadata": {},
          "execution_count": 30
        }
      ]
    },
    {
      "cell_type": "markdown",
      "source": [
        "### logspace\n",
        " - log scale을 사용한다.\n",
        " - logspace(start,end, num, endpoint = True or False)"
      ],
      "metadata": {
        "id": "6G9BqG69z7KS"
      }
    },
    {
      "cell_type": "code",
      "source": [
        "# 1부터 50까지 사이의 10개의 요소를 생성.\n",
        "\n",
        "a = np.logspace(1,50, 10)\n",
        "a"
      ],
      "metadata": {
        "colab": {
          "base_uri": "https://localhost:8080/"
        },
        "id": "Nd40kdKa0GOw",
        "outputId": "586a2935-a73e-4a0c-b9a0-5981a3c71a94"
      },
      "execution_count": null,
      "outputs": [
        {
          "output_type": "execute_result",
          "data": {
            "text/plain": [
              "array([1.00000000e+01, 2.78255940e+06, 7.74263683e+11, 2.15443469e+17,\n",
              "       5.99484250e+22, 1.66810054e+28, 4.64158883e+33, 1.29154967e+39,\n",
              "       3.59381366e+44, 1.00000000e+50])"
            ]
          },
          "metadata": {},
          "execution_count": 37
        }
      ]
    },
    {
      "cell_type": "markdown",
      "source": [
        "### arange\n",
        " - .arange(start, end, step)\n",
        " - start는 생략이 가능하다.\n",
        " - start를 생략하면 0부터 출력한다.\n",
        " - step은 생략이 가능하다.\n",
        " - step을 생략하면 1씩 증가한다."
      ],
      "metadata": {
        "id": "W8d9n_rRC4JJ"
      }
    },
    {
      "cell_type": "markdown",
      "source": [
        "## dtype (데이터 타입)"
      ],
      "metadata": {
        "id": "DAfTIKlV4sHE"
      }
    },
    {
      "cell_type": "code",
      "source": [
        "a = np.array([1,2,3])\n",
        "a"
      ],
      "metadata": {
        "colab": {
          "base_uri": "https://localhost:8080/"
        },
        "id": "8fHJZ9K54vGO",
        "outputId": "f9bdad85-8c0e-463c-88d7-ab858f52264d"
      },
      "execution_count": null,
      "outputs": [
        {
          "output_type": "execute_result",
          "data": {
            "text/plain": [
              "array([1, 2, 3])"
            ]
          },
          "metadata": {},
          "execution_count": 39
        }
      ]
    },
    {
      "cell_type": "code",
      "source": [
        "print(type(a))\n",
        "print(a.dtype) # int64 : 정수 64bit(8byte)"
      ],
      "metadata": {
        "colab": {
          "base_uri": "https://localhost:8080/"
        },
        "id": "lH6-pe8a40gD",
        "outputId": "25ff3c9a-f2ae-436b-f023-780817160ea2"
      },
      "execution_count": null,
      "outputs": [
        {
          "output_type": "stream",
          "name": "stdout",
          "text": [
            "<class 'numpy.ndarray'>\n",
            "int64\n"
          ]
        }
      ]
    },
    {
      "cell_type": "code",
      "source": [
        "# int8(1byte) -> -128 ~ 127\n",
        "# 크기 범위를 넘어가면 쓰레기값을 나타냄.\n",
        "\n",
        "b = np.array([1, 2, 3], dtype=np.int8)\n",
        "b\n",
        "print(b.dtype)"
      ],
      "metadata": {
        "colab": {
          "base_uri": "https://localhost:8080/"
        },
        "id": "UN-aWZcb5Viz",
        "outputId": "0ea8f862-483c-466c-914a-a380b41e1a1c"
      },
      "execution_count": null,
      "outputs": [
        {
          "output_type": "stream",
          "name": "stdout",
          "text": [
            "int8\n"
          ]
        }
      ]
    },
    {
      "cell_type": "code",
      "source": [
        "b = np.array([-128, -127, 5, 100, 128], dtype=np.int8)\n",
        "b\n"
      ],
      "metadata": {
        "colab": {
          "base_uri": "https://localhost:8080/"
        },
        "id": "0GReZgF98SYS",
        "outputId": "b7bb987c-d15f-47a8-c462-baeb3307a14a"
      },
      "execution_count": null,
      "outputs": [
        {
          "output_type": "execute_result",
          "data": {
            "text/plain": [
              "array([-128, -127,    5,  100, -128], dtype=int8)"
            ]
          },
          "metadata": {},
          "execution_count": 62
        }
      ]
    },
    {
      "cell_type": "code",
      "source": [
        "# python의 datatype인 int를 지정하면 numpy의 int64와 같은 타입이다.\n",
        "\n",
        "c = np.array([127, 2, 3, -128], dtype = int)\n",
        "c"
      ],
      "metadata": {
        "colab": {
          "base_uri": "https://localhost:8080/"
        },
        "id": "dpXLVlqG9ROc",
        "outputId": "d14c10ea-5ec9-4a8a-f328-03c6a5a3d952"
      },
      "execution_count": null,
      "outputs": [
        {
          "output_type": "execute_result",
          "data": {
            "text/plain": [
              "array([ 127,    2,    3, -128])"
            ]
          },
          "metadata": {},
          "execution_count": 64
        }
      ]
    },
    {
      "cell_type": "code",
      "source": [
        "print(c.dtype)"
      ],
      "metadata": {
        "colab": {
          "base_uri": "https://localhost:8080/"
        },
        "id": "xqvxrlNJ9eFz",
        "outputId": "b77c30e5-06df-4239-ad14-ed785a044e11"
      },
      "execution_count": null,
      "outputs": [
        {
          "output_type": "stream",
          "name": "stdout",
          "text": [
            "int64\n"
          ]
        }
      ]
    },
    {
      "cell_type": "markdown",
      "source": [
        "numpy 도움말"
      ],
      "metadata": {
        "id": "9dihyrDY-d7h"
      }
    },
    {
      "cell_type": "code",
      "source": [
        "np.lookfor('sum')"
      ],
      "metadata": {
        "id": "9FsiobJa-fwf"
      },
      "execution_count": null,
      "outputs": []
    },
    {
      "cell_type": "code",
      "source": [
        "a = np.array([[1,2,3],[4,5,6]])\n",
        "\n",
        "# 배열의 행렬을 알려준다.\n",
        "\n",
        "a.shape"
      ],
      "metadata": {
        "colab": {
          "base_uri": "https://localhost:8080/"
        },
        "id": "CzldHSNh-5Ah",
        "outputId": "1b865206-8c8d-468f-c9e9-e438d2e37856"
      },
      "execution_count": null,
      "outputs": [
        {
          "output_type": "execute_result",
          "data": {
            "text/plain": [
              "(2, 3)"
            ]
          },
          "metadata": {},
          "execution_count": 78
        }
      ]
    },
    {
      "cell_type": "code",
      "source": [
        "# 배열이 몇차원인지 알려준다.\n",
        "\n",
        "a.ndim"
      ],
      "metadata": {
        "colab": {
          "base_uri": "https://localhost:8080/"
        },
        "id": "JW68kLx7_JHB",
        "outputId": "f3e68d53-69ab-41b9-8106-11866f9ae0d0"
      },
      "execution_count": null,
      "outputs": [
        {
          "output_type": "execute_result",
          "data": {
            "text/plain": [
              "2"
            ]
          },
          "metadata": {},
          "execution_count": 79
        }
      ]
    },
    {
      "cell_type": "code",
      "source": [
        "# 배열의 데이터타입을 알려준다.\n",
        "\n",
        "a.dtype"
      ],
      "metadata": {
        "colab": {
          "base_uri": "https://localhost:8080/"
        },
        "id": "ozo_mcgt_bwt",
        "outputId": "73133336-f8cb-4333-dad5-878995268225"
      },
      "execution_count": null,
      "outputs": [
        {
          "output_type": "execute_result",
          "data": {
            "text/plain": [
              "dtype('int64')"
            ]
          },
          "metadata": {},
          "execution_count": 81
        }
      ]
    },
    {
      "cell_type": "code",
      "source": [
        "# 배열의 요소의 개수를 알려준다.\n",
        "\n",
        "a.size"
      ],
      "metadata": {
        "colab": {
          "base_uri": "https://localhost:8080/"
        },
        "id": "7sn0Bnhh_kgY",
        "outputId": "040fb3f6-338b-4ea3-d7e2-812b959e1ef2"
      },
      "execution_count": null,
      "outputs": [
        {
          "output_type": "execute_result",
          "data": {
            "text/plain": [
              "6"
            ]
          },
          "metadata": {},
          "execution_count": 82
        }
      ]
    },
    {
      "cell_type": "code",
      "source": [
        "# 요소당 byte수를 알려준다.\n",
        "# 64bit = 8byte\n",
        "\n",
        "a.itemsize"
      ],
      "metadata": {
        "colab": {
          "base_uri": "https://localhost:8080/"
        },
        "id": "XiS1a7BK_sMl",
        "outputId": "e4b58a71-fc44-4af6-8454-55e256ec7bed"
      },
      "execution_count": null,
      "outputs": [
        {
          "output_type": "execute_result",
          "data": {
            "text/plain": [
              "8"
            ]
          },
          "metadata": {},
          "execution_count": 83
        }
      ]
    },
    {
      "cell_type": "markdown",
      "source": [
        "## numpy와 python의 속도차이"
      ],
      "metadata": {
        "id": "LFk5vy-iADn_"
      }
    },
    {
      "cell_type": "code",
      "source": [
        "np.arange(10) # (start, end, step) start,step 생략 가능하다."
      ],
      "metadata": {
        "colab": {
          "base_uri": "https://localhost:8080/"
        },
        "id": "OJB1xHE9Bbab",
        "outputId": "4972a568-354f-4bc9-9b80-667075aa3dc3"
      },
      "execution_count": null,
      "outputs": [
        {
          "output_type": "execute_result",
          "data": {
            "text/plain": [
              "array([0, 1, 2, 3, 4, 5, 6, 7, 8, 9])"
            ]
          },
          "metadata": {},
          "execution_count": 11
        }
      ]
    },
    {
      "cell_type": "code",
      "source": [
        "# numpy를 이용한 계산\n",
        "\n",
        "%time np.sum(np.arange(10000000))"
      ],
      "metadata": {
        "colab": {
          "base_uri": "https://localhost:8080/"
        },
        "id": "GvKR2HoaBu_7",
        "outputId": "72aebc7e-18c9-42e1-ed7c-01749780e3b7"
      },
      "execution_count": null,
      "outputs": [
        {
          "output_type": "stream",
          "name": "stdout",
          "text": [
            "CPU times: user 13.6 ms, sys: 24.2 ms, total: 37.7 ms\n",
            "Wall time: 43.3 ms\n"
          ]
        },
        {
          "output_type": "execute_result",
          "data": {
            "text/plain": [
              "49999995000000"
            ]
          },
          "metadata": {},
          "execution_count": 12
        }
      ]
    },
    {
      "cell_type": "code",
      "source": [
        "# python을 이용한 계산\n",
        "\n",
        "%time sum(range(100000000))"
      ],
      "metadata": {
        "colab": {
          "base_uri": "https://localhost:8080/"
        },
        "id": "OW1sycnVCDyo",
        "outputId": "bb225979-c212-45b7-c922-f92cba003227"
      },
      "execution_count": null,
      "outputs": [
        {
          "output_type": "stream",
          "name": "stdout",
          "text": [
            "CPU times: user 2.2 s, sys: 10.6 ms, total: 2.21 s\n",
            "Wall time: 2.25 s\n"
          ]
        },
        {
          "output_type": "execute_result",
          "data": {
            "text/plain": [
              "4999999950000000"
            ]
          },
          "metadata": {},
          "execution_count": 5
        }
      ]
    },
    {
      "cell_type": "markdown",
      "source": [
        "같은 np.sum()을 사용하더라도 값을 생성하는 방법에 따라 속도가 달라진다."
      ],
      "metadata": {
        "id": "1RY3XrfGCwgJ"
      }
    },
    {
      "cell_type": "code",
      "source": [
        "%time np.sum(np.arange(10000000))"
      ],
      "metadata": {
        "colab": {
          "base_uri": "https://localhost:8080/"
        },
        "id": "TTu3TzjnCe47",
        "outputId": "57acec14-f198-4da9-a83c-474449370a43"
      },
      "execution_count": null,
      "outputs": [
        {
          "output_type": "stream",
          "name": "stdout",
          "text": [
            "CPU times: user 17.7 ms, sys: 24.2 ms, total: 41.9 ms\n",
            "Wall time: 47.6 ms\n"
          ]
        },
        {
          "output_type": "execute_result",
          "data": {
            "text/plain": [
              "49999995000000"
            ]
          },
          "metadata": {},
          "execution_count": 13
        }
      ]
    },
    {
      "cell_type": "code",
      "source": [
        "%time np.sum(range(10000000))"
      ],
      "metadata": {
        "colab": {
          "base_uri": "https://localhost:8080/"
        },
        "id": "2_DtS4W7CisS",
        "outputId": "ad7ab608-5104-4cbd-bbb1-b30f66b843be"
      },
      "execution_count": null,
      "outputs": [
        {
          "output_type": "stream",
          "name": "stdout",
          "text": [
            "CPU times: user 1.08 s, sys: 271 ms, total: 1.35 s\n",
            "Wall time: 1.36 s\n"
          ]
        },
        {
          "output_type": "execute_result",
          "data": {
            "text/plain": [
              "49999995000000"
            ]
          },
          "metadata": {},
          "execution_count": 14
        }
      ]
    },
    {
      "cell_type": "markdown",
      "source": [
        "## copy\n",
        " - 대입문 6가지\n",
        "  1. a = 1\n",
        "  2. a = b = 1\n",
        "  3. *b = 1, 2, 3 (tuple)\n",
        "  4. a += 1\n",
        "  5. global,nonlocal"
      ],
      "metadata": {
        "id": "lMb_SzZFDCuC"
      }
    },
    {
      "cell_type": "markdown",
      "source": [
        "python에서 copy"
      ],
      "metadata": {
        "id": "yNAP120gGoO5"
      }
    },
    {
      "cell_type": "code",
      "source": [
        "a = [1,2,3]"
      ],
      "metadata": {
        "id": "wuUJCPW4GqCC"
      },
      "execution_count": null,
      "outputs": []
    },
    {
      "cell_type": "code",
      "source": [
        "# shallow copy (얕은 카피)\n",
        "\n",
        "b = a"
      ],
      "metadata": {
        "id": "cvKeQ0FqGsQ-"
      },
      "execution_count": null,
      "outputs": []
    },
    {
      "cell_type": "code",
      "source": [
        "b"
      ],
      "metadata": {
        "colab": {
          "base_uri": "https://localhost:8080/"
        },
        "id": "PQ6SKedwGtF2",
        "outputId": "8fad9a01-f4b5-4dc6-bc49-8a7874f86d24"
      },
      "execution_count": null,
      "outputs": [
        {
          "output_type": "execute_result",
          "data": {
            "text/plain": [
              "[1, 2, 3]"
            ]
          },
          "metadata": {},
          "execution_count": 18
        }
      ]
    },
    {
      "cell_type": "code",
      "source": [
        "# 메모리 주소 비교\n",
        "\n",
        "a is b"
      ],
      "metadata": {
        "colab": {
          "base_uri": "https://localhost:8080/"
        },
        "id": "zmkpm_vrGtqH",
        "outputId": "730b2f75-a2f7-4ae8-b1a3-6da1c6c3f033"
      },
      "execution_count": null,
      "outputs": [
        {
          "output_type": "execute_result",
          "data": {
            "text/plain": [
              "True"
            ]
          },
          "metadata": {},
          "execution_count": 19
        }
      ]
    },
    {
      "cell_type": "code",
      "source": [
        "# 서로 주소를 공유한다.\n",
        "# b를 변경하면 a도 같이 변경된다.\n",
        "b[0] = 7\n",
        "print(b)\n",
        "print(a)"
      ],
      "metadata": {
        "colab": {
          "base_uri": "https://localhost:8080/"
        },
        "id": "nQ7-N0BQG0pk",
        "outputId": "a8d10872-1fd6-400d-981d-ffc7a42c574e"
      },
      "execution_count": null,
      "outputs": [
        {
          "output_type": "stream",
          "name": "stdout",
          "text": [
            "[7, 2, 3]\n",
            "[7, 2, 3]\n"
          ]
        }
      ]
    },
    {
      "cell_type": "code",
      "source": [
        "# copy method를 사용하면 값은 같지만 주소는 공유하지 않는다.\n",
        "# deep copy\n",
        "\n",
        "a = [1, 2, 3]\n",
        "b = a.copy()\n",
        "a is b"
      ],
      "metadata": {
        "colab": {
          "base_uri": "https://localhost:8080/"
        },
        "id": "W53OJpg9HJ3u",
        "outputId": "737159b1-83bc-44a9-9456-95fc6dea6521"
      },
      "execution_count": null,
      "outputs": [
        {
          "output_type": "execute_result",
          "data": {
            "text/plain": [
              "False"
            ]
          },
          "metadata": {},
          "execution_count": 27
        }
      ]
    },
    {
      "cell_type": "code",
      "source": [
        "# 값 비교\n",
        "\n",
        "a == b"
      ],
      "metadata": {
        "colab": {
          "base_uri": "https://localhost:8080/"
        },
        "id": "DZ4BN06lHqy2",
        "outputId": "96cd7260-0da9-45e4-8d59-f5a622e5aeaa"
      },
      "execution_count": null,
      "outputs": [
        {
          "output_type": "execute_result",
          "data": {
            "text/plain": [
              "True"
            ]
          },
          "metadata": {},
          "execution_count": 29
        }
      ]
    },
    {
      "cell_type": "code",
      "source": [
        "# b를 변경해도 a는 변경되지 않는다.\n",
        "\n",
        "b[0] = 8\n",
        "\n",
        "print(b)\n",
        "print(a)"
      ],
      "metadata": {
        "colab": {
          "base_uri": "https://localhost:8080/"
        },
        "id": "CN08QE4MHxK-",
        "outputId": "daf312c5-d596-414d-ace0-d07b018cbf0a"
      },
      "execution_count": null,
      "outputs": [
        {
          "output_type": "stream",
          "name": "stdout",
          "text": [
            "[8, 2, 3]\n",
            "[1, 2, 3]\n"
          ]
        }
      ]
    },
    {
      "cell_type": "markdown",
      "source": [
        "list가 2차원일때 copy"
      ],
      "metadata": {
        "id": "y5jsuWnYIL4D"
      }
    },
    {
      "cell_type": "code",
      "source": [
        "a = [[1,2,3],[4,5,6]]"
      ],
      "metadata": {
        "id": "Yp3zdmEEIN72"
      },
      "execution_count": 8,
      "outputs": []
    },
    {
      "cell_type": "code",
      "source": [
        "type(a)"
      ],
      "metadata": {
        "colab": {
          "base_uri": "https://localhost:8080/"
        },
        "id": "ikhgLrseIXQu",
        "outputId": "06e15205-4992-4b14-b7e9-7e22ef041e67"
      },
      "execution_count": null,
      "outputs": [
        {
          "output_type": "execute_result",
          "data": {
            "text/plain": [
              "list"
            ]
          },
          "metadata": {},
          "execution_count": 42
        }
      ]
    },
    {
      "cell_type": "code",
      "source": [
        "# shallow copy (얕은 카피)\n",
        "b = a.copy()"
      ],
      "metadata": {
        "id": "SGpfLKHCIYPO"
      },
      "execution_count": 9,
      "outputs": []
    },
    {
      "cell_type": "code",
      "source": [
        "# list가 2차원일 때는 copy method를 사용하면 1차원은 새로 생성하지만, 2차원은 공유한다.\n",
        "\n",
        "print(a[0] is b[0]) # 주소 비교\n",
        "print(a[0] == b[0]) # 값 비교"
      ],
      "metadata": {
        "colab": {
          "base_uri": "https://localhost:8080/"
        },
        "id": "rqjyFa3aIbBP",
        "outputId": "4086444a-e0af-4a71-edf2-71adee1d1985"
      },
      "execution_count": 10,
      "outputs": [
        {
          "output_type": "stream",
          "name": "stdout",
          "text": [
            "True\n",
            "True\n"
          ]
        }
      ]
    },
    {
      "cell_type": "code",
      "source": [
        "print(a[0])\n",
        "print(b[0])"
      ],
      "metadata": {
        "colab": {
          "base_uri": "https://localhost:8080/"
        },
        "id": "Jw5aM-LdJxi4",
        "outputId": "96ea7074-e12c-4084-f3ae-8362bf2e0610"
      },
      "execution_count": null,
      "outputs": [
        {
          "output_type": "stream",
          "name": "stdout",
          "text": [
            "[1, 2, 3]\n",
            "[1, 2, 3]\n"
          ]
        }
      ]
    },
    {
      "cell_type": "code",
      "source": [
        "b[0][0] = 10"
      ],
      "metadata": {
        "id": "I7ma8P6tJ0-C"
      },
      "execution_count": null,
      "outputs": []
    },
    {
      "cell_type": "code",
      "source": [
        "print(a[0])\n",
        "print(a[0])"
      ],
      "metadata": {
        "colab": {
          "base_uri": "https://localhost:8080/"
        },
        "id": "M3V5IctoJ_uq",
        "outputId": "5f3bd43b-fa0a-4c21-9979-4869a59d753f"
      },
      "execution_count": null,
      "outputs": [
        {
          "output_type": "stream",
          "name": "stdout",
          "text": [
            "[10, 2, 3]\n",
            "[10, 2, 3]\n"
          ]
        }
      ]
    },
    {
      "cell_type": "code",
      "source": [
        "import copy"
      ],
      "metadata": {
        "id": "hMyZytxAJE_v"
      },
      "execution_count": 253,
      "outputs": []
    },
    {
      "cell_type": "code",
      "source": [
        "# deep copy (깊은 카피)\n",
        "\n",
        "a = [[1,2,3],[4,5,6]]\n",
        "b = copy.deepcopy(a)"
      ],
      "metadata": {
        "id": "7NX90eR2JGPd"
      },
      "execution_count": null,
      "outputs": []
    },
    {
      "cell_type": "code",
      "source": [
        "print(a[0] is b[0]) # 주소 비교\n",
        "print(a[0] == b[0]) # 값 비교"
      ],
      "metadata": {
        "colab": {
          "base_uri": "https://localhost:8080/"
        },
        "id": "iOgtwuW3JL8V",
        "outputId": "44de7f22-15a4-4d34-e1f7-7f87c6368a4d"
      },
      "execution_count": null,
      "outputs": [
        {
          "output_type": "stream",
          "name": "stdout",
          "text": [
            "False\n",
            "True\n"
          ]
        }
      ]
    },
    {
      "cell_type": "code",
      "source": [
        "print(a[0])\n",
        "print(b[0])"
      ],
      "metadata": {
        "colab": {
          "base_uri": "https://localhost:8080/"
        },
        "id": "jjLMZxwUL2Fg",
        "outputId": "5ca42dbf-f43d-4c7a-ca3f-db870402a6fd"
      },
      "execution_count": null,
      "outputs": [
        {
          "output_type": "stream",
          "name": "stdout",
          "text": [
            "[1, 2, 3]\n",
            "[1, 2, 3]\n"
          ]
        }
      ]
    },
    {
      "cell_type": "code",
      "source": [
        "b[0][0] = 10"
      ],
      "metadata": {
        "id": "nUeaTzvUL429"
      },
      "execution_count": null,
      "outputs": []
    },
    {
      "cell_type": "code",
      "source": [
        "print(a[0])\n",
        "print(b[0])"
      ],
      "metadata": {
        "colab": {
          "base_uri": "https://localhost:8080/"
        },
        "id": "ns37di_KL69l",
        "outputId": "bb870766-5926-4526-a53e-4c9830d15d89"
      },
      "execution_count": null,
      "outputs": [
        {
          "output_type": "stream",
          "name": "stdout",
          "text": [
            "[1, 2, 3]\n",
            "[10, 2, 3]\n"
          ]
        }
      ]
    },
    {
      "cell_type": "markdown",
      "source": [
        "[ : ]는 전체를 의미한다.  \n",
        "슬라이싱 방식으로 1차 리스트 일때는 재할당하면 deep copy가 된다.   \n",
        "슬라이싱 방식으로 2차 리스트 이상일 경우는 shallow copy가 된다."
      ],
      "metadata": {
        "id": "we0LdDBuNGFL"
      }
    },
    {
      "cell_type": "code",
      "source": [
        "# deep copy\n",
        "\n",
        "a = [1,2,3]\n",
        "b = a[:]\n",
        "\n",
        "print(a is b)"
      ],
      "metadata": {
        "colab": {
          "base_uri": "https://localhost:8080/"
        },
        "id": "suhICY6fNhPa",
        "outputId": "3d02e012-4dbb-46a9-bda8-ac2a2ec1fce3"
      },
      "execution_count": null,
      "outputs": [
        {
          "output_type": "stream",
          "name": "stdout",
          "text": [
            "False\n"
          ]
        }
      ]
    },
    {
      "cell_type": "code",
      "source": [
        "# shallow copy\n",
        "\n",
        "a = [[1,2,3],[4,5,6]]\n",
        "b = a[:]\n",
        "\n",
        "print(a[0] is b[0])"
      ],
      "metadata": {
        "colab": {
          "base_uri": "https://localhost:8080/"
        },
        "id": "iJbKNxEeNmBl",
        "outputId": "54080c5f-57cd-4df2-bffb-b126b9656367"
      },
      "execution_count": null,
      "outputs": [
        {
          "output_type": "stream",
          "name": "stdout",
          "text": [
            "True\n"
          ]
        }
      ]
    },
    {
      "cell_type": "code",
      "source": [
        "a = [257, 2, 3]\n",
        "b = a[:]\n",
        "\n",
        "print(a == b)\n",
        "print(a is b)\n",
        "\n",
        "print(a[0] == b[0])\n",
        "print(a[0] is b[0])"
      ],
      "metadata": {
        "colab": {
          "base_uri": "https://localhost:8080/"
        },
        "id": "LfOT0w9AX0JU",
        "outputId": "f37b0432-18ea-4f33-f048-4c3ca963c487"
      },
      "execution_count": null,
      "outputs": [
        {
          "output_type": "stream",
          "name": "stdout",
          "text": [
            "True\n",
            "False\n",
            "True\n",
            "True\n"
          ]
        }
      ]
    },
    {
      "cell_type": "code",
      "source": [
        "# intering\n",
        "# python은 느리기 때문에 중간에 cache 저장하는 기법이 있다\n",
        "# python에서는 -5에서 256까지는 같은 메모리 주소를 사용한다.\n",
        "# 문자열에서 a-zA-Z0-9_는 내부적으로 intering 기법을 사용한다.\n",
        "\n",
        "m = -6\n",
        "n = -6\n",
        "print(m is n)\n",
        "\n",
        "k = 'python_가'\n",
        "p = 'python_가'\n",
        "print(k is p)"
      ],
      "metadata": {
        "colab": {
          "base_uri": "https://localhost:8080/"
        },
        "id": "lVokSzl6YNZK",
        "outputId": "2a5899fd-227d-4b80-8c5f-c9365507f0fe"
      },
      "execution_count": null,
      "outputs": [
        {
          "output_type": "stream",
          "name": "stdout",
          "text": [
            "False\n",
            "False\n"
          ]
        }
      ]
    },
    {
      "cell_type": "code",
      "source": [
        "z = -6\n",
        "x = z\n",
        "v = -6\n",
        "\n",
        "print(id(z))\n",
        "print(id(x))\n",
        "print(id(v))"
      ],
      "metadata": {
        "colab": {
          "base_uri": "https://localhost:8080/"
        },
        "id": "pe_X6HVHjqxx",
        "outputId": "95ab9c7d-402e-4c65-9a7c-e5f846938f0d"
      },
      "execution_count": null,
      "outputs": [
        {
          "output_type": "stream",
          "name": "stdout",
          "text": [
            "137956654318480\n",
            "137956654318480\n",
            "137956654324336\n"
          ]
        }
      ]
    },
    {
      "cell_type": "code",
      "source": [
        "a = [[1,2,3],[4,5,6]]\n",
        "b = a.copy()\n",
        "print(a)\n",
        "print(b)\n",
        "print(id(a))\n",
        "print(id(b))\n",
        "print(a is b)\n",
        "print('-----------')\n",
        "print(a[0])\n",
        "print(b[0])\n",
        "print(id(a[0]))\n",
        "print(id(b[0]))\n",
        "print(a[0] is b[0])\n",
        "print('-----------')\n",
        "print(a[0][0])\n",
        "print(b[0][0])\n",
        "print(id(a[0][0]))\n",
        "print(id(b[0][0]))\n",
        "print(a[0][0] is b[0][0])\n",
        "print('-----------')\n"
      ],
      "metadata": {
        "colab": {
          "base_uri": "https://localhost:8080/"
        },
        "id": "_S8CpsYW0I5y",
        "outputId": "4244d985-1b7b-4106-f7d9-c344893980c4"
      },
      "execution_count": 28,
      "outputs": [
        {
          "output_type": "stream",
          "name": "stdout",
          "text": [
            "[[1, 2, 3], [4, 5, 6]]\n",
            "[[1, 2, 3], [4, 5, 6]]\n",
            "138287270974848\n",
            "138287270972928\n",
            "False\n",
            "-----------\n",
            "[1, 2, 3]\n",
            "[1, 2, 3]\n",
            "138287270982336\n",
            "138287270982336\n",
            "True\n",
            "-----------\n",
            "1\n",
            "1\n",
            "138288543498480\n",
            "138288543498480\n",
            "True\n",
            "-----------\n"
          ]
        }
      ]
    },
    {
      "cell_type": "code",
      "source": [
        "a = [[1,2,3],[4,5,6]]\n",
        "c = copy.deepcopy(a)\n",
        "print(a)\n",
        "print(c)\n",
        "print(id(a))\n",
        "print(id(c))\n",
        "print(a is c)\n",
        "print('-----------')\n",
        "print(a[0])\n",
        "print(c[0])\n",
        "print(id(a[0]))\n",
        "print(id(c[0]))\n",
        "print(a[0] is c[0])\n",
        "print('-----------')\n",
        "print(a[0][0])\n",
        "print(c[0][0])\n",
        "print(id(a[0][0]))\n",
        "print(id(c[0][0]))\n",
        "print(a[0][0] is c[0][0])\n",
        "print('-----------')\n"
      ],
      "metadata": {
        "colab": {
          "base_uri": "https://localhost:8080/"
        },
        "id": "uhZVfJV53M4q",
        "outputId": "359ffcb3-c8f6-48b5-fe27-936ceab7a1f8"
      },
      "execution_count": 27,
      "outputs": [
        {
          "output_type": "stream",
          "name": "stdout",
          "text": [
            "[[1, 2, 3], [4, 5, 6]]\n",
            "[[1, 2, 3], [4, 5, 6]]\n",
            "138287271375808\n",
            "138287271378816\n",
            "False\n",
            "-----------\n",
            "[1, 2, 3]\n",
            "[1, 2, 3]\n",
            "138287271494208\n",
            "138287271494400\n",
            "False\n",
            "-----------\n",
            "1\n",
            "1\n",
            "138288543498480\n",
            "138288543498480\n",
            "True\n",
            "-----------\n"
          ]
        }
      ]
    },
    {
      "cell_type": "code",
      "source": [
        "# numpy에서는 값을 각자 비교해서 bool값을 준다.\n",
        "\n",
        "a = b = np.array([1,2,3])"
      ],
      "metadata": {
        "id": "60AyAmE345i6"
      },
      "execution_count": 29,
      "outputs": []
    },
    {
      "cell_type": "code",
      "source": [
        "print(a is b)\n",
        "print(a == b)"
      ],
      "metadata": {
        "colab": {
          "base_uri": "https://localhost:8080/"
        },
        "id": "ttmavU3__Dho",
        "outputId": "7cdfa352-f7ee-485f-b477-ef6af8de82ec"
      },
      "execution_count": 30,
      "outputs": [
        {
          "output_type": "stream",
          "name": "stdout",
          "text": [
            "True\n",
            "[ True  True  True]\n"
          ]
        }
      ]
    },
    {
      "cell_type": "code",
      "source": [
        "# numpy는 indexing이 가능하다.\n",
        "\n",
        "a[0]"
      ],
      "metadata": {
        "colab": {
          "base_uri": "https://localhost:8080/"
        },
        "id": "0kTgZZJy_TcL",
        "outputId": "69180e43-7812-4f3d-8d8d-eb571d1814cc"
      },
      "execution_count": 32,
      "outputs": [
        {
          "output_type": "execute_result",
          "data": {
            "text/plain": [
              "1"
            ]
          },
          "metadata": {},
          "execution_count": 32
        }
      ]
    },
    {
      "cell_type": "code",
      "source": [
        "# numpy는 slicing이 가능하다.\n",
        "\n",
        "a[:]"
      ],
      "metadata": {
        "colab": {
          "base_uri": "https://localhost:8080/"
        },
        "id": "8bw1e4I4_YtA",
        "outputId": "32683e0a-6019-4603-b263-7f81e8c1319b"
      },
      "execution_count": 34,
      "outputs": [
        {
          "output_type": "execute_result",
          "data": {
            "text/plain": [
              "array([1, 2, 3])"
            ]
          },
          "metadata": {},
          "execution_count": 34
        }
      ]
    },
    {
      "cell_type": "code",
      "source": [
        "a[0] = 100\n",
        "print(a[0])\n",
        "print(b[0])"
      ],
      "metadata": {
        "colab": {
          "base_uri": "https://localhost:8080/"
        },
        "id": "FrTx2h5I_cpu",
        "outputId": "dc42817d-de34-41f2-e810-596bc2016854"
      },
      "execution_count": 38,
      "outputs": [
        {
          "output_type": "stream",
          "name": "stdout",
          "text": [
            "100\n",
            "100\n"
          ]
        }
      ]
    },
    {
      "cell_type": "markdown",
      "source": [
        "array는 homogeneous, sequence, mutable 이다.   \n",
        "list는 heterogeneous, sequence, mutable 이다."
      ],
      "metadata": {
        "id": "GYNqxumhBnK-"
      }
    },
    {
      "cell_type": "code",
      "source": [
        "# numpy의 copy method는 deep copy이다.\n",
        "\n",
        "a = np.array([[1,2,3],[4,5,6]])\n",
        "b = a.copy()\n",
        "\n",
        "print(a)\n",
        "print(b)\n",
        "print(id(a))\n",
        "print(id(b))\n",
        "print(a is b)\n",
        "print(a == b)\n",
        "print('-----------')\n",
        "print(a[0])\n",
        "print(b[0])\n",
        "print(id(a[0]))\n",
        "print(id(b[0]))\n",
        "print(a[0] is b[0])\n",
        "print(a[0] == b[0])\n",
        "print('-----------')\n",
        "print(a[0][0])\n",
        "print(b[0][0])\n",
        "print(id(a[0][0]))\n",
        "print(id(b[0][0]))\n",
        "print(a[0][0] is b[0][0])\n",
        "print(a[0][0] == b[0][0])\n",
        "print('-----------')"
      ],
      "metadata": {
        "colab": {
          "base_uri": "https://localhost:8080/"
        },
        "id": "7AytDmEsATzh",
        "outputId": "4a097289-7afa-45ab-fdd3-4f50a1d0afd9"
      },
      "execution_count": 48,
      "outputs": [
        {
          "output_type": "stream",
          "name": "stdout",
          "text": [
            "[[1 2 3]\n",
            " [4 5 6]]\n",
            "[[1 2 3]\n",
            " [4 5 6]]\n",
            "138287269654000\n",
            "138287269653424\n",
            "False\n",
            "[[ True  True  True]\n",
            " [ True  True  True]]\n",
            "-----------\n",
            "[1 2 3]\n",
            "[1 2 3]\n",
            "138287269655632\n",
            "138287269655632\n",
            "False\n",
            "[ True  True  True]\n",
            "-----------\n",
            "1\n",
            "1\n",
            "138287272299536\n",
            "138287272309936\n",
            "False\n",
            "True\n",
            "-----------\n"
          ]
        }
      ]
    },
    {
      "cell_type": "markdown",
      "source": [
        "### as 계열\n",
        " - 다른 데이터 타입을 가져와 바꿔서 사용할 때는 as라는 이름이 보통 붙는다."
      ],
      "metadata": {
        "id": "PAqRZMR0CWjv"
      }
    },
    {
      "cell_type": "code",
      "source": [
        "# list를 array로 바꾸기.\n",
        "\n",
        "a = [1.5, 2.5, 3.5]\n",
        "b = np.array(a)\n",
        "\n",
        "print(type(a))\n",
        "print(type(b))\n",
        "print(type(a[0]))\n",
        "print(type(b[0]))"
      ],
      "metadata": {
        "colab": {
          "base_uri": "https://localhost:8080/"
        },
        "id": "a7Ucd_R9CuDW",
        "outputId": "8c79a01a-87a3-460c-a612-901a626700ee"
      },
      "execution_count": 51,
      "outputs": [
        {
          "output_type": "stream",
          "name": "stdout",
          "text": [
            "<class 'list'>\n",
            "<class 'numpy.ndarray'>\n",
            "<class 'float'>\n",
            "<class 'numpy.float64'>\n"
          ]
        }
      ]
    },
    {
      "cell_type": "code",
      "source": [
        "# list를 as를 이용해 array로 바꾸기.\n",
        "\n",
        "a = [1.5, 2.5, 3.5]\n",
        "b = np.asarray(a)\n",
        "\n",
        "print(type(a))\n",
        "print(type(b))\n",
        "print(type(a[0]))\n",
        "print(type(b[0]))"
      ],
      "metadata": {
        "colab": {
          "base_uri": "https://localhost:8080/"
        },
        "id": "c1T99VtiC5GZ",
        "outputId": "cd59ac35-2a18-48e3-e781-a17c8cb16e62"
      },
      "execution_count": 52,
      "outputs": [
        {
          "output_type": "stream",
          "name": "stdout",
          "text": [
            "<class 'list'>\n",
            "<class 'numpy.ndarray'>\n",
            "<class 'float'>\n",
            "<class 'numpy.float64'>\n"
          ]
        }
      ]
    },
    {
      "cell_type": "code",
      "source": [
        "# list를 asf를 이용해 int값을 float64값으로 하는 array로 바꾸기.\n",
        "\n",
        "a = [15, 25, 35] # int\n",
        "b = np.asfarray(a) # float64\n",
        "\n",
        "print(type(a))\n",
        "print(type(b))\n",
        "print(type(a[0]))\n",
        "print(type(b[0]))"
      ],
      "metadata": {
        "colab": {
          "base_uri": "https://localhost:8080/"
        },
        "id": "p47FdBbcDpmm",
        "outputId": "d3e34b13-7f2d-4983-bb23-9483c602825e"
      },
      "execution_count": 55,
      "outputs": [
        {
          "output_type": "stream",
          "name": "stdout",
          "text": [
            "<class 'list'>\n",
            "<class 'numpy.ndarray'>\n",
            "<class 'int'>\n",
            "<class 'numpy.float64'>\n"
          ]
        }
      ]
    },
    {
      "cell_type": "code",
      "source": [
        "a = [1.5, 2.5, 3.5]\n",
        "b = np.asarray(a)\n",
        "\n",
        "print(type(a))\n",
        "print(type(b))\n",
        "print(type(a[0]))\n",
        "print(type(b[0]))"
      ],
      "metadata": {
        "colab": {
          "base_uri": "https://localhost:8080/"
        },
        "id": "p1dw1tNQD9op",
        "outputId": "85e11a47-30f5-4972-e9a8-3f20e2da5bde"
      },
      "execution_count": 57,
      "outputs": [
        {
          "output_type": "stream",
          "name": "stdout",
          "text": [
            "<class 'list'>\n",
            "<class 'numpy.ndarray'>\n",
            "<class 'float'>\n",
            "<class 'numpy.float64'>\n"
          ]
        }
      ]
    },
    {
      "cell_type": "markdown",
      "source": [
        "### 값 가져오기\n",
        "\n",
        "---\n",
        "\n",
        "(1) indexing, slicing 방법   \n",
        "(2) boolean indexing 방법  \n",
        "(3) fancy indexing 방법"
      ],
      "metadata": {
        "id": "wYmgx7epEQ2W"
      }
    },
    {
      "cell_type": "code",
      "source": [
        "a = [[1,2,3],[4,5,6]] # python의 list\n",
        "b = np.array([[1,2,3],[4,5,6]]) # numpy의 array"
      ],
      "metadata": {
        "id": "7KN_uoEvESKV"
      },
      "execution_count": 59,
      "outputs": []
    },
    {
      "cell_type": "code",
      "source": [
        "print(a[0])\n",
        "print(b[0])\n",
        "print(type(a[0]))\n",
        "print(type(b[0]))\n",
        "\n",
        "# print(a[0,1]) # TypeError: list indices must be integers or slices, not tuple\n",
        "print(b[0,1]) # 0번째 행 1번째 열\n",
        "print(b[0][1]) # 0번째 행 1번째 열\n"
      ],
      "metadata": {
        "colab": {
          "base_uri": "https://localhost:8080/"
        },
        "id": "iy3Z7OVfEg7z",
        "outputId": "dfb8ef3a-5f7e-4a16-b1d9-5cadaa0a4a94"
      },
      "execution_count": 72,
      "outputs": [
        {
          "output_type": "stream",
          "name": "stdout",
          "text": [
            "[1, 2, 3]\n",
            "[1 2 3]\n",
            "<class 'list'>\n",
            "<class 'numpy.ndarray'>\n",
            "2\n",
            "2\n"
          ]
        }
      ]
    },
    {
      "cell_type": "code",
      "source": [
        "print(a[slice(0,1)]) # 0행부터 1행 미만의 데이터를 가져온다. 원래의 차원값이 유지된다.\n",
        "print(a[0]) # 원래의 차원값이 유지가 안되고, 1차원으로 가져온다."
      ],
      "metadata": {
        "colab": {
          "base_uri": "https://localhost:8080/"
        },
        "id": "AfqduSktGqNK",
        "outputId": "ec403c29-37ff-4f6b-e870-661dd67d853d"
      },
      "execution_count": 78,
      "outputs": [
        {
          "output_type": "stream",
          "name": "stdout",
          "text": [
            "[[1, 2, 3]]\n",
            "[1, 2, 3]\n"
          ]
        }
      ]
    },
    {
      "cell_type": "markdown",
      "source": [
        "numpy는 기본적으로 indexing/slicing할 때 comma를 사용할 수 있다.\n",
        " - indexing\n",
        "  - [행,열]  \n",
        "  - [행][열]\n",
        "\n",
        " - slicing\n",
        "  - [행:행 열:열]"
      ],
      "metadata": {
        "id": "dixzZPyiHfII"
      }
    },
    {
      "cell_type": "code",
      "source": [
        "# indexing\n",
        "print(b[0,1])\n",
        "print(b[0][1])\n",
        "print(b[0, -1])\n",
        "\n",
        "# slicing 원래의 차원값이 유지된다.\n",
        "print(b[0:1,0:2])\n",
        "print(b[0:2,0:2])"
      ],
      "metadata": {
        "colab": {
          "base_uri": "https://localhost:8080/"
        },
        "id": "Zi3e_9YiIPbA",
        "outputId": "df2b7512-1c59-496e-ceca-f8b92af3dda2"
      },
      "execution_count": 82,
      "outputs": [
        {
          "output_type": "stream",
          "name": "stdout",
          "text": [
            "2\n",
            "2\n",
            "3\n",
            "[[1 2]]\n",
            "[[1 2]\n",
            " [4 5]]\n"
          ]
        }
      ]
    },
    {
      "cell_type": "code",
      "source": [
        "# python의 indexing\n",
        "print(a[0][1])\n",
        "\n",
        "# python의 slicing\n",
        "print(a[0:1])\n",
        "print(a[0:1][0:1])\n",
        "\n",
        "print(id(a[0]))\n",
        "print(id(a[0:1]))\n",
        "print(id(a[0:1][0:1]))"
      ],
      "metadata": {
        "colab": {
          "base_uri": "https://localhost:8080/"
        },
        "id": "cJRaVyBNMYDy",
        "outputId": "b64248a7-2b9a-4194-93b9-082f0fc9bc25"
      },
      "execution_count": 116,
      "outputs": [
        {
          "output_type": "stream",
          "name": "stdout",
          "text": [
            "2\n",
            "[[1, 2, 3]]\n",
            "[[1, 2, 3]]\n",
            "138287271603712\n",
            "138287269211264\n",
            "138287269211072\n"
          ]
        }
      ]
    },
    {
      "cell_type": "markdown",
      "source": [
        "boolean indexing\n",
        " - array만 가능하다.\n",
        " - numpy True, False로만 가능하다.\n",
        " - shape이 맞아야 가능하다.\n",
        " - array는 scalar와 연산하면 elementwise로 계산한다.  \n",
        " (element wise : 원소별로 각각 계산한다.)"
      ],
      "metadata": {
        "id": "ZDYEpCtfPSR6"
      }
    },
    {
      "cell_type": "code",
      "source": [
        "a = [[1,2,3],[4,5,6]]"
      ],
      "metadata": {
        "id": "U3f8CHIgPVk5"
      },
      "execution_count": 117,
      "outputs": []
    },
    {
      "cell_type": "code",
      "source": [
        "# a>3 # TypeError: '>' not supported between instances of 'list' and 'int'"
      ],
      "metadata": {
        "id": "4tk5dJImPYzx"
      },
      "execution_count": 120,
      "outputs": []
    },
    {
      "cell_type": "code",
      "source": [
        "b = np.array([[1,2,3,4]])\n",
        "c = np.array([[2,2,2,2]])\n",
        "b > c # array([[False, False,  True,  True]])\n",
        "\n",
        "# scalar와 연산하기\n",
        "b > 2 # array([[False, False,  True,  True]])"
      ],
      "metadata": {
        "colab": {
          "base_uri": "https://localhost:8080/"
        },
        "id": "-s0-bgphPdAZ",
        "outputId": "89bba4e3-3adf-4467-d61e-d6b291f4357d"
      },
      "execution_count": 147,
      "outputs": [
        {
          "output_type": "execute_result",
          "data": {
            "text/plain": [
              "array([[False, False,  True,  True]])"
            ]
          },
          "metadata": {},
          "execution_count": 147
        }
      ]
    },
    {
      "cell_type": "code",
      "source": [
        "# True값만 가져오기\n",
        "\n",
        "b[np.array([[False,False,True,True]])]"
      ],
      "metadata": {
        "colab": {
          "base_uri": "https://localhost:8080/"
        },
        "id": "dSQAjtGBQuDd",
        "outputId": "397ca074-e299-48d4-bc28-0a561f920fd5"
      },
      "execution_count": 143,
      "outputs": [
        {
          "output_type": "execute_result",
          "data": {
            "text/plain": [
              "array([3, 4])"
            ]
          },
          "metadata": {},
          "execution_count": 143
        }
      ]
    },
    {
      "cell_type": "code",
      "source": [
        "b[b>2]"
      ],
      "metadata": {
        "colab": {
          "base_uri": "https://localhost:8080/"
        },
        "id": "GRjb5lMpRZSK",
        "outputId": "d4aeebb7-3386-46de-8258-d2db9fcd457e"
      },
      "execution_count": 144,
      "outputs": [
        {
          "output_type": "execute_result",
          "data": {
            "text/plain": [
              "array([3, 4])"
            ]
          },
          "metadata": {},
          "execution_count": 144
        }
      ]
    },
    {
      "cell_type": "code",
      "source": [
        "# python에서는 boolean indexing을 지원 안한다.\n",
        "\n",
        "a = [[1,2,3,4]]\n",
        "# a[[False,False,True,True]] # TypeError: list indices must be integers or slices, not list"
      ],
      "metadata": {
        "id": "w8OHiUJqSofF"
      },
      "execution_count": 155,
      "outputs": []
    },
    {
      "cell_type": "markdown",
      "source": [
        "(3) fancy indexing\n",
        "\n",
        " - [[행],[열]]\n",
        " - 행과 열의 개수를 같게 지정해야 한다.  \n",
        " - silcing은 fancy에서 사용할 수 없다.  "
      ],
      "metadata": {
        "id": "9-tfGdvFTOHb"
      }
    },
    {
      "cell_type": "code",
      "source": [
        "# 0 ~ 99 까지 1차원으로 출력\n",
        "# np.arange(start, end, step) -> start와 step은 생략가능하다.\n",
        "\n",
        "a = np.arange(100)\n",
        "print(a)\n",
        "\n",
        "# 배열의 구조 변경\n",
        "# reshape(행 개수, 열 개수)\n",
        "b = a.reshape(20, 5) # reshape는 개수가 맞아야한다.\n",
        "b"
      ],
      "metadata": {
        "colab": {
          "base_uri": "https://localhost:8080/"
        },
        "id": "hKcArANOTUlc",
        "outputId": "96162c0f-77f7-41fe-e6d6-5dbbd5b205ed"
      },
      "execution_count": 181,
      "outputs": [
        {
          "output_type": "stream",
          "name": "stdout",
          "text": [
            "[ 0  1  2  3  4  5  6  7  8  9 10 11 12 13 14 15 16 17 18 19 20 21 22 23\n",
            " 24 25 26 27 28 29 30 31 32 33 34 35 36 37 38 39 40 41 42 43 44 45 46 47\n",
            " 48 49 50 51 52 53 54 55 56 57 58 59 60 61 62 63 64 65 66 67 68 69 70 71\n",
            " 72 73 74 75 76 77 78 79 80 81 82 83 84 85 86 87 88 89 90 91 92 93 94 95\n",
            " 96 97 98 99]\n"
          ]
        },
        {
          "output_type": "execute_result",
          "data": {
            "text/plain": [
              "array([[ 0,  1,  2,  3,  4],\n",
              "       [ 5,  6,  7,  8,  9],\n",
              "       [10, 11, 12, 13, 14],\n",
              "       [15, 16, 17, 18, 19],\n",
              "       [20, 21, 22, 23, 24],\n",
              "       [25, 26, 27, 28, 29],\n",
              "       [30, 31, 32, 33, 34],\n",
              "       [35, 36, 37, 38, 39],\n",
              "       [40, 41, 42, 43, 44],\n",
              "       [45, 46, 47, 48, 49],\n",
              "       [50, 51, 52, 53, 54],\n",
              "       [55, 56, 57, 58, 59],\n",
              "       [60, 61, 62, 63, 64],\n",
              "       [65, 66, 67, 68, 69],\n",
              "       [70, 71, 72, 73, 74],\n",
              "       [75, 76, 77, 78, 79],\n",
              "       [80, 81, 82, 83, 84],\n",
              "       [85, 86, 87, 88, 89],\n",
              "       [90, 91, 92, 93, 94],\n",
              "       [95, 96, 97, 98, 99]])"
            ]
          },
          "metadata": {},
          "execution_count": 181
        }
      ]
    },
    {
      "cell_type": "code",
      "source": [
        "print(b[1,3]) # 1행 3열의 값\n",
        "print(b[1][3]) # 1행 3열의 값\n",
        "print(b[1:3, 2:4]) # 1행부터 3행미만, 2열부터 4열 미만의 데이터\n",
        "print(b[[1,3,5],[0,2,4]]) # 1행 0열, 3행 2열, 5행 4열의 데이터\n",
        "print(b[[1,3,5]]) # 1, 3, 5행의 데이터\n",
        "\n",
        "# [silcing,[fancy]]로는 사용할 수 있다.\n",
        "print(b[:,[0,2,4]]) # 모든 행의 0,2,4의 데이터\n",
        "\n",
        "print(b[[1,3,4],[0]]) # broadcast -> 1, 3, 4행의 0열의 데이터"
      ],
      "metadata": {
        "colab": {
          "base_uri": "https://localhost:8080/"
        },
        "id": "kGAZdIDaUT8w",
        "outputId": "98a0f653-4382-40f4-94e6-b1fac83272d9"
      },
      "execution_count": 190,
      "outputs": [
        {
          "output_type": "stream",
          "name": "stdout",
          "text": [
            "8\n",
            "8\n",
            "[[ 7  8]\n",
            " [12 13]]\n",
            "[ 5 17 29]\n",
            "[[ 5  6  7  8  9]\n",
            " [15 16 17 18 19]\n",
            " [25 26 27 28 29]]\n",
            "[[ 0  2  4]\n",
            " [ 5  7  9]\n",
            " [10 12 14]\n",
            " [15 17 19]\n",
            " [20 22 24]\n",
            " [25 27 29]\n",
            " [30 32 34]\n",
            " [35 37 39]\n",
            " [40 42 44]\n",
            " [45 47 49]\n",
            " [50 52 54]\n",
            " [55 57 59]\n",
            " [60 62 64]\n",
            " [65 67 69]\n",
            " [70 72 74]\n",
            " [75 77 79]\n",
            " [80 82 84]\n",
            " [85 87 89]\n",
            " [90 92 94]\n",
            " [95 97 99]]\n",
            "[ 5 15 20]\n"
          ]
        }
      ]
    },
    {
      "cell_type": "code",
      "source": [
        "m = np.array([[1,2],[3,4]])\n",
        "n = np.array([[2,2]])\n",
        "print(m)\n",
        "print(n)\n"
      ],
      "metadata": {
        "colab": {
          "base_uri": "https://localhost:8080/"
        },
        "id": "kU5fE9A5cWi3",
        "outputId": "5d92ff39-b5a0-491e-e3d6-e5b93e575070"
      },
      "execution_count": 199,
      "outputs": [
        {
          "output_type": "stream",
          "name": "stdout",
          "text": [
            "[[1 2]\n",
            " [3 4]]\n",
            "[[2 2]]\n"
          ]
        }
      ]
    },
    {
      "cell_type": "code",
      "source": [
        "# broadcast\n",
        "\n",
        "m+n # [1,2]+[2,2], [3,4]+[2,2]가 계산된다."
      ],
      "metadata": {
        "colab": {
          "base_uri": "https://localhost:8080/"
        },
        "id": "RFAxR4ZFd8k-",
        "outputId": "7761f782-8d5e-4500-c72a-cf00d10f615a"
      },
      "execution_count": 200,
      "outputs": [
        {
          "output_type": "execute_result",
          "data": {
            "text/plain": [
              "array([[3, 4],\n",
              "       [5, 6]])"
            ]
          },
          "metadata": {},
          "execution_count": 200
        }
      ]
    },
    {
      "cell_type": "code",
      "source": [
        "m = np.arange(12).reshape(2,6)\n",
        "print(m)\n",
        "n = np.array([[1,2,3,4,5,6]])\n",
        "print(n)\n",
        "print(m + n)"
      ],
      "metadata": {
        "colab": {
          "base_uri": "https://localhost:8080/"
        },
        "id": "JXzmuI9ZfGL3",
        "outputId": "ea446f57-8fae-4f51-f6df-14fb5812b9b6"
      },
      "execution_count": 232,
      "outputs": [
        {
          "output_type": "stream",
          "name": "stdout",
          "text": [
            "[[ 0  1  2  3  4  5]\n",
            " [ 6  7  8  9 10 11]]\n",
            "[[1 2 3 4 5 6]]\n",
            "[[ 1  3  5  7  9 11]\n",
            " [ 7  9 11 13 15 17]]\n"
          ]
        }
      ]
    },
    {
      "cell_type": "markdown",
      "source": [
        "### 3차원이상에서 차원 구분법"
      ],
      "metadata": {
        "id": "l7c16p6YhdL2"
      }
    },
    {
      "cell_type": "code",
      "source": [
        "# 3차원 구조 만들기\n",
        "# 기본적으로 대괄호의 개수로 구분하면 된다.\n",
        "\n",
        "b = np.arange(24).reshape(2,3,4) # 2면(2층, 2공간), 3행, 4열\n",
        "b"
      ],
      "metadata": {
        "colab": {
          "base_uri": "https://localhost:8080/"
        },
        "id": "rlYqMr4bhhcI",
        "outputId": "d8fe9306-608d-450f-efd0-ffd8d071f885"
      },
      "execution_count": 262,
      "outputs": [
        {
          "output_type": "execute_result",
          "data": {
            "text/plain": [
              "array([[[ 0,  1,  2,  3],\n",
              "        [ 4,  5,  6,  7],\n",
              "        [ 8,  9, 10, 11]],\n",
              "\n",
              "       [[12, 13, 14, 15],\n",
              "        [16, 17, 18, 19],\n",
              "        [20, 21, 22, 23]]])"
            ]
          },
          "metadata": {},
          "execution_count": 262
        }
      ]
    },
    {
      "cell_type": "code",
      "source": [
        "# indexing으로 2차원으로 반환하기.\n",
        "\n",
        "b[0]"
      ],
      "metadata": {
        "colab": {
          "base_uri": "https://localhost:8080/"
        },
        "id": "nvdMUYNth0xU",
        "outputId": "1d4d4776-bc02-4d48-9253-2fae10902bf9"
      },
      "execution_count": 242,
      "outputs": [
        {
          "output_type": "execute_result",
          "data": {
            "text/plain": [
              "array([[ 0,  1,  2,  3],\n",
              "       [ 4,  5,  6,  7],\n",
              "       [ 8,  9, 10, 11]])"
            ]
          },
          "metadata": {},
          "execution_count": 242
        }
      ]
    },
    {
      "cell_type": "code",
      "source": [
        "# indxing으로 1차원으로 반환하기.\n",
        "\n",
        "b[0][0]"
      ],
      "metadata": {
        "colab": {
          "base_uri": "https://localhost:8080/"
        },
        "id": "MbjW-DQjiGFV",
        "outputId": "64fb8841-8f1c-4746-9f44-39bc54861ff1"
      },
      "execution_count": 243,
      "outputs": [
        {
          "output_type": "execute_result",
          "data": {
            "text/plain": [
              "array([0, 1, 2, 3])"
            ]
          },
          "metadata": {},
          "execution_count": 243
        }
      ]
    },
    {
      "cell_type": "code",
      "source": [
        "b[1,1] # 1공간, 1행, 모든열"
      ],
      "metadata": {
        "colab": {
          "base_uri": "https://localhost:8080/"
        },
        "id": "A6IB8RIaioBt",
        "outputId": "347f706c-427a-4b44-c4ef-0c71ddceb0e1"
      },
      "execution_count": 244,
      "outputs": [
        {
          "output_type": "execute_result",
          "data": {
            "text/plain": [
              "array([16, 17, 18, 19])"
            ]
          },
          "metadata": {},
          "execution_count": 244
        }
      ]
    },
    {
      "cell_type": "code",
      "source": [
        "b[0,1,3] # 0공간, 1행, 3열"
      ],
      "metadata": {
        "colab": {
          "base_uri": "https://localhost:8080/"
        },
        "id": "oRZVmj5Kiq7_",
        "outputId": "f9dadeaa-3614-4367-85db-452e425e42b6"
      },
      "execution_count": 246,
      "outputs": [
        {
          "output_type": "execute_result",
          "data": {
            "text/plain": [
              "7"
            ]
          },
          "metadata": {},
          "execution_count": 246
        }
      ]
    },
    {
      "cell_type": "code",
      "source": [
        "b[:, 1, 3] # 모든공간, 1행 ,3열"
      ],
      "metadata": {
        "colab": {
          "base_uri": "https://localhost:8080/"
        },
        "id": "UJBwmsp7izEk",
        "outputId": "953eb900-bc9d-442c-9a71-651967d75971"
      },
      "execution_count": 247,
      "outputs": [
        {
          "output_type": "execute_result",
          "data": {
            "text/plain": [
              "array([ 7, 19])"
            ]
          },
          "metadata": {},
          "execution_count": 247
        }
      ]
    },
    {
      "cell_type": "code",
      "source": [
        "b[:, :, 1] # 모든공간, 모든행 ,1열"
      ],
      "metadata": {
        "colab": {
          "base_uri": "https://localhost:8080/"
        },
        "id": "a7L11YW54dWO",
        "outputId": "1c4f4f19-62dd-4b17-fc67-0ff0cb556c19"
      },
      "execution_count": 263,
      "outputs": [
        {
          "output_type": "execute_result",
          "data": {
            "text/plain": [
              "array([[ 1,  5,  9],\n",
              "       [13, 17, 21]])"
            ]
          },
          "metadata": {},
          "execution_count": 263
        }
      ]
    },
    {
      "cell_type": "code",
      "source": [
        "# braoadcast 이용해서 (4,4)만들기\n",
        "\n",
        "a = np.array([[0],[10],[20],[30]])\n",
        "print(a.shape)\n",
        "b = np.array([[1,2,3,4]])\n",
        "print(b.shape)\n",
        "a+b"
      ],
      "metadata": {
        "colab": {
          "base_uri": "https://localhost:8080/"
        },
        "id": "iS03aEr30hlA",
        "outputId": "39339d3a-e776-41ee-ffdc-ae1da6403638"
      },
      "execution_count": 260,
      "outputs": [
        {
          "output_type": "stream",
          "name": "stdout",
          "text": [
            "(4, 1)\n",
            "(1, 4)\n"
          ]
        },
        {
          "output_type": "execute_result",
          "data": {
            "text/plain": [
              "array([[ 1,  2,  3,  4],\n",
              "       [11, 12, 13, 14],\n",
              "       [21, 22, 23, 24],\n",
              "       [31, 32, 33, 34]])"
            ]
          },
          "metadata": {},
          "execution_count": 260
        }
      ]
    },
    {
      "cell_type": "markdown",
      "source": [
        "### fancy indexing과 indexing의 차이\n",
        " - indexing은 원래 차원에서 하나 감소해서 가져오고,  \n",
        "   fancy indexing은 원래 차원으로 가져온다."
      ],
      "metadata": {
        "id": "UHdINaBt42Vv"
      }
    },
    {
      "cell_type": "code",
      "source": [
        "# indexing은 차원이 하나 감소해서 가져온다.\n",
        "b[0]"
      ],
      "metadata": {
        "colab": {
          "base_uri": "https://localhost:8080/"
        },
        "id": "4NBw8ryI5Igg",
        "outputId": "01c5263b-bff0-4ceb-9e5d-0fdb6e9e1654"
      },
      "execution_count": 264,
      "outputs": [
        {
          "output_type": "execute_result",
          "data": {
            "text/plain": [
              "array([[ 0,  1,  2,  3],\n",
              "       [ 4,  5,  6,  7],\n",
              "       [ 8,  9, 10, 11]])"
            ]
          },
          "metadata": {},
          "execution_count": 264
        }
      ]
    },
    {
      "cell_type": "code",
      "source": [
        "# fancy indexing은 차원이 그대로 가져온다.\n",
        "b[[0]]"
      ],
      "metadata": {
        "colab": {
          "base_uri": "https://localhost:8080/"
        },
        "id": "NO_XA35F5QyF",
        "outputId": "38bbd4a8-6258-4d38-db5d-b66c80dae00b"
      },
      "execution_count": 280,
      "outputs": [
        {
          "output_type": "execute_result",
          "data": {
            "text/plain": [
              "array([[[ 0,  1,  2,  3],\n",
              "        [ 4,  5,  6,  7],\n",
              "        [ 8,  9, 10, 11]]])"
            ]
          },
          "metadata": {},
          "execution_count": 280
        }
      ]
    },
    {
      "cell_type": "markdown",
      "source": [
        "## Ellipsis\n",
        "...(Ellipsis)는 이후로 모든 것을 의미한다."
      ],
      "metadata": {
        "id": "lPHDsWkp6Ifk"
      }
    },
    {
      "cell_type": "code",
      "source": [
        "# b[0] = b[0,:,:] = b[0,...]\n",
        "\n",
        "b[0] # indexing의 생략 기법\n",
        "b[0,:,:] # slicing\n",
        "b[0,...] # ellipsis"
      ],
      "metadata": {
        "colab": {
          "base_uri": "https://localhost:8080/"
        },
        "id": "vBUBy8CQ6Ry6",
        "outputId": "0f8d8219-22f4-4d33-caa9-16e49f76c1c0"
      },
      "execution_count": 285,
      "outputs": [
        {
          "output_type": "execute_result",
          "data": {
            "text/plain": [
              "array([[ 0,  1,  2,  3],\n",
              "       [ 4,  5,  6,  7],\n",
              "       [ 8,  9, 10, 11]])"
            ]
          },
          "metadata": {},
          "execution_count": 285
        }
      ]
    },
    {
      "cell_type": "code",
      "source": [
        "# 숫자 1,5,9 가져오기\n",
        "\n",
        "b[0, : ,1]"
      ],
      "metadata": {
        "colab": {
          "base_uri": "https://localhost:8080/"
        },
        "id": "XjNGLlq27B3p",
        "outputId": "464354bc-61c4-4c7e-f660-ecffe64cadf9"
      },
      "execution_count": 289,
      "outputs": [
        {
          "output_type": "execute_result",
          "data": {
            "text/plain": [
              "array([1, 5, 9])"
            ]
          },
          "metadata": {},
          "execution_count": 289
        }
      ]
    },
    {
      "cell_type": "code",
      "source": [
        "b[[0], :, [1]]"
      ],
      "metadata": {
        "colab": {
          "base_uri": "https://localhost:8080/"
        },
        "id": "qK0W_qK_7QV1",
        "outputId": "7a63c2b1-3ae7-44f8-8da3-65e975c3dc99"
      },
      "execution_count": 293,
      "outputs": [
        {
          "output_type": "execute_result",
          "data": {
            "text/plain": [
              "array([[1, 5, 9]])"
            ]
          },
          "metadata": {},
          "execution_count": 293
        }
      ]
    },
    {
      "cell_type": "code",
      "source": [
        "# 숫자 1,5,9,3,7,11 가져오기\n",
        "b[0,:,[1,3]]"
      ],
      "metadata": {
        "colab": {
          "base_uri": "https://localhost:8080/"
        },
        "id": "kMRSqIuG7fwF",
        "outputId": "0ffbd7fa-cf74-457c-c032-787f50beda8b"
      },
      "execution_count": 295,
      "outputs": [
        {
          "output_type": "execute_result",
          "data": {
            "text/plain": [
              "array([[ 1,  5,  9],\n",
              "       [ 3,  7, 11]])"
            ]
          },
          "metadata": {},
          "execution_count": 295
        }
      ]
    },
    {
      "cell_type": "code",
      "source": [
        "# 숫자 4,5,6,7,16,17,18,19 가져오기\n",
        "b[:,1]"
      ],
      "metadata": {
        "colab": {
          "base_uri": "https://localhost:8080/"
        },
        "id": "_Qo6e-m7744U",
        "outputId": "5cb6daaa-90c5-445a-a320-5c211092c684"
      },
      "execution_count": 309,
      "outputs": [
        {
          "output_type": "execute_result",
          "data": {
            "text/plain": [
              "array([[ 4,  5,  6,  7],\n",
              "       [16, 17, 18, 19]])"
            ]
          },
          "metadata": {},
          "execution_count": 309
        }
      ]
    },
    {
      "cell_type": "code",
      "source": [
        "b[:,1:2,:]"
      ],
      "metadata": {
        "colab": {
          "base_uri": "https://localhost:8080/"
        },
        "id": "9QsNdz4f8mZn",
        "outputId": "c03db1e4-a51e-46d1-b7d9-17055dcf1008"
      },
      "execution_count": 310,
      "outputs": [
        {
          "output_type": "execute_result",
          "data": {
            "text/plain": [
              "array([[[ 4,  5,  6,  7]],\n",
              "\n",
              "       [[16, 17, 18, 19]]])"
            ]
          },
          "metadata": {},
          "execution_count": 310
        }
      ]
    },
    {
      "cell_type": "code",
      "source": [
        "b[[0,1],[1]]"
      ],
      "metadata": {
        "colab": {
          "base_uri": "https://localhost:8080/"
        },
        "id": "sOsDBGY28kCT",
        "outputId": "03b0ae49-8b35-4783-ebbd-c120210e867a"
      },
      "execution_count": 312,
      "outputs": [
        {
          "output_type": "execute_result",
          "data": {
            "text/plain": [
              "array([[ 4,  5,  6,  7],\n",
              "       [16, 17, 18, 19]])"
            ]
          },
          "metadata": {},
          "execution_count": 312
        }
      ]
    },
    {
      "cell_type": "code",
      "source": [
        "b[[0,1],1]"
      ],
      "metadata": {
        "colab": {
          "base_uri": "https://localhost:8080/"
        },
        "id": "Z5wXgy9w78ds",
        "outputId": "2131b973-a1f1-4459-a95f-7164487e4f3a"
      },
      "execution_count": 306,
      "outputs": [
        {
          "output_type": "execute_result",
          "data": {
            "text/plain": [
              "array([[ 4,  5,  6,  7],\n",
              "       [16, 17, 18, 19]])"
            ]
          },
          "metadata": {},
          "execution_count": 306
        }
      ]
    },
    {
      "cell_type": "code",
      "source": [
        "b[:,[1]]"
      ],
      "metadata": {
        "colab": {
          "base_uri": "https://localhost:8080/"
        },
        "id": "ihu1H8BR8Ju0",
        "outputId": "eb59e786-72c1-45bb-d21b-1fc0886d5155"
      },
      "execution_count": 303,
      "outputs": [
        {
          "output_type": "execute_result",
          "data": {
            "text/plain": [
              "array([[[ 4,  5,  6,  7]],\n",
              "\n",
              "       [[16, 17, 18, 19]]])"
            ]
          },
          "metadata": {},
          "execution_count": 303
        }
      ]
    },
    {
      "cell_type": "code",
      "source": [
        "# 숫자 3,7,11,15,19,23 가져오기\n",
        "b[:,:,-1]"
      ],
      "metadata": {
        "colab": {
          "base_uri": "https://localhost:8080/"
        },
        "id": "4BuZYZhG890v",
        "outputId": "5e2cfa7d-5ba5-4e71-d1ea-36cd2488228b"
      },
      "execution_count": 313,
      "outputs": [
        {
          "output_type": "execute_result",
          "data": {
            "text/plain": [
              "array([[ 3,  7, 11],\n",
              "       [15, 19, 23]])"
            ]
          },
          "metadata": {},
          "execution_count": 313
        }
      ]
    },
    {
      "cell_type": "code",
      "source": [
        "b[:,:,3:4]"
      ],
      "metadata": {
        "colab": {
          "base_uri": "https://localhost:8080/"
        },
        "id": "tAtr8FME9R3n",
        "outputId": "64359e93-3588-42b5-d17f-1e6e148ec30d"
      },
      "execution_count": 315,
      "outputs": [
        {
          "output_type": "execute_result",
          "data": {
            "text/plain": [
              "array([[[ 3],\n",
              "        [ 7],\n",
              "        [11]],\n",
              "\n",
              "       [[15],\n",
              "        [19],\n",
              "        [23]]])"
            ]
          },
          "metadata": {},
          "execution_count": 315
        }
      ]
    },
    {
      "cell_type": "code",
      "source": [
        "b[:,:,[-1]]"
      ],
      "metadata": {
        "colab": {
          "base_uri": "https://localhost:8080/"
        },
        "id": "e3m3kmOz9VAi",
        "outputId": "c5526f5a-e78d-4239-ff5e-a5d843de22ae"
      },
      "execution_count": 317,
      "outputs": [
        {
          "output_type": "execute_result",
          "data": {
            "text/plain": [
              "array([[[ 3],\n",
              "        [ 7],\n",
              "        [11]],\n",
              "\n",
              "       [[15],\n",
              "        [19],\n",
              "        [23]]])"
            ]
          },
          "metadata": {},
          "execution_count": 317
        }
      ]
    },
    {
      "cell_type": "code",
      "source": [
        "b[...,3]"
      ],
      "metadata": {
        "colab": {
          "base_uri": "https://localhost:8080/"
        },
        "id": "wKrlCxf49qSc",
        "outputId": "b15a2ff3-30b6-472a-de5d-68317b4047bc"
      },
      "execution_count": 324,
      "outputs": [
        {
          "output_type": "execute_result",
          "data": {
            "text/plain": [
              "array([[ 3,  7, 11],\n",
              "       [15, 19, 23]])"
            ]
          },
          "metadata": {},
          "execution_count": 324
        }
      ]
    },
    {
      "cell_type": "markdown",
      "source": [
        "## 줄임표현(...)\n",
        "출력해야할 데이터 수가 클 때 보이는 ...은 ellipsis와 다르다"
      ],
      "metadata": {
        "id": "0nuJmAS59szs"
      }
    },
    {
      "cell_type": "code",
      "source": [
        "# out에 나오는 ...은 단순히 줄임표현이다.\n",
        "np.arange(10000)"
      ],
      "metadata": {
        "colab": {
          "base_uri": "https://localhost:8080/"
        },
        "id": "vNBzFxew995L",
        "outputId": "a632e6fc-86e5-442f-af2a-4957c0896d37"
      },
      "execution_count": 326,
      "outputs": [
        {
          "output_type": "execute_result",
          "data": {
            "text/plain": [
              "array([   0,    1,    2, ..., 9997, 9998, 9999])"
            ]
          },
          "metadata": {},
          "execution_count": 326
        }
      ]
    },
    {
      "cell_type": "code",
      "source": [
        "# ... 양쪽의 출력값 개수 지정 (default 3개)\n",
        "\n",
        "np.set_printoptions(edgeitems=6)"
      ],
      "metadata": {
        "id": "3JcHzvei-N-M"
      },
      "execution_count": 328,
      "outputs": []
    },
    {
      "cell_type": "code",
      "source": [
        "np.arange(10000)"
      ],
      "metadata": {
        "colab": {
          "base_uri": "https://localhost:8080/"
        },
        "id": "wqoYNv30-TE0",
        "outputId": "149144c5-6343-4653-d213-d80d71b1097e"
      },
      "execution_count": 329,
      "outputs": [
        {
          "output_type": "execute_result",
          "data": {
            "text/plain": [
              "array([   0,    1,    2,    3,    4,    5, ..., 9994, 9995, 9996, 9997,\n",
              "       9998, 9999])"
            ]
          },
          "metadata": {},
          "execution_count": 329
        }
      ]
    },
    {
      "cell_type": "markdown",
      "source": [
        "## 연산\n",
        " - numpy연산의 기본은 두 개의 shape가 같아야한다."
      ],
      "metadata": {
        "id": "dg-WNF4F-tSw"
      }
    },
    {
      "cell_type": "code",
      "source": [
        "a = np.arange(12).reshape(3,4)\n",
        "a"
      ],
      "metadata": {
        "colab": {
          "base_uri": "https://localhost:8080/"
        },
        "id": "9Ku1trmi-1JA",
        "outputId": "b718acad-8c45-4dd2-c637-561da5c634e8"
      },
      "execution_count": 330,
      "outputs": [
        {
          "output_type": "execute_result",
          "data": {
            "text/plain": [
              "array([[ 0,  1,  2,  3],\n",
              "       [ 4,  5,  6,  7],\n",
              "       [ 8,  9, 10, 11]])"
            ]
          },
          "metadata": {},
          "execution_count": 330
        }
      ]
    },
    {
      "cell_type": "code",
      "source": [
        "a.shape\n",
        "b = np.arange(1,13).reshape(3,4)"
      ],
      "metadata": {
        "id": "7hfiozaT-7JI"
      },
      "execution_count": 335,
      "outputs": []
    },
    {
      "cell_type": "code",
      "source": [
        "b"
      ],
      "metadata": {
        "colab": {
          "base_uri": "https://localhost:8080/"
        },
        "id": "lpTQfdx9_Dlk",
        "outputId": "4ee6a082-1c81-40b9-fc70-3c595c81b114"
      },
      "execution_count": 337,
      "outputs": [
        {
          "output_type": "execute_result",
          "data": {
            "text/plain": [
              "array([[ 1,  2,  3,  4],\n",
              "       [ 5,  6,  7,  8],\n",
              "       [ 9, 10, 11, 12]])"
            ]
          },
          "metadata": {},
          "execution_count": 337
        }
      ]
    },
    {
      "cell_type": "markdown",
      "source": [
        "numpy는 elementwise로 vectorize 연산을 한다.  \n",
        "vectorize는 데이터의 연산을 일괄적으로 처리하는 기능이다."
      ],
      "metadata": {
        "id": "yP820GhnC1Cw"
      }
    },
    {
      "cell_type": "code",
      "source": [
        "# shape이 같으면 elementwise가 가능하다\n",
        "\n",
        "a+b"
      ],
      "metadata": {
        "colab": {
          "base_uri": "https://localhost:8080/"
        },
        "id": "WINU8jTG_IOc",
        "outputId": "aa144541-9ccd-4b87-eb89-dd1b3fb90b7b"
      },
      "execution_count": 338,
      "outputs": [
        {
          "output_type": "execute_result",
          "data": {
            "text/plain": [
              "array([[ 1,  3,  5,  7],\n",
              "       [ 9, 11, 13, 15],\n",
              "       [17, 19, 21, 23]])"
            ]
          },
          "metadata": {},
          "execution_count": 338
        }
      ]
    },
    {
      "cell_type": "code",
      "source": [
        "# python의 list에서 + 연산자는 list를 확장시킨다. (연결)\n",
        "[1,2,3] + [4,5,6]"
      ],
      "metadata": {
        "id": "QN6ZHEmGDsO3"
      },
      "execution_count": null,
      "outputs": []
    },
    {
      "cell_type": "code",
      "source": [
        "# list로 vectorize 하기\n",
        "\n",
        "@np.vectorize\n",
        "def plus(a,b):\n",
        "  return a+b\n",
        "\n",
        "plus([1,2,3],[4,5,6])"
      ],
      "metadata": {
        "colab": {
          "base_uri": "https://localhost:8080/"
        },
        "id": "SVcNW7nPD59I",
        "outputId": "32664a49-1ecb-4d7f-e0e8-06804503eb06"
      },
      "execution_count": 341,
      "outputs": [
        {
          "output_type": "execute_result",
          "data": {
            "text/plain": [
              "array([5, 7, 9])"
            ]
          },
          "metadata": {},
          "execution_count": 341
        }
      ]
    },
    {
      "cell_type": "code",
      "source": [
        "a = np.arange(6).reshape(2,3)\n",
        "a"
      ],
      "metadata": {
        "colab": {
          "base_uri": "https://localhost:8080/"
        },
        "id": "IlQJ1pHEEVsm",
        "outputId": "7ca6faa5-b354-4077-c6d8-84ede7511460"
      },
      "execution_count": 351,
      "outputs": [
        {
          "output_type": "execute_result",
          "data": {
            "text/plain": [
              "array([[0, 1, 2],\n",
              "       [3, 4, 5]])"
            ]
          },
          "metadata": {},
          "execution_count": 351
        }
      ]
    },
    {
      "cell_type": "code",
      "source": [
        "b = np.arange(6,12).reshape(2,3)\n",
        "b"
      ],
      "metadata": {
        "colab": {
          "base_uri": "https://localhost:8080/"
        },
        "id": "aPYFvOeeEZh6",
        "outputId": "c3898ebe-0cf3-49df-9541-206e7f75083c"
      },
      "execution_count": 352,
      "outputs": [
        {
          "output_type": "execute_result",
          "data": {
            "text/plain": [
              "array([[ 6,  7,  8],\n",
              "       [ 9, 10, 11]])"
            ]
          },
          "metadata": {},
          "execution_count": 352
        }
      ]
    },
    {
      "cell_type": "code",
      "source": [
        "# array에서는 각 위치의 원소끼리 곱하기가 가능하다.\n",
        "\n",
        "a*b # elementwise"
      ],
      "metadata": {
        "colab": {
          "base_uri": "https://localhost:8080/"
        },
        "id": "2VbAb203EedL",
        "outputId": "6a06e515-f5d4-40b6-b5ea-96c718fe8de2"
      },
      "execution_count": 345,
      "outputs": [
        {
          "output_type": "execute_result",
          "data": {
            "text/plain": [
              "array([[ 0,  7, 16],\n",
              "       [27, 40, 55]])"
            ]
          },
          "metadata": {},
          "execution_count": 345
        }
      ]
    },
    {
      "cell_type": "code",
      "source": [
        "# python에서 list끼리 *(곱하기)는 불가능하다.\n",
        "\n",
        "a = [1,2,3]\n",
        "b = [4,5,6]\n",
        "\n",
        "# a*b # TypeError: can't multiply sequence by non-int of type 'list'"
      ],
      "metadata": {
        "id": "qBnUVe-VEqDa"
      },
      "execution_count": 347,
      "outputs": []
    },
    {
      "cell_type": "code",
      "source": [
        "# 매트릭스 함수를 이용한 행렬 생성\n",
        "# matirx에서는 행렬곱으로 *와 @를 모두 사용 가능하다.\n",
        "\n",
        "c = np.matrix([[1,2],[3,4]])\n",
        "c # <class 'numpy.matrix'>"
      ],
      "metadata": {
        "colab": {
          "base_uri": "https://localhost:8080/"
        },
        "id": "AUmfr0uOFHCH",
        "outputId": "b39be000-ffc7-489a-f19a-95588ab7159f"
      },
      "execution_count": 348,
      "outputs": [
        {
          "output_type": "execute_result",
          "data": {
            "text/plain": [
              "matrix([[1, 2],\n",
              "        [3, 4]])"
            ]
          },
          "metadata": {},
          "execution_count": 348
        }
      ]
    },
    {
      "cell_type": "code",
      "source": [
        "c*c"
      ],
      "metadata": {
        "colab": {
          "base_uri": "https://localhost:8080/"
        },
        "id": "8sfTF7bYLo_W",
        "outputId": "7c697aa9-40ed-4d8d-db71-f61f26171f2c"
      },
      "execution_count": 391,
      "outputs": [
        {
          "output_type": "execute_result",
          "data": {
            "text/plain": [
              "matrix([[ 7, 10],\n",
              "        [15, 22]])"
            ]
          },
          "metadata": {},
          "execution_count": 391
        }
      ]
    },
    {
      "cell_type": "code",
      "source": [
        "c@c"
      ],
      "metadata": {
        "colab": {
          "base_uri": "https://localhost:8080/"
        },
        "id": "-Cl8-Vy1LqXY",
        "outputId": "3fd40c56-6c3f-4aba-e574-d9710c45aabf"
      },
      "execution_count": 392,
      "outputs": [
        {
          "output_type": "execute_result",
          "data": {
            "text/plain": [
              "matrix([[ 7, 10],\n",
              "        [15, 22]])"
            ]
          },
          "metadata": {},
          "execution_count": 392
        }
      ]
    },
    {
      "cell_type": "markdown",
      "source": [
        "ndarray에서 행렬곱 연산자는 @이다.     \n",
        "2행 3열 @ 3행 2열 -> 계산 (3열,3행) 결과 (2행, 2열)  \n",
        "계산하는 행과 열의 shape이 맞아야한다.  \n",
        "python 재단에서 numpy를 위해 만들어준 연산자이다."
      ],
      "metadata": {
        "id": "FQjpT7gnHlkj"
      }
    },
    {
      "cell_type": "code",
      "source": [
        "a= np.arange(6).reshape(2,3)\n",
        "b= np.arange(1,7).reshape(3,2)\n",
        "\n",
        "a@b"
      ],
      "metadata": {
        "colab": {
          "base_uri": "https://localhost:8080/"
        },
        "id": "Y3J2s93nHtIB",
        "outputId": "a98ed57c-e4bb-4a75-9915-7e4be2d32dc4"
      },
      "execution_count": 361,
      "outputs": [
        {
          "output_type": "execute_result",
          "data": {
            "text/plain": [
              "array([[13, 16],\n",
              "       [40, 52]])"
            ]
          },
          "metadata": {},
          "execution_count": 361
        }
      ]
    },
    {
      "cell_type": "markdown",
      "source": [
        "행렬곱을 하기 위해서는 shape가 맞아야한다.  \n",
        "T는 transpose(전치)의 약자이다."
      ],
      "metadata": {
        "id": "GH2AelQEITf7"
      }
    },
    {
      "cell_type": "code",
      "source": [
        "print(a)\n",
        "print(a.shape)\n",
        "print('\\n')\n",
        "print(a.T)\n",
        "print(a.T.shape)"
      ],
      "metadata": {
        "colab": {
          "base_uri": "https://localhost:8080/"
        },
        "id": "y2tcJoVPIaS5",
        "outputId": "3f13943c-ccbc-44b9-c228-b336d0492276"
      },
      "execution_count": 381,
      "outputs": [
        {
          "output_type": "stream",
          "name": "stdout",
          "text": [
            "[[0 1 2]\n",
            " [3 4 5]]\n",
            "(2, 3)\n",
            "\n",
            "\n",
            "[[0 3]\n",
            " [1 4]\n",
            " [2 5]]\n",
            "(3, 2)\n"
          ]
        }
      ]
    },
    {
      "cell_type": "code",
      "source": [
        "a @ a.T"
      ],
      "metadata": {
        "colab": {
          "base_uri": "https://localhost:8080/"
        },
        "id": "EumBPdJPIltI",
        "outputId": "5670acb1-45eb-4db6-9fed-5e117d07ed79"
      },
      "execution_count": 378,
      "outputs": [
        {
          "output_type": "execute_result",
          "data": {
            "text/plain": [
              "array([[ 5, 14],\n",
              "       [14, 50]])"
            ]
          },
          "metadata": {},
          "execution_count": 378
        }
      ]
    },
    {
      "cell_type": "code",
      "source": [
        "a = np.arange(1,17).reshape(1,16)\n",
        "a"
      ],
      "metadata": {
        "colab": {
          "base_uri": "https://localhost:8080/"
        },
        "id": "obUU0XlnKA4K",
        "outputId": "5945b901-104a-4d12-d0da-d06169489261"
      },
      "execution_count": 427,
      "outputs": [
        {
          "output_type": "execute_result",
          "data": {
            "text/plain": [
              "array([[ 1,  2,  3,  4,  5,  6,  7,  8,  9, 10, 11, 12, 13, 14, 15, 16]])"
            ]
          },
          "metadata": {},
          "execution_count": 427
        }
      ]
    },
    {
      "cell_type": "code",
      "source": [
        "a.T"
      ],
      "metadata": {
        "colab": {
          "base_uri": "https://localhost:8080/"
        },
        "id": "cO-IT_YOK7tg",
        "outputId": "7d73a551-a65e-4488-f050-d43ec1657624"
      },
      "execution_count": 405,
      "outputs": [
        {
          "output_type": "execute_result",
          "data": {
            "text/plain": [
              "array([[ 1],\n",
              "       [ 2],\n",
              "       [ 3],\n",
              "       [ 4],\n",
              "       [ 5],\n",
              "       [ 6],\n",
              "       [ 7],\n",
              "       [ 8],\n",
              "       [ 9],\n",
              "       [10],\n",
              "       [11],\n",
              "       [12],\n",
              "       [13],\n",
              "       [14],\n",
              "       [15],\n",
              "       [16]])"
            ]
          },
          "metadata": {},
          "execution_count": 405
        }
      ]
    },
    {
      "cell_type": "code",
      "source": [
        "a @ a.T"
      ],
      "metadata": {
        "colab": {
          "base_uri": "https://localhost:8080/"
        },
        "id": "g1E27k1ZK-Zo",
        "outputId": "770527f9-0586-4bcf-8960-488f400ca694"
      },
      "execution_count": 394,
      "outputs": [
        {
          "output_type": "execute_result",
          "data": {
            "text/plain": [
              "array([[1496]])"
            ]
          },
          "metadata": {},
          "execution_count": 394
        }
      ]
    },
    {
      "cell_type": "markdown",
      "source": [
        "함수방법으로 np.dot()함수를 사용할 수 있다."
      ],
      "metadata": {
        "id": "9MK1lYSmL7K9"
      }
    },
    {
      "cell_type": "code",
      "source": [
        "# function 방식\n",
        "\n",
        "np.dot(a, a.T)"
      ],
      "metadata": {
        "colab": {
          "base_uri": "https://localhost:8080/"
        },
        "id": "Uw_Rts7TL-6A",
        "outputId": "f4e6ad2a-0eb4-484a-b856-37a86416456c"
      },
      "execution_count": 396,
      "outputs": [
        {
          "output_type": "execute_result",
          "data": {
            "text/plain": [
              "array([[1496]])"
            ]
          },
          "metadata": {},
          "execution_count": 396
        }
      ]
    },
    {
      "cell_type": "code",
      "source": [
        "np.dot(c, c)"
      ],
      "metadata": {
        "colab": {
          "base_uri": "https://localhost:8080/"
        },
        "id": "h01aX-M3MF9E",
        "outputId": "f348d54b-57fe-43d4-c430-b78d279373dc"
      },
      "execution_count": 397,
      "outputs": [
        {
          "output_type": "execute_result",
          "data": {
            "text/plain": [
              "matrix([[ 7, 10],\n",
              "        [15, 22]])"
            ]
          },
          "metadata": {},
          "execution_count": 397
        }
      ]
    },
    {
      "cell_type": "code",
      "source": [
        "# method 방식\n",
        "\n",
        "a.dot(a.T)"
      ],
      "metadata": {
        "colab": {
          "base_uri": "https://localhost:8080/"
        },
        "id": "N6VD-i64MxMr",
        "outputId": "f295d80b-7856-4080-f683-c3601b04fbbe"
      },
      "execution_count": 406,
      "outputs": [
        {
          "output_type": "execute_result",
          "data": {
            "text/plain": [
              "array([[1496]])"
            ]
          },
          "metadata": {},
          "execution_count": 406
        }
      ]
    },
    {
      "cell_type": "markdown",
      "source": [
        "## strides\n",
        "strides는 다음 원소끼리의 메모리 크기를 차원별로 알려준다.  \n",
        "c의 포인터 개념을 알고 있으면 이해가 쉽다."
      ],
      "metadata": {
        "id": "esusGOfvQ6mp"
      }
    },
    {
      "cell_type": "code",
      "source": [
        "a = np.arange(12).reshape(3,4)\n",
        "a"
      ],
      "metadata": {
        "colab": {
          "base_uri": "https://localhost:8080/"
        },
        "id": "UQ1NSqRgRCO1",
        "outputId": "d166855a-129f-4cac-afb3-30ca7ce46e16"
      },
      "execution_count": 407,
      "outputs": [
        {
          "output_type": "execute_result",
          "data": {
            "text/plain": [
              "array([[ 0,  1,  2,  3],\n",
              "       [ 4,  5,  6,  7],\n",
              "       [ 8,  9, 10, 11]])"
            ]
          },
          "metadata": {},
          "execution_count": 407
        }
      ]
    },
    {
      "cell_type": "code",
      "source": [
        "# 행의 메모리 간격은 32bytes\n",
        "# 열의 메모리 간격은 8bytes\n",
        "\n",
        "a.strides"
      ],
      "metadata": {
        "colab": {
          "base_uri": "https://localhost:8080/"
        },
        "id": "oHgBhG62RGRL",
        "outputId": "fc77ab29-95fd-437b-bcf9-6d7fc4da2585"
      },
      "execution_count": 408,
      "outputs": [
        {
          "output_type": "execute_result",
          "data": {
            "text/plain": [
              "(32, 8)"
            ]
          },
          "metadata": {},
          "execution_count": 408
        }
      ]
    },
    {
      "cell_type": "code",
      "source": [
        "a.dtype"
      ],
      "metadata": {
        "colab": {
          "base_uri": "https://localhost:8080/"
        },
        "id": "MtE5ZwujSG2M",
        "outputId": "8d5d2b9b-2f60-4bd5-95eb-4f0b350d4047"
      },
      "execution_count": 409,
      "outputs": [
        {
          "output_type": "execute_result",
          "data": {
            "text/plain": [
              "dtype('int64')"
            ]
          },
          "metadata": {},
          "execution_count": 409
        }
      ]
    },
    {
      "cell_type": "code",
      "source": [
        "# 열의 원소 갯수 * itemsize = 행의 메모리 간격\n",
        "# itemsize = 열의 메모리 간격\n",
        "\n",
        "a.itemsize"
      ],
      "metadata": {
        "colab": {
          "base_uri": "https://localhost:8080/"
        },
        "id": "80PfGYZvSHuX",
        "outputId": "7101c957-4084-456d-b07d-1f62926192ca"
      },
      "execution_count": 410,
      "outputs": [
        {
          "output_type": "execute_result",
          "data": {
            "text/plain": [
              "8"
            ]
          },
          "metadata": {},
          "execution_count": 410
        }
      ]
    },
    {
      "cell_type": "markdown",
      "source": [
        "### axis\n",
        " aixs는 다차원 배열을 연산할 때 기준이 되는 축이다."
      ],
      "metadata": {
        "id": "a4HuNQ6ySeYU"
      }
    },
    {
      "cell_type": "code",
      "source": [
        "a = np.arange(12).reshape(3,4)\n",
        "a"
      ],
      "metadata": {
        "colab": {
          "base_uri": "https://localhost:8080/"
        },
        "id": "k8uEMsa5SieG",
        "outputId": "ec077ac0-9eb2-44c9-fc31-52f57c112134"
      },
      "execution_count": 431,
      "outputs": [
        {
          "output_type": "execute_result",
          "data": {
            "text/plain": [
              "array([[ 0,  1,  2,  3],\n",
              "       [ 4,  5,  6,  7],\n",
              "       [ 8,  9, 10, 11]])"
            ]
          },
          "metadata": {},
          "execution_count": 431
        }
      ]
    },
    {
      "cell_type": "code",
      "source": [
        "# numpy에서도 sum이 제공이 된다.\n",
        "\n",
        "np.sum(a)"
      ],
      "metadata": {
        "colab": {
          "base_uri": "https://localhost:8080/"
        },
        "id": "D2QnEIV8Sj_W",
        "outputId": "c89c2c71-d1ff-452d-808b-84db2e8e51c1"
      },
      "execution_count": 432,
      "outputs": [
        {
          "output_type": "execute_result",
          "data": {
            "text/plain": [
              "66"
            ]
          },
          "metadata": {},
          "execution_count": 432
        }
      ]
    },
    {
      "cell_type": "code",
      "source": [
        "# a배열은 2차원이므로 axis = 0은 행기준\n",
        "\n",
        "np.sum(a, axis=0)"
      ],
      "metadata": {
        "colab": {
          "base_uri": "https://localhost:8080/"
        },
        "id": "VkLErH1lS8vK",
        "outputId": "5484b993-b016-4d22-9b37-dbff4d1ec117"
      },
      "execution_count": 438,
      "outputs": [
        {
          "output_type": "execute_result",
          "data": {
            "text/plain": [
              "array([12, 15, 18, 21])"
            ]
          },
          "metadata": {},
          "execution_count": 438
        }
      ]
    },
    {
      "cell_type": "code",
      "source": [
        "# a배열은 2차원이므로 axis = 1은 열기준\n",
        "\n",
        "\n",
        "np.sum(a, axis=1)"
      ],
      "metadata": {
        "colab": {
          "base_uri": "https://localhost:8080/"
        },
        "id": "jrZHsiY4U1yu",
        "outputId": "eda0a5b6-0df1-47df-e0c1-faa335e46db6"
      },
      "execution_count": 440,
      "outputs": [
        {
          "output_type": "execute_result",
          "data": {
            "text/plain": [
              "array([ 6, 22, 38])"
            ]
          },
          "metadata": {},
          "execution_count": 440
        }
      ]
    },
    {
      "cell_type": "code",
      "source": [
        "b = np.arange(24).reshape(2,3,4)\n",
        "b"
      ],
      "metadata": {
        "colab": {
          "base_uri": "https://localhost:8080/"
        },
        "id": "FrnQL1gGUNl5",
        "outputId": "dbf72c66-431d-4894-bb89-e25088efd191"
      },
      "execution_count": 436,
      "outputs": [
        {
          "output_type": "execute_result",
          "data": {
            "text/plain": [
              "array([[[ 0,  1,  2,  3],\n",
              "        [ 4,  5,  6,  7],\n",
              "        [ 8,  9, 10, 11]],\n",
              "\n",
              "       [[12, 13, 14, 15],\n",
              "        [16, 17, 18, 19],\n",
              "        [20, 21, 22, 23]]])"
            ]
          },
          "metadata": {},
          "execution_count": 436
        }
      ]
    },
    {
      "cell_type": "code",
      "source": [
        "# b배열은 3차원이므로 axis = 0은 층기준\n",
        "\n",
        "np.sum(b, axis=0)"
      ],
      "metadata": {
        "colab": {
          "base_uri": "https://localhost:8080/"
        },
        "id": "dYve2uzpUo-m",
        "outputId": "887c4ced-e4be-4484-8529-495bd68a5598"
      },
      "execution_count": 445,
      "outputs": [
        {
          "output_type": "execute_result",
          "data": {
            "text/plain": [
              "array([[12, 14, 16, 18],\n",
              "       [20, 22, 24, 26],\n",
              "       [28, 30, 32, 34]])"
            ]
          },
          "metadata": {},
          "execution_count": 445
        }
      ]
    },
    {
      "cell_type": "code",
      "source": [
        "# 3차원 array이기에 행기준일시 array가 2개 리턴된다.\n",
        "\n",
        "np.sum(b, axis=1)"
      ],
      "metadata": {
        "colab": {
          "base_uri": "https://localhost:8080/"
        },
        "id": "DzLWE64DVQzO",
        "outputId": "38aa15f4-e02a-498f-b9e2-35a1c972be49"
      },
      "execution_count": 447,
      "outputs": [
        {
          "output_type": "execute_result",
          "data": {
            "text/plain": [
              "array([[12, 15, 18, 21],\n",
              "       [48, 51, 54, 57]])"
            ]
          },
          "metadata": {},
          "execution_count": 447
        }
      ]
    },
    {
      "cell_type": "code",
      "source": [
        "# 3차원 array이기에 열기준일시 array가 2개 리턴된다.\n",
        "\n",
        "np.sum(b, axis=2)"
      ],
      "metadata": {
        "colab": {
          "base_uri": "https://localhost:8080/"
        },
        "id": "XjK_TYY2VdZl",
        "outputId": "0da1e676-ef47-4e1d-bd1a-eb8d424df20f"
      },
      "execution_count": 449,
      "outputs": [
        {
          "output_type": "execute_result",
          "data": {
            "text/plain": [
              "array([[ 6, 22, 38],\n",
              "       [54, 70, 86]])"
            ]
          },
          "metadata": {},
          "execution_count": 449
        }
      ]
    },
    {
      "cell_type": "code",
      "source": [
        "c = np.arange(16).reshape(2,2,2,2)\n",
        "c"
      ],
      "metadata": {
        "colab": {
          "base_uri": "https://localhost:8080/"
        },
        "id": "-JXutxTWWskR",
        "outputId": "1f7bbae2-377b-4f1a-e05b-baffe69d12e6"
      },
      "execution_count": 451,
      "outputs": [
        {
          "output_type": "execute_result",
          "data": {
            "text/plain": [
              "array([[[[ 0,  1],\n",
              "         [ 2,  3]],\n",
              "\n",
              "        [[ 4,  5],\n",
              "         [ 6,  7]]],\n",
              "\n",
              "\n",
              "       [[[ 8,  9],\n",
              "         [10, 11]],\n",
              "\n",
              "        [[12, 13],\n",
              "         [14, 15]]]])"
            ]
          },
          "metadata": {},
          "execution_count": 451
        }
      ]
    },
    {
      "cell_type": "code",
      "source": [
        "np.sum(c, axis=0)"
      ],
      "metadata": {
        "colab": {
          "base_uri": "https://localhost:8080/"
        },
        "id": "Oo-uP93aW1O3",
        "outputId": "6e749315-638c-4231-c713-d7dbd619f0ac"
      },
      "execution_count": 452,
      "outputs": [
        {
          "output_type": "execute_result",
          "data": {
            "text/plain": [
              "array([[[ 8, 10],\n",
              "        [12, 14]],\n",
              "\n",
              "       [[16, 18],\n",
              "        [20, 22]]])"
            ]
          },
          "metadata": {},
          "execution_count": 452
        }
      ]
    },
    {
      "cell_type": "code",
      "source": [
        "np.sum(c, axis=1)"
      ],
      "metadata": {
        "colab": {
          "base_uri": "https://localhost:8080/"
        },
        "id": "MUF3YyBFW-d2",
        "outputId": "08f261dc-012b-48c7-a761-357f4dc6b7fa"
      },
      "execution_count": 454,
      "outputs": [
        {
          "output_type": "execute_result",
          "data": {
            "text/plain": [
              "array([[[ 4,  6],\n",
              "        [ 8, 10]],\n",
              "\n",
              "       [[20, 22],\n",
              "        [24, 26]]])"
            ]
          },
          "metadata": {},
          "execution_count": 454
        }
      ]
    },
    {
      "cell_type": "code",
      "source": [
        "np.sum(c, axis=2)"
      ],
      "metadata": {
        "colab": {
          "base_uri": "https://localhost:8080/"
        },
        "id": "E-b-6ATYXJtf",
        "outputId": "34b8d5d7-d8a9-4b30-f239-cada049c4540"
      },
      "execution_count": 456,
      "outputs": [
        {
          "output_type": "execute_result",
          "data": {
            "text/plain": [
              "array([[[ 2,  4],\n",
              "        [10, 12]],\n",
              "\n",
              "       [[18, 20],\n",
              "        [26, 28]]])"
            ]
          },
          "metadata": {},
          "execution_count": 456
        }
      ]
    },
    {
      "cell_type": "code",
      "source": [
        "np.sum(c, axis=3)"
      ],
      "metadata": {
        "colab": {
          "base_uri": "https://localhost:8080/"
        },
        "id": "P7oFjCj2XSCM",
        "outputId": "845801b8-0a51-4aaf-8dd3-767bf06b418f"
      },
      "execution_count": 457,
      "outputs": [
        {
          "output_type": "execute_result",
          "data": {
            "text/plain": [
              "array([[[ 1,  5],\n",
              "        [ 9, 13]],\n",
              "\n",
              "       [[17, 21],\n",
              "        [25, 29]]])"
            ]
          },
          "metadata": {},
          "execution_count": 457
        }
      ]
    },
    {
      "cell_type": "code",
      "source": [
        "c = np.arange(32).reshape(2,2,2,2,2)\n",
        "c"
      ],
      "metadata": {
        "colab": {
          "base_uri": "https://localhost:8080/"
        },
        "id": "e4BKADeKYlvo",
        "outputId": "e5309812-e5e5-4062-fab0-01d37aed35cb"
      },
      "execution_count": 459,
      "outputs": [
        {
          "output_type": "execute_result",
          "data": {
            "text/plain": [
              "array([[[[[ 0,  1],\n",
              "          [ 2,  3]],\n",
              "\n",
              "         [[ 4,  5],\n",
              "          [ 6,  7]]],\n",
              "\n",
              "\n",
              "        [[[ 8,  9],\n",
              "          [10, 11]],\n",
              "\n",
              "         [[12, 13],\n",
              "          [14, 15]]]],\n",
              "\n",
              "\n",
              "\n",
              "       [[[[16, 17],\n",
              "          [18, 19]],\n",
              "\n",
              "         [[20, 21],\n",
              "          [22, 23]]],\n",
              "\n",
              "\n",
              "        [[[24, 25],\n",
              "          [26, 27]],\n",
              "\n",
              "         [[28, 29],\n",
              "          [30, 31]]]]])"
            ]
          },
          "metadata": {},
          "execution_count": 459
        }
      ]
    },
    {
      "cell_type": "code",
      "source": [
        "np.sum(c, axis=1)"
      ],
      "metadata": {
        "colab": {
          "base_uri": "https://localhost:8080/"
        },
        "id": "-Hd-qnBYZLqw",
        "outputId": "8e66d6e2-a314-4316-ac44-186ce6bd923a"
      },
      "execution_count": 473,
      "outputs": [
        {
          "output_type": "execute_result",
          "data": {
            "text/plain": [
              "array([[[[ 8, 10],\n",
              "         [12, 14]],\n",
              "\n",
              "        [[16, 18],\n",
              "         [20, 22]]],\n",
              "\n",
              "\n",
              "       [[[40, 42],\n",
              "         [44, 46]],\n",
              "\n",
              "        [[48, 50],\n",
              "         [52, 54]]]])"
            ]
          },
          "metadata": {},
          "execution_count": 473
        }
      ]
    },
    {
      "cell_type": "markdown",
      "source": [
        "## array 모양 바꾸기\n",
        "(1) reshape\n",
        " - reshape은 차원을 바꿔주는 기능을 한다.\n",
        " - 음수를 쓰면, 알아서 shape을 맞춘다.\n",
        " - 음수값은 아무거나 상관없다."
      ],
      "metadata": {
        "id": "QWXo9B8vZ5W3"
      }
    },
    {
      "cell_type": "code",
      "source": [
        "a = np.arange(24)\n",
        "a"
      ],
      "metadata": {
        "colab": {
          "base_uri": "https://localhost:8080/"
        },
        "id": "T6HMsENaaDRY",
        "outputId": "8d4b8ce4-ea92-46c7-beaf-a7a5c7b39053"
      },
      "execution_count": 469,
      "outputs": [
        {
          "output_type": "execute_result",
          "data": {
            "text/plain": [
              "array([ 0,  1,  2,  3,  4,  5,  6,  7,  8,  9, 10, 11, 12, 13, 14, 15, 16,\n",
              "       17, 18, 19, 20, 21, 22, 23])"
            ]
          },
          "metadata": {},
          "execution_count": 469
        }
      ]
    }
  ]
}