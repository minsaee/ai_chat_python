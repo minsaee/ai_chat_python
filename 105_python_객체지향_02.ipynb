{
  "nbformat": 4,
  "nbformat_minor": 0,
  "metadata": {
    "colab": {
      "provenance": [],
      "authorship_tag": "ABX9TyMcYiULax76B9JSmIYvF/KM",
      "include_colab_link": true
    },
    "kernelspec": {
      "name": "python3",
      "display_name": "Python 3"
    },
    "language_info": {
      "name": "python"
    }
  },
  "cells": [
    {
      "cell_type": "markdown",
      "metadata": {
        "id": "view-in-github",
        "colab_type": "text"
      },
      "source": [
        "<a href=\"https://colab.research.google.com/github/minsaee/ai_chat_python/blob/master/105_python_%EA%B0%9D%EC%B2%B4%EC%A7%80%ED%96%A5_02.ipynb\" target=\"_parent\"><img src=\"https://colab.research.google.com/assets/colab-badge.svg\" alt=\"Open In Colab\"/></a>"
      ]
    },
    {
      "cell_type": "markdown",
      "source": [
        "### __ repr __과 __ str __"
      ],
      "metadata": {
        "id": "ihdJ_F77fUFC"
      }
    },
    {
      "cell_type": "code",
      "source": [
        "class B:\n",
        "    def __init__(self):\n",
        "        '''doc'''\n",
        "        print(\"init\")\n",
        "\n",
        "    def __repr__(self):\n",
        "        print('repr')\n",
        "        return '1'\n",
        "\n",
        "    def __str__(self):\n",
        "        print('str')\n",
        "        return '2'"
      ],
      "metadata": {
        "id": "1HsT_HqDfFJk"
      },
      "execution_count": null,
      "outputs": []
    },
    {
      "cell_type": "markdown",
      "source": [
        "### 정리\n",
        "반드시 기억해야 함  \n",
        "\n",
        "- type = __ class __\n",
        "- dir  = __ dir __\n",
        "- vars = __ dict __"
      ],
      "metadata": {
        "id": "XXKqF5TUfA0L"
      }
    },
    {
      "cell_type": "markdown",
      "source": [
        "## 다이아몬드 상속구조"
      ],
      "metadata": {
        "id": "JyvRZnPVS7wo"
      }
    },
    {
      "cell_type": "code",
      "source": [
        "class Base:\n",
        "  pass\n",
        "\n",
        "class A(Base):\n",
        "  a = 1\n",
        "\n",
        "class B(Base):\n",
        "  b = 1\n",
        "\n",
        "class C(A,B):\n",
        "  pass"
      ],
      "metadata": {
        "id": "AFtGNx2nchEZ"
      },
      "execution_count": null,
      "outputs": []
    },
    {
      "cell_type": "code",
      "source": [
        "C.mro() # .mro -> 처리되는 순서를 나타냄"
      ],
      "metadata": {
        "colab": {
          "base_uri": "https://localhost:8080/"
        },
        "id": "imnHrv-KdPTu",
        "outputId": "1a6307b6-3a76-462f-b4f2-550d45fe5dbe"
      },
      "execution_count": null,
      "outputs": [
        {
          "output_type": "execute_result",
          "data": {
            "text/plain": [
              "[__main__.C, __main__.A, __main__.B, __main__.Base, object]"
            ]
          },
          "metadata": {},
          "execution_count": 2
        }
      ]
    },
    {
      "cell_type": "code",
      "source": [
        "class Base:\n",
        "  def __init__(self):\n",
        "    print('Base')\n",
        "\n",
        "class A(Base):\n",
        "  a = 1\n",
        "\n",
        "  def __init__(self):\n",
        "    print('A')\n",
        "\n",
        "class B(Base):\n",
        "  b = 1\n",
        "\n",
        "  def __init__(self):\n",
        "    print('B')\n",
        "\n",
        "class C(A,B):\n",
        "  def __init__(self):\n",
        "    A.__init__(self)\n",
        "    B.__init__(self)\n",
        "    Base.__init__(self)\n",
        "    print('C')"
      ],
      "metadata": {
        "id": "3vEgIFVqdS6D"
      },
      "execution_count": null,
      "outputs": []
    },
    {
      "cell_type": "markdown",
      "source": [
        "C의 __init__에서 실행된 순서대로 print 출력된다.   \n",
        "상속받을 때 부모의 __init__가 실행되는 순서를 파악하기 위함이다."
      ],
      "metadata": {
        "id": "2kdJKOEShc99"
      }
    },
    {
      "cell_type": "code",
      "source": [
        "c = C()"
      ],
      "metadata": {
        "colab": {
          "base_uri": "https://localhost:8080/"
        },
        "id": "C7Nxu8Q-fVpC",
        "outputId": "29ad05c8-992e-4dbb-99d9-5dd0b32a78f6"
      },
      "execution_count": null,
      "outputs": [
        {
          "output_type": "stream",
          "name": "stdout",
          "text": [
            "A\n",
            "B\n",
            "Base\n",
            "C\n"
          ]
        }
      ]
    },
    {
      "cell_type": "markdown",
      "source": [
        "A와 B에 부모의 생성자를 실행하도록 코드를 추가한다."
      ],
      "metadata": {
        "id": "v6yZbee_iBub"
      }
    },
    {
      "cell_type": "code",
      "source": [
        "class Base:\n",
        "  def __init__(self):\n",
        "    print('Base')\n",
        "\n",
        "class A(Base):\n",
        "  a = 1\n",
        "\n",
        "  def __init__(self):\n",
        "    print('A')\n",
        "    Base.__init__(self)  # 추가\n",
        "\n",
        "class B(Base):\n",
        "  b = 1\n",
        "\n",
        "  def __init__(self):\n",
        "    print('B')\n",
        "    Base.__init__(self)  # 추가\n",
        "\n",
        "class C(A,B):\n",
        "  def __init__(self):\n",
        "    A.__init__(self)\n",
        "    B.__init__(self)\n",
        "    Base.__init__(self)\n",
        "    print('C')"
      ],
      "metadata": {
        "id": "m75Ow3M_h_Es"
      },
      "execution_count": null,
      "outputs": []
    },
    {
      "cell_type": "markdown",
      "source": [
        "Base의 생성자가 너무 많이 실행되는 문제가 있다."
      ],
      "metadata": {
        "id": "RDSpe9Fgi1yK"
      }
    },
    {
      "cell_type": "code",
      "source": [
        "c = C()"
      ],
      "metadata": {
        "colab": {
          "base_uri": "https://localhost:8080/"
        },
        "id": "AYGr6sFfieKC",
        "outputId": "e917fbff-f2ed-4d66-fe7f-12413889fc58"
      },
      "execution_count": null,
      "outputs": [
        {
          "output_type": "stream",
          "name": "stdout",
          "text": [
            "A\n",
            "Base\n",
            "B\n",
            "Base\n",
            "Base\n",
            "C\n"
          ]
        }
      ]
    },
    {
      "cell_type": "code",
      "source": [
        "class Base:\n",
        "  def __init__(self):\n",
        "    print('Base')\n",
        "\n",
        "class A(Base):\n",
        "  a = 1\n",
        "\n",
        "  def __init__(self):\n",
        "    Base.__init__(self)  # 순서변경\n",
        "    print('A')\n",
        "\n",
        "class B(Base):\n",
        "  b = 1\n",
        "\n",
        "  def __init__(self):\n",
        "    Base.__init__(self)  # 순서변경\n",
        "    print('B')\n",
        "\n",
        "class C(A,B):\n",
        "  def __init__(self):\n",
        "    A.__init__(self)\n",
        "    B.__init__(self)\n",
        "    Base.__init__(self)\n",
        "    print('C')"
      ],
      "metadata": {
        "id": "X6TAvsqCjGwK"
      },
      "execution_count": null,
      "outputs": []
    },
    {
      "cell_type": "markdown",
      "source": [
        "생성자 내에서 print 함수의 위치에 따라서 출력이 달라진다."
      ],
      "metadata": {
        "id": "rR0Ez_fOjZSi"
      }
    },
    {
      "cell_type": "code",
      "source": [
        "c = C()"
      ],
      "metadata": {
        "colab": {
          "base_uri": "https://localhost:8080/"
        },
        "id": "AVHI77tAjRvS",
        "outputId": "acbb8e62-1f54-43ca-eeba-1b73b20a94d6"
      },
      "execution_count": null,
      "outputs": [
        {
          "output_type": "stream",
          "name": "stdout",
          "text": [
            "Base\n",
            "A\n",
            "Base\n",
            "B\n",
            "Base\n",
            "C\n"
          ]
        }
      ]
    },
    {
      "cell_type": "markdown",
      "source": [
        "C 생성자에서 Base 생성자 호출을 생략한다."
      ],
      "metadata": {
        "id": "TUPIeaD1kCcZ"
      }
    },
    {
      "cell_type": "code",
      "source": [
        "class Base:\n",
        "  def __init__(self):\n",
        "    print('Base')\n",
        "\n",
        "class A(Base):\n",
        "  a = 1\n",
        "\n",
        "  def __init__(self):\n",
        "    Base.__init__(self)\n",
        "    print('A')\n",
        "\n",
        "class B(Base):\n",
        "  b = 1\n",
        "\n",
        "  def __init__(self):\n",
        "    Base.__init__(self)\n",
        "    print('B')\n",
        "\n",
        "class C(A,B):\n",
        "  def __init__(self):\n",
        "    A.__init__(self)\n",
        "    B.__init__(self)\n",
        "    # Base.__init__(self) 생략\n",
        "    print('C')"
      ],
      "metadata": {
        "id": "aCTWG-6gjzME"
      },
      "execution_count": null,
      "outputs": []
    },
    {
      "cell_type": "code",
      "source": [
        "c = C() # Base가 한 번 생략됨."
      ],
      "metadata": {
        "colab": {
          "base_uri": "https://localhost:8080/"
        },
        "id": "ImotdqVAj3sq",
        "outputId": "4a4038b4-b3ae-4826-8415-471e5d60ee0e"
      },
      "execution_count": null,
      "outputs": [
        {
          "output_type": "stream",
          "name": "stdout",
          "text": [
            "Base\n",
            "A\n",
            "Base\n",
            "B\n",
            "C\n"
          ]
        }
      ]
    },
    {
      "cell_type": "code",
      "source": [
        "class Base:\n",
        "  def __init__(self):\n",
        "    self.x = 'Base' # 추가\n",
        "    self.y = 'Base' # 추가\n",
        "    print('Base')\n",
        "\n",
        "class A(Base):\n",
        "  a = 1\n",
        "\n",
        "  def __init__(self):\n",
        "    Base.__init__(self)\n",
        "    self.x = 'A' # 추가\n",
        "    print('A')\n",
        "\n",
        "class B(Base):\n",
        "  b = 1\n",
        "\n",
        "  def __init__(self):\n",
        "    Base.__init__(self)\n",
        "    self.y = 'B' # 추가\n",
        "    print('B')\n",
        "\n",
        "class C(A,B):\n",
        "  def __init__(self):\n",
        "    A.__init__(self)\n",
        "    B.__init__(self)\n",
        "    print('C')"
      ],
      "metadata": {
        "id": "Kp7qrgwJkQ_a"
      },
      "execution_count": null,
      "outputs": []
    },
    {
      "cell_type": "code",
      "source": [
        "c = C()"
      ],
      "metadata": {
        "colab": {
          "base_uri": "https://localhost:8080/"
        },
        "id": "qq89B6DGkw7a",
        "outputId": "6ac88a5b-439e-4699-9288-5333e5bf0a39"
      },
      "execution_count": null,
      "outputs": [
        {
          "output_type": "stream",
          "name": "stdout",
          "text": [
            "Base\n",
            "A\n",
            "Base\n",
            "B\n",
            "C\n"
          ]
        }
      ]
    },
    {
      "cell_type": "code",
      "source": [
        "# 다중 상속 문제\n",
        "c.x # self.x = 'Base' -> self.x = 'A' -> Base.__init__(self) 'Base' -> A를 상속 받았음에도 x는 'A'가 아니다."
      ],
      "metadata": {
        "colab": {
          "base_uri": "https://localhost:8080/",
          "height": 35
        },
        "id": "tm_6UQenk9oS",
        "outputId": "82098661-105b-45fd-c615-1e7055bbdf49"
      },
      "execution_count": null,
      "outputs": [
        {
          "output_type": "execute_result",
          "data": {
            "text/plain": [
              "'Base'"
            ],
            "application/vnd.google.colaboratory.intrinsic+json": {
              "type": "string"
            }
          },
          "metadata": {},
          "execution_count": 29
        }
      ]
    },
    {
      "cell_type": "markdown",
      "source": [
        "super를 사용하면 다중상속문제를 해결할 수 있다."
      ],
      "metadata": {
        "id": "ms1Q2n3rlmUJ"
      }
    },
    {
      "cell_type": "code",
      "source": [
        "class Base:\n",
        "  def __init__(self):\n",
        "    self.x = 'Base'\n",
        "    self.y = 'Base'\n",
        "    print('Base')\n",
        "\n",
        "class A(Base):\n",
        "  a = 1\n",
        "\n",
        "  def __init__(self):\n",
        "    Base.__init__(self)\n",
        "    self.x = 'A'\n",
        "    print('A')\n",
        "\n",
        "class B(Base):\n",
        "  b = 1\n",
        "\n",
        "  def __init__(self):\n",
        "    Base.__init__(self)\n",
        "    self.y = 'B'\n",
        "    print('B')\n",
        "\n",
        "class C(A,B):\n",
        "  def __init__(self):\n",
        "    # A.__init__(self) # 생략\n",
        "    # B.__init__(self) # 생략\n",
        "    super(C, self).__init__() # super사용 : super -> 부모\n",
        "    print('C')"
      ],
      "metadata": {
        "id": "hFc_6AQ2lkPK"
      },
      "execution_count": null,
      "outputs": []
    },
    {
      "cell_type": "markdown",
      "source": [
        "Bass의 생성자는 한 번만 실행됨.  \n",
        "A생성자만 실행되고, B생성자는 실행되지 않음."
      ],
      "metadata": {
        "id": "HB4wG15DmlsB"
      }
    },
    {
      "cell_type": "code",
      "source": [
        "c = C()"
      ],
      "metadata": {
        "colab": {
          "base_uri": "https://localhost:8080/"
        },
        "id": "ypkbkJwqmAyg",
        "outputId": "736bed31-80af-4289-c5ca-29e522b75d42"
      },
      "execution_count": null,
      "outputs": [
        {
          "output_type": "stream",
          "name": "stdout",
          "text": [
            "Base\n",
            "A\n",
            "C\n"
          ]
        }
      ]
    },
    {
      "cell_type": "code",
      "source": [
        "class Base:\n",
        "  def __init__(self):\n",
        "    self.x = 'Base'\n",
        "    self.y = 'Base'\n",
        "    print('Base')\n",
        "\n",
        "class A(Base):\n",
        "  a = 1\n",
        "\n",
        "  def __init__(self):\n",
        "    Base.__init__(self)\n",
        "    self.x = 'A'\n",
        "    print('A')\n",
        "\n",
        "class B(Base):\n",
        "  b = 1\n",
        "\n",
        "  def __init__(self):\n",
        "    Base.__init__(self)\n",
        "    self.y = 'B'\n",
        "    print('B')\n",
        "\n",
        "class C(A,B):\n",
        "  def __init__(self):\n",
        "    super(C, self).__init__() # super사용 : super -> 부모\n",
        "    super(C, self).__init__() # 추가\n",
        "    print('C')"
      ],
      "metadata": {
        "id": "XhndUoDQnTDB"
      },
      "execution_count": null,
      "outputs": []
    },
    {
      "cell_type": "markdown",
      "source": [
        "A만 2번 호출되고, Base도 2번 중복 실행됨."
      ],
      "metadata": {
        "id": "K1NU8lQWnWkp"
      }
    },
    {
      "cell_type": "code",
      "source": [
        "c = C()"
      ],
      "metadata": {
        "colab": {
          "base_uri": "https://localhost:8080/"
        },
        "id": "JJyv-NFwnbFJ",
        "outputId": "0ddab511-7e22-48b3-9ccb-a3f9848cb8da"
      },
      "execution_count": null,
      "outputs": [
        {
          "output_type": "stream",
          "name": "stdout",
          "text": [
            "Base\n",
            "A\n",
            "Base\n",
            "A\n",
            "C\n"
          ]
        }
      ]
    },
    {
      "cell_type": "code",
      "source": [
        "class Base:\n",
        "  def __init__(self):\n",
        "    self.x = 'Base'\n",
        "    self.y = 'Base'\n",
        "    print('Base')\n",
        "\n",
        "class A(Base):\n",
        "  a = 1\n",
        "\n",
        "  def __init__(self):\n",
        "    # Base.__init__(self)\n",
        "    super().__init__() # 생략 후 변경\n",
        "    self.x = 'A'\n",
        "    print('A')\n",
        "\n",
        "class B(Base):\n",
        "  b = 1\n",
        "\n",
        "  def __init__(self):\n",
        "    # Base.__init__(self)\n",
        "    super().__init__() # 생략 후 변경\n",
        "    self.y = 'B' # 추가\n",
        "    print('B')\n",
        "\n",
        "class C(A,B):\n",
        "  def __init__(self):\n",
        "    # super(C, self).__init__()\n",
        "    # super(C, self).__init__()\n",
        "\n",
        "    # super(C, self) -> python v3에서는 생략 가능\n",
        "    super().__init__()\n",
        "    print('C')"
      ],
      "metadata": {
        "id": "v4JhND8Mnln3"
      },
      "execution_count": null,
      "outputs": []
    },
    {
      "cell_type": "markdown",
      "source": [
        "A를 먼저 상속받았지만, B생성자가 먼저 출력됨.   \n",
        "stack방식이기 때문에 순서가 역으로 출력됨.  \n",
        ".mro()로 확인 가능하다."
      ],
      "metadata": {
        "id": "wwzqeWdOp4jJ"
      }
    },
    {
      "cell_type": "code",
      "source": [
        "c = C()"
      ],
      "metadata": {
        "colab": {
          "base_uri": "https://localhost:8080/"
        },
        "id": "ZsqLR0IHoPth",
        "outputId": "c69657c9-697b-4a66-bc66-9fd161c9c45c"
      },
      "execution_count": null,
      "outputs": [
        {
          "output_type": "stream",
          "name": "stdout",
          "text": [
            "Base\n",
            "B\n",
            "A\n",
            "C\n"
          ]
        }
      ]
    },
    {
      "cell_type": "code",
      "source": [
        "c.x"
      ],
      "metadata": {
        "colab": {
          "base_uri": "https://localhost:8080/",
          "height": 35
        },
        "id": "iwwZC0oKoU3R",
        "outputId": "3082f809-0922-48e2-e1dd-8e0ae6af58b3"
      },
      "execution_count": null,
      "outputs": [
        {
          "output_type": "execute_result",
          "data": {
            "text/plain": [
              "'A'"
            ],
            "application/vnd.google.colaboratory.intrinsic+json": {
              "type": "string"
            }
          },
          "metadata": {},
          "execution_count": 44
        }
      ]
    },
    {
      "cell_type": "code",
      "source": [
        "c.y"
      ],
      "metadata": {
        "colab": {
          "base_uri": "https://localhost:8080/",
          "height": 35
        },
        "id": "7a2A45GKoV6v",
        "outputId": "894ee01e-3cec-4c01-c9f1-f47dea7c82e7"
      },
      "execution_count": null,
      "outputs": [
        {
          "output_type": "execute_result",
          "data": {
            "text/plain": [
              "'B'"
            ],
            "application/vnd.google.colaboratory.intrinsic+json": {
              "type": "string"
            }
          },
          "metadata": {},
          "execution_count": 45
        }
      ]
    },
    {
      "cell_type": "code",
      "source": [
        "class Base:\n",
        "  def __init__(self):\n",
        "    self.x = 'Base'\n",
        "    self.y = 'Base'\n",
        "    print('Base')\n",
        "\n",
        "class A(Base):\n",
        "  a = 1\n",
        "\n",
        "  def __init__(self):\n",
        "    print('A') # 출력 순서 변경\n",
        "    super().__init__()\n",
        "    self.x = 'A'\n",
        "    print('A-1')\n",
        "\n",
        "class B(Base):\n",
        "  b = 1\n",
        "\n",
        "  def __init__(self):\n",
        "    print('B') # 출력 순서 변경\n",
        "    super().__init__()\n",
        "    self.y = 'B'\n",
        "    print('B-1')\n",
        "\n",
        "class C(A,B):\n",
        "  def __init__(self):\n",
        "    print('C') # 출력 순서 변경\n",
        "    super().__init__()\n",
        "    print('C-1')"
      ],
      "metadata": {
        "id": "hEvzoGA-qbh1"
      },
      "execution_count": null,
      "outputs": []
    },
    {
      "cell_type": "code",
      "source": [
        "c = C()"
      ],
      "metadata": {
        "colab": {
          "base_uri": "https://localhost:8080/"
        },
        "id": "j3rqZAUEq2oI",
        "outputId": "628e2537-35d2-4dd4-bf56-bb4695baac35"
      },
      "execution_count": null,
      "outputs": [
        {
          "output_type": "stream",
          "name": "stdout",
          "text": [
            "C\n",
            "A\n",
            "B\n",
            "Base\n",
            "B-1\n",
            "A-1\n",
            "C-1\n"
          ]
        }
      ]
    },
    {
      "cell_type": "code",
      "source": [
        "class Book:\n",
        "  def __init__(self, title, author, price, publisher, discountRate):\n",
        "    self.__title = title # private로 사용할 목적\n",
        "    self.__author = author\n",
        "    self.__price = price\n",
        "    self.__publisher = publisher\n",
        "    self.__discountRate = discountRate\n",
        "\n",
        "  def getTitle(self):\n",
        "    return self.__title\n",
        "\n",
        "  def getAuthor(self):\n",
        "    return self.__author\n",
        "\n",
        "  def getPrice(self):\n",
        "    return self.__price\n",
        "\n",
        "  def getPublisher(self):\n",
        "    return self.__publisher\n",
        "\n",
        "  def getDiscountRate(self):\n",
        "    return self.__discountRate\n",
        "\n",
        "\n",
        "class BookListTest:\n",
        "\n",
        "  def __init__(self):\n",
        "    pass\n",
        "\n",
        "  def process(self):\n",
        "    # a = Book('파이썬의 정석', '남군은', 30000, '도우출판', 0.1)\n",
        "\n",
        "    bList = []\n",
        "    bList.append(Book('파이썬의 정석', '남군은', 30000, '도우출판', 0.1))\n",
        "    bList.append(Book('열혈강의 파이썬', '구정아', 29000, '프리렉', 0.1))\n",
        "    bList.append(Book('데이터분석의 파이썬', '금영옥', 30000, '북스홈', 0.1))\n",
        "\n",
        "    # print(bList) 출력값 ->\n",
        "    # [<__main__.Book object at 0x7b9d6956edd0>, <__main__.Book object at 0x7b9d6956ef80>, <__main__.Book object at 0x7b9d6956c790>]\n",
        "\n",
        "    for line in bList:\n",
        "      print('{}.{}.{}.{}'.format(line.getTitle(), line.getAuthor(), line.getPrice(), line.getPublisher()))\n",
        "      print('할인된 가격:{}'.format(int(line.getPrice()*(1-line.getDiscountRate()))))\n",
        "\n",
        "if __name__ == '__main__':\n",
        "  bt = BookListTest()\n",
        "  bt.process()"
      ],
      "metadata": {
        "colab": {
          "base_uri": "https://localhost:8080/"
        },
        "id": "gjWH1PiEvY4F",
        "outputId": "e46caa51-e1d4-4e75-b661-12367f0ae596"
      },
      "execution_count": null,
      "outputs": [
        {
          "output_type": "stream",
          "name": "stdout",
          "text": [
            "파이썬의 정석.남군은.30000.도우출판\n",
            "할인된 가격:27000\n",
            "열혈강의 파이썬.구정아.29000.프리렉\n",
            "할인된 가격:26100\n",
            "데이터분석의 파이썬.금영옥.30000.북스홈\n",
            "할인된 가격:27000\n"
          ]
        }
      ]
    },
    {
      "cell_type": "markdown",
      "source": [
        "```\n",
        "-(private) +(public)\n",
        "\n",
        "-name:str -dept:str -pay:int -score:float\n",
        "\n",
        "Employee(name=None:str,dept=None:str, pay=None:int, score=None:float)\n",
        "+getName():str\n",
        "+setName(name:str):None\n",
        "+getDept():str\n",
        "+setDept(dept:str):None\n",
        "+getPay():int\n",
        "+setPay(pay:int):None\n",
        "+getScore():float\n",
        "+setScore(score:float):None\n",
        "```"
      ],
      "metadata": {
        "id": "yiU5W8XR4yVZ"
      }
    },
    {
      "cell_type": "code",
      "source": [
        "class Employee:\n",
        "  # 다양한 방법으로 생성자를 호출하고 있으면 매개변수(parameter)에 default value를 할당한다.\n",
        "  def __init__(self, name=None, dept=None, pay=None, score=None): # default value = None 할당\n",
        "    self.__name = name\n",
        "    self.__dept = dept\n",
        "    self.__pay = pay\n",
        "    self.__score = score #private\n",
        "\n",
        "  def getName(self):\n",
        "      return self.__name\n",
        "\n",
        "  def setName(self, name):\n",
        "      self.__name = name\n",
        "\n",
        "  def getDept(self):\n",
        "      return self.__dept\n",
        "\n",
        "  def setDept(self, dept):\n",
        "      self.__dept = dept\n",
        "\n",
        "  def getPay(self):\n",
        "      return self.__pay\n",
        "\n",
        "  def setPay(self, pay):\n",
        "      self.__pay = pay\n",
        "\n",
        "  def getScore(self):\n",
        "      return self.__score\n",
        "\n",
        "  def setScore(self, score):\n",
        "      self.__score = score\n",
        "\n",
        "  def toString(self):\n",
        "      return '{},{},{},{}'.format(self.__name, self.__dept, self.__pay, self.__score)\n",
        "\n",
        "\n",
        "class EmpTest:\n",
        "\n",
        "  def process(self):\n",
        "    em = Employee() # default value를 할당하면 이와 같이 사용 가능.\n",
        "    em.setName('유대위')\n",
        "    print(em.toString())\n",
        "\n",
        "    ee = Employee('진달래', '사업부', 120000, 75.34)\n",
        "    print(ee.toString())\n",
        "\n",
        "if __name__ == '__main__':\n",
        "  ep = EmpTest()\n",
        "  ep.process()"
      ],
      "metadata": {
        "colab": {
          "base_uri": "https://localhost:8080/"
        },
        "id": "krs9ZpEs8tjJ",
        "outputId": "2b957b0d-c541-43b0-d396-2e88b736559a"
      },
      "execution_count": null,
      "outputs": [
        {
          "output_type": "stream",
          "name": "stdout",
          "text": [
            "유대위,None,None,None\n",
            "진달래,사업부,120000,75.34\n"
          ]
        }
      ]
    },
    {
      "cell_type": "markdown",
      "source": [
        "```\n",
        "클래스명 : Sales\n",
        "-item:str\n",
        "-qty:int\n",
        "-cost:int\n",
        "\n",
        "Sales(self, item=None:str, qty=None:int, cost=None:int)\n",
        "+setItem(item str):None\n",
        "+setQty(qty int):void\n",
        "+setCost(cost int):None\n",
        "+getItem():str\n",
        "+getQty():int\n",
        "+getCost():int\n",
        "+toString():str => 출력\n",
        "+getPrice():int => 수량 * 단가\n",
        "\n",
        "예시)\n",
        "품목 : apple 수량 : 5 단가 : 1200원 금액 : 6000원\n",
        "\n",
        "apple 1200원 짜리 5개 구입하면 6000원이 필요함\n",
        "```"
      ],
      "metadata": {
        "id": "vs-U4IbJEjUq"
      }
    },
    {
      "cell_type": "code",
      "source": [
        "class Sales:\n",
        "\n",
        "  def __init__(self, item=None, qty=None, cost=None):\n",
        "    self.__item = item\n",
        "    self.__qty = qty\n",
        "    self.__cost = cost\n",
        "\n",
        "  def getItem(self):\n",
        "    return self.__item\n",
        "\n",
        "  def setItem(self, item):\n",
        "    self.__item = item\n",
        "\n",
        "  def getQty(self):\n",
        "    return self.__qty\n",
        "\n",
        "  def setQty(self, qty):\n",
        "    self.__qty = qty\n",
        "\n",
        "  def getCost(self):\n",
        "    return self.__cost\n",
        "\n",
        "  def setCost(self, cost):\n",
        "    self.__cost = cost\n",
        "\n",
        "  def getPrice(self):\n",
        "    return self.__qty * self.__cost\n",
        "\n",
        "  def toString(self):\n",
        "    return '{} {}원 짜리 {}개 구입하면 {}원이 필요함'.format(self.__item, self.__cost, self.__qty, self.getPrice())\n",
        "\n",
        "class SalesTest:\n",
        "  def process(self):\n",
        "    ee = Sales('apple', 1200, 5 )\n",
        "    print(ee.toString())\n",
        "\n",
        "\n",
        "if __name__ == '__main__':\n",
        "  ez = SalesTest()\n",
        "  ez.process()"
      ],
      "metadata": {
        "colab": {
          "base_uri": "https://localhost:8080/"
        },
        "id": "ZEMBFM2-Ey1i",
        "outputId": "a2b67923-2218-4b97-9a26-4b890f858935"
      },
      "execution_count": null,
      "outputs": [
        {
          "output_type": "stream",
          "name": "stdout",
          "text": [
            "apple 5원 짜리 1200개 구입하면 6000원이 필요함\n"
          ]
        }
      ]
    },
    {
      "cell_type": "code",
      "source": [
        "class Sales:\n",
        "\n",
        "  def __init__(self, item=None, qty=None, cost=None):\n",
        "    self.__item = item\n",
        "    self.__qty = qty\n",
        "    self.__cost = cost\n",
        "\n",
        "  def getItem(self):\n",
        "    return self.__item\n",
        "\n",
        "  def setItem(self, item):\n",
        "    self.__item = item\n",
        "\n",
        "  def getQty(self):\n",
        "    return self.__qty\n",
        "\n",
        "  def setQty(self, qty):\n",
        "    self.__qty = qty\n",
        "\n",
        "  def getCost(self):\n",
        "    return self.__cost\n",
        "\n",
        "  def setCost(self, cost):\n",
        "    self.__cost = cost\n",
        "\n",
        "  def getPrice(self):\n",
        "    return self.__qty * self.__cost\n",
        "\n",
        "  def toString(self):\n",
        "    return '{} {}원 짜리 {}개 구입하면 {}원이 필요함'.format(self.__item, self.__cost, self.__qty, self.getPrice())\n",
        "\n",
        "if __name__ == '__main__':\n",
        "  ss = Sales()\n",
        "  ss.setItem(\"apple\")\n",
        "  ss.setQty(5)\n",
        "  ss.setCost(1200)\n",
        "  print(ss.toString())"
      ],
      "metadata": {
        "colab": {
          "base_uri": "https://localhost:8080/"
        },
        "id": "8DIrSsGXSAw7",
        "outputId": "6fa7e2e8-b683-445c-bc8e-8d8aeb449ad0"
      },
      "execution_count": null,
      "outputs": [
        {
          "output_type": "stream",
          "name": "stdout",
          "text": [
            "apple 1200원 짜리 5개 구입하면 6000원이 필요함\n"
          ]
        }
      ]
    },
    {
      "cell_type": "code",
      "source": [
        "class Sales:\n",
        "\n",
        "  def __init__(self, item=None, qty=None, cost=None):\n",
        "    print('parent')\n",
        "    self.__item = item\n",
        "    self.__qty = qty\n",
        "    self.__cost = cost\n",
        "\n",
        "  def getItem(self):\n",
        "    return self.__item\n",
        "\n",
        "  def setItem(self, item):\n",
        "    self.__item = item\n",
        "\n",
        "  def getQty(self):\n",
        "    return self.__qty\n",
        "\n",
        "  def setQty(self, qty):\n",
        "    self.__qty = qty\n",
        "\n",
        "  def getCost(self):\n",
        "    return self.__cost\n",
        "\n",
        "  def setCost(self, cost):\n",
        "    self.__cost = cost\n",
        "\n",
        "  def getPrice(self):\n",
        "    return self.__qty * self.__cost\n",
        "\n",
        "  def toString(self):\n",
        "    return '{} {}원 짜리 {}개 '.format(self.__item, self.__cost, self.__qty)\n",
        "\n",
        "class SubSales(Sales):\n",
        "  def __init__(self, item=None, qty=None, cost=None):\n",
        "    print('child')\n",
        "    super().__init__(item, qty, cost)\n",
        "\n",
        "  def getPrice(self):\n",
        "    return self.getQty() * self.getCost()\n",
        "# toString -> overriding\n",
        "# overriding : 메소드 선언부는 그대로 사용하고 구현부만 재정의한다.\n",
        "  def toString(self): # method 선언부\n",
        "    return '{} {}원 짜리 {}개 구입하면 {}원이 필요함'.format(self.getItem(), self.getCost(), self.getQty(), self.getPrice()) #method 구현부\n",
        "\n",
        "\n",
        "if __name__ == '__main__':\n",
        "  # ss = SubSales()\n",
        "  # ss.setItem(\"apple\")\n",
        "  # ss.setQty(5)\n",
        "  # ss.setCost(1200)\n",
        "  # print(ss.toString())\n",
        "\n",
        "  se = SubSales('Apple', 5 , 1200)\n",
        "  print(se.toString())"
      ],
      "metadata": {
        "colab": {
          "base_uri": "https://localhost:8080/"
        },
        "id": "oFdw2Jw7boOI",
        "outputId": "1e5c67ef-4401-42ef-d8b7-76bb435b63ef"
      },
      "execution_count": null,
      "outputs": [
        {
          "output_type": "stream",
          "name": "stdout",
          "text": [
            "child\n",
            "parent\n",
            "Apple 1200원 짜리 5개 구입하면 6000원이 필요함\n"
          ]
        }
      ]
    },
    {
      "cell_type": "code",
      "source": [
        "class Human:\n",
        "  def __init__(self, name, age, height, weight):\n",
        "    self.name = name\n",
        "    self.age = age\n",
        "    self.height = height\n",
        "    self.weight = weight\n",
        "\n",
        "  def toString(self):\n",
        "\t  return '{:8}{:5}{:8}{:8}'.format(self.name, self.age, self.height, self.weight)\n",
        "\n",
        "\n",
        "\n",
        "class StudentExam(Human):\n",
        "  def __init__(self, name, age, height, weight, hak):\n",
        "   super().__init__(name, age, height, weight) # 상위클래스 생성자를 먼저 호출\n",
        "   self.hak = hak\n",
        "\n",
        "# overriding\n",
        "  def toString(self):\n",
        "    return '{:8}{:>5}{:>8}{:>8}{:>10}'.format(self.name, self.age, self.height, self.weight, self.hak)\n",
        "\n",
        "if __name__ == '__main__':\n",
        "  se=[];\n",
        "  se.append(StudentExam(\"홍길동\",15, 171, 81, \"201101\"))\n",
        "  se.append(StudentExam(\"정길동\",13, 183, 72, \"201102\"))\n",
        "  se.append(StudentExam(\"박길동\",16, 175, 65, \"201103\"))\n",
        "\n",
        "  print('{:8}{:>5}{:>5}{:>8}{:>4}'.format('이름','나이','신장','몸무게','학번'))\n",
        "\n",
        "  for data in se :\n",
        "    print(data.toString())"
      ],
      "metadata": {
        "colab": {
          "base_uri": "https://localhost:8080/"
        },
        "id": "mabTjBucfAGJ",
        "outputId": "40f9ecb4-be03-432b-d127-bdeb9f0867dd"
      },
      "execution_count": null,
      "outputs": [
        {
          "output_type": "stream",
          "name": "stdout",
          "text": [
            "이름         나이   신장     몸무게  학번\n",
            "홍길동        15     171      81    201101\n",
            "정길동        13     183      72    201102\n",
            "박길동        16     175      65    201103\n"
          ]
        }
      ]
    },
    {
      "cell_type": "markdown",
      "source": [
        "```\n",
        " 문제)\n",
        " 사람의 신장(H)와 몸무게(W)를 입력받아 비만도(B)를 계산하는 프로그램작성\n",
        " 표준체중:SW=(H-100)*0.9\n",
        " 비만도: B(%)=(W-SW)/SW*100\n",
        "\n",
        " HealthRate 클래스에 아래 사항을 추가합니다.\n",
        " 1 표준체중 계산하는 메소드를 정의한다. standardHealth(self)\n",
        " 2 비만도를 계산하는 메소드를 정의한다.  rateCheck(self)\n",
        " 비만도가 10% 이내이면 정상, 10%이상 20%이면 과체중, 20% 이상은 비만\n",
        "\n",
        "\n",
        " 3 출력결과\n",
        " 홍길동님의 신장 168 , 몸무게 45  정상입니다.\n",
        " 박둘이님의 신장 168 , 몸무게 90  비만입니다.\n",
        "\n",
        "\n",
        "class Health:\n",
        "\n",
        "  def __init__(self, name, height, weight):\n",
        "    self.name = name;\n",
        "    self.height = height;\n",
        "    self.weight = weight;\n",
        "\n",
        "\n",
        "  def display(self):\n",
        "    print('{}님의 키 {} , 몸무게 {}입니다.'.format(self.name, self.height, self.weight))\n",
        "```"
      ],
      "metadata": {
        "id": "sICM1_MNp8go"
      }
    },
    {
      "cell_type": "code",
      "source": [
        "class Health:\n",
        "\n",
        "  def __init__(self, name, height, weight):\n",
        "    self.name = name\n",
        "    self.height = height\n",
        "    self.weight = weight\n",
        "\n",
        "\n",
        "  def display(self):\n",
        "    print('{}님의 키 {} , 몸무게 {}입니다.'.format(self.name, self.height, self.weight))\n",
        "\n",
        "class HealthRate(Health):\n",
        "\n",
        "  def __intit__(self, name, height, weight):\n",
        "    super().__init__(name, height, weight)\n",
        "\n",
        "  def standardHealth(self):\n",
        "    return (self.height-100)*0.9\n",
        "\n",
        "  def rateCheck(self):\n",
        "    res = (self.weight - self.standardHealth())/self.standardHealth()*100\n",
        "\n",
        "    if res < 10:\n",
        "      return '정상'\n",
        "    elif 10<= res < 20:\n",
        "      return '과체중'\n",
        "    else:\n",
        "      return '비만'\n",
        "\n",
        "  def display(self):\n",
        "    return ('{:}님의 신장{:3}, 몸무게{:3},{}입니다.'.format(self.name, self.height, self.weight, self.rateCheck()))\n",
        "\n",
        "\n",
        "# if __name__ == '__main__':\n",
        "#   se=[];\n",
        "#   se.append(HealthRate(\"홍길동\",168, 45))\n",
        "#   se.append(HealthRate(\"정길동\", 168, 90))\n",
        "\n",
        "#   print('{:}님의 신장{:3}, 몸무게{:3},{}입니다.'.format('이름', '신장', '몸무게', '비만도'))\n",
        "\n",
        "#   for data in se :\n",
        "#     print(data.display())\n",
        "\n",
        "if __name__ == '__main__':\n",
        "\n",
        "  se = HealthRate('Apple',168 , 45)\n",
        "  print(se.display())"
      ],
      "metadata": {
        "colab": {
          "base_uri": "https://localhost:8080/"
        },
        "id": "7_EaZ5jdyZYn",
        "outputId": "fbf768f4-9350-4695-eb20-39e8264403f5"
      },
      "execution_count": null,
      "outputs": [
        {
          "output_type": "stream",
          "name": "stdout",
          "text": [
            "Apple님의 신장168, 몸무게 45,정상입니다.\n"
          ]
        }
      ]
    },
    {
      "cell_type": "code",
      "source": [
        "class Health:\n",
        "  def __init__(self, name, H, W):\n",
        "    self.name = name\n",
        "    self.H = H\n",
        "    self.W = W\n",
        "  def display(self):\n",
        "\t  print('{}님의 키 {} , 몸무게 {}입니다.'.format(self.name, self.H, self.W))\n",
        "\n",
        "class HealthRate(Health):\n",
        "  def __init__(self, name, H, W):\n",
        "    super().__init__(name, H, W)\n",
        "\n",
        "  def standardHealth(self):\n",
        "    return (self.H-100)*0.9\n",
        "\n",
        "  def rateCheck(self):\n",
        "    res = (self.W - self.standardHealth())/self.standardHealth()*100\n",
        "\n",
        "    if res < 10:\n",
        "      return '정상'\n",
        "    elif 10<= res < 20:\n",
        "      return '과체중'\n",
        "    else:\n",
        "      return '비만'\n",
        "\n",
        "  def display(self):\n",
        "    print('{}님의 신장{}, 몸무게{}, {}입니다.'.format(self.name, self.H, self.W, self.rateCheck()))\n",
        "\n",
        "if __name__ == '__main__':\n",
        "  hr1 = HealthRate(\"홍길동\",168,45)\n",
        "  hr1.display()\n",
        "\n",
        "  hr2 = HealthRate(\"바둑이\",168,90)\n",
        "  hr2.display()"
      ],
      "metadata": {
        "colab": {
          "base_uri": "https://localhost:8080/"
        },
        "id": "VQJgm3pcpwTv",
        "outputId": "3b633e78-c8a3-45f2-f7fc-7048af0278b2"
      },
      "execution_count": null,
      "outputs": [
        {
          "output_type": "stream",
          "name": "stdout",
          "text": [
            "홍길동님의 신장168, 몸무게45, 정상입니다.\n",
            "바둑이님의 신장168, 몸무게90, 비만입니다.\n"
          ]
        }
      ]
    },
    {
      "cell_type": "code",
      "source": [
        "class Health:\n",
        "\n",
        "  def __init__(self, name, height, weight):\n",
        "    self.name = name\n",
        "    self.height = height\n",
        "    self.weight = weight\n",
        "\n",
        "\n",
        "  def display(self):\n",
        "    print('{}님의 키 {} , 몸무게 {}입니다.'.format(self.name, self.height, self.weight))\n",
        "\n",
        "class HealthRate(Health):\n",
        "  def __init__(self, name, height, weigth):\n",
        "    super().__init__(name, height, weigth)\n",
        "\n",
        "# 표준체중 로직구현\n",
        "  def standardHealth(self):\n",
        "    return (self.height-100)*0.9\n",
        "\n",
        "# 비만도 로직구현\n",
        "  def rateCheck(self):\n",
        "    res=(self.weight-self.standardHealth())/self.standardHealth()*100\n",
        "    if res<10:\n",
        "      return '정상'\n",
        "    elif res>=10 and res<20:\n",
        "      return '과체중'\n",
        "    else:\n",
        "      return '비만'\n",
        "\n",
        "#오버라이딩\n",
        "  def display(self):\n",
        "     print('{}님의 신장 {:.0f} , 몸무게 {:.0f}  {}입니다.'.format(self.name, self.height, self.weight, self.rateCheck()))\n",
        "\n",
        "if __name__ == '__main__':\n",
        "  hr1 = HealthRate(\"홍길동\",168,45)\n",
        "  hr1.display()\n",
        "  # print(vars(hr1))\n",
        "  # print(dir(hr1))\n",
        "\n",
        "  hr2 = HealthRate(\"바둑이\",168,90)\n",
        "  hr2.display()"
      ],
      "metadata": {
        "colab": {
          "base_uri": "https://localhost:8080/"
        },
        "id": "nNOzrZ0OzMiJ",
        "outputId": "141c9630-a731-4a51-c464-f7c0c862c07b"
      },
      "execution_count": null,
      "outputs": [
        {
          "output_type": "stream",
          "name": "stdout",
          "text": [
            "홍길동님의 신장 168 , 몸무게 45  정상입니다.\n",
            "바둑이님의 신장 168 , 몸무게 90  비만입니다.\n"
          ]
        }
      ]
    },
    {
      "cell_type": "markdown",
      "source": [
        "```\n",
        "Movie클래스를 상속받아 MovieWork클래스를 구현하세요.\n",
        " MovieWork클래스에서 display( )메소드를 오버라이딩해서\n",
        "  아래와 같이 구현하세요.\n",
        "\n",
        "  [MovieWork 영화평점 조건]\n",
        "   if total >= 45:\n",
        "      result = '☆☆☆☆☆'\n",
        "    elif total >= 40:\n",
        "      result = '☆☆☆☆'\n",
        "    elif total >= 35:\n",
        "      result = '☆☆☆'\n",
        "    else:\n",
        "      result = '☆☆'\n",
        "\n",
        "  [출력결과]\n",
        "  영화제목:추격자\n",
        " 감독 : 7, 배우 : 5\n",
        " 영화총점 :12\n",
        " 영화평점 : ☆☆☆☆\n",
        "\n",
        " ***********************************\n",
        " 영화제목:사도세자\n",
        " 감독:9, 배우:10, 작품성:10, 대중성:8, 대본:9\n",
        " 영화총점 : 46\n",
        " 영화평점 : ☆☆☆☆☆\n",
        "\n",
        "\n",
        " [main 실행]\n",
        " if __name__ == '__main__':\n",
        " # title  영화제목,  director 감독점수,  acter 배우점수\n",
        " #cinematic 작품성, popular  대중성, scenario 시나리오\n",
        "  # title, director, acter\n",
        "  mv = Movie('추격자', 7, 5)\n",
        "  mv.display()\n",
        "\n",
        "  print('\\n***********************************')\n",
        "\n",
        "  #    title, director, acter, cinematic, popular, scenario    \n",
        "  mk = MovieWork(\"사도세자\", 9, 10, 10, 8, 9)\n",
        "  mk.display();\n",
        "```"
      ],
      "metadata": {
        "id": "O1eMBxgZ6iM4"
      }
    },
    {
      "cell_type": "code",
      "source": [
        "class Movie:\n",
        "\n",
        "  # title  영화제목,  director 감독점수,  acter 배우점수\n",
        "  def __init__(self, title, director, acter):\n",
        "    self.title = title\n",
        "    self.director = director\n",
        "    self.acter = acter\n",
        "\n",
        "\n",
        "  def display(self):\n",
        "    total = self.director + self.acter\n",
        "\n",
        "    print('영화제목: {}'.format(self.title))\n",
        "    print('감독: {}, 배우: {}'.format(self.director, self.acter))\n",
        "    print('영화총점: {}'.format(total))\n",
        "\n",
        "    if total >= 15:\n",
        "      result = '☆☆☆☆☆'\n",
        "    elif total >= 12:\n",
        "      result = '☆☆☆☆'\n",
        "    elif total >= 10:\n",
        "      result = '☆☆☆'\n",
        "    else:\n",
        "      result = '☆☆'\n",
        "    print('영화평점: {}'.format(result))\n",
        "\n",
        "class MovieWork(Movie):\n",
        "\n",
        "  #cinematic 작품성, popular  대중성, scenario 시나리오\n",
        "  def __init__(self, title, director, acter, cinematic, popular, scenario):\n",
        "    super().__init__(title, director, acter)\n",
        "    self.cinematic = cinematic\n",
        "    self.popular = popular\n",
        "    self.scenario = scenario\n",
        "\n",
        "  def display(self):\n",
        "    total = self.director + self.acter + self.cinematic + self.popular + self.scenario\n",
        "\n",
        "    print('영화제목: {}'.format(self.title))\n",
        "    print('감독: {}, 배우: {}, 작품성: {}, 대중성: {}, 대본: {}'.format(self.director, self.acter, self.cinematic, self.popular, self.scenario))\n",
        "    print('영화총점: {}'.format(total))\n",
        "\n",
        "    if total >= 45:\n",
        "      result = '☆☆☆☆☆'\n",
        "    elif total >= 40:\n",
        "      result = '☆☆☆☆'\n",
        "    elif total >= 35:\n",
        "      result = '☆☆☆'\n",
        "    else:\n",
        "      result = '☆☆'\n",
        "    print('영화평점: {}'.format(result))\n",
        "\n"
      ],
      "metadata": {
        "id": "v7DLPO04AlKc"
      },
      "execution_count": null,
      "outputs": []
    },
    {
      "cell_type": "code",
      "source": [
        "if __name__ == '__main__':\n",
        "\n",
        "  mv = Movie('추격자', 7, 5)\n",
        "  mv.display()\n",
        "\n",
        "print('\\n***********************************')\n",
        "# name = input('영화제목:')\n",
        "\n",
        "if __name__ == '__main__':\n",
        "  mk = MovieWork(\"사도세자\", 9, 10, 10, 8, 9) # \"사도세자\" -> name\n",
        "  mk.display();\n"
      ],
      "metadata": {
        "colab": {
          "base_uri": "https://localhost:8080/"
        },
        "id": "6bKxVBZfA3TF",
        "outputId": "a1266f14-3ff1-47d5-f9d0-ac833f23a980"
      },
      "execution_count": null,
      "outputs": [
        {
          "output_type": "stream",
          "name": "stdout",
          "text": [
            "영화제목: 추격자\n",
            "감독: 7, 배우: 5\n",
            "영화총점: 12\n",
            "영화평점: ☆☆☆☆\n",
            "\n",
            "***********************************\n",
            "영화제목: 사도세자\n",
            "감독: 9, 배우: 10, 작품성: 10, 대중성: 8, 대본: 9\n",
            "영화총점: 46\n",
            "영화평점: ☆☆☆☆☆\n"
          ]
        }
      ]
    }
  ]
}