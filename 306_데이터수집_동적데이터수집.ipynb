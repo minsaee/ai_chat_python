{
  "nbformat": 4,
  "nbformat_minor": 0,
  "metadata": {
    "colab": {
      "provenance": [],
      "authorship_tag": "ABX9TyOvh/xr9P9L2W7v83oHSh8T",
      "include_colab_link": true
    },
    "kernelspec": {
      "name": "python3",
      "display_name": "Python 3"
    },
    "language_info": {
      "name": "python"
    }
  },
  "cells": [
    {
      "cell_type": "markdown",
      "metadata": {
        "id": "view-in-github",
        "colab_type": "text"
      },
      "source": [
        "<a href=\"https://colab.research.google.com/github/minsaee/ai_chat_python/blob/master/306_%EB%8D%B0%EC%9D%B4%ED%84%B0%EC%88%98%EC%A7%91_%EB%8F%99%EC%A0%81%EB%8D%B0%EC%9D%B4%ED%84%B0%EC%88%98%EC%A7%91.ipynb\" target=\"_parent\"><img src=\"https://colab.research.google.com/assets/colab-badge.svg\" alt=\"Open In Colab\"/></a>"
      ]
    },
    {
      "cell_type": "markdown",
      "source": [
        "https://www.selenium.dev/"
      ],
      "metadata": {
        "id": "Og3Eymmd29ur"
      }
    },
    {
      "cell_type": "code",
      "execution_count": 1,
      "metadata": {
        "colab": {
          "base_uri": "https://localhost:8080/"
        },
        "id": "9Onhm6CNnH_Y",
        "outputId": "c94fa0c5-91b1-42ca-baf6-16982733e949"
      },
      "outputs": [
        {
          "output_type": "stream",
          "name": "stdout",
          "text": [
            "Mounted at /content/drive\n",
            "/content/drive/MyDrive/ai_chat_python\n"
          ]
        }
      ],
      "source": [
        "# 구글 드라이브 연동\n",
        "\n",
        "from google.colab import drive\n",
        "drive.mount('/content/drive')\n",
        "\n",
        "%cd /content/drive/MyDrive/ai_chat_python"
      ]
    },
    {
      "cell_type": "code",
      "source": [
        "%%shell\n",
        "\n",
        "# Add debian buster\n",
        "cat > /etc/apt/sources.list.d/debian.list <<'EOF'\n",
        "deb [arch=amd64 signed-by=/usr/share/keyrings/debian-buster.gpg] http://deb.debian.org/debian buster main\n",
        "deb [arch=amd64 signed-by=/usr/share/keyrings/debian-buster-updates.gpg] http://deb.debian.org/debian buster-updates main\n",
        "deb [arch=amd64 signed-by=/usr/share/keyrings/debian-security-buster.gpg] http://deb.debian.org/debian-security buster/updates main\n",
        "EOF\n",
        "\n",
        "# Add keys\n",
        "apt-key adv --keyserver keyserver.ubuntu.com --recv-keys DCC9EFBF77E11517\n",
        "apt-key adv --keyserver keyserver.ubuntu.com --recv-keys 648ACFD622F3D138\n",
        "apt-key adv --keyserver keyserver.ubuntu.com --recv-keys 112695A0E562B32A\n",
        "\n",
        "apt-key export 77E11517 | gpg --dearmour -o /usr/share/keyrings/debian-buster.gpg\n",
        "apt-key export 22F3D138 | gpg --dearmour -o /usr/share/keyrings/debian-buster-updates.gpg\n",
        "apt-key export E562B32A | gpg --dearmour -o /usr/share/keyrings/debian-security-buster.gpg\n",
        "\n",
        "# Prefer debian repo for chromium* packages only\n",
        "# Note the double-blank lines between entries\n",
        "cat > /etc/apt/preferences.d/chromium.pref << 'EOF'\n",
        "Package: *\n",
        "Pin: release a=eoan\n",
        "Pin-Priority: 500\n",
        "\n",
        "\n",
        "Package: *\n",
        "Pin: origin \"deb.debian.org\"\n",
        "Pin-Priority: 300\n",
        "\n",
        "\n",
        "Package: chromium*\n",
        "Pin: origin \"deb.debian.org\"\n",
        "Pin-Priority: 700\n",
        "EOF\n",
        "\n",
        "# Install chromium and chromium-driver\n",
        "apt-get update\n",
        "apt-get install chromium chromium-driver\n",
        "\n",
        "# Install selenium\n",
        "pip install selenium"
      ],
      "metadata": {
        "colab": {
          "base_uri": "https://localhost:8080/"
        },
        "id": "DPg-yTXWoKrm",
        "outputId": "adb8dd73-9e71-4019-ce47-9cc04e7bca2d"
      },
      "execution_count": 2,
      "outputs": [
        {
          "output_type": "stream",
          "name": "stdout",
          "text": [
            "Warning: apt-key is deprecated. Manage keyring files in trusted.gpg.d instead (see apt-key(8)).\n",
            "Executing: /tmp/apt-key-gpghome.K36OROin1v/gpg.1.sh --keyserver keyserver.ubuntu.com --recv-keys DCC9EFBF77E11517\n",
            "gpg: key DCC9EFBF77E11517: public key \"Debian Stable Release Key (10/buster) <debian-release@lists.debian.org>\" imported\n",
            "gpg: Total number processed: 1\n",
            "gpg:               imported: 1\n",
            "Warning: apt-key is deprecated. Manage keyring files in trusted.gpg.d instead (see apt-key(8)).\n",
            "Executing: /tmp/apt-key-gpghome.lWrEDmhz5k/gpg.1.sh --keyserver keyserver.ubuntu.com --recv-keys 648ACFD622F3D138\n",
            "gpg: key DC30D7C23CBBABEE: public key \"Debian Archive Automatic Signing Key (10/buster) <ftpmaster@debian.org>\" imported\n",
            "gpg: Total number processed: 1\n",
            "gpg:               imported: 1\n",
            "Warning: apt-key is deprecated. Manage keyring files in trusted.gpg.d instead (see apt-key(8)).\n",
            "Executing: /tmp/apt-key-gpghome.e8XcRAnVrj/gpg.1.sh --keyserver keyserver.ubuntu.com --recv-keys 112695A0E562B32A\n",
            "gpg: key 4DFAB270CAA96DFA: public key \"Debian Security Archive Automatic Signing Key (10/buster) <ftpmaster@debian.org>\" imported\n",
            "gpg: Total number processed: 1\n",
            "gpg:               imported: 1\n",
            "Warning: apt-key is deprecated. Manage keyring files in trusted.gpg.d instead (see apt-key(8)).\n",
            "Warning: apt-key is deprecated. Manage keyring files in trusted.gpg.d instead (see apt-key(8)).\n",
            "Warning: apt-key is deprecated. Manage keyring files in trusted.gpg.d instead (see apt-key(8)).\n",
            "Get:1 http://deb.debian.org/debian buster InRelease [122 kB]\n",
            "Get:2 http://deb.debian.org/debian buster-updates InRelease [56.6 kB]\n",
            "Get:3 http://deb.debian.org/debian-security buster/updates InRelease [34.8 kB]\n",
            "Get:4 https://cloud.r-project.org/bin/linux/ubuntu jammy-cran40/ InRelease [3,626 B]\n",
            "Get:5 https://developer.download.nvidia.com/compute/cuda/repos/ubuntu2204/x86_64  InRelease [1,581 B]\n",
            "Get:6 http://security.ubuntu.com/ubuntu jammy-security InRelease [110 kB]\n",
            "Get:7 http://deb.debian.org/debian buster/main amd64 Packages [10.7 MB]\n",
            "Hit:8 http://archive.ubuntu.com/ubuntu jammy InRelease\n",
            "Get:9 http://archive.ubuntu.com/ubuntu jammy-updates InRelease [119 kB]\n",
            "Get:10 http://deb.debian.org/debian buster-updates/main amd64 Packages [9,745 B]\n",
            "Get:11 http://deb.debian.org/debian-security buster/updates/main amd64 Packages [744 kB]\n",
            "Hit:12 https://ppa.launchpadcontent.net/c2d4u.team/c2d4u4.0+/ubuntu jammy InRelease\n",
            "Get:13 https://developer.download.nvidia.com/compute/cuda/repos/ubuntu2204/x86_64  Packages [632 kB]\n",
            "Hit:14 https://ppa.launchpadcontent.net/deadsnakes/ppa/ubuntu jammy InRelease\n",
            "Get:15 http://archive.ubuntu.com/ubuntu jammy-backports InRelease [109 kB]\n",
            "Hit:16 https://ppa.launchpadcontent.net/graphics-drivers/ppa/ubuntu jammy InRelease\n",
            "Hit:17 https://ppa.launchpadcontent.net/ubuntugis/ppa/ubuntu jammy InRelease\n",
            "Get:18 http://security.ubuntu.com/ubuntu jammy-security/main amd64 Packages [1,265 kB]\n",
            "Get:19 http://security.ubuntu.com/ubuntu jammy-security/universe amd64 Packages [1,027 kB]\n",
            "Get:20 http://security.ubuntu.com/ubuntu jammy-security/restricted amd64 Packages [1,494 kB]\n",
            "Get:21 http://archive.ubuntu.com/ubuntu jammy-updates/universe amd64 Packages [1,291 kB]\n",
            "Get:22 http://archive.ubuntu.com/ubuntu jammy-updates/main amd64 Packages [1,535 kB]\n",
            "Get:23 http://archive.ubuntu.com/ubuntu jammy-updates/restricted amd64 Packages [1,520 kB]\n",
            "Get:24 http://archive.ubuntu.com/ubuntu jammy-backports/universe amd64 Packages [32.6 kB]\n",
            "Fetched 20.8 MB in 4s (5,423 kB/s)\n",
            "Reading package lists... Done\n",
            "Reading package lists... Done\n",
            "Building dependency tree... Done\n",
            "Reading state information... Done\n",
            "The following additional packages will be installed:\n",
            "  chromium-common chromium-sandbox libevent-2.1-6 libfontenc1 libgudev-1.0-0 libicu63\n",
            "  libimobiledevice6 libjpeg62-turbo libjsoncpp1 libplist3 libre2-5 libu2f-udev libudev1\n",
            "  libupower-glib3 libusbmuxd6 libvpx5 libwebp6 libxkbfile1 libxtst6 libxxf86dga1\n",
            "  notification-daemon systemd-hwe-hwdb udev upower usbmuxd x11-utils\n",
            "Suggested packages:\n",
            "  chromium-l10n chromium-shell libusbmuxd-tools mesa-utils\n",
            "The following NEW packages will be installed:\n",
            "  chromium chromium-common chromium-driver chromium-sandbox libevent-2.1-6 libfontenc1\n",
            "  libgudev-1.0-0 libicu63 libimobiledevice6 libjpeg62-turbo libjsoncpp1 libplist3 libre2-5\n",
            "  libu2f-udev libupower-glib3 libusbmuxd6 libvpx5 libwebp6 libxkbfile1 libxtst6 libxxf86dga1\n",
            "  notification-daemon systemd-hwe-hwdb udev upower usbmuxd x11-utils\n",
            "The following packages will be upgraded:\n",
            "  libudev1\n",
            "1 upgraded, 27 newly installed, 0 to remove and 16 not upgraded.\n",
            "Need to get 76.8 MB of archives.\n",
            "After this operation, 267 MB of additional disk space will be used.\n",
            "Get:1 http://deb.debian.org/debian buster/main amd64 libevent-2.1-6 amd64 2.1.8-stable-4 [177 kB]\n",
            "Get:2 http://deb.debian.org/debian buster/main amd64 libicu63 amd64 63.1-6+deb10u3 [8,293 kB]\n",
            "Get:3 http://deb.debian.org/debian buster/main amd64 libjpeg62-turbo amd64 1:1.5.2-2+deb10u1 [133 kB]\n",
            "Get:4 http://deb.debian.org/debian buster/main amd64 libjsoncpp1 amd64 1.7.4-3 [75.6 kB]\n",
            "Get:5 http://deb.debian.org/debian buster/main amd64 libre2-5 amd64 20190101+dfsg-2 [161 kB]\n",
            "Get:6 http://deb.debian.org/debian-security buster/updates/main amd64 libvpx5 amd64 1.7.0-3+deb10u2 [800 kB]\n",
            "Get:7 http://deb.debian.org/debian-security buster/updates/main amd64 libwebp6 amd64 0.6.1-2+deb10u3 [263 kB]\n",
            "Get:8 http://deb.debian.org/debian buster/main amd64 chromium-common amd64 90.0.4430.212-1~deb10u1 [1,423 kB]\n",
            "Get:9 http://deb.debian.org/debian buster/main amd64 chromium amd64 90.0.4430.212-1~deb10u1 [58.3 MB]\n",
            "Get:10 http://archive.ubuntu.com/ubuntu jammy-updates/main amd64 libudev1 amd64 249.11-0ubuntu3.11 [78.0 kB]\n",
            "Get:11 http://deb.debian.org/debian buster/main amd64 chromium-driver amd64 90.0.4430.212-1~deb10u1 [4,703 kB]\n",
            "Get:12 http://deb.debian.org/debian buster/main amd64 chromium-sandbox amd64 90.0.4430.212-1~deb10u1 [146 kB]\n",
            "Get:13 http://archive.ubuntu.com/ubuntu jammy-updates/main amd64 udev amd64 249.11-0ubuntu3.11 [1,557 kB]\n",
            "Get:14 http://archive.ubuntu.com/ubuntu jammy/main amd64 libfontenc1 amd64 1:1.1.4-1build3 [14.7 kB]\n",
            "Get:15 http://archive.ubuntu.com/ubuntu jammy/main amd64 libxkbfile1 amd64 1:1.1.0-1build3 [71.8 kB]\n",
            "Get:16 http://archive.ubuntu.com/ubuntu jammy/main amd64 libxtst6 amd64 2:1.2.3-1build4 [13.4 kB]\n",
            "Get:17 http://archive.ubuntu.com/ubuntu jammy/main amd64 libxxf86dga1 amd64 2:1.1.5-0ubuntu3 [12.6 kB]\n",
            "Get:18 http://archive.ubuntu.com/ubuntu jammy/main amd64 x11-utils amd64 7.7+5build2 [206 kB]\n",
            "Get:19 http://archive.ubuntu.com/ubuntu jammy/main amd64 libgudev-1.0-0 amd64 1:237-2build1 [16.3 kB]\n",
            "Get:20 http://archive.ubuntu.com/ubuntu jammy/main amd64 libplist3 amd64 2.2.0-6build2 [32.1 kB]\n",
            "Get:21 http://archive.ubuntu.com/ubuntu jammy/main amd64 libusbmuxd6 amd64 2.0.2-3build2 [20.4 kB]\n",
            "Get:22 http://archive.ubuntu.com/ubuntu jammy/main amd64 libimobiledevice6 amd64 1.3.0-6build3 [71.1 kB]\n",
            "Get:23 http://archive.ubuntu.com/ubuntu jammy/main amd64 libu2f-udev all 1.1.10-3build2 [4,190 B]\n",
            "Get:24 http://archive.ubuntu.com/ubuntu jammy/main amd64 libupower-glib3 amd64 0.99.17-1 [46.7 kB]\n",
            "Get:25 http://archive.ubuntu.com/ubuntu jammy/universe amd64 notification-daemon amd64 3.20.0-4build1 [57.6 kB]\n",
            "Get:26 http://archive.ubuntu.com/ubuntu jammy-updates/main amd64 systemd-hwe-hwdb all 249.11.3 [2,908 B]\n",
            "Get:27 http://archive.ubuntu.com/ubuntu jammy/main amd64 upower amd64 0.99.17-1 [86.7 kB]\n",
            "Get:28 http://archive.ubuntu.com/ubuntu jammy/main amd64 usbmuxd amd64 1.1.1-2build2 [42.8 kB]\n",
            "Fetched 76.8 MB in 2s (34.3 MB/s)\n",
            "(Reading database ... 120882 files and directories currently installed.)\n",
            "Preparing to unpack .../libudev1_249.11-0ubuntu3.11_amd64.deb ...\n",
            "Unpacking libudev1:amd64 (249.11-0ubuntu3.11) over (249.11-0ubuntu3.10) ...\n",
            "Setting up libudev1:amd64 (249.11-0ubuntu3.11) ...\n",
            "Selecting previously unselected package udev.\n",
            "(Reading database ... 120882 files and directories currently installed.)\n",
            "Preparing to unpack .../00-udev_249.11-0ubuntu3.11_amd64.deb ...\n",
            "Unpacking udev (249.11-0ubuntu3.11) ...\n",
            "Selecting previously unselected package libevent-2.1-6:amd64.\n",
            "Preparing to unpack .../01-libevent-2.1-6_2.1.8-stable-4_amd64.deb ...\n",
            "Unpacking libevent-2.1-6:amd64 (2.1.8-stable-4) ...\n",
            "Selecting previously unselected package libicu63:amd64.\n",
            "Preparing to unpack .../02-libicu63_63.1-6+deb10u3_amd64.deb ...\n",
            "Unpacking libicu63:amd64 (63.1-6+deb10u3) ...\n",
            "Selecting previously unselected package libjpeg62-turbo:amd64.\n",
            "Preparing to unpack .../03-libjpeg62-turbo_1%3a1.5.2-2+deb10u1_amd64.deb ...\n",
            "Unpacking libjpeg62-turbo:amd64 (1:1.5.2-2+deb10u1) ...\n",
            "Selecting previously unselected package libjsoncpp1:amd64.\n",
            "Preparing to unpack .../04-libjsoncpp1_1.7.4-3_amd64.deb ...\n",
            "Unpacking libjsoncpp1:amd64 (1.7.4-3) ...\n",
            "Selecting previously unselected package libre2-5:amd64.\n",
            "Preparing to unpack .../05-libre2-5_20190101+dfsg-2_amd64.deb ...\n",
            "Unpacking libre2-5:amd64 (20190101+dfsg-2) ...\n",
            "Selecting previously unselected package libvpx5:amd64.\n",
            "Preparing to unpack .../06-libvpx5_1.7.0-3+deb10u2_amd64.deb ...\n",
            "Unpacking libvpx5:amd64 (1.7.0-3+deb10u2) ...\n",
            "Selecting previously unselected package libwebp6:amd64.\n",
            "Preparing to unpack .../07-libwebp6_0.6.1-2+deb10u3_amd64.deb ...\n",
            "Unpacking libwebp6:amd64 (0.6.1-2+deb10u3) ...\n",
            "Selecting previously unselected package libfontenc1:amd64.\n",
            "Preparing to unpack .../08-libfontenc1_1%3a1.1.4-1build3_amd64.deb ...\n",
            "Unpacking libfontenc1:amd64 (1:1.1.4-1build3) ...\n",
            "Selecting previously unselected package libxkbfile1:amd64.\n",
            "Preparing to unpack .../09-libxkbfile1_1%3a1.1.0-1build3_amd64.deb ...\n",
            "Unpacking libxkbfile1:amd64 (1:1.1.0-1build3) ...\n",
            "Selecting previously unselected package libxtst6:amd64.\n",
            "Preparing to unpack .../10-libxtst6_2%3a1.2.3-1build4_amd64.deb ...\n",
            "Unpacking libxtst6:amd64 (2:1.2.3-1build4) ...\n",
            "Selecting previously unselected package libxxf86dga1:amd64.\n",
            "Preparing to unpack .../11-libxxf86dga1_2%3a1.1.5-0ubuntu3_amd64.deb ...\n",
            "Unpacking libxxf86dga1:amd64 (2:1.1.5-0ubuntu3) ...\n",
            "Selecting previously unselected package x11-utils.\n",
            "Preparing to unpack .../12-x11-utils_7.7+5build2_amd64.deb ...\n",
            "Unpacking x11-utils (7.7+5build2) ...\n",
            "Selecting previously unselected package chromium-common.\n",
            "Preparing to unpack .../13-chromium-common_90.0.4430.212-1~deb10u1_amd64.deb ...\n",
            "Unpacking chromium-common (90.0.4430.212-1~deb10u1) ...\n",
            "Selecting previously unselected package chromium.\n",
            "Preparing to unpack .../14-chromium_90.0.4430.212-1~deb10u1_amd64.deb ...\n",
            "Unpacking chromium (90.0.4430.212-1~deb10u1) ...\n",
            "Selecting previously unselected package chromium-driver.\n",
            "Preparing to unpack .../15-chromium-driver_90.0.4430.212-1~deb10u1_amd64.deb ...\n",
            "Unpacking chromium-driver (90.0.4430.212-1~deb10u1) ...\n",
            "Selecting previously unselected package chromium-sandbox.\n",
            "Preparing to unpack .../16-chromium-sandbox_90.0.4430.212-1~deb10u1_amd64.deb ...\n",
            "Unpacking chromium-sandbox (90.0.4430.212-1~deb10u1) ...\n",
            "Selecting previously unselected package libgudev-1.0-0:amd64.\n",
            "Preparing to unpack .../17-libgudev-1.0-0_1%3a237-2build1_amd64.deb ...\n",
            "Unpacking libgudev-1.0-0:amd64 (1:237-2build1) ...\n",
            "Selecting previously unselected package libplist3:amd64.\n",
            "Preparing to unpack .../18-libplist3_2.2.0-6build2_amd64.deb ...\n",
            "Unpacking libplist3:amd64 (2.2.0-6build2) ...\n",
            "Selecting previously unselected package libusbmuxd6:amd64.\n",
            "Preparing to unpack .../19-libusbmuxd6_2.0.2-3build2_amd64.deb ...\n",
            "Unpacking libusbmuxd6:amd64 (2.0.2-3build2) ...\n",
            "Selecting previously unselected package libimobiledevice6:amd64.\n",
            "Preparing to unpack .../20-libimobiledevice6_1.3.0-6build3_amd64.deb ...\n",
            "Unpacking libimobiledevice6:amd64 (1.3.0-6build3) ...\n",
            "Selecting previously unselected package libu2f-udev.\n",
            "Preparing to unpack .../21-libu2f-udev_1.1.10-3build2_all.deb ...\n",
            "Unpacking libu2f-udev (1.1.10-3build2) ...\n",
            "Selecting previously unselected package libupower-glib3:amd64.\n",
            "Preparing to unpack .../22-libupower-glib3_0.99.17-1_amd64.deb ...\n",
            "Unpacking libupower-glib3:amd64 (0.99.17-1) ...\n",
            "Selecting previously unselected package notification-daemon.\n",
            "Preparing to unpack .../23-notification-daemon_3.20.0-4build1_amd64.deb ...\n",
            "Unpacking notification-daemon (3.20.0-4build1) ...\n",
            "Selecting previously unselected package systemd-hwe-hwdb.\n",
            "Preparing to unpack .../24-systemd-hwe-hwdb_249.11.3_all.deb ...\n",
            "Unpacking systemd-hwe-hwdb (249.11.3) ...\n",
            "Selecting previously unselected package upower.\n",
            "Preparing to unpack .../25-upower_0.99.17-1_amd64.deb ...\n",
            "Unpacking upower (0.99.17-1) ...\n",
            "Selecting previously unselected package usbmuxd.\n",
            "Preparing to unpack .../26-usbmuxd_1.1.1-2build2_amd64.deb ...\n",
            "Unpacking usbmuxd (1.1.1-2build2) ...\n",
            "Setting up libplist3:amd64 (2.2.0-6build2) ...\n",
            "Setting up libxtst6:amd64 (2:1.2.3-1build4) ...\n",
            "Setting up libxxf86dga1:amd64 (2:1.1.5-0ubuntu3) ...\n",
            "Setting up chromium-sandbox (90.0.4430.212-1~deb10u1) ...\n",
            "Setting up libicu63:amd64 (63.1-6+deb10u3) ...\n",
            "Setting up notification-daemon (3.20.0-4build1) ...\n",
            "Setting up libfontenc1:amd64 (1:1.1.4-1build3) ...\n",
            "Setting up libjpeg62-turbo:amd64 (1:1.5.2-2+deb10u1) ...\n",
            "Setting up udev (249.11-0ubuntu3.11) ...\n",
            "invoke-rc.d: could not determine current runlevel\n",
            "invoke-rc.d: policy-rc.d denied execution of start.\n",
            "Setting up libwebp6:amd64 (0.6.1-2+deb10u3) ...\n",
            "Setting up libevent-2.1-6:amd64 (2.1.8-stable-4) ...\n",
            "Setting up systemd-hwe-hwdb (249.11.3) ...\n",
            "Setting up libusbmuxd6:amd64 (2.0.2-3build2) ...\n",
            "Setting up libupower-glib3:amd64 (0.99.17-1) ...\n",
            "Setting up libre2-5:amd64 (20190101+dfsg-2) ...\n",
            "Setting up libxkbfile1:amd64 (1:1.1.0-1build3) ...\n",
            "Setting up libimobiledevice6:amd64 (1.3.0-6build3) ...\n",
            "Setting up libgudev-1.0-0:amd64 (1:237-2build1) ...\n",
            "Setting up libvpx5:amd64 (1.7.0-3+deb10u2) ...\n",
            "Setting up libjsoncpp1:amd64 (1.7.4-3) ...\n",
            "Setting up libu2f-udev (1.1.10-3build2) ...\n",
            "Setting up upower (0.99.17-1) ...\n",
            "Setting up usbmuxd (1.1.1-2build2) ...\n",
            "Warning: The home dir /var/lib/usbmux you specified can't be accessed: No such file or directory\n",
            "Adding system user `usbmux' (UID 104) ...\n",
            "Adding new user `usbmux' (UID 104) with group `plugdev' ...\n",
            "Not creating home directory `/var/lib/usbmux'.\n",
            "Setting up x11-utils (7.7+5build2) ...\n",
            "Setting up chromium-common (90.0.4430.212-1~deb10u1) ...\n",
            "Setting up chromium (90.0.4430.212-1~deb10u1) ...\n",
            "update-alternatives: using /usr/bin/chromium to provide /usr/bin/x-www-browser (x-www-browser) in auto mode\n",
            "update-alternatives: using /usr/bin/chromium to provide /usr/bin/gnome-www-browser (gnome-www-browser) in auto mode\n",
            "Setting up chromium-driver (90.0.4430.212-1~deb10u1) ...\n",
            "Processing triggers for man-db (2.10.2-1) ...\n",
            "Processing triggers for dbus (1.12.20-2ubuntu4.1) ...\n",
            "Processing triggers for hicolor-icon-theme (0.17-2) ...\n",
            "Processing triggers for libc-bin (2.35-0ubuntu3.4) ...\n",
            "/sbin/ldconfig.real: /usr/local/lib/libtbbmalloc.so.2 is not a symbolic link\n",
            "\n",
            "/sbin/ldconfig.real: /usr/local/lib/libtbbmalloc_proxy.so.2 is not a symbolic link\n",
            "\n",
            "/sbin/ldconfig.real: /usr/local/lib/libtbbbind_2_0.so.3 is not a symbolic link\n",
            "\n",
            "/sbin/ldconfig.real: /usr/local/lib/libtbb.so.12 is not a symbolic link\n",
            "\n",
            "/sbin/ldconfig.real: /usr/local/lib/libtbbbind.so.3 is not a symbolic link\n",
            "\n",
            "/sbin/ldconfig.real: /usr/local/lib/libtbbbind_2_5.so.3 is not a symbolic link\n",
            "\n",
            "Collecting selenium\n",
            "  Downloading selenium-4.15.2-py3-none-any.whl (10.2 MB)\n",
            "\u001b[2K     \u001b[90m━━━━━━━━━━━━━━━━━━━━━━━━━━━━━━━━━━━━━━━━\u001b[0m \u001b[32m10.2/10.2 MB\u001b[0m \u001b[31m14.1 MB/s\u001b[0m eta \u001b[36m0:00:00\u001b[0m\n",
            "\u001b[?25hRequirement already satisfied: urllib3[socks]<3,>=1.26 in /usr/local/lib/python3.10/dist-packages (from selenium) (2.0.7)\n",
            "Collecting trio~=0.17 (from selenium)\n",
            "  Downloading trio-0.23.1-py3-none-any.whl (448 kB)\n",
            "\u001b[2K     \u001b[90m━━━━━━━━━━━━━━━━━━━━━━━━━━━━━━━━━━━━━━━━\u001b[0m \u001b[32m448.3/448.3 kB\u001b[0m \u001b[31m32.4 MB/s\u001b[0m eta \u001b[36m0:00:00\u001b[0m\n",
            "\u001b[?25hCollecting trio-websocket~=0.9 (from selenium)\n",
            "  Downloading trio_websocket-0.11.1-py3-none-any.whl (17 kB)\n",
            "Requirement already satisfied: certifi>=2021.10.8 in /usr/local/lib/python3.10/dist-packages (from selenium) (2023.7.22)\n",
            "Requirement already satisfied: attrs>=20.1.0 in /usr/local/lib/python3.10/dist-packages (from trio~=0.17->selenium) (23.1.0)\n",
            "Requirement already satisfied: sortedcontainers in /usr/local/lib/python3.10/dist-packages (from trio~=0.17->selenium) (2.4.0)\n",
            "Requirement already satisfied: idna in /usr/local/lib/python3.10/dist-packages (from trio~=0.17->selenium) (3.4)\n",
            "Collecting outcome (from trio~=0.17->selenium)\n",
            "  Downloading outcome-1.3.0.post0-py2.py3-none-any.whl (10 kB)\n",
            "Requirement already satisfied: sniffio>=1.3.0 in /usr/local/lib/python3.10/dist-packages (from trio~=0.17->selenium) (1.3.0)\n",
            "Requirement already satisfied: exceptiongroup>=1.0.0rc9 in /usr/local/lib/python3.10/dist-packages (from trio~=0.17->selenium) (1.1.3)\n",
            "Collecting wsproto>=0.14 (from trio-websocket~=0.9->selenium)\n",
            "  Downloading wsproto-1.2.0-py3-none-any.whl (24 kB)\n",
            "Requirement already satisfied: pysocks!=1.5.7,<2.0,>=1.5.6 in /usr/local/lib/python3.10/dist-packages (from urllib3[socks]<3,>=1.26->selenium) (1.7.1)\n",
            "Collecting h11<1,>=0.9.0 (from wsproto>=0.14->trio-websocket~=0.9->selenium)\n",
            "  Downloading h11-0.14.0-py3-none-any.whl (58 kB)\n",
            "\u001b[2K     \u001b[90m━━━━━━━━━━━━━━━━━━━━━━━━━━━━━━━━━━━━━━━━\u001b[0m \u001b[32m58.3/58.3 kB\u001b[0m \u001b[31m8.0 MB/s\u001b[0m eta \u001b[36m0:00:00\u001b[0m\n",
            "\u001b[?25hInstalling collected packages: outcome, h11, wsproto, trio, trio-websocket, selenium\n",
            "Successfully installed h11-0.14.0 outcome-1.3.0.post0 selenium-4.15.2 trio-0.23.1 trio-websocket-0.11.1 wsproto-1.2.0\n"
          ]
        },
        {
          "output_type": "execute_result",
          "data": {
            "text/plain": []
          },
          "metadata": {},
          "execution_count": 2
        }
      ]
    },
    {
      "cell_type": "code",
      "source": [
        "# -*- coding: UTF-8 -*-\n",
        "import time\n",
        "from selenium import webdriver\n",
        "from selenium.webdriver.common.by import By\n",
        "from selenium.webdriver.chrome.service import Service\n",
        "\n",
        "# 시간 대기 작업할때 필요함\n",
        "from selenium.webdriver.support.ui import WebDriverWait\n",
        "from selenium.webdriver.support import expected_conditions as EC"
      ],
      "metadata": {
        "id": "WuiT4egWo1GN"
      },
      "execution_count": 3,
      "outputs": []
    },
    {
      "cell_type": "markdown",
      "source": [
        "### Naver에서 id가 1일 때 & 검색어 입력"
      ],
      "metadata": {
        "id": "E7Z2qHEVpJEc"
      }
    },
    {
      "cell_type": "code",
      "source": [
        "#Colab에선 웹브라우저 창이 뜨지 않으므로 별도 설정한다.\n",
        "service = Service(executable_path=r'/usr/bin/chromedriver')\n",
        "options = webdriver.ChromeOptions()\n",
        "options.add_argument('--headless') #headless모드 브라우저가 뜨지 않고 실행된다.\n",
        "options.add_argument('--no-sandbox')# 보안 기능 비활성화 (샌드박스라는 공간을 비활성화 시킨다는 뜻)\n",
        "options.add_argument('--disable-dev-shm-usage')# /dev/shm(공유메모리) 디렉토리를 사용하지 않는다는 뜻\n",
        "driver = webdriver.Chrome(service=service, options=options)"
      ],
      "metadata": {
        "id": "jOyc4GjOpM-3"
      },
      "execution_count": null,
      "outputs": []
    },
    {
      "cell_type": "code",
      "source": [
        "url = 'https://www.naver.com'\n",
        "driver.get(url)\n",
        "print(driver)\n",
        "print(type(driver)) # <class 'selenium.webdriver.chrome.webdriver.WebDriver'>\n",
        "print(dir(driver))\n",
        "\n",
        "inputSearch = driver.find_element(By.ID, 'query') # 검색칸\n",
        "print(dir(inputSearch))\n",
        "\n",
        "# 검색어를 입력한다.\n",
        "\n",
        "inputSearch.send_keys('겨울왕국')\n",
        "buttonSearch = driver.find_element(By.CLASS_NAME, 'btn_search') # 검색버튼\n",
        "\n",
        "# 검색버튼 클릭\n",
        "\n",
        "buttonSearch.click()\n",
        "\n",
        "content = driver.find_element(By.CLASS_NAME, 'text_expand._ellipsis')\n",
        "print(content.text)"
      ],
      "metadata": {
        "colab": {
          "base_uri": "https://localhost:8080/"
        },
        "id": "JPMC5cGwpeuN",
        "outputId": "a384b15f-cf84-43b4-cc3d-88cb9d482de6"
      },
      "execution_count": null,
      "outputs": [
        {
          "output_type": "stream",
          "name": "stdout",
          "text": [
            "<selenium.webdriver.chrome.webdriver.WebDriver (session=\"d504a65842bbf805a470201e1f2e4f72\")>\n",
            "<class 'selenium.webdriver.chrome.webdriver.WebDriver'>\n",
            "['__abstractmethods__', '__class__', '__delattr__', '__dict__', '__dir__', '__doc__', '__enter__', '__eq__', '__exit__', '__format__', '__ge__', '__getattribute__', '__gt__', '__hash__', '__init__', '__init_subclass__', '__le__', '__lt__', '__module__', '__ne__', '__new__', '__reduce__', '__reduce_ex__', '__repr__', '__setattr__', '__sizeof__', '__str__', '__subclasshook__', '__weakref__', '_abc_impl', '_authenticator_id', '_check_if_window_handle_is_current', '_file_detector', '_get_cdp_details', '_is_remote', '_mobile', '_shadowroot_cls', '_switch_to', '_unwrap_value', '_web_element_cls', '_wrap_value', 'add_cookie', 'add_credential', 'add_virtual_authenticator', 'application_cache', 'back', 'bidi_connection', 'capabilities', 'caps', 'close', 'command_executor', 'create_web_element', 'current_url', 'current_window_handle', 'delete_all_cookies', 'delete_cookie', 'delete_downloadable_files', 'delete_network_conditions', 'desired_capabilities', 'download_file', 'error_handler', 'execute', 'execute_async_script', 'execute_cdp_cmd', 'execute_script', 'file_detector', 'file_detector_context', 'find_element', 'find_elements', 'forward', 'fullscreen_window', 'get', 'get_cookie', 'get_cookies', 'get_credentials', 'get_downloadable_files', 'get_issue_message', 'get_log', 'get_network_conditions', 'get_pinned_scripts', 'get_screenshot_as_base64', 'get_screenshot_as_file', 'get_screenshot_as_png', 'get_sinks', 'get_window_position', 'get_window_rect', 'get_window_size', 'implicitly_wait', 'launch_app', 'log_types', 'maximize_window', 'minimize_window', 'mobile', 'name', 'orientation', 'page_source', 'pin_script', 'pinned_scripts', 'print_page', 'quit', 'refresh', 'remove_all_credentials', 'remove_credential', 'remove_virtual_authenticator', 'save_screenshot', 'service', 'session_id', 'set_network_conditions', 'set_page_load_timeout', 'set_permissions', 'set_script_timeout', 'set_sink_to_use', 'set_user_verified', 'set_window_position', 'set_window_rect', 'set_window_size', 'start_client', 'start_desktop_mirroring', 'start_session', 'start_tab_mirroring', 'stop_casting', 'stop_client', 'switch_to', 'timeouts', 'title', 'unpin', 'vendor_prefix', 'virtual_authenticator_id', 'window_handles']\n",
            "['__abstractmethods__', '__class__', '__delattr__', '__dict__', '__dir__', '__doc__', '__eq__', '__format__', '__ge__', '__getattribute__', '__gt__', '__hash__', '__init__', '__init_subclass__', '__le__', '__lt__', '__module__', '__ne__', '__new__', '__reduce__', '__reduce_ex__', '__repr__', '__setattr__', '__sizeof__', '__str__', '__subclasshook__', '__weakref__', '_abc_impl', '_execute', '_id', '_parent', '_upload', 'accessible_name', 'aria_role', 'clear', 'click', 'find_element', 'find_elements', 'get_attribute', 'get_dom_attribute', 'get_property', 'id', 'is_displayed', 'is_enabled', 'is_selected', 'location', 'location_once_scrolled_into_view', 'parent', 'rect', 'screenshot', 'screenshot_as_base64', 'screenshot_as_png', 'send_keys', 'shadow_root', 'size', 'submit', 'tag_name', 'text', 'value_of_css_property']\n",
            "서로가 최고의 친구였던 자매 ‘엘사’와 ‘안나’. 하지만 언니 ‘엘사’에게는 하나뿐인 동생에게조차 말 못할 비밀이 있다. 모든 것을 얼려버리는 신비로운 힘이 바로 그것. ‘엘사’는 통제할 수 없는 자신의 힘이 두려워 왕국을 떠나고, 얼어버린 왕국의 저주를 풀기 위해 ‘안나’는 언니를 찾아 환상적인 여정을 떠나는데…… 더보기\n"
          ]
        }
      ]
    },
    {
      "cell_type": "code",
      "source": [
        "# 종료\n",
        "driver.quit()"
      ],
      "metadata": {
        "id": "gYU_hj_4w9lz"
      },
      "execution_count": null,
      "outputs": []
    },
    {
      "cell_type": "markdown",
      "source": [
        "### Google에서 class가 1개일 때 & 검색어 입력"
      ],
      "metadata": {
        "id": "uBC2F3VWxDfC"
      }
    },
    {
      "cell_type": "code",
      "source": [
        "#Colab에선 웹브라우저 창이 뜨지 않으므로 별도 설정한다.\n",
        "service = Service(executable_path=r'/usr/bin/chromedriver')\n",
        "options = webdriver.ChromeOptions()\n",
        "options.add_argument('--headless') #headless모드 브라우저가 뜨지 않고 실행된다.\n",
        "options.add_argument('--no-sandbox')# 보안 기능 비활성화 (샌드박스라는 공간을 비활성화 시킨다는 뜻)\n",
        "options.add_argument('--disable-dev-shm-usage')# /dev/shm(공유메모리) 디렉토리를 사용하지 않는다는 뜻\n",
        "driver = webdriver.Chrome(service=service, options=options)"
      ],
      "metadata": {
        "id": "ebcQHsLrxW4u"
      },
      "execution_count": null,
      "outputs": []
    },
    {
      "cell_type": "code",
      "source": [
        "url = 'https://www.google.com/'\n",
        "driver.get(url)\n",
        "\n",
        "# 구글 검색칸\n",
        "btns = driver.find_element(By.CLASS_NAME, 'gLFyf')\n",
        "\n",
        "# 검색어를 입력한다.\n",
        "btns.send_keys('겨울왕국')\n",
        "\n",
        "# btns.click()을 사용할 수 없는 경우\n",
        "btns.submit() # 강제적으로 이벤트 발생\n",
        "\n",
        "content = driver.find_element(By.CLASS_NAME, 'VwiC3b.yXK7lf.lyLwlc.yDYNvb.W8l4ac.lEBKkf')\n",
        "print(content.text)"
      ],
      "metadata": {
        "id": "gnHDHMVBxenq"
      },
      "execution_count": null,
      "outputs": []
    },
    {
      "cell_type": "code",
      "source": [
        "# 종료\n",
        "driver.quit()"
      ],
      "metadata": {
        "id": "EBEz7kPHzC3V"
      },
      "execution_count": null,
      "outputs": []
    },
    {
      "cell_type": "markdown",
      "source": [
        "### Daum에서 css가 여러개일 때"
      ],
      "metadata": {
        "id": "qjZtgjfI7KQS"
      }
    },
    {
      "cell_type": "code",
      "source": [
        "#Colab에선 웹브라우저 창이 뜨지 않으므로 별도 설정한다.\n",
        "service = Service(executable_path=r'/usr/bin/chromedriver')\n",
        "options = webdriver.ChromeOptions()\n",
        "options.add_argument('--headless') #headless모드 브라우저가 뜨지 않고 실행된다.\n",
        "options.add_argument('--no-sandbox')# 보안 기능 비활성화 (샌드박스라는 공간을 비활성화 시킨다는 뜻)\n",
        "options.add_argument('--disable-dev-shm-usage')# /dev/shm(공유메모리) 디렉토리를 사용하지 않는다는 뜻\n",
        "driver = webdriver.Chrome(service=service, options=options)"
      ],
      "metadata": {
        "id": "ExMZggIx7SdY"
      },
      "execution_count": null,
      "outputs": []
    },
    {
      "cell_type": "code",
      "source": [
        "url = 'https://www.daum.net/'\n",
        "driver.get(url)\n",
        "\n",
        "ahtml = driver.find_element(By.CSS_SELECTOR, '#daumHead > div.d_service > div > div.menu_service > ul > li:nth-child(4) > a')\n",
        "print(ahtml.text)\n",
        "\n",
        "ahtml.click()\n",
        "\n",
        "# loc = driver.find_element(By.CLASS_NAME, 'approxAddr')\n",
        "# print(loc.text)"
      ],
      "metadata": {
        "id": "s2dhtSU07Xf4"
      },
      "execution_count": null,
      "outputs": []
    },
    {
      "cell_type": "code",
      "source": [
        "# 종료\n",
        "driver.quit()"
      ],
      "metadata": {
        "id": "Kz-PFcnk-eM9"
      },
      "execution_count": null,
      "outputs": []
    },
    {
      "cell_type": "markdown",
      "source": [
        "### Naver에서 많이 본 목록보기"
      ],
      "metadata": {
        "id": "7fnAotOP-hdf"
      }
    },
    {
      "cell_type": "code",
      "source": [
        "#Colab에선 웹브라우저 창이 뜨지 않으므로 별도 설정한다.\n",
        "service = Service(executable_path=r'/usr/bin/chromedriver')\n",
        "options = webdriver.ChromeOptions()\n",
        "options.add_argument('--headless') #headless모드 브라우저가 뜨지 않고 실행된다.\n",
        "options.add_argument('--no-sandbox')# 보안 기능 비활성화 (샌드박스라는 공간을 비활성화 시킨다는 뜻)\n",
        "options.add_argument('--disable-dev-shm-usage')# /dev/shm(공유메모리) 디렉토리를 사용하지 않는다는 뜻\n",
        "driver = webdriver.Chrome(service=service, options=options)"
      ],
      "metadata": {
        "id": "NJsi_XJR-qiq"
      },
      "execution_count": 14,
      "outputs": []
    },
    {
      "cell_type": "code",
      "source": [
        "import openpyxl\n",
        "\n",
        "# 엑셀 파일 생성\n",
        "wb = openpyxl.Workbook()\n",
        "\n",
        "# sheet 워크시트 삭제\n",
        "wb.remove_sheet(wb['Sheet'])\n",
        "\n",
        "url = 'https://news.naver.com/'\n",
        "driver.get(url)\n",
        "\n",
        "time.sleep(5)\n",
        "\n",
        "# '랭킹' 메뉴\n",
        "div_rank_btn = driver.find_element(By.CSS_SELECTOR, 'body > section > header > div.Nlnb._float_lnb > div > div > div > div > div > ul > li:nth-child(8) > a')\n",
        "print(div_rank_btn.text)\n",
        "\n",
        "# 랭킹 클릭\n",
        "div_rank_btn.click()\n",
        "\n",
        "# 언론사별 랭킹뉴스 중 카테고리 한 개 지정\n",
        "for i in range(1,4):\n",
        "  rank_name = driver.find_element(By.CSS_SELECTOR, '#wrap > div.rankingnews._popularWelBase._persist > div.rankingnews_box_wrap._popularRanking > div > div:nth-child('+str(i)+') > a')\n",
        "  print(rank_name.text)\n",
        "\n",
        "  # 워크시트 생성(index=1을 설정하면 가장 최근 워크시트가 제일 앞으로 배치됨)\n",
        "  ws = wb.create_sheet(rank_name.text, index = 1)\n",
        "  ws['A1']='번호'\n",
        "  ws['B1']='뉴스'\n",
        "\n",
        "  div_rank_list = driver.find_elements(By.CSS_SELECTOR, '#wrap > div.rankingnews._popularWelBase._persist > div.rankingnews_box_wrap._popularRanking > div > div:nth-child('+str(i)+') > ul > li')\n",
        "  # print(len(div_rank_list))\n",
        "  # print(div_rank_list)\n",
        "  # print(dir(div_rank_list))\n",
        "\n",
        "  for idx, element_rank in enumerate(div_rank_list, start=2):\n",
        "    num = element_rank.find_element(By.CLASS_NAME, 'list_ranking_num')\n",
        "    content = element_rank.find_element(By.CLASS_NAME, 'list_content')\n",
        "    # print(num.text, content.text)\n",
        "    ws['A'+str(idx)] = num.text\n",
        "    ws['B'+str(idx)] = content.text\n",
        "\n",
        "wb.save('./source/news.xlsx')\n"
      ],
      "metadata": {
        "colab": {
          "base_uri": "https://localhost:8080/"
        },
        "id": "xyc7Qm-n-twB",
        "outputId": "493a311c-3e44-4ef9-f8ef-5f89f96dfede"
      },
      "execution_count": null,
      "outputs": [
        {
          "output_type": "stream",
          "name": "stderr",
          "text": [
            "<ipython-input-8-3a541b873877>:7: DeprecationWarning: Call to deprecated function remove_sheet (Use wb.remove(worksheet) or del wb[sheetname]).\n",
            "  wb.remove_sheet(wb['Sheet'])\n"
          ]
        },
        {
          "output_type": "stream",
          "name": "stdout",
          "text": [
            "랭킹\n",
            "YTN\n",
            "랭킹 결과를 더 볼 수 있어요.\n",
            "한국경제\n",
            "파이낸셜뉴스\n"
          ]
        }
      ]
    },
    {
      "cell_type": "code",
      "source": [
        "driver.quit()"
      ],
      "metadata": {
        "id": "DXPfvfMqu8sR"
      },
      "execution_count": null,
      "outputs": []
    },
    {
      "cell_type": "code",
      "source": [
        "url = 'https://www.naver.com'\n",
        "driver.get(url)\n",
        "\n",
        "time.sleep(5)\n",
        "\n",
        "# 뉴스 탭 클릭\n",
        "news = driver.find_element(By.CSS_SELECTOR, '#shortcutArea > ul > li:nth-child(5) > a')\n",
        "news.click()\n",
        "\n",
        "time.sleep(5)\n",
        "\n",
        "# focus를 뉴스가 열린 탭으로 이동시킨다.\n",
        "driver.switch_to.window(driver.window_handles[-1])\n",
        "\n",
        "#print(driver.page_source)\n",
        "\n",
        "try:\n",
        "  a = WebDriverWait(driver, 10).until(EC.presence_of_element_located((By.CSS_SELECTOR, '#ct > div > section.main_content > div.main_brick > div > div:nth-child(2) > div.main_brick_item._journalist_feed_card_wrapper._persist_wrap > div.comp_news_subscribe > div.cns_list_wrap > ul > li:nth-child(3) > div > a')))\n",
        "  print(a.text)\n",
        "except Exception as e:\n",
        "  print(dir(e))\n",
        "  print(e)"
      ],
      "metadata": {
        "colab": {
          "base_uri": "https://localhost:8080/"
        },
        "id": "w633MD-Ps5Dp",
        "outputId": "14bae04f-0584-4709-a44e-5af8218c69ae"
      },
      "execution_count": 18,
      "outputs": [
        {
          "output_type": "stream",
          "name": "stdout",
          "text": [
            "“남양주 검침원 공무직 임금 최하위”…공무직 처우 개선 필요 목소리\n"
          ]
        }
      ]
    },
    {
      "cell_type": "code",
      "source": [
        "driver.quit()"
      ],
      "metadata": {
        "id": "p5Qnqg1DCgDm"
      },
      "execution_count": 13,
      "outputs": []
    },
    {
      "cell_type": "code",
      "source": [
        "# #Colab에선 웹브라우저 창이 뜨지 않으므로 별도 설정한다.\n",
        "# service = Service(executable_path=r'/usr/bin/chromedriver')\n",
        "# options = webdriver.ChromeOptions()\n",
        "# options.add_argument('--headless') #headless모드 브라우저가 뜨지 않고 실행된다.\n",
        "# options.add_argument('--no-sandbox')# 보안 기능 비활성화 (샌드박스라는 공간을 비활성화 시킨다는 뜻)\n",
        "# options.add_argument('--disable-dev-shm-usage')# /dev/shm(공유메모리) 디렉토리를 사용하지 않는다는 뜻\n",
        "# driver = webdriver.Chrome(service=service, options=options)"
      ],
      "metadata": {
        "id": "KG6yZgjnCj0F"
      },
      "execution_count": null,
      "outputs": []
    },
    {
      "cell_type": "code",
      "source": [
        "# url = 'https://news.naver.com/'\n",
        "# driver.get(url)\n",
        "\n",
        "# div_rank_btn = driver.find_element(By.XPATH, '//*[@id=\"ct\"]/div/section[1]/div[2]/div/div[1]/div[2]/div/div/div[3]/ul[1]')\n",
        "# print(div_rank_btn)"
      ],
      "metadata": {
        "id": "sMEOU429Cldm"
      },
      "execution_count": null,
      "outputs": []
    },
    {
      "cell_type": "markdown",
      "source": [
        "###시간창 대기 3가지\n",
        "- 일반적으로 시간창 대기는 time.sleep , implicitly_wait , Explicit Waits 3가지 사용\n",
        " - time.sleep: 그냥 지정한 시간만큼 기다린 뒤에 작업을 진행.\n",
        " - implicitly_wait : 지정한 시간만큼 기다려주고 그 이후는 기다리지 않음.\n",
        " - Explicit Waits : 특정 상태가 될때까지 기다리고, 상태가 되면 바로 다음 실행."
      ],
      "metadata": {
        "id": "uJ6MN-3ospIT"
      }
    },
    {
      "cell_type": "code",
      "source": [
        "#Colab에선 웹브라우저 창이 뜨지 않으므로 별도 설정한다.\n",
        "service = Service(executable_path=r'/usr/bin/chromedriver')\n",
        "options = webdriver.ChromeOptions()\n",
        "options.add_argument('--headless') #headless모드 브라우저가 뜨지 않고 실행된다.\n",
        "options.add_argument('--no-sandbox')# 보안 기능 비활성화 (샌드박스라는 공간을 비활성화 시킨다는 뜻)\n",
        "options.add_argument('--disable-dev-shm-usage')# /dev/shm(공유메모리) 디렉토리를 사용하지 않는다는 뜻\n",
        "driver = webdriver.Chrome(service=service, options=options)"
      ],
      "metadata": {
        "id": "y9xaOWybvs8i"
      },
      "execution_count": null,
      "outputs": []
    },
    {
      "cell_type": "code",
      "source": [
        "# 5초 dfirver.lmpllcltly_wait(5)의 경우, 페이지가 2초만에 로딩된다면 5초를 기다리지않고 바로 다음 코드 진행\n",
        "\n",
        "url = 'https://www.daum.net'\n",
        "driver.get(url)\n",
        "\n",
        "# 지도 메뉴를 찾아서 최대 5초만 기다리기.\n",
        "button = WebDriverWait(driver,5).until(EC.presence_of_element_located((By.CSS_SELECTOR, '#daumHead > div.d_service > div > div.menu_service > ul > li:nth-child(4) > a')))\n",
        "# 튜플로해야해서 괄호가 2개\n",
        "print(button.text)\n",
        "button.click()"
      ],
      "metadata": {
        "colab": {
          "base_uri": "https://localhost:8080/"
        },
        "id": "tXakN7pPvtq5",
        "outputId": "8b7dd3f4-7873-4376-f817-4a01b2a5ad6e"
      },
      "execution_count": null,
      "outputs": [
        {
          "output_type": "stream",
          "name": "stdout",
          "text": [
            "지도\n"
          ]
        }
      ]
    },
    {
      "cell_type": "code",
      "source": [
        "driver.quit()"
      ],
      "metadata": {
        "id": "AV_udOVExIa5"
      },
      "execution_count": null,
      "outputs": []
    },
    {
      "cell_type": "markdown",
      "source": [
        "## 다음 로그인하기"
      ],
      "metadata": {
        "id": "dc3ayFURxXVZ"
      }
    },
    {
      "cell_type": "code",
      "source": [
        "#Colab에선 웹브라우저 창이 뜨지 않으므로 별도 설정한다.\n",
        "service = Service(executable_path=r'/usr/bin/chromedriver')\n",
        "options = webdriver.ChromeOptions()\n",
        "options.add_argument('--headless') #headless모드 브라우저가 뜨지 않고 실행된다.\n",
        "options.add_argument('--no-sandbox')# 보안 기능 비활성화 (샌드박스라는 공간을 비활성화 시킨다는 뜻)\n",
        "options.add_argument('--disable-dev-shm-usage')# /dev/shm(공유메모리) 디렉토리를 사용하지 않는다는 뜻\n",
        "driver = webdriver.Chrome(service=service, options=options)"
      ],
      "metadata": {
        "id": "A5JBZftNtEU8"
      },
      "execution_count": null,
      "outputs": []
    },
    {
      "cell_type": "markdown",
      "source": [
        "### XXXXXXXXXXXXXXXXXXXXXXXXXXgithub 올리기전에 id,pwd 지우기XXXXXXXXXXXXXXXXXXXXXXXXXX"
      ],
      "metadata": {
        "id": "G2FHGa_wxnV5"
      }
    },
    {
      "cell_type": "code",
      "source": [
        "url = 'https://www.daum.net'\n",
        "driver.get(url)\n",
        "\n",
        "next = driver.find_element(By.XPATH, '//*[@id=\"inner_login\"]/a[1]')\n",
        "next.click()\n",
        "\n",
        "inputid = driver.find_element(By.ID, 'loginId--1')\n",
        "inputpwd = driver.find_element(By.ID, 'password--2')\n",
        "\n",
        "time.sleep(5)\n",
        "\n",
        "inputid.send_keys('id')\n",
        "inputpwd.send_keys('pwd')\n",
        "\n",
        "login = driver.find_element(By.CLASS_NAME, 'btn_g.highlight.submit') # 여백 '.' 으로 바꾸기\n",
        "print(login.text)\n",
        "login.click()\n",
        "\n",
        "# 실행 후 스마트폰에서 인증하기."
      ],
      "metadata": {
        "id": "PMbXbyOosL8L"
      },
      "execution_count": null,
      "outputs": []
    },
    {
      "cell_type": "code",
      "source": [
        "spandaum = driver.find_element(By.CSS_SELECTOR, '#mArticle > div.feature_tmp > div.login_tmp.login_my.login_master > ul > li:nth-child(1) > a')\n",
        "print(spandaum.text)\n",
        "print(spandaum.get_attribute('class'))\n",
        "spandaum.click()\n",
        "\n",
        "time.sleep(5)\n",
        "\n",
        "mail_subject_list = driver.find_elements(By.CSS_SELECTOR, '#mailList > div > ul > li')\n",
        "for subject in mail_subject_list:\n",
        "  print(subject.text)"
      ],
      "metadata": {
        "id": "Y_hjLk1DwXLO"
      },
      "execution_count": null,
      "outputs": []
    },
    {
      "cell_type": "code",
      "source": [
        "driver.quit()"
      ],
      "metadata": {
        "id": "YeyT67VGwaBt"
      },
      "execution_count": null,
      "outputs": []
    },
    {
      "cell_type": "markdown",
      "source": [
        "## iframe 이동 작업"
      ],
      "metadata": {
        "id": "buP0SCwJ_zk3"
      }
    },
    {
      "cell_type": "code",
      "source": [
        "!pwd"
      ],
      "metadata": {
        "colab": {
          "base_uri": "https://localhost:8080/"
        },
        "id": "O9k7A2KJ_2jO",
        "outputId": "3e61bcbd-7b28-44e6-cb0c-a2cced6a2b64"
      },
      "execution_count": null,
      "outputs": [
        {
          "output_type": "stream",
          "name": "stdout",
          "text": [
            "/content/drive/MyDrive/ai_chat_python\n"
          ]
        }
      ]
    },
    {
      "cell_type": "code",
      "source": [
        "%cd ./source"
      ],
      "metadata": {
        "colab": {
          "base_uri": "https://localhost:8080/"
        },
        "id": "nw1eX5Bf_4ca",
        "outputId": "f26d5c01-7941-48bb-fef3-6bdcadf5e720"
      },
      "execution_count": null,
      "outputs": [
        {
          "output_type": "stream",
          "name": "stdout",
          "text": [
            "/content/drive/MyDrive/ai_chat_python/source\n"
          ]
        }
      ]
    },
    {
      "cell_type": "code",
      "source": [
        "%%writefile ./inner.html\n",
        "<html>\n",
        " <body>\n",
        "   <p class=\"ik1\">inner1</p>\n",
        "   <p class=\"ik2\">inner2</p>\n",
        "   <p class=\"ik3\">inner3</p>\n",
        " </body>\n",
        "</html>"
      ],
      "metadata": {
        "colab": {
          "base_uri": "https://localhost:8080/"
        },
        "id": "xS3DFouhA9F6",
        "outputId": "71007ba3-06c6-4b4d-aaf2-bbc4b3e375d8"
      },
      "execution_count": null,
      "outputs": [
        {
          "output_type": "stream",
          "name": "stdout",
          "text": [
            "Writing ./inner.html\n"
          ]
        }
      ]
    },
    {
      "cell_type": "code",
      "source": [
        "%%writefile ./home.html\n",
        "<html>\n",
        " <body id=\"wrap\">\n",
        "   <p>hello!</p>\n",
        "   <iframe name=\"inner\" src=\"inner.html\"></iframe>\n",
        " </body>\n",
        "</html>"
      ],
      "metadata": {
        "colab": {
          "base_uri": "https://localhost:8080/"
        },
        "id": "50DsXSlyBXTZ",
        "outputId": "feeb76b4-ab99-4166-94b1-24fcb5c697f0"
      },
      "execution_count": null,
      "outputs": [
        {
          "output_type": "stream",
          "name": "stdout",
          "text": [
            "Overwriting ./home.html\n"
          ]
        }
      ]
    },
    {
      "cell_type": "code",
      "source": [
        "%ls"
      ],
      "metadata": {
        "colab": {
          "base_uri": "https://localhost:8080/"
        },
        "id": "e4DL6fwqB5Jk",
        "outputId": "67a08966-1e7a-4fa6-d32b-3797a3a74574"
      },
      "execution_count": null,
      "outputs": [
        {
          "output_type": "stream",
          "name": "stdout",
          "text": [
            "'2023-11-28 05:47:1701150466-hollys.csv'    friends101.txt        news.xlsx\n",
            "'2023-11-28 06:15:1701152154-weather.csv'   hollys_collector.py   num.txt\n",
            "'2023-11-28 06:15:1701152155-weather.csv'   hollys.csv            sample.txt\n",
            "'2023-11-28 06:18:1701152283-weather.csv'   home.html             score.txt\n",
            "'2023-11-28 06:19:1701152379-weather.csv'   inner.html            test.txt\n",
            " cycle.json                                 input.txt             weather.py\n",
            " data.txt                                   jsondata.json        '공공데이터포털 key.txt'\n",
            " data_.txt                                  jumsu.txt             식당메뉴_출력결과.txt\n"
          ]
        }
      ]
    },
    {
      "cell_type": "code",
      "source": [
        "#Colab에선 웹브라우저 창이 뜨지 않으므로 별도 설정한다.\n",
        "service = Service(executable_path=r'/usr/bin/chromedriver')\n",
        "options = webdriver.ChromeOptions()\n",
        "options.add_argument('--headless') #headless모드 브라우저가 뜨지 않고 실행된다.\n",
        "options.add_argument('--no-sandbox')# 보안 기능 비활성화 (샌드박스라는 공간을 비활성화 시킨다는 뜻)\n",
        "options.add_argument('--disable-dev-shm-usage')# /dev/shm(공유메모리) 디렉토리를 사용하지 않는다는 뜻\n",
        "driver = webdriver.Chrome(service=service, options=options)"
      ],
      "metadata": {
        "id": "jFrmQnhYB8V8"
      },
      "execution_count": null,
      "outputs": []
    },
    {
      "cell_type": "code",
      "source": [
        "!pwd"
      ],
      "metadata": {
        "colab": {
          "base_uri": "https://localhost:8080/"
        },
        "id": "UqTHeSPiCMq8",
        "outputId": "2ee30c8c-2953-4e76-8f46-f80040dc6cdc"
      },
      "execution_count": null,
      "outputs": [
        {
          "output_type": "stream",
          "name": "stdout",
          "text": [
            "/content/drive/MyDrive/ai_chat_python/source\n"
          ]
        }
      ]
    },
    {
      "cell_type": "code",
      "source": [
        "url = 'file:///content/drive/MyDrive/ai_chat_python/source/home.html'\n",
        "driver.get(url)\n",
        "\n",
        "print(driver.page_source)\n",
        "\n",
        "wrap_id = driver.find_element(By.ID, 'wrap')\n",
        "print(wrap_id.text)\n",
        "\n",
        "# focus 이동 : main.html -> inner.html\n",
        "driver.switch_to.frame('inner')\n",
        "\n",
        "ik1 = driver.find_element(By.CLASS_NAME, 'ik1')\n",
        "print(ik1.text)\n",
        "\n",
        "# focus 이동 : inner.html -> main.html\n",
        "driver.switch_to.parent_frame()\n",
        "\n",
        "wrap_id = driver.find_element(By.ID, 'wrap')\n",
        "print(wrap_id.text)"
      ],
      "metadata": {
        "colab": {
          "base_uri": "https://localhost:8080/"
        },
        "id": "6HygCxj9CzPN",
        "outputId": "f869e8ae-098f-447a-8530-279b8d0061ec"
      },
      "execution_count": null,
      "outputs": [
        {
          "output_type": "stream",
          "name": "stdout",
          "text": [
            "<html><head></head><body id=\"wrap\">\n",
            "   <p>hello!</p>\n",
            "   <iframe name=\"inner\" src=\"inner.html\"></iframe>\n",
            " \n",
            "\n",
            "</body></html>\n",
            "hello!\n",
            "inner1\n",
            "hello!\n"
          ]
        }
      ]
    }
  ]
}