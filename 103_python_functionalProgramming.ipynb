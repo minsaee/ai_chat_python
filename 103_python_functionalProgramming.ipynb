{
  "nbformat": 4,
  "nbformat_minor": 0,
  "metadata": {
    "colab": {
      "provenance": [],
      "authorship_tag": "ABX9TyN5hu05R33RTZLNsYHJIDRN",
      "include_colab_link": true
    },
    "kernelspec": {
      "name": "python3",
      "display_name": "Python 3"
    },
    "language_info": {
      "name": "python"
    }
  },
  "cells": [
    {
      "cell_type": "markdown",
      "metadata": {
        "id": "view-in-github",
        "colab_type": "text"
      },
      "source": [
        "<a href=\"https://colab.research.google.com/github/minsaee/python_demo/blob/master/103_python_functionalProgramming.ipynb\" target=\"_parent\"><img src=\"https://colab.research.google.com/assets/colab-badge.svg\" alt=\"Open In Colab\"/></a>"
      ]
    },
    {
      "cell_type": "markdown",
      "source": [
        "## 함수형 프로그래밍(functional programming)\n",
        "### 함수(function)\n",
        "1. program 관점\n",
        " - 재사용을 위해서 encapsulation한 것\n",
        "2. math 관점\n",
        " - 정의역의 원소들을 공역의 원소로 사상시키는 것\n",
        "\n",
        "### functional programming\n",
        " - math와 program의 function개념의 차이를 최대한 줄여서 programming 하는 기법이다."
      ],
      "metadata": {
        "id": "63uXp65OvyR6"
      }
    },
    {
      "cell_type": "markdown",
      "source": [
        "함수형 프로그래밍은 함수를 수학적 함수로 그대로 정의한다.  \n",
        "f(x)g(x)h(x)   \n",
        "f(g(h(x)))  \n",
        " - 조건 : 함수를 수학적 함수 그대로 정의함. (문보다는 식선호)\n",
        " - loop문, mutable(global,nonlocal) 사용안함"
      ],
      "metadata": {
        "id": "hTkOJutexc-b"
      }
    },
    {
      "cell_type": "code",
      "source": [
        "# input(정의역)이 없으므로 수학적 관점에서 안좋은 함수\n",
        "\n",
        "def f():\n",
        "  return 1\n",
        "\n",
        "# output(공역)이 없으므로 수학적 관점에서 안좋은 함수\n",
        "\n",
        "def g(3):\n",
        "  print(3)"
      ],
      "metadata": {
        "id": "w0ja9NlOwQrr"
      },
      "execution_count": 5,
      "outputs": []
    },
    {
      "cell_type": "markdown",
      "source": [
        "functional programming은 함수를 수학적 함수처럼 사용하는 것이다."
      ],
      "metadata": {
        "id": "AhXGZXxvyb9K"
      }
    },
    {
      "cell_type": "code",
      "source": [
        "from operator import add, mul, sub"
      ],
      "metadata": {
        "id": "jNuCiaTky3tl"
      },
      "execution_count": 81,
      "outputs": []
    },
    {
      "cell_type": "code",
      "source": [
        "# 덧셈함수\n",
        "add(3,4) # -> 3 + 4 = 7\n",
        "\n",
        "# 곱셈함수\n",
        "mul(3,4) # -> 3 * 4 = 12\n",
        "\n",
        "# 뺄셈함수\n",
        "sub(3,4) # -> 3 - 4 = -1\n",
        "\n",
        "# 합성함수\n",
        "add(3, mul(3, 4)) # -> 3 + 3 * 4 = 15"
      ],
      "metadata": {
        "colab": {
          "base_uri": "https://localhost:8080/"
        },
        "id": "oIoy3FNOy-25",
        "outputId": "cc0a5b45-ff66-44d8-b45f-1e8611f9d01f"
      },
      "execution_count": 14,
      "outputs": [
        {
          "output_type": "execute_result",
          "data": {
            "text/plain": [
              "15"
            ]
          },
          "metadata": {},
          "execution_count": 14
        }
      ]
    },
    {
      "cell_type": "markdown",
      "source": [
        "## 순수함수 (pure function) & 부수효과 (side effect)\n",
        " - 순수함수 : 동일한 입력 값에 항상 동일한 출력값을 나타냄\n",
        " - 부수효과 : 리턴값으로 결과를 만드는 것 외에 들어온 값을 직접 변경하는 등 외부에 영향을 주는 것"
      ],
      "metadata": {
        "id": "KPAmyAtzza8a"
      }
    },
    {
      "cell_type": "code",
      "source": [
        "# 비순수함수\n",
        "# 매개변수 값을 변경하므로 순수함수가 아니다.\n",
        "\n",
        "def func(a):\n",
        "  a.append(3)\n",
        "  a.append(4)\n",
        "  return a\n",
        "\n",
        "x = [1,2]\n",
        "func(x)"
      ],
      "metadata": {
        "colab": {
          "base_uri": "https://localhost:8080/"
        },
        "id": "jwxhFNM71Asl",
        "outputId": "77d9495d-aa04-42b5-870a-4ad9df2f9776"
      },
      "execution_count": 22,
      "outputs": [
        {
          "output_type": "execute_result",
          "data": {
            "text/plain": [
              "[1, 2, 3, 4]"
            ]
          },
          "metadata": {},
          "execution_count": 22
        }
      ]
    },
    {
      "cell_type": "code",
      "source": [
        "# 비순수함수\n",
        "# c의 값이 달라지면 결괏값도 달라지므로 순수함수가 아니다.\n",
        "c = 10\n",
        "def func(a,b):\n",
        "  return a+b+c\n",
        "\n",
        "func(1,2)"
      ],
      "metadata": {
        "colab": {
          "base_uri": "https://localhost:8080/"
        },
        "id": "foUl9Rth1a5Z",
        "outputId": "dda9dfe8-644b-4a2a-95cf-5e877f2d432c"
      },
      "execution_count": 27,
      "outputs": [
        {
          "output_type": "execute_result",
          "data": {
            "text/plain": [
              "13"
            ]
          },
          "metadata": {},
          "execution_count": 27
        }
      ]
    },
    {
      "cell_type": "code",
      "source": [
        "# 비순수함수\n",
        "# dict의 상태를 변경시키므로 순수함수가 아니다.\n",
        "# 리턴값이 없으므로 순수함수가 아니다.\n",
        "\n",
        "obj = {'x':10}\n",
        "def func(obj, b):\n",
        "  obj[\"x\"] += b\n",
        "\n",
        "func(obj, 3)\n",
        "print(obj)"
      ],
      "metadata": {
        "colab": {
          "base_uri": "https://localhost:8080/"
        },
        "id": "59ZgQD2h1sls",
        "outputId": "8d46c108-6b88-4f20-972a-386f486fea06"
      },
      "execution_count": 31,
      "outputs": [
        {
          "output_type": "stream",
          "name": "stdout",
          "text": [
            "{'x': 13}\n"
          ]
        }
      ]
    },
    {
      "cell_type": "code",
      "source": [
        "# 순수함수\n",
        "# 동일한 입력값에 항상 동일한 출력값을 나타낸다.\n",
        "\n",
        "def func(a, b):\n",
        "  return a+b\n",
        "\n",
        "func(5,6)"
      ],
      "metadata": {
        "colab": {
          "base_uri": "https://localhost:8080/"
        },
        "id": "k9Pda6_B2rsy",
        "outputId": "bf2d5982-7885-46cf-f66b-ddbb059d6a85"
      },
      "execution_count": 32,
      "outputs": [
        {
          "output_type": "execute_result",
          "data": {
            "text/plain": [
              "11"
            ]
          },
          "metadata": {},
          "execution_count": 32
        }
      ]
    },
    {
      "cell_type": "code",
      "source": [
        "# 순수함수\n",
        "\n",
        "def func(a):\n",
        "  b = a**2\n",
        "  c = a+b\n",
        "  return c\n",
        "\n",
        "func(3)"
      ],
      "metadata": {
        "colab": {
          "base_uri": "https://localhost:8080/"
        },
        "id": "FL9EP1ph3FL7",
        "outputId": "b490e85f-7aae-4d75-db9e-c6fccdf585e2"
      },
      "execution_count": 35,
      "outputs": [
        {
          "output_type": "execute_result",
          "data": {
            "text/plain": [
              "12"
            ]
          },
          "metadata": {},
          "execution_count": 35
        }
      ]
    },
    {
      "cell_type": "markdown",
      "source": [
        "## 합성함수(function compositon)\n",
        " - 둘 이상의 함수를 조합한 함수이다."
      ],
      "metadata": {
        "id": "H8OvCKn8646c"
      }
    },
    {
      "cell_type": "code",
      "source": [
        "def bdd (a, b):\n",
        "  return (a + b)\n",
        "\n",
        "def square(x):\n",
        "  return x*x\n",
        "\n",
        "def func(s):\n",
        "  return s + 10\n",
        "\n",
        "func(square(bdd(3,5)))"
      ],
      "metadata": {
        "colab": {
          "base_uri": "https://localhost:8080/"
        },
        "id": "gg34axqM7Dmq",
        "outputId": "a221e54d-45f4-4fa0-c3c3-85350508bfa8"
      },
      "execution_count": 39,
      "outputs": [
        {
          "output_type": "execute_result",
          "data": {
            "text/plain": [
              "74"
            ]
          },
          "metadata": {},
          "execution_count": 39
        }
      ]
    },
    {
      "cell_type": "markdown",
      "source": [
        "### lambda\n",
        " - 람다표현식(lambda expression)\n",
        " - 람다는 식으로 되어있다.\n",
        " - 함수를 간편하게 작성할 수 있다.\n",
        " - 다른 함수의 인수로 넣을 때 주로 사용된다.\n",
        " - 람다는 이름이 없어 익명함수를 만들 때 사용된다.\n",
        " - lambda parameter_1, parameter_2 : expression"
      ],
      "metadata": {
        "id": "urP2SARI74TV"
      }
    },
    {
      "cell_type": "code",
      "source": [
        "anc = lambda a, b : a+b\n",
        "\n",
        "# def x(a, b):\n",
        "#  return a + b\n",
        "\n",
        "anc.__name__ # -> <lambda>"
      ],
      "metadata": {
        "colab": {
          "base_uri": "https://localhost:8080/",
          "height": 35
        },
        "id": "BQyFIEUQ8hSC",
        "outputId": "13a30a8f-e39b-44ac-c1fc-a982e15abb0d"
      },
      "execution_count": 44,
      "outputs": [
        {
          "output_type": "execute_result",
          "data": {
            "text/plain": [
              "'<lambda>'"
            ],
            "application/vnd.google.colaboratory.intrinsic+json": {
              "type": "string"
            }
          },
          "metadata": {},
          "execution_count": 44
        }
      ]
    },
    {
      "cell_type": "markdown",
      "source": [
        "1. 일반함수와 람다함수"
      ],
      "metadata": {
        "id": "iVXCq_MI9yqo"
      }
    },
    {
      "cell_type": "code",
      "source": [
        "# 일반함수\n",
        "\n",
        "def plus_ten(x):\n",
        "  return x + 10\n",
        "\n",
        "plus_ten(3)"
      ],
      "metadata": {
        "colab": {
          "base_uri": "https://localhost:8080/"
        },
        "id": "I3A-Wd2T8yQq",
        "outputId": "e52448fc-0ed6-4604-f6d1-44f32e8cd0b4"
      },
      "execution_count": 46,
      "outputs": [
        {
          "output_type": "execute_result",
          "data": {
            "text/plain": [
              "13"
            ]
          },
          "metadata": {},
          "execution_count": 46
        }
      ]
    },
    {
      "cell_type": "code",
      "source": [
        "# 람다표현식\n",
        "\n",
        "plus_ten2 = lambda x : x+10\n",
        "\n",
        "plus_ten2(3)"
      ],
      "metadata": {
        "colab": {
          "base_uri": "https://localhost:8080/"
        },
        "id": "T2AThsBa-Bvq",
        "outputId": "866182b5-d311-4e33-9782-84304b07493f"
      },
      "execution_count": 48,
      "outputs": [
        {
          "output_type": "execute_result",
          "data": {
            "text/plain": [
              "13"
            ]
          },
          "metadata": {},
          "execution_count": 48
        }
      ]
    },
    {
      "cell_type": "markdown",
      "source": [
        "2. 람다표현식 자체를 호출하기\n",
        " - (lambda parameter : expression)(agument)"
      ],
      "metadata": {
        "id": "vNW7u4QU-nW-"
      }
    },
    {
      "cell_type": "code",
      "source": [
        "(lambda x:x+10)(3)"
      ],
      "metadata": {
        "colab": {
          "base_uri": "https://localhost:8080/"
        },
        "id": "XeplUwGJ-qsQ",
        "outputId": "34cb22f6-f05e-44fe-f830-d6557c79a74d"
      },
      "execution_count": 49,
      "outputs": [
        {
          "output_type": "execute_result",
          "data": {
            "text/plain": [
              "13"
            ]
          },
          "metadata": {},
          "execution_count": 49
        }
      ]
    },
    {
      "cell_type": "markdown",
      "source": [
        "3. 람다표현식 외부에 있는 변수를 사용할 수 있다."
      ],
      "metadata": {
        "id": "dNLftl8P_UOC"
      }
    },
    {
      "cell_type": "code",
      "source": [
        "y = 3\n",
        "(lambda x : x + y)(5)"
      ],
      "metadata": {
        "colab": {
          "base_uri": "https://localhost:8080/"
        },
        "id": "728L3X1I_Y2x",
        "outputId": "8329d8b0-77e5-4f93-c189-233ccc696fea"
      },
      "execution_count": 55,
      "outputs": [
        {
          "output_type": "execute_result",
          "data": {
            "text/plain": [
              "8"
            ]
          },
          "metadata": {},
          "execution_count": 55
        }
      ]
    },
    {
      "cell_type": "markdown",
      "source": [
        "4. 람다표현식으로 매개변수가 없는 함수 만들기\n",
        " - 매개변수들은 생략할 수 있다.\n",
        " - ':'뒤의 표현식은 생략할 수 없다."
      ],
      "metadata": {
        "id": "Q_14QW1R_2vo"
      }
    },
    {
      "cell_type": "code",
      "source": [
        "(lambda : 1)()"
      ],
      "metadata": {
        "colab": {
          "base_uri": "https://localhost:8080/"
        },
        "id": "ZNYoW72zAIoE",
        "outputId": "d42178c9-2589-44fb-8651-068a7a9e1dd3"
      },
      "execution_count": 56,
      "outputs": [
        {
          "output_type": "execute_result",
          "data": {
            "text/plain": [
              "1"
            ]
          },
          "metadata": {},
          "execution_count": 56
        }
      ]
    },
    {
      "cell_type": "markdown",
      "source": [
        "5. 람다표현식을 인수(argument)로 사용하기\n",
        " - map(), filter(), reduce() 함수에 람다를 인수로 사용하면 간단하게 함수 사용이 가능하다."
      ],
      "metadata": {
        "id": "lcVtLMNeARSh"
      }
    },
    {
      "cell_type": "code",
      "source": [
        "def plus(x):\n",
        "  return x + 10\n",
        "\n",
        "# map(func, arguemnet)\n",
        "\n",
        "list(map(plus, [1,2,3]))"
      ],
      "metadata": {
        "id": "2pnLT1jNAsYj"
      },
      "execution_count": 57,
      "outputs": []
    },
    {
      "cell_type": "code",
      "source": [
        "# 다른함수에 람다를 인용함수로 사용하기.\n",
        "\n",
        "list(map(lambda x : x + 10, [1,2,3]))"
      ],
      "metadata": {
        "colab": {
          "base_uri": "https://localhost:8080/"
        },
        "id": "sjy3qmAsCzcA",
        "outputId": "2cb1c32f-0626-4c3d-d920-6ac54595e09e"
      },
      "execution_count": 61,
      "outputs": [
        {
          "output_type": "execute_result",
          "data": {
            "text/plain": [
              "[11, 12, 13]"
            ]
          },
          "metadata": {},
          "execution_count": 61
        }
      ]
    },
    {
      "cell_type": "code",
      "source": [
        "a = [1, 2, 3, 4, 5, 5]\n",
        "b = [5, 6, 7, 8]\n",
        "\n",
        "list(map(lambda x, y : x + y, a, b + [5, 5]))"
      ],
      "metadata": {
        "colab": {
          "base_uri": "https://localhost:8080/"
        },
        "id": "ItakcDlwDWuJ",
        "outputId": "765f9ae4-8f95-4cde-ecf3-b537d030ca83"
      },
      "execution_count": 71,
      "outputs": [
        {
          "output_type": "execute_result",
          "data": {
            "text/plain": [
              "[6, 8, 10, 12, 10, 10]"
            ]
          },
          "metadata": {},
          "execution_count": 71
        }
      ]
    },
    {
      "cell_type": "markdown",
      "source": [
        "filter(function, iterable)\n",
        " - filter는 iterable에서 function을 적용해도 True이면 남기고, False이면 제거하는 함수이다."
      ],
      "metadata": {
        "id": "wD1qDodoELgg"
      }
    },
    {
      "cell_type": "code",
      "source": [
        "a = [1, 2, 3, 4, 5, 6, 7, 8]\n",
        "list(filter(lambda x : x%2==0, a))"
      ],
      "metadata": {
        "colab": {
          "base_uri": "https://localhost:8080/"
        },
        "id": "EgdurVzwFDmE",
        "outputId": "68f6f514-5c53-4239-c6be-d7920e4b9a7b"
      },
      "execution_count": 74,
      "outputs": [
        {
          "output_type": "execute_result",
          "data": {
            "text/plain": [
              "[2, 4, 6, 8]"
            ]
          },
          "metadata": {},
          "execution_count": 74
        }
      ]
    },
    {
      "cell_type": "markdown",
      "source": [
        "reduce(function, iterable)\n",
        " - reduce는 첫 인수 함수의 결과가 누적으로 적용된다."
      ],
      "metadata": {
        "id": "fVOwuZoII1bR"
      }
    },
    {
      "cell_type": "code",
      "source": [
        "from functools import reduce"
      ],
      "metadata": {
        "id": "Uur1BsYLJX_-"
      },
      "execution_count": 77,
      "outputs": []
    },
    {
      "cell_type": "code",
      "source": [
        "reduce(lambda x, total : x + total, [1, 2, 3, 4])"
      ],
      "metadata": {
        "colab": {
          "base_uri": "https://localhost:8080/"
        },
        "id": "2AHugaZ6JDBc",
        "outputId": "9d016a47-ef97-464b-94c6-e550c13f202d"
      },
      "execution_count": 78,
      "outputs": [
        {
          "output_type": "execute_result",
          "data": {
            "text/plain": [
              "10"
            ]
          },
          "metadata": {},
          "execution_count": 78
        }
      ]
    },
    {
      "cell_type": "code",
      "source": [
        "reduce(add,[1,2,3,4])"
      ],
      "metadata": {
        "colab": {
          "base_uri": "https://localhost:8080/"
        },
        "id": "dKt-PV-dKJog",
        "outputId": "05a685b5-31cb-4f4d-ecac-c48008dcdad6"
      },
      "execution_count": 83,
      "outputs": [
        {
          "output_type": "execute_result",
          "data": {
            "text/plain": [
              "10"
            ]
          },
          "metadata": {},
          "execution_count": 83
        }
      ]
    },
    {
      "cell_type": "code",
      "source": [
        "reduce(lambda x , total : x * total, [1,2,3,4])"
      ],
      "metadata": {
        "colab": {
          "base_uri": "https://localhost:8080/"
        },
        "id": "vCTPbOwTKZ-v",
        "outputId": "d4491fda-bf04-4c82-ad08-7bf1b74eefbe"
      },
      "execution_count": 85,
      "outputs": [
        {
          "output_type": "execute_result",
          "data": {
            "text/plain": [
              "24"
            ]
          },
          "metadata": {},
          "execution_count": 85
        }
      ]
    },
    {
      "cell_type": "code",
      "source": [
        "reduce(mul,[1,2,3,4])"
      ],
      "metadata": {
        "colab": {
          "base_uri": "https://localhost:8080/"
        },
        "id": "QRz_j0FUKu9d",
        "outputId": "f286a491-5919-4f7c-988d-e17c1671c804"
      },
      "execution_count": 88,
      "outputs": [
        {
          "output_type": "execute_result",
          "data": {
            "text/plain": [
              "24"
            ]
          },
          "metadata": {},
          "execution_count": 88
        }
      ]
    },
    {
      "cell_type": "markdown",
      "source": [
        "## 고차함수(higher order function)\n",
        " - 함수를 변수나 자료구조의 값으로 사용할 수 있다.\n",
        " - 함수를 인자에서 받을 수 있다.\n",
        " - 함수를 리턴할 수 있다.\n",
        " - map, filter, reduce는 함수형 프로그래밍에서 자주 사용되는 고차원 함수이다.\n",
        " - reduce는 functools모듈을 import해서 사용한다\n",
        "---\n",
        " ### 일급객체 (first class object)\n",
        "  - 변수의 할당이 가능해야 한다.\n",
        "  - 다른 함수의 인자로 전달 가능해야 한다.\n",
        "  - 다른 함수의 결과로써 리턴이 가능해야 한다.\n",
        "---   \n",
        "**python은 일급객체이므로 고차함수를 사용할 수 있다.**"
      ],
      "metadata": {
        "id": "Ftr_M2mYLyJr"
      }
    },
    {
      "cell_type": "code",
      "source": [
        "def ss():\n",
        "  return 3\n",
        "\n",
        "def display(a):\n",
        "  return a\n",
        "\n",
        "# 고차함수가 아닌 경우 -> ss()를 넘겨줌.\n",
        "display(ss())\n",
        "\n",
        "# 고차함수인 경우\n",
        "k = display(ss) # -> <function __main__.ss()>\n",
        "k()\n",
        "\n",
        "display(ss)()"
      ],
      "metadata": {
        "colab": {
          "base_uri": "https://localhost:8080/"
        },
        "id": "2qpKrRozLMff",
        "outputId": "aa10018a-f76f-4737-8dba-d76ae8b27f21"
      },
      "execution_count": 105,
      "outputs": [
        {
          "output_type": "execute_result",
          "data": {
            "text/plain": [
              "3"
            ]
          },
          "metadata": {},
          "execution_count": 105
        }
      ]
    },
    {
      "cell_type": "markdown",
      "source": [
        "## callback(콜백)\n",
        " - 함수의 인자에 다른 함수를 받는 것을 콜백함수라 한다."
      ],
      "metadata": {
        "id": "K7QClYjEQxyd"
      }
    },
    {
      "cell_type": "code",
      "source": [
        "def pluss(callback):\n",
        "  callback()"
      ],
      "metadata": {
        "id": "ksKj3i25RJSz"
      },
      "execution_count": 112,
      "outputs": []
    },
    {
      "cell_type": "code",
      "source": [
        "def display():\n",
        "  print('display')"
      ],
      "metadata": {
        "id": "j8weJ8LSRO7b"
      },
      "execution_count": 109,
      "outputs": []
    },
    {
      "cell_type": "code",
      "source": [
        "pluss(display)"
      ],
      "metadata": {
        "colab": {
          "base_uri": "https://localhost:8080/"
        },
        "id": "fboudDNFRipY",
        "outputId": "d958f46b-f89e-4b72-9d02-f63d029edd5c"
      },
      "execution_count": 113,
      "outputs": [
        {
          "output_type": "stream",
          "name": "stdout",
          "text": [
            "display\n"
          ]
        }
      ]
    },
    {
      "cell_type": "markdown",
      "source": [
        "\n",
        "## closure(클로저)\n",
        " - 함수의 중첩 : 함수 안에 함수를 정의할 수 있다.\n",
        " - 함수를 중첩해서 사용하는 기법이다.\n",
        " - 함수를 정의할 때 output함수는 inner함수를 return한다.\n",
        " - inner함수에서는 outer함수의 자원을 사용한다."
      ],
      "metadata": {
        "id": "xVSfpHa4R_Qo"
      }
    },
    {
      "cell_type": "code",
      "source": [
        "# 고차함수\n",
        "\n",
        "def t(a):\n",
        "  def x():\n",
        "    return a + 1\n",
        "  return x\n",
        "\n",
        "p = t(3)\n",
        "p()\n",
        "\n",
        "t(3)()"
      ],
      "metadata": {
        "colab": {
          "base_uri": "https://localhost:8080/"
        },
        "id": "sxNl4foTSY3l",
        "outputId": "02692069-85cb-48aa-c017-d1bc93732d61"
      },
      "execution_count": 125,
      "outputs": [
        {
          "output_type": "execute_result",
          "data": {
            "text/plain": [
              "4"
            ]
          },
          "metadata": {},
          "execution_count": 125
        }
      ]
    },
    {
      "cell_type": "code",
      "source": [
        "# 클로저\n",
        "\n",
        "def outer(isShow):\n",
        "  def inner():\n",
        "    return not isShow\n",
        "  return inner\n",
        "\n",
        "k = outer(True)\n",
        "k()"
      ],
      "metadata": {
        "colab": {
          "base_uri": "https://localhost:8080/"
        },
        "id": "p2wN5fkZXF3U",
        "outputId": "574b11ab-5934-4852-e5b8-2ed9e20a2c54"
      },
      "execution_count": 140,
      "outputs": [
        {
          "output_type": "execute_result",
          "data": {
            "text/plain": [
              "False"
            ]
          },
          "metadata": {},
          "execution_count": 140
        }
      ]
    },
    {
      "cell_type": "code",
      "source": [
        "def outer(m):\n",
        "  def inner(n):\n",
        "    return m+n\n",
        "  return inner\n",
        "\n",
        "outer(3)(4)"
      ],
      "metadata": {
        "colab": {
          "base_uri": "https://localhost:8080/"
        },
        "id": "q8vOf7fLY95m",
        "outputId": "25a210a8-c4a4-4602-a231-eb9dcdfb53fa"
      },
      "execution_count": 143,
      "outputs": [
        {
          "output_type": "execute_result",
          "data": {
            "text/plain": [
              "7"
            ]
          },
          "metadata": {},
          "execution_count": 143
        }
      ]
    }
  ]
}